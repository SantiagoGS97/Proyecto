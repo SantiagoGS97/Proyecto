{
 "cells": [
  {
   "cell_type": "markdown",
   "metadata": {},
   "source": [
    "### **Librerias**"
   ]
  },
  {
   "cell_type": "code",
   "execution_count": 1,
   "metadata": {},
   "outputs": [
    {
     "name": "stderr",
     "output_type": "stream",
     "text": [
      "C:\\Users\\PC\\AppData\\Local\\Temp\\ipykernel_24088\\427109125.py:1: DeprecationWarning: \n",
      "Pyarrow will become a required dependency of pandas in the next major release of pandas (pandas 3.0),\n",
      "(to allow more performant data types, such as the Arrow string type, and better interoperability with other libraries)\n",
      "but was not found to be installed on your system.\n",
      "If this would cause problems for you,\n",
      "please provide us feedback at https://github.com/pandas-dev/pandas/issues/54466\n",
      "        \n",
      "  import pandas as pd\n"
     ]
    }
   ],
   "source": [
    "import pandas as pd\n",
    "import numpy as np\n",
    "pd.options.display.max_rows = 20"
   ]
  },
  {
   "cell_type": "markdown",
   "metadata": {},
   "source": [
    "## **Etapa 0: Crear Data Set**"
   ]
  },
  {
   "cell_type": "markdown",
   "metadata": {},
   "source": [
    "### PIB"
   ]
  },
  {
   "cell_type": "code",
   "execution_count": 2,
   "metadata": {},
   "outputs": [
    {
     "data": {
      "text/plain": [
       "(4410, 11)"
      ]
     },
     "execution_count": 2,
     "metadata": {},
     "output_type": "execute_result"
    }
   ],
   "source": [
    "PIB = pd.read_csv('./Datos/PIB.csv', sep=',',encoding='latin-1')\n",
    "PIB = PIB[(PIB['year']>=2000) & (PIB['year']<=2020)]\n",
    "PIB['year'] = PIB['year'].astype('int')\n",
    "PIB['key'] = [(str((PIB.iloc[i,4])).lower()+'-'+str(PIB.iloc[i,6])) for i in range(len(PIB['country_name']))]\n",
    "PIB = PIB.sort_values(by=['country_name'])\n",
    "PIB.shape"
   ]
  },
  {
   "cell_type": "markdown",
   "metadata": {},
   "source": [
    "### Complejidad Economica"
   ]
  },
  {
   "cell_type": "code",
   "execution_count": 3,
   "metadata": {},
   "outputs": [],
   "source": [
    "Data_ECI = pd.read_csv('./Datos/ECI_Data.csv',sep=',',encoding='latin-1')\n",
    "Data_ECI = Data_ECI.transpose()\n",
    "Data_ECI = Data_ECI[2:].transpose()\n",
    "Data_ECI.dropna(inplace=True)"
   ]
  },
  {
   "cell_type": "code",
   "execution_count": 4,
   "metadata": {},
   "outputs": [
    {
     "data": {
      "text/plain": [
       "(1953, 4)"
      ]
     },
     "execution_count": 4,
     "metadata": {},
     "output_type": "execute_result"
    }
   ],
   "source": [
    "complexity = []\n",
    "pais = []\n",
    "año = []\n",
    "for i in range(len(Data_ECI.iloc[:,:0])):\n",
    "    for j in range(len(Data_ECI.iloc[0,:-3])):\n",
    "        pais.append(Data_ECI.iloc[i,22])\n",
    "        año.append((Data_ECI.columns[j]))\n",
    "        complexity.append(Data_ECI.iloc[i,j])\n",
    "ECI = pd.DataFrame()\n",
    "ECI['Pais'] = pais\n",
    "ECI['ECI'] = complexity\n",
    "ECI['año'] = año\n",
    "ECI['año'] = ECI['año'].astype('int')\n",
    "ECI['key'] = [(str(ECI.iloc[i,0]).lower()+'-'+str(ECI.iloc[i,2])) for i in range(len(ECI['año']))]\n",
    "ECI = ECI.sort_values(by=['Pais'])\n",
    "ECI.shape"
   ]
  },
  {
   "cell_type": "markdown",
   "metadata": {},
   "source": [
    "### Poblacion"
   ]
  },
  {
   "cell_type": "code",
   "execution_count": 5,
   "metadata": {},
   "outputs": [],
   "source": [
    "Data_Poblacion = pd.read_csv('./Datos/Poblacion_Data.csv', sep=',',encoding='latin-1')\n",
    "Data_Poblacion.dropna(inplace=True)"
   ]
  },
  {
   "cell_type": "code",
   "execution_count": 6,
   "metadata": {},
   "outputs": [],
   "source": [
    "Poblacion = []\n",
    "pais_p = []\n",
    "año = []\n",
    "for i in range(len(Data_Poblacion.iloc[:,:0])):\n",
    "    for j in range(len(Data_Poblacion.iloc[0,4:-2])):\n",
    "        pais_p.append(Data_Poblacion.iloc[i,0])\n",
    "        año.append(int(Data_Poblacion.columns[j+4]))\n",
    "        Poblacion.append(Data_Poblacion.iloc[i,j+4])\n",
    "Population = pd.DataFrame()\n",
    "Population['Pais'] = pais_p\n",
    "Population['Poblacion'] = Poblacion\n",
    "Population['año'] = año\n",
    "Population['key'] = [(str(Population.iloc[i,0]).lower()+'-'+str(Population.iloc[i,2])) for i in range(len(Population['año']))]\n",
    "Population = Population.sort_values(by=['Pais'])"
   ]
  },
  {
   "cell_type": "markdown",
   "metadata": {},
   "source": [
    "### Region"
   ]
  },
  {
   "cell_type": "code",
   "execution_count": 7,
   "metadata": {},
   "outputs": [
    {
     "data": {
      "text/plain": [
       "(244, 4)"
      ]
     },
     "execution_count": 7,
     "metadata": {},
     "output_type": "execute_result"
    }
   ],
   "source": [
    "cordenada = pd.read_csv('./Datos/country-coord.csv', sep=',',encoding='latin-1')\n",
    "cordenada['country'] = [(str(cordenada.iloc[i,0]).lower()) for i in range(len(cordenada['Country']))]\n",
    "cordenada.shape"
   ]
  },
  {
   "cell_type": "code",
   "execution_count": 8,
   "metadata": {},
   "outputs": [
    {
     "data": {
      "text/plain": [
       "65.0"
      ]
     },
     "execution_count": 8,
     "metadata": {},
     "output_type": "execute_result"
    }
   ],
   "source": [
    "cordenada.iloc[0,2]"
   ]
  },
  {
   "cell_type": "code",
   "execution_count": 9,
   "metadata": {},
   "outputs": [],
   "source": [
    "cordenada['Ecuador'] = [1 if (cordenada.iloc[i,1]<=27 and cordenada.iloc[i,1]>=-27) else 0 for i in range(len(cordenada['country']))]"
   ]
  },
  {
   "cell_type": "markdown",
   "metadata": {},
   "source": [
    "### Union DataFrames"
   ]
  },
  {
   "cell_type": "code",
   "execution_count": 10,
   "metadata": {},
   "outputs": [],
   "source": [
    "Data_final = PIB.merge(Population,left_on='key',right_on='key').merge(ECI,left_on='key',right_on='key')\n",
    "Data_final = Data_final[['Pais_x', 'Poblacion', 'total_gdp_million','ECI','año_x']]\n",
    "Data_final['country'] = [(str(Data_final.iloc[i,0]).lower()) for i in range(len(Data_final['Pais_x']))]\n",
    "Data_final = pd.merge(Data_final, cordenada, on ='country', how ='inner')\n",
    "Data_final = Data_final[['Pais_x', 'Poblacion', 'total_gdp_million','ECI','año_x','Ecuador']]\n"
   ]
  }
 ],
 "metadata": {
  "kernelspec": {
   "display_name": "Python 3",
   "language": "python",
   "name": "python3"
  },
  "language_info": {
   "codemirror_mode": {
    "name": "ipython",
    "version": 3
   },
   "file_extension": ".py",
   "mimetype": "text/x-python",
   "name": "python",
   "nbconvert_exporter": "python",
   "pygments_lexer": "ipython3",
   "version": "3.10.11"
  }
 },
 "nbformat": 4,
 "nbformat_minor": 2
}
