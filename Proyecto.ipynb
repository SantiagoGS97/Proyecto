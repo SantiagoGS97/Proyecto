{
 "cells": [
  {
   "cell_type": "markdown",
   "metadata": {},
   "source": [
    "### **Librerias**"
   ]
  },
  {
   "cell_type": "code",
   "execution_count": 111,
   "metadata": {},
   "outputs": [],
   "source": [
    "import pandas as pd\n",
    "import numpy as np\n",
    "import matplotlib.pyplot as plt\n",
    "import seaborn as sns\n",
    "pd.options.display.max_rows = 20"
   ]
  },
  {
   "cell_type": "markdown",
   "metadata": {},
   "source": [
    "## **Etapa 0: Crear Data Set**"
   ]
  },
  {
   "cell_type": "markdown",
   "metadata": {},
   "source": [
    "### PIB"
   ]
  },
  {
   "cell_type": "code",
   "execution_count": 112,
   "metadata": {},
   "outputs": [
    {
     "data": {
      "text/plain": [
       "(4410, 11)"
      ]
     },
     "execution_count": 112,
     "metadata": {},
     "output_type": "execute_result"
    }
   ],
   "source": [
    "PIB = pd.read_csv('./Datos/PIB.csv', sep=',',encoding='latin-1')\n",
    "PIB = PIB[(PIB['year']>=2000) & (PIB['year']<=2020)]\n",
    "PIB['year'] = PIB['year'].astype('int')\n",
    "PIB['key'] = [(str((PIB.iloc[i,4])).lower()+'-'+str(PIB.iloc[i,6])) for i in range(len(PIB['country_name']))]\n",
    "PIB = PIB.sort_values(by=['country_name'])\n",
    "PIB.shape"
   ]
  },
  {
   "cell_type": "markdown",
   "metadata": {},
   "source": [
    "### Complejidad Economica"
   ]
  },
  {
   "cell_type": "code",
   "execution_count": 113,
   "metadata": {},
   "outputs": [],
   "source": [
    "Data_ECI = pd.read_csv('./Datos/ECI_Data.csv',sep=',',encoding='latin-1')\n",
    "Data_ECI = Data_ECI.transpose()\n",
    "Data_ECI = Data_ECI[2:].transpose()\n",
    "Data_ECI.dropna(inplace=True)"
   ]
  },
  {
   "cell_type": "code",
   "execution_count": 114,
   "metadata": {},
   "outputs": [
    {
     "data": {
      "text/plain": [
       "(1953, 4)"
      ]
     },
     "execution_count": 114,
     "metadata": {},
     "output_type": "execute_result"
    }
   ],
   "source": [
    "complexity = []\n",
    "pais = []\n",
    "año = []\n",
    "for i in range(len(Data_ECI.iloc[:,:0])):\n",
    "    for j in range(len(Data_ECI.iloc[0,:-3])):\n",
    "        pais.append(Data_ECI.iloc[i,22])\n",
    "        año.append((Data_ECI.columns[j]))\n",
    "        complexity.append(Data_ECI.iloc[i,j])\n",
    "ECI = pd.DataFrame()\n",
    "ECI['Pais'] = pais\n",
    "ECI['ECI'] = complexity\n",
    "ECI['año'] = año\n",
    "ECI['año'] = ECI['año'].astype('int')\n",
    "ECI['key'] = [(str(ECI.iloc[i,0]).lower()+'-'+str(ECI.iloc[i,2])) for i in range(len(ECI['año']))]\n",
    "ECI = ECI.sort_values(by=['Pais'])\n",
    "ECI.shape"
   ]
  },
  {
   "cell_type": "markdown",
   "metadata": {},
   "source": [
    "### Poblacion"
   ]
  },
  {
   "cell_type": "code",
   "execution_count": 115,
   "metadata": {},
   "outputs": [],
   "source": [
    "Data_Poblacion = pd.read_csv('./Datos/Poblacion_Data.csv', sep=',',encoding='latin-1')\n",
    "Data_Poblacion.dropna(inplace=True)"
   ]
  },
  {
   "cell_type": "code",
   "execution_count": 116,
   "metadata": {},
   "outputs": [],
   "source": [
    "Poblacion = []\n",
    "pais_p = []\n",
    "año = []\n",
    "for i in range(len(Data_Poblacion.iloc[:,:0])):\n",
    "    for j in range(len(Data_Poblacion.iloc[0,4:-2])):\n",
    "        pais_p.append(Data_Poblacion.iloc[i,0])\n",
    "        año.append(int(Data_Poblacion.columns[j+4]))\n",
    "        Poblacion.append(Data_Poblacion.iloc[i,j+4])\n",
    "Population = pd.DataFrame()\n",
    "Population['Pais'] = pais_p\n",
    "Population['Poblacion'] = Poblacion\n",
    "Population['año'] = año\n",
    "Population['key'] = [(str(Population.iloc[i,0]).lower()+'-'+str(Population.iloc[i,2])) for i in range(len(Population['año']))]\n",
    "Population = Population.sort_values(by=['Pais'])"
   ]
  },
  {
   "cell_type": "markdown",
   "metadata": {},
   "source": [
    "### Region"
   ]
  },
  {
   "cell_type": "code",
   "execution_count": 117,
   "metadata": {},
   "outputs": [
    {
     "data": {
      "text/plain": [
       "(244, 4)"
      ]
     },
     "execution_count": 117,
     "metadata": {},
     "output_type": "execute_result"
    }
   ],
   "source": [
    "cordenada = pd.read_csv('./Datos/country-coord.csv', sep=',',encoding='latin-1')\n",
    "cordenada['country'] = [(str(cordenada.iloc[i,0]).lower()) for i in range(len(cordenada['Country']))]\n",
    "cordenada.shape"
   ]
  },
  {
   "cell_type": "code",
   "execution_count": 118,
   "metadata": {},
   "outputs": [
    {
     "data": {
      "text/plain": [
       "65.0"
      ]
     },
     "execution_count": 118,
     "metadata": {},
     "output_type": "execute_result"
    }
   ],
   "source": [
    "cordenada.iloc[0,2]"
   ]
  },
  {
   "cell_type": "code",
   "execution_count": 119,
   "metadata": {},
   "outputs": [],
   "source": [
    "cordenada['Ecuador'] = [1 if (cordenada.iloc[i,1]<=27 and cordenada.iloc[i,1]>=-27) else 0 for i in range(len(cordenada['country']))]"
   ]
  },
  {
   "cell_type": "markdown",
   "metadata": {},
   "source": [
    "### Union DataFrames"
   ]
  },
  {
   "cell_type": "code",
   "execution_count": 120,
   "metadata": {},
   "outputs": [],
   "source": [
    "Data_final = PIB.merge(Population,left_on='key',right_on='key').merge(ECI,left_on='key',right_on='key')\n",
    "Data_final = Data_final[['Pais_x', 'Poblacion', 'total_gdp_million','ECI','año_x']]\n",
    "Data_final['country'] = [(str(Data_final.iloc[i,0]).lower()) for i in range(len(Data_final['Pais_x']))]\n",
    "Data_final = pd.merge(Data_final, cordenada, on ='country', how ='inner')\n",
    "Data_final = Data_final[['Pais_x', 'Poblacion', 'total_gdp_million','ECI','año_x','Ecuador']]\n"
   ]
  },
  {
   "cell_type": "markdown",
   "metadata": {},
   "source": [
    "## **Etapa 1: Entender los Datos**"
   ]
  },
  {
   "cell_type": "code",
   "execution_count": 121,
   "metadata": {},
   "outputs": [
    {
     "data": {
      "text/html": [
       "<div>\n",
       "<style scoped>\n",
       "    .dataframe tbody tr th:only-of-type {\n",
       "        vertical-align: middle;\n",
       "    }\n",
       "\n",
       "    .dataframe tbody tr th {\n",
       "        vertical-align: top;\n",
       "    }\n",
       "\n",
       "    .dataframe thead th {\n",
       "        text-align: right;\n",
       "    }\n",
       "</style>\n",
       "<table border=\"1\" class=\"dataframe\">\n",
       "  <thead>\n",
       "    <tr style=\"text-align: right;\">\n",
       "      <th></th>\n",
       "      <th>Pais_x</th>\n",
       "      <th>Poblacion</th>\n",
       "      <th>total_gdp_million</th>\n",
       "      <th>ECI</th>\n",
       "      <th>año_x</th>\n",
       "      <th>Ecuador</th>\n",
       "    </tr>\n",
       "  </thead>\n",
       "  <tbody>\n",
       "    <tr>\n",
       "      <th>0</th>\n",
       "      <td>Algeria</td>\n",
       "      <td>42705368.0</td>\n",
       "      <td>171767.40370</td>\n",
       "      <td>-1.042459</td>\n",
       "      <td>2019</td>\n",
       "      <td>0</td>\n",
       "    </tr>\n",
       "    <tr>\n",
       "      <th>1</th>\n",
       "      <td>Algeria</td>\n",
       "      <td>43451666.0</td>\n",
       "      <td>145009.18150</td>\n",
       "      <td>-1.206390</td>\n",
       "      <td>2020</td>\n",
       "      <td>0</td>\n",
       "    </tr>\n",
       "    <tr>\n",
       "      <th>2</th>\n",
       "      <td>Algeria</td>\n",
       "      <td>30774621.0</td>\n",
       "      <td>54790.39275</td>\n",
       "      <td>-1.064802</td>\n",
       "      <td>2000</td>\n",
       "      <td>0</td>\n",
       "    </tr>\n",
       "    <tr>\n",
       "      <th>3</th>\n",
       "      <td>Algeria</td>\n",
       "      <td>31200985.0</td>\n",
       "      <td>54744.71281</td>\n",
       "      <td>-0.804064</td>\n",
       "      <td>2001</td>\n",
       "      <td>0</td>\n",
       "    </tr>\n",
       "    <tr>\n",
       "      <th>4</th>\n",
       "      <td>Algeria</td>\n",
       "      <td>31624696.0</td>\n",
       "      <td>56760.35587</td>\n",
       "      <td>-0.994074</td>\n",
       "      <td>2002</td>\n",
       "      <td>0</td>\n",
       "    </tr>\n",
       "  </tbody>\n",
       "</table>\n",
       "</div>"
      ],
      "text/plain": [
       "    Pais_x   Poblacion  total_gdp_million       ECI  año_x  Ecuador\n",
       "0  Algeria  42705368.0       171767.40370 -1.042459   2019        0\n",
       "1  Algeria  43451666.0       145009.18150 -1.206390   2020        0\n",
       "2  Algeria  30774621.0        54790.39275 -1.064802   2000        0\n",
       "3  Algeria  31200985.0        54744.71281 -0.804064   2001        0\n",
       "4  Algeria  31624696.0        56760.35587 -0.994074   2002        0"
      ]
     },
     "execution_count": 121,
     "metadata": {},
     "output_type": "execute_result"
    }
   ],
   "source": [
    "Data_final.head(5)"
   ]
  },
  {
   "cell_type": "code",
   "execution_count": 122,
   "metadata": {},
   "outputs": [
    {
     "name": "stdout",
     "output_type": "stream",
     "text": [
      "<class 'pandas.core.frame.DataFrame'>\n",
      "RangeIndex: 1575 entries, 0 to 1574\n",
      "Data columns (total 6 columns):\n",
      " #   Column             Non-Null Count  Dtype  \n",
      "---  ------             --------------  -----  \n",
      " 0   Pais_x             1575 non-null   object \n",
      " 1   Poblacion          1575 non-null   float64\n",
      " 2   total_gdp_million  1575 non-null   float64\n",
      " 3   ECI                1575 non-null   float64\n",
      " 4   año_x              1575 non-null   int64  \n",
      " 5   Ecuador            1575 non-null   int64  \n",
      "dtypes: float64(3), int64(2), object(1)\n",
      "memory usage: 74.0+ KB\n"
     ]
    }
   ],
   "source": [
    "Data_final.info()"
   ]
  },
  {
   "cell_type": "code",
   "execution_count": 123,
   "metadata": {},
   "outputs": [],
   "source": [
    "def timeline(columna):\n",
    "    time = pd.pivot_table(Data_final,values=columna,columns=['año_x'],aggfunc='mean')\n",
    "    return time\n",
    "    "
   ]
  },
  {
   "cell_type": "code",
   "execution_count": 124,
   "metadata": {},
   "outputs": [
    {
     "name": "stderr",
     "output_type": "stream",
     "text": [
      "C:\\Users\\PC\\AppData\\Local\\Temp\\ipykernel_52236\\3716522708.py:3: UserWarning: set_ticklabels() should only be used with a fixed number of ticks, i.e. after set_ticks() or using a FixedLocator.\n",
      "  ax.set_xticklabels(ax.get_xticklabels(),rotation=45)\n"
     ]
    },
    {
     "data": {
      "image/png": "[encoded data removed]",
      "text/plain": [
       "<Figure size 500x500 with 1 Axes>"
      ]
     },
     "metadata": {},
     "output_type": "display_data"
    }
   ],
   "source": [
    "fig,ax = plt.subplots(1,sharex=True,figsize=(5,5))\n",
    "ax = sns.barplot(timeline('total_gdp_million'))\n",
    "ax.set_xticklabels(ax.get_xticklabels(),rotation=45)\n",
    "plt.title('POB en Millones de USD')\n",
    "plt.show()"
   ]
  },
  {
   "cell_type": "code",
   "execution_count": 125,
   "metadata": {},
   "outputs": [
    {
     "name": "stderr",
     "output_type": "stream",
     "text": [
      "C:\\Users\\PC\\AppData\\Local\\Temp\\ipykernel_52236\\1064075117.py:3: UserWarning: set_ticklabels() should only be used with a fixed number of ticks, i.e. after set_ticks() or using a FixedLocator.\n",
      "  ax.set_xticklabels(ax.get_xticklabels(),rotation=45)\n"
     ]
    },
    {
     "data": {
      "image/png": "[encoded data removed]",
      "text/plain": [
       "<Figure size 500x500 with 1 Axes>"
      ]
     },
     "metadata": {},
     "output_type": "display_data"
    }
   ],
   "source": [
    "fig,ax = plt.subplots(1,sharex=True,figsize=(5,5))\n",
    "ax = sns.barplot(timeline('ECI'))\n",
    "ax.set_xticklabels(ax.get_xticklabels(),rotation=45)\n",
    "plt.title('ECI')\n",
    "plt.show()"
   ]
  },
  {
   "cell_type": "code",
   "execution_count": 126,
   "metadata": {},
   "outputs": [
    {
     "name": "stderr",
     "output_type": "stream",
     "text": [
      "C:\\Users\\PC\\AppData\\Local\\Temp\\ipykernel_52236\\2662339452.py:3: UserWarning: set_ticklabels() should only be used with a fixed number of ticks, i.e. after set_ticks() or using a FixedLocator.\n",
      "  ax.set_xticklabels(ax.get_xticklabels(),rotation=45)\n"
     ]
    },
    {
     "data": {
      "image/png": "[encoded data removed]",
      "text/plain": [
       "<Figure size 500x500 with 1 Axes>"
      ]
     },
     "metadata": {},
     "output_type": "display_data"
    }
   ],
   "source": [
    "fig,ax = plt.subplots(1,sharex=True,figsize=(5, 5))\n",
    "ax = sns.barplot(timeline('Poblacion'))\n",
    "ax.set_xticklabels(ax.get_xticklabels(),rotation=45)\n",
    "plt.title('Poblacion')\n",
    "plt.show()"
   ]
  }
 ],
 "metadata": {
  "kernelspec": {
   "display_name": "Python 3",
   "language": "python",
   "name": "python3"
  },
  "language_info": {
   "codemirror_mode": {
    "name": "ipython",
    "version": 3
   },
   "file_extension": ".py",
   "mimetype": "text/x-python",
   "name": "python",
   "nbconvert_exporter": "python",
   "pygments_lexer": "ipython3",
   "version": "3.10.11"
  }
 },
 "nbformat": 4,
 "nbformat_minor": 2
}
