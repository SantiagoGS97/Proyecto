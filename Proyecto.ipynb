{
 "cells": [
  {
   "cell_type": "markdown",
   "metadata": {},
   "source": [
    "### **Librerias**"
   ]
  },
  {
   "cell_type": "code",
   "execution_count": 135,
   "metadata": {},
   "outputs": [],
   "source": [
    "import pandas as pd\n",
    "import numpy as np\n",
    "import matplotlib.pyplot as plt\n",
    "import seaborn as sns\n",
    "from sklearn.metrics import confusion_matrix,ConfusionMatrixDisplay\n",
    "from sklearn.linear_model import LinearRegression\n",
    "from sklearn.preprocessing import StandardScaler\n",
    "from sklearn.model_selection import train_test_split\n",
    "import pycaret\n",
    "from pmdarima import plot_acf\n",
    "pd.options.display.max_rows = 20\n",
    "import warnings\n",
    "warnings.filterwarnings('ignore')"
   ]
  },
  {
   "cell_type": "markdown",
   "metadata": {},
   "source": [
    "## **Etapa 0: Crear Data Set**"
   ]
  },
  {
   "cell_type": "markdown",
   "metadata": {},
   "source": [
    "### PIB"
   ]
  },
  {
   "cell_type": "code",
   "execution_count": 136,
   "metadata": {},
   "outputs": [
    {
     "data": {
      "text/plain": [
       "(4410, 11)"
      ]
     },
     "execution_count": 136,
     "metadata": {},
     "output_type": "execute_result"
    }
   ],
   "source": [
    "PIB = pd.read_csv('./Datos/PIB.csv', sep=',',encoding='latin-1')\n",
    "PIB = PIB[(PIB['year']>=2000) & (PIB['year']<=2020)]\n",
    "PIB['year'] = PIB['year'].astype('int')\n",
    "PIB['key'] = [(str((PIB.iloc[i,4])).lower()+'-'+str(PIB.iloc[i,6])) for i in range(len(PIB['country_name']))]\n",
    "PIB = PIB.sort_values(by=['country_name'])\n",
    "PIB.shape"
   ]
  },
  {
   "cell_type": "markdown",
   "metadata": {},
   "source": [
    "### Complejidad Economica"
   ]
  },
  {
   "cell_type": "code",
   "execution_count": 137,
   "metadata": {},
   "outputs": [],
   "source": [
    "Data_ECI = pd.read_csv('./Datos/ECI_Data.csv',sep=',',encoding='latin-1')\n",
    "Data_ECI = Data_ECI.transpose()\n",
    "Data_ECI = Data_ECI[2:].transpose()\n",
    "Data_ECI.dropna(inplace=True)"
   ]
  },
  {
   "cell_type": "code",
   "execution_count": 138,
   "metadata": {},
   "outputs": [
    {
     "data": {
      "text/plain": [
       "(1953, 4)"
      ]
     },
     "execution_count": 138,
     "metadata": {},
     "output_type": "execute_result"
    }
   ],
   "source": [
    "complexity = []\n",
    "pais = []\n",
    "año = []\n",
    "for i in range(len(Data_ECI.iloc[:,:0])):\n",
    "    for j in range(len(Data_ECI.iloc[0,:-3])):\n",
    "        pais.append(Data_ECI.iloc[i,22])\n",
    "        año.append((Data_ECI.columns[j]))\n",
    "        complexity.append(Data_ECI.iloc[i,j])\n",
    "ECI = pd.DataFrame()\n",
    "ECI['Pais'] = pais\n",
    "ECI['ECI'] = complexity\n",
    "ECI['año'] = año\n",
    "ECI['año'] = ECI['año'].astype('int')\n",
    "ECI['key'] = [(str(ECI.iloc[i,0]).lower()+'-'+str(ECI.iloc[i,2])) for i in range(len(ECI['año']))]\n",
    "ECI = ECI.sort_values(by=['Pais'])\n",
    "ECI.shape"
   ]
  },
  {
   "cell_type": "markdown",
   "metadata": {},
   "source": [
    "### Poblacion"
   ]
  },
  {
   "cell_type": "code",
   "execution_count": 139,
   "metadata": {},
   "outputs": [],
   "source": [
    "Data_Poblacion = pd.read_csv('./Datos/Poblacion_Data.csv', sep=',',encoding='latin-1')\n",
    "Data_Poblacion.dropna(inplace=True)"
   ]
  },
  {
   "cell_type": "code",
   "execution_count": 140,
   "metadata": {},
   "outputs": [],
   "source": [
    "Poblacion = []\n",
    "pais_p = []\n",
    "año = []\n",
    "for i in range(len(Data_Poblacion.iloc[:,:0])):\n",
    "    for j in range(len(Data_Poblacion.iloc[0,4:-2])):\n",
    "        pais_p.append(Data_Poblacion.iloc[i,0])\n",
    "        año.append(int(Data_Poblacion.columns[j+4]))\n",
    "        Poblacion.append(Data_Poblacion.iloc[i,j+4])\n",
    "Population = pd.DataFrame()\n",
    "Population['Pais'] = pais_p\n",
    "Population['Poblacion'] = Poblacion\n",
    "Population['año'] = año\n",
    "Population['key'] = [(str(Population.iloc[i,0]).lower()+'-'+str(Population.iloc[i,2])) for i in range(len(Population['año']))]\n",
    "Population = Population.sort_values(by=['Pais'])"
   ]
  },
  {
   "cell_type": "markdown",
   "metadata": {},
   "source": [
    "### Region"
   ]
  },
  {
   "cell_type": "code",
   "execution_count": 141,
   "metadata": {},
   "outputs": [
    {
     "data": {
      "text/plain": [
       "(244, 4)"
      ]
     },
     "execution_count": 141,
     "metadata": {},
     "output_type": "execute_result"
    }
   ],
   "source": [
    "cordenada = pd.read_csv('./Datos/country-coord.csv', sep=',',encoding='latin-1')\n",
    "cordenada['country'] = [(str(cordenada.iloc[i,0]).lower()) for i in range(len(cordenada['Country']))]\n",
    "cordenada.shape"
   ]
  },
  {
   "cell_type": "code",
   "execution_count": 142,
   "metadata": {},
   "outputs": [
    {
     "data": {
      "text/plain": [
       "65.0"
      ]
     },
     "execution_count": 142,
     "metadata": {},
     "output_type": "execute_result"
    }
   ],
   "source": [
    "cordenada.iloc[0,2]"
   ]
  },
  {
   "cell_type": "code",
   "execution_count": 143,
   "metadata": {},
   "outputs": [],
   "source": [
    "cordenada['Ecuador'] = [1 if (cordenada.iloc[i,1]<=27 and cordenada.iloc[i,1]>=-27) else 0 for i in range(len(cordenada['country']))]"
   ]
  },
  {
   "cell_type": "markdown",
   "metadata": {},
   "source": [
    "### Union DataFrames"
   ]
  },
  {
   "cell_type": "code",
   "execution_count": 144,
   "metadata": {},
   "outputs": [],
   "source": [
    "Data_final = PIB.merge(Population,left_on='key',right_on='key').merge(ECI,left_on='key',right_on='key')\n",
    "Data_final = Data_final[['Pais_x', 'Poblacion', 'total_gdp_million','ECI','año_x']]\n",
    "Data_final['country'] = [(str(Data_final.iloc[i,0]).lower()) for i in range(len(Data_final['Pais_x']))]\n",
    "Data_final = pd.merge(Data_final, cordenada, on ='country', how ='inner')\n",
    "Data_final = Data_final[['Pais_x', 'Poblacion', 'total_gdp_million','ECI','año_x','Ecuador']]\n",
    "Data_final.to_csv('Datos/Crecimiento_ec.csv')"
   ]
  },
  {
   "cell_type": "markdown",
   "metadata": {},
   "source": [
    "## **Etapa 1: Entender los Datos**"
   ]
  },
  {
   "cell_type": "code",
   "execution_count": 145,
   "metadata": {},
   "outputs": [
    {
     "data": {
      "text/html": [
       "<div>\n",
       "<style scoped>\n",
       "    .dataframe tbody tr th:only-of-type {\n",
       "        vertical-align: middle;\n",
       "    }\n",
       "\n",
       "    .dataframe tbody tr th {\n",
       "        vertical-align: top;\n",
       "    }\n",
       "\n",
       "    .dataframe thead th {\n",
       "        text-align: right;\n",
       "    }\n",
       "</style>\n",
       "<table border=\"1\" class=\"dataframe\">\n",
       "  <thead>\n",
       "    <tr style=\"text-align: right;\">\n",
       "      <th></th>\n",
       "      <th>Pais_x</th>\n",
       "      <th>Poblacion</th>\n",
       "      <th>total_gdp_million</th>\n",
       "      <th>ECI</th>\n",
       "      <th>año_x</th>\n",
       "      <th>Ecuador</th>\n",
       "      <th>año</th>\n",
       "    </tr>\n",
       "  </thead>\n",
       "  <tbody>\n",
       "    <tr>\n",
       "      <th>0</th>\n",
       "      <td>Algeria</td>\n",
       "      <td>42705368.0</td>\n",
       "      <td>171767.403700</td>\n",
       "      <td>-1.042459</td>\n",
       "      <td>2019</td>\n",
       "      <td>0</td>\n",
       "      <td>2019-01</td>\n",
       "    </tr>\n",
       "    <tr>\n",
       "      <th>1</th>\n",
       "      <td>Algeria</td>\n",
       "      <td>43451666.0</td>\n",
       "      <td>145009.181500</td>\n",
       "      <td>-1.206390</td>\n",
       "      <td>2020</td>\n",
       "      <td>0</td>\n",
       "      <td>2020-01</td>\n",
       "    </tr>\n",
       "    <tr>\n",
       "      <th>2</th>\n",
       "      <td>Algeria</td>\n",
       "      <td>30774621.0</td>\n",
       "      <td>54790.392750</td>\n",
       "      <td>-1.064802</td>\n",
       "      <td>2000</td>\n",
       "      <td>0</td>\n",
       "      <td>2000-01</td>\n",
       "    </tr>\n",
       "    <tr>\n",
       "      <th>3</th>\n",
       "      <td>Algeria</td>\n",
       "      <td>31200985.0</td>\n",
       "      <td>54744.712810</td>\n",
       "      <td>-0.804064</td>\n",
       "      <td>2001</td>\n",
       "      <td>0</td>\n",
       "      <td>2001-01</td>\n",
       "    </tr>\n",
       "    <tr>\n",
       "      <th>4</th>\n",
       "      <td>Algeria</td>\n",
       "      <td>31624696.0</td>\n",
       "      <td>56760.355870</td>\n",
       "      <td>-0.994074</td>\n",
       "      <td>2002</td>\n",
       "      <td>0</td>\n",
       "      <td>2002-01</td>\n",
       "    </tr>\n",
       "    <tr>\n",
       "      <th>...</th>\n",
       "      <td>...</td>\n",
       "      <td>...</td>\n",
       "      <td>...</td>\n",
       "      <td>...</td>\n",
       "      <td>...</td>\n",
       "      <td>...</td>\n",
       "      <td>...</td>\n",
       "    </tr>\n",
       "    <tr>\n",
       "      <th>1570</th>\n",
       "      <td>Zimbabwe</td>\n",
       "      <td>11984644.0</td>\n",
       "      <td>6342.116400</td>\n",
       "      <td>-0.342388</td>\n",
       "      <td>2002</td>\n",
       "      <td>1</td>\n",
       "      <td>2002-01</td>\n",
       "    </tr>\n",
       "    <tr>\n",
       "      <th>1571</th>\n",
       "      <td>Zimbabwe</td>\n",
       "      <td>11910978.0</td>\n",
       "      <td>6777.384700</td>\n",
       "      <td>-0.393783</td>\n",
       "      <td>2001</td>\n",
       "      <td>1</td>\n",
       "      <td>2001-01</td>\n",
       "    </tr>\n",
       "    <tr>\n",
       "      <th>1572</th>\n",
       "      <td>Zimbabwe</td>\n",
       "      <td>11834676.0</td>\n",
       "      <td>6689.957600</td>\n",
       "      <td>-0.288579</td>\n",
       "      <td>2000</td>\n",
       "      <td>1</td>\n",
       "      <td>2000-01</td>\n",
       "    </tr>\n",
       "    <tr>\n",
       "      <th>1573</th>\n",
       "      <td>Zimbabwe</td>\n",
       "      <td>12679810.0</td>\n",
       "      <td>9665.793264</td>\n",
       "      <td>-0.381771</td>\n",
       "      <td>2009</td>\n",
       "      <td>1</td>\n",
       "      <td>2009-01</td>\n",
       "    </tr>\n",
       "    <tr>\n",
       "      <th>1574</th>\n",
       "      <td>Zimbabwe</td>\n",
       "      <td>15669666.0</td>\n",
       "      <td>21509.698410</td>\n",
       "      <td>-0.893569</td>\n",
       "      <td>2020</td>\n",
       "      <td>1</td>\n",
       "      <td>2020-01</td>\n",
       "    </tr>\n",
       "  </tbody>\n",
       "</table>\n",
       "<p>1575 rows × 7 columns</p>\n",
       "</div>"
      ],
      "text/plain": [
       "        Pais_x   Poblacion  total_gdp_million       ECI  año_x  Ecuador  \\\n",
       "0      Algeria  42705368.0      171767.403700 -1.042459   2019        0   \n",
       "1      Algeria  43451666.0      145009.181500 -1.206390   2020        0   \n",
       "2      Algeria  30774621.0       54790.392750 -1.064802   2000        0   \n",
       "3      Algeria  31200985.0       54744.712810 -0.804064   2001        0   \n",
       "4      Algeria  31624696.0       56760.355870 -0.994074   2002        0   \n",
       "...        ...         ...                ...       ...    ...      ...   \n",
       "1570  Zimbabwe  11984644.0        6342.116400 -0.342388   2002        1   \n",
       "1571  Zimbabwe  11910978.0        6777.384700 -0.393783   2001        1   \n",
       "1572  Zimbabwe  11834676.0        6689.957600 -0.288579   2000        1   \n",
       "1573  Zimbabwe  12679810.0        9665.793264 -0.381771   2009        1   \n",
       "1574  Zimbabwe  15669666.0       21509.698410 -0.893569   2020        1   \n",
       "\n",
       "          año  \n",
       "0     2019-01  \n",
       "1     2020-01  \n",
       "2     2000-01  \n",
       "3     2001-01  \n",
       "4     2002-01  \n",
       "...       ...  \n",
       "1570  2002-01  \n",
       "1571  2001-01  \n",
       "1572  2000-01  \n",
       "1573  2009-01  \n",
       "1574  2020-01  \n",
       "\n",
       "[1575 rows x 7 columns]"
      ]
     },
     "execution_count": 145,
     "metadata": {},
     "output_type": "execute_result"
    }
   ],
   "source": [
    "Data = pd.read_csv('./Datos/Crecimiento_ec.csv')\n",
    "Data.drop('Unnamed: 0',axis=1,inplace=True)\n",
    "Data['año'] = [\"\".join([str(Data.iloc[i,4]),\"-01\"]) for i in range(len(Data.año_x))]\n",
    "Data"
   ]
  },
  {
   "cell_type": "code",
   "execution_count": 146,
   "metadata": {},
   "outputs": [
    {
     "data": {
      "text/html": [
       "<div>\n",
       "<style scoped>\n",
       "    .dataframe tbody tr th:only-of-type {\n",
       "        vertical-align: middle;\n",
       "    }\n",
       "\n",
       "    .dataframe tbody tr th {\n",
       "        vertical-align: top;\n",
       "    }\n",
       "\n",
       "    .dataframe thead th {\n",
       "        text-align: right;\n",
       "    }\n",
       "</style>\n",
       "<table border=\"1\" class=\"dataframe\">\n",
       "  <thead>\n",
       "    <tr style=\"text-align: right;\">\n",
       "      <th></th>\n",
       "      <th>Pais_x</th>\n",
       "      <th>Poblacion</th>\n",
       "      <th>total_gdp_million</th>\n",
       "      <th>ECI</th>\n",
       "      <th>año_x</th>\n",
       "      <th>Ecuador</th>\n",
       "      <th>año</th>\n",
       "    </tr>\n",
       "  </thead>\n",
       "  <tbody>\n",
       "    <tr>\n",
       "      <th>0</th>\n",
       "      <td>Algeria</td>\n",
       "      <td>42705368.0</td>\n",
       "      <td>171767.40370</td>\n",
       "      <td>-1.042459</td>\n",
       "      <td>2019</td>\n",
       "      <td>0</td>\n",
       "      <td>2019-01</td>\n",
       "    </tr>\n",
       "    <tr>\n",
       "      <th>1</th>\n",
       "      <td>Algeria</td>\n",
       "      <td>43451666.0</td>\n",
       "      <td>145009.18150</td>\n",
       "      <td>-1.206390</td>\n",
       "      <td>2020</td>\n",
       "      <td>0</td>\n",
       "      <td>2020-01</td>\n",
       "    </tr>\n",
       "    <tr>\n",
       "      <th>2</th>\n",
       "      <td>Algeria</td>\n",
       "      <td>30774621.0</td>\n",
       "      <td>54790.39275</td>\n",
       "      <td>-1.064802</td>\n",
       "      <td>2000</td>\n",
       "      <td>0</td>\n",
       "      <td>2000-01</td>\n",
       "    </tr>\n",
       "    <tr>\n",
       "      <th>3</th>\n",
       "      <td>Algeria</td>\n",
       "      <td>31200985.0</td>\n",
       "      <td>54744.71281</td>\n",
       "      <td>-0.804064</td>\n",
       "      <td>2001</td>\n",
       "      <td>0</td>\n",
       "      <td>2001-01</td>\n",
       "    </tr>\n",
       "    <tr>\n",
       "      <th>4</th>\n",
       "      <td>Algeria</td>\n",
       "      <td>31624696.0</td>\n",
       "      <td>56760.35587</td>\n",
       "      <td>-0.994074</td>\n",
       "      <td>2002</td>\n",
       "      <td>0</td>\n",
       "      <td>2002-01</td>\n",
       "    </tr>\n",
       "  </tbody>\n",
       "</table>\n",
       "</div>"
      ],
      "text/plain": [
       "    Pais_x   Poblacion  total_gdp_million       ECI  año_x  Ecuador      año\n",
       "0  Algeria  42705368.0       171767.40370 -1.042459   2019        0  2019-01\n",
       "1  Algeria  43451666.0       145009.18150 -1.206390   2020        0  2020-01\n",
       "2  Algeria  30774621.0        54790.39275 -1.064802   2000        0  2000-01\n",
       "3  Algeria  31200985.0        54744.71281 -0.804064   2001        0  2001-01\n",
       "4  Algeria  31624696.0        56760.35587 -0.994074   2002        0  2002-01"
      ]
     },
     "execution_count": 146,
     "metadata": {},
     "output_type": "execute_result"
    }
   ],
   "source": [
    "Data.head(5)"
   ]
  },
  {
   "cell_type": "code",
   "execution_count": 147,
   "metadata": {},
   "outputs": [
    {
     "name": "stdout",
     "output_type": "stream",
     "text": [
      "<class 'pandas.core.frame.DataFrame'>\n",
      "RangeIndex: 1575 entries, 0 to 1574\n",
      "Data columns (total 7 columns):\n",
      " #   Column             Non-Null Count  Dtype  \n",
      "---  ------             --------------  -----  \n",
      " 0   Pais_x             1575 non-null   object \n",
      " 1   Poblacion          1575 non-null   float64\n",
      " 2   total_gdp_million  1575 non-null   float64\n",
      " 3   ECI                1575 non-null   float64\n",
      " 4   año_x              1575 non-null   int64  \n",
      " 5   Ecuador            1575 non-null   int64  \n",
      " 6   año                1575 non-null   object \n",
      "dtypes: float64(3), int64(2), object(2)\n",
      "memory usage: 86.3+ KB\n"
     ]
    }
   ],
   "source": [
    "Data.info()"
   ]
  },
  {
   "cell_type": "code",
   "execution_count": 148,
   "metadata": {},
   "outputs": [],
   "source": [
    "def timeline(columna):\n",
    "    time = pd.pivot_table(Data,values=columna,columns=['año_x'],aggfunc='mean')\n",
    "    return time\n",
    "    "
   ]
  },
  {
   "cell_type": "code",
   "execution_count": 149,
   "metadata": {},
   "outputs": [
    {
     "data": {
      "image/png": "[encoded data removed]",
      "text/plain": [
       "<Figure size 600x600 with 1 Axes>"
      ]
     },
     "metadata": {},
     "output_type": "display_data"
    }
   ],
   "source": [
    "fig,ax = plt.subplots(1,sharex=True,figsize=(5,5))\n",
    "ax = sns.barplot(timeline('total_gdp_million'))\n",
    "ax.set_xticklabels(ax.get_xticklabels(),rotation=90)\n",
    "plt.title('PIB en Millones de USD')\n",
    "plt.show()"
   ]
  },
  {
   "cell_type": "code",
   "execution_count": 150,
   "metadata": {},
   "outputs": [
    {
     "data": {
      "image/png": "[encoded data removed]",
      "text/plain": [
       "<Figure size 600x600 with 1 Axes>"
      ]
     },
     "metadata": {},
     "output_type": "display_data"
    }
   ],
   "source": [
    "fig,ax = plt.subplots(1,sharex=True,figsize=(5,5))\n",
    "ax = sns.barplot(timeline('ECI'))\n",
    "ax.set_xticklabels(ax.get_xticklabels(),rotation=90)\n",
    "plt.title('ECI')\n",
    "plt.show()"
   ]
  },
  {
   "cell_type": "code",
   "execution_count": 151,
   "metadata": {},
   "outputs": [
    {
     "data": {
      "image/png": "[encoded data removed]",
      "text/plain": [
       "<Figure size 600x600 with 1 Axes>"
      ]
     },
     "metadata": {},
     "output_type": "display_data"
    }
   ],
   "source": [
    "fig,ax = plt.subplots(1,sharex=True,figsize=(5, 5))\n",
    "ax = sns.barplot(timeline('Poblacion'))\n",
    "ax.set_xticklabels(ax.get_xticklabels(),rotation=90)\n",
    "plt.title('Poblacion')\n",
    "plt.show()"
   ]
  },
  {
   "cell_type": "code",
   "execution_count": 152,
   "metadata": {},
   "outputs": [
    {
     "name": "stdout",
     "output_type": "stream",
     "text": [
      "Hay un total de 75 paises con los cuales trabajar\n"
     ]
    }
   ],
   "source": [
    "print(f'Hay un total de {len(Data.Pais_x.unique())} paises con los cuales trabajar')"
   ]
  },
  {
   "cell_type": "markdown",
   "metadata": {},
   "source": [
    "## **Etapa 2: Revisar problemas en Series de Tiempo**"
   ]
  },
  {
   "cell_type": "code",
   "execution_count": 153,
   "metadata": {},
   "outputs": [],
   "source": [
    "from pycaret.regression import *\n",
    "from pycaret.regression import RegressionExperiment\n",
    "from statsmodels.stats.outliers_influence import variance_inflation_factor\n",
    "exp = RegressionExperiment()"
   ]
  },
  {
   "cell_type": "code",
   "execution_count": 154,
   "metadata": {},
   "outputs": [],
   "source": [
    "X = Data_final[['Poblacion', 'ECI', 'año_x', 'Ecuador']]\n",
    "Y = Data_final['total_gdp_million']"
   ]
  },
  {
   "cell_type": "code",
   "execution_count": 155,
   "metadata": {},
   "outputs": [],
   "source": [
    "X_train, X_test, y_train, y_test = train_test_split(X, Y, random_state=42)"
   ]
  },
  {
   "cell_type": "markdown",
   "metadata": {},
   "source": [
    "### ***Revisar Multicolinealidad***"
   ]
  },
  {
   "cell_type": "code",
   "execution_count": 156,
   "metadata": {},
   "outputs": [],
   "source": [
    "variables = Data_final.drop(columns=['Pais_x'])\n",
    "vif_data = pd.DataFrame()\n",
    "vif_data[\"Variable\"] = variables.columns\n",
    "vif_data[\"VIF\"] = [variance_inflation_factor(variables.values, i) for i in range(variables.shape[1])]"
   ]
  },
  {
   "cell_type": "code",
   "execution_count": 157,
   "metadata": {},
   "outputs": [
    {
     "name": "stdout",
     "output_type": "stream",
     "text": [
      "\n",
      "VIF:\n",
      "            Variable       VIF\n",
      "0          Poblacion  1.781558\n",
      "1  total_gdp_million  2.157813\n",
      "2                ECI  1.609753\n",
      "3              año_x  2.499387\n",
      "4            Ecuador  2.434782\n"
     ]
    }
   ],
   "source": [
    "print(\"\\nVIF:\")\n",
    "print(vif_data)"
   ]
  },
  {
   "cell_type": "markdown",
   "metadata": {},
   "source": [
    "Existe multicolinealidad leve entre los datos entre los datos, por lo que no necesariamente se debe eliminarla pues al ser una multicolinalidad moderada el modelo de regresion lineal puede seguir haciendo predicciones de manera correcta"
   ]
  },
  {
   "cell_type": "markdown",
   "metadata": {},
   "source": [
    "### ***Revisar Autocorrelacion***"
   ]
  },
  {
   "cell_type": "code",
   "execution_count": 158,
   "metadata": {},
   "outputs": [],
   "source": [
    "import statsmodels.api as sm\n",
    "from statsmodels.formula.api import ols\n",
    "from statsmodels.graphics import tsaplots\n",
    "from statsmodels.stats.stattools import durbin_watson\n",
    "from statsmodels.tsa.stattools import adfuller"
   ]
  },
  {
   "cell_type": "code",
   "execution_count": 159,
   "metadata": {},
   "outputs": [],
   "source": [
    "X = np.array(Data_final.ECI)"
   ]
  },
  {
   "cell_type": "code",
   "execution_count": 160,
   "metadata": {},
   "outputs": [
    {
     "data": {
      "text/plain": [
       "array([ 1.        ,  0.93415228,  0.8822679 ,  0.83326927,  0.77894522,\n",
       "        0.73213627,  0.68247589,  0.63280588,  0.58410197,  0.53776899,\n",
       "        0.48695291,  0.43925635,  0.38624893,  0.33911762,  0.29653167,\n",
       "        0.25193233,  0.20665067,  0.16616246,  0.12236616,  0.07985138,\n",
       "        0.0391977 , -0.00415941, -0.00252875,  0.00209584,  0.00827472,\n",
       "        0.0129243 ,  0.01555542,  0.02091416,  0.02548139,  0.03079507,\n",
       "        0.03464726,  0.03835648])"
      ]
     },
     "execution_count": 160,
     "metadata": {},
     "output_type": "execute_result"
    }
   ],
   "source": [
    "sm.tsa.acf (X)"
   ]
  },
  {
   "cell_type": "code",
   "execution_count": 161,
   "metadata": {},
   "outputs": [
    {
     "data": {
      "image/png": "[encoded data removed]",
      "text/plain": [
       "<Figure size 720x480 with 1 Axes>"
      ]
     },
     "metadata": {},
     "output_type": "display_data"
    }
   ],
   "source": [
    "fig = tsaplots.plot_acf(X,lags=21)\n",
    "plt.show ()"
   ]
  },
  {
   "cell_type": "code",
   "execution_count": 162,
   "metadata": {},
   "outputs": [
    {
     "data": {
      "text/plain": [
       "0.28431927577944044"
      ]
     },
     "execution_count": 162,
     "metadata": {},
     "output_type": "execute_result"
    }
   ],
   "source": [
    "model_1 = ols('total_gdp_million ~ Poblacion + ECI + Ecuador', data=Data_final).fit()\n",
    "durbin_watson(model_1.resid)"
   ]
  },
  {
   "cell_type": "code",
   "execution_count": 163,
   "metadata": {},
   "outputs": [
    {
     "data": {
      "text/plain": [
       "0.273151820843164"
      ]
     },
     "execution_count": 163,
     "metadata": {},
     "output_type": "execute_result"
    }
   ],
   "source": [
    "model_2 = ols('total_gdp_million ~ Poblacion + Ecuador ', data=Data_final).fit()\n",
    "durbin_watson(model_2.resid)"
   ]
  },
  {
   "cell_type": "code",
   "execution_count": 164,
   "metadata": {},
   "outputs": [
    {
     "data": {
      "text/plain": [
       "0.2823922478876901"
      ]
     },
     "execution_count": 164,
     "metadata": {},
     "output_type": "execute_result"
    }
   ],
   "source": [
    "model_3 = ols('total_gdp_million ~ ECI + Poblacion ', data=Data_final).fit()\n",
    "durbin_watson(model_3.resid)"
   ]
  },
  {
   "cell_type": "markdown",
   "metadata": {},
   "source": [
    "* En este caso se observa que el modelo muestra autocorrelacion pues se trata de Datos de panel los cuales tienen una componente temporal, en este caso la prueba de DurbiWatson para los 3 modelos arroja el valor de ***ρ*** cercado a 0 [0.28,0.27,1.8] entrando en el rango de 0<***ρ***<1 dando un DW = 2 (Durbin Watson) dando como resultado que el dataset tiene autocorrelacion positiva , lo que se refuerza al ver la grafica la cual solo en el rezago 21 tiene autocorrelacion de 0, mietras que a lo largo de la grafica siempre se observo que la autocorrelacion fue bajando pocco a poco.\n",
    "\n",
    "* El problema de que exista autocorrelacion es que el modelo al usar regresion lineal tendra problemas a la hora ajsutar el modelo pues puede generar un Coeficiente de Determinacion muy perfecto R<sup>2</sup>=1, lo que haria que existe overfitting en el modelo imposibilidanto la generalizacion de los datos.\n"
   ]
  },
  {
   "cell_type": "markdown",
   "metadata": {},
   "source": [
    "### ***Revisar Estacionariedad***"
   ]
  },
  {
   "cell_type": "code",
   "execution_count": 165,
   "metadata": {},
   "outputs": [
    {
     "data": {
      "application/vnd.plotly.v1+json": {
       "config": {
        "plotlyServerURL": "https://plot.ly"
       },
       "data": [
        {
         "hovertemplate": "variable=total_gdp_million<br>Time=%{x}<br>value=%{y}<extra></extra>",
         "legendgroup": "total_gdp_million",
         "line": {
          "color": "#636efa",
          "dash": "solid"
         },
         "marker": {
          "symbol": "circle"
         },
         "mode": "lines",
         "name": "total_gdp_million",
         "orientation": "v",
         "showlegend": true,
         "type": "scatter",
         "x": [
          "2000-01-01T00:00:00",
          "2001-01-01T00:00:00",
          "2002-01-01T00:00:00",
          "2003-01-01T00:00:00",
          "2004-01-01T00:00:00",
          "2005-01-01T00:00:00",
          "2006-01-01T00:00:00",
          "2007-01-01T00:00:00",
          "2008-01-01T00:00:00",
          "2009-01-01T00:00:00",
          "2010-01-01T00:00:00",
          "2011-01-01T00:00:00",
          "2012-01-01T00:00:00",
          "2013-01-01T00:00:00",
          "2014-01-01T00:00:00",
          "2015-01-01T00:00:00",
          "2016-01-01T00:00:00",
          "2017-01-01T00:00:00",
          "2018-01-01T00:00:00",
          "2019-01-01T00:00:00",
          "2020-01-01T00:00:00"
         ],
         "xaxis": "x",
         "y": [
          19209732.12693,
          18723853.669743,
          19359896.756855,
          22417373.372477,
          25655527.255202,
          27672677.063807,
          30026851.264877,
          34528658.414784,
          39308334.06246,
          37555869.253184,
          41646293.29776,
          47305688.73238,
          47807194.20387,
          49008877.00638,
          50066958.29542,
          46173299.43907,
          47129538.37544,
          50660526.697399996,
          54331340.40225,
          54668702.03018,
          52913960.34002
         ],
         "yaxis": "y"
        }
       ],
       "layout": {
        "legend": {
         "title": {
          "text": "variable"
         },
         "tracegroupgap": 0
        },
        "margin": {
         "t": 60
        },
        "template": {
         "data": {
          "bar": [
           {
            "error_x": {
             "color": "#f2f5fa"
            },
            "error_y": {
             "color": "#f2f5fa"
            },
            "marker": {
             "line": {
              "color": "rgb(17,17,17)",
              "width": 0.5
             },
             "pattern": {
              "fillmode": "overlay",
              "size": 10,
              "solidity": 0.2
             }
            },
            "type": "bar"
           }
          ],
          "barpolar": [
           {
            "marker": {
             "line": {
              "color": "rgb(17,17,17)",
              "width": 0.5
             },
             "pattern": {
              "fillmode": "overlay",
              "size": 10,
              "solidity": 0.2
             }
            },
            "type": "barpolar"
           }
          ],
          "carpet": [
           {
            "aaxis": {
             "endlinecolor": "#A2B1C6",
             "gridcolor": "#506784",
             "linecolor": "#506784",
             "minorgridcolor": "#506784",
             "startlinecolor": "#A2B1C6"
            },
            "baxis": {
             "endlinecolor": "#A2B1C6",
             "gridcolor": "#506784",
             "linecolor": "#506784",
             "minorgridcolor": "#506784",
             "startlinecolor": "#A2B1C6"
            },
            "type": "carpet"
           }
          ],
          "choropleth": [
           {
            "colorbar": {
             "outlinewidth": 0,
             "ticks": ""
            },
            "type": "choropleth"
           }
          ],
          "contour": [
           {
            "colorbar": {
             "outlinewidth": 0,
             "ticks": ""
            },
            "colorscale": [
             [
              0,
              "#0d0887"
             ],
             [
              0.1111111111111111,
              "#46039f"
             ],
             [
              0.2222222222222222,
              "#7201a8"
             ],
             [
              0.3333333333333333,
              "#9c179e"
             ],
             [
              0.4444444444444444,
              "#bd3786"
             ],
             [
              0.5555555555555556,
              "#d8576b"
             ],
             [
              0.6666666666666666,
              "#ed7953"
             ],
             [
              0.7777777777777778,
              "#fb9f3a"
             ],
             [
              0.8888888888888888,
              "#fdca26"
             ],
             [
              1,
              "#f0f921"
             ]
            ],
            "type": "contour"
           }
          ],
          "contourcarpet": [
           {
            "colorbar": {
             "outlinewidth": 0,
             "ticks": ""
            },
            "type": "contourcarpet"
           }
          ],
          "heatmap": [
           {
            "colorbar": {
             "outlinewidth": 0,
             "ticks": ""
            },
            "colorscale": [
             [
              0,
              "#0d0887"
             ],
             [
              0.1111111111111111,
              "#46039f"
             ],
             [
              0.2222222222222222,
              "#7201a8"
             ],
             [
              0.3333333333333333,
              "#9c179e"
             ],
             [
              0.4444444444444444,
              "#bd3786"
             ],
             [
              0.5555555555555556,
              "#d8576b"
             ],
             [
              0.6666666666666666,
              "#ed7953"
             ],
             [
              0.7777777777777778,
              "#fb9f3a"
             ],
             [
              0.8888888888888888,
              "#fdca26"
             ],
             [
              1,
              "#f0f921"
             ]
            ],
            "type": "heatmap"
           }
          ],
          "heatmapgl": [
           {
            "colorbar": {
             "outlinewidth": 0,
             "ticks": ""
            },
            "colorscale": [
             [
              0,
              "#0d0887"
             ],
             [
              0.1111111111111111,
              "#46039f"
             ],
             [
              0.2222222222222222,
              "#7201a8"
             ],
             [
              0.3333333333333333,
              "#9c179e"
             ],
             [
              0.4444444444444444,
              "#bd3786"
             ],
             [
              0.5555555555555556,
              "#d8576b"
             ],
             [
              0.6666666666666666,
              "#ed7953"
             ],
             [
              0.7777777777777778,
              "#fb9f3a"
             ],
             [
              0.8888888888888888,
              "#fdca26"
             ],
             [
              1,
              "#f0f921"
             ]
            ],
            "type": "heatmapgl"
           }
          ],
          "histogram": [
           {
            "marker": {
             "pattern": {
              "fillmode": "overlay",
              "size": 10,
              "solidity": 0.2
             }
            },
            "type": "histogram"
           }
          ],
          "histogram2d": [
           {
            "colorbar": {
             "outlinewidth": 0,
             "ticks": ""
            },
            "colorscale": [
             [
              0,
              "#0d0887"
             ],
             [
              0.1111111111111111,
              "#46039f"
             ],
             [
              0.2222222222222222,
              "#7201a8"
             ],
             [
              0.3333333333333333,
              "#9c179e"
             ],
             [
              0.4444444444444444,
              "#bd3786"
             ],
             [
              0.5555555555555556,
              "#d8576b"
             ],
             [
              0.6666666666666666,
              "#ed7953"
             ],
             [
              0.7777777777777778,
              "#fb9f3a"
             ],
             [
              0.8888888888888888,
              "#fdca26"
             ],
             [
              1,
              "#f0f921"
             ]
            ],
            "type": "histogram2d"
           }
          ],
          "histogram2dcontour": [
           {
            "colorbar": {
             "outlinewidth": 0,
             "ticks": ""
            },
            "colorscale": [
             [
              0,
              "#0d0887"
             ],
             [
              0.1111111111111111,
              "#46039f"
             ],
             [
              0.2222222222222222,
              "#7201a8"
             ],
             [
              0.3333333333333333,
              "#9c179e"
             ],
             [
              0.4444444444444444,
              "#bd3786"
             ],
             [
              0.5555555555555556,
              "#d8576b"
             ],
             [
              0.6666666666666666,
              "#ed7953"
             ],
             [
              0.7777777777777778,
              "#fb9f3a"
             ],
             [
              0.8888888888888888,
              "#fdca26"
             ],
             [
              1,
              "#f0f921"
             ]
            ],
            "type": "histogram2dcontour"
           }
          ],
          "mesh3d": [
           {
            "colorbar": {
             "outlinewidth": 0,
             "ticks": ""
            },
            "type": "mesh3d"
           }
          ],
          "parcoords": [
           {
            "line": {
             "colorbar": {
              "outlinewidth": 0,
              "ticks": ""
             }
            },
            "type": "parcoords"
           }
          ],
          "pie": [
           {
            "automargin": true,
            "type": "pie"
           }
          ],
          "scatter": [
           {
            "marker": {
             "line": {
              "color": "#283442"
             }
            },
            "type": "scatter"
           }
          ],
          "scatter3d": [
           {
            "line": {
             "colorbar": {
              "outlinewidth": 0,
              "ticks": ""
             }
            },
            "marker": {
             "colorbar": {
              "outlinewidth": 0,
              "ticks": ""
             }
            },
            "type": "scatter3d"
           }
          ],
          "scattercarpet": [
           {
            "marker": {
             "colorbar": {
              "outlinewidth": 0,
              "ticks": ""
             }
            },
            "type": "scattercarpet"
           }
          ],
          "scattergeo": [
           {
            "marker": {
             "colorbar": {
              "outlinewidth": 0,
              "ticks": ""
             }
            },
            "type": "scattergeo"
           }
          ],
          "scattergl": [
           {
            "marker": {
             "line": {
              "color": "#283442"
             }
            },
            "type": "scattergl"
           }
          ],
          "scattermapbox": [
           {
            "marker": {
             "colorbar": {
              "outlinewidth": 0,
              "ticks": ""
             }
            },
            "type": "scattermapbox"
           }
          ],
          "scatterpolar": [
           {
            "marker": {
             "colorbar": {
              "outlinewidth": 0,
              "ticks": ""
             }
            },
            "type": "scatterpolar"
           }
          ],
          "scatterpolargl": [
           {
            "marker": {
             "colorbar": {
              "outlinewidth": 0,
              "ticks": ""
             }
            },
            "type": "scatterpolargl"
           }
          ],
          "scatterternary": [
           {
            "marker": {
             "colorbar": {
              "outlinewidth": 0,
              "ticks": ""
             }
            },
            "type": "scatterternary"
           }
          ],
          "surface": [
           {
            "colorbar": {
             "outlinewidth": 0,
             "ticks": ""
            },
            "colorscale": [
             [
              0,
              "#0d0887"
             ],
             [
              0.1111111111111111,
              "#46039f"
             ],
             [
              0.2222222222222222,
              "#7201a8"
             ],
             [
              0.3333333333333333,
              "#9c179e"
             ],
             [
              0.4444444444444444,
              "#bd3786"
             ],
             [
              0.5555555555555556,
              "#d8576b"
             ],
             [
              0.6666666666666666,
              "#ed7953"
             ],
             [
              0.7777777777777778,
              "#fb9f3a"
             ],
             [
              0.8888888888888888,
              "#fdca26"
             ],
             [
              1,
              "#f0f921"
             ]
            ],
            "type": "surface"
           }
          ],
          "table": [
           {
            "cells": {
             "fill": {
              "color": "#506784"
             },
             "line": {
              "color": "rgb(17,17,17)"
             }
            },
            "header": {
             "fill": {
              "color": "#2a3f5f"
             },
             "line": {
              "color": "rgb(17,17,17)"
             }
            },
            "type": "table"
           }
          ]
         },
         "layout": {
          "annotationdefaults": {
           "arrowcolor": "#f2f5fa",
           "arrowhead": 0,
           "arrowwidth": 1
          },
          "autotypenumbers": "strict",
          "coloraxis": {
           "colorbar": {
            "outlinewidth": 0,
            "ticks": ""
           }
          },
          "colorscale": {
           "diverging": [
            [
             0,
             "#8e0152"
            ],
            [
             0.1,
             "#c51b7d"
            ],
            [
             0.2,
             "#de77ae"
            ],
            [
             0.3,
             "#f1b6da"
            ],
            [
             0.4,
             "#fde0ef"
            ],
            [
             0.5,
             "#f7f7f7"
            ],
            [
             0.6,
             "#e6f5d0"
            ],
            [
             0.7,
             "#b8e186"
            ],
            [
             0.8,
             "#7fbc41"
            ],
            [
             0.9,
             "#4d9221"
            ],
            [
             1,
             "#276419"
            ]
           ],
           "sequential": [
            [
             0,
             "#0d0887"
            ],
            [
             0.1111111111111111,
             "#46039f"
            ],
            [
             0.2222222222222222,
             "#7201a8"
            ],
            [
             0.3333333333333333,
             "#9c179e"
            ],
            [
             0.4444444444444444,
             "#bd3786"
            ],
            [
             0.5555555555555556,
             "#d8576b"
            ],
            [
             0.6666666666666666,
             "#ed7953"
            ],
            [
             0.7777777777777778,
             "#fb9f3a"
            ],
            [
             0.8888888888888888,
             "#fdca26"
            ],
            [
             1,
             "#f0f921"
            ]
           ],
           "sequentialminus": [
            [
             0,
             "#0d0887"
            ],
            [
             0.1111111111111111,
             "#46039f"
            ],
            [
             0.2222222222222222,
             "#7201a8"
            ],
            [
             0.3333333333333333,
             "#9c179e"
            ],
            [
             0.4444444444444444,
             "#bd3786"
            ],
            [
             0.5555555555555556,
             "#d8576b"
            ],
            [
             0.6666666666666666,
             "#ed7953"
            ],
            [
             0.7777777777777778,
             "#fb9f3a"
            ],
            [
             0.8888888888888888,
             "#fdca26"
            ],
            [
             1,
             "#f0f921"
            ]
           ]
          },
          "colorway": [
           "#636efa",
           "#EF553B",
           "#00cc96",
           "#ab63fa",
           "#FFA15A",
           "#19d3f3",
           "#FF6692",
           "#B6E880",
           "#FF97FF",
           "#FECB52"
          ],
          "font": {
           "color": "#f2f5fa"
          },
          "geo": {
           "bgcolor": "rgb(17,17,17)",
           "lakecolor": "rgb(17,17,17)",
           "landcolor": "rgb(17,17,17)",
           "showlakes": true,
           "showland": true,
           "subunitcolor": "#506784"
          },
          "hoverlabel": {
           "align": "left"
          },
          "hovermode": "closest",
          "mapbox": {
           "style": "dark"
          },
          "paper_bgcolor": "rgb(17,17,17)",
          "plot_bgcolor": "rgb(17,17,17)",
          "polar": {
           "angularaxis": {
            "gridcolor": "#506784",
            "linecolor": "#506784",
            "ticks": ""
           },
           "bgcolor": "rgb(17,17,17)",
           "radialaxis": {
            "gridcolor": "#506784",
            "linecolor": "#506784",
            "ticks": ""
           }
          },
          "scene": {
           "xaxis": {
            "backgroundcolor": "rgb(17,17,17)",
            "gridcolor": "#506784",
            "gridwidth": 2,
            "linecolor": "#506784",
            "showbackground": true,
            "ticks": "",
            "zerolinecolor": "#C8D4E3"
           },
           "yaxis": {
            "backgroundcolor": "rgb(17,17,17)",
            "gridcolor": "#506784",
            "gridwidth": 2,
            "linecolor": "#506784",
            "showbackground": true,
            "ticks": "",
            "zerolinecolor": "#C8D4E3"
           },
           "zaxis": {
            "backgroundcolor": "rgb(17,17,17)",
            "gridcolor": "#506784",
            "gridwidth": 2,
            "linecolor": "#506784",
            "showbackground": true,
            "ticks": "",
            "zerolinecolor": "#C8D4E3"
           }
          },
          "shapedefaults": {
           "line": {
            "color": "#f2f5fa"
           }
          },
          "sliderdefaults": {
           "bgcolor": "#C8D4E3",
           "bordercolor": "rgb(17,17,17)",
           "borderwidth": 1,
           "tickwidth": 0
          },
          "ternary": {
           "aaxis": {
            "gridcolor": "#506784",
            "linecolor": "#506784",
            "ticks": ""
           },
           "baxis": {
            "gridcolor": "#506784",
            "linecolor": "#506784",
            "ticks": ""
           },
           "bgcolor": "rgb(17,17,17)",
           "caxis": {
            "gridcolor": "#506784",
            "linecolor": "#506784",
            "ticks": ""
           }
          },
          "title": {
           "x": 0.05
          },
          "updatemenudefaults": {
           "bgcolor": "#506784",
           "borderwidth": 0
          },
          "xaxis": {
           "automargin": true,
           "gridcolor": "#283442",
           "linecolor": "#506784",
           "ticks": "",
           "title": {
            "standoff": 15
           },
           "zerolinecolor": "#283442",
           "zerolinewidth": 2
          },
          "yaxis": {
           "automargin": true,
           "gridcolor": "#283442",
           "linecolor": "#506784",
           "ticks": "",
           "title": {
            "standoff": 15
           },
           "zerolinecolor": "#283442",
           "zerolinewidth": 2
          }
         }
        },
        "xaxis": {
         "anchor": "y",
         "domain": [
          0,
          1
         ],
         "title": {
          "text": "Time"
         }
        },
        "yaxis": {
         "anchor": "x",
         "domain": [
          0,
          1
         ],
         "title": {
          "text": "value"
         }
        }
       }
      }
     },
     "metadata": {},
     "output_type": "display_data"
    }
   ],
   "source": [
    "import plotly.express as px\n",
    "Data_glob = pd.pivot_table(Data,index='año',values=['total_gdp_million','Poblacion','ECI'],aggfunc='sum').reset_index()\n",
    "Data_glob['Time'] = pd.to_datetime(Data_glob['año'])\n",
    "Data_glob = Data_glob.sort_values(by='Time')\n",
    "fig = px.line(Data_glob, x=\"Time\", y=[\"total_gdp_million\"], template = 'plotly_dark')\n",
    "fig.show()"
   ]
  },
  {
   "cell_type": "code",
   "execution_count": 211,
   "metadata": {},
   "outputs": [
    {
     "name": "stdout",
     "output_type": "stream",
     "text": [
      "El Estadistico D-Fuller es: -1.1793378898436007\n",
      "El p-valor es de: 0.6824202844756092. No rechazo H0, por lo que la serie para el PIB tiene comportamiento NO Estacional\n"
     ]
    }
   ],
   "source": [
    "D_fuller = adfuller(Data_glob.total_gdp_million,autolag='AIC')\n",
    "print(f'El Estadistico D-Fuller es: {D_fuller[0]}')\n",
    "print(f'El p-valor es de: {D_fuller[1]}. No rechazo H0, por lo que la serie para el PIB tiene comportamiento NO Estacional')"
   ]
  },
  {
   "cell_type": "code",
   "execution_count": 212,
   "metadata": {},
   "outputs": [
    {
     "name": "stdout",
     "output_type": "stream",
     "text": [
      "El Estadistico D-Fuller es: -2.964283780870511\n",
      "El p-valor es de: 0.03836715950778153. rechazo H0, por lo que la serie para la Poblacion es Estacional\n"
     ]
    }
   ],
   "source": [
    "D_fuller = adfuller(Data_glob.Poblacion,autolag='AIC')\n",
    "print(f'El Estadistico D-Fuller es: {D_fuller[0]}')\n",
    "print(f'El p-valor es de: {D_fuller[1]}. rechazo H0, por lo que la serie para la Poblacion es Estacional')"
   ]
  },
  {
   "cell_type": "code",
   "execution_count": 213,
   "metadata": {},
   "outputs": [
    {
     "name": "stdout",
     "output_type": "stream",
     "text": [
      "El Estadistico D-Fuller es: -1.1553311905910721\n",
      "El p-valor es de: 0.6925101184130171. No rechazo H0, por lo que la serie tiene comportamiento NO Estacional\n"
     ]
    }
   ],
   "source": [
    "D_fuller = adfuller(Data_glob.ECI,autolag='AIC')\n",
    "print(f'El Estadistico D-Fuller es: {D_fuller[0]}')\n",
    "print(f'El p-valor es de: {D_fuller[1]}. No rechazo H0, por lo que la serie tiene comportamiento NO Estacional')"
   ]
  },
  {
   "cell_type": "markdown",
   "metadata": {},
   "source": [
    "El valor de p > 0.05 NO rechaza la hipotesis Nula, por lo que se puede decir que la serie de tiempo NO tiene un comportamiento estacional"
   ]
  },
  {
   "cell_type": "code",
   "execution_count": 169,
   "metadata": {},
   "outputs": [],
   "source": [
    "# from pmdarima import plot_acf\n",
    "\n",
    "# plt.rcParams.update({'figure.figsize':(10,10), 'figure.dpi':120})\n",
    "# fig,axes = plt.subplots(3,2,sharex=False)\n",
    "\n",
    "# axes[0,0].plot(Data_glob.total_gdp_million);axes[0,0].set_title('Original')\n",
    "# plot_acf(Data_glob.total_gdp_million,ax=axes[0,1])\n",
    "\n",
    "# axes[1,0].plot(Data_glob.total_gdp_million);axes[1,0].set_title('1 AR')\n",
    "# plot_acf(Data_glob.total_gdp_million.diff().dropna(),ax=axes[1,1],color='g')\n",
    "\n",
    "# axes[2,0].plot(Data_glob.total_gdp_million);axes[2,0].set_title('2 AR')\n",
    "# plot_acf(Data_glob.total_gdp_million.diff().diff().dropna(),ax=axes[2,1],color='b')\n",
    "# plt.show()"
   ]
  },
  {
   "cell_type": "code",
   "execution_count": 170,
   "metadata": {},
   "outputs": [
    {
     "data": {
      "image/png": "[encoded data removed]",
      "text/plain": [
       "<Figure size 720x480 with 2 Axes>"
      ]
     },
     "metadata": {},
     "output_type": "display_data"
    }
   ],
   "source": [
    "plt.rcParams.update({'figure.figsize':(6,4), 'figure.dpi':120})\n",
    "fig,axes = plt.subplots(1,2)\n",
    "axes[0].plot(Data_glob.total_gdp_million);axes[0].set_title('1 AR')\n",
    "plot_acf(Data_glob.total_gdp_million,ax=axes[1],color='g')"
   ]
  },
  {
   "cell_type": "code",
   "execution_count": 171,
   "metadata": {},
   "outputs": [
    {
     "data": {
      "image/png": "[encoded data removed]",
      "text/plain": [
       "<Figure size 720x480 with 2 Axes>"
      ]
     },
     "metadata": {},
     "output_type": "display_data"
    }
   ],
   "source": [
    "plt.rcParams.update({'figure.figsize':(6,4), 'figure.dpi':120})\n",
    "fig,axes = plt.subplots(1,2)\n",
    "axes[0].plot(Data_glob.total_gdp_million.diff());axes[0].set_title('1 AR')\n",
    "plot_acf(Data_glob.total_gdp_million.diff().dropna(),ax=axes[1],color='g')"
   ]
  },
  {
   "cell_type": "code",
   "execution_count": 172,
   "metadata": {},
   "outputs": [
    {
     "data": {
      "image/png": "[encoded data removed]",
      "text/plain": [
       "<Figure size 720x480 with 2 Axes>"
      ]
     },
     "metadata": {},
     "output_type": "display_data"
    }
   ],
   "source": [
    "plt.rcParams.update({'figure.figsize':(6,4), 'figure.dpi':120})\n",
    "fig,axes = plt.subplots(1,2)\n",
    "axes[0].plot(Data_glob.total_gdp_million.diff().diff());axes[00].set_title('2 AR')\n",
    "plot_acf(Data_glob.total_gdp_million.diff().diff().dropna(),ax=axes[1],color='r')"
   ]
  },
  {
   "cell_type": "markdown",
   "metadata": {},
   "source": [
    "### ***Eliminar Autocorrelacion***"
   ]
  },
  {
   "cell_type": "code",
   "execution_count": 173,
   "metadata": {},
   "outputs": [],
   "source": [
    "from statsmodels.tsa.statespace.sarimax import SARIMAX"
   ]
  },
  {
   "cell_type": "code",
   "execution_count": 174,
   "metadata": {},
   "outputs": [],
   "source": [
    "PIB = SARIMAX(Data_final.total_gdp_million,order=(1,2,2)).fit()"
   ]
  },
  {
   "cell_type": "code",
   "execution_count": 176,
   "metadata": {},
   "outputs": [],
   "source": [
    "ECI = SARIMAX(Data_final.ECI,order=(1,2,2)).fit()"
   ]
  },
  {
   "cell_type": "markdown",
   "metadata": {},
   "source": [
    "## **Etapa 3: Crear y Evaluar Modelos con Pycaret**"
   ]
  },
  {
   "cell_type": "markdown",
   "metadata": {},
   "source": [
    "### ***Data***"
   ]
  },
  {
   "cell_type": "code",
   "execution_count": 177,
   "metadata": {},
   "outputs": [
    {
     "data": {
      "text/html": [
       "<div>\n",
       "<style scoped>\n",
       "    .dataframe tbody tr th:only-of-type {\n",
       "        vertical-align: middle;\n",
       "    }\n",
       "\n",
       "    .dataframe tbody tr th {\n",
       "        vertical-align: top;\n",
       "    }\n",
       "\n",
       "    .dataframe thead th {\n",
       "        text-align: right;\n",
       "    }\n",
       "</style>\n",
       "<table border=\"1\" class=\"dataframe\">\n",
       "  <thead>\n",
       "    <tr style=\"text-align: right;\">\n",
       "      <th></th>\n",
       "      <th>Poblacion</th>\n",
       "      <th>total_gdp_million</th>\n",
       "      <th>ECI</th>\n",
       "      <th>año_x</th>\n",
       "      <th>Ecuador</th>\n",
       "    </tr>\n",
       "  </thead>\n",
       "  <tbody>\n",
       "    <tr>\n",
       "      <th>0</th>\n",
       "      <td>-0.123399</td>\n",
       "      <td>-0.283150</td>\n",
       "      <td>-1.042459</td>\n",
       "      <td>2019</td>\n",
       "      <td>0</td>\n",
       "    </tr>\n",
       "    <tr>\n",
       "      <th>1</th>\n",
       "      <td>-0.119818</td>\n",
       "      <td>-0.305020</td>\n",
       "      <td>-1.206390</td>\n",
       "      <td>2020</td>\n",
       "      <td>0</td>\n",
       "    </tr>\n",
       "    <tr>\n",
       "      <th>2</th>\n",
       "      <td>-0.180644</td>\n",
       "      <td>-0.378758</td>\n",
       "      <td>-1.064802</td>\n",
       "      <td>2000</td>\n",
       "      <td>0</td>\n",
       "    </tr>\n",
       "    <tr>\n",
       "      <th>3</th>\n",
       "      <td>-0.178598</td>\n",
       "      <td>-0.378796</td>\n",
       "      <td>-0.804064</td>\n",
       "      <td>2001</td>\n",
       "      <td>0</td>\n",
       "    </tr>\n",
       "    <tr>\n",
       "      <th>4</th>\n",
       "      <td>-0.176565</td>\n",
       "      <td>-0.377148</td>\n",
       "      <td>-0.994074</td>\n",
       "      <td>2002</td>\n",
       "      <td>0</td>\n",
       "    </tr>\n",
       "    <tr>\n",
       "      <th>...</th>\n",
       "      <td>...</td>\n",
       "      <td>...</td>\n",
       "      <td>...</td>\n",
       "      <td>...</td>\n",
       "      <td>...</td>\n",
       "    </tr>\n",
       "    <tr>\n",
       "      <th>1570</th>\n",
       "      <td>-0.270800</td>\n",
       "      <td>-0.418356</td>\n",
       "      <td>-0.342388</td>\n",
       "      <td>2002</td>\n",
       "      <td>1</td>\n",
       "    </tr>\n",
       "    <tr>\n",
       "      <th>1571</th>\n",
       "      <td>-0.271153</td>\n",
       "      <td>-0.418000</td>\n",
       "      <td>-0.393783</td>\n",
       "      <td>2001</td>\n",
       "      <td>1</td>\n",
       "    </tr>\n",
       "    <tr>\n",
       "      <th>1572</th>\n",
       "      <td>-0.271519</td>\n",
       "      <td>-0.418072</td>\n",
       "      <td>-0.288579</td>\n",
       "      <td>2000</td>\n",
       "      <td>1</td>\n",
       "    </tr>\n",
       "    <tr>\n",
       "      <th>1573</th>\n",
       "      <td>-0.267464</td>\n",
       "      <td>-0.415640</td>\n",
       "      <td>-0.381771</td>\n",
       "      <td>2009</td>\n",
       "      <td>1</td>\n",
       "    </tr>\n",
       "    <tr>\n",
       "      <th>1574</th>\n",
       "      <td>-0.253119</td>\n",
       "      <td>-0.405959</td>\n",
       "      <td>-0.893569</td>\n",
       "      <td>2020</td>\n",
       "      <td>1</td>\n",
       "    </tr>\n",
       "  </tbody>\n",
       "</table>\n",
       "<p>1575 rows × 5 columns</p>\n",
       "</div>"
      ],
      "text/plain": [
       "      Poblacion  total_gdp_million       ECI  año_x  Ecuador\n",
       "0     -0.123399          -0.283150 -1.042459   2019        0\n",
       "1     -0.119818          -0.305020 -1.206390   2020        0\n",
       "2     -0.180644          -0.378758 -1.064802   2000        0\n",
       "3     -0.178598          -0.378796 -0.804064   2001        0\n",
       "4     -0.176565          -0.377148 -0.994074   2002        0\n",
       "...         ...                ...       ...    ...      ...\n",
       "1570  -0.270800          -0.418356 -0.342388   2002        1\n",
       "1571  -0.271153          -0.418000 -0.393783   2001        1\n",
       "1572  -0.271519          -0.418072 -0.288579   2000        1\n",
       "1573  -0.267464          -0.415640 -0.381771   2009        1\n",
       "1574  -0.253119          -0.405959 -0.893569   2020        1\n",
       "\n",
       "[1575 rows x 5 columns]"
      ]
     },
     "execution_count": 177,
     "metadata": {},
     "output_type": "execute_result"
    }
   ],
   "source": [
    "std = StandardScaler()\n",
    "std.fit(Data_final[['total_gdp_million']])\n",
    "Data_final['total_gdp_million']= std.transform(Data_final[['total_gdp_million']])\n",
    "std.fit(Data_final[['Poblacion']])\n",
    "Data_final['Poblacion']= std.transform(Data_final[['Poblacion']])\n",
    "Data_final.drop(columns=['Pais_x'],axis=1,inplace =True)\n",
    "Data_final"
   ]
  },
  {
   "cell_type": "code",
   "execution_count": 178,
   "metadata": {},
   "outputs": [
    {
     "data": {
      "text/html": [
       "<style type=\"text/css\">\n",
       "#T_c5362_row8_col1, #T_c5362_row12_col1 {\n",
       "  background-color: lightgreen;\n",
       "}\n",
       "</style>\n",
       "<table id=\"T_c5362\">\n",
       "  <thead>\n",
       "    <tr>\n",
       "      <th class=\"blank level0\" >&nbsp;</th>\n",
       "      <th id=\"T_c5362_level0_col0\" class=\"col_heading level0 col0\" >Description</th>\n",
       "      <th id=\"T_c5362_level0_col1\" class=\"col_heading level0 col1\" >Value</th>\n",
       "    </tr>\n",
       "  </thead>\n",
       "  <tbody>\n",
       "    <tr>\n",
       "      <th id=\"T_c5362_level0_row0\" class=\"row_heading level0 row0\" >0</th>\n",
       "      <td id=\"T_c5362_row0_col0\" class=\"data row0 col0\" >Session id</td>\n",
       "      <td id=\"T_c5362_row0_col1\" class=\"data row0 col1\" >123</td>\n",
       "    </tr>\n",
       "    <tr>\n",
       "      <th id=\"T_c5362_level0_row1\" class=\"row_heading level0 row1\" >1</th>\n",
       "      <td id=\"T_c5362_row1_col0\" class=\"data row1 col0\" >Target</td>\n",
       "      <td id=\"T_c5362_row1_col1\" class=\"data row1 col1\" >total_gdp_million</td>\n",
       "    </tr>\n",
       "    <tr>\n",
       "      <th id=\"T_c5362_level0_row2\" class=\"row_heading level0 row2\" >2</th>\n",
       "      <td id=\"T_c5362_row2_col0\" class=\"data row2 col0\" >Target type</td>\n",
       "      <td id=\"T_c5362_row2_col1\" class=\"data row2 col1\" >Regression</td>\n",
       "    </tr>\n",
       "    <tr>\n",
       "      <th id=\"T_c5362_level0_row3\" class=\"row_heading level0 row3\" >3</th>\n",
       "      <td id=\"T_c5362_row3_col0\" class=\"data row3 col0\" >Original data shape</td>\n",
       "      <td id=\"T_c5362_row3_col1\" class=\"data row3 col1\" >(1575, 5)</td>\n",
       "    </tr>\n",
       "    <tr>\n",
       "      <th id=\"T_c5362_level0_row4\" class=\"row_heading level0 row4\" >4</th>\n",
       "      <td id=\"T_c5362_row4_col0\" class=\"data row4 col0\" >Transformed data shape</td>\n",
       "      <td id=\"T_c5362_row4_col1\" class=\"data row4 col1\" >(1575, 5)</td>\n",
       "    </tr>\n",
       "    <tr>\n",
       "      <th id=\"T_c5362_level0_row5\" class=\"row_heading level0 row5\" >5</th>\n",
       "      <td id=\"T_c5362_row5_col0\" class=\"data row5 col0\" >Transformed train set shape</td>\n",
       "      <td id=\"T_c5362_row5_col1\" class=\"data row5 col1\" >(1102, 5)</td>\n",
       "    </tr>\n",
       "    <tr>\n",
       "      <th id=\"T_c5362_level0_row6\" class=\"row_heading level0 row6\" >6</th>\n",
       "      <td id=\"T_c5362_row6_col0\" class=\"data row6 col0\" >Transformed test set shape</td>\n",
       "      <td id=\"T_c5362_row6_col1\" class=\"data row6 col1\" >(473, 5)</td>\n",
       "    </tr>\n",
       "    <tr>\n",
       "      <th id=\"T_c5362_level0_row7\" class=\"row_heading level0 row7\" >7</th>\n",
       "      <td id=\"T_c5362_row7_col0\" class=\"data row7 col0\" >Numeric features</td>\n",
       "      <td id=\"T_c5362_row7_col1\" class=\"data row7 col1\" >4</td>\n",
       "    </tr>\n",
       "    <tr>\n",
       "      <th id=\"T_c5362_level0_row8\" class=\"row_heading level0 row8\" >8</th>\n",
       "      <td id=\"T_c5362_row8_col0\" class=\"data row8 col0\" >Preprocess</td>\n",
       "      <td id=\"T_c5362_row8_col1\" class=\"data row8 col1\" >True</td>\n",
       "    </tr>\n",
       "    <tr>\n",
       "      <th id=\"T_c5362_level0_row9\" class=\"row_heading level0 row9\" >9</th>\n",
       "      <td id=\"T_c5362_row9_col0\" class=\"data row9 col0\" >Imputation type</td>\n",
       "      <td id=\"T_c5362_row9_col1\" class=\"data row9 col1\" >simple</td>\n",
       "    </tr>\n",
       "    <tr>\n",
       "      <th id=\"T_c5362_level0_row10\" class=\"row_heading level0 row10\" >10</th>\n",
       "      <td id=\"T_c5362_row10_col0\" class=\"data row10 col0\" >Numeric imputation</td>\n",
       "      <td id=\"T_c5362_row10_col1\" class=\"data row10 col1\" >mean</td>\n",
       "    </tr>\n",
       "    <tr>\n",
       "      <th id=\"T_c5362_level0_row11\" class=\"row_heading level0 row11\" >11</th>\n",
       "      <td id=\"T_c5362_row11_col0\" class=\"data row11 col0\" >Categorical imputation</td>\n",
       "      <td id=\"T_c5362_row11_col1\" class=\"data row11 col1\" >mode</td>\n",
       "    </tr>\n",
       "    <tr>\n",
       "      <th id=\"T_c5362_level0_row12\" class=\"row_heading level0 row12\" >12</th>\n",
       "      <td id=\"T_c5362_row12_col0\" class=\"data row12 col0\" >Remove multicollinearity</td>\n",
       "      <td id=\"T_c5362_row12_col1\" class=\"data row12 col1\" >True</td>\n",
       "    </tr>\n",
       "    <tr>\n",
       "      <th id=\"T_c5362_level0_row13\" class=\"row_heading level0 row13\" >13</th>\n",
       "      <td id=\"T_c5362_row13_col0\" class=\"data row13 col0\" >Multicollinearity threshold</td>\n",
       "      <td id=\"T_c5362_row13_col1\" class=\"data row13 col1\" >0.900000</td>\n",
       "    </tr>\n",
       "    <tr>\n",
       "      <th id=\"T_c5362_level0_row14\" class=\"row_heading level0 row14\" >14</th>\n",
       "      <td id=\"T_c5362_row14_col0\" class=\"data row14 col0\" >Fold Generator</td>\n",
       "      <td id=\"T_c5362_row14_col1\" class=\"data row14 col1\" >KFold</td>\n",
       "    </tr>\n",
       "    <tr>\n",
       "      <th id=\"T_c5362_level0_row15\" class=\"row_heading level0 row15\" >15</th>\n",
       "      <td id=\"T_c5362_row15_col0\" class=\"data row15 col0\" >Fold Number</td>\n",
       "      <td id=\"T_c5362_row15_col1\" class=\"data row15 col1\" >10</td>\n",
       "    </tr>\n",
       "    <tr>\n",
       "      <th id=\"T_c5362_level0_row16\" class=\"row_heading level0 row16\" >16</th>\n",
       "      <td id=\"T_c5362_row16_col0\" class=\"data row16 col0\" >CPU Jobs</td>\n",
       "      <td id=\"T_c5362_row16_col1\" class=\"data row16 col1\" >-1</td>\n",
       "    </tr>\n",
       "    <tr>\n",
       "      <th id=\"T_c5362_level0_row17\" class=\"row_heading level0 row17\" >17</th>\n",
       "      <td id=\"T_c5362_row17_col0\" class=\"data row17 col0\" >Use GPU</td>\n",
       "      <td id=\"T_c5362_row17_col1\" class=\"data row17 col1\" >False</td>\n",
       "    </tr>\n",
       "    <tr>\n",
       "      <th id=\"T_c5362_level0_row18\" class=\"row_heading level0 row18\" >18</th>\n",
       "      <td id=\"T_c5362_row18_col0\" class=\"data row18 col0\" >Log Experiment</td>\n",
       "      <td id=\"T_c5362_row18_col1\" class=\"data row18 col1\" >False</td>\n",
       "    </tr>\n",
       "    <tr>\n",
       "      <th id=\"T_c5362_level0_row19\" class=\"row_heading level0 row19\" >19</th>\n",
       "      <td id=\"T_c5362_row19_col0\" class=\"data row19 col0\" >Experiment Name</td>\n",
       "      <td id=\"T_c5362_row19_col1\" class=\"data row19 col1\" >reg-default-name</td>\n",
       "    </tr>\n",
       "    <tr>\n",
       "      <th id=\"T_c5362_level0_row20\" class=\"row_heading level0 row20\" >20</th>\n",
       "      <td id=\"T_c5362_row20_col0\" class=\"data row20 col0\" >USI</td>\n",
       "      <td id=\"T_c5362_row20_col1\" class=\"data row20 col1\" >e128</td>\n",
       "    </tr>\n",
       "  </tbody>\n",
       "</table>\n"
      ],
      "text/plain": [
       "<pandas.io.formats.style.Styler at 0x25883b4dd20>"
      ]
     },
     "metadata": {},
     "output_type": "display_data"
    }
   ],
   "source": [
    "reg = setup(Data_final, target = 'total_gdp_million', session_id = 123,remove_multicollinearity=True)"
   ]
  },
  {
   "cell_type": "code",
   "execution_count": 179,
   "metadata": {},
   "outputs": [
    {
     "data": {
      "text/html": [],
      "text/plain": [
       "<IPython.core.display.HTML object>"
      ]
     },
     "metadata": {},
     "output_type": "display_data"
    },
    {
     "data": {
      "text/html": [
       "<style type=\"text/css\">\n",
       "#T_71f75 th {\n",
       "  text-align: left;\n",
       "}\n",
       "#T_71f75_row0_col0, #T_71f75_row1_col0, #T_71f75_row1_col1, #T_71f75_row1_col2, #T_71f75_row1_col3, #T_71f75_row1_col4, #T_71f75_row1_col5, #T_71f75_row1_col6, #T_71f75_row2_col0, #T_71f75_row2_col1, #T_71f75_row2_col2, #T_71f75_row2_col3, #T_71f75_row2_col4, #T_71f75_row2_col5, #T_71f75_row2_col6, #T_71f75_row3_col0, #T_71f75_row3_col1, #T_71f75_row3_col2, #T_71f75_row3_col3, #T_71f75_row3_col4, #T_71f75_row3_col5, #T_71f75_row3_col6, #T_71f75_row4_col0, #T_71f75_row4_col1, #T_71f75_row4_col2, #T_71f75_row4_col3, #T_71f75_row4_col4, #T_71f75_row4_col5, #T_71f75_row4_col6, #T_71f75_row5_col0, #T_71f75_row5_col1, #T_71f75_row5_col2, #T_71f75_row5_col3, #T_71f75_row5_col4, #T_71f75_row5_col5, #T_71f75_row5_col6, #T_71f75_row6_col0, #T_71f75_row6_col1, #T_71f75_row6_col2, #T_71f75_row6_col3, #T_71f75_row6_col4, #T_71f75_row6_col5, #T_71f75_row6_col6, #T_71f75_row7_col0, #T_71f75_row7_col1, #T_71f75_row7_col2, #T_71f75_row7_col3, #T_71f75_row7_col4, #T_71f75_row7_col5, #T_71f75_row7_col6, #T_71f75_row8_col0, #T_71f75_row8_col1, #T_71f75_row8_col2, #T_71f75_row8_col3, #T_71f75_row8_col4, #T_71f75_row8_col5, #T_71f75_row8_col6, #T_71f75_row9_col0, #T_71f75_row9_col1, #T_71f75_row9_col2, #T_71f75_row9_col3, #T_71f75_row9_col4, #T_71f75_row9_col5, #T_71f75_row9_col6, #T_71f75_row10_col0, #T_71f75_row10_col1, #T_71f75_row10_col2, #T_71f75_row10_col3, #T_71f75_row10_col4, #T_71f75_row10_col5, #T_71f75_row10_col6, #T_71f75_row11_col0, #T_71f75_row11_col1, #T_71f75_row11_col2, #T_71f75_row11_col3, #T_71f75_row11_col4, #T_71f75_row11_col5, #T_71f75_row11_col6, #T_71f75_row12_col0, #T_71f75_row12_col1, #T_71f75_row12_col2, #T_71f75_row12_col3, #T_71f75_row12_col4, #T_71f75_row12_col5, #T_71f75_row12_col6, #T_71f75_row13_col0, #T_71f75_row13_col1, #T_71f75_row13_col2, #T_71f75_row13_col3, #T_71f75_row13_col4, #T_71f75_row13_col5, #T_71f75_row13_col6, #T_71f75_row14_col0, #T_71f75_row14_col1, #T_71f75_row14_col2, #T_71f75_row14_col3, #T_71f75_row14_col4, #T_71f75_row14_col5, #T_71f75_row14_col6, #T_71f75_row15_col0, #T_71f75_row15_col1, #T_71f75_row15_col2, #T_71f75_row15_col3, #T_71f75_row15_col4, #T_71f75_row15_col5, #T_71f75_row15_col6, #T_71f75_row16_col0, #T_71f75_row16_col1, #T_71f75_row16_col2, #T_71f75_row16_col3, #T_71f75_row16_col4, #T_71f75_row16_col5, #T_71f75_row16_col6, #T_71f75_row17_col0, #T_71f75_row17_col1, #T_71f75_row17_col2, #T_71f75_row17_col3, #T_71f75_row17_col4, #T_71f75_row17_col5, #T_71f75_row17_col6 {\n",
       "  text-align: left;\n",
       "}\n",
       "#T_71f75_row0_col1, #T_71f75_row0_col2, #T_71f75_row0_col3, #T_71f75_row0_col4, #T_71f75_row0_col5, #T_71f75_row0_col6 {\n",
       "  text-align: left;\n",
       "  background-color: yellow;\n",
       "}\n",
       "#T_71f75_row0_col7, #T_71f75_row1_col7, #T_71f75_row2_col7, #T_71f75_row3_col7, #T_71f75_row4_col7, #T_71f75_row5_col7, #T_71f75_row6_col7, #T_71f75_row7_col7, #T_71f75_row8_col7, #T_71f75_row9_col7, #T_71f75_row10_col7, #T_71f75_row11_col7, #T_71f75_row12_col7, #T_71f75_row13_col7, #T_71f75_row14_col7, #T_71f75_row15_col7, #T_71f75_row17_col7 {\n",
       "  text-align: left;\n",
       "  background-color: lightgrey;\n",
       "}\n",
       "#T_71f75_row16_col7 {\n",
       "  text-align: left;\n",
       "  background-color: yellow;\n",
       "  background-color: lightgrey;\n",
       "}\n",
       "</style>\n",
       "<table id=\"T_71f75\">\n",
       "  <thead>\n",
       "    <tr>\n",
       "      <th class=\"blank level0\" >&nbsp;</th>\n",
       "      <th id=\"T_71f75_level0_col0\" class=\"col_heading level0 col0\" >Model</th>\n",
       "      <th id=\"T_71f75_level0_col1\" class=\"col_heading level0 col1\" >MAE</th>\n",
       "      <th id=\"T_71f75_level0_col2\" class=\"col_heading level0 col2\" >MSE</th>\n",
       "      <th id=\"T_71f75_level0_col3\" class=\"col_heading level0 col3\" >RMSE</th>\n",
       "      <th id=\"T_71f75_level0_col4\" class=\"col_heading level0 col4\" >R2</th>\n",
       "      <th id=\"T_71f75_level0_col5\" class=\"col_heading level0 col5\" >RMSLE</th>\n",
       "      <th id=\"T_71f75_level0_col6\" class=\"col_heading level0 col6\" >MAPE</th>\n",
       "      <th id=\"T_71f75_level0_col7\" class=\"col_heading level0 col7\" >TT (Sec)</th>\n",
       "    </tr>\n",
       "  </thead>\n",
       "  <tbody>\n",
       "    <tr>\n",
       "      <th id=\"T_71f75_level0_row0\" class=\"row_heading level0 row0\" >et</th>\n",
       "      <td id=\"T_71f75_row0_col0\" class=\"data row0 col0\" >Extra Trees Regressor</td>\n",
       "      <td id=\"T_71f75_row0_col1\" class=\"data row0 col1\" >0.0444</td>\n",
       "      <td id=\"T_71f75_row0_col2\" class=\"data row0 col2\" >0.0154</td>\n",
       "      <td id=\"T_71f75_row0_col3\" class=\"data row0 col3\" >0.1054</td>\n",
       "      <td id=\"T_71f75_row0_col4\" class=\"data row0 col4\" >0.9853</td>\n",
       "      <td id=\"T_71f75_row0_col5\" class=\"data row0 col5\" >0.0451</td>\n",
       "      <td id=\"T_71f75_row0_col6\" class=\"data row0 col6\" >0.3794</td>\n",
       "      <td id=\"T_71f75_row0_col7\" class=\"data row0 col7\" >0.0210</td>\n",
       "    </tr>\n",
       "    <tr>\n",
       "      <th id=\"T_71f75_level0_row1\" class=\"row_heading level0 row1\" >rf</th>\n",
       "      <td id=\"T_71f75_row1_col0\" class=\"data row1 col0\" >Random Forest Regressor</td>\n",
       "      <td id=\"T_71f75_row1_col1\" class=\"data row1 col1\" >0.0776</td>\n",
       "      <td id=\"T_71f75_row1_col2\" class=\"data row1 col2\" >0.0856</td>\n",
       "      <td id=\"T_71f75_row1_col3\" class=\"data row1 col3\" >0.2196</td>\n",
       "      <td id=\"T_71f75_row1_col4\" class=\"data row1 col4\" >0.9183</td>\n",
       "      <td id=\"T_71f75_row1_col5\" class=\"data row1 col5\" >0.0768</td>\n",
       "      <td id=\"T_71f75_row1_col6\" class=\"data row1 col6\" >0.4537</td>\n",
       "      <td id=\"T_71f75_row1_col7\" class=\"data row1 col7\" >0.0290</td>\n",
       "    </tr>\n",
       "    <tr>\n",
       "      <th id=\"T_71f75_level0_row2\" class=\"row_heading level0 row2\" >gbr</th>\n",
       "      <td id=\"T_71f75_row2_col0\" class=\"data row2 col0\" >Gradient Boosting Regressor</td>\n",
       "      <td id=\"T_71f75_row2_col1\" class=\"data row2 col1\" >0.1229</td>\n",
       "      <td id=\"T_71f75_row2_col2\" class=\"data row2 col2\" >0.0815</td>\n",
       "      <td id=\"T_71f75_row2_col3\" class=\"data row2 col3\" >0.2457</td>\n",
       "      <td id=\"T_71f75_row2_col4\" class=\"data row2 col4\" >0.9133</td>\n",
       "      <td id=\"T_71f75_row2_col5\" class=\"data row2 col5\" >0.1087</td>\n",
       "      <td id=\"T_71f75_row2_col6\" class=\"data row2 col6\" >0.9615</td>\n",
       "      <td id=\"T_71f75_row2_col7\" class=\"data row2 col7\" >0.0150</td>\n",
       "    </tr>\n",
       "    <tr>\n",
       "      <th id=\"T_71f75_level0_row3\" class=\"row_heading level0 row3\" >lightgbm</th>\n",
       "      <td id=\"T_71f75_row3_col0\" class=\"data row3 col0\" >Light Gradient Boosting Machine</td>\n",
       "      <td id=\"T_71f75_row3_col1\" class=\"data row3 col1\" >0.1106</td>\n",
       "      <td id=\"T_71f75_row3_col2\" class=\"data row3 col2\" >0.1099</td>\n",
       "      <td id=\"T_71f75_row3_col3\" class=\"data row3 col3\" >0.2921</td>\n",
       "      <td id=\"T_71f75_row3_col4\" class=\"data row3 col4\" >0.8975</td>\n",
       "      <td id=\"T_71f75_row3_col5\" class=\"data row3 col5\" >0.1007</td>\n",
       "      <td id=\"T_71f75_row3_col6\" class=\"data row3 col6\" >0.7146</td>\n",
       "      <td id=\"T_71f75_row3_col7\" class=\"data row3 col7\" >0.1080</td>\n",
       "    </tr>\n",
       "    <tr>\n",
       "      <th id=\"T_71f75_level0_row4\" class=\"row_heading level0 row4\" >dt</th>\n",
       "      <td id=\"T_71f75_row4_col0\" class=\"data row4 col0\" >Decision Tree Regressor</td>\n",
       "      <td id=\"T_71f75_row4_col1\" class=\"data row4 col1\" >0.0963</td>\n",
       "      <td id=\"T_71f75_row4_col2\" class=\"data row4 col2\" >0.1424</td>\n",
       "      <td id=\"T_71f75_row4_col3\" class=\"data row4 col3\" >0.3113</td>\n",
       "      <td id=\"T_71f75_row4_col4\" class=\"data row4 col4\" >0.8301</td>\n",
       "      <td id=\"T_71f75_row4_col5\" class=\"data row4 col5\" >0.1054</td>\n",
       "      <td id=\"T_71f75_row4_col6\" class=\"data row4 col6\" >0.5288</td>\n",
       "      <td id=\"T_71f75_row4_col7\" class=\"data row4 col7\" >0.0050</td>\n",
       "    </tr>\n",
       "    <tr>\n",
       "      <th id=\"T_71f75_level0_row5\" class=\"row_heading level0 row5\" >ada</th>\n",
       "      <td id=\"T_71f75_row5_col0\" class=\"data row5 col0\" >AdaBoost Regressor</td>\n",
       "      <td id=\"T_71f75_row5_col1\" class=\"data row5 col1\" >0.3741</td>\n",
       "      <td id=\"T_71f75_row5_col2\" class=\"data row5 col2\" >0.2601</td>\n",
       "      <td id=\"T_71f75_row5_col3\" class=\"data row5 col3\" >0.4837</td>\n",
       "      <td id=\"T_71f75_row5_col4\" class=\"data row5 col4\" >0.6442</td>\n",
       "      <td id=\"T_71f75_row5_col5\" class=\"data row5 col5\" >0.2147</td>\n",
       "      <td id=\"T_71f75_row5_col6\" class=\"data row5 col6\" >2.5735</td>\n",
       "      <td id=\"T_71f75_row5_col7\" class=\"data row5 col7\" >0.0110</td>\n",
       "    </tr>\n",
       "    <tr>\n",
       "      <th id=\"T_71f75_level0_row6\" class=\"row_heading level0 row6\" >br</th>\n",
       "      <td id=\"T_71f75_row6_col0\" class=\"data row6 col0\" >Bayesian Ridge</td>\n",
       "      <td id=\"T_71f75_row6_col1\" class=\"data row6 col1\" >0.4093</td>\n",
       "      <td id=\"T_71f75_row6_col2\" class=\"data row6 col2\" >0.5629</td>\n",
       "      <td id=\"T_71f75_row6_col3\" class=\"data row6 col3\" >0.7271</td>\n",
       "      <td id=\"T_71f75_row6_col4\" class=\"data row6 col4\" >0.3295</td>\n",
       "      <td id=\"T_71f75_row6_col5\" class=\"data row6 col5\" >0.2671</td>\n",
       "      <td id=\"T_71f75_row6_col6\" class=\"data row6 col6\" >3.2042</td>\n",
       "      <td id=\"T_71f75_row6_col7\" class=\"data row6 col7\" >0.0050</td>\n",
       "    </tr>\n",
       "    <tr>\n",
       "      <th id=\"T_71f75_level0_row7\" class=\"row_heading level0 row7\" >ridge</th>\n",
       "      <td id=\"T_71f75_row7_col0\" class=\"data row7 col0\" >Ridge Regression</td>\n",
       "      <td id=\"T_71f75_row7_col1\" class=\"data row7 col1\" >0.4098</td>\n",
       "      <td id=\"T_71f75_row7_col2\" class=\"data row7 col2\" >0.5630</td>\n",
       "      <td id=\"T_71f75_row7_col3\" class=\"data row7 col3\" >0.7273</td>\n",
       "      <td id=\"T_71f75_row7_col4\" class=\"data row7 col4\" >0.3284</td>\n",
       "      <td id=\"T_71f75_row7_col5\" class=\"data row7 col5\" >0.2671</td>\n",
       "      <td id=\"T_71f75_row7_col6\" class=\"data row7 col6\" >3.2143</td>\n",
       "      <td id=\"T_71f75_row7_col7\" class=\"data row7 col7\" >0.1360</td>\n",
       "    </tr>\n",
       "    <tr>\n",
       "      <th id=\"T_71f75_level0_row8\" class=\"row_heading level0 row8\" >lar</th>\n",
       "      <td id=\"T_71f75_row8_col0\" class=\"data row8 col0\" >Least Angle Regression</td>\n",
       "      <td id=\"T_71f75_row8_col1\" class=\"data row8 col1\" >0.4099</td>\n",
       "      <td id=\"T_71f75_row8_col2\" class=\"data row8 col2\" >0.5631</td>\n",
       "      <td id=\"T_71f75_row8_col3\" class=\"data row8 col3\" >0.7274</td>\n",
       "      <td id=\"T_71f75_row8_col4\" class=\"data row8 col4\" >0.3282</td>\n",
       "      <td id=\"T_71f75_row8_col5\" class=\"data row8 col5\" >0.2671</td>\n",
       "      <td id=\"T_71f75_row8_col6\" class=\"data row8 col6\" >3.2167</td>\n",
       "      <td id=\"T_71f75_row8_col7\" class=\"data row8 col7\" >0.0050</td>\n",
       "    </tr>\n",
       "    <tr>\n",
       "      <th id=\"T_71f75_level0_row9\" class=\"row_heading level0 row9\" >lr</th>\n",
       "      <td id=\"T_71f75_row9_col0\" class=\"data row9 col0\" >Linear Regression</td>\n",
       "      <td id=\"T_71f75_row9_col1\" class=\"data row9 col1\" >0.4099</td>\n",
       "      <td id=\"T_71f75_row9_col2\" class=\"data row9 col2\" >0.5631</td>\n",
       "      <td id=\"T_71f75_row9_col3\" class=\"data row9 col3\" >0.7274</td>\n",
       "      <td id=\"T_71f75_row9_col4\" class=\"data row9 col4\" >0.3282</td>\n",
       "      <td id=\"T_71f75_row9_col5\" class=\"data row9 col5\" >0.2671</td>\n",
       "      <td id=\"T_71f75_row9_col6\" class=\"data row9 col6\" >3.2167</td>\n",
       "      <td id=\"T_71f75_row9_col7\" class=\"data row9 col7\" >0.2000</td>\n",
       "    </tr>\n",
       "    <tr>\n",
       "      <th id=\"T_71f75_level0_row10\" class=\"row_heading level0 row10\" >knn</th>\n",
       "      <td id=\"T_71f75_row10_col0\" class=\"data row10 col0\" >K Neighbors Regressor</td>\n",
       "      <td id=\"T_71f75_row10_col1\" class=\"data row10 col1\" >0.3250</td>\n",
       "      <td id=\"T_71f75_row10_col2\" class=\"data row10 col2\" >0.5595</td>\n",
       "      <td id=\"T_71f75_row10_col3\" class=\"data row10 col3\" >0.7256</td>\n",
       "      <td id=\"T_71f75_row10_col4\" class=\"data row10 col4\" >0.3108</td>\n",
       "      <td id=\"T_71f75_row10_col5\" class=\"data row10 col5\" >0.2640</td>\n",
       "      <td id=\"T_71f75_row10_col6\" class=\"data row10 col6\" >2.4686</td>\n",
       "      <td id=\"T_71f75_row10_col7\" class=\"data row10 col7\" >0.0080</td>\n",
       "    </tr>\n",
       "    <tr>\n",
       "      <th id=\"T_71f75_level0_row11\" class=\"row_heading level0 row11\" >huber</th>\n",
       "      <td id=\"T_71f75_row11_col0\" class=\"data row11 col0\" >Huber Regressor</td>\n",
       "      <td id=\"T_71f75_row11_col1\" class=\"data row11 col1\" >0.3149</td>\n",
       "      <td id=\"T_71f75_row11_col2\" class=\"data row11 col2\" >0.6857</td>\n",
       "      <td id=\"T_71f75_row11_col3\" class=\"data row11 col3\" >0.7902</td>\n",
       "      <td id=\"T_71f75_row11_col4\" class=\"data row11 col4\" >0.2531</td>\n",
       "      <td id=\"T_71f75_row11_col5\" class=\"data row11 col5\" >0.3127</td>\n",
       "      <td id=\"T_71f75_row11_col6\" class=\"data row11 col6\" >1.6800</td>\n",
       "      <td id=\"T_71f75_row11_col7\" class=\"data row11 col7\" >0.0060</td>\n",
       "    </tr>\n",
       "    <tr>\n",
       "      <th id=\"T_71f75_level0_row12\" class=\"row_heading level0 row12\" >en</th>\n",
       "      <td id=\"T_71f75_row12_col0\" class=\"data row12 col0\" >Elastic Net</td>\n",
       "      <td id=\"T_71f75_row12_col1\" class=\"data row12 col1\" >0.4958</td>\n",
       "      <td id=\"T_71f75_row12_col2\" class=\"data row12 col2\" >0.9298</td>\n",
       "      <td id=\"T_71f75_row12_col3\" class=\"data row12 col3\" >0.9126</td>\n",
       "      <td id=\"T_71f75_row12_col4\" class=\"data row12 col4\" >0.0219</td>\n",
       "      <td id=\"T_71f75_row12_col5\" class=\"data row12 col5\" >0.4181</td>\n",
       "      <td id=\"T_71f75_row12_col6\" class=\"data row12 col6\" >1.2106</td>\n",
       "      <td id=\"T_71f75_row12_col7\" class=\"data row12 col7\" >0.0060</td>\n",
       "    </tr>\n",
       "    <tr>\n",
       "      <th id=\"T_71f75_level0_row13\" class=\"row_heading level0 row13\" >omp</th>\n",
       "      <td id=\"T_71f75_row13_col0\" class=\"data row13 col0\" >Orthogonal Matching Pursuit</td>\n",
       "      <td id=\"T_71f75_row13_col1\" class=\"data row13 col1\" >0.5065</td>\n",
       "      <td id=\"T_71f75_row13_col2\" class=\"data row13 col2\" >0.9491</td>\n",
       "      <td id=\"T_71f75_row13_col3\" class=\"data row13 col3\" >0.9263</td>\n",
       "      <td id=\"T_71f75_row13_col4\" class=\"data row13 col4\" >-0.0187</td>\n",
       "      <td id=\"T_71f75_row13_col5\" class=\"data row13 col5\" >0.3857</td>\n",
       "      <td id=\"T_71f75_row13_col6\" class=\"data row13 col6\" >1.4355</td>\n",
       "      <td id=\"T_71f75_row13_col7\" class=\"data row13 col7\" >0.0050</td>\n",
       "    </tr>\n",
       "    <tr>\n",
       "      <th id=\"T_71f75_level0_row14\" class=\"row_heading level0 row14\" >lasso</th>\n",
       "      <td id=\"T_71f75_row14_col0\" class=\"data row14 col0\" >Lasso Regression</td>\n",
       "      <td id=\"T_71f75_row14_col1\" class=\"data row14 col1\" >0.5102</td>\n",
       "      <td id=\"T_71f75_row14_col2\" class=\"data row14 col2\" >0.9597</td>\n",
       "      <td id=\"T_71f75_row14_col3\" class=\"data row14 col3\" >0.9302</td>\n",
       "      <td id=\"T_71f75_row14_col4\" class=\"data row14 col4\" >-0.0222</td>\n",
       "      <td id=\"T_71f75_row14_col5\" class=\"data row14 col5\" >0.4393</td>\n",
       "      <td id=\"T_71f75_row14_col6\" class=\"data row14 col6\" >1.0658</td>\n",
       "      <td id=\"T_71f75_row14_col7\" class=\"data row14 col7\" >0.1730</td>\n",
       "    </tr>\n",
       "    <tr>\n",
       "      <th id=\"T_71f75_level0_row15\" class=\"row_heading level0 row15\" >llar</th>\n",
       "      <td id=\"T_71f75_row15_col0\" class=\"data row15 col0\" >Lasso Least Angle Regression</td>\n",
       "      <td id=\"T_71f75_row15_col1\" class=\"data row15 col1\" >0.5102</td>\n",
       "      <td id=\"T_71f75_row15_col2\" class=\"data row15 col2\" >0.9597</td>\n",
       "      <td id=\"T_71f75_row15_col3\" class=\"data row15 col3\" >0.9302</td>\n",
       "      <td id=\"T_71f75_row15_col4\" class=\"data row15 col4\" >-0.0222</td>\n",
       "      <td id=\"T_71f75_row15_col5\" class=\"data row15 col5\" >0.4393</td>\n",
       "      <td id=\"T_71f75_row15_col6\" class=\"data row15 col6\" >1.0658</td>\n",
       "      <td id=\"T_71f75_row15_col7\" class=\"data row15 col7\" >0.0050</td>\n",
       "    </tr>\n",
       "    <tr>\n",
       "      <th id=\"T_71f75_level0_row16\" class=\"row_heading level0 row16\" >dummy</th>\n",
       "      <td id=\"T_71f75_row16_col0\" class=\"data row16 col0\" >Dummy Regressor</td>\n",
       "      <td id=\"T_71f75_row16_col1\" class=\"data row16 col1\" >0.5102</td>\n",
       "      <td id=\"T_71f75_row16_col2\" class=\"data row16 col2\" >0.9597</td>\n",
       "      <td id=\"T_71f75_row16_col3\" class=\"data row16 col3\" >0.9302</td>\n",
       "      <td id=\"T_71f75_row16_col4\" class=\"data row16 col4\" >-0.0222</td>\n",
       "      <td id=\"T_71f75_row16_col5\" class=\"data row16 col5\" >0.4393</td>\n",
       "      <td id=\"T_71f75_row16_col6\" class=\"data row16 col6\" >1.0658</td>\n",
       "      <td id=\"T_71f75_row16_col7\" class=\"data row16 col7\" >0.0040</td>\n",
       "    </tr>\n",
       "    <tr>\n",
       "      <th id=\"T_71f75_level0_row17\" class=\"row_heading level0 row17\" >par</th>\n",
       "      <td id=\"T_71f75_row17_col0\" class=\"data row17 col0\" >Passive Aggressive Regressor</td>\n",
       "      <td id=\"T_71f75_row17_col1\" class=\"data row17 col1\" >0.4131</td>\n",
       "      <td id=\"T_71f75_row17_col2\" class=\"data row17 col2\" >1.0084</td>\n",
       "      <td id=\"T_71f75_row17_col3\" class=\"data row17 col3\" >0.9515</td>\n",
       "      <td id=\"T_71f75_row17_col4\" class=\"data row17 col4\" >-0.0602</td>\n",
       "      <td id=\"T_71f75_row17_col5\" class=\"data row17 col5\" >0.3343</td>\n",
       "      <td id=\"T_71f75_row17_col6\" class=\"data row17 col6\" >1.8342</td>\n",
       "      <td id=\"T_71f75_row17_col7\" class=\"data row17 col7\" >0.0050</td>\n",
       "    </tr>\n",
       "  </tbody>\n",
       "</table>\n"
      ],
      "text/plain": [
       "<pandas.io.formats.style.Styler at 0x258ff60ad40>"
      ]
     },
     "metadata": {},
     "output_type": "display_data"
    },
    {
     "data": {
      "text/html": [],
      "text/plain": [
       "<IPython.core.display.HTML object>"
      ]
     },
     "metadata": {},
     "output_type": "display_data"
    }
   ],
   "source": [
    "best = compare_models()"
   ]
  },
  {
   "cell_type": "code",
   "execution_count": 180,
   "metadata": {},
   "outputs": [
    {
     "data": {
      "text/html": [
       "<style type=\"text/css\">\n",
       "#T_0b28a_row8_col1 {\n",
       "  background-color: lightgreen;\n",
       "}\n",
       "</style>\n",
       "<table id=\"T_0b28a\">\n",
       "  <thead>\n",
       "    <tr>\n",
       "      <th class=\"blank level0\" >&nbsp;</th>\n",
       "      <th id=\"T_0b28a_level0_col0\" class=\"col_heading level0 col0\" >Description</th>\n",
       "      <th id=\"T_0b28a_level0_col1\" class=\"col_heading level0 col1\" >Value</th>\n",
       "    </tr>\n",
       "  </thead>\n",
       "  <tbody>\n",
       "    <tr>\n",
       "      <th id=\"T_0b28a_level0_row0\" class=\"row_heading level0 row0\" >0</th>\n",
       "      <td id=\"T_0b28a_row0_col0\" class=\"data row0 col0\" >Session id</td>\n",
       "      <td id=\"T_0b28a_row0_col1\" class=\"data row0 col1\" >123</td>\n",
       "    </tr>\n",
       "    <tr>\n",
       "      <th id=\"T_0b28a_level0_row1\" class=\"row_heading level0 row1\" >1</th>\n",
       "      <td id=\"T_0b28a_row1_col0\" class=\"data row1 col0\" >Target</td>\n",
       "      <td id=\"T_0b28a_row1_col1\" class=\"data row1 col1\" >total_gdp_million</td>\n",
       "    </tr>\n",
       "    <tr>\n",
       "      <th id=\"T_0b28a_level0_row2\" class=\"row_heading level0 row2\" >2</th>\n",
       "      <td id=\"T_0b28a_row2_col0\" class=\"data row2 col0\" >Target type</td>\n",
       "      <td id=\"T_0b28a_row2_col1\" class=\"data row2 col1\" >Regression</td>\n",
       "    </tr>\n",
       "    <tr>\n",
       "      <th id=\"T_0b28a_level0_row3\" class=\"row_heading level0 row3\" >3</th>\n",
       "      <td id=\"T_0b28a_row3_col0\" class=\"data row3 col0\" >Original data shape</td>\n",
       "      <td id=\"T_0b28a_row3_col1\" class=\"data row3 col1\" >(1575, 5)</td>\n",
       "    </tr>\n",
       "    <tr>\n",
       "      <th id=\"T_0b28a_level0_row4\" class=\"row_heading level0 row4\" >4</th>\n",
       "      <td id=\"T_0b28a_row4_col0\" class=\"data row4 col0\" >Transformed data shape</td>\n",
       "      <td id=\"T_0b28a_row4_col1\" class=\"data row4 col1\" >(1575, 5)</td>\n",
       "    </tr>\n",
       "    <tr>\n",
       "      <th id=\"T_0b28a_level0_row5\" class=\"row_heading level0 row5\" >5</th>\n",
       "      <td id=\"T_0b28a_row5_col0\" class=\"data row5 col0\" >Transformed train set shape</td>\n",
       "      <td id=\"T_0b28a_row5_col1\" class=\"data row5 col1\" >(1102, 5)</td>\n",
       "    </tr>\n",
       "    <tr>\n",
       "      <th id=\"T_0b28a_level0_row6\" class=\"row_heading level0 row6\" >6</th>\n",
       "      <td id=\"T_0b28a_row6_col0\" class=\"data row6 col0\" >Transformed test set shape</td>\n",
       "      <td id=\"T_0b28a_row6_col1\" class=\"data row6 col1\" >(473, 5)</td>\n",
       "    </tr>\n",
       "    <tr>\n",
       "      <th id=\"T_0b28a_level0_row7\" class=\"row_heading level0 row7\" >7</th>\n",
       "      <td id=\"T_0b28a_row7_col0\" class=\"data row7 col0\" >Numeric features</td>\n",
       "      <td id=\"T_0b28a_row7_col1\" class=\"data row7 col1\" >4</td>\n",
       "    </tr>\n",
       "    <tr>\n",
       "      <th id=\"T_0b28a_level0_row8\" class=\"row_heading level0 row8\" >8</th>\n",
       "      <td id=\"T_0b28a_row8_col0\" class=\"data row8 col0\" >Preprocess</td>\n",
       "      <td id=\"T_0b28a_row8_col1\" class=\"data row8 col1\" >True</td>\n",
       "    </tr>\n",
       "    <tr>\n",
       "      <th id=\"T_0b28a_level0_row9\" class=\"row_heading level0 row9\" >9</th>\n",
       "      <td id=\"T_0b28a_row9_col0\" class=\"data row9 col0\" >Imputation type</td>\n",
       "      <td id=\"T_0b28a_row9_col1\" class=\"data row9 col1\" >simple</td>\n",
       "    </tr>\n",
       "    <tr>\n",
       "      <th id=\"T_0b28a_level0_row10\" class=\"row_heading level0 row10\" >10</th>\n",
       "      <td id=\"T_0b28a_row10_col0\" class=\"data row10 col0\" >Numeric imputation</td>\n",
       "      <td id=\"T_0b28a_row10_col1\" class=\"data row10 col1\" >mean</td>\n",
       "    </tr>\n",
       "    <tr>\n",
       "      <th id=\"T_0b28a_level0_row11\" class=\"row_heading level0 row11\" >11</th>\n",
       "      <td id=\"T_0b28a_row11_col0\" class=\"data row11 col0\" >Categorical imputation</td>\n",
       "      <td id=\"T_0b28a_row11_col1\" class=\"data row11 col1\" >mode</td>\n",
       "    </tr>\n",
       "    <tr>\n",
       "      <th id=\"T_0b28a_level0_row12\" class=\"row_heading level0 row12\" >12</th>\n",
       "      <td id=\"T_0b28a_row12_col0\" class=\"data row12 col0\" >Fold Generator</td>\n",
       "      <td id=\"T_0b28a_row12_col1\" class=\"data row12 col1\" >KFold</td>\n",
       "    </tr>\n",
       "    <tr>\n",
       "      <th id=\"T_0b28a_level0_row13\" class=\"row_heading level0 row13\" >13</th>\n",
       "      <td id=\"T_0b28a_row13_col0\" class=\"data row13 col0\" >Fold Number</td>\n",
       "      <td id=\"T_0b28a_row13_col1\" class=\"data row13 col1\" >10</td>\n",
       "    </tr>\n",
       "    <tr>\n",
       "      <th id=\"T_0b28a_level0_row14\" class=\"row_heading level0 row14\" >14</th>\n",
       "      <td id=\"T_0b28a_row14_col0\" class=\"data row14 col0\" >CPU Jobs</td>\n",
       "      <td id=\"T_0b28a_row14_col1\" class=\"data row14 col1\" >-1</td>\n",
       "    </tr>\n",
       "    <tr>\n",
       "      <th id=\"T_0b28a_level0_row15\" class=\"row_heading level0 row15\" >15</th>\n",
       "      <td id=\"T_0b28a_row15_col0\" class=\"data row15 col0\" >Use GPU</td>\n",
       "      <td id=\"T_0b28a_row15_col1\" class=\"data row15 col1\" >False</td>\n",
       "    </tr>\n",
       "    <tr>\n",
       "      <th id=\"T_0b28a_level0_row16\" class=\"row_heading level0 row16\" >16</th>\n",
       "      <td id=\"T_0b28a_row16_col0\" class=\"data row16 col0\" >Log Experiment</td>\n",
       "      <td id=\"T_0b28a_row16_col1\" class=\"data row16 col1\" >False</td>\n",
       "    </tr>\n",
       "    <tr>\n",
       "      <th id=\"T_0b28a_level0_row17\" class=\"row_heading level0 row17\" >17</th>\n",
       "      <td id=\"T_0b28a_row17_col0\" class=\"data row17 col0\" >Experiment Name</td>\n",
       "      <td id=\"T_0b28a_row17_col1\" class=\"data row17 col1\" >reg-default-name</td>\n",
       "    </tr>\n",
       "    <tr>\n",
       "      <th id=\"T_0b28a_level0_row18\" class=\"row_heading level0 row18\" >18</th>\n",
       "      <td id=\"T_0b28a_row18_col0\" class=\"data row18 col0\" >USI</td>\n",
       "      <td id=\"T_0b28a_row18_col1\" class=\"data row18 col1\" >2280</td>\n",
       "    </tr>\n",
       "  </tbody>\n",
       "</table>\n"
      ],
      "text/plain": [
       "<pandas.io.formats.style.Styler at 0x25883757e20>"
      ]
     },
     "metadata": {},
     "output_type": "display_data"
    }
   ],
   "source": [
    "reg = setup(Data_final, target = 'total_gdp_million', session_id = 123,remove_multicollinearity=False)"
   ]
  },
  {
   "cell_type": "code",
   "execution_count": 181,
   "metadata": {},
   "outputs": [
    {
     "data": {
      "text/html": [],
      "text/plain": [
       "<IPython.core.display.HTML object>"
      ]
     },
     "metadata": {},
     "output_type": "display_data"
    },
    {
     "data": {
      "text/html": [
       "<style type=\"text/css\">\n",
       "#T_39aa4 th {\n",
       "  text-align: left;\n",
       "}\n",
       "#T_39aa4_row0_col0, #T_39aa4_row1_col0, #T_39aa4_row1_col1, #T_39aa4_row1_col2, #T_39aa4_row1_col3, #T_39aa4_row1_col4, #T_39aa4_row1_col5, #T_39aa4_row1_col6, #T_39aa4_row2_col0, #T_39aa4_row2_col1, #T_39aa4_row2_col2, #T_39aa4_row2_col3, #T_39aa4_row2_col4, #T_39aa4_row2_col5, #T_39aa4_row2_col6, #T_39aa4_row3_col0, #T_39aa4_row3_col1, #T_39aa4_row3_col2, #T_39aa4_row3_col3, #T_39aa4_row3_col4, #T_39aa4_row3_col5, #T_39aa4_row3_col6, #T_39aa4_row4_col0, #T_39aa4_row4_col1, #T_39aa4_row4_col2, #T_39aa4_row4_col3, #T_39aa4_row4_col4, #T_39aa4_row4_col5, #T_39aa4_row4_col6, #T_39aa4_row5_col0, #T_39aa4_row5_col1, #T_39aa4_row5_col2, #T_39aa4_row5_col3, #T_39aa4_row5_col4, #T_39aa4_row5_col5, #T_39aa4_row5_col6, #T_39aa4_row6_col0, #T_39aa4_row6_col1, #T_39aa4_row6_col2, #T_39aa4_row6_col3, #T_39aa4_row6_col4, #T_39aa4_row6_col5, #T_39aa4_row6_col6, #T_39aa4_row7_col0, #T_39aa4_row7_col1, #T_39aa4_row7_col2, #T_39aa4_row7_col3, #T_39aa4_row7_col4, #T_39aa4_row7_col5, #T_39aa4_row7_col6, #T_39aa4_row8_col0, #T_39aa4_row8_col1, #T_39aa4_row8_col2, #T_39aa4_row8_col3, #T_39aa4_row8_col4, #T_39aa4_row8_col5, #T_39aa4_row8_col6, #T_39aa4_row9_col0, #T_39aa4_row9_col1, #T_39aa4_row9_col2, #T_39aa4_row9_col3, #T_39aa4_row9_col4, #T_39aa4_row9_col5, #T_39aa4_row9_col6, #T_39aa4_row10_col0, #T_39aa4_row10_col1, #T_39aa4_row10_col2, #T_39aa4_row10_col3, #T_39aa4_row10_col4, #T_39aa4_row10_col5, #T_39aa4_row10_col6, #T_39aa4_row11_col0, #T_39aa4_row11_col1, #T_39aa4_row11_col2, #T_39aa4_row11_col3, #T_39aa4_row11_col4, #T_39aa4_row11_col5, #T_39aa4_row11_col6, #T_39aa4_row12_col0, #T_39aa4_row12_col1, #T_39aa4_row12_col2, #T_39aa4_row12_col3, #T_39aa4_row12_col4, #T_39aa4_row12_col5, #T_39aa4_row12_col6, #T_39aa4_row13_col0, #T_39aa4_row13_col1, #T_39aa4_row13_col2, #T_39aa4_row13_col3, #T_39aa4_row13_col4, #T_39aa4_row13_col5, #T_39aa4_row13_col6, #T_39aa4_row14_col0, #T_39aa4_row14_col1, #T_39aa4_row14_col2, #T_39aa4_row14_col3, #T_39aa4_row14_col4, #T_39aa4_row14_col5, #T_39aa4_row14_col6, #T_39aa4_row15_col0, #T_39aa4_row15_col1, #T_39aa4_row15_col2, #T_39aa4_row15_col3, #T_39aa4_row15_col4, #T_39aa4_row15_col5, #T_39aa4_row15_col6, #T_39aa4_row16_col0, #T_39aa4_row16_col1, #T_39aa4_row16_col2, #T_39aa4_row16_col3, #T_39aa4_row16_col4, #T_39aa4_row16_col5, #T_39aa4_row16_col6, #T_39aa4_row17_col0, #T_39aa4_row17_col1, #T_39aa4_row17_col2, #T_39aa4_row17_col3, #T_39aa4_row17_col4, #T_39aa4_row17_col5, #T_39aa4_row17_col6 {\n",
       "  text-align: left;\n",
       "}\n",
       "#T_39aa4_row0_col1, #T_39aa4_row0_col2, #T_39aa4_row0_col3, #T_39aa4_row0_col4, #T_39aa4_row0_col5, #T_39aa4_row0_col6 {\n",
       "  text-align: left;\n",
       "  background-color: yellow;\n",
       "}\n",
       "#T_39aa4_row0_col7, #T_39aa4_row1_col7, #T_39aa4_row2_col7, #T_39aa4_row3_col7, #T_39aa4_row4_col7, #T_39aa4_row5_col7, #T_39aa4_row7_col7, #T_39aa4_row8_col7, #T_39aa4_row9_col7, #T_39aa4_row10_col7, #T_39aa4_row11_col7, #T_39aa4_row12_col7, #T_39aa4_row13_col7, #T_39aa4_row14_col7, #T_39aa4_row15_col7, #T_39aa4_row16_col7, #T_39aa4_row17_col7 {\n",
       "  text-align: left;\n",
       "  background-color: lightgrey;\n",
       "}\n",
       "#T_39aa4_row6_col7 {\n",
       "  text-align: left;\n",
       "  background-color: yellow;\n",
       "  background-color: lightgrey;\n",
       "}\n",
       "</style>\n",
       "<table id=\"T_39aa4\">\n",
       "  <thead>\n",
       "    <tr>\n",
       "      <th class=\"blank level0\" >&nbsp;</th>\n",
       "      <th id=\"T_39aa4_level0_col0\" class=\"col_heading level0 col0\" >Model</th>\n",
       "      <th id=\"T_39aa4_level0_col1\" class=\"col_heading level0 col1\" >MAE</th>\n",
       "      <th id=\"T_39aa4_level0_col2\" class=\"col_heading level0 col2\" >MSE</th>\n",
       "      <th id=\"T_39aa4_level0_col3\" class=\"col_heading level0 col3\" >RMSE</th>\n",
       "      <th id=\"T_39aa4_level0_col4\" class=\"col_heading level0 col4\" >R2</th>\n",
       "      <th id=\"T_39aa4_level0_col5\" class=\"col_heading level0 col5\" >RMSLE</th>\n",
       "      <th id=\"T_39aa4_level0_col6\" class=\"col_heading level0 col6\" >MAPE</th>\n",
       "      <th id=\"T_39aa4_level0_col7\" class=\"col_heading level0 col7\" >TT (Sec)</th>\n",
       "    </tr>\n",
       "  </thead>\n",
       "  <tbody>\n",
       "    <tr>\n",
       "      <th id=\"T_39aa4_level0_row0\" class=\"row_heading level0 row0\" >et</th>\n",
       "      <td id=\"T_39aa4_row0_col0\" class=\"data row0 col0\" >Extra Trees Regressor</td>\n",
       "      <td id=\"T_39aa4_row0_col1\" class=\"data row0 col1\" >0.0444</td>\n",
       "      <td id=\"T_39aa4_row0_col2\" class=\"data row0 col2\" >0.0154</td>\n",
       "      <td id=\"T_39aa4_row0_col3\" class=\"data row0 col3\" >0.1054</td>\n",
       "      <td id=\"T_39aa4_row0_col4\" class=\"data row0 col4\" >0.9853</td>\n",
       "      <td id=\"T_39aa4_row0_col5\" class=\"data row0 col5\" >0.0451</td>\n",
       "      <td id=\"T_39aa4_row0_col6\" class=\"data row0 col6\" >0.3794</td>\n",
       "      <td id=\"T_39aa4_row0_col7\" class=\"data row0 col7\" >0.0190</td>\n",
       "    </tr>\n",
       "    <tr>\n",
       "      <th id=\"T_39aa4_level0_row1\" class=\"row_heading level0 row1\" >rf</th>\n",
       "      <td id=\"T_39aa4_row1_col0\" class=\"data row1 col0\" >Random Forest Regressor</td>\n",
       "      <td id=\"T_39aa4_row1_col1\" class=\"data row1 col1\" >0.0776</td>\n",
       "      <td id=\"T_39aa4_row1_col2\" class=\"data row1 col2\" >0.0856</td>\n",
       "      <td id=\"T_39aa4_row1_col3\" class=\"data row1 col3\" >0.2196</td>\n",
       "      <td id=\"T_39aa4_row1_col4\" class=\"data row1 col4\" >0.9183</td>\n",
       "      <td id=\"T_39aa4_row1_col5\" class=\"data row1 col5\" >0.0768</td>\n",
       "      <td id=\"T_39aa4_row1_col6\" class=\"data row1 col6\" >0.4537</td>\n",
       "      <td id=\"T_39aa4_row1_col7\" class=\"data row1 col7\" >0.0260</td>\n",
       "    </tr>\n",
       "    <tr>\n",
       "      <th id=\"T_39aa4_level0_row2\" class=\"row_heading level0 row2\" >gbr</th>\n",
       "      <td id=\"T_39aa4_row2_col0\" class=\"data row2 col0\" >Gradient Boosting Regressor</td>\n",
       "      <td id=\"T_39aa4_row2_col1\" class=\"data row2 col1\" >0.1229</td>\n",
       "      <td id=\"T_39aa4_row2_col2\" class=\"data row2 col2\" >0.0815</td>\n",
       "      <td id=\"T_39aa4_row2_col3\" class=\"data row2 col3\" >0.2457</td>\n",
       "      <td id=\"T_39aa4_row2_col4\" class=\"data row2 col4\" >0.9133</td>\n",
       "      <td id=\"T_39aa4_row2_col5\" class=\"data row2 col5\" >0.1087</td>\n",
       "      <td id=\"T_39aa4_row2_col6\" class=\"data row2 col6\" >0.9615</td>\n",
       "      <td id=\"T_39aa4_row2_col7\" class=\"data row2 col7\" >0.0150</td>\n",
       "    </tr>\n",
       "    <tr>\n",
       "      <th id=\"T_39aa4_level0_row3\" class=\"row_heading level0 row3\" >lightgbm</th>\n",
       "      <td id=\"T_39aa4_row3_col0\" class=\"data row3 col0\" >Light Gradient Boosting Machine</td>\n",
       "      <td id=\"T_39aa4_row3_col1\" class=\"data row3 col1\" >0.1106</td>\n",
       "      <td id=\"T_39aa4_row3_col2\" class=\"data row3 col2\" >0.1099</td>\n",
       "      <td id=\"T_39aa4_row3_col3\" class=\"data row3 col3\" >0.2921</td>\n",
       "      <td id=\"T_39aa4_row3_col4\" class=\"data row3 col4\" >0.8975</td>\n",
       "      <td id=\"T_39aa4_row3_col5\" class=\"data row3 col5\" >0.1007</td>\n",
       "      <td id=\"T_39aa4_row3_col6\" class=\"data row3 col6\" >0.7146</td>\n",
       "      <td id=\"T_39aa4_row3_col7\" class=\"data row3 col7\" >0.1180</td>\n",
       "    </tr>\n",
       "    <tr>\n",
       "      <th id=\"T_39aa4_level0_row4\" class=\"row_heading level0 row4\" >dt</th>\n",
       "      <td id=\"T_39aa4_row4_col0\" class=\"data row4 col0\" >Decision Tree Regressor</td>\n",
       "      <td id=\"T_39aa4_row4_col1\" class=\"data row4 col1\" >0.0963</td>\n",
       "      <td id=\"T_39aa4_row4_col2\" class=\"data row4 col2\" >0.1424</td>\n",
       "      <td id=\"T_39aa4_row4_col3\" class=\"data row4 col3\" >0.3113</td>\n",
       "      <td id=\"T_39aa4_row4_col4\" class=\"data row4 col4\" >0.8301</td>\n",
       "      <td id=\"T_39aa4_row4_col5\" class=\"data row4 col5\" >0.1054</td>\n",
       "      <td id=\"T_39aa4_row4_col6\" class=\"data row4 col6\" >0.5288</td>\n",
       "      <td id=\"T_39aa4_row4_col7\" class=\"data row4 col7\" >0.0050</td>\n",
       "    </tr>\n",
       "    <tr>\n",
       "      <th id=\"T_39aa4_level0_row5\" class=\"row_heading level0 row5\" >ada</th>\n",
       "      <td id=\"T_39aa4_row5_col0\" class=\"data row5 col0\" >AdaBoost Regressor</td>\n",
       "      <td id=\"T_39aa4_row5_col1\" class=\"data row5 col1\" >0.3741</td>\n",
       "      <td id=\"T_39aa4_row5_col2\" class=\"data row5 col2\" >0.2601</td>\n",
       "      <td id=\"T_39aa4_row5_col3\" class=\"data row5 col3\" >0.4837</td>\n",
       "      <td id=\"T_39aa4_row5_col4\" class=\"data row5 col4\" >0.6442</td>\n",
       "      <td id=\"T_39aa4_row5_col5\" class=\"data row5 col5\" >0.2147</td>\n",
       "      <td id=\"T_39aa4_row5_col6\" class=\"data row5 col6\" >2.5735</td>\n",
       "      <td id=\"T_39aa4_row5_col7\" class=\"data row5 col7\" >0.0120</td>\n",
       "    </tr>\n",
       "    <tr>\n",
       "      <th id=\"T_39aa4_level0_row6\" class=\"row_heading level0 row6\" >br</th>\n",
       "      <td id=\"T_39aa4_row6_col0\" class=\"data row6 col0\" >Bayesian Ridge</td>\n",
       "      <td id=\"T_39aa4_row6_col1\" class=\"data row6 col1\" >0.4093</td>\n",
       "      <td id=\"T_39aa4_row6_col2\" class=\"data row6 col2\" >0.5629</td>\n",
       "      <td id=\"T_39aa4_row6_col3\" class=\"data row6 col3\" >0.7271</td>\n",
       "      <td id=\"T_39aa4_row6_col4\" class=\"data row6 col4\" >0.3295</td>\n",
       "      <td id=\"T_39aa4_row6_col5\" class=\"data row6 col5\" >0.2671</td>\n",
       "      <td id=\"T_39aa4_row6_col6\" class=\"data row6 col6\" >3.2042</td>\n",
       "      <td id=\"T_39aa4_row6_col7\" class=\"data row6 col7\" >0.0030</td>\n",
       "    </tr>\n",
       "    <tr>\n",
       "      <th id=\"T_39aa4_level0_row7\" class=\"row_heading level0 row7\" >ridge</th>\n",
       "      <td id=\"T_39aa4_row7_col0\" class=\"data row7 col0\" >Ridge Regression</td>\n",
       "      <td id=\"T_39aa4_row7_col1\" class=\"data row7 col1\" >0.4098</td>\n",
       "      <td id=\"T_39aa4_row7_col2\" class=\"data row7 col2\" >0.5630</td>\n",
       "      <td id=\"T_39aa4_row7_col3\" class=\"data row7 col3\" >0.7273</td>\n",
       "      <td id=\"T_39aa4_row7_col4\" class=\"data row7 col4\" >0.3284</td>\n",
       "      <td id=\"T_39aa4_row7_col5\" class=\"data row7 col5\" >0.2671</td>\n",
       "      <td id=\"T_39aa4_row7_col6\" class=\"data row7 col6\" >3.2143</td>\n",
       "      <td id=\"T_39aa4_row7_col7\" class=\"data row7 col7\" >0.0050</td>\n",
       "    </tr>\n",
       "    <tr>\n",
       "      <th id=\"T_39aa4_level0_row8\" class=\"row_heading level0 row8\" >lar</th>\n",
       "      <td id=\"T_39aa4_row8_col0\" class=\"data row8 col0\" >Least Angle Regression</td>\n",
       "      <td id=\"T_39aa4_row8_col1\" class=\"data row8 col1\" >0.4099</td>\n",
       "      <td id=\"T_39aa4_row8_col2\" class=\"data row8 col2\" >0.5631</td>\n",
       "      <td id=\"T_39aa4_row8_col3\" class=\"data row8 col3\" >0.7274</td>\n",
       "      <td id=\"T_39aa4_row8_col4\" class=\"data row8 col4\" >0.3282</td>\n",
       "      <td id=\"T_39aa4_row8_col5\" class=\"data row8 col5\" >0.2671</td>\n",
       "      <td id=\"T_39aa4_row8_col6\" class=\"data row8 col6\" >3.2167</td>\n",
       "      <td id=\"T_39aa4_row8_col7\" class=\"data row8 col7\" >0.0050</td>\n",
       "    </tr>\n",
       "    <tr>\n",
       "      <th id=\"T_39aa4_level0_row9\" class=\"row_heading level0 row9\" >lr</th>\n",
       "      <td id=\"T_39aa4_row9_col0\" class=\"data row9 col0\" >Linear Regression</td>\n",
       "      <td id=\"T_39aa4_row9_col1\" class=\"data row9 col1\" >0.4099</td>\n",
       "      <td id=\"T_39aa4_row9_col2\" class=\"data row9 col2\" >0.5631</td>\n",
       "      <td id=\"T_39aa4_row9_col3\" class=\"data row9 col3\" >0.7274</td>\n",
       "      <td id=\"T_39aa4_row9_col4\" class=\"data row9 col4\" >0.3282</td>\n",
       "      <td id=\"T_39aa4_row9_col5\" class=\"data row9 col5\" >0.2671</td>\n",
       "      <td id=\"T_39aa4_row9_col6\" class=\"data row9 col6\" >3.2167</td>\n",
       "      <td id=\"T_39aa4_row9_col7\" class=\"data row9 col7\" >0.0040</td>\n",
       "    </tr>\n",
       "    <tr>\n",
       "      <th id=\"T_39aa4_level0_row10\" class=\"row_heading level0 row10\" >knn</th>\n",
       "      <td id=\"T_39aa4_row10_col0\" class=\"data row10 col0\" >K Neighbors Regressor</td>\n",
       "      <td id=\"T_39aa4_row10_col1\" class=\"data row10 col1\" >0.3250</td>\n",
       "      <td id=\"T_39aa4_row10_col2\" class=\"data row10 col2\" >0.5595</td>\n",
       "      <td id=\"T_39aa4_row10_col3\" class=\"data row10 col3\" >0.7256</td>\n",
       "      <td id=\"T_39aa4_row10_col4\" class=\"data row10 col4\" >0.3108</td>\n",
       "      <td id=\"T_39aa4_row10_col5\" class=\"data row10 col5\" >0.2640</td>\n",
       "      <td id=\"T_39aa4_row10_col6\" class=\"data row10 col6\" >2.4686</td>\n",
       "      <td id=\"T_39aa4_row10_col7\" class=\"data row10 col7\" >0.0060</td>\n",
       "    </tr>\n",
       "    <tr>\n",
       "      <th id=\"T_39aa4_level0_row11\" class=\"row_heading level0 row11\" >huber</th>\n",
       "      <td id=\"T_39aa4_row11_col0\" class=\"data row11 col0\" >Huber Regressor</td>\n",
       "      <td id=\"T_39aa4_row11_col1\" class=\"data row11 col1\" >0.3149</td>\n",
       "      <td id=\"T_39aa4_row11_col2\" class=\"data row11 col2\" >0.6857</td>\n",
       "      <td id=\"T_39aa4_row11_col3\" class=\"data row11 col3\" >0.7902</td>\n",
       "      <td id=\"T_39aa4_row11_col4\" class=\"data row11 col4\" >0.2531</td>\n",
       "      <td id=\"T_39aa4_row11_col5\" class=\"data row11 col5\" >0.3127</td>\n",
       "      <td id=\"T_39aa4_row11_col6\" class=\"data row11 col6\" >1.6800</td>\n",
       "      <td id=\"T_39aa4_row11_col7\" class=\"data row11 col7\" >0.0070</td>\n",
       "    </tr>\n",
       "    <tr>\n",
       "      <th id=\"T_39aa4_level0_row12\" class=\"row_heading level0 row12\" >en</th>\n",
       "      <td id=\"T_39aa4_row12_col0\" class=\"data row12 col0\" >Elastic Net</td>\n",
       "      <td id=\"T_39aa4_row12_col1\" class=\"data row12 col1\" >0.4958</td>\n",
       "      <td id=\"T_39aa4_row12_col2\" class=\"data row12 col2\" >0.9298</td>\n",
       "      <td id=\"T_39aa4_row12_col3\" class=\"data row12 col3\" >0.9126</td>\n",
       "      <td id=\"T_39aa4_row12_col4\" class=\"data row12 col4\" >0.0219</td>\n",
       "      <td id=\"T_39aa4_row12_col5\" class=\"data row12 col5\" >0.4181</td>\n",
       "      <td id=\"T_39aa4_row12_col6\" class=\"data row12 col6\" >1.2106</td>\n",
       "      <td id=\"T_39aa4_row12_col7\" class=\"data row12 col7\" >0.0040</td>\n",
       "    </tr>\n",
       "    <tr>\n",
       "      <th id=\"T_39aa4_level0_row13\" class=\"row_heading level0 row13\" >omp</th>\n",
       "      <td id=\"T_39aa4_row13_col0\" class=\"data row13 col0\" >Orthogonal Matching Pursuit</td>\n",
       "      <td id=\"T_39aa4_row13_col1\" class=\"data row13 col1\" >0.5065</td>\n",
       "      <td id=\"T_39aa4_row13_col2\" class=\"data row13 col2\" >0.9491</td>\n",
       "      <td id=\"T_39aa4_row13_col3\" class=\"data row13 col3\" >0.9263</td>\n",
       "      <td id=\"T_39aa4_row13_col4\" class=\"data row13 col4\" >-0.0187</td>\n",
       "      <td id=\"T_39aa4_row13_col5\" class=\"data row13 col5\" >0.3857</td>\n",
       "      <td id=\"T_39aa4_row13_col6\" class=\"data row13 col6\" >1.4355</td>\n",
       "      <td id=\"T_39aa4_row13_col7\" class=\"data row13 col7\" >0.0040</td>\n",
       "    </tr>\n",
       "    <tr>\n",
       "      <th id=\"T_39aa4_level0_row14\" class=\"row_heading level0 row14\" >lasso</th>\n",
       "      <td id=\"T_39aa4_row14_col0\" class=\"data row14 col0\" >Lasso Regression</td>\n",
       "      <td id=\"T_39aa4_row14_col1\" class=\"data row14 col1\" >0.5102</td>\n",
       "      <td id=\"T_39aa4_row14_col2\" class=\"data row14 col2\" >0.9597</td>\n",
       "      <td id=\"T_39aa4_row14_col3\" class=\"data row14 col3\" >0.9302</td>\n",
       "      <td id=\"T_39aa4_row14_col4\" class=\"data row14 col4\" >-0.0222</td>\n",
       "      <td id=\"T_39aa4_row14_col5\" class=\"data row14 col5\" >0.4393</td>\n",
       "      <td id=\"T_39aa4_row14_col6\" class=\"data row14 col6\" >1.0658</td>\n",
       "      <td id=\"T_39aa4_row14_col7\" class=\"data row14 col7\" >0.0050</td>\n",
       "    </tr>\n",
       "    <tr>\n",
       "      <th id=\"T_39aa4_level0_row15\" class=\"row_heading level0 row15\" >llar</th>\n",
       "      <td id=\"T_39aa4_row15_col0\" class=\"data row15 col0\" >Lasso Least Angle Regression</td>\n",
       "      <td id=\"T_39aa4_row15_col1\" class=\"data row15 col1\" >0.5102</td>\n",
       "      <td id=\"T_39aa4_row15_col2\" class=\"data row15 col2\" >0.9597</td>\n",
       "      <td id=\"T_39aa4_row15_col3\" class=\"data row15 col3\" >0.9302</td>\n",
       "      <td id=\"T_39aa4_row15_col4\" class=\"data row15 col4\" >-0.0222</td>\n",
       "      <td id=\"T_39aa4_row15_col5\" class=\"data row15 col5\" >0.4393</td>\n",
       "      <td id=\"T_39aa4_row15_col6\" class=\"data row15 col6\" >1.0658</td>\n",
       "      <td id=\"T_39aa4_row15_col7\" class=\"data row15 col7\" >0.0050</td>\n",
       "    </tr>\n",
       "    <tr>\n",
       "      <th id=\"T_39aa4_level0_row16\" class=\"row_heading level0 row16\" >dummy</th>\n",
       "      <td id=\"T_39aa4_row16_col0\" class=\"data row16 col0\" >Dummy Regressor</td>\n",
       "      <td id=\"T_39aa4_row16_col1\" class=\"data row16 col1\" >0.5102</td>\n",
       "      <td id=\"T_39aa4_row16_col2\" class=\"data row16 col2\" >0.9597</td>\n",
       "      <td id=\"T_39aa4_row16_col3\" class=\"data row16 col3\" >0.9302</td>\n",
       "      <td id=\"T_39aa4_row16_col4\" class=\"data row16 col4\" >-0.0222</td>\n",
       "      <td id=\"T_39aa4_row16_col5\" class=\"data row16 col5\" >0.4393</td>\n",
       "      <td id=\"T_39aa4_row16_col6\" class=\"data row16 col6\" >1.0658</td>\n",
       "      <td id=\"T_39aa4_row16_col7\" class=\"data row16 col7\" >0.0050</td>\n",
       "    </tr>\n",
       "    <tr>\n",
       "      <th id=\"T_39aa4_level0_row17\" class=\"row_heading level0 row17\" >par</th>\n",
       "      <td id=\"T_39aa4_row17_col0\" class=\"data row17 col0\" >Passive Aggressive Regressor</td>\n",
       "      <td id=\"T_39aa4_row17_col1\" class=\"data row17 col1\" >0.4131</td>\n",
       "      <td id=\"T_39aa4_row17_col2\" class=\"data row17 col2\" >1.0084</td>\n",
       "      <td id=\"T_39aa4_row17_col3\" class=\"data row17 col3\" >0.9515</td>\n",
       "      <td id=\"T_39aa4_row17_col4\" class=\"data row17 col4\" >-0.0602</td>\n",
       "      <td id=\"T_39aa4_row17_col5\" class=\"data row17 col5\" >0.3343</td>\n",
       "      <td id=\"T_39aa4_row17_col6\" class=\"data row17 col6\" >1.8342</td>\n",
       "      <td id=\"T_39aa4_row17_col7\" class=\"data row17 col7\" >0.0040</td>\n",
       "    </tr>\n",
       "  </tbody>\n",
       "</table>\n"
      ],
      "text/plain": [
       "<pandas.io.formats.style.Styler at 0x258fe42bdc0>"
      ]
     },
     "metadata": {},
     "output_type": "display_data"
    },
    {
     "data": {
      "text/html": [],
      "text/plain": [
       "<IPython.core.display.HTML object>"
      ]
     },
     "metadata": {},
     "output_type": "display_data"
    }
   ],
   "source": [
    "best = compare_models()"
   ]
  },
  {
   "cell_type": "code",
   "execution_count": 182,
   "metadata": {},
   "outputs": [
    {
     "data": {
      "application/vnd.jupyter.widget-view+json": {
       "model_id": "c710356010364a60bf084c7c8a324967",
       "version_major": 2,
       "version_minor": 0
      },
      "text/plain": [
       "interactive(children=(ToggleButtons(description='Plot Type:', icons=('',), options=(('Pipeline Plot', 'pipelin…"
      ]
     },
     "metadata": {},
     "output_type": "display_data"
    }
   ],
   "source": [
    "evaluate_model(best)"
   ]
  },
  {
   "cell_type": "markdown",
   "metadata": {},
   "source": [
    "### ***Data No Autocorrelation***"
   ]
  },
  {
   "cell_type": "code",
   "execution_count": 183,
   "metadata": {},
   "outputs": [
    {
     "data": {
      "text/html": [
       "<div>\n",
       "<style scoped>\n",
       "    .dataframe tbody tr th:only-of-type {\n",
       "        vertical-align: middle;\n",
       "    }\n",
       "\n",
       "    .dataframe tbody tr th {\n",
       "        vertical-align: top;\n",
       "    }\n",
       "\n",
       "    .dataframe thead th {\n",
       "        text-align: right;\n",
       "    }\n",
       "</style>\n",
       "<table border=\"1\" class=\"dataframe\">\n",
       "  <thead>\n",
       "    <tr style=\"text-align: right;\">\n",
       "      <th></th>\n",
       "      <th>Poblacion</th>\n",
       "      <th>total_gdp_million</th>\n",
       "      <th>ECI</th>\n",
       "      <th>año_x</th>\n",
       "      <th>Ecuador</th>\n",
       "    </tr>\n",
       "  </thead>\n",
       "  <tbody>\n",
       "    <tr>\n",
       "      <th>0</th>\n",
       "      <td>-0.123399</td>\n",
       "      <td>-0.283150</td>\n",
       "      <td>-1.042459</td>\n",
       "      <td>2019</td>\n",
       "      <td>0</td>\n",
       "    </tr>\n",
       "    <tr>\n",
       "      <th>1</th>\n",
       "      <td>-0.119818</td>\n",
       "      <td>-0.305020</td>\n",
       "      <td>-1.206390</td>\n",
       "      <td>2020</td>\n",
       "      <td>0</td>\n",
       "    </tr>\n",
       "    <tr>\n",
       "      <th>2</th>\n",
       "      <td>-0.180644</td>\n",
       "      <td>-0.378758</td>\n",
       "      <td>-1.064802</td>\n",
       "      <td>2000</td>\n",
       "      <td>0</td>\n",
       "    </tr>\n",
       "    <tr>\n",
       "      <th>3</th>\n",
       "      <td>-0.178598</td>\n",
       "      <td>-0.378796</td>\n",
       "      <td>-0.804064</td>\n",
       "      <td>2001</td>\n",
       "      <td>0</td>\n",
       "    </tr>\n",
       "    <tr>\n",
       "      <th>4</th>\n",
       "      <td>-0.176565</td>\n",
       "      <td>-0.377148</td>\n",
       "      <td>-0.994074</td>\n",
       "      <td>2002</td>\n",
       "      <td>0</td>\n",
       "    </tr>\n",
       "    <tr>\n",
       "      <th>...</th>\n",
       "      <td>...</td>\n",
       "      <td>...</td>\n",
       "      <td>...</td>\n",
       "      <td>...</td>\n",
       "      <td>...</td>\n",
       "    </tr>\n",
       "    <tr>\n",
       "      <th>1570</th>\n",
       "      <td>-0.270800</td>\n",
       "      <td>-0.418356</td>\n",
       "      <td>-0.342388</td>\n",
       "      <td>2002</td>\n",
       "      <td>1</td>\n",
       "    </tr>\n",
       "    <tr>\n",
       "      <th>1571</th>\n",
       "      <td>-0.271153</td>\n",
       "      <td>-0.418000</td>\n",
       "      <td>-0.393783</td>\n",
       "      <td>2001</td>\n",
       "      <td>1</td>\n",
       "    </tr>\n",
       "    <tr>\n",
       "      <th>1572</th>\n",
       "      <td>-0.271519</td>\n",
       "      <td>-0.418072</td>\n",
       "      <td>-0.288579</td>\n",
       "      <td>2000</td>\n",
       "      <td>1</td>\n",
       "    </tr>\n",
       "    <tr>\n",
       "      <th>1573</th>\n",
       "      <td>-0.267464</td>\n",
       "      <td>-0.415640</td>\n",
       "      <td>-0.381771</td>\n",
       "      <td>2009</td>\n",
       "      <td>1</td>\n",
       "    </tr>\n",
       "    <tr>\n",
       "      <th>1574</th>\n",
       "      <td>-0.253119</td>\n",
       "      <td>-0.405959</td>\n",
       "      <td>-0.893569</td>\n",
       "      <td>2020</td>\n",
       "      <td>1</td>\n",
       "    </tr>\n",
       "  </tbody>\n",
       "</table>\n",
       "<p>1575 rows × 5 columns</p>\n",
       "</div>"
      ],
      "text/plain": [
       "      Poblacion  total_gdp_million       ECI  año_x  Ecuador\n",
       "0     -0.123399          -0.283150 -1.042459   2019        0\n",
       "1     -0.119818          -0.305020 -1.206390   2020        0\n",
       "2     -0.180644          -0.378758 -1.064802   2000        0\n",
       "3     -0.178598          -0.378796 -0.804064   2001        0\n",
       "4     -0.176565          -0.377148 -0.994074   2002        0\n",
       "...         ...                ...       ...    ...      ...\n",
       "1570  -0.270800          -0.418356 -0.342388   2002        1\n",
       "1571  -0.271153          -0.418000 -0.393783   2001        1\n",
       "1572  -0.271519          -0.418072 -0.288579   2000        1\n",
       "1573  -0.267464          -0.415640 -0.381771   2009        1\n",
       "1574  -0.253119          -0.405959 -0.893569   2020        1\n",
       "\n",
       "[1575 rows x 5 columns]"
      ]
     },
     "execution_count": 183,
     "metadata": {},
     "output_type": "execute_result"
    }
   ],
   "source": [
    "std = StandardScaler()\n",
    "Data_final"
   ]
  },
  {
   "cell_type": "code",
   "execution_count": 184,
   "metadata": {},
   "outputs": [
    {
     "data": {
      "text/html": [
       "<div>\n",
       "<style scoped>\n",
       "    .dataframe tbody tr th:only-of-type {\n",
       "        vertical-align: middle;\n",
       "    }\n",
       "\n",
       "    .dataframe tbody tr th {\n",
       "        vertical-align: top;\n",
       "    }\n",
       "\n",
       "    .dataframe thead th {\n",
       "        text-align: right;\n",
       "    }\n",
       "</style>\n",
       "<table border=\"1\" class=\"dataframe\">\n",
       "  <thead>\n",
       "    <tr style=\"text-align: right;\">\n",
       "      <th></th>\n",
       "      <th>Poblacion</th>\n",
       "      <th>total_gdp_million</th>\n",
       "      <th>ECI</th>\n",
       "      <th>año_x</th>\n",
       "      <th>Ecuador</th>\n",
       "    </tr>\n",
       "  </thead>\n",
       "  <tbody>\n",
       "    <tr>\n",
       "      <th>0</th>\n",
       "      <td>-0.123399</td>\n",
       "      <td>-0.283150</td>\n",
       "      <td>-1.042459</td>\n",
       "      <td>2019</td>\n",
       "      <td>0</td>\n",
       "    </tr>\n",
       "    <tr>\n",
       "      <th>1</th>\n",
       "      <td>-0.119818</td>\n",
       "      <td>-0.305020</td>\n",
       "      <td>-1.206390</td>\n",
       "      <td>2020</td>\n",
       "      <td>0</td>\n",
       "    </tr>\n",
       "    <tr>\n",
       "      <th>2</th>\n",
       "      <td>-0.180644</td>\n",
       "      <td>-0.378758</td>\n",
       "      <td>-1.064802</td>\n",
       "      <td>2000</td>\n",
       "      <td>0</td>\n",
       "    </tr>\n",
       "    <tr>\n",
       "      <th>3</th>\n",
       "      <td>-0.178598</td>\n",
       "      <td>-0.378796</td>\n",
       "      <td>-0.804064</td>\n",
       "      <td>2001</td>\n",
       "      <td>0</td>\n",
       "    </tr>\n",
       "    <tr>\n",
       "      <th>4</th>\n",
       "      <td>-0.176565</td>\n",
       "      <td>-0.377148</td>\n",
       "      <td>-0.994074</td>\n",
       "      <td>2002</td>\n",
       "      <td>0</td>\n",
       "    </tr>\n",
       "    <tr>\n",
       "      <th>...</th>\n",
       "      <td>...</td>\n",
       "      <td>...</td>\n",
       "      <td>...</td>\n",
       "      <td>...</td>\n",
       "      <td>...</td>\n",
       "    </tr>\n",
       "    <tr>\n",
       "      <th>1570</th>\n",
       "      <td>-0.270800</td>\n",
       "      <td>-0.418356</td>\n",
       "      <td>-0.342388</td>\n",
       "      <td>2002</td>\n",
       "      <td>1</td>\n",
       "    </tr>\n",
       "    <tr>\n",
       "      <th>1571</th>\n",
       "      <td>-0.271153</td>\n",
       "      <td>-0.418000</td>\n",
       "      <td>-0.393783</td>\n",
       "      <td>2001</td>\n",
       "      <td>1</td>\n",
       "    </tr>\n",
       "    <tr>\n",
       "      <th>1572</th>\n",
       "      <td>-0.271519</td>\n",
       "      <td>-0.418072</td>\n",
       "      <td>-0.288579</td>\n",
       "      <td>2000</td>\n",
       "      <td>1</td>\n",
       "    </tr>\n",
       "    <tr>\n",
       "      <th>1573</th>\n",
       "      <td>-0.267464</td>\n",
       "      <td>-0.415640</td>\n",
       "      <td>-0.381771</td>\n",
       "      <td>2009</td>\n",
       "      <td>1</td>\n",
       "    </tr>\n",
       "    <tr>\n",
       "      <th>1574</th>\n",
       "      <td>-0.253119</td>\n",
       "      <td>-0.405959</td>\n",
       "      <td>-0.893569</td>\n",
       "      <td>2020</td>\n",
       "      <td>1</td>\n",
       "    </tr>\n",
       "  </tbody>\n",
       "</table>\n",
       "<p>1575 rows × 5 columns</p>\n",
       "</div>"
      ],
      "text/plain": [
       "      Poblacion  total_gdp_million       ECI  año_x  Ecuador\n",
       "0     -0.123399          -0.283150 -1.042459   2019        0\n",
       "1     -0.119818          -0.305020 -1.206390   2020        0\n",
       "2     -0.180644          -0.378758 -1.064802   2000        0\n",
       "3     -0.178598          -0.378796 -0.804064   2001        0\n",
       "4     -0.176565          -0.377148 -0.994074   2002        0\n",
       "...         ...                ...       ...    ...      ...\n",
       "1570  -0.270800          -0.418356 -0.342388   2002        1\n",
       "1571  -0.271153          -0.418000 -0.393783   2001        1\n",
       "1572  -0.271519          -0.418072 -0.288579   2000        1\n",
       "1573  -0.267464          -0.415640 -0.381771   2009        1\n",
       "1574  -0.253119          -0.405959 -0.893569   2020        1\n",
       "\n",
       "[1575 rows x 5 columns]"
      ]
     },
     "execution_count": 184,
     "metadata": {},
     "output_type": "execute_result"
    }
   ],
   "source": [
    "std.fit(Data_final[['total_gdp_million']])\n",
    "Data_final['total_gdp_million']= std.transform(Data_final[['total_gdp_million']])\n",
    "std.fit(Data_final[['Poblacion']])\n",
    "Data_final['Poblacion']= std.transform(Data_final[['Poblacion']])\n",
    "Data_final"
   ]
  },
  {
   "cell_type": "code",
   "execution_count": 185,
   "metadata": {},
   "outputs": [
    {
     "name": "stdout",
     "output_type": "stream",
     "text": [
      "(1425, 5)\n",
      "(150, 5)\n"
     ]
    }
   ],
   "source": [
    "train = Data_final[Data_final['año_x'] < 2019]\n",
    "test = Data_final[Data_final['año_x'] >= 2019]\n",
    "print(train.shape)\n",
    "print(test.shape)"
   ]
  },
  {
   "cell_type": "code",
   "execution_count": 186,
   "metadata": {},
   "outputs": [
    {
     "data": {
      "text/html": [
       "<style type=\"text/css\">\n",
       "#T_ada5a_row9_col1 {\n",
       "  background-color: lightgreen;\n",
       "}\n",
       "</style>\n",
       "<table id=\"T_ada5a\">\n",
       "  <thead>\n",
       "    <tr>\n",
       "      <th class=\"blank level0\" >&nbsp;</th>\n",
       "      <th id=\"T_ada5a_level0_col0\" class=\"col_heading level0 col0\" >Description</th>\n",
       "      <th id=\"T_ada5a_level0_col1\" class=\"col_heading level0 col1\" >Value</th>\n",
       "    </tr>\n",
       "  </thead>\n",
       "  <tbody>\n",
       "    <tr>\n",
       "      <th id=\"T_ada5a_level0_row0\" class=\"row_heading level0 row0\" >0</th>\n",
       "      <td id=\"T_ada5a_row0_col0\" class=\"data row0 col0\" >Session id</td>\n",
       "      <td id=\"T_ada5a_row0_col1\" class=\"data row0 col1\" >123</td>\n",
       "    </tr>\n",
       "    <tr>\n",
       "      <th id=\"T_ada5a_level0_row1\" class=\"row_heading level0 row1\" >1</th>\n",
       "      <td id=\"T_ada5a_row1_col0\" class=\"data row1 col0\" >Target</td>\n",
       "      <td id=\"T_ada5a_row1_col1\" class=\"data row1 col1\" >total_gdp_million</td>\n",
       "    </tr>\n",
       "    <tr>\n",
       "      <th id=\"T_ada5a_level0_row2\" class=\"row_heading level0 row2\" >2</th>\n",
       "      <td id=\"T_ada5a_row2_col0\" class=\"data row2 col0\" >Target type</td>\n",
       "      <td id=\"T_ada5a_row2_col1\" class=\"data row2 col1\" >Regression</td>\n",
       "    </tr>\n",
       "    <tr>\n",
       "      <th id=\"T_ada5a_level0_row3\" class=\"row_heading level0 row3\" >3</th>\n",
       "      <td id=\"T_ada5a_row3_col0\" class=\"data row3 col0\" >Original data shape</td>\n",
       "      <td id=\"T_ada5a_row3_col1\" class=\"data row3 col1\" >(1575, 5)</td>\n",
       "    </tr>\n",
       "    <tr>\n",
       "      <th id=\"T_ada5a_level0_row4\" class=\"row_heading level0 row4\" >4</th>\n",
       "      <td id=\"T_ada5a_row4_col0\" class=\"data row4 col0\" >Transformed data shape</td>\n",
       "      <td id=\"T_ada5a_row4_col1\" class=\"data row4 col1\" >(1575, 5)</td>\n",
       "    </tr>\n",
       "    <tr>\n",
       "      <th id=\"T_ada5a_level0_row5\" class=\"row_heading level0 row5\" >5</th>\n",
       "      <td id=\"T_ada5a_row5_col0\" class=\"data row5 col0\" >Transformed train set shape</td>\n",
       "      <td id=\"T_ada5a_row5_col1\" class=\"data row5 col1\" >(1425, 5)</td>\n",
       "    </tr>\n",
       "    <tr>\n",
       "      <th id=\"T_ada5a_level0_row6\" class=\"row_heading level0 row6\" >6</th>\n",
       "      <td id=\"T_ada5a_row6_col0\" class=\"data row6 col0\" >Transformed test set shape</td>\n",
       "      <td id=\"T_ada5a_row6_col1\" class=\"data row6 col1\" >(150, 5)</td>\n",
       "    </tr>\n",
       "    <tr>\n",
       "      <th id=\"T_ada5a_level0_row7\" class=\"row_heading level0 row7\" >7</th>\n",
       "      <td id=\"T_ada5a_row7_col0\" class=\"data row7 col0\" >Ignore features</td>\n",
       "      <td id=\"T_ada5a_row7_col1\" class=\"data row7 col1\" >2</td>\n",
       "    </tr>\n",
       "    <tr>\n",
       "      <th id=\"T_ada5a_level0_row8\" class=\"row_heading level0 row8\" >8</th>\n",
       "      <td id=\"T_ada5a_row8_col0\" class=\"data row8 col0\" >Numeric features</td>\n",
       "      <td id=\"T_ada5a_row8_col1\" class=\"data row8 col1\" >4</td>\n",
       "    </tr>\n",
       "    <tr>\n",
       "      <th id=\"T_ada5a_level0_row9\" class=\"row_heading level0 row9\" >9</th>\n",
       "      <td id=\"T_ada5a_row9_col0\" class=\"data row9 col0\" >Preprocess</td>\n",
       "      <td id=\"T_ada5a_row9_col1\" class=\"data row9 col1\" >True</td>\n",
       "    </tr>\n",
       "    <tr>\n",
       "      <th id=\"T_ada5a_level0_row10\" class=\"row_heading level0 row10\" >10</th>\n",
       "      <td id=\"T_ada5a_row10_col0\" class=\"data row10 col0\" >Imputation type</td>\n",
       "      <td id=\"T_ada5a_row10_col1\" class=\"data row10 col1\" >simple</td>\n",
       "    </tr>\n",
       "    <tr>\n",
       "      <th id=\"T_ada5a_level0_row11\" class=\"row_heading level0 row11\" >11</th>\n",
       "      <td id=\"T_ada5a_row11_col0\" class=\"data row11 col0\" >Numeric imputation</td>\n",
       "      <td id=\"T_ada5a_row11_col1\" class=\"data row11 col1\" >mean</td>\n",
       "    </tr>\n",
       "    <tr>\n",
       "      <th id=\"T_ada5a_level0_row12\" class=\"row_heading level0 row12\" >12</th>\n",
       "      <td id=\"T_ada5a_row12_col0\" class=\"data row12 col0\" >Categorical imputation</td>\n",
       "      <td id=\"T_ada5a_row12_col1\" class=\"data row12 col1\" >mode</td>\n",
       "    </tr>\n",
       "    <tr>\n",
       "      <th id=\"T_ada5a_level0_row13\" class=\"row_heading level0 row13\" >13</th>\n",
       "      <td id=\"T_ada5a_row13_col0\" class=\"data row13 col0\" >Fold Generator</td>\n",
       "      <td id=\"T_ada5a_row13_col1\" class=\"data row13 col1\" >TimeSeriesSplit</td>\n",
       "    </tr>\n",
       "    <tr>\n",
       "      <th id=\"T_ada5a_level0_row14\" class=\"row_heading level0 row14\" >14</th>\n",
       "      <td id=\"T_ada5a_row14_col0\" class=\"data row14 col0\" >Fold Number</td>\n",
       "      <td id=\"T_ada5a_row14_col1\" class=\"data row14 col1\" >3</td>\n",
       "    </tr>\n",
       "    <tr>\n",
       "      <th id=\"T_ada5a_level0_row15\" class=\"row_heading level0 row15\" >15</th>\n",
       "      <td id=\"T_ada5a_row15_col0\" class=\"data row15 col0\" >CPU Jobs</td>\n",
       "      <td id=\"T_ada5a_row15_col1\" class=\"data row15 col1\" >-1</td>\n",
       "    </tr>\n",
       "    <tr>\n",
       "      <th id=\"T_ada5a_level0_row16\" class=\"row_heading level0 row16\" >16</th>\n",
       "      <td id=\"T_ada5a_row16_col0\" class=\"data row16 col0\" >Use GPU</td>\n",
       "      <td id=\"T_ada5a_row16_col1\" class=\"data row16 col1\" >False</td>\n",
       "    </tr>\n",
       "    <tr>\n",
       "      <th id=\"T_ada5a_level0_row17\" class=\"row_heading level0 row17\" >17</th>\n",
       "      <td id=\"T_ada5a_row17_col0\" class=\"data row17 col0\" >Log Experiment</td>\n",
       "      <td id=\"T_ada5a_row17_col1\" class=\"data row17 col1\" >False</td>\n",
       "    </tr>\n",
       "    <tr>\n",
       "      <th id=\"T_ada5a_level0_row18\" class=\"row_heading level0 row18\" >18</th>\n",
       "      <td id=\"T_ada5a_row18_col0\" class=\"data row18 col0\" >Experiment Name</td>\n",
       "      <td id=\"T_ada5a_row18_col1\" class=\"data row18 col1\" >reg-default-name</td>\n",
       "    </tr>\n",
       "    <tr>\n",
       "      <th id=\"T_ada5a_level0_row19\" class=\"row_heading level0 row19\" >19</th>\n",
       "      <td id=\"T_ada5a_row19_col0\" class=\"data row19 col0\" >USI</td>\n",
       "      <td id=\"T_ada5a_row19_col1\" class=\"data row19 col1\" >fac6</td>\n",
       "    </tr>\n",
       "  </tbody>\n",
       "</table>\n"
      ],
      "text/plain": [
       "<pandas.io.formats.style.Styler at 0x258836921a0>"
      ]
     },
     "metadata": {},
     "output_type": "display_data"
    }
   ],
   "source": [
    "B = setup(data = train, test_data = test,target ='total_gdp_million',fold_strategy = 'timeseries',\n",
    "          ignore_features=['Pais_x','Seires'],fold = 3, session_id = 123,\n",
    "          data_split_shuffle=False,fold_shuffle=False)"
   ]
  },
  {
   "cell_type": "code",
   "execution_count": 187,
   "metadata": {},
   "outputs": [
    {
     "data": {
      "text/html": [],
      "text/plain": [
       "<IPython.core.display.HTML object>"
      ]
     },
     "metadata": {},
     "output_type": "display_data"
    },
    {
     "data": {
      "text/html": [
       "<style type=\"text/css\">\n",
       "#T_9a640 th {\n",
       "  text-align: left;\n",
       "}\n",
       "#T_9a640_row0_col0, #T_9a640_row0_col1, #T_9a640_row0_col2, #T_9a640_row0_col5, #T_9a640_row0_col6, #T_9a640_row1_col0, #T_9a640_row1_col1, #T_9a640_row1_col2, #T_9a640_row1_col3, #T_9a640_row1_col4, #T_9a640_row1_col5, #T_9a640_row1_col6, #T_9a640_row2_col0, #T_9a640_row2_col1, #T_9a640_row2_col2, #T_9a640_row2_col3, #T_9a640_row2_col4, #T_9a640_row2_col5, #T_9a640_row2_col6, #T_9a640_row3_col0, #T_9a640_row3_col2, #T_9a640_row3_col3, #T_9a640_row3_col4, #T_9a640_row3_col6, #T_9a640_row4_col0, #T_9a640_row4_col1, #T_9a640_row4_col2, #T_9a640_row4_col3, #T_9a640_row4_col4, #T_9a640_row4_col5, #T_9a640_row4_col6, #T_9a640_row5_col0, #T_9a640_row5_col1, #T_9a640_row5_col2, #T_9a640_row5_col3, #T_9a640_row5_col4, #T_9a640_row5_col5, #T_9a640_row5_col6, #T_9a640_row6_col0, #T_9a640_row6_col1, #T_9a640_row6_col2, #T_9a640_row6_col3, #T_9a640_row6_col4, #T_9a640_row6_col5, #T_9a640_row6_col6, #T_9a640_row7_col0, #T_9a640_row7_col1, #T_9a640_row7_col2, #T_9a640_row7_col3, #T_9a640_row7_col4, #T_9a640_row7_col5, #T_9a640_row7_col6, #T_9a640_row8_col0, #T_9a640_row8_col1, #T_9a640_row8_col2, #T_9a640_row8_col3, #T_9a640_row8_col4, #T_9a640_row8_col5, #T_9a640_row8_col6, #T_9a640_row9_col0, #T_9a640_row9_col1, #T_9a640_row9_col2, #T_9a640_row9_col3, #T_9a640_row9_col4, #T_9a640_row9_col5, #T_9a640_row9_col6, #T_9a640_row10_col0, #T_9a640_row10_col1, #T_9a640_row10_col2, #T_9a640_row10_col3, #T_9a640_row10_col4, #T_9a640_row10_col5, #T_9a640_row10_col6, #T_9a640_row11_col0, #T_9a640_row11_col1, #T_9a640_row11_col2, #T_9a640_row11_col3, #T_9a640_row11_col4, #T_9a640_row11_col5, #T_9a640_row11_col6, #T_9a640_row12_col0, #T_9a640_row12_col1, #T_9a640_row12_col2, #T_9a640_row12_col3, #T_9a640_row12_col4, #T_9a640_row12_col5, #T_9a640_row12_col6, #T_9a640_row13_col0, #T_9a640_row13_col1, #T_9a640_row13_col2, #T_9a640_row13_col3, #T_9a640_row13_col4, #T_9a640_row13_col5, #T_9a640_row14_col0, #T_9a640_row14_col1, #T_9a640_row14_col3, #T_9a640_row14_col4, #T_9a640_row14_col5, #T_9a640_row14_col6, #T_9a640_row15_col0, #T_9a640_row15_col1, #T_9a640_row15_col2, #T_9a640_row15_col3, #T_9a640_row15_col4, #T_9a640_row15_col5, #T_9a640_row15_col6, #T_9a640_row16_col0, #T_9a640_row16_col1, #T_9a640_row16_col2, #T_9a640_row16_col3, #T_9a640_row16_col4, #T_9a640_row16_col5, #T_9a640_row16_col6, #T_9a640_row17_col0, #T_9a640_row17_col1, #T_9a640_row17_col2, #T_9a640_row17_col3, #T_9a640_row17_col4, #T_9a640_row17_col5, #T_9a640_row17_col6 {\n",
       "  text-align: left;\n",
       "}\n",
       "#T_9a640_row0_col3, #T_9a640_row0_col4, #T_9a640_row3_col1, #T_9a640_row3_col5, #T_9a640_row13_col6, #T_9a640_row14_col2 {\n",
       "  text-align: left;\n",
       "  background-color: yellow;\n",
       "}\n",
       "#T_9a640_row0_col7, #T_9a640_row2_col7, #T_9a640_row3_col7, #T_9a640_row4_col7, #T_9a640_row5_col7, #T_9a640_row6_col7, #T_9a640_row7_col7, #T_9a640_row8_col7, #T_9a640_row10_col7, #T_9a640_row12_col7, #T_9a640_row14_col7, #T_9a640_row15_col7, #T_9a640_row16_col7, #T_9a640_row17_col7 {\n",
       "  text-align: left;\n",
       "  background-color: lightgrey;\n",
       "}\n",
       "#T_9a640_row1_col7, #T_9a640_row9_col7, #T_9a640_row11_col7, #T_9a640_row13_col7 {\n",
       "  text-align: left;\n",
       "  background-color: yellow;\n",
       "  background-color: lightgrey;\n",
       "}\n",
       "</style>\n",
       "<table id=\"T_9a640\">\n",
       "  <thead>\n",
       "    <tr>\n",
       "      <th class=\"blank level0\" >&nbsp;</th>\n",
       "      <th id=\"T_9a640_level0_col0\" class=\"col_heading level0 col0\" >Model</th>\n",
       "      <th id=\"T_9a640_level0_col1\" class=\"col_heading level0 col1\" >MAE</th>\n",
       "      <th id=\"T_9a640_level0_col2\" class=\"col_heading level0 col2\" >MSE</th>\n",
       "      <th id=\"T_9a640_level0_col3\" class=\"col_heading level0 col3\" >RMSE</th>\n",
       "      <th id=\"T_9a640_level0_col4\" class=\"col_heading level0 col4\" >R2</th>\n",
       "      <th id=\"T_9a640_level0_col5\" class=\"col_heading level0 col5\" >RMSLE</th>\n",
       "      <th id=\"T_9a640_level0_col6\" class=\"col_heading level0 col6\" >MAPE</th>\n",
       "      <th id=\"T_9a640_level0_col7\" class=\"col_heading level0 col7\" >TT (Sec)</th>\n",
       "    </tr>\n",
       "  </thead>\n",
       "  <tbody>\n",
       "    <tr>\n",
       "      <th id=\"T_9a640_level0_row0\" class=\"row_heading level0 row0\" >huber</th>\n",
       "      <td id=\"T_9a640_row0_col0\" class=\"data row0 col0\" >Huber Regressor</td>\n",
       "      <td id=\"T_9a640_row0_col1\" class=\"data row0 col1\" >0.2954</td>\n",
       "      <td id=\"T_9a640_row0_col2\" class=\"data row0 col2\" >0.5103</td>\n",
       "      <td id=\"T_9a640_row0_col3\" class=\"data row0 col3\" >0.5273</td>\n",
       "      <td id=\"T_9a640_row0_col4\" class=\"data row0 col4\" >0.1920</td>\n",
       "      <td id=\"T_9a640_row0_col5\" class=\"data row0 col5\" >0.2490</td>\n",
       "      <td id=\"T_9a640_row0_col6\" class=\"data row0 col6\" >2.8332</td>\n",
       "      <td id=\"T_9a640_row0_col7\" class=\"data row0 col7\" >0.0100</td>\n",
       "    </tr>\n",
       "    <tr>\n",
       "      <th id=\"T_9a640_level0_row1\" class=\"row_heading level0 row1\" >par</th>\n",
       "      <td id=\"T_9a640_row1_col0\" class=\"data row1 col0\" >Passive Aggressive Regressor</td>\n",
       "      <td id=\"T_9a640_row1_col1\" class=\"data row1 col1\" >0.3403</td>\n",
       "      <td id=\"T_9a640_row1_col2\" class=\"data row1 col2\" >0.5655</td>\n",
       "      <td id=\"T_9a640_row1_col3\" class=\"data row1 col3\" >0.5790</td>\n",
       "      <td id=\"T_9a640_row1_col4\" class=\"data row1 col4\" >-0.1167</td>\n",
       "      <td id=\"T_9a640_row1_col5\" class=\"data row1 col5\" >0.2332</td>\n",
       "      <td id=\"T_9a640_row1_col6\" class=\"data row1 col6\" >1.9777</td>\n",
       "      <td id=\"T_9a640_row1_col7\" class=\"data row1 col7\" >0.0067</td>\n",
       "    </tr>\n",
       "    <tr>\n",
       "      <th id=\"T_9a640_level0_row2\" class=\"row_heading level0 row2\" >knn</th>\n",
       "      <td id=\"T_9a640_row2_col0\" class=\"data row2 col0\" >K Neighbors Regressor</td>\n",
       "      <td id=\"T_9a640_row2_col1\" class=\"data row2 col1\" >0.3554</td>\n",
       "      <td id=\"T_9a640_row2_col2\" class=\"data row2 col2\" >0.8224</td>\n",
       "      <td id=\"T_9a640_row2_col3\" class=\"data row2 col3\" >0.6651</td>\n",
       "      <td id=\"T_9a640_row2_col4\" class=\"data row2 col4\" >-0.2641</td>\n",
       "      <td id=\"T_9a640_row2_col5\" class=\"data row2 col5\" >0.2805</td>\n",
       "      <td id=\"T_9a640_row2_col6\" class=\"data row2 col6\" >3.8425</td>\n",
       "      <td id=\"T_9a640_row2_col7\" class=\"data row2 col7\" >0.0200</td>\n",
       "    </tr>\n",
       "    <tr>\n",
       "      <th id=\"T_9a640_level0_row3\" class=\"row_heading level0 row3\" >et</th>\n",
       "      <td id=\"T_9a640_row3_col0\" class=\"data row3 col0\" >Extra Trees Regressor</td>\n",
       "      <td id=\"T_9a640_row3_col1\" class=\"data row3 col1\" >0.2899</td>\n",
       "      <td id=\"T_9a640_row3_col2\" class=\"data row3 col2\" >0.4111</td>\n",
       "      <td id=\"T_9a640_row3_col3\" class=\"data row3 col3\" >0.5414</td>\n",
       "      <td id=\"T_9a640_row3_col4\" class=\"data row3 col4\" >-0.6508</td>\n",
       "      <td id=\"T_9a640_row3_col5\" class=\"data row3 col5\" >0.2242</td>\n",
       "      <td id=\"T_9a640_row3_col6\" class=\"data row3 col6\" >2.4458</td>\n",
       "      <td id=\"T_9a640_row3_col7\" class=\"data row3 col7\" >0.0400</td>\n",
       "    </tr>\n",
       "    <tr>\n",
       "      <th id=\"T_9a640_level0_row4\" class=\"row_heading level0 row4\" >gbr</th>\n",
       "      <td id=\"T_9a640_row4_col0\" class=\"data row4 col0\" >Gradient Boosting Regressor</td>\n",
       "      <td id=\"T_9a640_row4_col1\" class=\"data row4 col1\" >0.3171</td>\n",
       "      <td id=\"T_9a640_row4_col2\" class=\"data row4 col2\" >0.4512</td>\n",
       "      <td id=\"T_9a640_row4_col3\" class=\"data row4 col3\" >0.5940</td>\n",
       "      <td id=\"T_9a640_row4_col4\" class=\"data row4 col4\" >-0.9937</td>\n",
       "      <td id=\"T_9a640_row4_col5\" class=\"data row4 col5\" >0.2616</td>\n",
       "      <td id=\"T_9a640_row4_col6\" class=\"data row4 col6\" >3.1799</td>\n",
       "      <td id=\"T_9a640_row4_col7\" class=\"data row4 col7\" >0.0367</td>\n",
       "    </tr>\n",
       "    <tr>\n",
       "      <th id=\"T_9a640_level0_row5\" class=\"row_heading level0 row5\" >br</th>\n",
       "      <td id=\"T_9a640_row5_col0\" class=\"data row5 col0\" >Bayesian Ridge</td>\n",
       "      <td id=\"T_9a640_row5_col1\" class=\"data row5 col1\" >0.4613</td>\n",
       "      <td id=\"T_9a640_row5_col2\" class=\"data row5 col2\" >0.6196</td>\n",
       "      <td id=\"T_9a640_row5_col3\" class=\"data row5 col3\" >0.6677</td>\n",
       "      <td id=\"T_9a640_row5_col4\" class=\"data row5 col4\" >-1.1139</td>\n",
       "      <td id=\"T_9a640_row5_col5\" class=\"data row5 col5\" >0.2854</td>\n",
       "      <td id=\"T_9a640_row5_col6\" class=\"data row5 col6\" >5.3954</td>\n",
       "      <td id=\"T_9a640_row5_col7\" class=\"data row5 col7\" >0.0100</td>\n",
       "    </tr>\n",
       "    <tr>\n",
       "      <th id=\"T_9a640_level0_row6\" class=\"row_heading level0 row6\" >ridge</th>\n",
       "      <td id=\"T_9a640_row6_col0\" class=\"data row6 col0\" >Ridge Regression</td>\n",
       "      <td id=\"T_9a640_row6_col1\" class=\"data row6 col1\" >0.4625</td>\n",
       "      <td id=\"T_9a640_row6_col2\" class=\"data row6 col2\" >0.6223</td>\n",
       "      <td id=\"T_9a640_row6_col3\" class=\"data row6 col3\" >0.6693</td>\n",
       "      <td id=\"T_9a640_row6_col4\" class=\"data row6 col4\" >-1.1247</td>\n",
       "      <td id=\"T_9a640_row6_col5\" class=\"data row6 col5\" >0.2859</td>\n",
       "      <td id=\"T_9a640_row6_col6\" class=\"data row6 col6\" >5.4206</td>\n",
       "      <td id=\"T_9a640_row6_col7\" class=\"data row6 col7\" >0.0100</td>\n",
       "    </tr>\n",
       "    <tr>\n",
       "      <th id=\"T_9a640_level0_row7\" class=\"row_heading level0 row7\" >lar</th>\n",
       "      <td id=\"T_9a640_row7_col0\" class=\"data row7 col0\" >Least Angle Regression</td>\n",
       "      <td id=\"T_9a640_row7_col1\" class=\"data row7 col1\" >0.4629</td>\n",
       "      <td id=\"T_9a640_row7_col2\" class=\"data row7 col2\" >0.6235</td>\n",
       "      <td id=\"T_9a640_row7_col3\" class=\"data row7 col3\" >0.6698</td>\n",
       "      <td id=\"T_9a640_row7_col4\" class=\"data row7 col4\" >-1.1270</td>\n",
       "      <td id=\"T_9a640_row7_col5\" class=\"data row7 col5\" >0.2859</td>\n",
       "      <td id=\"T_9a640_row7_col6\" class=\"data row7 col6\" >5.4284</td>\n",
       "      <td id=\"T_9a640_row7_col7\" class=\"data row7 col7\" >0.0100</td>\n",
       "    </tr>\n",
       "    <tr>\n",
       "      <th id=\"T_9a640_level0_row8\" class=\"row_heading level0 row8\" >lr</th>\n",
       "      <td id=\"T_9a640_row8_col0\" class=\"data row8 col0\" >Linear Regression</td>\n",
       "      <td id=\"T_9a640_row8_col1\" class=\"data row8 col1\" >0.4629</td>\n",
       "      <td id=\"T_9a640_row8_col2\" class=\"data row8 col2\" >0.6235</td>\n",
       "      <td id=\"T_9a640_row8_col3\" class=\"data row8 col3\" >0.6698</td>\n",
       "      <td id=\"T_9a640_row8_col4\" class=\"data row8 col4\" >-1.1270</td>\n",
       "      <td id=\"T_9a640_row8_col5\" class=\"data row8 col5\" >0.2859</td>\n",
       "      <td id=\"T_9a640_row8_col6\" class=\"data row8 col6\" >5.4284</td>\n",
       "      <td id=\"T_9a640_row8_col7\" class=\"data row8 col7\" >0.0100</td>\n",
       "    </tr>\n",
       "    <tr>\n",
       "      <th id=\"T_9a640_level0_row9\" class=\"row_heading level0 row9\" >en</th>\n",
       "      <td id=\"T_9a640_row9_col0\" class=\"data row9 col0\" >Elastic Net</td>\n",
       "      <td id=\"T_9a640_row9_col1\" class=\"data row9 col1\" >0.4775</td>\n",
       "      <td id=\"T_9a640_row9_col2\" class=\"data row9 col2\" >0.5378</td>\n",
       "      <td id=\"T_9a640_row9_col3\" class=\"data row9 col3\" >0.6374</td>\n",
       "      <td id=\"T_9a640_row9_col4\" class=\"data row9 col4\" >-1.2328</td>\n",
       "      <td id=\"T_9a640_row9_col5\" class=\"data row9 col5\" >0.3145</td>\n",
       "      <td id=\"T_9a640_row9_col6\" class=\"data row9 col6\" >2.4720</td>\n",
       "      <td id=\"T_9a640_row9_col7\" class=\"data row9 col7\" >0.0067</td>\n",
       "    </tr>\n",
       "    <tr>\n",
       "      <th id=\"T_9a640_level0_row10\" class=\"row_heading level0 row10\" >rf</th>\n",
       "      <td id=\"T_9a640_row10_col0\" class=\"data row10 col0\" >Random Forest Regressor</td>\n",
       "      <td id=\"T_9a640_row10_col1\" class=\"data row10 col1\" >0.3028</td>\n",
       "      <td id=\"T_9a640_row10_col2\" class=\"data row10 col2\" >0.4620</td>\n",
       "      <td id=\"T_9a640_row10_col3\" class=\"data row10 col3\" >0.6221</td>\n",
       "      <td id=\"T_9a640_row10_col4\" class=\"data row10 col4\" >-1.6423</td>\n",
       "      <td id=\"T_9a640_row10_col5\" class=\"data row10 col5\" >0.2617</td>\n",
       "      <td id=\"T_9a640_row10_col6\" class=\"data row10 col6\" >3.5721</td>\n",
       "      <td id=\"T_9a640_row10_col7\" class=\"data row10 col7\" >0.0500</td>\n",
       "    </tr>\n",
       "    <tr>\n",
       "      <th id=\"T_9a640_level0_row11\" class=\"row_heading level0 row11\" >lasso</th>\n",
       "      <td id=\"T_9a640_row11_col0\" class=\"data row11 col0\" >Lasso Regression</td>\n",
       "      <td id=\"T_9a640_row11_col1\" class=\"data row11 col1\" >0.5048</td>\n",
       "      <td id=\"T_9a640_row11_col2\" class=\"data row11 col2\" >0.5348</td>\n",
       "      <td id=\"T_9a640_row11_col3\" class=\"data row11 col3\" >0.6541</td>\n",
       "      <td id=\"T_9a640_row11_col4\" class=\"data row11 col4\" >-1.6996</td>\n",
       "      <td id=\"T_9a640_row11_col5\" class=\"data row11 col5\" >0.2956</td>\n",
       "      <td id=\"T_9a640_row11_col6\" class=\"data row11 col6\" >2.3333</td>\n",
       "      <td id=\"T_9a640_row11_col7\" class=\"data row11 col7\" >0.0067</td>\n",
       "    </tr>\n",
       "    <tr>\n",
       "      <th id=\"T_9a640_level0_row12\" class=\"row_heading level0 row12\" >llar</th>\n",
       "      <td id=\"T_9a640_row12_col0\" class=\"data row12 col0\" >Lasso Least Angle Regression</td>\n",
       "      <td id=\"T_9a640_row12_col1\" class=\"data row12 col1\" >0.5048</td>\n",
       "      <td id=\"T_9a640_row12_col2\" class=\"data row12 col2\" >0.5348</td>\n",
       "      <td id=\"T_9a640_row12_col3\" class=\"data row12 col3\" >0.6541</td>\n",
       "      <td id=\"T_9a640_row12_col4\" class=\"data row12 col4\" >-1.6996</td>\n",
       "      <td id=\"T_9a640_row12_col5\" class=\"data row12 col5\" >0.2956</td>\n",
       "      <td id=\"T_9a640_row12_col6\" class=\"data row12 col6\" >2.3333</td>\n",
       "      <td id=\"T_9a640_row12_col7\" class=\"data row12 col7\" >0.0100</td>\n",
       "    </tr>\n",
       "    <tr>\n",
       "      <th id=\"T_9a640_level0_row13\" class=\"row_heading level0 row13\" >dummy</th>\n",
       "      <td id=\"T_9a640_row13_col0\" class=\"data row13 col0\" >Dummy Regressor</td>\n",
       "      <td id=\"T_9a640_row13_col1\" class=\"data row13 col1\" >0.5281</td>\n",
       "      <td id=\"T_9a640_row13_col2\" class=\"data row13 col2\" >0.5535</td>\n",
       "      <td id=\"T_9a640_row13_col3\" class=\"data row13 col3\" >0.6626</td>\n",
       "      <td id=\"T_9a640_row13_col4\" class=\"data row13 col4\" >-1.7208</td>\n",
       "      <td id=\"T_9a640_row13_col5\" class=\"data row13 col5\" >0.2902</td>\n",
       "      <td id=\"T_9a640_row13_col6\" class=\"data row13 col6\" >1.8393</td>\n",
       "      <td id=\"T_9a640_row13_col7\" class=\"data row13 col7\" >0.0067</td>\n",
       "    </tr>\n",
       "    <tr>\n",
       "      <th id=\"T_9a640_level0_row14\" class=\"row_heading level0 row14\" >lightgbm</th>\n",
       "      <td id=\"T_9a640_row14_col0\" class=\"data row14 col0\" >Light Gradient Boosting Machine</td>\n",
       "      <td id=\"T_9a640_row14_col1\" class=\"data row14 col1\" >0.2931</td>\n",
       "      <td id=\"T_9a640_row14_col2\" class=\"data row14 col2\" >0.3512</td>\n",
       "      <td id=\"T_9a640_row14_col3\" class=\"data row14 col3\" >0.5730</td>\n",
       "      <td id=\"T_9a640_row14_col4\" class=\"data row14 col4\" >-1.8918</td>\n",
       "      <td id=\"T_9a640_row14_col5\" class=\"data row14 col5\" >0.2564</td>\n",
       "      <td id=\"T_9a640_row14_col6\" class=\"data row14 col6\" >3.4310</td>\n",
       "      <td id=\"T_9a640_row14_col7\" class=\"data row14 col7\" >0.1400</td>\n",
       "    </tr>\n",
       "    <tr>\n",
       "      <th id=\"T_9a640_level0_row15\" class=\"row_heading level0 row15\" >omp</th>\n",
       "      <td id=\"T_9a640_row15_col0\" class=\"data row15 col0\" >Orthogonal Matching Pursuit</td>\n",
       "      <td id=\"T_9a640_row15_col1\" class=\"data row15 col1\" >0.5141</td>\n",
       "      <td id=\"T_9a640_row15_col2\" class=\"data row15 col2\" >0.7449</td>\n",
       "      <td id=\"T_9a640_row15_col3\" class=\"data row15 col3\" >0.7461</td>\n",
       "      <td id=\"T_9a640_row15_col4\" class=\"data row15 col4\" >-2.0659</td>\n",
       "      <td id=\"T_9a640_row15_col5\" class=\"data row15 col5\" >0.3132</td>\n",
       "      <td id=\"T_9a640_row15_col6\" class=\"data row15 col6\" >3.7726</td>\n",
       "      <td id=\"T_9a640_row15_col7\" class=\"data row15 col7\" >0.0100</td>\n",
       "    </tr>\n",
       "    <tr>\n",
       "      <th id=\"T_9a640_level0_row16\" class=\"row_heading level0 row16\" >ada</th>\n",
       "      <td id=\"T_9a640_row16_col0\" class=\"data row16 col0\" >AdaBoost Regressor</td>\n",
       "      <td id=\"T_9a640_row16_col1\" class=\"data row16 col1\" >0.4405</td>\n",
       "      <td id=\"T_9a640_row16_col2\" class=\"data row16 col2\" >0.5849</td>\n",
       "      <td id=\"T_9a640_row16_col3\" class=\"data row16 col3\" >0.7035</td>\n",
       "      <td id=\"T_9a640_row16_col4\" class=\"data row16 col4\" >-2.3211</td>\n",
       "      <td id=\"T_9a640_row16_col5\" class=\"data row16 col5\" >0.3124</td>\n",
       "      <td id=\"T_9a640_row16_col6\" class=\"data row16 col6\" >3.6153</td>\n",
       "      <td id=\"T_9a640_row16_col7\" class=\"data row16 col7\" >0.0167</td>\n",
       "    </tr>\n",
       "    <tr>\n",
       "      <th id=\"T_9a640_level0_row17\" class=\"row_heading level0 row17\" >dt</th>\n",
       "      <td id=\"T_9a640_row17_col0\" class=\"data row17 col0\" >Decision Tree Regressor</td>\n",
       "      <td id=\"T_9a640_row17_col1\" class=\"data row17 col1\" >0.3272</td>\n",
       "      <td id=\"T_9a640_row17_col2\" class=\"data row17 col2\" >0.6122</td>\n",
       "      <td id=\"T_9a640_row17_col3\" class=\"data row17 col3\" >0.7177</td>\n",
       "      <td id=\"T_9a640_row17_col4\" class=\"data row17 col4\" >-2.5232</td>\n",
       "      <td id=\"T_9a640_row17_col5\" class=\"data row17 col5\" >0.2822</td>\n",
       "      <td id=\"T_9a640_row17_col6\" class=\"data row17 col6\" >3.6549</td>\n",
       "      <td id=\"T_9a640_row17_col7\" class=\"data row17 col7\" >0.0100</td>\n",
       "    </tr>\n",
       "  </tbody>\n",
       "</table>\n"
      ],
      "text/plain": [
       "<pandas.io.formats.style.Styler at 0x25883c03c10>"
      ]
     },
     "metadata": {},
     "output_type": "display_data"
    },
    {
     "data": {
      "text/html": [],
      "text/plain": [
       "<IPython.core.display.HTML object>"
      ]
     },
     "metadata": {},
     "output_type": "display_data"
    }
   ],
   "source": [
    "best_auto = compare_models()"
   ]
  },
  {
   "cell_type": "code",
   "execution_count": 188,
   "metadata": {},
   "outputs": [
    {
     "data": {
      "application/vnd.jupyter.widget-view+json": {
       "model_id": "054952ba6fb94a54a59d725fa3d6ba9a",
       "version_major": 2,
       "version_minor": 0
      },
      "text/plain": [
       "interactive(children=(ToggleButtons(description='Plot Type:', icons=('',), options=(('Pipeline Plot', 'pipelin…"
      ]
     },
     "metadata": {},
     "output_type": "display_data"
    }
   ],
   "source": [
    "evaluate_model(best_auto)"
   ]
  },
  {
   "cell_type": "markdown",
   "metadata": {},
   "source": [
    "#### **Modelo 2**"
   ]
  },
  {
   "cell_type": "code",
   "execution_count": 189,
   "metadata": {},
   "outputs": [
    {
     "name": "stdout",
     "output_type": "stream",
     "text": [
      "(1425, 4)\n",
      "(150, 4)\n"
     ]
    }
   ],
   "source": [
    "Data_final_2 = Data_final.copy()\n",
    "Data_final_2.drop(columns=['ECI'],axis=1,inplace =True)\n",
    "train = Data_final_2[Data_final_2['año_x'] < 2019]\n",
    "test = Data_final_2[Data_final_2['año_x'] >= 2019]\n",
    "print(train.shape)\n",
    "print(test.shape)"
   ]
  },
  {
   "cell_type": "code",
   "execution_count": 190,
   "metadata": {},
   "outputs": [
    {
     "data": {
      "text/html": [
       "<div>\n",
       "<style scoped>\n",
       "    .dataframe tbody tr th:only-of-type {\n",
       "        vertical-align: middle;\n",
       "    }\n",
       "\n",
       "    .dataframe tbody tr th {\n",
       "        vertical-align: top;\n",
       "    }\n",
       "\n",
       "    .dataframe thead th {\n",
       "        text-align: right;\n",
       "    }\n",
       "</style>\n",
       "<table border=\"1\" class=\"dataframe\">\n",
       "  <thead>\n",
       "    <tr style=\"text-align: right;\">\n",
       "      <th></th>\n",
       "      <th>Poblacion</th>\n",
       "      <th>total_gdp_million</th>\n",
       "      <th>año_x</th>\n",
       "      <th>Ecuador</th>\n",
       "    </tr>\n",
       "  </thead>\n",
       "  <tbody>\n",
       "    <tr>\n",
       "      <th>0</th>\n",
       "      <td>-0.123399</td>\n",
       "      <td>-0.283150</td>\n",
       "      <td>2019</td>\n",
       "      <td>0</td>\n",
       "    </tr>\n",
       "    <tr>\n",
       "      <th>1</th>\n",
       "      <td>-0.119818</td>\n",
       "      <td>-0.305020</td>\n",
       "      <td>2020</td>\n",
       "      <td>0</td>\n",
       "    </tr>\n",
       "    <tr>\n",
       "      <th>2</th>\n",
       "      <td>-0.180644</td>\n",
       "      <td>-0.378758</td>\n",
       "      <td>2000</td>\n",
       "      <td>0</td>\n",
       "    </tr>\n",
       "    <tr>\n",
       "      <th>3</th>\n",
       "      <td>-0.178598</td>\n",
       "      <td>-0.378796</td>\n",
       "      <td>2001</td>\n",
       "      <td>0</td>\n",
       "    </tr>\n",
       "    <tr>\n",
       "      <th>4</th>\n",
       "      <td>-0.176565</td>\n",
       "      <td>-0.377148</td>\n",
       "      <td>2002</td>\n",
       "      <td>0</td>\n",
       "    </tr>\n",
       "    <tr>\n",
       "      <th>...</th>\n",
       "      <td>...</td>\n",
       "      <td>...</td>\n",
       "      <td>...</td>\n",
       "      <td>...</td>\n",
       "    </tr>\n",
       "    <tr>\n",
       "      <th>1570</th>\n",
       "      <td>-0.270800</td>\n",
       "      <td>-0.418356</td>\n",
       "      <td>2002</td>\n",
       "      <td>1</td>\n",
       "    </tr>\n",
       "    <tr>\n",
       "      <th>1571</th>\n",
       "      <td>-0.271153</td>\n",
       "      <td>-0.418000</td>\n",
       "      <td>2001</td>\n",
       "      <td>1</td>\n",
       "    </tr>\n",
       "    <tr>\n",
       "      <th>1572</th>\n",
       "      <td>-0.271519</td>\n",
       "      <td>-0.418072</td>\n",
       "      <td>2000</td>\n",
       "      <td>1</td>\n",
       "    </tr>\n",
       "    <tr>\n",
       "      <th>1573</th>\n",
       "      <td>-0.267464</td>\n",
       "      <td>-0.415640</td>\n",
       "      <td>2009</td>\n",
       "      <td>1</td>\n",
       "    </tr>\n",
       "    <tr>\n",
       "      <th>1574</th>\n",
       "      <td>-0.253119</td>\n",
       "      <td>-0.405959</td>\n",
       "      <td>2020</td>\n",
       "      <td>1</td>\n",
       "    </tr>\n",
       "  </tbody>\n",
       "</table>\n",
       "<p>1575 rows × 4 columns</p>\n",
       "</div>"
      ],
      "text/plain": [
       "      Poblacion  total_gdp_million  año_x  Ecuador\n",
       "0     -0.123399          -0.283150   2019        0\n",
       "1     -0.119818          -0.305020   2020        0\n",
       "2     -0.180644          -0.378758   2000        0\n",
       "3     -0.178598          -0.378796   2001        0\n",
       "4     -0.176565          -0.377148   2002        0\n",
       "...         ...                ...    ...      ...\n",
       "1570  -0.270800          -0.418356   2002        1\n",
       "1571  -0.271153          -0.418000   2001        1\n",
       "1572  -0.271519          -0.418072   2000        1\n",
       "1573  -0.267464          -0.415640   2009        1\n",
       "1574  -0.253119          -0.405959   2020        1\n",
       "\n",
       "[1575 rows x 4 columns]"
      ]
     },
     "execution_count": 190,
     "metadata": {},
     "output_type": "execute_result"
    }
   ],
   "source": [
    "Data_final_2"
   ]
  },
  {
   "cell_type": "code",
   "execution_count": 191,
   "metadata": {},
   "outputs": [
    {
     "data": {
      "text/html": [
       "<style type=\"text/css\">\n",
       "#T_15c66_row9_col1 {\n",
       "  background-color: lightgreen;\n",
       "}\n",
       "</style>\n",
       "<table id=\"T_15c66\">\n",
       "  <thead>\n",
       "    <tr>\n",
       "      <th class=\"blank level0\" >&nbsp;</th>\n",
       "      <th id=\"T_15c66_level0_col0\" class=\"col_heading level0 col0\" >Description</th>\n",
       "      <th id=\"T_15c66_level0_col1\" class=\"col_heading level0 col1\" >Value</th>\n",
       "    </tr>\n",
       "  </thead>\n",
       "  <tbody>\n",
       "    <tr>\n",
       "      <th id=\"T_15c66_level0_row0\" class=\"row_heading level0 row0\" >0</th>\n",
       "      <td id=\"T_15c66_row0_col0\" class=\"data row0 col0\" >Session id</td>\n",
       "      <td id=\"T_15c66_row0_col1\" class=\"data row0 col1\" >123</td>\n",
       "    </tr>\n",
       "    <tr>\n",
       "      <th id=\"T_15c66_level0_row1\" class=\"row_heading level0 row1\" >1</th>\n",
       "      <td id=\"T_15c66_row1_col0\" class=\"data row1 col0\" >Target</td>\n",
       "      <td id=\"T_15c66_row1_col1\" class=\"data row1 col1\" >total_gdp_million</td>\n",
       "    </tr>\n",
       "    <tr>\n",
       "      <th id=\"T_15c66_level0_row2\" class=\"row_heading level0 row2\" >2</th>\n",
       "      <td id=\"T_15c66_row2_col0\" class=\"data row2 col0\" >Target type</td>\n",
       "      <td id=\"T_15c66_row2_col1\" class=\"data row2 col1\" >Regression</td>\n",
       "    </tr>\n",
       "    <tr>\n",
       "      <th id=\"T_15c66_level0_row3\" class=\"row_heading level0 row3\" >3</th>\n",
       "      <td id=\"T_15c66_row3_col0\" class=\"data row3 col0\" >Original data shape</td>\n",
       "      <td id=\"T_15c66_row3_col1\" class=\"data row3 col1\" >(1575, 4)</td>\n",
       "    </tr>\n",
       "    <tr>\n",
       "      <th id=\"T_15c66_level0_row4\" class=\"row_heading level0 row4\" >4</th>\n",
       "      <td id=\"T_15c66_row4_col0\" class=\"data row4 col0\" >Transformed data shape</td>\n",
       "      <td id=\"T_15c66_row4_col1\" class=\"data row4 col1\" >(1575, 4)</td>\n",
       "    </tr>\n",
       "    <tr>\n",
       "      <th id=\"T_15c66_level0_row5\" class=\"row_heading level0 row5\" >5</th>\n",
       "      <td id=\"T_15c66_row5_col0\" class=\"data row5 col0\" >Transformed train set shape</td>\n",
       "      <td id=\"T_15c66_row5_col1\" class=\"data row5 col1\" >(1425, 4)</td>\n",
       "    </tr>\n",
       "    <tr>\n",
       "      <th id=\"T_15c66_level0_row6\" class=\"row_heading level0 row6\" >6</th>\n",
       "      <td id=\"T_15c66_row6_col0\" class=\"data row6 col0\" >Transformed test set shape</td>\n",
       "      <td id=\"T_15c66_row6_col1\" class=\"data row6 col1\" >(150, 4)</td>\n",
       "    </tr>\n",
       "    <tr>\n",
       "      <th id=\"T_15c66_level0_row7\" class=\"row_heading level0 row7\" >7</th>\n",
       "      <td id=\"T_15c66_row7_col0\" class=\"data row7 col0\" >Ignore features</td>\n",
       "      <td id=\"T_15c66_row7_col1\" class=\"data row7 col1\" >2</td>\n",
       "    </tr>\n",
       "    <tr>\n",
       "      <th id=\"T_15c66_level0_row8\" class=\"row_heading level0 row8\" >8</th>\n",
       "      <td id=\"T_15c66_row8_col0\" class=\"data row8 col0\" >Numeric features</td>\n",
       "      <td id=\"T_15c66_row8_col1\" class=\"data row8 col1\" >3</td>\n",
       "    </tr>\n",
       "    <tr>\n",
       "      <th id=\"T_15c66_level0_row9\" class=\"row_heading level0 row9\" >9</th>\n",
       "      <td id=\"T_15c66_row9_col0\" class=\"data row9 col0\" >Preprocess</td>\n",
       "      <td id=\"T_15c66_row9_col1\" class=\"data row9 col1\" >True</td>\n",
       "    </tr>\n",
       "    <tr>\n",
       "      <th id=\"T_15c66_level0_row10\" class=\"row_heading level0 row10\" >10</th>\n",
       "      <td id=\"T_15c66_row10_col0\" class=\"data row10 col0\" >Imputation type</td>\n",
       "      <td id=\"T_15c66_row10_col1\" class=\"data row10 col1\" >simple</td>\n",
       "    </tr>\n",
       "    <tr>\n",
       "      <th id=\"T_15c66_level0_row11\" class=\"row_heading level0 row11\" >11</th>\n",
       "      <td id=\"T_15c66_row11_col0\" class=\"data row11 col0\" >Numeric imputation</td>\n",
       "      <td id=\"T_15c66_row11_col1\" class=\"data row11 col1\" >mean</td>\n",
       "    </tr>\n",
       "    <tr>\n",
       "      <th id=\"T_15c66_level0_row12\" class=\"row_heading level0 row12\" >12</th>\n",
       "      <td id=\"T_15c66_row12_col0\" class=\"data row12 col0\" >Categorical imputation</td>\n",
       "      <td id=\"T_15c66_row12_col1\" class=\"data row12 col1\" >mode</td>\n",
       "    </tr>\n",
       "    <tr>\n",
       "      <th id=\"T_15c66_level0_row13\" class=\"row_heading level0 row13\" >13</th>\n",
       "      <td id=\"T_15c66_row13_col0\" class=\"data row13 col0\" >Fold Generator</td>\n",
       "      <td id=\"T_15c66_row13_col1\" class=\"data row13 col1\" >TimeSeriesSplit</td>\n",
       "    </tr>\n",
       "    <tr>\n",
       "      <th id=\"T_15c66_level0_row14\" class=\"row_heading level0 row14\" >14</th>\n",
       "      <td id=\"T_15c66_row14_col0\" class=\"data row14 col0\" >Fold Number</td>\n",
       "      <td id=\"T_15c66_row14_col1\" class=\"data row14 col1\" >3</td>\n",
       "    </tr>\n",
       "    <tr>\n",
       "      <th id=\"T_15c66_level0_row15\" class=\"row_heading level0 row15\" >15</th>\n",
       "      <td id=\"T_15c66_row15_col0\" class=\"data row15 col0\" >CPU Jobs</td>\n",
       "      <td id=\"T_15c66_row15_col1\" class=\"data row15 col1\" >-1</td>\n",
       "    </tr>\n",
       "    <tr>\n",
       "      <th id=\"T_15c66_level0_row16\" class=\"row_heading level0 row16\" >16</th>\n",
       "      <td id=\"T_15c66_row16_col0\" class=\"data row16 col0\" >Use GPU</td>\n",
       "      <td id=\"T_15c66_row16_col1\" class=\"data row16 col1\" >False</td>\n",
       "    </tr>\n",
       "    <tr>\n",
       "      <th id=\"T_15c66_level0_row17\" class=\"row_heading level0 row17\" >17</th>\n",
       "      <td id=\"T_15c66_row17_col0\" class=\"data row17 col0\" >Log Experiment</td>\n",
       "      <td id=\"T_15c66_row17_col1\" class=\"data row17 col1\" >False</td>\n",
       "    </tr>\n",
       "    <tr>\n",
       "      <th id=\"T_15c66_level0_row18\" class=\"row_heading level0 row18\" >18</th>\n",
       "      <td id=\"T_15c66_row18_col0\" class=\"data row18 col0\" >Experiment Name</td>\n",
       "      <td id=\"T_15c66_row18_col1\" class=\"data row18 col1\" >reg-default-name</td>\n",
       "    </tr>\n",
       "    <tr>\n",
       "      <th id=\"T_15c66_level0_row19\" class=\"row_heading level0 row19\" >19</th>\n",
       "      <td id=\"T_15c66_row19_col0\" class=\"data row19 col0\" >USI</td>\n",
       "      <td id=\"T_15c66_row19_col1\" class=\"data row19 col1\" >8d88</td>\n",
       "    </tr>\n",
       "  </tbody>\n",
       "</table>\n"
      ],
      "text/plain": [
       "<pandas.io.formats.style.Styler at 0x25883a833d0>"
      ]
     },
     "metadata": {},
     "output_type": "display_data"
    }
   ],
   "source": [
    "B = setup(data = train, test_data = test,target ='total_gdp_million',fold_strategy = 'timeseries',\n",
    "          ignore_features=['Pais_x','Seires'],fold = 3, session_id = 123,\n",
    "          data_split_shuffle=False,fold_shuffle=False)"
   ]
  },
  {
   "cell_type": "code",
   "execution_count": 192,
   "metadata": {},
   "outputs": [
    {
     "data": {
      "text/html": [],
      "text/plain": [
       "<IPython.core.display.HTML object>"
      ]
     },
     "metadata": {},
     "output_type": "display_data"
    },
    {
     "data": {
      "text/html": [
       "<style type=\"text/css\">\n",
       "#T_b9bde th {\n",
       "  text-align: left;\n",
       "}\n",
       "#T_b9bde_row0_col0, #T_b9bde_row0_col2, #T_b9bde_row0_col5, #T_b9bde_row0_col6, #T_b9bde_row1_col0, #T_b9bde_row1_col1, #T_b9bde_row1_col2, #T_b9bde_row1_col3, #T_b9bde_row1_col4, #T_b9bde_row1_col6, #T_b9bde_row2_col0, #T_b9bde_row2_col1, #T_b9bde_row2_col2, #T_b9bde_row2_col3, #T_b9bde_row2_col4, #T_b9bde_row2_col5, #T_b9bde_row2_col6, #T_b9bde_row3_col0, #T_b9bde_row3_col1, #T_b9bde_row3_col2, #T_b9bde_row3_col3, #T_b9bde_row3_col4, #T_b9bde_row3_col5, #T_b9bde_row3_col6, #T_b9bde_row4_col0, #T_b9bde_row4_col1, #T_b9bde_row4_col2, #T_b9bde_row4_col3, #T_b9bde_row4_col4, #T_b9bde_row4_col5, #T_b9bde_row4_col6, #T_b9bde_row5_col0, #T_b9bde_row5_col1, #T_b9bde_row5_col2, #T_b9bde_row5_col3, #T_b9bde_row5_col4, #T_b9bde_row5_col5, #T_b9bde_row5_col6, #T_b9bde_row6_col0, #T_b9bde_row6_col1, #T_b9bde_row6_col2, #T_b9bde_row6_col3, #T_b9bde_row6_col4, #T_b9bde_row6_col5, #T_b9bde_row6_col6, #T_b9bde_row7_col0, #T_b9bde_row7_col1, #T_b9bde_row7_col3, #T_b9bde_row7_col4, #T_b9bde_row7_col5, #T_b9bde_row7_col6, #T_b9bde_row8_col0, #T_b9bde_row8_col1, #T_b9bde_row8_col3, #T_b9bde_row8_col4, #T_b9bde_row8_col5, #T_b9bde_row8_col6, #T_b9bde_row9_col0, #T_b9bde_row9_col1, #T_b9bde_row9_col2, #T_b9bde_row9_col3, #T_b9bde_row9_col4, #T_b9bde_row9_col5, #T_b9bde_row9_col6, #T_b9bde_row10_col0, #T_b9bde_row10_col1, #T_b9bde_row10_col2, #T_b9bde_row10_col3, #T_b9bde_row10_col4, #T_b9bde_row10_col5, #T_b9bde_row11_col0, #T_b9bde_row11_col1, #T_b9bde_row11_col2, #T_b9bde_row11_col3, #T_b9bde_row11_col4, #T_b9bde_row11_col5, #T_b9bde_row11_col6, #T_b9bde_row12_col0, #T_b9bde_row12_col1, #T_b9bde_row12_col2, #T_b9bde_row12_col3, #T_b9bde_row12_col4, #T_b9bde_row12_col5, #T_b9bde_row12_col6, #T_b9bde_row13_col0, #T_b9bde_row13_col1, #T_b9bde_row13_col2, #T_b9bde_row13_col3, #T_b9bde_row13_col4, #T_b9bde_row13_col5, #T_b9bde_row13_col6, #T_b9bde_row14_col0, #T_b9bde_row14_col1, #T_b9bde_row14_col2, #T_b9bde_row14_col3, #T_b9bde_row14_col4, #T_b9bde_row14_col5, #T_b9bde_row14_col6, #T_b9bde_row15_col0, #T_b9bde_row15_col1, #T_b9bde_row15_col2, #T_b9bde_row15_col3, #T_b9bde_row15_col4, #T_b9bde_row15_col5, #T_b9bde_row15_col6, #T_b9bde_row16_col0, #T_b9bde_row16_col1, #T_b9bde_row16_col2, #T_b9bde_row16_col3, #T_b9bde_row16_col4, #T_b9bde_row16_col5, #T_b9bde_row16_col6, #T_b9bde_row17_col0, #T_b9bde_row17_col1, #T_b9bde_row17_col2, #T_b9bde_row17_col3, #T_b9bde_row17_col4, #T_b9bde_row17_col5, #T_b9bde_row17_col6 {\n",
       "  text-align: left;\n",
       "}\n",
       "#T_b9bde_row0_col1, #T_b9bde_row0_col3, #T_b9bde_row0_col4, #T_b9bde_row1_col5, #T_b9bde_row7_col2, #T_b9bde_row8_col2, #T_b9bde_row10_col6 {\n",
       "  text-align: left;\n",
       "  background-color: yellow;\n",
       "}\n",
       "#T_b9bde_row0_col7, #T_b9bde_row1_col7, #T_b9bde_row2_col7, #T_b9bde_row4_col7, #T_b9bde_row5_col7, #T_b9bde_row6_col7, #T_b9bde_row7_col7, #T_b9bde_row8_col7, #T_b9bde_row9_col7, #T_b9bde_row11_col7, #T_b9bde_row12_col7, #T_b9bde_row13_col7, #T_b9bde_row14_col7, #T_b9bde_row15_col7, #T_b9bde_row16_col7, #T_b9bde_row17_col7 {\n",
       "  text-align: left;\n",
       "  background-color: lightgrey;\n",
       "}\n",
       "#T_b9bde_row3_col7, #T_b9bde_row10_col7 {\n",
       "  text-align: left;\n",
       "  background-color: yellow;\n",
       "  background-color: lightgrey;\n",
       "}\n",
       "</style>\n",
       "<table id=\"T_b9bde\">\n",
       "  <thead>\n",
       "    <tr>\n",
       "      <th class=\"blank level0\" >&nbsp;</th>\n",
       "      <th id=\"T_b9bde_level0_col0\" class=\"col_heading level0 col0\" >Model</th>\n",
       "      <th id=\"T_b9bde_level0_col1\" class=\"col_heading level0 col1\" >MAE</th>\n",
       "      <th id=\"T_b9bde_level0_col2\" class=\"col_heading level0 col2\" >MSE</th>\n",
       "      <th id=\"T_b9bde_level0_col3\" class=\"col_heading level0 col3\" >RMSE</th>\n",
       "      <th id=\"T_b9bde_level0_col4\" class=\"col_heading level0 col4\" >R2</th>\n",
       "      <th id=\"T_b9bde_level0_col5\" class=\"col_heading level0 col5\" >RMSLE</th>\n",
       "      <th id=\"T_b9bde_level0_col6\" class=\"col_heading level0 col6\" >MAPE</th>\n",
       "      <th id=\"T_b9bde_level0_col7\" class=\"col_heading level0 col7\" >TT (Sec)</th>\n",
       "    </tr>\n",
       "  </thead>\n",
       "  <tbody>\n",
       "    <tr>\n",
       "      <th id=\"T_b9bde_level0_row0\" class=\"row_heading level0 row0\" >huber</th>\n",
       "      <td id=\"T_b9bde_row0_col0\" class=\"data row0 col0\" >Huber Regressor</td>\n",
       "      <td id=\"T_b9bde_row0_col1\" class=\"data row0 col1\" >0.3209</td>\n",
       "      <td id=\"T_b9bde_row0_col2\" class=\"data row0 col2\" >0.5628</td>\n",
       "      <td id=\"T_b9bde_row0_col3\" class=\"data row0 col3\" >0.5748</td>\n",
       "      <td id=\"T_b9bde_row0_col4\" class=\"data row0 col4\" >-0.0809</td>\n",
       "      <td id=\"T_b9bde_row0_col5\" class=\"data row0 col5\" >0.2579</td>\n",
       "      <td id=\"T_b9bde_row0_col6\" class=\"data row0 col6\" >3.5187</td>\n",
       "      <td id=\"T_b9bde_row0_col7\" class=\"data row0 col7\" >0.0100</td>\n",
       "    </tr>\n",
       "    <tr>\n",
       "      <th id=\"T_b9bde_level0_row1\" class=\"row_heading level0 row1\" >par</th>\n",
       "      <td id=\"T_b9bde_row1_col0\" class=\"data row1 col0\" >Passive Aggressive Regressor</td>\n",
       "      <td id=\"T_b9bde_row1_col1\" class=\"data row1 col1\" >0.3404</td>\n",
       "      <td id=\"T_b9bde_row1_col2\" class=\"data row1 col2\" >0.5657</td>\n",
       "      <td id=\"T_b9bde_row1_col3\" class=\"data row1 col3\" >0.5792</td>\n",
       "      <td id=\"T_b9bde_row1_col4\" class=\"data row1 col4\" >-0.1184</td>\n",
       "      <td id=\"T_b9bde_row1_col5\" class=\"data row1 col5\" >0.2331</td>\n",
       "      <td id=\"T_b9bde_row1_col6\" class=\"data row1 col6\" >1.9897</td>\n",
       "      <td id=\"T_b9bde_row1_col7\" class=\"data row1 col7\" >0.0100</td>\n",
       "    </tr>\n",
       "    <tr>\n",
       "      <th id=\"T_b9bde_level0_row2\" class=\"row_heading level0 row2\" >en</th>\n",
       "      <td id=\"T_b9bde_row2_col0\" class=\"data row2 col0\" >Elastic Net</td>\n",
       "      <td id=\"T_b9bde_row2_col1\" class=\"data row2 col1\" >0.4810</td>\n",
       "      <td id=\"T_b9bde_row2_col2\" class=\"data row2 col2\" >0.5411</td>\n",
       "      <td id=\"T_b9bde_row2_col3\" class=\"data row2 col3\" >0.6411</td>\n",
       "      <td id=\"T_b9bde_row2_col4\" class=\"data row2 col4\" >-1.2997</td>\n",
       "      <td id=\"T_b9bde_row2_col5\" class=\"data row2 col5\" >0.3137</td>\n",
       "      <td id=\"T_b9bde_row2_col6\" class=\"data row2 col6\" >2.4987</td>\n",
       "      <td id=\"T_b9bde_row2_col7\" class=\"data row2 col7\" >0.0100</td>\n",
       "    </tr>\n",
       "    <tr>\n",
       "      <th id=\"T_b9bde_level0_row3\" class=\"row_heading level0 row3\" >br</th>\n",
       "      <td id=\"T_b9bde_row3_col0\" class=\"data row3 col0\" >Bayesian Ridge</td>\n",
       "      <td id=\"T_b9bde_row3_col1\" class=\"data row3 col1\" >0.4851</td>\n",
       "      <td id=\"T_b9bde_row3_col2\" class=\"data row3 col2\" >0.7022</td>\n",
       "      <td id=\"T_b9bde_row3_col3\" class=\"data row3 col3\" >0.7147</td>\n",
       "      <td id=\"T_b9bde_row3_col4\" class=\"data row3 col4\" >-1.6090</td>\n",
       "      <td id=\"T_b9bde_row3_col5\" class=\"data row3 col5\" >0.2922</td>\n",
       "      <td id=\"T_b9bde_row3_col6\" class=\"data row3 col6\" >3.8887</td>\n",
       "      <td id=\"T_b9bde_row3_col7\" class=\"data row3 col7\" >0.0067</td>\n",
       "    </tr>\n",
       "    <tr>\n",
       "      <th id=\"T_b9bde_level0_row4\" class=\"row_heading level0 row4\" >ridge</th>\n",
       "      <td id=\"T_b9bde_row4_col0\" class=\"data row4 col0\" >Ridge Regression</td>\n",
       "      <td id=\"T_b9bde_row4_col1\" class=\"data row4 col1\" >0.4868</td>\n",
       "      <td id=\"T_b9bde_row4_col2\" class=\"data row4 col2\" >0.7049</td>\n",
       "      <td id=\"T_b9bde_row4_col3\" class=\"data row4 col3\" >0.7168</td>\n",
       "      <td id=\"T_b9bde_row4_col4\" class=\"data row4 col4\" >-1.6370</td>\n",
       "      <td id=\"T_b9bde_row4_col5\" class=\"data row4 col5\" >0.2925</td>\n",
       "      <td id=\"T_b9bde_row4_col6\" class=\"data row4 col6\" >3.9096</td>\n",
       "      <td id=\"T_b9bde_row4_col7\" class=\"data row4 col7\" >0.0100</td>\n",
       "    </tr>\n",
       "    <tr>\n",
       "      <th id=\"T_b9bde_level0_row5\" class=\"row_heading level0 row5\" >lr</th>\n",
       "      <td id=\"T_b9bde_row5_col0\" class=\"data row5 col0\" >Linear Regression</td>\n",
       "      <td id=\"T_b9bde_row5_col1\" class=\"data row5 col1\" >0.4874</td>\n",
       "      <td id=\"T_b9bde_row5_col2\" class=\"data row5 col2\" >0.7059</td>\n",
       "      <td id=\"T_b9bde_row5_col3\" class=\"data row5 col3\" >0.7176</td>\n",
       "      <td id=\"T_b9bde_row5_col4\" class=\"data row5 col4\" >-1.6470</td>\n",
       "      <td id=\"T_b9bde_row5_col5\" class=\"data row5 col5\" >0.2927</td>\n",
       "      <td id=\"T_b9bde_row5_col6\" class=\"data row5 col6\" >3.9173</td>\n",
       "      <td id=\"T_b9bde_row5_col7\" class=\"data row5 col7\" >0.0100</td>\n",
       "    </tr>\n",
       "    <tr>\n",
       "      <th id=\"T_b9bde_level0_row6\" class=\"row_heading level0 row6\" >lar</th>\n",
       "      <td id=\"T_b9bde_row6_col0\" class=\"data row6 col0\" >Least Angle Regression</td>\n",
       "      <td id=\"T_b9bde_row6_col1\" class=\"data row6 col1\" >0.4874</td>\n",
       "      <td id=\"T_b9bde_row6_col2\" class=\"data row6 col2\" >0.7059</td>\n",
       "      <td id=\"T_b9bde_row6_col3\" class=\"data row6 col3\" >0.7176</td>\n",
       "      <td id=\"T_b9bde_row6_col4\" class=\"data row6 col4\" >-1.6470</td>\n",
       "      <td id=\"T_b9bde_row6_col5\" class=\"data row6 col5\" >0.2927</td>\n",
       "      <td id=\"T_b9bde_row6_col6\" class=\"data row6 col6\" >3.9173</td>\n",
       "      <td id=\"T_b9bde_row6_col7\" class=\"data row6 col7\" >0.0100</td>\n",
       "    </tr>\n",
       "    <tr>\n",
       "      <th id=\"T_b9bde_level0_row7\" class=\"row_heading level0 row7\" >llar</th>\n",
       "      <td id=\"T_b9bde_row7_col0\" class=\"data row7 col0\" >Lasso Least Angle Regression</td>\n",
       "      <td id=\"T_b9bde_row7_col1\" class=\"data row7 col1\" >0.5048</td>\n",
       "      <td id=\"T_b9bde_row7_col2\" class=\"data row7 col2\" >0.5348</td>\n",
       "      <td id=\"T_b9bde_row7_col3\" class=\"data row7 col3\" >0.6541</td>\n",
       "      <td id=\"T_b9bde_row7_col4\" class=\"data row7 col4\" >-1.6996</td>\n",
       "      <td id=\"T_b9bde_row7_col5\" class=\"data row7 col5\" >0.2956</td>\n",
       "      <td id=\"T_b9bde_row7_col6\" class=\"data row7 col6\" >2.3333</td>\n",
       "      <td id=\"T_b9bde_row7_col7\" class=\"data row7 col7\" >0.0100</td>\n",
       "    </tr>\n",
       "    <tr>\n",
       "      <th id=\"T_b9bde_level0_row8\" class=\"row_heading level0 row8\" >lasso</th>\n",
       "      <td id=\"T_b9bde_row8_col0\" class=\"data row8 col0\" >Lasso Regression</td>\n",
       "      <td id=\"T_b9bde_row8_col1\" class=\"data row8 col1\" >0.5048</td>\n",
       "      <td id=\"T_b9bde_row8_col2\" class=\"data row8 col2\" >0.5348</td>\n",
       "      <td id=\"T_b9bde_row8_col3\" class=\"data row8 col3\" >0.6541</td>\n",
       "      <td id=\"T_b9bde_row8_col4\" class=\"data row8 col4\" >-1.6996</td>\n",
       "      <td id=\"T_b9bde_row8_col5\" class=\"data row8 col5\" >0.2956</td>\n",
       "      <td id=\"T_b9bde_row8_col6\" class=\"data row8 col6\" >2.3333</td>\n",
       "      <td id=\"T_b9bde_row8_col7\" class=\"data row8 col7\" >0.0100</td>\n",
       "    </tr>\n",
       "    <tr>\n",
       "      <th id=\"T_b9bde_level0_row9\" class=\"row_heading level0 row9\" >knn</th>\n",
       "      <td id=\"T_b9bde_row9_col0\" class=\"data row9 col0\" >K Neighbors Regressor</td>\n",
       "      <td id=\"T_b9bde_row9_col1\" class=\"data row9 col1\" >0.4001</td>\n",
       "      <td id=\"T_b9bde_row9_col2\" class=\"data row9 col2\" >0.8905</td>\n",
       "      <td id=\"T_b9bde_row9_col3\" class=\"data row9 col3\" >0.7686</td>\n",
       "      <td id=\"T_b9bde_row9_col4\" class=\"data row9 col4\" >-1.7067</td>\n",
       "      <td id=\"T_b9bde_row9_col5\" class=\"data row9 col5\" >0.3076</td>\n",
       "      <td id=\"T_b9bde_row9_col6\" class=\"data row9 col6\" >2.5862</td>\n",
       "      <td id=\"T_b9bde_row9_col7\" class=\"data row9 col7\" >0.0200</td>\n",
       "    </tr>\n",
       "    <tr>\n",
       "      <th id=\"T_b9bde_level0_row10\" class=\"row_heading level0 row10\" >dummy</th>\n",
       "      <td id=\"T_b9bde_row10_col0\" class=\"data row10 col0\" >Dummy Regressor</td>\n",
       "      <td id=\"T_b9bde_row10_col1\" class=\"data row10 col1\" >0.5281</td>\n",
       "      <td id=\"T_b9bde_row10_col2\" class=\"data row10 col2\" >0.5535</td>\n",
       "      <td id=\"T_b9bde_row10_col3\" class=\"data row10 col3\" >0.6626</td>\n",
       "      <td id=\"T_b9bde_row10_col4\" class=\"data row10 col4\" >-1.7208</td>\n",
       "      <td id=\"T_b9bde_row10_col5\" class=\"data row10 col5\" >0.2902</td>\n",
       "      <td id=\"T_b9bde_row10_col6\" class=\"data row10 col6\" >1.8393</td>\n",
       "      <td id=\"T_b9bde_row10_col7\" class=\"data row10 col7\" >0.0067</td>\n",
       "    </tr>\n",
       "    <tr>\n",
       "      <th id=\"T_b9bde_level0_row11\" class=\"row_heading level0 row11\" >omp</th>\n",
       "      <td id=\"T_b9bde_row11_col0\" class=\"data row11 col0\" >Orthogonal Matching Pursuit</td>\n",
       "      <td id=\"T_b9bde_row11_col1\" class=\"data row11 col1\" >0.5141</td>\n",
       "      <td id=\"T_b9bde_row11_col2\" class=\"data row11 col2\" >0.7449</td>\n",
       "      <td id=\"T_b9bde_row11_col3\" class=\"data row11 col3\" >0.7461</td>\n",
       "      <td id=\"T_b9bde_row11_col4\" class=\"data row11 col4\" >-2.0659</td>\n",
       "      <td id=\"T_b9bde_row11_col5\" class=\"data row11 col5\" >0.3132</td>\n",
       "      <td id=\"T_b9bde_row11_col6\" class=\"data row11 col6\" >3.7726</td>\n",
       "      <td id=\"T_b9bde_row11_col7\" class=\"data row11 col7\" >0.0100</td>\n",
       "    </tr>\n",
       "    <tr>\n",
       "      <th id=\"T_b9bde_level0_row12\" class=\"row_heading level0 row12\" >gbr</th>\n",
       "      <td id=\"T_b9bde_row12_col0\" class=\"data row12 col0\" >Gradient Boosting Regressor</td>\n",
       "      <td id=\"T_b9bde_row12_col1\" class=\"data row12 col1\" >0.4315</td>\n",
       "      <td id=\"T_b9bde_row12_col2\" class=\"data row12 col2\" >0.8160</td>\n",
       "      <td id=\"T_b9bde_row12_col3\" class=\"data row12 col3\" >0.7931</td>\n",
       "      <td id=\"T_b9bde_row12_col4\" class=\"data row12 col4\" >-3.7655</td>\n",
       "      <td id=\"T_b9bde_row12_col5\" class=\"data row12 col5\" >0.3357</td>\n",
       "      <td id=\"T_b9bde_row12_col6\" class=\"data row12 col6\" >3.2166</td>\n",
       "      <td id=\"T_b9bde_row12_col7\" class=\"data row12 col7\" >0.0267</td>\n",
       "    </tr>\n",
       "    <tr>\n",
       "      <th id=\"T_b9bde_level0_row13\" class=\"row_heading level0 row13\" >ada</th>\n",
       "      <td id=\"T_b9bde_row13_col0\" class=\"data row13 col0\" >AdaBoost Regressor</td>\n",
       "      <td id=\"T_b9bde_row13_col1\" class=\"data row13 col1\" >0.4742</td>\n",
       "      <td id=\"T_b9bde_row13_col2\" class=\"data row13 col2\" >0.7493</td>\n",
       "      <td id=\"T_b9bde_row13_col3\" class=\"data row13 col3\" >0.7925</td>\n",
       "      <td id=\"T_b9bde_row13_col4\" class=\"data row13 col4\" >-4.4512</td>\n",
       "      <td id=\"T_b9bde_row13_col5\" class=\"data row13 col5\" >0.3309</td>\n",
       "      <td id=\"T_b9bde_row13_col6\" class=\"data row13 col6\" >3.1671</td>\n",
       "      <td id=\"T_b9bde_row13_col7\" class=\"data row13 col7\" >0.0233</td>\n",
       "    </tr>\n",
       "    <tr>\n",
       "      <th id=\"T_b9bde_level0_row14\" class=\"row_heading level0 row14\" >rf</th>\n",
       "      <td id=\"T_b9bde_row14_col0\" class=\"data row14 col0\" >Random Forest Regressor</td>\n",
       "      <td id=\"T_b9bde_row14_col1\" class=\"data row14 col1\" >0.4124</td>\n",
       "      <td id=\"T_b9bde_row14_col2\" class=\"data row14 col2\" >0.8857</td>\n",
       "      <td id=\"T_b9bde_row14_col3\" class=\"data row14 col3\" >0.8367</td>\n",
       "      <td id=\"T_b9bde_row14_col4\" class=\"data row14 col4\" >-5.1838</td>\n",
       "      <td id=\"T_b9bde_row14_col5\" class=\"data row14 col5\" >0.3346</td>\n",
       "      <td id=\"T_b9bde_row14_col6\" class=\"data row14 col6\" >3.4485</td>\n",
       "      <td id=\"T_b9bde_row14_col7\" class=\"data row14 col7\" >0.0500</td>\n",
       "    </tr>\n",
       "    <tr>\n",
       "      <th id=\"T_b9bde_level0_row15\" class=\"row_heading level0 row15\" >lightgbm</th>\n",
       "      <td id=\"T_b9bde_row15_col0\" class=\"data row15 col0\" >Light Gradient Boosting Machine</td>\n",
       "      <td id=\"T_b9bde_row15_col1\" class=\"data row15 col1\" >0.4766</td>\n",
       "      <td id=\"T_b9bde_row15_col2\" class=\"data row15 col2\" >1.0048</td>\n",
       "      <td id=\"T_b9bde_row15_col3\" class=\"data row15 col3\" >0.8804</td>\n",
       "      <td id=\"T_b9bde_row15_col4\" class=\"data row15 col4\" >-5.4312</td>\n",
       "      <td id=\"T_b9bde_row15_col5\" class=\"data row15 col5\" >0.3262</td>\n",
       "      <td id=\"T_b9bde_row15_col6\" class=\"data row15 col6\" >4.2583</td>\n",
       "      <td id=\"T_b9bde_row15_col7\" class=\"data row15 col7\" >0.1367</td>\n",
       "    </tr>\n",
       "    <tr>\n",
       "      <th id=\"T_b9bde_level0_row16\" class=\"row_heading level0 row16\" >dt</th>\n",
       "      <td id=\"T_b9bde_row16_col0\" class=\"data row16 col0\" >Decision Tree Regressor</td>\n",
       "      <td id=\"T_b9bde_row16_col1\" class=\"data row16 col1\" >0.4289</td>\n",
       "      <td id=\"T_b9bde_row16_col2\" class=\"data row16 col2\" >0.9446</td>\n",
       "      <td id=\"T_b9bde_row16_col3\" class=\"data row16 col3\" >0.8691</td>\n",
       "      <td id=\"T_b9bde_row16_col4\" class=\"data row16 col4\" >-6.3496</td>\n",
       "      <td id=\"T_b9bde_row16_col5\" class=\"data row16 col5\" >0.3380</td>\n",
       "      <td id=\"T_b9bde_row16_col6\" class=\"data row16 col6\" >3.4239</td>\n",
       "      <td id=\"T_b9bde_row16_col7\" class=\"data row16 col7\" >0.0100</td>\n",
       "    </tr>\n",
       "    <tr>\n",
       "      <th id=\"T_b9bde_level0_row17\" class=\"row_heading level0 row17\" >et</th>\n",
       "      <td id=\"T_b9bde_row17_col0\" class=\"data row17 col0\" >Extra Trees Regressor</td>\n",
       "      <td id=\"T_b9bde_row17_col1\" class=\"data row17 col1\" >0.4356</td>\n",
       "      <td id=\"T_b9bde_row17_col2\" class=\"data row17 col2\" >0.9655</td>\n",
       "      <td id=\"T_b9bde_row17_col3\" class=\"data row17 col3\" >0.8802</td>\n",
       "      <td id=\"T_b9bde_row17_col4\" class=\"data row17 col4\" >-6.5014</td>\n",
       "      <td id=\"T_b9bde_row17_col5\" class=\"data row17 col5\" >0.3493</td>\n",
       "      <td id=\"T_b9bde_row17_col6\" class=\"data row17 col6\" >3.4851</td>\n",
       "      <td id=\"T_b9bde_row17_col7\" class=\"data row17 col7\" >0.0400</td>\n",
       "    </tr>\n",
       "  </tbody>\n",
       "</table>\n"
      ],
      "text/plain": [
       "<pandas.io.formats.style.Styler at 0x258f924de40>"
      ]
     },
     "metadata": {},
     "output_type": "display_data"
    },
    {
     "data": {
      "text/html": [],
      "text/plain": [
       "<IPython.core.display.HTML object>"
      ]
     },
     "metadata": {},
     "output_type": "display_data"
    }
   ],
   "source": [
    "best = compare_models()"
   ]
  },
  {
   "cell_type": "markdown",
   "metadata": {},
   "source": [
    "#### **Modelos 3**"
   ]
  },
  {
   "cell_type": "code",
   "execution_count": 193,
   "metadata": {},
   "outputs": [
    {
     "name": "stdout",
     "output_type": "stream",
     "text": [
      "(1425, 4)\n",
      "(150, 4)\n"
     ]
    }
   ],
   "source": [
    "Data_final_3 = Data_final.copy()\n",
    "Data_final_3.drop(columns=['Poblacion'],axis=1,inplace =True)\n",
    "train = Data_final_3[Data_final_3['año_x'] < 2019]\n",
    "test = Data_final_3[Data_final_3['año_x'] >= 2019]\n",
    "print(train.shape)\n",
    "print(test.shape)"
   ]
  },
  {
   "cell_type": "code",
   "execution_count": 194,
   "metadata": {},
   "outputs": [
    {
     "data": {
      "text/html": [
       "<style type=\"text/css\">\n",
       "#T_45af4_row9_col1 {\n",
       "  background-color: lightgreen;\n",
       "}\n",
       "</style>\n",
       "<table id=\"T_45af4\">\n",
       "  <thead>\n",
       "    <tr>\n",
       "      <th class=\"blank level0\" >&nbsp;</th>\n",
       "      <th id=\"T_45af4_level0_col0\" class=\"col_heading level0 col0\" >Description</th>\n",
       "      <th id=\"T_45af4_level0_col1\" class=\"col_heading level0 col1\" >Value</th>\n",
       "    </tr>\n",
       "  </thead>\n",
       "  <tbody>\n",
       "    <tr>\n",
       "      <th id=\"T_45af4_level0_row0\" class=\"row_heading level0 row0\" >0</th>\n",
       "      <td id=\"T_45af4_row0_col0\" class=\"data row0 col0\" >Session id</td>\n",
       "      <td id=\"T_45af4_row0_col1\" class=\"data row0 col1\" >123</td>\n",
       "    </tr>\n",
       "    <tr>\n",
       "      <th id=\"T_45af4_level0_row1\" class=\"row_heading level0 row1\" >1</th>\n",
       "      <td id=\"T_45af4_row1_col0\" class=\"data row1 col0\" >Target</td>\n",
       "      <td id=\"T_45af4_row1_col1\" class=\"data row1 col1\" >total_gdp_million</td>\n",
       "    </tr>\n",
       "    <tr>\n",
       "      <th id=\"T_45af4_level0_row2\" class=\"row_heading level0 row2\" >2</th>\n",
       "      <td id=\"T_45af4_row2_col0\" class=\"data row2 col0\" >Target type</td>\n",
       "      <td id=\"T_45af4_row2_col1\" class=\"data row2 col1\" >Regression</td>\n",
       "    </tr>\n",
       "    <tr>\n",
       "      <th id=\"T_45af4_level0_row3\" class=\"row_heading level0 row3\" >3</th>\n",
       "      <td id=\"T_45af4_row3_col0\" class=\"data row3 col0\" >Original data shape</td>\n",
       "      <td id=\"T_45af4_row3_col1\" class=\"data row3 col1\" >(1575, 4)</td>\n",
       "    </tr>\n",
       "    <tr>\n",
       "      <th id=\"T_45af4_level0_row4\" class=\"row_heading level0 row4\" >4</th>\n",
       "      <td id=\"T_45af4_row4_col0\" class=\"data row4 col0\" >Transformed data shape</td>\n",
       "      <td id=\"T_45af4_row4_col1\" class=\"data row4 col1\" >(1575, 4)</td>\n",
       "    </tr>\n",
       "    <tr>\n",
       "      <th id=\"T_45af4_level0_row5\" class=\"row_heading level0 row5\" >5</th>\n",
       "      <td id=\"T_45af4_row5_col0\" class=\"data row5 col0\" >Transformed train set shape</td>\n",
       "      <td id=\"T_45af4_row5_col1\" class=\"data row5 col1\" >(1425, 4)</td>\n",
       "    </tr>\n",
       "    <tr>\n",
       "      <th id=\"T_45af4_level0_row6\" class=\"row_heading level0 row6\" >6</th>\n",
       "      <td id=\"T_45af4_row6_col0\" class=\"data row6 col0\" >Transformed test set shape</td>\n",
       "      <td id=\"T_45af4_row6_col1\" class=\"data row6 col1\" >(150, 4)</td>\n",
       "    </tr>\n",
       "    <tr>\n",
       "      <th id=\"T_45af4_level0_row7\" class=\"row_heading level0 row7\" >7</th>\n",
       "      <td id=\"T_45af4_row7_col0\" class=\"data row7 col0\" >Ignore features</td>\n",
       "      <td id=\"T_45af4_row7_col1\" class=\"data row7 col1\" >2</td>\n",
       "    </tr>\n",
       "    <tr>\n",
       "      <th id=\"T_45af4_level0_row8\" class=\"row_heading level0 row8\" >8</th>\n",
       "      <td id=\"T_45af4_row8_col0\" class=\"data row8 col0\" >Numeric features</td>\n",
       "      <td id=\"T_45af4_row8_col1\" class=\"data row8 col1\" >3</td>\n",
       "    </tr>\n",
       "    <tr>\n",
       "      <th id=\"T_45af4_level0_row9\" class=\"row_heading level0 row9\" >9</th>\n",
       "      <td id=\"T_45af4_row9_col0\" class=\"data row9 col0\" >Preprocess</td>\n",
       "      <td id=\"T_45af4_row9_col1\" class=\"data row9 col1\" >True</td>\n",
       "    </tr>\n",
       "    <tr>\n",
       "      <th id=\"T_45af4_level0_row10\" class=\"row_heading level0 row10\" >10</th>\n",
       "      <td id=\"T_45af4_row10_col0\" class=\"data row10 col0\" >Imputation type</td>\n",
       "      <td id=\"T_45af4_row10_col1\" class=\"data row10 col1\" >simple</td>\n",
       "    </tr>\n",
       "    <tr>\n",
       "      <th id=\"T_45af4_level0_row11\" class=\"row_heading level0 row11\" >11</th>\n",
       "      <td id=\"T_45af4_row11_col0\" class=\"data row11 col0\" >Numeric imputation</td>\n",
       "      <td id=\"T_45af4_row11_col1\" class=\"data row11 col1\" >mean</td>\n",
       "    </tr>\n",
       "    <tr>\n",
       "      <th id=\"T_45af4_level0_row12\" class=\"row_heading level0 row12\" >12</th>\n",
       "      <td id=\"T_45af4_row12_col0\" class=\"data row12 col0\" >Categorical imputation</td>\n",
       "      <td id=\"T_45af4_row12_col1\" class=\"data row12 col1\" >mode</td>\n",
       "    </tr>\n",
       "    <tr>\n",
       "      <th id=\"T_45af4_level0_row13\" class=\"row_heading level0 row13\" >13</th>\n",
       "      <td id=\"T_45af4_row13_col0\" class=\"data row13 col0\" >Fold Generator</td>\n",
       "      <td id=\"T_45af4_row13_col1\" class=\"data row13 col1\" >TimeSeriesSplit</td>\n",
       "    </tr>\n",
       "    <tr>\n",
       "      <th id=\"T_45af4_level0_row14\" class=\"row_heading level0 row14\" >14</th>\n",
       "      <td id=\"T_45af4_row14_col0\" class=\"data row14 col0\" >Fold Number</td>\n",
       "      <td id=\"T_45af4_row14_col1\" class=\"data row14 col1\" >3</td>\n",
       "    </tr>\n",
       "    <tr>\n",
       "      <th id=\"T_45af4_level0_row15\" class=\"row_heading level0 row15\" >15</th>\n",
       "      <td id=\"T_45af4_row15_col0\" class=\"data row15 col0\" >CPU Jobs</td>\n",
       "      <td id=\"T_45af4_row15_col1\" class=\"data row15 col1\" >-1</td>\n",
       "    </tr>\n",
       "    <tr>\n",
       "      <th id=\"T_45af4_level0_row16\" class=\"row_heading level0 row16\" >16</th>\n",
       "      <td id=\"T_45af4_row16_col0\" class=\"data row16 col0\" >Use GPU</td>\n",
       "      <td id=\"T_45af4_row16_col1\" class=\"data row16 col1\" >False</td>\n",
       "    </tr>\n",
       "    <tr>\n",
       "      <th id=\"T_45af4_level0_row17\" class=\"row_heading level0 row17\" >17</th>\n",
       "      <td id=\"T_45af4_row17_col0\" class=\"data row17 col0\" >Log Experiment</td>\n",
       "      <td id=\"T_45af4_row17_col1\" class=\"data row17 col1\" >False</td>\n",
       "    </tr>\n",
       "    <tr>\n",
       "      <th id=\"T_45af4_level0_row18\" class=\"row_heading level0 row18\" >18</th>\n",
       "      <td id=\"T_45af4_row18_col0\" class=\"data row18 col0\" >Experiment Name</td>\n",
       "      <td id=\"T_45af4_row18_col1\" class=\"data row18 col1\" >reg-default-name</td>\n",
       "    </tr>\n",
       "    <tr>\n",
       "      <th id=\"T_45af4_level0_row19\" class=\"row_heading level0 row19\" >19</th>\n",
       "      <td id=\"T_45af4_row19_col0\" class=\"data row19 col0\" >USI</td>\n",
       "      <td id=\"T_45af4_row19_col1\" class=\"data row19 col1\" >2abc</td>\n",
       "    </tr>\n",
       "  </tbody>\n",
       "</table>\n"
      ],
      "text/plain": [
       "<pandas.io.formats.style.Styler at 0x258f92129e0>"
      ]
     },
     "metadata": {},
     "output_type": "display_data"
    }
   ],
   "source": [
    "C = setup(data = train, test_data = test,target ='total_gdp_million',fold_strategy = 'timeseries',\n",
    "          ignore_features=['Pais_x','Seires'],fold = 3, session_id = 123,\n",
    "          data_split_shuffle=False,fold_shuffle=False)"
   ]
  },
  {
   "cell_type": "code",
   "execution_count": 195,
   "metadata": {},
   "outputs": [
    {
     "data": {
      "text/html": [],
      "text/plain": [
       "<IPython.core.display.HTML object>"
      ]
     },
     "metadata": {},
     "output_type": "display_data"
    },
    {
     "data": {
      "text/html": [
       "<style type=\"text/css\">\n",
       "#T_8fedc th {\n",
       "  text-align: left;\n",
       "}\n",
       "#T_8fedc_row0_col0, #T_8fedc_row0_col2, #T_8fedc_row0_col5, #T_8fedc_row1_col0, #T_8fedc_row1_col1, #T_8fedc_row1_col2, #T_8fedc_row1_col3, #T_8fedc_row1_col4, #T_8fedc_row1_col6, #T_8fedc_row2_col0, #T_8fedc_row2_col1, #T_8fedc_row2_col2, #T_8fedc_row2_col3, #T_8fedc_row2_col4, #T_8fedc_row2_col5, #T_8fedc_row2_col6, #T_8fedc_row3_col0, #T_8fedc_row3_col1, #T_8fedc_row3_col2, #T_8fedc_row3_col3, #T_8fedc_row3_col4, #T_8fedc_row3_col5, #T_8fedc_row3_col6, #T_8fedc_row4_col0, #T_8fedc_row4_col1, #T_8fedc_row4_col2, #T_8fedc_row4_col3, #T_8fedc_row4_col4, #T_8fedc_row4_col5, #T_8fedc_row4_col6, #T_8fedc_row5_col0, #T_8fedc_row5_col1, #T_8fedc_row5_col2, #T_8fedc_row5_col3, #T_8fedc_row5_col4, #T_8fedc_row5_col5, #T_8fedc_row5_col6, #T_8fedc_row6_col0, #T_8fedc_row6_col1, #T_8fedc_row6_col2, #T_8fedc_row6_col3, #T_8fedc_row6_col4, #T_8fedc_row6_col5, #T_8fedc_row6_col6, #T_8fedc_row7_col0, #T_8fedc_row7_col1, #T_8fedc_row7_col2, #T_8fedc_row7_col3, #T_8fedc_row7_col4, #T_8fedc_row7_col5, #T_8fedc_row7_col6, #T_8fedc_row8_col0, #T_8fedc_row8_col1, #T_8fedc_row8_col3, #T_8fedc_row8_col4, #T_8fedc_row8_col5, #T_8fedc_row8_col6, #T_8fedc_row9_col0, #T_8fedc_row9_col1, #T_8fedc_row9_col3, #T_8fedc_row9_col4, #T_8fedc_row9_col5, #T_8fedc_row9_col6, #T_8fedc_row10_col0, #T_8fedc_row10_col1, #T_8fedc_row10_col3, #T_8fedc_row10_col4, #T_8fedc_row10_col5, #T_8fedc_row10_col6, #T_8fedc_row11_col0, #T_8fedc_row11_col1, #T_8fedc_row11_col2, #T_8fedc_row11_col3, #T_8fedc_row11_col4, #T_8fedc_row11_col5, #T_8fedc_row11_col6, #T_8fedc_row12_col0, #T_8fedc_row12_col1, #T_8fedc_row12_col2, #T_8fedc_row12_col3, #T_8fedc_row12_col4, #T_8fedc_row12_col5, #T_8fedc_row12_col6, #T_8fedc_row13_col0, #T_8fedc_row13_col1, #T_8fedc_row13_col2, #T_8fedc_row13_col3, #T_8fedc_row13_col4, #T_8fedc_row13_col5, #T_8fedc_row13_col6, #T_8fedc_row14_col0, #T_8fedc_row14_col1, #T_8fedc_row14_col2, #T_8fedc_row14_col3, #T_8fedc_row14_col4, #T_8fedc_row14_col5, #T_8fedc_row14_col6, #T_8fedc_row15_col0, #T_8fedc_row15_col1, #T_8fedc_row15_col2, #T_8fedc_row15_col3, #T_8fedc_row15_col4, #T_8fedc_row15_col5, #T_8fedc_row15_col6, #T_8fedc_row16_col0, #T_8fedc_row16_col1, #T_8fedc_row16_col2, #T_8fedc_row16_col3, #T_8fedc_row16_col4, #T_8fedc_row16_col5, #T_8fedc_row16_col6, #T_8fedc_row17_col0, #T_8fedc_row17_col1, #T_8fedc_row17_col2, #T_8fedc_row17_col3, #T_8fedc_row17_col4, #T_8fedc_row17_col5, #T_8fedc_row17_col6 {\n",
       "  text-align: left;\n",
       "}\n",
       "#T_8fedc_row0_col1, #T_8fedc_row0_col3, #T_8fedc_row0_col4, #T_8fedc_row0_col6, #T_8fedc_row1_col5, #T_8fedc_row8_col2, #T_8fedc_row9_col2, #T_8fedc_row10_col2 {\n",
       "  text-align: left;\n",
       "  background-color: yellow;\n",
       "}\n",
       "#T_8fedc_row0_col7, #T_8fedc_row1_col7, #T_8fedc_row2_col7, #T_8fedc_row3_col7, #T_8fedc_row4_col7, #T_8fedc_row7_col7, #T_8fedc_row9_col7, #T_8fedc_row11_col7, #T_8fedc_row12_col7, #T_8fedc_row13_col7, #T_8fedc_row14_col7, #T_8fedc_row15_col7, #T_8fedc_row16_col7, #T_8fedc_row17_col7 {\n",
       "  text-align: left;\n",
       "  background-color: lightgrey;\n",
       "}\n",
       "#T_8fedc_row5_col7, #T_8fedc_row6_col7, #T_8fedc_row8_col7, #T_8fedc_row10_col7 {\n",
       "  text-align: left;\n",
       "  background-color: yellow;\n",
       "  background-color: lightgrey;\n",
       "}\n",
       "</style>\n",
       "<table id=\"T_8fedc\">\n",
       "  <thead>\n",
       "    <tr>\n",
       "      <th class=\"blank level0\" >&nbsp;</th>\n",
       "      <th id=\"T_8fedc_level0_col0\" class=\"col_heading level0 col0\" >Model</th>\n",
       "      <th id=\"T_8fedc_level0_col1\" class=\"col_heading level0 col1\" >MAE</th>\n",
       "      <th id=\"T_8fedc_level0_col2\" class=\"col_heading level0 col2\" >MSE</th>\n",
       "      <th id=\"T_8fedc_level0_col3\" class=\"col_heading level0 col3\" >RMSE</th>\n",
       "      <th id=\"T_8fedc_level0_col4\" class=\"col_heading level0 col4\" >R2</th>\n",
       "      <th id=\"T_8fedc_level0_col5\" class=\"col_heading level0 col5\" >RMSLE</th>\n",
       "      <th id=\"T_8fedc_level0_col6\" class=\"col_heading level0 col6\" >MAPE</th>\n",
       "      <th id=\"T_8fedc_level0_col7\" class=\"col_heading level0 col7\" >TT (Sec)</th>\n",
       "    </tr>\n",
       "  </thead>\n",
       "  <tbody>\n",
       "    <tr>\n",
       "      <th id=\"T_8fedc_level0_row0\" class=\"row_heading level0 row0\" >huber</th>\n",
       "      <td id=\"T_8fedc_row0_col0\" class=\"data row0 col0\" >Huber Regressor</td>\n",
       "      <td id=\"T_8fedc_row0_col1\" class=\"data row0 col1\" >0.3026</td>\n",
       "      <td id=\"T_8fedc_row0_col2\" class=\"data row0 col2\" >0.4770</td>\n",
       "      <td id=\"T_8fedc_row0_col3\" class=\"data row0 col3\" >0.5234</td>\n",
       "      <td id=\"T_8fedc_row0_col4\" class=\"data row0 col4\" >0.1362</td>\n",
       "      <td id=\"T_8fedc_row0_col5\" class=\"data row0 col5\" >0.2589</td>\n",
       "      <td id=\"T_8fedc_row0_col6\" class=\"data row0 col6\" >1.6062</td>\n",
       "      <td id=\"T_8fedc_row0_col7\" class=\"data row0 col7\" >0.0100</td>\n",
       "    </tr>\n",
       "    <tr>\n",
       "      <th id=\"T_8fedc_level0_row1\" class=\"row_heading level0 row1\" >par</th>\n",
       "      <td id=\"T_8fedc_row1_col0\" class=\"data row1 col0\" >Passive Aggressive Regressor</td>\n",
       "      <td id=\"T_8fedc_row1_col1\" class=\"data row1 col1\" >0.3406</td>\n",
       "      <td id=\"T_8fedc_row1_col2\" class=\"data row1 col2\" >0.5660</td>\n",
       "      <td id=\"T_8fedc_row1_col3\" class=\"data row1 col3\" >0.5793</td>\n",
       "      <td id=\"T_8fedc_row1_col4\" class=\"data row1 col4\" >-0.1182</td>\n",
       "      <td id=\"T_8fedc_row1_col5\" class=\"data row1 col5\" >0.2333</td>\n",
       "      <td id=\"T_8fedc_row1_col6\" class=\"data row1 col6\" >1.9791</td>\n",
       "      <td id=\"T_8fedc_row1_col7\" class=\"data row1 col7\" >0.0100</td>\n",
       "    </tr>\n",
       "    <tr>\n",
       "      <th id=\"T_8fedc_level0_row2\" class=\"row_heading level0 row2\" >en</th>\n",
       "      <td id=\"T_8fedc_row2_col0\" class=\"data row2 col0\" >Elastic Net</td>\n",
       "      <td id=\"T_8fedc_row2_col1\" class=\"data row2 col1\" >0.5181</td>\n",
       "      <td id=\"T_8fedc_row2_col2\" class=\"data row2 col2\" >0.5444</td>\n",
       "      <td id=\"T_8fedc_row2_col3\" class=\"data row2 col3\" >0.6555</td>\n",
       "      <td id=\"T_8fedc_row2_col4\" class=\"data row2 col4\" >-1.6284</td>\n",
       "      <td id=\"T_8fedc_row2_col5\" class=\"data row2 col5\" >0.2976</td>\n",
       "      <td id=\"T_8fedc_row2_col6\" class=\"data row2 col6\" >1.9737</td>\n",
       "      <td id=\"T_8fedc_row2_col7\" class=\"data row2 col7\" >0.0100</td>\n",
       "    </tr>\n",
       "    <tr>\n",
       "      <th id=\"T_8fedc_level0_row3\" class=\"row_heading level0 row3\" >lasso</th>\n",
       "      <td id=\"T_8fedc_row3_col0\" class=\"data row3 col0\" >Lasso Regression</td>\n",
       "      <td id=\"T_8fedc_row3_col1\" class=\"data row3 col1\" >0.5256</td>\n",
       "      <td id=\"T_8fedc_row3_col2\" class=\"data row3 col2\" >0.5481</td>\n",
       "      <td id=\"T_8fedc_row3_col3\" class=\"data row3 col3\" >0.6601</td>\n",
       "      <td id=\"T_8fedc_row3_col4\" class=\"data row3 col4\" >-1.7101</td>\n",
       "      <td id=\"T_8fedc_row3_col5\" class=\"data row3 col5\" >0.2912</td>\n",
       "      <td id=\"T_8fedc_row3_col6\" class=\"data row3 col6\" >1.8084</td>\n",
       "      <td id=\"T_8fedc_row3_col7\" class=\"data row3 col7\" >0.0100</td>\n",
       "    </tr>\n",
       "    <tr>\n",
       "      <th id=\"T_8fedc_level0_row4\" class=\"row_heading level0 row4\" >llar</th>\n",
       "      <td id=\"T_8fedc_row4_col0\" class=\"data row4 col0\" >Lasso Least Angle Regression</td>\n",
       "      <td id=\"T_8fedc_row4_col1\" class=\"data row4 col1\" >0.5256</td>\n",
       "      <td id=\"T_8fedc_row4_col2\" class=\"data row4 col2\" >0.5481</td>\n",
       "      <td id=\"T_8fedc_row4_col3\" class=\"data row4 col3\" >0.6601</td>\n",
       "      <td id=\"T_8fedc_row4_col4\" class=\"data row4 col4\" >-1.7101</td>\n",
       "      <td id=\"T_8fedc_row4_col5\" class=\"data row4 col5\" >0.2912</td>\n",
       "      <td id=\"T_8fedc_row4_col6\" class=\"data row4 col6\" >1.8084</td>\n",
       "      <td id=\"T_8fedc_row4_col7\" class=\"data row4 col7\" >0.0100</td>\n",
       "    </tr>\n",
       "    <tr>\n",
       "      <th id=\"T_8fedc_level0_row5\" class=\"row_heading level0 row5\" >dummy</th>\n",
       "      <td id=\"T_8fedc_row5_col0\" class=\"data row5 col0\" >Dummy Regressor</td>\n",
       "      <td id=\"T_8fedc_row5_col1\" class=\"data row5 col1\" >0.5281</td>\n",
       "      <td id=\"T_8fedc_row5_col2\" class=\"data row5 col2\" >0.5535</td>\n",
       "      <td id=\"T_8fedc_row5_col3\" class=\"data row5 col3\" >0.6626</td>\n",
       "      <td id=\"T_8fedc_row5_col4\" class=\"data row5 col4\" >-1.7208</td>\n",
       "      <td id=\"T_8fedc_row5_col5\" class=\"data row5 col5\" >0.2902</td>\n",
       "      <td id=\"T_8fedc_row5_col6\" class=\"data row5 col6\" >1.8393</td>\n",
       "      <td id=\"T_8fedc_row5_col7\" class=\"data row5 col7\" >0.0067</td>\n",
       "    </tr>\n",
       "    <tr>\n",
       "      <th id=\"T_8fedc_level0_row6\" class=\"row_heading level0 row6\" >omp</th>\n",
       "      <td id=\"T_8fedc_row6_col0\" class=\"data row6 col0\" >Orthogonal Matching Pursuit</td>\n",
       "      <td id=\"T_8fedc_row6_col1\" class=\"data row6 col1\" >0.5230</td>\n",
       "      <td id=\"T_8fedc_row6_col2\" class=\"data row6 col2\" >0.5657</td>\n",
       "      <td id=\"T_8fedc_row6_col3\" class=\"data row6 col3\" >0.6741</td>\n",
       "      <td id=\"T_8fedc_row6_col4\" class=\"data row6 col4\" >-1.9241</td>\n",
       "      <td id=\"T_8fedc_row6_col5\" class=\"data row6 col5\" >0.2779</td>\n",
       "      <td id=\"T_8fedc_row6_col6\" class=\"data row6 col6\" >2.2973</td>\n",
       "      <td id=\"T_8fedc_row6_col7\" class=\"data row6 col7\" >0.0067</td>\n",
       "    </tr>\n",
       "    <tr>\n",
       "      <th id=\"T_8fedc_level0_row7\" class=\"row_heading level0 row7\" >br</th>\n",
       "      <td id=\"T_8fedc_row7_col0\" class=\"data row7 col0\" >Bayesian Ridge</td>\n",
       "      <td id=\"T_8fedc_row7_col1\" class=\"data row7 col1\" >0.5069</td>\n",
       "      <td id=\"T_8fedc_row7_col2\" class=\"data row7 col2\" >0.4849</td>\n",
       "      <td id=\"T_8fedc_row7_col3\" class=\"data row7 col3\" >0.6590</td>\n",
       "      <td id=\"T_8fedc_row7_col4\" class=\"data row7 col4\" >-2.3024</td>\n",
       "      <td id=\"T_8fedc_row7_col5\" class=\"data row7 col5\" >0.2819</td>\n",
       "      <td id=\"T_8fedc_row7_col6\" class=\"data row7 col6\" >5.3034</td>\n",
       "      <td id=\"T_8fedc_row7_col7\" class=\"data row7 col7\" >0.0100</td>\n",
       "    </tr>\n",
       "    <tr>\n",
       "      <th id=\"T_8fedc_level0_row8\" class=\"row_heading level0 row8\" >ridge</th>\n",
       "      <td id=\"T_8fedc_row8_col0\" class=\"data row8 col0\" >Ridge Regression</td>\n",
       "      <td id=\"T_8fedc_row8_col1\" class=\"data row8 col1\" >0.5064</td>\n",
       "      <td id=\"T_8fedc_row8_col2\" class=\"data row8 col2\" >0.4735</td>\n",
       "      <td id=\"T_8fedc_row8_col3\" class=\"data row8 col3\" >0.6546</td>\n",
       "      <td id=\"T_8fedc_row8_col4\" class=\"data row8 col4\" >-2.3480</td>\n",
       "      <td id=\"T_8fedc_row8_col5\" class=\"data row8 col5\" >0.2786</td>\n",
       "      <td id=\"T_8fedc_row8_col6\" class=\"data row8 col6\" >5.3691</td>\n",
       "      <td id=\"T_8fedc_row8_col7\" class=\"data row8 col7\" >0.0067</td>\n",
       "    </tr>\n",
       "    <tr>\n",
       "      <th id=\"T_8fedc_level0_row9\" class=\"row_heading level0 row9\" >lar</th>\n",
       "      <td id=\"T_8fedc_row9_col0\" class=\"data row9 col0\" >Least Angle Regression</td>\n",
       "      <td id=\"T_8fedc_row9_col1\" class=\"data row9 col1\" >0.5066</td>\n",
       "      <td id=\"T_8fedc_row9_col2\" class=\"data row9 col2\" >0.4735</td>\n",
       "      <td id=\"T_8fedc_row9_col3\" class=\"data row9 col3\" >0.6547</td>\n",
       "      <td id=\"T_8fedc_row9_col4\" class=\"data row9 col4\" >-2.3525</td>\n",
       "      <td id=\"T_8fedc_row9_col5\" class=\"data row9 col5\" >0.2787</td>\n",
       "      <td id=\"T_8fedc_row9_col6\" class=\"data row9 col6\" >5.3733</td>\n",
       "      <td id=\"T_8fedc_row9_col7\" class=\"data row9 col7\" >0.0100</td>\n",
       "    </tr>\n",
       "    <tr>\n",
       "      <th id=\"T_8fedc_level0_row10\" class=\"row_heading level0 row10\" >lr</th>\n",
       "      <td id=\"T_8fedc_row10_col0\" class=\"data row10 col0\" >Linear Regression</td>\n",
       "      <td id=\"T_8fedc_row10_col1\" class=\"data row10 col1\" >0.5066</td>\n",
       "      <td id=\"T_8fedc_row10_col2\" class=\"data row10 col2\" >0.4735</td>\n",
       "      <td id=\"T_8fedc_row10_col3\" class=\"data row10 col3\" >0.6547</td>\n",
       "      <td id=\"T_8fedc_row10_col4\" class=\"data row10 col4\" >-2.3525</td>\n",
       "      <td id=\"T_8fedc_row10_col5\" class=\"data row10 col5\" >0.2787</td>\n",
       "      <td id=\"T_8fedc_row10_col6\" class=\"data row10 col6\" >5.3733</td>\n",
       "      <td id=\"T_8fedc_row10_col7\" class=\"data row10 col7\" >0.0067</td>\n",
       "    </tr>\n",
       "    <tr>\n",
       "      <th id=\"T_8fedc_level0_row11\" class=\"row_heading level0 row11\" >knn</th>\n",
       "      <td id=\"T_8fedc_row11_col0\" class=\"data row11 col0\" >K Neighbors Regressor</td>\n",
       "      <td id=\"T_8fedc_row11_col1\" class=\"data row11 col1\" >0.4641</td>\n",
       "      <td id=\"T_8fedc_row11_col2\" class=\"data row11 col2\" >0.6939</td>\n",
       "      <td id=\"T_8fedc_row11_col3\" class=\"data row11 col3\" >0.7793</td>\n",
       "      <td id=\"T_8fedc_row11_col4\" class=\"data row11 col4\" >-3.3479</td>\n",
       "      <td id=\"T_8fedc_row11_col5\" class=\"data row11 col5\" >0.3509</td>\n",
       "      <td id=\"T_8fedc_row11_col6\" class=\"data row11 col6\" >6.4212</td>\n",
       "      <td id=\"T_8fedc_row11_col7\" class=\"data row11 col7\" >0.0200</td>\n",
       "    </tr>\n",
       "    <tr>\n",
       "      <th id=\"T_8fedc_level0_row12\" class=\"row_heading level0 row12\" >gbr</th>\n",
       "      <td id=\"T_8fedc_row12_col0\" class=\"data row12 col0\" >Gradient Boosting Regressor</td>\n",
       "      <td id=\"T_8fedc_row12_col1\" class=\"data row12 col1\" >0.4711</td>\n",
       "      <td id=\"T_8fedc_row12_col2\" class=\"data row12 col2\" >0.9746</td>\n",
       "      <td id=\"T_8fedc_row12_col3\" class=\"data row12 col3\" >0.9776</td>\n",
       "      <td id=\"T_8fedc_row12_col4\" class=\"data row12 col4\" >-8.8721</td>\n",
       "      <td id=\"T_8fedc_row12_col5\" class=\"data row12 col5\" >0.3954</td>\n",
       "      <td id=\"T_8fedc_row12_col6\" class=\"data row12 col6\" >4.5975</td>\n",
       "      <td id=\"T_8fedc_row12_col7\" class=\"data row12 col7\" >0.0300</td>\n",
       "    </tr>\n",
       "    <tr>\n",
       "      <th id=\"T_8fedc_level0_row13\" class=\"row_heading level0 row13\" >lightgbm</th>\n",
       "      <td id=\"T_8fedc_row13_col0\" class=\"data row13 col0\" >Light Gradient Boosting Machine</td>\n",
       "      <td id=\"T_8fedc_row13_col1\" class=\"data row13 col1\" >0.4993</td>\n",
       "      <td id=\"T_8fedc_row13_col2\" class=\"data row13 col2\" >0.9889</td>\n",
       "      <td id=\"T_8fedc_row13_col3\" class=\"data row13 col3\" >0.9836</td>\n",
       "      <td id=\"T_8fedc_row13_col4\" class=\"data row13 col4\" >-8.9914</td>\n",
       "      <td id=\"T_8fedc_row13_col5\" class=\"data row13 col5\" >0.3795</td>\n",
       "      <td id=\"T_8fedc_row13_col6\" class=\"data row13 col6\" >5.2941</td>\n",
       "      <td id=\"T_8fedc_row13_col7\" class=\"data row13 col7\" >0.1367</td>\n",
       "    </tr>\n",
       "    <tr>\n",
       "      <th id=\"T_8fedc_level0_row14\" class=\"row_heading level0 row14\" >et</th>\n",
       "      <td id=\"T_8fedc_row14_col0\" class=\"data row14 col0\" >Extra Trees Regressor</td>\n",
       "      <td id=\"T_8fedc_row14_col1\" class=\"data row14 col1\" >0.4802</td>\n",
       "      <td id=\"T_8fedc_row14_col2\" class=\"data row14 col2\" >1.0655</td>\n",
       "      <td id=\"T_8fedc_row14_col3\" class=\"data row14 col3\" >1.0189</td>\n",
       "      <td id=\"T_8fedc_row14_col4\" class=\"data row14 col4\" >-10.0700</td>\n",
       "      <td id=\"T_8fedc_row14_col5\" class=\"data row14 col5\" >0.3932</td>\n",
       "      <td id=\"T_8fedc_row14_col6\" class=\"data row14 col6\" >4.3557</td>\n",
       "      <td id=\"T_8fedc_row14_col7\" class=\"data row14 col7\" >0.0400</td>\n",
       "    </tr>\n",
       "    <tr>\n",
       "      <th id=\"T_8fedc_level0_row15\" class=\"row_heading level0 row15\" >rf</th>\n",
       "      <td id=\"T_8fedc_row15_col0\" class=\"data row15 col0\" >Random Forest Regressor</td>\n",
       "      <td id=\"T_8fedc_row15_col1\" class=\"data row15 col1\" >0.4963</td>\n",
       "      <td id=\"T_8fedc_row15_col2\" class=\"data row15 col2\" >1.1217</td>\n",
       "      <td id=\"T_8fedc_row15_col3\" class=\"data row15 col3\" >1.0400</td>\n",
       "      <td id=\"T_8fedc_row15_col4\" class=\"data row15 col4\" >-10.8480</td>\n",
       "      <td id=\"T_8fedc_row15_col5\" class=\"data row15 col5\" >0.4056</td>\n",
       "      <td id=\"T_8fedc_row15_col6\" class=\"data row15 col6\" >4.8650</td>\n",
       "      <td id=\"T_8fedc_row15_col7\" class=\"data row15 col7\" >0.0467</td>\n",
       "    </tr>\n",
       "    <tr>\n",
       "      <th id=\"T_8fedc_level0_row16\" class=\"row_heading level0 row16\" >ada</th>\n",
       "      <td id=\"T_8fedc_row16_col0\" class=\"data row16 col0\" >AdaBoost Regressor</td>\n",
       "      <td id=\"T_8fedc_row16_col1\" class=\"data row16 col1\" >0.6808</td>\n",
       "      <td id=\"T_8fedc_row16_col2\" class=\"data row16 col2\" >1.1650</td>\n",
       "      <td id=\"T_8fedc_row16_col3\" class=\"data row16 col3\" >1.0721</td>\n",
       "      <td id=\"T_8fedc_row16_col4\" class=\"data row16 col4\" >-11.4484</td>\n",
       "      <td id=\"T_8fedc_row16_col5\" class=\"data row16 col5\" >0.4289</td>\n",
       "      <td id=\"T_8fedc_row16_col6\" class=\"data row16 col6\" >5.8120</td>\n",
       "      <td id=\"T_8fedc_row16_col7\" class=\"data row16 col7\" >0.0200</td>\n",
       "    </tr>\n",
       "    <tr>\n",
       "      <th id=\"T_8fedc_level0_row17\" class=\"row_heading level0 row17\" >dt</th>\n",
       "      <td id=\"T_8fedc_row17_col0\" class=\"data row17 col0\" >Decision Tree Regressor</td>\n",
       "      <td id=\"T_8fedc_row17_col1\" class=\"data row17 col1\" >0.5702</td>\n",
       "      <td id=\"T_8fedc_row17_col2\" class=\"data row17 col2\" >1.9110</td>\n",
       "      <td id=\"T_8fedc_row17_col3\" class=\"data row17 col3\" >1.3486</td>\n",
       "      <td id=\"T_8fedc_row17_col4\" class=\"data row17 col4\" >-24.3027</td>\n",
       "      <td id=\"T_8fedc_row17_col5\" class=\"data row17 col5\" >0.4441</td>\n",
       "      <td id=\"T_8fedc_row17_col6\" class=\"data row17 col6\" >6.4948</td>\n",
       "      <td id=\"T_8fedc_row17_col7\" class=\"data row17 col7\" >0.0100</td>\n",
       "    </tr>\n",
       "  </tbody>\n",
       "</table>\n"
      ],
      "text/plain": [
       "<pandas.io.formats.style.Styler at 0x258f922f370>"
      ]
     },
     "metadata": {},
     "output_type": "display_data"
    },
    {
     "data": {
      "text/html": [],
      "text/plain": [
       "<IPython.core.display.HTML object>"
      ]
     },
     "metadata": {},
     "output_type": "display_data"
    }
   ],
   "source": [
    "best = compare_models()"
   ]
  },
  {
   "cell_type": "markdown",
   "metadata": {},
   "source": [
    "## **PRUEBA**"
   ]
  },
  {
   "cell_type": "code",
   "execution_count": 196,
   "metadata": {},
   "outputs": [
    {
     "data": {
      "text/html": [
       "<div>\n",
       "<style scoped>\n",
       "    .dataframe tbody tr th:only-of-type {\n",
       "        vertical-align: middle;\n",
       "    }\n",
       "\n",
       "    .dataframe tbody tr th {\n",
       "        vertical-align: top;\n",
       "    }\n",
       "\n",
       "    .dataframe thead th {\n",
       "        text-align: right;\n",
       "    }\n",
       "</style>\n",
       "<table border=\"1\" class=\"dataframe\">\n",
       "  <thead>\n",
       "    <tr style=\"text-align: right;\">\n",
       "      <th></th>\n",
       "      <th>Month</th>\n",
       "      <th>#Passengers</th>\n",
       "    </tr>\n",
       "  </thead>\n",
       "  <tbody>\n",
       "    <tr>\n",
       "      <th>0</th>\n",
       "      <td>1949-01-01</td>\n",
       "      <td>112</td>\n",
       "    </tr>\n",
       "    <tr>\n",
       "      <th>1</th>\n",
       "      <td>1949-02-01</td>\n",
       "      <td>118</td>\n",
       "    </tr>\n",
       "    <tr>\n",
       "      <th>2</th>\n",
       "      <td>1949-03-01</td>\n",
       "      <td>132</td>\n",
       "    </tr>\n",
       "    <tr>\n",
       "      <th>3</th>\n",
       "      <td>1949-04-01</td>\n",
       "      <td>129</td>\n",
       "    </tr>\n",
       "    <tr>\n",
       "      <th>4</th>\n",
       "      <td>1949-05-01</td>\n",
       "      <td>121</td>\n",
       "    </tr>\n",
       "  </tbody>\n",
       "</table>\n",
       "</div>"
      ],
      "text/plain": [
       "       Month  #Passengers\n",
       "0 1949-01-01          112\n",
       "1 1949-02-01          118\n",
       "2 1949-03-01          132\n",
       "3 1949-04-01          129\n",
       "4 1949-05-01          121"
      ]
     },
     "execution_count": 196,
     "metadata": {},
     "output_type": "execute_result"
    }
   ],
   "source": [
    "data = pd.read_csv('AirPassengers.csv')\n",
    "data['Month'] = pd.to_datetime(data['Month'])\n",
    "data.head()"
   ]
  },
  {
   "cell_type": "code",
   "execution_count": 197,
   "metadata": {},
   "outputs": [
    {
     "data": {
      "text/html": [
       "<div>\n",
       "<style scoped>\n",
       "    .dataframe tbody tr th:only-of-type {\n",
       "        vertical-align: middle;\n",
       "    }\n",
       "\n",
       "    .dataframe tbody tr th {\n",
       "        vertical-align: top;\n",
       "    }\n",
       "\n",
       "    .dataframe thead th {\n",
       "        text-align: right;\n",
       "    }\n",
       "</style>\n",
       "<table border=\"1\" class=\"dataframe\">\n",
       "  <thead>\n",
       "    <tr style=\"text-align: right;\">\n",
       "      <th></th>\n",
       "      <th>Month</th>\n",
       "      <th>#Passengers</th>\n",
       "      <th>MA12</th>\n",
       "    </tr>\n",
       "  </thead>\n",
       "  <tbody>\n",
       "    <tr>\n",
       "      <th>0</th>\n",
       "      <td>1949-01-01</td>\n",
       "      <td>112</td>\n",
       "      <td>NaN</td>\n",
       "    </tr>\n",
       "    <tr>\n",
       "      <th>1</th>\n",
       "      <td>1949-02-01</td>\n",
       "      <td>118</td>\n",
       "      <td>NaN</td>\n",
       "    </tr>\n",
       "    <tr>\n",
       "      <th>2</th>\n",
       "      <td>1949-03-01</td>\n",
       "      <td>132</td>\n",
       "      <td>NaN</td>\n",
       "    </tr>\n",
       "    <tr>\n",
       "      <th>3</th>\n",
       "      <td>1949-04-01</td>\n",
       "      <td>129</td>\n",
       "      <td>NaN</td>\n",
       "    </tr>\n",
       "    <tr>\n",
       "      <th>4</th>\n",
       "      <td>1949-05-01</td>\n",
       "      <td>121</td>\n",
       "      <td>NaN</td>\n",
       "    </tr>\n",
       "    <tr>\n",
       "      <th>...</th>\n",
       "      <td>...</td>\n",
       "      <td>...</td>\n",
       "      <td>...</td>\n",
       "    </tr>\n",
       "    <tr>\n",
       "      <th>139</th>\n",
       "      <td>1960-08-01</td>\n",
       "      <td>606</td>\n",
       "      <td>463.333333</td>\n",
       "    </tr>\n",
       "    <tr>\n",
       "      <th>140</th>\n",
       "      <td>1960-09-01</td>\n",
       "      <td>508</td>\n",
       "      <td>467.083333</td>\n",
       "    </tr>\n",
       "    <tr>\n",
       "      <th>141</th>\n",
       "      <td>1960-10-01</td>\n",
       "      <td>461</td>\n",
       "      <td>471.583333</td>\n",
       "    </tr>\n",
       "    <tr>\n",
       "      <th>142</th>\n",
       "      <td>1960-11-01</td>\n",
       "      <td>390</td>\n",
       "      <td>473.916667</td>\n",
       "    </tr>\n",
       "    <tr>\n",
       "      <th>143</th>\n",
       "      <td>1960-12-01</td>\n",
       "      <td>432</td>\n",
       "      <td>476.166667</td>\n",
       "    </tr>\n",
       "  </tbody>\n",
       "</table>\n",
       "<p>144 rows × 3 columns</p>\n",
       "</div>"
      ],
      "text/plain": [
       "         Month  #Passengers        MA12\n",
       "0   1949-01-01          112         NaN\n",
       "1   1949-02-01          118         NaN\n",
       "2   1949-03-01          132         NaN\n",
       "3   1949-04-01          129         NaN\n",
       "4   1949-05-01          121         NaN\n",
       "..         ...          ...         ...\n",
       "139 1960-08-01          606  463.333333\n",
       "140 1960-09-01          508  467.083333\n",
       "141 1960-10-01          461  471.583333\n",
       "142 1960-11-01          390  473.916667\n",
       "143 1960-12-01          432  476.166667\n",
       "\n",
       "[144 rows x 3 columns]"
      ]
     },
     "execution_count": 197,
     "metadata": {},
     "output_type": "execute_result"
    }
   ],
   "source": [
    "data['MA12'] = data['#Passengers'].rolling(12).mean()\n",
    "data"
   ]
  },
  {
   "cell_type": "code",
   "execution_count": 198,
   "metadata": {},
   "outputs": [
    {
     "data": {
      "application/vnd.plotly.v1+json": {
       "config": {
        "plotlyServerURL": "https://plot.ly"
       },
       "data": [
        {
         "hovertemplate": "variable=#Passengers<br>Month=%{x}<br>value=%{y}<extra></extra>",
         "legendgroup": "#Passengers",
         "line": {
          "color": "#636efa",
          "dash": "solid"
         },
         "marker": {
          "symbol": "circle"
         },
         "mode": "lines",
         "name": "#Passengers",
         "orientation": "v",
         "showlegend": true,
         "type": "scatter",
         "x": [
          "1949-01-01T00:00:00",
          "1949-02-01T00:00:00",
          "1949-03-01T00:00:00",
          "1949-04-01T00:00:00",
          "1949-05-01T00:00:00",
          "1949-06-01T00:00:00",
          "1949-07-01T00:00:00",
          "1949-08-01T00:00:00",
          "1949-09-01T00:00:00",
          "1949-10-01T00:00:00",
          "1949-11-01T00:00:00",
          "1949-12-01T00:00:00",
          "1950-01-01T00:00:00",
          "1950-02-01T00:00:00",
          "1950-03-01T00:00:00",
          "1950-04-01T00:00:00",
          "1950-05-01T00:00:00",
          "1950-06-01T00:00:00",
          "1950-07-01T00:00:00",
          "1950-08-01T00:00:00",
          "1950-09-01T00:00:00",
          "1950-10-01T00:00:00",
          "1950-11-01T00:00:00",
          "1950-12-01T00:00:00",
          "1951-01-01T00:00:00",
          "1951-02-01T00:00:00",
          "1951-03-01T00:00:00",
          "1951-04-01T00:00:00",
          "1951-05-01T00:00:00",
          "1951-06-01T00:00:00",
          "1951-07-01T00:00:00",
          "1951-08-01T00:00:00",
          "1951-09-01T00:00:00",
          "1951-10-01T00:00:00",
          "1951-11-01T00:00:00",
          "1951-12-01T00:00:00",
          "1952-01-01T00:00:00",
          "1952-02-01T00:00:00",
          "1952-03-01T00:00:00",
          "1952-04-01T00:00:00",
          "1952-05-01T00:00:00",
          "1952-06-01T00:00:00",
          "1952-07-01T00:00:00",
          "1952-08-01T00:00:00",
          "1952-09-01T00:00:00",
          "1952-10-01T00:00:00",
          "1952-11-01T00:00:00",
          "1952-12-01T00:00:00",
          "1953-01-01T00:00:00",
          "1953-02-01T00:00:00",
          "1953-03-01T00:00:00",
          "1953-04-01T00:00:00",
          "1953-05-01T00:00:00",
          "1953-06-01T00:00:00",
          "1953-07-01T00:00:00",
          "1953-08-01T00:00:00",
          "1953-09-01T00:00:00",
          "1953-10-01T00:00:00",
          "1953-11-01T00:00:00",
          "1953-12-01T00:00:00",
          "1954-01-01T00:00:00",
          "1954-02-01T00:00:00",
          "1954-03-01T00:00:00",
          "1954-04-01T00:00:00",
          "1954-05-01T00:00:00",
          "1954-06-01T00:00:00",
          "1954-07-01T00:00:00",
          "1954-08-01T00:00:00",
          "1954-09-01T00:00:00",
          "1954-10-01T00:00:00",
          "1954-11-01T00:00:00",
          "1954-12-01T00:00:00",
          "1955-01-01T00:00:00",
          "1955-02-01T00:00:00",
          "1955-03-01T00:00:00",
          "1955-04-01T00:00:00",
          "1955-05-01T00:00:00",
          "1955-06-01T00:00:00",
          "1955-07-01T00:00:00",
          "1955-08-01T00:00:00",
          "1955-09-01T00:00:00",
          "1955-10-01T00:00:00",
          "1955-11-01T00:00:00",
          "1955-12-01T00:00:00",
          "1956-01-01T00:00:00",
          "1956-02-01T00:00:00",
          "1956-03-01T00:00:00",
          "1956-04-01T00:00:00",
          "1956-05-01T00:00:00",
          "1956-06-01T00:00:00",
          "1956-07-01T00:00:00",
          "1956-08-01T00:00:00",
          "1956-09-01T00:00:00",
          "1956-10-01T00:00:00",
          "1956-11-01T00:00:00",
          "1956-12-01T00:00:00",
          "1957-01-01T00:00:00",
          "1957-02-01T00:00:00",
          "1957-03-01T00:00:00",
          "1957-04-01T00:00:00",
          "1957-05-01T00:00:00",
          "1957-06-01T00:00:00",
          "1957-07-01T00:00:00",
          "1957-08-01T00:00:00",
          "1957-09-01T00:00:00",
          "1957-10-01T00:00:00",
          "1957-11-01T00:00:00",
          "1957-12-01T00:00:00",
          "1958-01-01T00:00:00",
          "1958-02-01T00:00:00",
          "1958-03-01T00:00:00",
          "1958-04-01T00:00:00",
          "1958-05-01T00:00:00",
          "1958-06-01T00:00:00",
          "1958-07-01T00:00:00",
          "1958-08-01T00:00:00",
          "1958-09-01T00:00:00",
          "1958-10-01T00:00:00",
          "1958-11-01T00:00:00",
          "1958-12-01T00:00:00",
          "1959-01-01T00:00:00",
          "1959-02-01T00:00:00",
          "1959-03-01T00:00:00",
          "1959-04-01T00:00:00",
          "1959-05-01T00:00:00",
          "1959-06-01T00:00:00",
          "1959-07-01T00:00:00",
          "1959-08-01T00:00:00",
          "1959-09-01T00:00:00",
          "1959-10-01T00:00:00",
          "1959-11-01T00:00:00",
          "1959-12-01T00:00:00",
          "1960-01-01T00:00:00",
          "1960-02-01T00:00:00",
          "1960-03-01T00:00:00",
          "1960-04-01T00:00:00",
          "1960-05-01T00:00:00",
          "1960-06-01T00:00:00",
          "1960-07-01T00:00:00",
          "1960-08-01T00:00:00",
          "1960-09-01T00:00:00",
          "1960-10-01T00:00:00",
          "1960-11-01T00:00:00",
          "1960-12-01T00:00:00"
         ],
         "xaxis": "x",
         "y": [
          112,
          118,
          132,
          129,
          121,
          135,
          148,
          148,
          136,
          119,
          104,
          118,
          115,
          126,
          141,
          135,
          125,
          149,
          170,
          170,
          158,
          133,
          114,
          140,
          145,
          150,
          178,
          163,
          172,
          178,
          199,
          199,
          184,
          162,
          146,
          166,
          171,
          180,
          193,
          181,
          183,
          218,
          230,
          242,
          209,
          191,
          172,
          194,
          196,
          196,
          236,
          235,
          229,
          243,
          264,
          272,
          237,
          211,
          180,
          201,
          204,
          188,
          235,
          227,
          234,
          264,
          302,
          293,
          259,
          229,
          203,
          229,
          242,
          233,
          267,
          269,
          270,
          315,
          364,
          347,
          312,
          274,
          237,
          278,
          284,
          277,
          317,
          313,
          318,
          374,
          413,
          405,
          355,
          306,
          271,
          306,
          315,
          301,
          356,
          348,
          355,
          422,
          465,
          467,
          404,
          347,
          305,
          336,
          340,
          318,
          362,
          348,
          363,
          435,
          491,
          505,
          404,
          359,
          310,
          337,
          360,
          342,
          406,
          396,
          420,
          472,
          548,
          559,
          463,
          407,
          362,
          405,
          417,
          391,
          419,
          461,
          472,
          535,
          622,
          606,
          508,
          461,
          390,
          432
         ],
         "yaxis": "y"
        },
        {
         "hovertemplate": "variable=MA12<br>Month=%{x}<br>value=%{y}<extra></extra>",
         "legendgroup": "MA12",
         "line": {
          "color": "#EF553B",
          "dash": "solid"
         },
         "marker": {
          "symbol": "circle"
         },
         "mode": "lines",
         "name": "MA12",
         "orientation": "v",
         "showlegend": true,
         "type": "scatter",
         "x": [
          "1949-01-01T00:00:00",
          "1949-02-01T00:00:00",
          "1949-03-01T00:00:00",
          "1949-04-01T00:00:00",
          "1949-05-01T00:00:00",
          "1949-06-01T00:00:00",
          "1949-07-01T00:00:00",
          "1949-08-01T00:00:00",
          "1949-09-01T00:00:00",
          "1949-10-01T00:00:00",
          "1949-11-01T00:00:00",
          "1949-12-01T00:00:00",
          "1950-01-01T00:00:00",
          "1950-02-01T00:00:00",
          "1950-03-01T00:00:00",
          "1950-04-01T00:00:00",
          "1950-05-01T00:00:00",
          "1950-06-01T00:00:00",
          "1950-07-01T00:00:00",
          "1950-08-01T00:00:00",
          "1950-09-01T00:00:00",
          "1950-10-01T00:00:00",
          "1950-11-01T00:00:00",
          "1950-12-01T00:00:00",
          "1951-01-01T00:00:00",
          "1951-02-01T00:00:00",
          "1951-03-01T00:00:00",
          "1951-04-01T00:00:00",
          "1951-05-01T00:00:00",
          "1951-06-01T00:00:00",
          "1951-07-01T00:00:00",
          "1951-08-01T00:00:00",
          "1951-09-01T00:00:00",
          "1951-10-01T00:00:00",
          "1951-11-01T00:00:00",
          "1951-12-01T00:00:00",
          "1952-01-01T00:00:00",
          "1952-02-01T00:00:00",
          "1952-03-01T00:00:00",
          "1952-04-01T00:00:00",
          "1952-05-01T00:00:00",
          "1952-06-01T00:00:00",
          "1952-07-01T00:00:00",
          "1952-08-01T00:00:00",
          "1952-09-01T00:00:00",
          "1952-10-01T00:00:00",
          "1952-11-01T00:00:00",
          "1952-12-01T00:00:00",
          "1953-01-01T00:00:00",
          "1953-02-01T00:00:00",
          "1953-03-01T00:00:00",
          "1953-04-01T00:00:00",
          "1953-05-01T00:00:00",
          "1953-06-01T00:00:00",
          "1953-07-01T00:00:00",
          "1953-08-01T00:00:00",
          "1953-09-01T00:00:00",
          "1953-10-01T00:00:00",
          "1953-11-01T00:00:00",
          "1953-12-01T00:00:00",
          "1954-01-01T00:00:00",
          "1954-02-01T00:00:00",
          "1954-03-01T00:00:00",
          "1954-04-01T00:00:00",
          "1954-05-01T00:00:00",
          "1954-06-01T00:00:00",
          "1954-07-01T00:00:00",
          "1954-08-01T00:00:00",
          "1954-09-01T00:00:00",
          "1954-10-01T00:00:00",
          "1954-11-01T00:00:00",
          "1954-12-01T00:00:00",
          "1955-01-01T00:00:00",
          "1955-02-01T00:00:00",
          "1955-03-01T00:00:00",
          "1955-04-01T00:00:00",
          "1955-05-01T00:00:00",
          "1955-06-01T00:00:00",
          "1955-07-01T00:00:00",
          "1955-08-01T00:00:00",
          "1955-09-01T00:00:00",
          "1955-10-01T00:00:00",
          "1955-11-01T00:00:00",
          "1955-12-01T00:00:00",
          "1956-01-01T00:00:00",
          "1956-02-01T00:00:00",
          "1956-03-01T00:00:00",
          "1956-04-01T00:00:00",
          "1956-05-01T00:00:00",
          "1956-06-01T00:00:00",
          "1956-07-01T00:00:00",
          "1956-08-01T00:00:00",
          "1956-09-01T00:00:00",
          "1956-10-01T00:00:00",
          "1956-11-01T00:00:00",
          "1956-12-01T00:00:00",
          "1957-01-01T00:00:00",
          "1957-02-01T00:00:00",
          "1957-03-01T00:00:00",
          "1957-04-01T00:00:00",
          "1957-05-01T00:00:00",
          "1957-06-01T00:00:00",
          "1957-07-01T00:00:00",
          "1957-08-01T00:00:00",
          "1957-09-01T00:00:00",
          "1957-10-01T00:00:00",
          "1957-11-01T00:00:00",
          "1957-12-01T00:00:00",
          "1958-01-01T00:00:00",
          "1958-02-01T00:00:00",
          "1958-03-01T00:00:00",
          "1958-04-01T00:00:00",
          "1958-05-01T00:00:00",
          "1958-06-01T00:00:00",
          "1958-07-01T00:00:00",
          "1958-08-01T00:00:00",
          "1958-09-01T00:00:00",
          "1958-10-01T00:00:00",
          "1958-11-01T00:00:00",
          "1958-12-01T00:00:00",
          "1959-01-01T00:00:00",
          "1959-02-01T00:00:00",
          "1959-03-01T00:00:00",
          "1959-04-01T00:00:00",
          "1959-05-01T00:00:00",
          "1959-06-01T00:00:00",
          "1959-07-01T00:00:00",
          "1959-08-01T00:00:00",
          "1959-09-01T00:00:00",
          "1959-10-01T00:00:00",
          "1959-11-01T00:00:00",
          "1959-12-01T00:00:00",
          "1960-01-01T00:00:00",
          "1960-02-01T00:00:00",
          "1960-03-01T00:00:00",
          "1960-04-01T00:00:00",
          "1960-05-01T00:00:00",
          "1960-06-01T00:00:00",
          "1960-07-01T00:00:00",
          "1960-08-01T00:00:00",
          "1960-09-01T00:00:00",
          "1960-10-01T00:00:00",
          "1960-11-01T00:00:00",
          "1960-12-01T00:00:00"
         ],
         "xaxis": "x",
         "y": [
          null,
          null,
          null,
          null,
          null,
          null,
          null,
          null,
          null,
          null,
          null,
          126.66666666666667,
          126.91666666666667,
          127.58333333333333,
          128.33333333333334,
          128.83333333333334,
          129.16666666666666,
          130.33333333333334,
          132.16666666666666,
          134,
          135.83333333333334,
          137,
          137.83333333333334,
          139.66666666666666,
          142.16666666666666,
          144.16666666666666,
          147.25,
          149.58333333333334,
          153.5,
          155.91666666666666,
          158.33333333333334,
          160.75,
          162.91666666666666,
          165.33333333333334,
          168,
          170.16666666666666,
          172.33333333333334,
          174.83333333333334,
          176.08333333333334,
          177.58333333333334,
          178.5,
          181.83333333333334,
          184.41666666666666,
          188,
          190.08333333333334,
          192.5,
          194.66666666666666,
          197,
          199.08333333333334,
          200.41666666666666,
          204,
          208.5,
          212.33333333333334,
          214.41666666666666,
          217.25,
          219.75,
          222.08333333333334,
          223.75,
          224.41666666666666,
          225,
          225.66666666666666,
          225,
          224.91666666666666,
          224.25,
          224.66666666666666,
          226.41666666666666,
          229.58333333333334,
          231.33333333333334,
          233.16666666666666,
          234.66666666666666,
          236.58333333333334,
          238.91666666666666,
          242.08333333333334,
          245.83333333333334,
          248.5,
          252,
          255,
          259.25,
          264.4166666666667,
          268.9166666666667,
          273.3333333333333,
          277.0833333333333,
          279.9166666666667,
          284,
          287.5,
          291.1666666666667,
          295.3333333333333,
          299,
          303,
          307.9166666666667,
          312,
          316.8333333333333,
          320.4166666666667,
          323.0833333333333,
          325.9166666666667,
          328.25,
          330.8333333333333,
          332.8333333333333,
          336.0833333333333,
          339,
          342.0833333333333,
          346.0833333333333,
          350.4166666666667,
          355.5833333333333,
          359.6666666666667,
          363.0833333333333,
          365.9166666666667,
          368.4166666666667,
          370.5,
          371.9166666666667,
          372.4166666666667,
          372.4166666666667,
          373.0833333333333,
          374.1666666666667,
          376.3333333333333,
          379.5,
          379.5,
          380.5,
          380.9166666666667,
          381,
          382.6666666666667,
          384.6666666666667,
          388.3333333333333,
          392.3333333333333,
          397.0833333333333,
          400.1666666666667,
          404.9166666666667,
          409.4166666666667,
          414.3333333333333,
          418.3333333333333,
          422.6666666666667,
          428.3333333333333,
          433.0833333333333,
          437.1666666666667,
          438.25,
          443.6666666666667,
          448,
          453.25,
          459.4166666666667,
          463.3333333333333,
          467.0833333333333,
          471.5833333333333,
          473.9166666666667,
          476.1666666666667
         ],
         "yaxis": "y"
        }
       ],
       "layout": {
        "legend": {
         "title": {
          "text": "variable"
         },
         "tracegroupgap": 0
        },
        "margin": {
         "t": 60
        },
        "template": {
         "data": {
          "bar": [
           {
            "error_x": {
             "color": "#f2f5fa"
            },
            "error_y": {
             "color": "#f2f5fa"
            },
            "marker": {
             "line": {
              "color": "rgb(17,17,17)",
              "width": 0.5
             },
             "pattern": {
              "fillmode": "overlay",
              "size": 10,
              "solidity": 0.2
             }
            },
            "type": "bar"
           }
          ],
          "barpolar": [
           {
            "marker": {
             "line": {
              "color": "rgb(17,17,17)",
              "width": 0.5
             },
             "pattern": {
              "fillmode": "overlay",
              "size": 10,
              "solidity": 0.2
             }
            },
            "type": "barpolar"
           }
          ],
          "carpet": [
           {
            "aaxis": {
             "endlinecolor": "#A2B1C6",
             "gridcolor": "#506784",
             "linecolor": "#506784",
             "minorgridcolor": "#506784",
             "startlinecolor": "#A2B1C6"
            },
            "baxis": {
             "endlinecolor": "#A2B1C6",
             "gridcolor": "#506784",
             "linecolor": "#506784",
             "minorgridcolor": "#506784",
             "startlinecolor": "#A2B1C6"
            },
            "type": "carpet"
           }
          ],
          "choropleth": [
           {
            "colorbar": {
             "outlinewidth": 0,
             "ticks": ""
            },
            "type": "choropleth"
           }
          ],
          "contour": [
           {
            "colorbar": {
             "outlinewidth": 0,
             "ticks": ""
            },
            "colorscale": [
             [
              0,
              "#0d0887"
             ],
             [
              0.1111111111111111,
              "#46039f"
             ],
             [
              0.2222222222222222,
              "#7201a8"
             ],
             [
              0.3333333333333333,
              "#9c179e"
             ],
             [
              0.4444444444444444,
              "#bd3786"
             ],
             [
              0.5555555555555556,
              "#d8576b"
             ],
             [
              0.6666666666666666,
              "#ed7953"
             ],
             [
              0.7777777777777778,
              "#fb9f3a"
             ],
             [
              0.8888888888888888,
              "#fdca26"
             ],
             [
              1,
              "#f0f921"
             ]
            ],
            "type": "contour"
           }
          ],
          "contourcarpet": [
           {
            "colorbar": {
             "outlinewidth": 0,
             "ticks": ""
            },
            "type": "contourcarpet"
           }
          ],
          "heatmap": [
           {
            "colorbar": {
             "outlinewidth": 0,
             "ticks": ""
            },
            "colorscale": [
             [
              0,
              "#0d0887"
             ],
             [
              0.1111111111111111,
              "#46039f"
             ],
             [
              0.2222222222222222,
              "#7201a8"
             ],
             [
              0.3333333333333333,
              "#9c179e"
             ],
             [
              0.4444444444444444,
              "#bd3786"
             ],
             [
              0.5555555555555556,
              "#d8576b"
             ],
             [
              0.6666666666666666,
              "#ed7953"
             ],
             [
              0.7777777777777778,
              "#fb9f3a"
             ],
             [
              0.8888888888888888,
              "#fdca26"
             ],
             [
              1,
              "#f0f921"
             ]
            ],
            "type": "heatmap"
           }
          ],
          "heatmapgl": [
           {
            "colorbar": {
             "outlinewidth": 0,
             "ticks": ""
            },
            "colorscale": [
             [
              0,
              "#0d0887"
             ],
             [
              0.1111111111111111,
              "#46039f"
             ],
             [
              0.2222222222222222,
              "#7201a8"
             ],
             [
              0.3333333333333333,
              "#9c179e"
             ],
             [
              0.4444444444444444,
              "#bd3786"
             ],
             [
              0.5555555555555556,
              "#d8576b"
             ],
             [
              0.6666666666666666,
              "#ed7953"
             ],
             [
              0.7777777777777778,
              "#fb9f3a"
             ],
             [
              0.8888888888888888,
              "#fdca26"
             ],
             [
              1,
              "#f0f921"
             ]
            ],
            "type": "heatmapgl"
           }
          ],
          "histogram": [
           {
            "marker": {
             "pattern": {
              "fillmode": "overlay",
              "size": 10,
              "solidity": 0.2
             }
            },
            "type": "histogram"
           }
          ],
          "histogram2d": [
           {
            "colorbar": {
             "outlinewidth": 0,
             "ticks": ""
            },
            "colorscale": [
             [
              0,
              "#0d0887"
             ],
             [
              0.1111111111111111,
              "#46039f"
             ],
             [
              0.2222222222222222,
              "#7201a8"
             ],
             [
              0.3333333333333333,
              "#9c179e"
             ],
             [
              0.4444444444444444,
              "#bd3786"
             ],
             [
              0.5555555555555556,
              "#d8576b"
             ],
             [
              0.6666666666666666,
              "#ed7953"
             ],
             [
              0.7777777777777778,
              "#fb9f3a"
             ],
             [
              0.8888888888888888,
              "#fdca26"
             ],
             [
              1,
              "#f0f921"
             ]
            ],
            "type": "histogram2d"
           }
          ],
          "histogram2dcontour": [
           {
            "colorbar": {
             "outlinewidth": 0,
             "ticks": ""
            },
            "colorscale": [
             [
              0,
              "#0d0887"
             ],
             [
              0.1111111111111111,
              "#46039f"
             ],
             [
              0.2222222222222222,
              "#7201a8"
             ],
             [
              0.3333333333333333,
              "#9c179e"
             ],
             [
              0.4444444444444444,
              "#bd3786"
             ],
             [
              0.5555555555555556,
              "#d8576b"
             ],
             [
              0.6666666666666666,
              "#ed7953"
             ],
             [
              0.7777777777777778,
              "#fb9f3a"
             ],
             [
              0.8888888888888888,
              "#fdca26"
             ],
             [
              1,
              "#f0f921"
             ]
            ],
            "type": "histogram2dcontour"
           }
          ],
          "mesh3d": [
           {
            "colorbar": {
             "outlinewidth": 0,
             "ticks": ""
            },
            "type": "mesh3d"
           }
          ],
          "parcoords": [
           {
            "line": {
             "colorbar": {
              "outlinewidth": 0,
              "ticks": ""
             }
            },
            "type": "parcoords"
           }
          ],
          "pie": [
           {
            "automargin": true,
            "type": "pie"
           }
          ],
          "scatter": [
           {
            "marker": {
             "line": {
              "color": "#283442"
             }
            },
            "type": "scatter"
           }
          ],
          "scatter3d": [
           {
            "line": {
             "colorbar": {
              "outlinewidth": 0,
              "ticks": ""
             }
            },
            "marker": {
             "colorbar": {
              "outlinewidth": 0,
              "ticks": ""
             }
            },
            "type": "scatter3d"
           }
          ],
          "scattercarpet": [
           {
            "marker": {
             "colorbar": {
              "outlinewidth": 0,
              "ticks": ""
             }
            },
            "type": "scattercarpet"
           }
          ],
          "scattergeo": [
           {
            "marker": {
             "colorbar": {
              "outlinewidth": 0,
              "ticks": ""
             }
            },
            "type": "scattergeo"
           }
          ],
          "scattergl": [
           {
            "marker": {
             "line": {
              "color": "#283442"
             }
            },
            "type": "scattergl"
           }
          ],
          "scattermapbox": [
           {
            "marker": {
             "colorbar": {
              "outlinewidth": 0,
              "ticks": ""
             }
            },
            "type": "scattermapbox"
           }
          ],
          "scatterpolar": [
           {
            "marker": {
             "colorbar": {
              "outlinewidth": 0,
              "ticks": ""
             }
            },
            "type": "scatterpolar"
           }
          ],
          "scatterpolargl": [
           {
            "marker": {
             "colorbar": {
              "outlinewidth": 0,
              "ticks": ""
             }
            },
            "type": "scatterpolargl"
           }
          ],
          "scatterternary": [
           {
            "marker": {
             "colorbar": {
              "outlinewidth": 0,
              "ticks": ""
             }
            },
            "type": "scatterternary"
           }
          ],
          "surface": [
           {
            "colorbar": {
             "outlinewidth": 0,
             "ticks": ""
            },
            "colorscale": [
             [
              0,
              "#0d0887"
             ],
             [
              0.1111111111111111,
              "#46039f"
             ],
             [
              0.2222222222222222,
              "#7201a8"
             ],
             [
              0.3333333333333333,
              "#9c179e"
             ],
             [
              0.4444444444444444,
              "#bd3786"
             ],
             [
              0.5555555555555556,
              "#d8576b"
             ],
             [
              0.6666666666666666,
              "#ed7953"
             ],
             [
              0.7777777777777778,
              "#fb9f3a"
             ],
             [
              0.8888888888888888,
              "#fdca26"
             ],
             [
              1,
              "#f0f921"
             ]
            ],
            "type": "surface"
           }
          ],
          "table": [
           {
            "cells": {
             "fill": {
              "color": "#506784"
             },
             "line": {
              "color": "rgb(17,17,17)"
             }
            },
            "header": {
             "fill": {
              "color": "#2a3f5f"
             },
             "line": {
              "color": "rgb(17,17,17)"
             }
            },
            "type": "table"
           }
          ]
         },
         "layout": {
          "annotationdefaults": {
           "arrowcolor": "#f2f5fa",
           "arrowhead": 0,
           "arrowwidth": 1
          },
          "autotypenumbers": "strict",
          "coloraxis": {
           "colorbar": {
            "outlinewidth": 0,
            "ticks": ""
           }
          },
          "colorscale": {
           "diverging": [
            [
             0,
             "#8e0152"
            ],
            [
             0.1,
             "#c51b7d"
            ],
            [
             0.2,
             "#de77ae"
            ],
            [
             0.3,
             "#f1b6da"
            ],
            [
             0.4,
             "#fde0ef"
            ],
            [
             0.5,
             "#f7f7f7"
            ],
            [
             0.6,
             "#e6f5d0"
            ],
            [
             0.7,
             "#b8e186"
            ],
            [
             0.8,
             "#7fbc41"
            ],
            [
             0.9,
             "#4d9221"
            ],
            [
             1,
             "#276419"
            ]
           ],
           "sequential": [
            [
             0,
             "#0d0887"
            ],
            [
             0.1111111111111111,
             "#46039f"
            ],
            [
             0.2222222222222222,
             "#7201a8"
            ],
            [
             0.3333333333333333,
             "#9c179e"
            ],
            [
             0.4444444444444444,
             "#bd3786"
            ],
            [
             0.5555555555555556,
             "#d8576b"
            ],
            [
             0.6666666666666666,
             "#ed7953"
            ],
            [
             0.7777777777777778,
             "#fb9f3a"
            ],
            [
             0.8888888888888888,
             "#fdca26"
            ],
            [
             1,
             "#f0f921"
            ]
           ],
           "sequentialminus": [
            [
             0,
             "#0d0887"
            ],
            [
             0.1111111111111111,
             "#46039f"
            ],
            [
             0.2222222222222222,
             "#7201a8"
            ],
            [
             0.3333333333333333,
             "#9c179e"
            ],
            [
             0.4444444444444444,
             "#bd3786"
            ],
            [
             0.5555555555555556,
             "#d8576b"
            ],
            [
             0.6666666666666666,
             "#ed7953"
            ],
            [
             0.7777777777777778,
             "#fb9f3a"
            ],
            [
             0.8888888888888888,
             "#fdca26"
            ],
            [
             1,
             "#f0f921"
            ]
           ]
          },
          "colorway": [
           "#636efa",
           "#EF553B",
           "#00cc96",
           "#ab63fa",
           "#FFA15A",
           "#19d3f3",
           "#FF6692",
           "#B6E880",
           "#FF97FF",
           "#FECB52"
          ],
          "font": {
           "color": "#f2f5fa"
          },
          "geo": {
           "bgcolor": "rgb(17,17,17)",
           "lakecolor": "rgb(17,17,17)",
           "landcolor": "rgb(17,17,17)",
           "showlakes": true,
           "showland": true,
           "subunitcolor": "#506784"
          },
          "hoverlabel": {
           "align": "left"
          },
          "hovermode": "closest",
          "mapbox": {
           "style": "dark"
          },
          "paper_bgcolor": "rgb(17,17,17)",
          "plot_bgcolor": "rgb(17,17,17)",
          "polar": {
           "angularaxis": {
            "gridcolor": "#506784",
            "linecolor": "#506784",
            "ticks": ""
           },
           "bgcolor": "rgb(17,17,17)",
           "radialaxis": {
            "gridcolor": "#506784",
            "linecolor": "#506784",
            "ticks": ""
           }
          },
          "scene": {
           "xaxis": {
            "backgroundcolor": "rgb(17,17,17)",
            "gridcolor": "#506784",
            "gridwidth": 2,
            "linecolor": "#506784",
            "showbackground": true,
            "ticks": "",
            "zerolinecolor": "#C8D4E3"
           },
           "yaxis": {
            "backgroundcolor": "rgb(17,17,17)",
            "gridcolor": "#506784",
            "gridwidth": 2,
            "linecolor": "#506784",
            "showbackground": true,
            "ticks": "",
            "zerolinecolor": "#C8D4E3"
           },
           "zaxis": {
            "backgroundcolor": "rgb(17,17,17)",
            "gridcolor": "#506784",
            "gridwidth": 2,
            "linecolor": "#506784",
            "showbackground": true,
            "ticks": "",
            "zerolinecolor": "#C8D4E3"
           }
          },
          "shapedefaults": {
           "line": {
            "color": "#f2f5fa"
           }
          },
          "sliderdefaults": {
           "bgcolor": "#C8D4E3",
           "bordercolor": "rgb(17,17,17)",
           "borderwidth": 1,
           "tickwidth": 0
          },
          "ternary": {
           "aaxis": {
            "gridcolor": "#506784",
            "linecolor": "#506784",
            "ticks": ""
           },
           "baxis": {
            "gridcolor": "#506784",
            "linecolor": "#506784",
            "ticks": ""
           },
           "bgcolor": "rgb(17,17,17)",
           "caxis": {
            "gridcolor": "#506784",
            "linecolor": "#506784",
            "ticks": ""
           }
          },
          "title": {
           "x": 0.05
          },
          "updatemenudefaults": {
           "bgcolor": "#506784",
           "borderwidth": 0
          },
          "xaxis": {
           "automargin": true,
           "gridcolor": "#283442",
           "linecolor": "#506784",
           "ticks": "",
           "title": {
            "standoff": 15
           },
           "zerolinecolor": "#283442",
           "zerolinewidth": 2
          },
          "yaxis": {
           "automargin": true,
           "gridcolor": "#283442",
           "linecolor": "#506784",
           "ticks": "",
           "title": {
            "standoff": 15
           },
           "zerolinecolor": "#283442",
           "zerolinewidth": 2
          }
         }
        },
        "xaxis": {
         "anchor": "y",
         "domain": [
          0,
          1
         ],
         "title": {
          "text": "Month"
         }
        },
        "yaxis": {
         "anchor": "x",
         "domain": [
          0,
          1
         ],
         "title": {
          "text": "value"
         }
        }
       }
      }
     },
     "metadata": {},
     "output_type": "display_data"
    }
   ],
   "source": [
    "import plotly.express as px\n",
    "fig = px.line(data, x=\"Month\", y=[\"#Passengers\", \"MA12\"], template = 'plotly_dark')\n",
    "fig.show()"
   ]
  },
  {
   "cell_type": "code",
   "execution_count": 199,
   "metadata": {},
   "outputs": [],
   "source": [
    "data['Mes'] = [i.month for i in data['Month']]\n",
    "data['Year'] = [i.year for i in data['Month']]"
   ]
  },
  {
   "cell_type": "code",
   "execution_count": 200,
   "metadata": {},
   "outputs": [],
   "source": [
    "data['Series'] = np.arange(1,len(data)+1)"
   ]
  },
  {
   "cell_type": "code",
   "execution_count": 201,
   "metadata": {},
   "outputs": [],
   "source": [
    "data.drop(['Month', 'MA12'], axis=1, inplace=True)\n",
    "data = data[['Series', 'Year', 'Mes', '#Passengers']]"
   ]
  },
  {
   "cell_type": "code",
   "execution_count": 202,
   "metadata": {},
   "outputs": [
    {
     "name": "stdout",
     "output_type": "stream",
     "text": [
      "El EStadistico D-Fuller es: 0.8153688792060352\n",
      "El p-valor es de: 0.9918802434376408\n"
     ]
    }
   ],
   "source": [
    "D_fuller = adfuller(data['#Passengers'],autolag='AIC')\n",
    "print(f'El EStadistico D-Fuller es: {D_fuller[0]}')\n",
    "print(f'El p-valor es de: {D_fuller[1]}')"
   ]
  },
  {
   "cell_type": "code",
   "execution_count": 203,
   "metadata": {},
   "outputs": [
    {
     "data": {
      "text/html": [
       "<div>\n",
       "<style scoped>\n",
       "    .dataframe tbody tr th:only-of-type {\n",
       "        vertical-align: middle;\n",
       "    }\n",
       "\n",
       "    .dataframe tbody tr th {\n",
       "        vertical-align: top;\n",
       "    }\n",
       "\n",
       "    .dataframe thead th {\n",
       "        text-align: right;\n",
       "    }\n",
       "</style>\n",
       "<table border=\"1\" class=\"dataframe\">\n",
       "  <thead>\n",
       "    <tr style=\"text-align: right;\">\n",
       "      <th></th>\n",
       "      <th>Series</th>\n",
       "      <th>Year</th>\n",
       "      <th>Mes</th>\n",
       "      <th>#Passengers</th>\n",
       "    </tr>\n",
       "  </thead>\n",
       "  <tbody>\n",
       "    <tr>\n",
       "      <th>0</th>\n",
       "      <td>1</td>\n",
       "      <td>1949</td>\n",
       "      <td>1</td>\n",
       "      <td>112</td>\n",
       "    </tr>\n",
       "    <tr>\n",
       "      <th>1</th>\n",
       "      <td>2</td>\n",
       "      <td>1949</td>\n",
       "      <td>2</td>\n",
       "      <td>118</td>\n",
       "    </tr>\n",
       "    <tr>\n",
       "      <th>2</th>\n",
       "      <td>3</td>\n",
       "      <td>1949</td>\n",
       "      <td>3</td>\n",
       "      <td>132</td>\n",
       "    </tr>\n",
       "    <tr>\n",
       "      <th>3</th>\n",
       "      <td>4</td>\n",
       "      <td>1949</td>\n",
       "      <td>4</td>\n",
       "      <td>129</td>\n",
       "    </tr>\n",
       "    <tr>\n",
       "      <th>4</th>\n",
       "      <td>5</td>\n",
       "      <td>1949</td>\n",
       "      <td>5</td>\n",
       "      <td>121</td>\n",
       "    </tr>\n",
       "    <tr>\n",
       "      <th>...</th>\n",
       "      <td>...</td>\n",
       "      <td>...</td>\n",
       "      <td>...</td>\n",
       "      <td>...</td>\n",
       "    </tr>\n",
       "    <tr>\n",
       "      <th>139</th>\n",
       "      <td>140</td>\n",
       "      <td>1960</td>\n",
       "      <td>8</td>\n",
       "      <td>606</td>\n",
       "    </tr>\n",
       "    <tr>\n",
       "      <th>140</th>\n",
       "      <td>141</td>\n",
       "      <td>1960</td>\n",
       "      <td>9</td>\n",
       "      <td>508</td>\n",
       "    </tr>\n",
       "    <tr>\n",
       "      <th>141</th>\n",
       "      <td>142</td>\n",
       "      <td>1960</td>\n",
       "      <td>10</td>\n",
       "      <td>461</td>\n",
       "    </tr>\n",
       "    <tr>\n",
       "      <th>142</th>\n",
       "      <td>143</td>\n",
       "      <td>1960</td>\n",
       "      <td>11</td>\n",
       "      <td>390</td>\n",
       "    </tr>\n",
       "    <tr>\n",
       "      <th>143</th>\n",
       "      <td>144</td>\n",
       "      <td>1960</td>\n",
       "      <td>12</td>\n",
       "      <td>432</td>\n",
       "    </tr>\n",
       "  </tbody>\n",
       "</table>\n",
       "<p>144 rows × 4 columns</p>\n",
       "</div>"
      ],
      "text/plain": [
       "     Series  Year  Mes  #Passengers\n",
       "0         1  1949    1          112\n",
       "1         2  1949    2          118\n",
       "2         3  1949    3          132\n",
       "3         4  1949    4          129\n",
       "4         5  1949    5          121\n",
       "..      ...   ...  ...          ...\n",
       "139     140  1960    8          606\n",
       "140     141  1960    9          508\n",
       "141     142  1960   10          461\n",
       "142     143  1960   11          390\n",
       "143     144  1960   12          432\n",
       "\n",
       "[144 rows x 4 columns]"
      ]
     },
     "execution_count": 203,
     "metadata": {},
     "output_type": "execute_result"
    }
   ],
   "source": [
    "data"
   ]
  },
  {
   "cell_type": "code",
   "execution_count": 204,
   "metadata": {},
   "outputs": [
    {
     "name": "stdout",
     "output_type": "stream",
     "text": [
      "(132, 4)\n",
      "(12, 4)\n"
     ]
    }
   ],
   "source": [
    "train = data[data['Year'] < 1960]\n",
    "test = data[data['Year'] >= 1960]\n",
    "print(train.shape)\n",
    "print(test.shape)"
   ]
  },
  {
   "cell_type": "code",
   "execution_count": 205,
   "metadata": {},
   "outputs": [
    {
     "data": {
      "text/html": [
       "<style type=\"text/css\">\n",
       "#T_1eb9d_row8_col1, #T_1eb9d_row12_col1 {\n",
       "  background-color: lightgreen;\n",
       "}\n",
       "</style>\n",
       "<table id=\"T_1eb9d\">\n",
       "  <thead>\n",
       "    <tr>\n",
       "      <th class=\"blank level0\" >&nbsp;</th>\n",
       "      <th id=\"T_1eb9d_level0_col0\" class=\"col_heading level0 col0\" >Description</th>\n",
       "      <th id=\"T_1eb9d_level0_col1\" class=\"col_heading level0 col1\" >Value</th>\n",
       "    </tr>\n",
       "  </thead>\n",
       "  <tbody>\n",
       "    <tr>\n",
       "      <th id=\"T_1eb9d_level0_row0\" class=\"row_heading level0 row0\" >0</th>\n",
       "      <td id=\"T_1eb9d_row0_col0\" class=\"data row0 col0\" >Session id</td>\n",
       "      <td id=\"T_1eb9d_row0_col1\" class=\"data row0 col1\" >123</td>\n",
       "    </tr>\n",
       "    <tr>\n",
       "      <th id=\"T_1eb9d_level0_row1\" class=\"row_heading level0 row1\" >1</th>\n",
       "      <td id=\"T_1eb9d_row1_col0\" class=\"data row1 col0\" >Target</td>\n",
       "      <td id=\"T_1eb9d_row1_col1\" class=\"data row1 col1\" >#Passengers</td>\n",
       "    </tr>\n",
       "    <tr>\n",
       "      <th id=\"T_1eb9d_level0_row2\" class=\"row_heading level0 row2\" >2</th>\n",
       "      <td id=\"T_1eb9d_row2_col0\" class=\"data row2 col0\" >Target type</td>\n",
       "      <td id=\"T_1eb9d_row2_col1\" class=\"data row2 col1\" >Regression</td>\n",
       "    </tr>\n",
       "    <tr>\n",
       "      <th id=\"T_1eb9d_level0_row3\" class=\"row_heading level0 row3\" >3</th>\n",
       "      <td id=\"T_1eb9d_row3_col0\" class=\"data row3 col0\" >Original data shape</td>\n",
       "      <td id=\"T_1eb9d_row3_col1\" class=\"data row3 col1\" >(144, 4)</td>\n",
       "    </tr>\n",
       "    <tr>\n",
       "      <th id=\"T_1eb9d_level0_row4\" class=\"row_heading level0 row4\" >4</th>\n",
       "      <td id=\"T_1eb9d_row4_col0\" class=\"data row4 col0\" >Transformed data shape</td>\n",
       "      <td id=\"T_1eb9d_row4_col1\" class=\"data row4 col1\" >(144, 4)</td>\n",
       "    </tr>\n",
       "    <tr>\n",
       "      <th id=\"T_1eb9d_level0_row5\" class=\"row_heading level0 row5\" >5</th>\n",
       "      <td id=\"T_1eb9d_row5_col0\" class=\"data row5 col0\" >Transformed train set shape</td>\n",
       "      <td id=\"T_1eb9d_row5_col1\" class=\"data row5 col1\" >(132, 4)</td>\n",
       "    </tr>\n",
       "    <tr>\n",
       "      <th id=\"T_1eb9d_level0_row6\" class=\"row_heading level0 row6\" >6</th>\n",
       "      <td id=\"T_1eb9d_row6_col0\" class=\"data row6 col0\" >Transformed test set shape</td>\n",
       "      <td id=\"T_1eb9d_row6_col1\" class=\"data row6 col1\" >(12, 4)</td>\n",
       "    </tr>\n",
       "    <tr>\n",
       "      <th id=\"T_1eb9d_level0_row7\" class=\"row_heading level0 row7\" >7</th>\n",
       "      <td id=\"T_1eb9d_row7_col0\" class=\"data row7 col0\" >Numeric features</td>\n",
       "      <td id=\"T_1eb9d_row7_col1\" class=\"data row7 col1\" >2</td>\n",
       "    </tr>\n",
       "    <tr>\n",
       "      <th id=\"T_1eb9d_level0_row8\" class=\"row_heading level0 row8\" >8</th>\n",
       "      <td id=\"T_1eb9d_row8_col0\" class=\"data row8 col0\" >Preprocess</td>\n",
       "      <td id=\"T_1eb9d_row8_col1\" class=\"data row8 col1\" >True</td>\n",
       "    </tr>\n",
       "    <tr>\n",
       "      <th id=\"T_1eb9d_level0_row9\" class=\"row_heading level0 row9\" >9</th>\n",
       "      <td id=\"T_1eb9d_row9_col0\" class=\"data row9 col0\" >Imputation type</td>\n",
       "      <td id=\"T_1eb9d_row9_col1\" class=\"data row9 col1\" >simple</td>\n",
       "    </tr>\n",
       "    <tr>\n",
       "      <th id=\"T_1eb9d_level0_row10\" class=\"row_heading level0 row10\" >10</th>\n",
       "      <td id=\"T_1eb9d_row10_col0\" class=\"data row10 col0\" >Numeric imputation</td>\n",
       "      <td id=\"T_1eb9d_row10_col1\" class=\"data row10 col1\" >mean</td>\n",
       "    </tr>\n",
       "    <tr>\n",
       "      <th id=\"T_1eb9d_level0_row11\" class=\"row_heading level0 row11\" >11</th>\n",
       "      <td id=\"T_1eb9d_row11_col0\" class=\"data row11 col0\" >Categorical imputation</td>\n",
       "      <td id=\"T_1eb9d_row11_col1\" class=\"data row11 col1\" >mode</td>\n",
       "    </tr>\n",
       "    <tr>\n",
       "      <th id=\"T_1eb9d_level0_row12\" class=\"row_heading level0 row12\" >12</th>\n",
       "      <td id=\"T_1eb9d_row12_col0\" class=\"data row12 col0\" >Transform target</td>\n",
       "      <td id=\"T_1eb9d_row12_col1\" class=\"data row12 col1\" >True</td>\n",
       "    </tr>\n",
       "    <tr>\n",
       "      <th id=\"T_1eb9d_level0_row13\" class=\"row_heading level0 row13\" >13</th>\n",
       "      <td id=\"T_1eb9d_row13_col0\" class=\"data row13 col0\" >Transform target method</td>\n",
       "      <td id=\"T_1eb9d_row13_col1\" class=\"data row13 col1\" >yeo-johnson</td>\n",
       "    </tr>\n",
       "    <tr>\n",
       "      <th id=\"T_1eb9d_level0_row14\" class=\"row_heading level0 row14\" >14</th>\n",
       "      <td id=\"T_1eb9d_row14_col0\" class=\"data row14 col0\" >Fold Generator</td>\n",
       "      <td id=\"T_1eb9d_row14_col1\" class=\"data row14 col1\" >TimeSeriesSplit</td>\n",
       "    </tr>\n",
       "    <tr>\n",
       "      <th id=\"T_1eb9d_level0_row15\" class=\"row_heading level0 row15\" >15</th>\n",
       "      <td id=\"T_1eb9d_row15_col0\" class=\"data row15 col0\" >Fold Number</td>\n",
       "      <td id=\"T_1eb9d_row15_col1\" class=\"data row15 col1\" >3</td>\n",
       "    </tr>\n",
       "    <tr>\n",
       "      <th id=\"T_1eb9d_level0_row16\" class=\"row_heading level0 row16\" >16</th>\n",
       "      <td id=\"T_1eb9d_row16_col0\" class=\"data row16 col0\" >CPU Jobs</td>\n",
       "      <td id=\"T_1eb9d_row16_col1\" class=\"data row16 col1\" >-1</td>\n",
       "    </tr>\n",
       "    <tr>\n",
       "      <th id=\"T_1eb9d_level0_row17\" class=\"row_heading level0 row17\" >17</th>\n",
       "      <td id=\"T_1eb9d_row17_col0\" class=\"data row17 col0\" >Use GPU</td>\n",
       "      <td id=\"T_1eb9d_row17_col1\" class=\"data row17 col1\" >False</td>\n",
       "    </tr>\n",
       "    <tr>\n",
       "      <th id=\"T_1eb9d_level0_row18\" class=\"row_heading level0 row18\" >18</th>\n",
       "      <td id=\"T_1eb9d_row18_col0\" class=\"data row18 col0\" >Log Experiment</td>\n",
       "      <td id=\"T_1eb9d_row18_col1\" class=\"data row18 col1\" >False</td>\n",
       "    </tr>\n",
       "    <tr>\n",
       "      <th id=\"T_1eb9d_level0_row19\" class=\"row_heading level0 row19\" >19</th>\n",
       "      <td id=\"T_1eb9d_row19_col0\" class=\"data row19 col0\" >Experiment Name</td>\n",
       "      <td id=\"T_1eb9d_row19_col1\" class=\"data row19 col1\" >reg-default-name</td>\n",
       "    </tr>\n",
       "    <tr>\n",
       "      <th id=\"T_1eb9d_level0_row20\" class=\"row_heading level0 row20\" >20</th>\n",
       "      <td id=\"T_1eb9d_row20_col0\" class=\"data row20 col0\" >USI</td>\n",
       "      <td id=\"T_1eb9d_row20_col1\" class=\"data row20 col1\" >1843</td>\n",
       "    </tr>\n",
       "  </tbody>\n",
       "</table>\n"
      ],
      "text/plain": [
       "<pandas.io.formats.style.Styler at 0x25883691060>"
      ]
     },
     "metadata": {},
     "output_type": "display_data"
    }
   ],
   "source": [
    "s = setup(data = train, test_data = test, target = '#Passengers', fold_strategy = 'timeseries', \n",
    "          numeric_features = ['Year', 'Series'], fold = 3, transform_target = True, session_id = 123,\n",
    "          data_split_shuffle=False,fold_shuffle=False)"
   ]
  },
  {
   "cell_type": "code",
   "execution_count": 206,
   "metadata": {},
   "outputs": [
    {
     "data": {
      "text/html": [],
      "text/plain": [
       "<IPython.core.display.HTML object>"
      ]
     },
     "metadata": {},
     "output_type": "display_data"
    },
    {
     "data": {
      "text/html": [
       "<style type=\"text/css\">\n",
       "#T_7fdf1 th {\n",
       "  text-align: left;\n",
       "}\n",
       "#T_7fdf1_row0_col0, #T_7fdf1_row1_col0, #T_7fdf1_row1_col1, #T_7fdf1_row1_col2, #T_7fdf1_row1_col3, #T_7fdf1_row1_col4, #T_7fdf1_row1_col5, #T_7fdf1_row1_col6, #T_7fdf1_row2_col0, #T_7fdf1_row2_col1, #T_7fdf1_row2_col2, #T_7fdf1_row2_col3, #T_7fdf1_row2_col4, #T_7fdf1_row2_col5, #T_7fdf1_row2_col6, #T_7fdf1_row3_col0, #T_7fdf1_row3_col1, #T_7fdf1_row3_col2, #T_7fdf1_row3_col3, #T_7fdf1_row3_col4, #T_7fdf1_row3_col5, #T_7fdf1_row3_col6, #T_7fdf1_row4_col0, #T_7fdf1_row4_col1, #T_7fdf1_row4_col2, #T_7fdf1_row4_col3, #T_7fdf1_row4_col4, #T_7fdf1_row4_col5, #T_7fdf1_row4_col6, #T_7fdf1_row5_col0, #T_7fdf1_row5_col1, #T_7fdf1_row5_col2, #T_7fdf1_row5_col3, #T_7fdf1_row5_col4, #T_7fdf1_row5_col5, #T_7fdf1_row5_col6, #T_7fdf1_row6_col0, #T_7fdf1_row6_col1, #T_7fdf1_row6_col2, #T_7fdf1_row6_col3, #T_7fdf1_row6_col4, #T_7fdf1_row6_col5, #T_7fdf1_row6_col6, #T_7fdf1_row7_col0, #T_7fdf1_row7_col1, #T_7fdf1_row7_col2, #T_7fdf1_row7_col3, #T_7fdf1_row7_col4, #T_7fdf1_row7_col5, #T_7fdf1_row7_col6, #T_7fdf1_row8_col0, #T_7fdf1_row8_col1, #T_7fdf1_row8_col2, #T_7fdf1_row8_col3, #T_7fdf1_row8_col4, #T_7fdf1_row8_col5, #T_7fdf1_row8_col6, #T_7fdf1_row9_col0, #T_7fdf1_row9_col1, #T_7fdf1_row9_col2, #T_7fdf1_row9_col3, #T_7fdf1_row9_col4, #T_7fdf1_row9_col5, #T_7fdf1_row9_col6, #T_7fdf1_row10_col0, #T_7fdf1_row10_col1, #T_7fdf1_row10_col2, #T_7fdf1_row10_col3, #T_7fdf1_row10_col4, #T_7fdf1_row10_col5, #T_7fdf1_row10_col6, #T_7fdf1_row11_col0, #T_7fdf1_row11_col1, #T_7fdf1_row11_col2, #T_7fdf1_row11_col3, #T_7fdf1_row11_col4, #T_7fdf1_row11_col5, #T_7fdf1_row11_col6, #T_7fdf1_row12_col0, #T_7fdf1_row12_col1, #T_7fdf1_row12_col2, #T_7fdf1_row12_col3, #T_7fdf1_row12_col4, #T_7fdf1_row12_col5, #T_7fdf1_row12_col6, #T_7fdf1_row13_col0, #T_7fdf1_row13_col1, #T_7fdf1_row13_col2, #T_7fdf1_row13_col3, #T_7fdf1_row13_col4, #T_7fdf1_row13_col5, #T_7fdf1_row13_col6, #T_7fdf1_row14_col0, #T_7fdf1_row14_col1, #T_7fdf1_row14_col2, #T_7fdf1_row14_col3, #T_7fdf1_row14_col4, #T_7fdf1_row14_col5, #T_7fdf1_row14_col6, #T_7fdf1_row15_col0, #T_7fdf1_row15_col1, #T_7fdf1_row15_col2, #T_7fdf1_row15_col3, #T_7fdf1_row15_col4, #T_7fdf1_row15_col5, #T_7fdf1_row15_col6, #T_7fdf1_row16_col0, #T_7fdf1_row16_col1, #T_7fdf1_row16_col2, #T_7fdf1_row16_col3, #T_7fdf1_row16_col4, #T_7fdf1_row16_col5, #T_7fdf1_row16_col6, #T_7fdf1_row17_col0, #T_7fdf1_row17_col1, #T_7fdf1_row17_col2, #T_7fdf1_row17_col3, #T_7fdf1_row17_col4, #T_7fdf1_row17_col5, #T_7fdf1_row17_col6 {\n",
       "  text-align: left;\n",
       "}\n",
       "#T_7fdf1_row0_col1, #T_7fdf1_row0_col2, #T_7fdf1_row0_col3, #T_7fdf1_row0_col4, #T_7fdf1_row0_col5, #T_7fdf1_row0_col6 {\n",
       "  text-align: left;\n",
       "  background-color: yellow;\n",
       "}\n",
       "#T_7fdf1_row0_col7, #T_7fdf1_row2_col7, #T_7fdf1_row3_col7, #T_7fdf1_row4_col7, #T_7fdf1_row5_col7, #T_7fdf1_row6_col7, #T_7fdf1_row7_col7, #T_7fdf1_row12_col7, #T_7fdf1_row17_col7 {\n",
       "  text-align: left;\n",
       "  background-color: yellow;\n",
       "  background-color: lightgrey;\n",
       "}\n",
       "#T_7fdf1_row1_col7, #T_7fdf1_row8_col7, #T_7fdf1_row9_col7, #T_7fdf1_row10_col7, #T_7fdf1_row11_col7, #T_7fdf1_row13_col7, #T_7fdf1_row14_col7, #T_7fdf1_row15_col7, #T_7fdf1_row16_col7 {\n",
       "  text-align: left;\n",
       "  background-color: lightgrey;\n",
       "}\n",
       "</style>\n",
       "<table id=\"T_7fdf1\">\n",
       "  <thead>\n",
       "    <tr>\n",
       "      <th class=\"blank level0\" >&nbsp;</th>\n",
       "      <th id=\"T_7fdf1_level0_col0\" class=\"col_heading level0 col0\" >Model</th>\n",
       "      <th id=\"T_7fdf1_level0_col1\" class=\"col_heading level0 col1\" >MAE</th>\n",
       "      <th id=\"T_7fdf1_level0_col2\" class=\"col_heading level0 col2\" >MSE</th>\n",
       "      <th id=\"T_7fdf1_level0_col3\" class=\"col_heading level0 col3\" >RMSE</th>\n",
       "      <th id=\"T_7fdf1_level0_col4\" class=\"col_heading level0 col4\" >R2</th>\n",
       "      <th id=\"T_7fdf1_level0_col5\" class=\"col_heading level0 col5\" >RMSLE</th>\n",
       "      <th id=\"T_7fdf1_level0_col6\" class=\"col_heading level0 col6\" >MAPE</th>\n",
       "      <th id=\"T_7fdf1_level0_col7\" class=\"col_heading level0 col7\" >TT (Sec)</th>\n",
       "    </tr>\n",
       "  </thead>\n",
       "  <tbody>\n",
       "    <tr>\n",
       "      <th id=\"T_7fdf1_level0_row0\" class=\"row_heading level0 row0\" >omp</th>\n",
       "      <td id=\"T_7fdf1_row0_col0\" class=\"data row0 col0\" >Orthogonal Matching Pursuit</td>\n",
       "      <td id=\"T_7fdf1_row0_col1\" class=\"data row0 col1\" >44.3192</td>\n",
       "      <td id=\"T_7fdf1_row0_col2\" class=\"data row0 col2\" >3050.6952</td>\n",
       "      <td id=\"T_7fdf1_row0_col3\" class=\"data row0 col3\" >53.8852</td>\n",
       "      <td id=\"T_7fdf1_row0_col4\" class=\"data row0 col4\" >-0.4522</td>\n",
       "      <td id=\"T_7fdf1_row0_col5\" class=\"data row0 col5\" >0.1714</td>\n",
       "      <td id=\"T_7fdf1_row0_col6\" class=\"data row0 col6\" >0.1521</td>\n",
       "      <td id=\"T_7fdf1_row0_col7\" class=\"data row0 col7\" >0.0100</td>\n",
       "    </tr>\n",
       "    <tr>\n",
       "      <th id=\"T_7fdf1_level0_row1\" class=\"row_heading level0 row1\" >br</th>\n",
       "      <td id=\"T_7fdf1_row1_col0\" class=\"data row1 col0\" >Bayesian Ridge</td>\n",
       "      <td id=\"T_7fdf1_row1_col1\" class=\"data row1 col1\" >45.5643</td>\n",
       "      <td id=\"T_7fdf1_row1_col2\" class=\"data row1 col2\" >3233.7133</td>\n",
       "      <td id=\"T_7fdf1_row1_col3\" class=\"data row1 col3\" >55.6766</td>\n",
       "      <td id=\"T_7fdf1_row1_col4\" class=\"data row1 col4\" >-0.6553</td>\n",
       "      <td id=\"T_7fdf1_row1_col5\" class=\"data row1 col5\" >0.1765</td>\n",
       "      <td id=\"T_7fdf1_row1_col6\" class=\"data row1 col6\" >0.1576</td>\n",
       "      <td id=\"T_7fdf1_row1_col7\" class=\"data row1 col7\" >0.0133</td>\n",
       "    </tr>\n",
       "    <tr>\n",
       "      <th id=\"T_7fdf1_level0_row2\" class=\"row_heading level0 row2\" >ridge</th>\n",
       "      <td id=\"T_7fdf1_row2_col0\" class=\"data row2 col0\" >Ridge Regression</td>\n",
       "      <td id=\"T_7fdf1_row2_col1\" class=\"data row2 col1\" >45.7835</td>\n",
       "      <td id=\"T_7fdf1_row2_col2\" class=\"data row2 col2\" >3257.2206</td>\n",
       "      <td id=\"T_7fdf1_row2_col3\" class=\"data row2 col3\" >55.8542</td>\n",
       "      <td id=\"T_7fdf1_row2_col4\" class=\"data row2 col4\" >-0.6687</td>\n",
       "      <td id=\"T_7fdf1_row2_col5\" class=\"data row2 col5\" >0.1770</td>\n",
       "      <td id=\"T_7fdf1_row2_col6\" class=\"data row2 col6\" >0.1585</td>\n",
       "      <td id=\"T_7fdf1_row2_col7\" class=\"data row2 col7\" >0.0100</td>\n",
       "    </tr>\n",
       "    <tr>\n",
       "      <th id=\"T_7fdf1_level0_row3\" class=\"row_heading level0 row3\" >lr</th>\n",
       "      <td id=\"T_7fdf1_row3_col0\" class=\"data row3 col0\" >Linear Regression</td>\n",
       "      <td id=\"T_7fdf1_row3_col1\" class=\"data row3 col1\" >45.7967</td>\n",
       "      <td id=\"T_7fdf1_row3_col2\" class=\"data row3 col2\" >3258.3784</td>\n",
       "      <td id=\"T_7fdf1_row3_col3\" class=\"data row3 col3\" >55.8611</td>\n",
       "      <td id=\"T_7fdf1_row3_col4\" class=\"data row3 col4\" >-0.6705</td>\n",
       "      <td id=\"T_7fdf1_row3_col5\" class=\"data row3 col5\" >0.1770</td>\n",
       "      <td id=\"T_7fdf1_row3_col6\" class=\"data row3 col6\" >0.1586</td>\n",
       "      <td id=\"T_7fdf1_row3_col7\" class=\"data row3 col7\" >0.0100</td>\n",
       "    </tr>\n",
       "    <tr>\n",
       "      <th id=\"T_7fdf1_level0_row4\" class=\"row_heading level0 row4\" >lar</th>\n",
       "      <td id=\"T_7fdf1_row4_col0\" class=\"data row4 col0\" >Least Angle Regression</td>\n",
       "      <td id=\"T_7fdf1_row4_col1\" class=\"data row4 col1\" >45.8053</td>\n",
       "      <td id=\"T_7fdf1_row4_col2\" class=\"data row4 col2\" >3260.6009</td>\n",
       "      <td id=\"T_7fdf1_row4_col3\" class=\"data row4 col3\" >55.8841</td>\n",
       "      <td id=\"T_7fdf1_row4_col4\" class=\"data row4 col4\" >-0.6721</td>\n",
       "      <td id=\"T_7fdf1_row4_col5\" class=\"data row4 col5\" >0.1771</td>\n",
       "      <td id=\"T_7fdf1_row4_col6\" class=\"data row4 col6\" >0.1586</td>\n",
       "      <td id=\"T_7fdf1_row4_col7\" class=\"data row4 col7\" >0.0100</td>\n",
       "    </tr>\n",
       "    <tr>\n",
       "      <th id=\"T_7fdf1_level0_row5\" class=\"row_heading level0 row5\" >huber</th>\n",
       "      <td id=\"T_7fdf1_row5_col0\" class=\"data row5 col0\" >Huber Regressor</td>\n",
       "      <td id=\"T_7fdf1_row5_col1\" class=\"data row5 col1\" >46.0420</td>\n",
       "      <td id=\"T_7fdf1_row5_col2\" class=\"data row5 col2\" >3308.9725</td>\n",
       "      <td id=\"T_7fdf1_row5_col3\" class=\"data row5 col3\" >56.4600</td>\n",
       "      <td id=\"T_7fdf1_row5_col4\" class=\"data row5 col4\" >-0.8186</td>\n",
       "      <td id=\"T_7fdf1_row5_col5\" class=\"data row5 col5\" >0.1802</td>\n",
       "      <td id=\"T_7fdf1_row5_col6\" class=\"data row5 col6\" >0.1618</td>\n",
       "      <td id=\"T_7fdf1_row5_col7\" class=\"data row5 col7\" >0.0100</td>\n",
       "    </tr>\n",
       "    <tr>\n",
       "      <th id=\"T_7fdf1_level0_row6\" class=\"row_heading level0 row6\" >lasso</th>\n",
       "      <td id=\"T_7fdf1_row6_col0\" class=\"data row6 col0\" >Lasso Regression</td>\n",
       "      <td id=\"T_7fdf1_row6_col1\" class=\"data row6 col1\" >51.7106</td>\n",
       "      <td id=\"T_7fdf1_row6_col2\" class=\"data row6 col2\" >3939.2790</td>\n",
       "      <td id=\"T_7fdf1_row6_col3\" class=\"data row6 col3\" >61.4955</td>\n",
       "      <td id=\"T_7fdf1_row6_col4\" class=\"data row6 col4\" >-1.4896</td>\n",
       "      <td id=\"T_7fdf1_row6_col5\" class=\"data row6 col5\" >0.2374</td>\n",
       "      <td id=\"T_7fdf1_row6_col6\" class=\"data row6 col6\" >0.1830</td>\n",
       "      <td id=\"T_7fdf1_row6_col7\" class=\"data row6 col7\" >0.0100</td>\n",
       "    </tr>\n",
       "    <tr>\n",
       "      <th id=\"T_7fdf1_level0_row7\" class=\"row_heading level0 row7\" >llar</th>\n",
       "      <td id=\"T_7fdf1_row7_col0\" class=\"data row7 col0\" >Lasso Least Angle Regression</td>\n",
       "      <td id=\"T_7fdf1_row7_col1\" class=\"data row7 col1\" >51.7106</td>\n",
       "      <td id=\"T_7fdf1_row7_col2\" class=\"data row7 col2\" >3939.2790</td>\n",
       "      <td id=\"T_7fdf1_row7_col3\" class=\"data row7 col3\" >61.4955</td>\n",
       "      <td id=\"T_7fdf1_row7_col4\" class=\"data row7 col4\" >-1.4896</td>\n",
       "      <td id=\"T_7fdf1_row7_col5\" class=\"data row7 col5\" >0.2374</td>\n",
       "      <td id=\"T_7fdf1_row7_col6\" class=\"data row7 col6\" >0.1830</td>\n",
       "      <td id=\"T_7fdf1_row7_col7\" class=\"data row7 col7\" >0.0100</td>\n",
       "    </tr>\n",
       "    <tr>\n",
       "      <th id=\"T_7fdf1_level0_row8\" class=\"row_heading level0 row8\" >gbr</th>\n",
       "      <td id=\"T_7fdf1_row8_col0\" class=\"data row8 col0\" >Gradient Boosting Regressor</td>\n",
       "      <td id=\"T_7fdf1_row8_col1\" class=\"data row8 col1\" >52.4896</td>\n",
       "      <td id=\"T_7fdf1_row8_col2\" class=\"data row8 col2\" >4355.4048</td>\n",
       "      <td id=\"T_7fdf1_row8_col3\" class=\"data row8 col3\" >63.7434</td>\n",
       "      <td id=\"T_7fdf1_row8_col4\" class=\"data row8 col4\" >-0.7220</td>\n",
       "      <td id=\"T_7fdf1_row8_col5\" class=\"data row8 col5\" >0.2142</td>\n",
       "      <td id=\"T_7fdf1_row8_col6\" class=\"data row8 col6\" >0.1618</td>\n",
       "      <td id=\"T_7fdf1_row8_col7\" class=\"data row8 col7\" >0.0200</td>\n",
       "    </tr>\n",
       "    <tr>\n",
       "      <th id=\"T_7fdf1_level0_row9\" class=\"row_heading level0 row9\" >en</th>\n",
       "      <td id=\"T_7fdf1_row9_col0\" class=\"data row9 col0\" >Elastic Net</td>\n",
       "      <td id=\"T_7fdf1_row9_col1\" class=\"data row9 col1\" >52.5924</td>\n",
       "      <td id=\"T_7fdf1_row9_col2\" class=\"data row9 col2\" >3937.1760</td>\n",
       "      <td id=\"T_7fdf1_row9_col3\" class=\"data row9 col3\" >61.2301</td>\n",
       "      <td id=\"T_7fdf1_row9_col4\" class=\"data row9 col4\" >-1.4778</td>\n",
       "      <td id=\"T_7fdf1_row9_col5\" class=\"data row9 col5\" >0.2367</td>\n",
       "      <td id=\"T_7fdf1_row9_col6\" class=\"data row9 col6\" >0.1870</td>\n",
       "      <td id=\"T_7fdf1_row9_col7\" class=\"data row9 col7\" >0.0133</td>\n",
       "    </tr>\n",
       "    <tr>\n",
       "      <th id=\"T_7fdf1_level0_row10\" class=\"row_heading level0 row10\" >et</th>\n",
       "      <td id=\"T_7fdf1_row10_col0\" class=\"data row10 col0\" >Extra Trees Regressor</td>\n",
       "      <td id=\"T_7fdf1_row10_col1\" class=\"data row10 col1\" >52.8906</td>\n",
       "      <td id=\"T_7fdf1_row10_col2\" class=\"data row10 col2\" >4660.9372</td>\n",
       "      <td id=\"T_7fdf1_row10_col3\" class=\"data row10 col3\" >65.7579</td>\n",
       "      <td id=\"T_7fdf1_row10_col4\" class=\"data row10 col4\" >-0.8155</td>\n",
       "      <td id=\"T_7fdf1_row10_col5\" class=\"data row10 col5\" >0.2177</td>\n",
       "      <td id=\"T_7fdf1_row10_col6\" class=\"data row10 col6\" >0.1626</td>\n",
       "      <td id=\"T_7fdf1_row10_col7\" class=\"data row10 col7\" >0.0400</td>\n",
       "    </tr>\n",
       "    <tr>\n",
       "      <th id=\"T_7fdf1_level0_row11\" class=\"row_heading level0 row11\" >rf</th>\n",
       "      <td id=\"T_7fdf1_row11_col0\" class=\"data row11 col0\" >Random Forest Regressor</td>\n",
       "      <td id=\"T_7fdf1_row11_col1\" class=\"data row11 col1\" >54.7045</td>\n",
       "      <td id=\"T_7fdf1_row11_col2\" class=\"data row11 col2\" >4795.4597</td>\n",
       "      <td id=\"T_7fdf1_row11_col3\" class=\"data row11 col3\" >66.2258</td>\n",
       "      <td id=\"T_7fdf1_row11_col4\" class=\"data row11 col4\" >-0.8494</td>\n",
       "      <td id=\"T_7fdf1_row11_col5\" class=\"data row11 col5\" >0.2208</td>\n",
       "      <td id=\"T_7fdf1_row11_col6\" class=\"data row11 col6\" >0.1676</td>\n",
       "      <td id=\"T_7fdf1_row11_col7\" class=\"data row11 col7\" >0.0533</td>\n",
       "    </tr>\n",
       "    <tr>\n",
       "      <th id=\"T_7fdf1_level0_row12\" class=\"row_heading level0 row12\" >dt</th>\n",
       "      <td id=\"T_7fdf1_row12_col0\" class=\"data row12 col0\" >Decision Tree Regressor</td>\n",
       "      <td id=\"T_7fdf1_row12_col1\" class=\"data row12 col1\" >55.1616</td>\n",
       "      <td id=\"T_7fdf1_row12_col2\" class=\"data row12 col2\" >4909.7071</td>\n",
       "      <td id=\"T_7fdf1_row12_col3\" class=\"data row12 col3\" >67.6420</td>\n",
       "      <td id=\"T_7fdf1_row12_col4\" class=\"data row12 col4\" >-0.9792</td>\n",
       "      <td id=\"T_7fdf1_row12_col5\" class=\"data row12 col5\" >0.2324</td>\n",
       "      <td id=\"T_7fdf1_row12_col6\" class=\"data row12 col6\" >0.1745</td>\n",
       "      <td id=\"T_7fdf1_row12_col7\" class=\"data row12 col7\" >0.0100</td>\n",
       "    </tr>\n",
       "    <tr>\n",
       "      <th id=\"T_7fdf1_level0_row13\" class=\"row_heading level0 row13\" >ada</th>\n",
       "      <td id=\"T_7fdf1_row13_col0\" class=\"data row13 col0\" >AdaBoost Regressor</td>\n",
       "      <td id=\"T_7fdf1_row13_col1\" class=\"data row13 col1\" >63.2695</td>\n",
       "      <td id=\"T_7fdf1_row13_col2\" class=\"data row13 col2\" >5882.1461</td>\n",
       "      <td id=\"T_7fdf1_row13_col3\" class=\"data row13 col3\" >74.5393</td>\n",
       "      <td id=\"T_7fdf1_row13_col4\" class=\"data row13 col4\" >-1.4005</td>\n",
       "      <td id=\"T_7fdf1_row13_col5\" class=\"data row13 col5\" >0.2608</td>\n",
       "      <td id=\"T_7fdf1_row13_col6\" class=\"data row13 col6\" >0.1999</td>\n",
       "      <td id=\"T_7fdf1_row13_col7\" class=\"data row13 col7\" >0.0233</td>\n",
       "    </tr>\n",
       "    <tr>\n",
       "      <th id=\"T_7fdf1_level0_row14\" class=\"row_heading level0 row14\" >knn</th>\n",
       "      <td id=\"T_7fdf1_row14_col0\" class=\"data row14 col0\" >K Neighbors Regressor</td>\n",
       "      <td id=\"T_7fdf1_row14_col1\" class=\"data row14 col1\" >63.9905</td>\n",
       "      <td id=\"T_7fdf1_row14_col2\" class=\"data row14 col2\" >7090.8256</td>\n",
       "      <td id=\"T_7fdf1_row14_col3\" class=\"data row14 col3\" >78.6650</td>\n",
       "      <td id=\"T_7fdf1_row14_col4\" class=\"data row14 col4\" >-1.4488</td>\n",
       "      <td id=\"T_7fdf1_row14_col5\" class=\"data row14 col5\" >0.2581</td>\n",
       "      <td id=\"T_7fdf1_row14_col6\" class=\"data row14 col6\" >0.1879</td>\n",
       "      <td id=\"T_7fdf1_row14_col7\" class=\"data row14 col7\" >0.0200</td>\n",
       "    </tr>\n",
       "    <tr>\n",
       "      <th id=\"T_7fdf1_level0_row15\" class=\"row_heading level0 row15\" >lightgbm</th>\n",
       "      <td id=\"T_7fdf1_row15_col0\" class=\"data row15 col0\" >Light Gradient Boosting Machine</td>\n",
       "      <td id=\"T_7fdf1_row15_col1\" class=\"data row15 col1\" >75.6311</td>\n",
       "      <td id=\"T_7fdf1_row15_col2\" class=\"data row15 col2\" >7274.8375</td>\n",
       "      <td id=\"T_7fdf1_row15_col3\" class=\"data row15 col3\" >85.0035</td>\n",
       "      <td id=\"T_7fdf1_row15_col4\" class=\"data row15 col4\" >-2.6040</td>\n",
       "      <td id=\"T_7fdf1_row15_col5\" class=\"data row15 col5\" >0.3238</td>\n",
       "      <td id=\"T_7fdf1_row15_col6\" class=\"data row15 col6\" >0.2503</td>\n",
       "      <td id=\"T_7fdf1_row15_col7\" class=\"data row15 col7\" >0.0300</td>\n",
       "    </tr>\n",
       "    <tr>\n",
       "      <th id=\"T_7fdf1_level0_row16\" class=\"row_heading level0 row16\" >dummy</th>\n",
       "      <td id=\"T_7fdf1_row16_col0\" class=\"data row16 col0\" >Dummy Regressor</td>\n",
       "      <td id=\"T_7fdf1_row16_col1\" class=\"data row16 col1\" >129.0126</td>\n",
       "      <td id=\"T_7fdf1_row16_col2\" class=\"data row16 col2\" >21856.8627</td>\n",
       "      <td id=\"T_7fdf1_row16_col3\" class=\"data row16 col3\" >138.1257</td>\n",
       "      <td id=\"T_7fdf1_row16_col4\" class=\"data row16 col4\" >-6.5548</td>\n",
       "      <td id=\"T_7fdf1_row16_col5\" class=\"data row16 col5\" >0.5446</td>\n",
       "      <td id=\"T_7fdf1_row16_col6\" class=\"data row16 col6\" >0.3958</td>\n",
       "      <td id=\"T_7fdf1_row16_col7\" class=\"data row16 col7\" >0.0133</td>\n",
       "    </tr>\n",
       "    <tr>\n",
       "      <th id=\"T_7fdf1_level0_row17\" class=\"row_heading level0 row17\" >par</th>\n",
       "      <td id=\"T_7fdf1_row17_col0\" class=\"data row17 col0\" >Passive Aggressive Regressor</td>\n",
       "      <td id=\"T_7fdf1_row17_col1\" class=\"data row17 col1\" >173.5759</td>\n",
       "      <td id=\"T_7fdf1_row17_col2\" class=\"data row17 col2\" >33683.0407</td>\n",
       "      <td id=\"T_7fdf1_row17_col3\" class=\"data row17 col3\" >180.7955</td>\n",
       "      <td id=\"T_7fdf1_row17_col4\" class=\"data row17 col4\" >-17.6483</td>\n",
       "      <td id=\"T_7fdf1_row17_col5\" class=\"data row17 col5\" >1.2368</td>\n",
       "      <td id=\"T_7fdf1_row17_col6\" class=\"data row17 col6\" >0.6075</td>\n",
       "      <td id=\"T_7fdf1_row17_col7\" class=\"data row17 col7\" >0.0100</td>\n",
       "    </tr>\n",
       "  </tbody>\n",
       "</table>\n"
      ],
      "text/plain": [
       "<pandas.io.formats.style.Styler at 0x258f9213640>"
      ]
     },
     "metadata": {},
     "output_type": "display_data"
    },
    {
     "data": {
      "text/html": [],
      "text/plain": [
       "<IPython.core.display.HTML object>"
      ]
     },
     "metadata": {},
     "output_type": "display_data"
    }
   ],
   "source": [
    "best = compare_models(sort = 'MAE')"
   ]
  }
 ],
 "metadata": {
  "kernelspec": {
   "display_name": "Python 3",
   "language": "python",
   "name": "python3"
  },
  "language_info": {
   "codemirror_mode": {
    "name": "ipython",
    "version": 3
   },
   "file_extension": ".py",
   "mimetype": "text/x-python",
   "name": "python",
   "nbconvert_exporter": "python",
   "pygments_lexer": "ipython3",
   "version": "3.10.13"
  }
 },
 "nbformat": 4,
 "nbformat_minor": 2
}
