{
 "cells": [
  {
   "cell_type": "markdown",
   "metadata": {},
   "source": [
    "### **Librerias**"
   ]
  },
  {
   "cell_type": "code",
   "execution_count": 1,
   "metadata": {},
   "outputs": [],
   "source": [
    "import pandas as pd\n",
    "import numpy as np\n",
    "import matplotlib.pyplot as plt\n",
    "import seaborn as sns\n",
    "from sklearn.metrics import confusion_matrix,ConfusionMatrixDisplay\n",
    "from sklearn.linear_model import LinearRegression\n",
    "from sklearn.preprocessing import StandardScaler\n",
    "from sklearn.model_selection import train_test_split\n",
    "import pycaret\n",
    "from pmdarima import plot_acf\n",
    "pd.options.display.max_rows = 20\n",
    "import warnings\n",
    "warnings.filterwarnings('ignore')"
   ]
  },
  {
   "cell_type": "markdown",
   "metadata": {},
   "source": [
    "## **Etapa 0: Crear Data Set**"
   ]
  },
  {
   "cell_type": "markdown",
   "metadata": {},
   "source": [
    "### PIB"
   ]
  },
  {
   "cell_type": "code",
   "execution_count": 2,
   "metadata": {},
   "outputs": [
    {
     "data": {
      "text/plain": [
       "(4410, 11)"
      ]
     },
     "execution_count": 2,
     "metadata": {},
     "output_type": "execute_result"
    }
   ],
   "source": [
    "PIB = pd.read_csv('./Datos/PIB.csv', sep=',',encoding='latin-1')\n",
    "PIB = PIB[(PIB['year']>=2000) & (PIB['year']<=2020)]\n",
    "PIB['year'] = PIB['year'].astype('int')\n",
    "PIB['key'] = [(str((PIB.iloc[i,4])).lower()+'-'+str(PIB.iloc[i,6])) for i in range(len(PIB['country_name']))]\n",
    "PIB = PIB.sort_values(by=['country_name'])\n",
    "PIB.shape"
   ]
  },
  {
   "cell_type": "markdown",
   "metadata": {},
   "source": [
    "### Complejidad Economica"
   ]
  },
  {
   "cell_type": "code",
   "execution_count": 3,
   "metadata": {},
   "outputs": [],
   "source": [
    "Data_ECI = pd.read_csv('./Datos/ECI_Data.csv',sep=',',encoding='latin-1')\n",
    "Data_ECI = Data_ECI.transpose()\n",
    "Data_ECI = Data_ECI[2:].transpose()\n",
    "Data_ECI.dropna(inplace=True)"
   ]
  },
  {
   "cell_type": "code",
   "execution_count": 4,
   "metadata": {},
   "outputs": [
    {
     "data": {
      "text/plain": [
       "(1953, 4)"
      ]
     },
     "execution_count": 4,
     "metadata": {},
     "output_type": "execute_result"
    }
   ],
   "source": [
    "complexity = []\n",
    "pais = []\n",
    "año = []\n",
    "for i in range(len(Data_ECI.iloc[:,:0])):\n",
    "    for j in range(len(Data_ECI.iloc[0,:-3])):\n",
    "        pais.append(Data_ECI.iloc[i,22])\n",
    "        año.append((Data_ECI.columns[j]))\n",
    "        complexity.append(Data_ECI.iloc[i,j])\n",
    "ECI = pd.DataFrame()\n",
    "ECI['Pais'] = pais\n",
    "ECI['ECI'] = complexity\n",
    "ECI['año'] = año\n",
    "ECI['año'] = ECI['año'].astype('int')\n",
    "ECI['key'] = [(str(ECI.iloc[i,0]).lower()+'-'+str(ECI.iloc[i,2])) for i in range(len(ECI['año']))]\n",
    "ECI = ECI.sort_values(by=['Pais'])\n",
    "ECI.shape"
   ]
  },
  {
   "cell_type": "markdown",
   "metadata": {},
   "source": [
    "### Poblacion"
   ]
  },
  {
   "cell_type": "code",
   "execution_count": 5,
   "metadata": {},
   "outputs": [],
   "source": [
    "Data_Poblacion = pd.read_csv('./Datos/Poblacion_Data.csv', sep=',',encoding='latin-1')\n",
    "Data_Poblacion.dropna(inplace=True)"
   ]
  },
  {
   "cell_type": "code",
   "execution_count": 6,
   "metadata": {},
   "outputs": [],
   "source": [
    "Poblacion = []\n",
    "pais_p = []\n",
    "año = []\n",
    "for i in range(len(Data_Poblacion.iloc[:,:0])):\n",
    "    for j in range(len(Data_Poblacion.iloc[0,4:-2])):\n",
    "        pais_p.append(Data_Poblacion.iloc[i,0])\n",
    "        año.append(int(Data_Poblacion.columns[j+4]))\n",
    "        Poblacion.append(Data_Poblacion.iloc[i,j+4])\n",
    "Population = pd.DataFrame()\n",
    "Population['Pais'] = pais_p\n",
    "Population['Poblacion'] = Poblacion\n",
    "Population['año'] = año\n",
    "Population['key'] = [(str(Population.iloc[i,0]).lower()+'-'+str(Population.iloc[i,2])) for i in range(len(Population['año']))]\n",
    "Population = Population.sort_values(by=['Pais'])"
   ]
  },
  {
   "cell_type": "markdown",
   "metadata": {},
   "source": [
    "### Region"
   ]
  },
  {
   "cell_type": "code",
   "execution_count": 7,
   "metadata": {},
   "outputs": [
    {
     "data": {
      "text/plain": [
       "(244, 4)"
      ]
     },
     "execution_count": 7,
     "metadata": {},
     "output_type": "execute_result"
    }
   ],
   "source": [
    "cordenada = pd.read_csv('./Datos/country-coord.csv', sep=',',encoding='latin-1')\n",
    "cordenada['country'] = [(str(cordenada.iloc[i,0]).lower()) for i in range(len(cordenada['Country']))]\n",
    "cordenada.shape"
   ]
  },
  {
   "cell_type": "code",
   "execution_count": 8,
   "metadata": {},
   "outputs": [
    {
     "data": {
      "text/plain": [
       "65.0"
      ]
     },
     "execution_count": 8,
     "metadata": {},
     "output_type": "execute_result"
    }
   ],
   "source": [
    "cordenada.iloc[0,2]"
   ]
  },
  {
   "cell_type": "code",
   "execution_count": 9,
   "metadata": {},
   "outputs": [],
   "source": [
    "cordenada['Ecuador'] = [1 if (cordenada.iloc[i,1]<=27 and cordenada.iloc[i,1]>=-27) else 0 for i in range(len(cordenada['country']))]"
   ]
  },
  {
   "cell_type": "markdown",
   "metadata": {},
   "source": [
    "### Union DataFrames"
   ]
  },
  {
   "cell_type": "code",
   "execution_count": 10,
   "metadata": {},
   "outputs": [],
   "source": [
    "Data_final = PIB.merge(Population,left_on='key',right_on='key').merge(ECI,left_on='key',right_on='key')\n",
    "Data_final = Data_final[['Pais_x', 'Poblacion', 'total_gdp_million','ECI','año_x']]\n",
    "Data_final['country'] = [(str(Data_final.iloc[i,0]).lower()) for i in range(len(Data_final['Pais_x']))]\n",
    "Data_final = pd.merge(Data_final, cordenada, on ='country', how ='inner')\n",
    "Data_final = Data_final[['Pais_x', 'Poblacion', 'total_gdp_million','ECI','año_x','Ecuador']]\n",
    "Data_final.to_csv('Datos/Crecimiento_ec.csv')"
   ]
  },
  {
   "cell_type": "markdown",
   "metadata": {},
   "source": [
    "## **Etapa 1: Entender los Datos**"
   ]
  },
  {
   "cell_type": "code",
   "execution_count": 11,
   "metadata": {},
   "outputs": [
    {
     "data": {
      "text/html": [
       "<div>\n",
       "<style scoped>\n",
       "    .dataframe tbody tr th:only-of-type {\n",
       "        vertical-align: middle;\n",
       "    }\n",
       "\n",
       "    .dataframe tbody tr th {\n",
       "        vertical-align: top;\n",
       "    }\n",
       "\n",
       "    .dataframe thead th {\n",
       "        text-align: right;\n",
       "    }\n",
       "</style>\n",
       "<table border=\"1\" class=\"dataframe\">\n",
       "  <thead>\n",
       "    <tr style=\"text-align: right;\">\n",
       "      <th></th>\n",
       "      <th>Pais_x</th>\n",
       "      <th>Poblacion</th>\n",
       "      <th>total_gdp_million</th>\n",
       "      <th>ECI</th>\n",
       "      <th>año_x</th>\n",
       "      <th>Ecuador</th>\n",
       "      <th>año</th>\n",
       "    </tr>\n",
       "  </thead>\n",
       "  <tbody>\n",
       "    <tr>\n",
       "      <th>0</th>\n",
       "      <td>Algeria</td>\n",
       "      <td>42705368.0</td>\n",
       "      <td>171767.403700</td>\n",
       "      <td>-1.042459</td>\n",
       "      <td>2019</td>\n",
       "      <td>0</td>\n",
       "      <td>2019-01</td>\n",
       "    </tr>\n",
       "    <tr>\n",
       "      <th>1</th>\n",
       "      <td>Algeria</td>\n",
       "      <td>43451666.0</td>\n",
       "      <td>145009.181500</td>\n",
       "      <td>-1.206390</td>\n",
       "      <td>2020</td>\n",
       "      <td>0</td>\n",
       "      <td>2020-01</td>\n",
       "    </tr>\n",
       "    <tr>\n",
       "      <th>2</th>\n",
       "      <td>Algeria</td>\n",
       "      <td>30774621.0</td>\n",
       "      <td>54790.392750</td>\n",
       "      <td>-1.064802</td>\n",
       "      <td>2000</td>\n",
       "      <td>0</td>\n",
       "      <td>2000-01</td>\n",
       "    </tr>\n",
       "    <tr>\n",
       "      <th>3</th>\n",
       "      <td>Algeria</td>\n",
       "      <td>31200985.0</td>\n",
       "      <td>54744.712810</td>\n",
       "      <td>-0.804064</td>\n",
       "      <td>2001</td>\n",
       "      <td>0</td>\n",
       "      <td>2001-01</td>\n",
       "    </tr>\n",
       "    <tr>\n",
       "      <th>4</th>\n",
       "      <td>Algeria</td>\n",
       "      <td>31624696.0</td>\n",
       "      <td>56760.355870</td>\n",
       "      <td>-0.994074</td>\n",
       "      <td>2002</td>\n",
       "      <td>0</td>\n",
       "      <td>2002-01</td>\n",
       "    </tr>\n",
       "    <tr>\n",
       "      <th>...</th>\n",
       "      <td>...</td>\n",
       "      <td>...</td>\n",
       "      <td>...</td>\n",
       "      <td>...</td>\n",
       "      <td>...</td>\n",
       "      <td>...</td>\n",
       "      <td>...</td>\n",
       "    </tr>\n",
       "    <tr>\n",
       "      <th>1570</th>\n",
       "      <td>Zimbabwe</td>\n",
       "      <td>11984644.0</td>\n",
       "      <td>6342.116400</td>\n",
       "      <td>-0.342388</td>\n",
       "      <td>2002</td>\n",
       "      <td>1</td>\n",
       "      <td>2002-01</td>\n",
       "    </tr>\n",
       "    <tr>\n",
       "      <th>1571</th>\n",
       "      <td>Zimbabwe</td>\n",
       "      <td>11910978.0</td>\n",
       "      <td>6777.384700</td>\n",
       "      <td>-0.393783</td>\n",
       "      <td>2001</td>\n",
       "      <td>1</td>\n",
       "      <td>2001-01</td>\n",
       "    </tr>\n",
       "    <tr>\n",
       "      <th>1572</th>\n",
       "      <td>Zimbabwe</td>\n",
       "      <td>11834676.0</td>\n",
       "      <td>6689.957600</td>\n",
       "      <td>-0.288579</td>\n",
       "      <td>2000</td>\n",
       "      <td>1</td>\n",
       "      <td>2000-01</td>\n",
       "    </tr>\n",
       "    <tr>\n",
       "      <th>1573</th>\n",
       "      <td>Zimbabwe</td>\n",
       "      <td>12679810.0</td>\n",
       "      <td>9665.793264</td>\n",
       "      <td>-0.381771</td>\n",
       "      <td>2009</td>\n",
       "      <td>1</td>\n",
       "      <td>2009-01</td>\n",
       "    </tr>\n",
       "    <tr>\n",
       "      <th>1574</th>\n",
       "      <td>Zimbabwe</td>\n",
       "      <td>15669666.0</td>\n",
       "      <td>21509.698410</td>\n",
       "      <td>-0.893569</td>\n",
       "      <td>2020</td>\n",
       "      <td>1</td>\n",
       "      <td>2020-01</td>\n",
       "    </tr>\n",
       "  </tbody>\n",
       "</table>\n",
       "<p>1575 rows × 7 columns</p>\n",
       "</div>"
      ],
      "text/plain": [
       "        Pais_x   Poblacion  total_gdp_million       ECI  año_x  Ecuador  \\\n",
       "0      Algeria  42705368.0      171767.403700 -1.042459   2019        0   \n",
       "1      Algeria  43451666.0      145009.181500 -1.206390   2020        0   \n",
       "2      Algeria  30774621.0       54790.392750 -1.064802   2000        0   \n",
       "3      Algeria  31200985.0       54744.712810 -0.804064   2001        0   \n",
       "4      Algeria  31624696.0       56760.355870 -0.994074   2002        0   \n",
       "...        ...         ...                ...       ...    ...      ...   \n",
       "1570  Zimbabwe  11984644.0        6342.116400 -0.342388   2002        1   \n",
       "1571  Zimbabwe  11910978.0        6777.384700 -0.393783   2001        1   \n",
       "1572  Zimbabwe  11834676.0        6689.957600 -0.288579   2000        1   \n",
       "1573  Zimbabwe  12679810.0        9665.793264 -0.381771   2009        1   \n",
       "1574  Zimbabwe  15669666.0       21509.698410 -0.893569   2020        1   \n",
       "\n",
       "          año  \n",
       "0     2019-01  \n",
       "1     2020-01  \n",
       "2     2000-01  \n",
       "3     2001-01  \n",
       "4     2002-01  \n",
       "...       ...  \n",
       "1570  2002-01  \n",
       "1571  2001-01  \n",
       "1572  2000-01  \n",
       "1573  2009-01  \n",
       "1574  2020-01  \n",
       "\n",
       "[1575 rows x 7 columns]"
      ]
     },
     "execution_count": 11,
     "metadata": {},
     "output_type": "execute_result"
    }
   ],
   "source": [
    "Data = pd.read_csv('./Datos/Crecimiento_ec.csv')\n",
    "Data.drop('Unnamed: 0',axis=1,inplace=True)\n",
    "Data['año'] = [\"\".join([str(Data.iloc[i,4]),\"-01\"]) for i in range(len(Data.año_x))]\n",
    "Data"
   ]
  },
  {
   "cell_type": "code",
   "execution_count": 12,
   "metadata": {},
   "outputs": [
    {
     "data": {
      "text/html": [
       "<div>\n",
       "<style scoped>\n",
       "    .dataframe tbody tr th:only-of-type {\n",
       "        vertical-align: middle;\n",
       "    }\n",
       "\n",
       "    .dataframe tbody tr th {\n",
       "        vertical-align: top;\n",
       "    }\n",
       "\n",
       "    .dataframe thead th {\n",
       "        text-align: right;\n",
       "    }\n",
       "</style>\n",
       "<table border=\"1\" class=\"dataframe\">\n",
       "  <thead>\n",
       "    <tr style=\"text-align: right;\">\n",
       "      <th></th>\n",
       "      <th>Pais_x</th>\n",
       "      <th>Poblacion</th>\n",
       "      <th>total_gdp_million</th>\n",
       "      <th>ECI</th>\n",
       "      <th>año_x</th>\n",
       "      <th>Ecuador</th>\n",
       "      <th>año</th>\n",
       "    </tr>\n",
       "  </thead>\n",
       "  <tbody>\n",
       "    <tr>\n",
       "      <th>0</th>\n",
       "      <td>Algeria</td>\n",
       "      <td>42705368.0</td>\n",
       "      <td>171767.40370</td>\n",
       "      <td>-1.042459</td>\n",
       "      <td>2019</td>\n",
       "      <td>0</td>\n",
       "      <td>2019-01</td>\n",
       "    </tr>\n",
       "    <tr>\n",
       "      <th>1</th>\n",
       "      <td>Algeria</td>\n",
       "      <td>43451666.0</td>\n",
       "      <td>145009.18150</td>\n",
       "      <td>-1.206390</td>\n",
       "      <td>2020</td>\n",
       "      <td>0</td>\n",
       "      <td>2020-01</td>\n",
       "    </tr>\n",
       "    <tr>\n",
       "      <th>2</th>\n",
       "      <td>Algeria</td>\n",
       "      <td>30774621.0</td>\n",
       "      <td>54790.39275</td>\n",
       "      <td>-1.064802</td>\n",
       "      <td>2000</td>\n",
       "      <td>0</td>\n",
       "      <td>2000-01</td>\n",
       "    </tr>\n",
       "    <tr>\n",
       "      <th>3</th>\n",
       "      <td>Algeria</td>\n",
       "      <td>31200985.0</td>\n",
       "      <td>54744.71281</td>\n",
       "      <td>-0.804064</td>\n",
       "      <td>2001</td>\n",
       "      <td>0</td>\n",
       "      <td>2001-01</td>\n",
       "    </tr>\n",
       "    <tr>\n",
       "      <th>4</th>\n",
       "      <td>Algeria</td>\n",
       "      <td>31624696.0</td>\n",
       "      <td>56760.35587</td>\n",
       "      <td>-0.994074</td>\n",
       "      <td>2002</td>\n",
       "      <td>0</td>\n",
       "      <td>2002-01</td>\n",
       "    </tr>\n",
       "  </tbody>\n",
       "</table>\n",
       "</div>"
      ],
      "text/plain": [
       "    Pais_x   Poblacion  total_gdp_million       ECI  año_x  Ecuador      año\n",
       "0  Algeria  42705368.0       171767.40370 -1.042459   2019        0  2019-01\n",
       "1  Algeria  43451666.0       145009.18150 -1.206390   2020        0  2020-01\n",
       "2  Algeria  30774621.0        54790.39275 -1.064802   2000        0  2000-01\n",
       "3  Algeria  31200985.0        54744.71281 -0.804064   2001        0  2001-01\n",
       "4  Algeria  31624696.0        56760.35587 -0.994074   2002        0  2002-01"
      ]
     },
     "execution_count": 12,
     "metadata": {},
     "output_type": "execute_result"
    }
   ],
   "source": [
    "Data.head(5)"
   ]
  },
  {
   "cell_type": "code",
   "execution_count": 13,
   "metadata": {},
   "outputs": [
    {
     "name": "stdout",
     "output_type": "stream",
     "text": [
      "<class 'pandas.core.frame.DataFrame'>\n",
      "RangeIndex: 1575 entries, 0 to 1574\n",
      "Data columns (total 7 columns):\n",
      " #   Column             Non-Null Count  Dtype  \n",
      "---  ------             --------------  -----  \n",
      " 0   Pais_x             1575 non-null   object \n",
      " 1   Poblacion          1575 non-null   float64\n",
      " 2   total_gdp_million  1575 non-null   float64\n",
      " 3   ECI                1575 non-null   float64\n",
      " 4   año_x              1575 non-null   int64  \n",
      " 5   Ecuador            1575 non-null   int64  \n",
      " 6   año                1575 non-null   object \n",
      "dtypes: float64(3), int64(2), object(2)\n",
      "memory usage: 86.3+ KB\n"
     ]
    }
   ],
   "source": [
    "Data.info()"
   ]
  },
  {
   "cell_type": "code",
   "execution_count": 14,
   "metadata": {},
   "outputs": [],
   "source": [
    "def timeline(columna):\n",
    "    time = pd.pivot_table(Data,values=columna,columns=['año_x'],aggfunc='mean')\n",
    "    return time\n",
    "    "
   ]
  },
  {
   "cell_type": "code",
   "execution_count": 15,
   "metadata": {},
   "outputs": [
    {
     "data": {
      "image/png": "[encoded data removed]",
      "text/plain": [
       "<Figure size 500x500 with 1 Axes>"
      ]
     },
     "metadata": {},
     "output_type": "display_data"
    }
   ],
   "source": [
    "fig,ax = plt.subplots(1,sharex=True,figsize=(5,5))\n",
    "ax = sns.barplot(timeline('total_gdp_million'))\n",
    "ax.set_xticklabels(ax.get_xticklabels(),rotation=90)\n",
    "plt.title('PIB en Millones de USD')\n",
    "plt.show()"
   ]
  },
  {
   "cell_type": "code",
   "execution_count": 16,
   "metadata": {},
   "outputs": [
    {
     "data": {
      "image/png": "[encoded data removed]",
      "text/plain": [
       "<Figure size 500x500 with 1 Axes>"
      ]
     },
     "metadata": {},
     "output_type": "display_data"
    }
   ],
   "source": [
    "fig,ax = plt.subplots(1,sharex=True,figsize=(5,5))\n",
    "ax = sns.barplot(timeline('ECI'))\n",
    "ax.set_xticklabels(ax.get_xticklabels(),rotation=90)\n",
    "plt.title('ECI')\n",
    "plt.show()"
   ]
  },
  {
   "cell_type": "code",
   "execution_count": 17,
   "metadata": {},
   "outputs": [
    {
     "data": {
      "image/png": "[encoded data removed]",
      "text/plain": [
       "<Figure size 500x500 with 1 Axes>"
      ]
     },
     "metadata": {},
     "output_type": "display_data"
    }
   ],
   "source": [
    "fig,ax = plt.subplots(1,sharex=True,figsize=(5, 5))\n",
    "ax = sns.barplot(timeline('Poblacion'))\n",
    "ax.set_xticklabels(ax.get_xticklabels(),rotation=90)\n",
    "plt.title('Poblacion')\n",
    "plt.show()"
   ]
  },
  {
   "cell_type": "code",
   "execution_count": 18,
   "metadata": {},
   "outputs": [
    {
     "name": "stdout",
     "output_type": "stream",
     "text": [
      "Hay un total de 75 paises con los cuales trabajar\n"
     ]
    }
   ],
   "source": [
    "print(f'Hay un total de {len(Data.Pais_x.unique())} paises con los cuales trabajar')"
   ]
  },
  {
   "cell_type": "markdown",
   "metadata": {},
   "source": [
    "## **Etapa 2: Revisar problemas en Series de Tiempo**"
   ]
  },
  {
   "cell_type": "code",
   "execution_count": 19,
   "metadata": {},
   "outputs": [],
   "source": [
    "from pycaret.regression import *\n",
    "from pycaret.regression import RegressionExperiment\n",
    "from statsmodels.stats.outliers_influence import variance_inflation_factor\n",
    "exp = RegressionExperiment()"
   ]
  },
  {
   "cell_type": "code",
   "execution_count": 20,
   "metadata": {},
   "outputs": [],
   "source": [
    "X = Data[['Poblacion', 'ECI', 'año_x', 'Ecuador']]\n",
    "Y = Data['total_gdp_million']"
   ]
  },
  {
   "cell_type": "code",
   "execution_count": 21,
   "metadata": {},
   "outputs": [],
   "source": [
    "X_train, X_test, y_train, y_test = train_test_split(X, Y, random_state=42)"
   ]
  },
  {
   "cell_type": "code",
   "execution_count": 22,
   "metadata": {},
   "outputs": [
    {
     "data": {
      "text/html": [
       "<div>\n",
       "<style scoped>\n",
       "    .dataframe tbody tr th:only-of-type {\n",
       "        vertical-align: middle;\n",
       "    }\n",
       "\n",
       "    .dataframe tbody tr th {\n",
       "        vertical-align: top;\n",
       "    }\n",
       "\n",
       "    .dataframe thead th {\n",
       "        text-align: right;\n",
       "    }\n",
       "</style>\n",
       "<table border=\"1\" class=\"dataframe\">\n",
       "  <thead>\n",
       "    <tr style=\"text-align: right;\">\n",
       "      <th></th>\n",
       "      <th>Pais_x</th>\n",
       "      <th>Poblacion</th>\n",
       "      <th>total_gdp_million</th>\n",
       "      <th>ECI</th>\n",
       "      <th>año_x</th>\n",
       "      <th>Ecuador</th>\n",
       "      <th>año</th>\n",
       "    </tr>\n",
       "  </thead>\n",
       "  <tbody>\n",
       "    <tr>\n",
       "      <th>0</th>\n",
       "      <td>Algeria</td>\n",
       "      <td>42705368.0</td>\n",
       "      <td>171767.403700</td>\n",
       "      <td>-1.042459</td>\n",
       "      <td>2019</td>\n",
       "      <td>0</td>\n",
       "      <td>2019-01</td>\n",
       "    </tr>\n",
       "    <tr>\n",
       "      <th>1</th>\n",
       "      <td>Algeria</td>\n",
       "      <td>43451666.0</td>\n",
       "      <td>145009.181500</td>\n",
       "      <td>-1.206390</td>\n",
       "      <td>2020</td>\n",
       "      <td>0</td>\n",
       "      <td>2020-01</td>\n",
       "    </tr>\n",
       "    <tr>\n",
       "      <th>2</th>\n",
       "      <td>Algeria</td>\n",
       "      <td>30774621.0</td>\n",
       "      <td>54790.392750</td>\n",
       "      <td>-1.064802</td>\n",
       "      <td>2000</td>\n",
       "      <td>0</td>\n",
       "      <td>2000-01</td>\n",
       "    </tr>\n",
       "    <tr>\n",
       "      <th>3</th>\n",
       "      <td>Algeria</td>\n",
       "      <td>31200985.0</td>\n",
       "      <td>54744.712810</td>\n",
       "      <td>-0.804064</td>\n",
       "      <td>2001</td>\n",
       "      <td>0</td>\n",
       "      <td>2001-01</td>\n",
       "    </tr>\n",
       "    <tr>\n",
       "      <th>4</th>\n",
       "      <td>Algeria</td>\n",
       "      <td>31624696.0</td>\n",
       "      <td>56760.355870</td>\n",
       "      <td>-0.994074</td>\n",
       "      <td>2002</td>\n",
       "      <td>0</td>\n",
       "      <td>2002-01</td>\n",
       "    </tr>\n",
       "    <tr>\n",
       "      <th>...</th>\n",
       "      <td>...</td>\n",
       "      <td>...</td>\n",
       "      <td>...</td>\n",
       "      <td>...</td>\n",
       "      <td>...</td>\n",
       "      <td>...</td>\n",
       "      <td>...</td>\n",
       "    </tr>\n",
       "    <tr>\n",
       "      <th>1570</th>\n",
       "      <td>Zimbabwe</td>\n",
       "      <td>11984644.0</td>\n",
       "      <td>6342.116400</td>\n",
       "      <td>-0.342388</td>\n",
       "      <td>2002</td>\n",
       "      <td>1</td>\n",
       "      <td>2002-01</td>\n",
       "    </tr>\n",
       "    <tr>\n",
       "      <th>1571</th>\n",
       "      <td>Zimbabwe</td>\n",
       "      <td>11910978.0</td>\n",
       "      <td>6777.384700</td>\n",
       "      <td>-0.393783</td>\n",
       "      <td>2001</td>\n",
       "      <td>1</td>\n",
       "      <td>2001-01</td>\n",
       "    </tr>\n",
       "    <tr>\n",
       "      <th>1572</th>\n",
       "      <td>Zimbabwe</td>\n",
       "      <td>11834676.0</td>\n",
       "      <td>6689.957600</td>\n",
       "      <td>-0.288579</td>\n",
       "      <td>2000</td>\n",
       "      <td>1</td>\n",
       "      <td>2000-01</td>\n",
       "    </tr>\n",
       "    <tr>\n",
       "      <th>1573</th>\n",
       "      <td>Zimbabwe</td>\n",
       "      <td>12679810.0</td>\n",
       "      <td>9665.793264</td>\n",
       "      <td>-0.381771</td>\n",
       "      <td>2009</td>\n",
       "      <td>1</td>\n",
       "      <td>2009-01</td>\n",
       "    </tr>\n",
       "    <tr>\n",
       "      <th>1574</th>\n",
       "      <td>Zimbabwe</td>\n",
       "      <td>15669666.0</td>\n",
       "      <td>21509.698410</td>\n",
       "      <td>-0.893569</td>\n",
       "      <td>2020</td>\n",
       "      <td>1</td>\n",
       "      <td>2020-01</td>\n",
       "    </tr>\n",
       "  </tbody>\n",
       "</table>\n",
       "<p>1575 rows × 7 columns</p>\n",
       "</div>"
      ],
      "text/plain": [
       "        Pais_x   Poblacion  total_gdp_million       ECI  año_x  Ecuador  \\\n",
       "0      Algeria  42705368.0      171767.403700 -1.042459   2019        0   \n",
       "1      Algeria  43451666.0      145009.181500 -1.206390   2020        0   \n",
       "2      Algeria  30774621.0       54790.392750 -1.064802   2000        0   \n",
       "3      Algeria  31200985.0       54744.712810 -0.804064   2001        0   \n",
       "4      Algeria  31624696.0       56760.355870 -0.994074   2002        0   \n",
       "...        ...         ...                ...       ...    ...      ...   \n",
       "1570  Zimbabwe  11984644.0        6342.116400 -0.342388   2002        1   \n",
       "1571  Zimbabwe  11910978.0        6777.384700 -0.393783   2001        1   \n",
       "1572  Zimbabwe  11834676.0        6689.957600 -0.288579   2000        1   \n",
       "1573  Zimbabwe  12679810.0        9665.793264 -0.381771   2009        1   \n",
       "1574  Zimbabwe  15669666.0       21509.698410 -0.893569   2020        1   \n",
       "\n",
       "          año  \n",
       "0     2019-01  \n",
       "1     2020-01  \n",
       "2     2000-01  \n",
       "3     2001-01  \n",
       "4     2002-01  \n",
       "...       ...  \n",
       "1570  2002-01  \n",
       "1571  2001-01  \n",
       "1572  2000-01  \n",
       "1573  2009-01  \n",
       "1574  2020-01  \n",
       "\n",
       "[1575 rows x 7 columns]"
      ]
     },
     "execution_count": 22,
     "metadata": {},
     "output_type": "execute_result"
    }
   ],
   "source": [
    "Data"
   ]
  },
  {
   "cell_type": "markdown",
   "metadata": {},
   "source": [
    "### ***Revisar Multicolinealidad***"
   ]
  },
  {
   "cell_type": "code",
   "execution_count": 23,
   "metadata": {},
   "outputs": [],
   "source": [
    "variables = Data_final.drop(columns=['Pais_x'])\n",
    "vif_data = pd.DataFrame()\n",
    "vif_data[\"Variable\"] = variables.columns\n",
    "vif_data[\"VIF\"] = [variance_inflation_factor(variables.values, i) for i in range(variables.shape[1])]"
   ]
  },
  {
   "cell_type": "code",
   "execution_count": 24,
   "metadata": {},
   "outputs": [
    {
     "name": "stdout",
     "output_type": "stream",
     "text": [
      "\n",
      "VIF:\n",
      "            Variable       VIF\n",
      "0          Poblacion  1.781558\n",
      "1  total_gdp_million  2.157813\n",
      "2                ECI  1.609753\n",
      "3              año_x  2.499387\n",
      "4            Ecuador  2.434782\n"
     ]
    }
   ],
   "source": [
    "print(\"\\nVIF:\")\n",
    "print(vif_data)"
   ]
  },
  {
   "cell_type": "markdown",
   "metadata": {},
   "source": [
    "Existe multicolinealidad leve entre los datos entre los datos, por lo que no necesariamente se debe eliminarla pues al ser una multicolinalidad moderada el modelo de regresion lineal puede seguir haciendo predicciones de manera correcta"
   ]
  },
  {
   "cell_type": "markdown",
   "metadata": {},
   "source": [
    "### ***Revisar Autocorrelacion***"
   ]
  },
  {
   "cell_type": "code",
   "execution_count": 25,
   "metadata": {},
   "outputs": [],
   "source": [
    "import statsmodels.api as sm\n",
    "from statsmodels.formula.api import ols\n",
    "from statsmodels.graphics import tsaplots\n",
    "from statsmodels.stats.stattools import durbin_watson\n",
    "from statsmodels.tsa.stattools import adfuller"
   ]
  },
  {
   "cell_type": "code",
   "execution_count": 26,
   "metadata": {},
   "outputs": [],
   "source": [
    "X = np.array(Data_final.ECI)"
   ]
  },
  {
   "cell_type": "code",
   "execution_count": 27,
   "metadata": {},
   "outputs": [
    {
     "data": {
      "text/plain": [
       "array([ 1.        ,  0.93415228,  0.8822679 ,  0.83326927,  0.77894522,\n",
       "        0.73213627,  0.68247589,  0.63280588,  0.58410197,  0.53776899,\n",
       "        0.48695291,  0.43925635,  0.38624893,  0.33911762,  0.29653167,\n",
       "        0.25193233,  0.20665067,  0.16616246,  0.12236616,  0.07985138,\n",
       "        0.0391977 , -0.00415941, -0.00252875,  0.00209584,  0.00827472,\n",
       "        0.0129243 ,  0.01555542,  0.02091416,  0.02548139,  0.03079507,\n",
       "        0.03464726,  0.03835648])"
      ]
     },
     "execution_count": 27,
     "metadata": {},
     "output_type": "execute_result"
    }
   ],
   "source": [
    "sm.tsa.acf (X)"
   ]
  },
  {
   "cell_type": "code",
   "execution_count": 28,
   "metadata": {},
   "outputs": [
    {
     "data": {
      "image/png": "[encoded data removed]",
      "text/plain": [
       "<Figure size 800x550 with 1 Axes>"
      ]
     },
     "metadata": {},
     "output_type": "display_data"
    }
   ],
   "source": [
    "fig = tsaplots.plot_acf(X,lags=21)\n",
    "plt.show ()"
   ]
  },
  {
   "cell_type": "code",
   "execution_count": 29,
   "metadata": {},
   "outputs": [
    {
     "data": {
      "text/plain": [
       "0.28431927577944044"
      ]
     },
     "execution_count": 29,
     "metadata": {},
     "output_type": "execute_result"
    }
   ],
   "source": [
    "model_1 = ols('total_gdp_million ~ Poblacion + ECI + Ecuador', data=Data_final).fit()\n",
    "durbin_watson(model_1.resid)"
   ]
  },
  {
   "cell_type": "code",
   "execution_count": 30,
   "metadata": {},
   "outputs": [
    {
     "data": {
      "text/plain": [
       "0.273151820843164"
      ]
     },
     "execution_count": 30,
     "metadata": {},
     "output_type": "execute_result"
    }
   ],
   "source": [
    "model_2 = ols('total_gdp_million ~ Poblacion + Ecuador ', data=Data_final).fit()\n",
    "durbin_watson(model_2.resid)"
   ]
  },
  {
   "cell_type": "code",
   "execution_count": 31,
   "metadata": {},
   "outputs": [
    {
     "data": {
      "text/plain": [
       "0.2823922478876901"
      ]
     },
     "execution_count": 31,
     "metadata": {},
     "output_type": "execute_result"
    }
   ],
   "source": [
    "model_3 = ols('total_gdp_million ~ ECI + Poblacion ', data=Data_final).fit()\n",
    "durbin_watson(model_3.resid)"
   ]
  },
  {
   "cell_type": "markdown",
   "metadata": {},
   "source": [
    "* En este caso se observa que el modelo muestra autocorrelacion pues se trata de Datos de panel los cuales tienen una componente temporal, en este caso la prueba de DurbiWatson para los 3 modelos arroja el valor de ***ρ*** cercado a 0 [0.28,0.27,1.8] entrando en el rango de 0<***ρ***<1 dando un DW = 2 (Durbin Watson) dando como resultado que el dataset tiene autocorrelacion positiva , lo que se refuerza al ver la grafica la cual solo en el rezago 21 tiene autocorrelacion de 0, mietras que a lo largo de la grafica siempre se observo que la autocorrelacion fue bajando pocco a poco.\n",
    "\n",
    "* El problema de que exista autocorrelacion es que el modelo al usar regresion lineal tendra problemas a la hora ajsutar el modelo pues puede generar un Coeficiente de Determinacion muy perfecto R<sup>2</sup>=1, lo que haria que existe overfitting en el modelo imposibilidanto la generalizacion de los datos.\n"
   ]
  },
  {
   "cell_type": "markdown",
   "metadata": {},
   "source": [
    "### ***Revisar Estacionariedad***"
   ]
  },
  {
   "cell_type": "code",
   "execution_count": 32,
   "metadata": {},
   "outputs": [
    {
     "data": {
      "application/vnd.plotly.v1+json": {
       "config": {
        "plotlyServerURL": "https://plot.ly"
       },
       "data": [
        {
         "hovertemplate": "variable=total_gdp_million<br>Time=%{x}<br>value=%{y}<extra></extra>",
         "legendgroup": "total_gdp_million",
         "line": {
          "color": "#636efa",
          "dash": "solid"
         },
         "marker": {
          "symbol": "circle"
         },
         "mode": "lines",
         "name": "total_gdp_million",
         "orientation": "v",
         "showlegend": true,
         "type": "scatter",
         "x": [
          "2000-01-01T00:00:00",
          "2001-01-01T00:00:00",
          "2002-01-01T00:00:00",
          "2003-01-01T00:00:00",
          "2004-01-01T00:00:00",
          "2005-01-01T00:00:00",
          "2006-01-01T00:00:00",
          "2007-01-01T00:00:00",
          "2008-01-01T00:00:00",
          "2009-01-01T00:00:00",
          "2010-01-01T00:00:00",
          "2011-01-01T00:00:00",
          "2012-01-01T00:00:00",
          "2013-01-01T00:00:00",
          "2014-01-01T00:00:00",
          "2015-01-01T00:00:00",
          "2016-01-01T00:00:00",
          "2017-01-01T00:00:00",
          "2018-01-01T00:00:00",
          "2019-01-01T00:00:00",
          "2020-01-01T00:00:00"
         ],
         "xaxis": "x",
         "y": [
          19209732.12693,
          18723853.669743,
          19359896.756855,
          22417373.372477,
          25655527.255202,
          27672677.063807,
          30026851.264877,
          34528658.414784,
          39308334.06246,
          37555869.253184,
          41646293.29776,
          47305688.73238,
          47807194.20387,
          49008877.00638,
          50066958.29542,
          46173299.43907,
          47129538.37544,
          50660526.697399996,
          54331340.40225,
          54668702.03018,
          52913960.34002
         ],
         "yaxis": "y"
        }
       ],
       "layout": {
        "legend": {
         "title": {
          "text": "variable"
         },
         "tracegroupgap": 0
        },
        "margin": {
         "t": 60
        },
        "template": {
         "data": {
          "bar": [
           {
            "error_x": {
             "color": "#f2f5fa"
            },
            "error_y": {
             "color": "#f2f5fa"
            },
            "marker": {
             "line": {
              "color": "rgb(17,17,17)",
              "width": 0.5
             },
             "pattern": {
              "fillmode": "overlay",
              "size": 10,
              "solidity": 0.2
             }
            },
            "type": "bar"
           }
          ],
          "barpolar": [
           {
            "marker": {
             "line": {
              "color": "rgb(17,17,17)",
              "width": 0.5
             },
             "pattern": {
              "fillmode": "overlay",
              "size": 10,
              "solidity": 0.2
             }
            },
            "type": "barpolar"
           }
          ],
          "carpet": [
           {
            "aaxis": {
             "endlinecolor": "#A2B1C6",
             "gridcolor": "#506784",
             "linecolor": "#506784",
             "minorgridcolor": "#506784",
             "startlinecolor": "#A2B1C6"
            },
            "baxis": {
             "endlinecolor": "#A2B1C6",
             "gridcolor": "#506784",
             "linecolor": "#506784",
             "minorgridcolor": "#506784",
             "startlinecolor": "#A2B1C6"
            },
            "type": "carpet"
           }
          ],
          "choropleth": [
           {
            "colorbar": {
             "outlinewidth": 0,
             "ticks": ""
            },
            "type": "choropleth"
           }
          ],
          "contour": [
           {
            "colorbar": {
             "outlinewidth": 0,
             "ticks": ""
            },
            "colorscale": [
             [
              0,
              "#0d0887"
             ],
             [
              0.1111111111111111,
              "#46039f"
             ],
             [
              0.2222222222222222,
              "#7201a8"
             ],
             [
              0.3333333333333333,
              "#9c179e"
             ],
             [
              0.4444444444444444,
              "#bd3786"
             ],
             [
              0.5555555555555556,
              "#d8576b"
             ],
             [
              0.6666666666666666,
              "#ed7953"
             ],
             [
              0.7777777777777778,
              "#fb9f3a"
             ],
             [
              0.8888888888888888,
              "#fdca26"
             ],
             [
              1,
              "#f0f921"
             ]
            ],
            "type": "contour"
           }
          ],
          "contourcarpet": [
           {
            "colorbar": {
             "outlinewidth": 0,
             "ticks": ""
            },
            "type": "contourcarpet"
           }
          ],
          "heatmap": [
           {
            "colorbar": {
             "outlinewidth": 0,
             "ticks": ""
            },
            "colorscale": [
             [
              0,
              "#0d0887"
             ],
             [
              0.1111111111111111,
              "#46039f"
             ],
             [
              0.2222222222222222,
              "#7201a8"
             ],
             [
              0.3333333333333333,
              "#9c179e"
             ],
             [
              0.4444444444444444,
              "#bd3786"
             ],
             [
              0.5555555555555556,
              "#d8576b"
             ],
             [
              0.6666666666666666,
              "#ed7953"
             ],
             [
              0.7777777777777778,
              "#fb9f3a"
             ],
             [
              0.8888888888888888,
              "#fdca26"
             ],
             [
              1,
              "#f0f921"
             ]
            ],
            "type": "heatmap"
           }
          ],
          "heatmapgl": [
           {
            "colorbar": {
             "outlinewidth": 0,
             "ticks": ""
            },
            "colorscale": [
             [
              0,
              "#0d0887"
             ],
             [
              0.1111111111111111,
              "#46039f"
             ],
             [
              0.2222222222222222,
              "#7201a8"
             ],
             [
              0.3333333333333333,
              "#9c179e"
             ],
             [
              0.4444444444444444,
              "#bd3786"
             ],
             [
              0.5555555555555556,
              "#d8576b"
             ],
             [
              0.6666666666666666,
              "#ed7953"
             ],
             [
              0.7777777777777778,
              "#fb9f3a"
             ],
             [
              0.8888888888888888,
              "#fdca26"
             ],
             [
              1,
              "#f0f921"
             ]
            ],
            "type": "heatmapgl"
           }
          ],
          "histogram": [
           {
            "marker": {
             "pattern": {
              "fillmode": "overlay",
              "size": 10,
              "solidity": 0.2
             }
            },
            "type": "histogram"
           }
          ],
          "histogram2d": [
           {
            "colorbar": {
             "outlinewidth": 0,
             "ticks": ""
            },
            "colorscale": [
             [
              0,
              "#0d0887"
             ],
             [
              0.1111111111111111,
              "#46039f"
             ],
             [
              0.2222222222222222,
              "#7201a8"
             ],
             [
              0.3333333333333333,
              "#9c179e"
             ],
             [
              0.4444444444444444,
              "#bd3786"
             ],
             [
              0.5555555555555556,
              "#d8576b"
             ],
             [
              0.6666666666666666,
              "#ed7953"
             ],
             [
              0.7777777777777778,
              "#fb9f3a"
             ],
             [
              0.8888888888888888,
              "#fdca26"
             ],
             [
              1,
              "#f0f921"
             ]
            ],
            "type": "histogram2d"
           }
          ],
          "histogram2dcontour": [
           {
            "colorbar": {
             "outlinewidth": 0,
             "ticks": ""
            },
            "colorscale": [
             [
              0,
              "#0d0887"
             ],
             [
              0.1111111111111111,
              "#46039f"
             ],
             [
              0.2222222222222222,
              "#7201a8"
             ],
             [
              0.3333333333333333,
              "#9c179e"
             ],
             [
              0.4444444444444444,
              "#bd3786"
             ],
             [
              0.5555555555555556,
              "#d8576b"
             ],
             [
              0.6666666666666666,
              "#ed7953"
             ],
             [
              0.7777777777777778,
              "#fb9f3a"
             ],
             [
              0.8888888888888888,
              "#fdca26"
             ],
             [
              1,
              "#f0f921"
             ]
            ],
            "type": "histogram2dcontour"
           }
          ],
          "mesh3d": [
           {
            "colorbar": {
             "outlinewidth": 0,
             "ticks": ""
            },
            "type": "mesh3d"
           }
          ],
          "parcoords": [
           {
            "line": {
             "colorbar": {
              "outlinewidth": 0,
              "ticks": ""
             }
            },
            "type": "parcoords"
           }
          ],
          "pie": [
           {
            "automargin": true,
            "type": "pie"
           }
          ],
          "scatter": [
           {
            "marker": {
             "line": {
              "color": "#283442"
             }
            },
            "type": "scatter"
           }
          ],
          "scatter3d": [
           {
            "line": {
             "colorbar": {
              "outlinewidth": 0,
              "ticks": ""
             }
            },
            "marker": {
             "colorbar": {
              "outlinewidth": 0,
              "ticks": ""
             }
            },
            "type": "scatter3d"
           }
          ],
          "scattercarpet": [
           {
            "marker": {
             "colorbar": {
              "outlinewidth": 0,
              "ticks": ""
             }
            },
            "type": "scattercarpet"
           }
          ],
          "scattergeo": [
           {
            "marker": {
             "colorbar": {
              "outlinewidth": 0,
              "ticks": ""
             }
            },
            "type": "scattergeo"
           }
          ],
          "scattergl": [
           {
            "marker": {
             "line": {
              "color": "#283442"
             }
            },
            "type": "scattergl"
           }
          ],
          "scattermapbox": [
           {
            "marker": {
             "colorbar": {
              "outlinewidth": 0,
              "ticks": ""
             }
            },
            "type": "scattermapbox"
           }
          ],
          "scatterpolar": [
           {
            "marker": {
             "colorbar": {
              "outlinewidth": 0,
              "ticks": ""
             }
            },
            "type": "scatterpolar"
           }
          ],
          "scatterpolargl": [
           {
            "marker": {
             "colorbar": {
              "outlinewidth": 0,
              "ticks": ""
             }
            },
            "type": "scatterpolargl"
           }
          ],
          "scatterternary": [
           {
            "marker": {
             "colorbar": {
              "outlinewidth": 0,
              "ticks": ""
             }
            },
            "type": "scatterternary"
           }
          ],
          "surface": [
           {
            "colorbar": {
             "outlinewidth": 0,
             "ticks": ""
            },
            "colorscale": [
             [
              0,
              "#0d0887"
             ],
             [
              0.1111111111111111,
              "#46039f"
             ],
             [
              0.2222222222222222,
              "#7201a8"
             ],
             [
              0.3333333333333333,
              "#9c179e"
             ],
             [
              0.4444444444444444,
              "#bd3786"
             ],
             [
              0.5555555555555556,
              "#d8576b"
             ],
             [
              0.6666666666666666,
              "#ed7953"
             ],
             [
              0.7777777777777778,
              "#fb9f3a"
             ],
             [
              0.8888888888888888,
              "#fdca26"
             ],
             [
              1,
              "#f0f921"
             ]
            ],
            "type": "surface"
           }
          ],
          "table": [
           {
            "cells": {
             "fill": {
              "color": "#506784"
             },
             "line": {
              "color": "rgb(17,17,17)"
             }
            },
            "header": {
             "fill": {
              "color": "#2a3f5f"
             },
             "line": {
              "color": "rgb(17,17,17)"
             }
            },
            "type": "table"
           }
          ]
         },
         "layout": {
          "annotationdefaults": {
           "arrowcolor": "#f2f5fa",
           "arrowhead": 0,
           "arrowwidth": 1
          },
          "autotypenumbers": "strict",
          "coloraxis": {
           "colorbar": {
            "outlinewidth": 0,
            "ticks": ""
           }
          },
          "colorscale": {
           "diverging": [
            [
             0,
             "#8e0152"
            ],
            [
             0.1,
             "#c51b7d"
            ],
            [
             0.2,
             "#de77ae"
            ],
            [
             0.3,
             "#f1b6da"
            ],
            [
             0.4,
             "#fde0ef"
            ],
            [
             0.5,
             "#f7f7f7"
            ],
            [
             0.6,
             "#e6f5d0"
            ],
            [
             0.7,
             "#b8e186"
            ],
            [
             0.8,
             "#7fbc41"
            ],
            [
             0.9,
             "#4d9221"
            ],
            [
             1,
             "#276419"
            ]
           ],
           "sequential": [
            [
             0,
             "#0d0887"
            ],
            [
             0.1111111111111111,
             "#46039f"
            ],
            [
             0.2222222222222222,
             "#7201a8"
            ],
            [
             0.3333333333333333,
             "#9c179e"
            ],
            [
             0.4444444444444444,
             "#bd3786"
            ],
            [
             0.5555555555555556,
             "#d8576b"
            ],
            [
             0.6666666666666666,
             "#ed7953"
            ],
            [
             0.7777777777777778,
             "#fb9f3a"
            ],
            [
             0.8888888888888888,
             "#fdca26"
            ],
            [
             1,
             "#f0f921"
            ]
           ],
           "sequentialminus": [
            [
             0,
             "#0d0887"
            ],
            [
             0.1111111111111111,
             "#46039f"
            ],
            [
             0.2222222222222222,
             "#7201a8"
            ],
            [
             0.3333333333333333,
             "#9c179e"
            ],
            [
             0.4444444444444444,
             "#bd3786"
            ],
            [
             0.5555555555555556,
             "#d8576b"
            ],
            [
             0.6666666666666666,
             "#ed7953"
            ],
            [
             0.7777777777777778,
             "#fb9f3a"
            ],
            [
             0.8888888888888888,
             "#fdca26"
            ],
            [
             1,
             "#f0f921"
            ]
           ]
          },
          "colorway": [
           "#636efa",
           "#EF553B",
           "#00cc96",
           "#ab63fa",
           "#FFA15A",
           "#19d3f3",
           "#FF6692",
           "#B6E880",
           "#FF97FF",
           "#FECB52"
          ],
          "font": {
           "color": "#f2f5fa"
          },
          "geo": {
           "bgcolor": "rgb(17,17,17)",
           "lakecolor": "rgb(17,17,17)",
           "landcolor": "rgb(17,17,17)",
           "showlakes": true,
           "showland": true,
           "subunitcolor": "#506784"
          },
          "hoverlabel": {
           "align": "left"
          },
          "hovermode": "closest",
          "mapbox": {
           "style": "dark"
          },
          "paper_bgcolor": "rgb(17,17,17)",
          "plot_bgcolor": "rgb(17,17,17)",
          "polar": {
           "angularaxis": {
            "gridcolor": "#506784",
            "linecolor": "#506784",
            "ticks": ""
           },
           "bgcolor": "rgb(17,17,17)",
           "radialaxis": {
            "gridcolor": "#506784",
            "linecolor": "#506784",
            "ticks": ""
           }
          },
          "scene": {
           "xaxis": {
            "backgroundcolor": "rgb(17,17,17)",
            "gridcolor": "#506784",
            "gridwidth": 2,
            "linecolor": "#506784",
            "showbackground": true,
            "ticks": "",
            "zerolinecolor": "#C8D4E3"
           },
           "yaxis": {
            "backgroundcolor": "rgb(17,17,17)",
            "gridcolor": "#506784",
            "gridwidth": 2,
            "linecolor": "#506784",
            "showbackground": true,
            "ticks": "",
            "zerolinecolor": "#C8D4E3"
           },
           "zaxis": {
            "backgroundcolor": "rgb(17,17,17)",
            "gridcolor": "#506784",
            "gridwidth": 2,
            "linecolor": "#506784",
            "showbackground": true,
            "ticks": "",
            "zerolinecolor": "#C8D4E3"
           }
          },
          "shapedefaults": {
           "line": {
            "color": "#f2f5fa"
           }
          },
          "sliderdefaults": {
           "bgcolor": "#C8D4E3",
           "bordercolor": "rgb(17,17,17)",
           "borderwidth": 1,
           "tickwidth": 0
          },
          "ternary": {
           "aaxis": {
            "gridcolor": "#506784",
            "linecolor": "#506784",
            "ticks": ""
           },
           "baxis": {
            "gridcolor": "#506784",
            "linecolor": "#506784",
            "ticks": ""
           },
           "bgcolor": "rgb(17,17,17)",
           "caxis": {
            "gridcolor": "#506784",
            "linecolor": "#506784",
            "ticks": ""
           }
          },
          "title": {
           "x": 0.05
          },
          "updatemenudefaults": {
           "bgcolor": "#506784",
           "borderwidth": 0
          },
          "xaxis": {
           "automargin": true,
           "gridcolor": "#283442",
           "linecolor": "#506784",
           "ticks": "",
           "title": {
            "standoff": 15
           },
           "zerolinecolor": "#283442",
           "zerolinewidth": 2
          },
          "yaxis": {
           "automargin": true,
           "gridcolor": "#283442",
           "linecolor": "#506784",
           "ticks": "",
           "title": {
            "standoff": 15
           },
           "zerolinecolor": "#283442",
           "zerolinewidth": 2
          }
         }
        },
        "xaxis": {
         "anchor": "y",
         "domain": [
          0,
          1
         ],
         "title": {
          "text": "Time"
         }
        },
        "yaxis": {
         "anchor": "x",
         "domain": [
          0,
          1
         ],
         "title": {
          "text": "value"
         }
        }
       }
      }
     },
     "metadata": {},
     "output_type": "display_data"
    }
   ],
   "source": [
    "import plotly.express as px\n",
    "Data_glob = pd.pivot_table(Data,index='año',values=['total_gdp_million','Poblacion','ECI'],aggfunc='sum').reset_index()\n",
    "Data_glob['Time'] = pd.to_datetime(Data_glob['año'])\n",
    "Data_glob = Data_glob.sort_values(by='Time')\n",
    "fig = px.line(Data_glob, x=\"Time\", y=[\"total_gdp_million\"], template = 'plotly_dark')\n",
    "fig.show()"
   ]
  },
  {
   "cell_type": "code",
   "execution_count": 33,
   "metadata": {},
   "outputs": [
    {
     "name": "stdout",
     "output_type": "stream",
     "text": [
      "El Estadistico D-Fuller es: -1.1793378898436007\n",
      "El p-valor es de: 0.6824202844756092. No rechazo H0, por lo que la serie para el PIB tiene comportamiento NO Estacional\n"
     ]
    }
   ],
   "source": [
    "D_fuller = adfuller(Data_glob.total_gdp_million,autolag='AIC')\n",
    "print(f'El Estadistico D-Fuller es: {D_fuller[0]}')\n",
    "print(f'El p-valor es de: {D_fuller[1]}. No rechazo H0, por lo que la serie para el PIB tiene comportamiento NO Estacional')"
   ]
  },
  {
   "cell_type": "code",
   "execution_count": 34,
   "metadata": {},
   "outputs": [
    {
     "name": "stdout",
     "output_type": "stream",
     "text": [
      "El Estadistico D-Fuller es: -2.964283780870511\n",
      "El p-valor es de: 0.03836715950778153. rechazo H0, por lo que la serie para la Poblacion es Estacional\n"
     ]
    }
   ],
   "source": [
    "D_fuller = adfuller(Data_glob.Poblacion,autolag='AIC')\n",
    "print(f'El Estadistico D-Fuller es: {D_fuller[0]}')\n",
    "print(f'El p-valor es de: {D_fuller[1]}. rechazo H0, por lo que la serie para la Poblacion es Estacional')"
   ]
  },
  {
   "cell_type": "code",
   "execution_count": 35,
   "metadata": {},
   "outputs": [
    {
     "name": "stdout",
     "output_type": "stream",
     "text": [
      "El Estadistico D-Fuller es: -1.1553311905910721\n",
      "El p-valor es de: 0.6925101184130171. No rechazo H0, por lo que la serie tiene comportamiento NO Estacional\n"
     ]
    }
   ],
   "source": [
    "D_fuller = adfuller(Data_glob.ECI,autolag='AIC')\n",
    "print(f'El Estadistico D-Fuller es: {D_fuller[0]}')\n",
    "print(f'El p-valor es de: {D_fuller[1]}. No rechazo H0, por lo que la serie tiene comportamiento NO Estacional')"
   ]
  },
  {
   "cell_type": "markdown",
   "metadata": {},
   "source": [
    "El valor de p > 0.05 NO rechaza la hipotesis Nula, por lo que se puede decir que la serie de tiempo NO tiene un comportamiento estacional"
   ]
  },
  {
   "cell_type": "code",
   "execution_count": 36,
   "metadata": {},
   "outputs": [],
   "source": [
    "# from pmdarima import plot_acf\n",
    "\n",
    "# plt.rcParams.update({'figure.figsize':(10,10), 'figure.dpi':120})\n",
    "# fig,axes = plt.subplots(3,2,sharex=False)\n",
    "\n",
    "# axes[0,0].plot(Data_glob.total_gdp_million);axes[0,0].set_title('Original')\n",
    "# plot_acf(Data_glob.total_gdp_million,ax=axes[0,1])\n",
    "\n",
    "# axes[1,0].plot(Data_glob.total_gdp_million);axes[1,0].set_title('1 AR')\n",
    "# plot_acf(Data_glob.total_gdp_million.diff().dropna(),ax=axes[1,1],color='g')\n",
    "\n",
    "# axes[2,0].plot(Data_glob.total_gdp_million);axes[2,0].set_title('2 AR')\n",
    "# plot_acf(Data_glob.total_gdp_million.diff().diff().dropna(),ax=axes[2,1],color='b')\n",
    "# plt.show()"
   ]
  },
  {
   "cell_type": "code",
   "execution_count": 37,
   "metadata": {},
   "outputs": [
    {
     "data": {
      "image/png": "[encoded data removed]",
      "text/plain": [
       "<Figure size 720x480 with 2 Axes>"
      ]
     },
     "metadata": {},
     "output_type": "display_data"
    }
   ],
   "source": [
    "plt.rcParams.update({'figure.figsize':(6,4), 'figure.dpi':120})\n",
    "fig,axes = plt.subplots(1,2)\n",
    "axes[0].plot(Data_glob.total_gdp_million);axes[0].set_title('1 AR')\n",
    "plot_acf(Data_glob.total_gdp_million,ax=axes[1],color='g')"
   ]
  },
  {
   "cell_type": "code",
   "execution_count": 38,
   "metadata": {},
   "outputs": [
    {
     "data": {
      "image/png": "[encoded data removed]",
      "text/plain": [
       "<Figure size 720x480 with 2 Axes>"
      ]
     },
     "metadata": {},
     "output_type": "display_data"
    }
   ],
   "source": [
    "plt.rcParams.update({'figure.figsize':(6,4), 'figure.dpi':120})\n",
    "fig,axes = plt.subplots(1,2)\n",
    "axes[0].plot(Data_glob.total_gdp_million.diff());axes[0].set_title('1 AR')\n",
    "plot_acf(Data_glob.total_gdp_million.diff().dropna(),ax=axes[1],color='g')"
   ]
  },
  {
   "cell_type": "code",
   "execution_count": 39,
   "metadata": {},
   "outputs": [
    {
     "data": {
      "image/png": "[encoded data removed]",
      "text/plain": [
       "<Figure size 720x480 with 2 Axes>"
      ]
     },
     "metadata": {},
     "output_type": "display_data"
    }
   ],
   "source": [
    "plt.rcParams.update({'figure.figsize':(6,4), 'figure.dpi':120})\n",
    "fig,axes = plt.subplots(1,2)\n",
    "axes[0].plot(Data_glob.total_gdp_million.diff().diff());axes[00].set_title('2 AR')\n",
    "plot_acf(Data_glob.total_gdp_million.diff().diff().dropna(),ax=axes[1],color='r')"
   ]
  },
  {
   "cell_type": "code",
   "execution_count": 40,
   "metadata": {},
   "outputs": [
    {
     "data": {
      "text/html": [
       "<div>\n",
       "<style scoped>\n",
       "    .dataframe tbody tr th:only-of-type {\n",
       "        vertical-align: middle;\n",
       "    }\n",
       "\n",
       "    .dataframe tbody tr th {\n",
       "        vertical-align: top;\n",
       "    }\n",
       "\n",
       "    .dataframe thead th {\n",
       "        text-align: right;\n",
       "    }\n",
       "</style>\n",
       "<table border=\"1\" class=\"dataframe\">\n",
       "  <thead>\n",
       "    <tr style=\"text-align: right;\">\n",
       "      <th></th>\n",
       "      <th>Pais_x</th>\n",
       "      <th>Poblacion</th>\n",
       "      <th>total_gdp_million</th>\n",
       "      <th>ECI</th>\n",
       "      <th>año_x</th>\n",
       "      <th>Ecuador</th>\n",
       "    </tr>\n",
       "  </thead>\n",
       "  <tbody>\n",
       "    <tr>\n",
       "      <th>0</th>\n",
       "      <td>Algeria</td>\n",
       "      <td>42705368.0</td>\n",
       "      <td>171767.403700</td>\n",
       "      <td>-1.042459</td>\n",
       "      <td>2019</td>\n",
       "      <td>0</td>\n",
       "    </tr>\n",
       "    <tr>\n",
       "      <th>1</th>\n",
       "      <td>Algeria</td>\n",
       "      <td>43451666.0</td>\n",
       "      <td>145009.181500</td>\n",
       "      <td>-1.206390</td>\n",
       "      <td>2020</td>\n",
       "      <td>0</td>\n",
       "    </tr>\n",
       "    <tr>\n",
       "      <th>2</th>\n",
       "      <td>Algeria</td>\n",
       "      <td>30774621.0</td>\n",
       "      <td>54790.392750</td>\n",
       "      <td>-1.064802</td>\n",
       "      <td>2000</td>\n",
       "      <td>0</td>\n",
       "    </tr>\n",
       "    <tr>\n",
       "      <th>3</th>\n",
       "      <td>Algeria</td>\n",
       "      <td>31200985.0</td>\n",
       "      <td>54744.712810</td>\n",
       "      <td>-0.804064</td>\n",
       "      <td>2001</td>\n",
       "      <td>0</td>\n",
       "    </tr>\n",
       "    <tr>\n",
       "      <th>4</th>\n",
       "      <td>Algeria</td>\n",
       "      <td>31624696.0</td>\n",
       "      <td>56760.355870</td>\n",
       "      <td>-0.994074</td>\n",
       "      <td>2002</td>\n",
       "      <td>0</td>\n",
       "    </tr>\n",
       "    <tr>\n",
       "      <th>...</th>\n",
       "      <td>...</td>\n",
       "      <td>...</td>\n",
       "      <td>...</td>\n",
       "      <td>...</td>\n",
       "      <td>...</td>\n",
       "      <td>...</td>\n",
       "    </tr>\n",
       "    <tr>\n",
       "      <th>1570</th>\n",
       "      <td>Zimbabwe</td>\n",
       "      <td>11984644.0</td>\n",
       "      <td>6342.116400</td>\n",
       "      <td>-0.342388</td>\n",
       "      <td>2002</td>\n",
       "      <td>1</td>\n",
       "    </tr>\n",
       "    <tr>\n",
       "      <th>1571</th>\n",
       "      <td>Zimbabwe</td>\n",
       "      <td>11910978.0</td>\n",
       "      <td>6777.384700</td>\n",
       "      <td>-0.393783</td>\n",
       "      <td>2001</td>\n",
       "      <td>1</td>\n",
       "    </tr>\n",
       "    <tr>\n",
       "      <th>1572</th>\n",
       "      <td>Zimbabwe</td>\n",
       "      <td>11834676.0</td>\n",
       "      <td>6689.957600</td>\n",
       "      <td>-0.288579</td>\n",
       "      <td>2000</td>\n",
       "      <td>1</td>\n",
       "    </tr>\n",
       "    <tr>\n",
       "      <th>1573</th>\n",
       "      <td>Zimbabwe</td>\n",
       "      <td>12679810.0</td>\n",
       "      <td>9665.793264</td>\n",
       "      <td>-0.381771</td>\n",
       "      <td>2009</td>\n",
       "      <td>1</td>\n",
       "    </tr>\n",
       "    <tr>\n",
       "      <th>1574</th>\n",
       "      <td>Zimbabwe</td>\n",
       "      <td>15669666.0</td>\n",
       "      <td>21509.698410</td>\n",
       "      <td>-0.893569</td>\n",
       "      <td>2020</td>\n",
       "      <td>1</td>\n",
       "    </tr>\n",
       "  </tbody>\n",
       "</table>\n",
       "<p>1575 rows × 6 columns</p>\n",
       "</div>"
      ],
      "text/plain": [
       "        Pais_x   Poblacion  total_gdp_million       ECI  año_x  Ecuador\n",
       "0      Algeria  42705368.0      171767.403700 -1.042459   2019        0\n",
       "1      Algeria  43451666.0      145009.181500 -1.206390   2020        0\n",
       "2      Algeria  30774621.0       54790.392750 -1.064802   2000        0\n",
       "3      Algeria  31200985.0       54744.712810 -0.804064   2001        0\n",
       "4      Algeria  31624696.0       56760.355870 -0.994074   2002        0\n",
       "...        ...         ...                ...       ...    ...      ...\n",
       "1570  Zimbabwe  11984644.0        6342.116400 -0.342388   2002        1\n",
       "1571  Zimbabwe  11910978.0        6777.384700 -0.393783   2001        1\n",
       "1572  Zimbabwe  11834676.0        6689.957600 -0.288579   2000        1\n",
       "1573  Zimbabwe  12679810.0        9665.793264 -0.381771   2009        1\n",
       "1574  Zimbabwe  15669666.0       21509.698410 -0.893569   2020        1\n",
       "\n",
       "[1575 rows x 6 columns]"
      ]
     },
     "execution_count": 40,
     "metadata": {},
     "output_type": "execute_result"
    }
   ],
   "source": [
    "Data_final"
   ]
  },
  {
   "cell_type": "markdown",
   "metadata": {},
   "source": [
    "### ***Eliminar Autocorrelacion y No estacionariedad***"
   ]
  },
  {
   "cell_type": "code",
   "execution_count": 41,
   "metadata": {},
   "outputs": [],
   "source": [
    "def resagos(Data,columnas,n,pais):\n",
    "    A = pd.DataFrame()\n",
    "    for i in range(len(columnas)):\n",
    "        \n",
    "        A[columnas[i]] = (Data[Data['Pais_x']==pais])[(columnas[i])].diff(periods=n).dropna()\n",
    "    # A[columnas[1]] = (Data[Data['Pais_x']==pais])[(columnas[1])].diff(periods=n).dropna()\n",
    "        A['Pais'] = pais\n",
    "        A['Ecuador'] = Data[Data['Pais_x']==pais]['Ecuador']\n",
    "        A['Poblacion'] = Data[Data['Pais_x']==pais]['Poblacion']\n",
    "        A['Año'] = Data[Data['Pais_x']==pais]['año_x']\n",
    "    \n",
    "    return A"
   ]
  },
  {
   "cell_type": "code",
   "execution_count": 42,
   "metadata": {},
   "outputs": [
    {
     "data": {
      "text/html": [
       "<div>\n",
       "<style scoped>\n",
       "    .dataframe tbody tr th:only-of-type {\n",
       "        vertical-align: middle;\n",
       "    }\n",
       "\n",
       "    .dataframe tbody tr th {\n",
       "        vertical-align: top;\n",
       "    }\n",
       "\n",
       "    .dataframe thead th {\n",
       "        text-align: right;\n",
       "    }\n",
       "</style>\n",
       "<table border=\"1\" class=\"dataframe\">\n",
       "  <thead>\n",
       "    <tr style=\"text-align: right;\">\n",
       "      <th></th>\n",
       "      <th>Pais_x</th>\n",
       "      <th>Poblacion</th>\n",
       "      <th>total_gdp_million</th>\n",
       "      <th>ECI</th>\n",
       "      <th>año_x</th>\n",
       "      <th>Ecuador</th>\n",
       "    </tr>\n",
       "  </thead>\n",
       "  <tbody>\n",
       "    <tr>\n",
       "      <th>0</th>\n",
       "      <td>Algeria</td>\n",
       "      <td>42705368.0</td>\n",
       "      <td>171767.403700</td>\n",
       "      <td>-1.042459</td>\n",
       "      <td>2019</td>\n",
       "      <td>0</td>\n",
       "    </tr>\n",
       "    <tr>\n",
       "      <th>1</th>\n",
       "      <td>Algeria</td>\n",
       "      <td>43451666.0</td>\n",
       "      <td>145009.181500</td>\n",
       "      <td>-1.206390</td>\n",
       "      <td>2020</td>\n",
       "      <td>0</td>\n",
       "    </tr>\n",
       "    <tr>\n",
       "      <th>2</th>\n",
       "      <td>Algeria</td>\n",
       "      <td>30774621.0</td>\n",
       "      <td>54790.392750</td>\n",
       "      <td>-1.064802</td>\n",
       "      <td>2000</td>\n",
       "      <td>0</td>\n",
       "    </tr>\n",
       "    <tr>\n",
       "      <th>3</th>\n",
       "      <td>Algeria</td>\n",
       "      <td>31200985.0</td>\n",
       "      <td>54744.712810</td>\n",
       "      <td>-0.804064</td>\n",
       "      <td>2001</td>\n",
       "      <td>0</td>\n",
       "    </tr>\n",
       "    <tr>\n",
       "      <th>4</th>\n",
       "      <td>Algeria</td>\n",
       "      <td>31624696.0</td>\n",
       "      <td>56760.355870</td>\n",
       "      <td>-0.994074</td>\n",
       "      <td>2002</td>\n",
       "      <td>0</td>\n",
       "    </tr>\n",
       "    <tr>\n",
       "      <th>...</th>\n",
       "      <td>...</td>\n",
       "      <td>...</td>\n",
       "      <td>...</td>\n",
       "      <td>...</td>\n",
       "      <td>...</td>\n",
       "      <td>...</td>\n",
       "    </tr>\n",
       "    <tr>\n",
       "      <th>1570</th>\n",
       "      <td>Zimbabwe</td>\n",
       "      <td>11984644.0</td>\n",
       "      <td>6342.116400</td>\n",
       "      <td>-0.342388</td>\n",
       "      <td>2002</td>\n",
       "      <td>1</td>\n",
       "    </tr>\n",
       "    <tr>\n",
       "      <th>1571</th>\n",
       "      <td>Zimbabwe</td>\n",
       "      <td>11910978.0</td>\n",
       "      <td>6777.384700</td>\n",
       "      <td>-0.393783</td>\n",
       "      <td>2001</td>\n",
       "      <td>1</td>\n",
       "    </tr>\n",
       "    <tr>\n",
       "      <th>1572</th>\n",
       "      <td>Zimbabwe</td>\n",
       "      <td>11834676.0</td>\n",
       "      <td>6689.957600</td>\n",
       "      <td>-0.288579</td>\n",
       "      <td>2000</td>\n",
       "      <td>1</td>\n",
       "    </tr>\n",
       "    <tr>\n",
       "      <th>1573</th>\n",
       "      <td>Zimbabwe</td>\n",
       "      <td>12679810.0</td>\n",
       "      <td>9665.793264</td>\n",
       "      <td>-0.381771</td>\n",
       "      <td>2009</td>\n",
       "      <td>1</td>\n",
       "    </tr>\n",
       "    <tr>\n",
       "      <th>1574</th>\n",
       "      <td>Zimbabwe</td>\n",
       "      <td>15669666.0</td>\n",
       "      <td>21509.698410</td>\n",
       "      <td>-0.893569</td>\n",
       "      <td>2020</td>\n",
       "      <td>1</td>\n",
       "    </tr>\n",
       "  </tbody>\n",
       "</table>\n",
       "<p>1575 rows × 6 columns</p>\n",
       "</div>"
      ],
      "text/plain": [
       "        Pais_x   Poblacion  total_gdp_million       ECI  año_x  Ecuador\n",
       "0      Algeria  42705368.0      171767.403700 -1.042459   2019        0\n",
       "1      Algeria  43451666.0      145009.181500 -1.206390   2020        0\n",
       "2      Algeria  30774621.0       54790.392750 -1.064802   2000        0\n",
       "3      Algeria  31200985.0       54744.712810 -0.804064   2001        0\n",
       "4      Algeria  31624696.0       56760.355870 -0.994074   2002        0\n",
       "...        ...         ...                ...       ...    ...      ...\n",
       "1570  Zimbabwe  11984644.0        6342.116400 -0.342388   2002        1\n",
       "1571  Zimbabwe  11910978.0        6777.384700 -0.393783   2001        1\n",
       "1572  Zimbabwe  11834676.0        6689.957600 -0.288579   2000        1\n",
       "1573  Zimbabwe  12679810.0        9665.793264 -0.381771   2009        1\n",
       "1574  Zimbabwe  15669666.0       21509.698410 -0.893569   2020        1\n",
       "\n",
       "[1575 rows x 6 columns]"
      ]
     },
     "execution_count": 42,
     "metadata": {},
     "output_type": "execute_result"
    }
   ],
   "source": [
    "Data_final"
   ]
  },
  {
   "cell_type": "code",
   "execution_count": 43,
   "metadata": {},
   "outputs": [
    {
     "data": {
      "application/vnd.plotly.v1+json": {
       "config": {
        "plotlyServerURL": "https://plot.ly"
       },
       "data": [
        {
         "hovertemplate": "variable=total_gdp_million<br>Time=%{x}<br>value=%{y}<extra></extra>",
         "legendgroup": "total_gdp_million",
         "line": {
          "color": "#636efa",
          "dash": "solid"
         },
         "marker": {
          "symbol": "circle"
         },
         "mode": "lines",
         "name": "total_gdp_million",
         "orientation": "v",
         "showlegend": true,
         "type": "scatter",
         "x": [
          "2000-01-01T00:00:00",
          "2001-01-01T00:00:00",
          "2002-01-01T00:00:00",
          "2003-01-01T00:00:00",
          "2004-01-01T00:00:00",
          "2005-01-01T00:00:00",
          "2006-01-01T00:00:00",
          "2007-01-01T00:00:00",
          "2008-01-01T00:00:00",
          "2009-01-01T00:00:00",
          "2010-01-01T00:00:00",
          "2011-01-01T00:00:00",
          "2012-01-01T00:00:00",
          "2013-01-01T00:00:00",
          "2014-01-01T00:00:00",
          "2015-01-01T00:00:00",
          "2016-01-01T00:00:00",
          "2017-01-01T00:00:00",
          "2018-01-01T00:00:00",
          "2019-01-01T00:00:00",
          "2020-01-01T00:00:00"
         ],
         "xaxis": "x",
         "y": [
          -11368989.616851998,
          -22947906.951682,
          -23049086.510297,
          -21269432.524315998,
          -17758811.649463,
          -9878646.90498,
          -13341682.45555,
          -8630937.187789999,
          -12860773.455014,
          -13788254.129596002,
          4360192.46071,
          5213536.813371,
          5369813.361707,
          6947903.137912,
          1204122.8014770001,
          2931333.409835,
          3558790.0414789994,
          2996331.858231,
          3486026.983296001,
          1751066.3732599998,
          976222.0891559992
         ],
         "yaxis": "y"
        }
       ],
       "layout": {
        "legend": {
         "title": {
          "text": "variable"
         },
         "tracegroupgap": 0
        },
        "margin": {
         "t": 60
        },
        "template": {
         "data": {
          "bar": [
           {
            "error_x": {
             "color": "#f2f5fa"
            },
            "error_y": {
             "color": "#f2f5fa"
            },
            "marker": {
             "line": {
              "color": "rgb(17,17,17)",
              "width": 0.5
             },
             "pattern": {
              "fillmode": "overlay",
              "size": 10,
              "solidity": 0.2
             }
            },
            "type": "bar"
           }
          ],
          "barpolar": [
           {
            "marker": {
             "line": {
              "color": "rgb(17,17,17)",
              "width": 0.5
             },
             "pattern": {
              "fillmode": "overlay",
              "size": 10,
              "solidity": 0.2
             }
            },
            "type": "barpolar"
           }
          ],
          "carpet": [
           {
            "aaxis": {
             "endlinecolor": "#A2B1C6",
             "gridcolor": "#506784",
             "linecolor": "#506784",
             "minorgridcolor": "#506784",
             "startlinecolor": "#A2B1C6"
            },
            "baxis": {
             "endlinecolor": "#A2B1C6",
             "gridcolor": "#506784",
             "linecolor": "#506784",
             "minorgridcolor": "#506784",
             "startlinecolor": "#A2B1C6"
            },
            "type": "carpet"
           }
          ],
          "choropleth": [
           {
            "colorbar": {
             "outlinewidth": 0,
             "ticks": ""
            },
            "type": "choropleth"
           }
          ],
          "contour": [
           {
            "colorbar": {
             "outlinewidth": 0,
             "ticks": ""
            },
            "colorscale": [
             [
              0,
              "#0d0887"
             ],
             [
              0.1111111111111111,
              "#46039f"
             ],
             [
              0.2222222222222222,
              "#7201a8"
             ],
             [
              0.3333333333333333,
              "#9c179e"
             ],
             [
              0.4444444444444444,
              "#bd3786"
             ],
             [
              0.5555555555555556,
              "#d8576b"
             ],
             [
              0.6666666666666666,
              "#ed7953"
             ],
             [
              0.7777777777777778,
              "#fb9f3a"
             ],
             [
              0.8888888888888888,
              "#fdca26"
             ],
             [
              1,
              "#f0f921"
             ]
            ],
            "type": "contour"
           }
          ],
          "contourcarpet": [
           {
            "colorbar": {
             "outlinewidth": 0,
             "ticks": ""
            },
            "type": "contourcarpet"
           }
          ],
          "heatmap": [
           {
            "colorbar": {
             "outlinewidth": 0,
             "ticks": ""
            },
            "colorscale": [
             [
              0,
              "#0d0887"
             ],
             [
              0.1111111111111111,
              "#46039f"
             ],
             [
              0.2222222222222222,
              "#7201a8"
             ],
             [
              0.3333333333333333,
              "#9c179e"
             ],
             [
              0.4444444444444444,
              "#bd3786"
             ],
             [
              0.5555555555555556,
              "#d8576b"
             ],
             [
              0.6666666666666666,
              "#ed7953"
             ],
             [
              0.7777777777777778,
              "#fb9f3a"
             ],
             [
              0.8888888888888888,
              "#fdca26"
             ],
             [
              1,
              "#f0f921"
             ]
            ],
            "type": "heatmap"
           }
          ],
          "heatmapgl": [
           {
            "colorbar": {
             "outlinewidth": 0,
             "ticks": ""
            },
            "colorscale": [
             [
              0,
              "#0d0887"
             ],
             [
              0.1111111111111111,
              "#46039f"
             ],
             [
              0.2222222222222222,
              "#7201a8"
             ],
             [
              0.3333333333333333,
              "#9c179e"
             ],
             [
              0.4444444444444444,
              "#bd3786"
             ],
             [
              0.5555555555555556,
              "#d8576b"
             ],
             [
              0.6666666666666666,
              "#ed7953"
             ],
             [
              0.7777777777777778,
              "#fb9f3a"
             ],
             [
              0.8888888888888888,
              "#fdca26"
             ],
             [
              1,
              "#f0f921"
             ]
            ],
            "type": "heatmapgl"
           }
          ],
          "histogram": [
           {
            "marker": {
             "pattern": {
              "fillmode": "overlay",
              "size": 10,
              "solidity": 0.2
             }
            },
            "type": "histogram"
           }
          ],
          "histogram2d": [
           {
            "colorbar": {
             "outlinewidth": 0,
             "ticks": ""
            },
            "colorscale": [
             [
              0,
              "#0d0887"
             ],
             [
              0.1111111111111111,
              "#46039f"
             ],
             [
              0.2222222222222222,
              "#7201a8"
             ],
             [
              0.3333333333333333,
              "#9c179e"
             ],
             [
              0.4444444444444444,
              "#bd3786"
             ],
             [
              0.5555555555555556,
              "#d8576b"
             ],
             [
              0.6666666666666666,
              "#ed7953"
             ],
             [
              0.7777777777777778,
              "#fb9f3a"
             ],
             [
              0.8888888888888888,
              "#fdca26"
             ],
             [
              1,
              "#f0f921"
             ]
            ],
            "type": "histogram2d"
           }
          ],
          "histogram2dcontour": [
           {
            "colorbar": {
             "outlinewidth": 0,
             "ticks": ""
            },
            "colorscale": [
             [
              0,
              "#0d0887"
             ],
             [
              0.1111111111111111,
              "#46039f"
             ],
             [
              0.2222222222222222,
              "#7201a8"
             ],
             [
              0.3333333333333333,
              "#9c179e"
             ],
             [
              0.4444444444444444,
              "#bd3786"
             ],
             [
              0.5555555555555556,
              "#d8576b"
             ],
             [
              0.6666666666666666,
              "#ed7953"
             ],
             [
              0.7777777777777778,
              "#fb9f3a"
             ],
             [
              0.8888888888888888,
              "#fdca26"
             ],
             [
              1,
              "#f0f921"
             ]
            ],
            "type": "histogram2dcontour"
           }
          ],
          "mesh3d": [
           {
            "colorbar": {
             "outlinewidth": 0,
             "ticks": ""
            },
            "type": "mesh3d"
           }
          ],
          "parcoords": [
           {
            "line": {
             "colorbar": {
              "outlinewidth": 0,
              "ticks": ""
             }
            },
            "type": "parcoords"
           }
          ],
          "pie": [
           {
            "automargin": true,
            "type": "pie"
           }
          ],
          "scatter": [
           {
            "marker": {
             "line": {
              "color": "#283442"
             }
            },
            "type": "scatter"
           }
          ],
          "scatter3d": [
           {
            "line": {
             "colorbar": {
              "outlinewidth": 0,
              "ticks": ""
             }
            },
            "marker": {
             "colorbar": {
              "outlinewidth": 0,
              "ticks": ""
             }
            },
            "type": "scatter3d"
           }
          ],
          "scattercarpet": [
           {
            "marker": {
             "colorbar": {
              "outlinewidth": 0,
              "ticks": ""
             }
            },
            "type": "scattercarpet"
           }
          ],
          "scattergeo": [
           {
            "marker": {
             "colorbar": {
              "outlinewidth": 0,
              "ticks": ""
             }
            },
            "type": "scattergeo"
           }
          ],
          "scattergl": [
           {
            "marker": {
             "line": {
              "color": "#283442"
             }
            },
            "type": "scattergl"
           }
          ],
          "scattermapbox": [
           {
            "marker": {
             "colorbar": {
              "outlinewidth": 0,
              "ticks": ""
             }
            },
            "type": "scattermapbox"
           }
          ],
          "scatterpolar": [
           {
            "marker": {
             "colorbar": {
              "outlinewidth": 0,
              "ticks": ""
             }
            },
            "type": "scatterpolar"
           }
          ],
          "scatterpolargl": [
           {
            "marker": {
             "colorbar": {
              "outlinewidth": 0,
              "ticks": ""
             }
            },
            "type": "scatterpolargl"
           }
          ],
          "scatterternary": [
           {
            "marker": {
             "colorbar": {
              "outlinewidth": 0,
              "ticks": ""
             }
            },
            "type": "scatterternary"
           }
          ],
          "surface": [
           {
            "colorbar": {
             "outlinewidth": 0,
             "ticks": ""
            },
            "colorscale": [
             [
              0,
              "#0d0887"
             ],
             [
              0.1111111111111111,
              "#46039f"
             ],
             [
              0.2222222222222222,
              "#7201a8"
             ],
             [
              0.3333333333333333,
              "#9c179e"
             ],
             [
              0.4444444444444444,
              "#bd3786"
             ],
             [
              0.5555555555555556,
              "#d8576b"
             ],
             [
              0.6666666666666666,
              "#ed7953"
             ],
             [
              0.7777777777777778,
              "#fb9f3a"
             ],
             [
              0.8888888888888888,
              "#fdca26"
             ],
             [
              1,
              "#f0f921"
             ]
            ],
            "type": "surface"
           }
          ],
          "table": [
           {
            "cells": {
             "fill": {
              "color": "#506784"
             },
             "line": {
              "color": "rgb(17,17,17)"
             }
            },
            "header": {
             "fill": {
              "color": "#2a3f5f"
             },
             "line": {
              "color": "rgb(17,17,17)"
             }
            },
            "type": "table"
           }
          ]
         },
         "layout": {
          "annotationdefaults": {
           "arrowcolor": "#f2f5fa",
           "arrowhead": 0,
           "arrowwidth": 1
          },
          "autotypenumbers": "strict",
          "coloraxis": {
           "colorbar": {
            "outlinewidth": 0,
            "ticks": ""
           }
          },
          "colorscale": {
           "diverging": [
            [
             0,
             "#8e0152"
            ],
            [
             0.1,
             "#c51b7d"
            ],
            [
             0.2,
             "#de77ae"
            ],
            [
             0.3,
             "#f1b6da"
            ],
            [
             0.4,
             "#fde0ef"
            ],
            [
             0.5,
             "#f7f7f7"
            ],
            [
             0.6,
             "#e6f5d0"
            ],
            [
             0.7,
             "#b8e186"
            ],
            [
             0.8,
             "#7fbc41"
            ],
            [
             0.9,
             "#4d9221"
            ],
            [
             1,
             "#276419"
            ]
           ],
           "sequential": [
            [
             0,
             "#0d0887"
            ],
            [
             0.1111111111111111,
             "#46039f"
            ],
            [
             0.2222222222222222,
             "#7201a8"
            ],
            [
             0.3333333333333333,
             "#9c179e"
            ],
            [
             0.4444444444444444,
             "#bd3786"
            ],
            [
             0.5555555555555556,
             "#d8576b"
            ],
            [
             0.6666666666666666,
             "#ed7953"
            ],
            [
             0.7777777777777778,
             "#fb9f3a"
            ],
            [
             0.8888888888888888,
             "#fdca26"
            ],
            [
             1,
             "#f0f921"
            ]
           ],
           "sequentialminus": [
            [
             0,
             "#0d0887"
            ],
            [
             0.1111111111111111,
             "#46039f"
            ],
            [
             0.2222222222222222,
             "#7201a8"
            ],
            [
             0.3333333333333333,
             "#9c179e"
            ],
            [
             0.4444444444444444,
             "#bd3786"
            ],
            [
             0.5555555555555556,
             "#d8576b"
            ],
            [
             0.6666666666666666,
             "#ed7953"
            ],
            [
             0.7777777777777778,
             "#fb9f3a"
            ],
            [
             0.8888888888888888,
             "#fdca26"
            ],
            [
             1,
             "#f0f921"
            ]
           ]
          },
          "colorway": [
           "#636efa",
           "#EF553B",
           "#00cc96",
           "#ab63fa",
           "#FFA15A",
           "#19d3f3",
           "#FF6692",
           "#B6E880",
           "#FF97FF",
           "#FECB52"
          ],
          "font": {
           "color": "#f2f5fa"
          },
          "geo": {
           "bgcolor": "rgb(17,17,17)",
           "lakecolor": "rgb(17,17,17)",
           "landcolor": "rgb(17,17,17)",
           "showlakes": true,
           "showland": true,
           "subunitcolor": "#506784"
          },
          "hoverlabel": {
           "align": "left"
          },
          "hovermode": "closest",
          "mapbox": {
           "style": "dark"
          },
          "paper_bgcolor": "rgb(17,17,17)",
          "plot_bgcolor": "rgb(17,17,17)",
          "polar": {
           "angularaxis": {
            "gridcolor": "#506784",
            "linecolor": "#506784",
            "ticks": ""
           },
           "bgcolor": "rgb(17,17,17)",
           "radialaxis": {
            "gridcolor": "#506784",
            "linecolor": "#506784",
            "ticks": ""
           }
          },
          "scene": {
           "xaxis": {
            "backgroundcolor": "rgb(17,17,17)",
            "gridcolor": "#506784",
            "gridwidth": 2,
            "linecolor": "#506784",
            "showbackground": true,
            "ticks": "",
            "zerolinecolor": "#C8D4E3"
           },
           "yaxis": {
            "backgroundcolor": "rgb(17,17,17)",
            "gridcolor": "#506784",
            "gridwidth": 2,
            "linecolor": "#506784",
            "showbackground": true,
            "ticks": "",
            "zerolinecolor": "#C8D4E3"
           },
           "zaxis": {
            "backgroundcolor": "rgb(17,17,17)",
            "gridcolor": "#506784",
            "gridwidth": 2,
            "linecolor": "#506784",
            "showbackground": true,
            "ticks": "",
            "zerolinecolor": "#C8D4E3"
           }
          },
          "shapedefaults": {
           "line": {
            "color": "#f2f5fa"
           }
          },
          "sliderdefaults": {
           "bgcolor": "#C8D4E3",
           "bordercolor": "rgb(17,17,17)",
           "borderwidth": 1,
           "tickwidth": 0
          },
          "ternary": {
           "aaxis": {
            "gridcolor": "#506784",
            "linecolor": "#506784",
            "ticks": ""
           },
           "baxis": {
            "gridcolor": "#506784",
            "linecolor": "#506784",
            "ticks": ""
           },
           "bgcolor": "rgb(17,17,17)",
           "caxis": {
            "gridcolor": "#506784",
            "linecolor": "#506784",
            "ticks": ""
           }
          },
          "title": {
           "x": 0.05
          },
          "updatemenudefaults": {
           "bgcolor": "#506784",
           "borderwidth": 0
          },
          "xaxis": {
           "automargin": true,
           "gridcolor": "#283442",
           "linecolor": "#506784",
           "ticks": "",
           "title": {
            "standoff": 15
           },
           "zerolinecolor": "#283442",
           "zerolinewidth": 2
          },
          "yaxis": {
           "automargin": true,
           "gridcolor": "#283442",
           "linecolor": "#506784",
           "ticks": "",
           "title": {
            "standoff": 15
           },
           "zerolinecolor": "#283442",
           "zerolinewidth": 2
          }
         }
        },
        "xaxis": {
         "anchor": "y",
         "domain": [
          0,
          1
         ],
         "title": {
          "text": "Time"
         }
        },
        "yaxis": {
         "anchor": "x",
         "domain": [
          0,
          1
         ],
         "title": {
          "text": "value"
         }
        }
       }
      }
     },
     "metadata": {},
     "output_type": "display_data"
    }
   ],
   "source": [
    "n =  10\n",
    "pais_unico = list(set(Data_final['Pais_x']))\n",
    "PIB = []\n",
    "Data_no_auto = pd.DataFrame()\n",
    "for x in range(len(set(Data_final['Pais_x']))):\n",
    "    PIB.append(resagos(Data_final,columnas = ['total_gdp_million','ECI'],n=n,pais=pais_unico[x]))\n",
    "Data_no_auto = pd.concat(PIB,ignore_index= True)\n",
    "# Data_no_auto[Data_no_auto['Pais']=='Slovenia']\n",
    "# Data_no_auto\n",
    "data_glob = Data_no_auto.copy()\n",
    "data_glob['Año'] = [\"\".join([str(data_glob.iloc[i,4]),\"-01\"]) for i in range(len(data_glob.Año))]\n",
    "data_glob = pd.pivot_table(data_glob,index='Año',values=['total_gdp_million','Poblacion','ECI'],aggfunc='sum').reset_index()\n",
    "data_glob['Time'] = pd.to_datetime(data_glob['Año'])\n",
    "data_glob = data_glob.sort_values(by='Time')\n",
    "fig = px.line(data_glob, x=\"Time\", y=[\"total_gdp_million\"], template = 'plotly_dark')\n",
    "fig.show()"
   ]
  },
  {
   "cell_type": "code",
   "execution_count": 44,
   "metadata": {},
   "outputs": [
    {
     "data": {
      "text/html": [
       "<div>\n",
       "<style scoped>\n",
       "    .dataframe tbody tr th:only-of-type {\n",
       "        vertical-align: middle;\n",
       "    }\n",
       "\n",
       "    .dataframe tbody tr th {\n",
       "        vertical-align: top;\n",
       "    }\n",
       "\n",
       "    .dataframe thead th {\n",
       "        text-align: right;\n",
       "    }\n",
       "</style>\n",
       "<table border=\"1\" class=\"dataframe\">\n",
       "  <thead>\n",
       "    <tr style=\"text-align: right;\">\n",
       "      <th></th>\n",
       "      <th>total_gdp_million</th>\n",
       "      <th>Pais</th>\n",
       "      <th>Ecuador</th>\n",
       "      <th>Poblacion</th>\n",
       "      <th>Año</th>\n",
       "      <th>ECI</th>\n",
       "    </tr>\n",
       "  </thead>\n",
       "  <tbody>\n",
       "    <tr>\n",
       "      <th>0</th>\n",
       "      <td>83995.5216</td>\n",
       "      <td>Finland</td>\n",
       "      <td>0</td>\n",
       "      <td>5508214.0</td>\n",
       "      <td>2017</td>\n",
       "      <td>-0.195394</td>\n",
       "    </tr>\n",
       "    <tr>\n",
       "      <th>1</th>\n",
       "      <td>88236.8671</td>\n",
       "      <td>Finland</td>\n",
       "      <td>0</td>\n",
       "      <td>5313399.0</td>\n",
       "      <td>2008</td>\n",
       "      <td>-0.145695</td>\n",
       "    </tr>\n",
       "    <tr>\n",
       "      <th>2</th>\n",
       "      <td>100366.8911</td>\n",
       "      <td>Finland</td>\n",
       "      <td>0</td>\n",
       "      <td>5495303.0</td>\n",
       "      <td>2016</td>\n",
       "      <td>-0.166914</td>\n",
       "    </tr>\n",
       "    <tr>\n",
       "      <th>3</th>\n",
       "      <td>-21843.6854</td>\n",
       "      <td>Finland</td>\n",
       "      <td>0</td>\n",
       "      <td>5479531.0</td>\n",
       "      <td>2015</td>\n",
       "      <td>-0.086978</td>\n",
       "    </tr>\n",
       "    <tr>\n",
       "      <th>4</th>\n",
       "      <td>148843.2834</td>\n",
       "      <td>Finland</td>\n",
       "      <td>0</td>\n",
       "      <td>5461512.0</td>\n",
       "      <td>2014</td>\n",
       "      <td>-0.041529</td>\n",
       "    </tr>\n",
       "    <tr>\n",
       "      <th>...</th>\n",
       "      <td>...</td>\n",
       "      <td>...</td>\n",
       "      <td>...</td>\n",
       "      <td>...</td>\n",
       "      <td>...</td>\n",
       "      <td>...</td>\n",
       "    </tr>\n",
       "    <tr>\n",
       "      <th>820</th>\n",
       "      <td>201014.4306</td>\n",
       "      <td>Mexico</td>\n",
       "      <td>1</td>\n",
       "      <td>121519221.0</td>\n",
       "      <td>2016</td>\n",
       "      <td>0.315044</td>\n",
       "    </tr>\n",
       "    <tr>\n",
       "      <th>821</th>\n",
       "      <td>183525.9043</td>\n",
       "      <td>Mexico</td>\n",
       "      <td>1</td>\n",
       "      <td>122839258.0</td>\n",
       "      <td>2017</td>\n",
       "      <td>0.352142</td>\n",
       "    </tr>\n",
       "    <tr>\n",
       "      <th>822</th>\n",
       "      <td>-131892.8130</td>\n",
       "      <td>Mexico</td>\n",
       "      <td>1</td>\n",
       "      <td>125998302.0</td>\n",
       "      <td>2020</td>\n",
       "      <td>-0.011692</td>\n",
       "    </tr>\n",
       "    <tr>\n",
       "      <th>823</th>\n",
       "      <td>57292.7820</td>\n",
       "      <td>Mexico</td>\n",
       "      <td>1</td>\n",
       "      <td>109684489.0</td>\n",
       "      <td>2008</td>\n",
       "      <td>0.099763</td>\n",
       "    </tr>\n",
       "    <tr>\n",
       "      <th>824</th>\n",
       "      <td>-157755.9454</td>\n",
       "      <td>Mexico</td>\n",
       "      <td>1</td>\n",
       "      <td>111049428.0</td>\n",
       "      <td>2009</td>\n",
       "      <td>-0.018987</td>\n",
       "    </tr>\n",
       "  </tbody>\n",
       "</table>\n",
       "<p>825 rows × 6 columns</p>\n",
       "</div>"
      ],
      "text/plain": [
       "     total_gdp_million     Pais  Ecuador    Poblacion   Año       ECI\n",
       "0           83995.5216  Finland        0    5508214.0  2017 -0.195394\n",
       "1           88236.8671  Finland        0    5313399.0  2008 -0.145695\n",
       "2          100366.8911  Finland        0    5495303.0  2016 -0.166914\n",
       "3          -21843.6854  Finland        0    5479531.0  2015 -0.086978\n",
       "4          148843.2834  Finland        0    5461512.0  2014 -0.041529\n",
       "..                 ...      ...      ...          ...   ...       ...\n",
       "820        201014.4306   Mexico        1  121519221.0  2016  0.315044\n",
       "821        183525.9043   Mexico        1  122839258.0  2017  0.352142\n",
       "822       -131892.8130   Mexico        1  125998302.0  2020 -0.011692\n",
       "823         57292.7820   Mexico        1  109684489.0  2008  0.099763\n",
       "824       -157755.9454   Mexico        1  111049428.0  2009 -0.018987\n",
       "\n",
       "[825 rows x 6 columns]"
      ]
     },
     "execution_count": 44,
     "metadata": {},
     "output_type": "execute_result"
    }
   ],
   "source": [
    "Data_no_auto"
   ]
  },
  {
   "cell_type": "code",
   "execution_count": 45,
   "metadata": {},
   "outputs": [
    {
     "data": {
      "text/html": [
       "<div>\n",
       "<style scoped>\n",
       "    .dataframe tbody tr th:only-of-type {\n",
       "        vertical-align: middle;\n",
       "    }\n",
       "\n",
       "    .dataframe tbody tr th {\n",
       "        vertical-align: top;\n",
       "    }\n",
       "\n",
       "    .dataframe thead th {\n",
       "        text-align: right;\n",
       "    }\n",
       "</style>\n",
       "<table border=\"1\" class=\"dataframe\">\n",
       "  <thead>\n",
       "    <tr style=\"text-align: right;\">\n",
       "      <th></th>\n",
       "      <th>Pais_x</th>\n",
       "      <th>Poblacion</th>\n",
       "      <th>total_gdp_million</th>\n",
       "      <th>ECI</th>\n",
       "      <th>año_x</th>\n",
       "      <th>Ecuador</th>\n",
       "    </tr>\n",
       "  </thead>\n",
       "  <tbody>\n",
       "    <tr>\n",
       "      <th>0</th>\n",
       "      <td>Algeria</td>\n",
       "      <td>42705368.0</td>\n",
       "      <td>171767.403700</td>\n",
       "      <td>-1.042459</td>\n",
       "      <td>2019</td>\n",
       "      <td>0</td>\n",
       "    </tr>\n",
       "    <tr>\n",
       "      <th>1</th>\n",
       "      <td>Algeria</td>\n",
       "      <td>43451666.0</td>\n",
       "      <td>145009.181500</td>\n",
       "      <td>-1.206390</td>\n",
       "      <td>2020</td>\n",
       "      <td>0</td>\n",
       "    </tr>\n",
       "    <tr>\n",
       "      <th>2</th>\n",
       "      <td>Algeria</td>\n",
       "      <td>30774621.0</td>\n",
       "      <td>54790.392750</td>\n",
       "      <td>-1.064802</td>\n",
       "      <td>2000</td>\n",
       "      <td>0</td>\n",
       "    </tr>\n",
       "    <tr>\n",
       "      <th>3</th>\n",
       "      <td>Algeria</td>\n",
       "      <td>31200985.0</td>\n",
       "      <td>54744.712810</td>\n",
       "      <td>-0.804064</td>\n",
       "      <td>2001</td>\n",
       "      <td>0</td>\n",
       "    </tr>\n",
       "    <tr>\n",
       "      <th>4</th>\n",
       "      <td>Algeria</td>\n",
       "      <td>31624696.0</td>\n",
       "      <td>56760.355870</td>\n",
       "      <td>-0.994074</td>\n",
       "      <td>2002</td>\n",
       "      <td>0</td>\n",
       "    </tr>\n",
       "    <tr>\n",
       "      <th>...</th>\n",
       "      <td>...</td>\n",
       "      <td>...</td>\n",
       "      <td>...</td>\n",
       "      <td>...</td>\n",
       "      <td>...</td>\n",
       "      <td>...</td>\n",
       "    </tr>\n",
       "    <tr>\n",
       "      <th>1570</th>\n",
       "      <td>Zimbabwe</td>\n",
       "      <td>11984644.0</td>\n",
       "      <td>6342.116400</td>\n",
       "      <td>-0.342388</td>\n",
       "      <td>2002</td>\n",
       "      <td>1</td>\n",
       "    </tr>\n",
       "    <tr>\n",
       "      <th>1571</th>\n",
       "      <td>Zimbabwe</td>\n",
       "      <td>11910978.0</td>\n",
       "      <td>6777.384700</td>\n",
       "      <td>-0.393783</td>\n",
       "      <td>2001</td>\n",
       "      <td>1</td>\n",
       "    </tr>\n",
       "    <tr>\n",
       "      <th>1572</th>\n",
       "      <td>Zimbabwe</td>\n",
       "      <td>11834676.0</td>\n",
       "      <td>6689.957600</td>\n",
       "      <td>-0.288579</td>\n",
       "      <td>2000</td>\n",
       "      <td>1</td>\n",
       "    </tr>\n",
       "    <tr>\n",
       "      <th>1573</th>\n",
       "      <td>Zimbabwe</td>\n",
       "      <td>12679810.0</td>\n",
       "      <td>9665.793264</td>\n",
       "      <td>-0.381771</td>\n",
       "      <td>2009</td>\n",
       "      <td>1</td>\n",
       "    </tr>\n",
       "    <tr>\n",
       "      <th>1574</th>\n",
       "      <td>Zimbabwe</td>\n",
       "      <td>15669666.0</td>\n",
       "      <td>21509.698410</td>\n",
       "      <td>-0.893569</td>\n",
       "      <td>2020</td>\n",
       "      <td>1</td>\n",
       "    </tr>\n",
       "  </tbody>\n",
       "</table>\n",
       "<p>1575 rows × 6 columns</p>\n",
       "</div>"
      ],
      "text/plain": [
       "        Pais_x   Poblacion  total_gdp_million       ECI  año_x  Ecuador\n",
       "0      Algeria  42705368.0      171767.403700 -1.042459   2019        0\n",
       "1      Algeria  43451666.0      145009.181500 -1.206390   2020        0\n",
       "2      Algeria  30774621.0       54790.392750 -1.064802   2000        0\n",
       "3      Algeria  31200985.0       54744.712810 -0.804064   2001        0\n",
       "4      Algeria  31624696.0       56760.355870 -0.994074   2002        0\n",
       "...        ...         ...                ...       ...    ...      ...\n",
       "1570  Zimbabwe  11984644.0        6342.116400 -0.342388   2002        1\n",
       "1571  Zimbabwe  11910978.0        6777.384700 -0.393783   2001        1\n",
       "1572  Zimbabwe  11834676.0        6689.957600 -0.288579   2000        1\n",
       "1573  Zimbabwe  12679810.0        9665.793264 -0.381771   2009        1\n",
       "1574  Zimbabwe  15669666.0       21509.698410 -0.893569   2020        1\n",
       "\n",
       "[1575 rows x 6 columns]"
      ]
     },
     "execution_count": 45,
     "metadata": {},
     "output_type": "execute_result"
    }
   ],
   "source": [
    "Data_final"
   ]
  },
  {
   "cell_type": "markdown",
   "metadata": {},
   "source": [
    "## **Etapa 3: Crear y Evaluar Modelos con Pycaret**"
   ]
  },
  {
   "cell_type": "markdown",
   "metadata": {},
   "source": [
    "### ***Data***"
   ]
  },
  {
   "cell_type": "code",
   "execution_count": 46,
   "metadata": {},
   "outputs": [
    {
     "data": {
      "text/html": [
       "<div>\n",
       "<style scoped>\n",
       "    .dataframe tbody tr th:only-of-type {\n",
       "        vertical-align: middle;\n",
       "    }\n",
       "\n",
       "    .dataframe tbody tr th {\n",
       "        vertical-align: top;\n",
       "    }\n",
       "\n",
       "    .dataframe thead th {\n",
       "        text-align: right;\n",
       "    }\n",
       "</style>\n",
       "<table border=\"1\" class=\"dataframe\">\n",
       "  <thead>\n",
       "    <tr style=\"text-align: right;\">\n",
       "      <th></th>\n",
       "      <th>Poblacion</th>\n",
       "      <th>total_gdp_million</th>\n",
       "      <th>ECI</th>\n",
       "      <th>año_x</th>\n",
       "      <th>Ecuador</th>\n",
       "    </tr>\n",
       "  </thead>\n",
       "  <tbody>\n",
       "    <tr>\n",
       "      <th>0</th>\n",
       "      <td>-0.123399</td>\n",
       "      <td>-0.283150</td>\n",
       "      <td>-1.042459</td>\n",
       "      <td>2019</td>\n",
       "      <td>0</td>\n",
       "    </tr>\n",
       "    <tr>\n",
       "      <th>1</th>\n",
       "      <td>-0.119818</td>\n",
       "      <td>-0.305020</td>\n",
       "      <td>-1.206390</td>\n",
       "      <td>2020</td>\n",
       "      <td>0</td>\n",
       "    </tr>\n",
       "    <tr>\n",
       "      <th>2</th>\n",
       "      <td>-0.180644</td>\n",
       "      <td>-0.378758</td>\n",
       "      <td>-1.064802</td>\n",
       "      <td>2000</td>\n",
       "      <td>0</td>\n",
       "    </tr>\n",
       "    <tr>\n",
       "      <th>3</th>\n",
       "      <td>-0.178598</td>\n",
       "      <td>-0.378796</td>\n",
       "      <td>-0.804064</td>\n",
       "      <td>2001</td>\n",
       "      <td>0</td>\n",
       "    </tr>\n",
       "    <tr>\n",
       "      <th>4</th>\n",
       "      <td>-0.176565</td>\n",
       "      <td>-0.377148</td>\n",
       "      <td>-0.994074</td>\n",
       "      <td>2002</td>\n",
       "      <td>0</td>\n",
       "    </tr>\n",
       "    <tr>\n",
       "      <th>...</th>\n",
       "      <td>...</td>\n",
       "      <td>...</td>\n",
       "      <td>...</td>\n",
       "      <td>...</td>\n",
       "      <td>...</td>\n",
       "    </tr>\n",
       "    <tr>\n",
       "      <th>1570</th>\n",
       "      <td>-0.270800</td>\n",
       "      <td>-0.418356</td>\n",
       "      <td>-0.342388</td>\n",
       "      <td>2002</td>\n",
       "      <td>1</td>\n",
       "    </tr>\n",
       "    <tr>\n",
       "      <th>1571</th>\n",
       "      <td>-0.271153</td>\n",
       "      <td>-0.418000</td>\n",
       "      <td>-0.393783</td>\n",
       "      <td>2001</td>\n",
       "      <td>1</td>\n",
       "    </tr>\n",
       "    <tr>\n",
       "      <th>1572</th>\n",
       "      <td>-0.271519</td>\n",
       "      <td>-0.418072</td>\n",
       "      <td>-0.288579</td>\n",
       "      <td>2000</td>\n",
       "      <td>1</td>\n",
       "    </tr>\n",
       "    <tr>\n",
       "      <th>1573</th>\n",
       "      <td>-0.267464</td>\n",
       "      <td>-0.415640</td>\n",
       "      <td>-0.381771</td>\n",
       "      <td>2009</td>\n",
       "      <td>1</td>\n",
       "    </tr>\n",
       "    <tr>\n",
       "      <th>1574</th>\n",
       "      <td>-0.253119</td>\n",
       "      <td>-0.405959</td>\n",
       "      <td>-0.893569</td>\n",
       "      <td>2020</td>\n",
       "      <td>1</td>\n",
       "    </tr>\n",
       "  </tbody>\n",
       "</table>\n",
       "<p>1575 rows × 5 columns</p>\n",
       "</div>"
      ],
      "text/plain": [
       "      Poblacion  total_gdp_million       ECI  año_x  Ecuador\n",
       "0     -0.123399          -0.283150 -1.042459   2019        0\n",
       "1     -0.119818          -0.305020 -1.206390   2020        0\n",
       "2     -0.180644          -0.378758 -1.064802   2000        0\n",
       "3     -0.178598          -0.378796 -0.804064   2001        0\n",
       "4     -0.176565          -0.377148 -0.994074   2002        0\n",
       "...         ...                ...       ...    ...      ...\n",
       "1570  -0.270800          -0.418356 -0.342388   2002        1\n",
       "1571  -0.271153          -0.418000 -0.393783   2001        1\n",
       "1572  -0.271519          -0.418072 -0.288579   2000        1\n",
       "1573  -0.267464          -0.415640 -0.381771   2009        1\n",
       "1574  -0.253119          -0.405959 -0.893569   2020        1\n",
       "\n",
       "[1575 rows x 5 columns]"
      ]
     },
     "execution_count": 46,
     "metadata": {},
     "output_type": "execute_result"
    }
   ],
   "source": [
    "std = StandardScaler()\n",
    "std.fit(Data_final[['total_gdp_million']])\n",
    "Data_final['total_gdp_million']= std.transform(Data_final[['total_gdp_million']])\n",
    "std.fit(Data_final[['Poblacion']])\n",
    "Data_final['Poblacion']= std.transform(Data_final[['Poblacion']])\n",
    "Data_final_2  = Data_final.drop(columns=['Pais_x'],axis=1)\n",
    "Data_final_2"
   ]
  },
  {
   "cell_type": "code",
   "execution_count": 47,
   "metadata": {},
   "outputs": [
    {
     "data": {
      "text/html": [
       "<style type=\"text/css\">\n",
       "#T_30916_row8_col1, #T_30916_row12_col1 {\n",
       "  background-color: lightgreen;\n",
       "}\n",
       "</style>\n",
       "<table id=\"T_30916\">\n",
       "  <thead>\n",
       "    <tr>\n",
       "      <th class=\"blank level0\" >&nbsp;</th>\n",
       "      <th id=\"T_30916_level0_col0\" class=\"col_heading level0 col0\" >Description</th>\n",
       "      <th id=\"T_30916_level0_col1\" class=\"col_heading level0 col1\" >Value</th>\n",
       "    </tr>\n",
       "  </thead>\n",
       "  <tbody>\n",
       "    <tr>\n",
       "      <th id=\"T_30916_level0_row0\" class=\"row_heading level0 row0\" >0</th>\n",
       "      <td id=\"T_30916_row0_col0\" class=\"data row0 col0\" >Session id</td>\n",
       "      <td id=\"T_30916_row0_col1\" class=\"data row0 col1\" >123</td>\n",
       "    </tr>\n",
       "    <tr>\n",
       "      <th id=\"T_30916_level0_row1\" class=\"row_heading level0 row1\" >1</th>\n",
       "      <td id=\"T_30916_row1_col0\" class=\"data row1 col0\" >Target</td>\n",
       "      <td id=\"T_30916_row1_col1\" class=\"data row1 col1\" >total_gdp_million</td>\n",
       "    </tr>\n",
       "    <tr>\n",
       "      <th id=\"T_30916_level0_row2\" class=\"row_heading level0 row2\" >2</th>\n",
       "      <td id=\"T_30916_row2_col0\" class=\"data row2 col0\" >Target type</td>\n",
       "      <td id=\"T_30916_row2_col1\" class=\"data row2 col1\" >Regression</td>\n",
       "    </tr>\n",
       "    <tr>\n",
       "      <th id=\"T_30916_level0_row3\" class=\"row_heading level0 row3\" >3</th>\n",
       "      <td id=\"T_30916_row3_col0\" class=\"data row3 col0\" >Original data shape</td>\n",
       "      <td id=\"T_30916_row3_col1\" class=\"data row3 col1\" >(1575, 5)</td>\n",
       "    </tr>\n",
       "    <tr>\n",
       "      <th id=\"T_30916_level0_row4\" class=\"row_heading level0 row4\" >4</th>\n",
       "      <td id=\"T_30916_row4_col0\" class=\"data row4 col0\" >Transformed data shape</td>\n",
       "      <td id=\"T_30916_row4_col1\" class=\"data row4 col1\" >(1575, 5)</td>\n",
       "    </tr>\n",
       "    <tr>\n",
       "      <th id=\"T_30916_level0_row5\" class=\"row_heading level0 row5\" >5</th>\n",
       "      <td id=\"T_30916_row5_col0\" class=\"data row5 col0\" >Transformed train set shape</td>\n",
       "      <td id=\"T_30916_row5_col1\" class=\"data row5 col1\" >(1102, 5)</td>\n",
       "    </tr>\n",
       "    <tr>\n",
       "      <th id=\"T_30916_level0_row6\" class=\"row_heading level0 row6\" >6</th>\n",
       "      <td id=\"T_30916_row6_col0\" class=\"data row6 col0\" >Transformed test set shape</td>\n",
       "      <td id=\"T_30916_row6_col1\" class=\"data row6 col1\" >(473, 5)</td>\n",
       "    </tr>\n",
       "    <tr>\n",
       "      <th id=\"T_30916_level0_row7\" class=\"row_heading level0 row7\" >7</th>\n",
       "      <td id=\"T_30916_row7_col0\" class=\"data row7 col0\" >Numeric features</td>\n",
       "      <td id=\"T_30916_row7_col1\" class=\"data row7 col1\" >4</td>\n",
       "    </tr>\n",
       "    <tr>\n",
       "      <th id=\"T_30916_level0_row8\" class=\"row_heading level0 row8\" >8</th>\n",
       "      <td id=\"T_30916_row8_col0\" class=\"data row8 col0\" >Preprocess</td>\n",
       "      <td id=\"T_30916_row8_col1\" class=\"data row8 col1\" >True</td>\n",
       "    </tr>\n",
       "    <tr>\n",
       "      <th id=\"T_30916_level0_row9\" class=\"row_heading level0 row9\" >9</th>\n",
       "      <td id=\"T_30916_row9_col0\" class=\"data row9 col0\" >Imputation type</td>\n",
       "      <td id=\"T_30916_row9_col1\" class=\"data row9 col1\" >simple</td>\n",
       "    </tr>\n",
       "    <tr>\n",
       "      <th id=\"T_30916_level0_row10\" class=\"row_heading level0 row10\" >10</th>\n",
       "      <td id=\"T_30916_row10_col0\" class=\"data row10 col0\" >Numeric imputation</td>\n",
       "      <td id=\"T_30916_row10_col1\" class=\"data row10 col1\" >mean</td>\n",
       "    </tr>\n",
       "    <tr>\n",
       "      <th id=\"T_30916_level0_row11\" class=\"row_heading level0 row11\" >11</th>\n",
       "      <td id=\"T_30916_row11_col0\" class=\"data row11 col0\" >Categorical imputation</td>\n",
       "      <td id=\"T_30916_row11_col1\" class=\"data row11 col1\" >mode</td>\n",
       "    </tr>\n",
       "    <tr>\n",
       "      <th id=\"T_30916_level0_row12\" class=\"row_heading level0 row12\" >12</th>\n",
       "      <td id=\"T_30916_row12_col0\" class=\"data row12 col0\" >Remove multicollinearity</td>\n",
       "      <td id=\"T_30916_row12_col1\" class=\"data row12 col1\" >True</td>\n",
       "    </tr>\n",
       "    <tr>\n",
       "      <th id=\"T_30916_level0_row13\" class=\"row_heading level0 row13\" >13</th>\n",
       "      <td id=\"T_30916_row13_col0\" class=\"data row13 col0\" >Multicollinearity threshold</td>\n",
       "      <td id=\"T_30916_row13_col1\" class=\"data row13 col1\" >0.900000</td>\n",
       "    </tr>\n",
       "    <tr>\n",
       "      <th id=\"T_30916_level0_row14\" class=\"row_heading level0 row14\" >14</th>\n",
       "      <td id=\"T_30916_row14_col0\" class=\"data row14 col0\" >Fold Generator</td>\n",
       "      <td id=\"T_30916_row14_col1\" class=\"data row14 col1\" >KFold</td>\n",
       "    </tr>\n",
       "    <tr>\n",
       "      <th id=\"T_30916_level0_row15\" class=\"row_heading level0 row15\" >15</th>\n",
       "      <td id=\"T_30916_row15_col0\" class=\"data row15 col0\" >Fold Number</td>\n",
       "      <td id=\"T_30916_row15_col1\" class=\"data row15 col1\" >10</td>\n",
       "    </tr>\n",
       "    <tr>\n",
       "      <th id=\"T_30916_level0_row16\" class=\"row_heading level0 row16\" >16</th>\n",
       "      <td id=\"T_30916_row16_col0\" class=\"data row16 col0\" >CPU Jobs</td>\n",
       "      <td id=\"T_30916_row16_col1\" class=\"data row16 col1\" >-1</td>\n",
       "    </tr>\n",
       "    <tr>\n",
       "      <th id=\"T_30916_level0_row17\" class=\"row_heading level0 row17\" >17</th>\n",
       "      <td id=\"T_30916_row17_col0\" class=\"data row17 col0\" >Use GPU</td>\n",
       "      <td id=\"T_30916_row17_col1\" class=\"data row17 col1\" >False</td>\n",
       "    </tr>\n",
       "    <tr>\n",
       "      <th id=\"T_30916_level0_row18\" class=\"row_heading level0 row18\" >18</th>\n",
       "      <td id=\"T_30916_row18_col0\" class=\"data row18 col0\" >Log Experiment</td>\n",
       "      <td id=\"T_30916_row18_col1\" class=\"data row18 col1\" >False</td>\n",
       "    </tr>\n",
       "    <tr>\n",
       "      <th id=\"T_30916_level0_row19\" class=\"row_heading level0 row19\" >19</th>\n",
       "      <td id=\"T_30916_row19_col0\" class=\"data row19 col0\" >Experiment Name</td>\n",
       "      <td id=\"T_30916_row19_col1\" class=\"data row19 col1\" >reg-default-name</td>\n",
       "    </tr>\n",
       "    <tr>\n",
       "      <th id=\"T_30916_level0_row20\" class=\"row_heading level0 row20\" >20</th>\n",
       "      <td id=\"T_30916_row20_col0\" class=\"data row20 col0\" >USI</td>\n",
       "      <td id=\"T_30916_row20_col1\" class=\"data row20 col1\" >635d</td>\n",
       "    </tr>\n",
       "  </tbody>\n",
       "</table>\n"
      ],
      "text/plain": [
       "<pandas.io.formats.style.Styler at 0x20461113970>"
      ]
     },
     "metadata": {},
     "output_type": "display_data"
    }
   ],
   "source": [
    "reg = setup(Data_final_2, target = 'total_gdp_million', session_id = 123,remove_multicollinearity=True)"
   ]
  },
  {
   "cell_type": "code",
   "execution_count": 48,
   "metadata": {},
   "outputs": [
    {
     "data": {
      "text/html": [],
      "text/plain": [
       "<IPython.core.display.HTML object>"
      ]
     },
     "metadata": {},
     "output_type": "display_data"
    },
    {
     "data": {
      "text/html": [
       "<style type=\"text/css\">\n",
       "#T_34d4b th {\n",
       "  text-align: left;\n",
       "}\n",
       "#T_34d4b_row0_col0, #T_34d4b_row1_col0, #T_34d4b_row1_col1, #T_34d4b_row1_col2, #T_34d4b_row1_col3, #T_34d4b_row1_col4, #T_34d4b_row1_col5, #T_34d4b_row1_col6, #T_34d4b_row2_col0, #T_34d4b_row2_col1, #T_34d4b_row2_col2, #T_34d4b_row2_col3, #T_34d4b_row2_col4, #T_34d4b_row2_col5, #T_34d4b_row2_col6, #T_34d4b_row3_col0, #T_34d4b_row3_col1, #T_34d4b_row3_col2, #T_34d4b_row3_col3, #T_34d4b_row3_col4, #T_34d4b_row3_col5, #T_34d4b_row3_col6, #T_34d4b_row4_col0, #T_34d4b_row4_col1, #T_34d4b_row4_col2, #T_34d4b_row4_col3, #T_34d4b_row4_col4, #T_34d4b_row4_col5, #T_34d4b_row4_col6, #T_34d4b_row5_col0, #T_34d4b_row5_col1, #T_34d4b_row5_col2, #T_34d4b_row5_col3, #T_34d4b_row5_col4, #T_34d4b_row5_col5, #T_34d4b_row5_col6, #T_34d4b_row6_col0, #T_34d4b_row6_col1, #T_34d4b_row6_col2, #T_34d4b_row6_col3, #T_34d4b_row6_col4, #T_34d4b_row6_col5, #T_34d4b_row6_col6, #T_34d4b_row7_col0, #T_34d4b_row7_col1, #T_34d4b_row7_col2, #T_34d4b_row7_col3, #T_34d4b_row7_col4, #T_34d4b_row7_col5, #T_34d4b_row7_col6, #T_34d4b_row8_col0, #T_34d4b_row8_col1, #T_34d4b_row8_col2, #T_34d4b_row8_col3, #T_34d4b_row8_col4, #T_34d4b_row8_col5, #T_34d4b_row8_col6, #T_34d4b_row9_col0, #T_34d4b_row9_col1, #T_34d4b_row9_col2, #T_34d4b_row9_col3, #T_34d4b_row9_col4, #T_34d4b_row9_col5, #T_34d4b_row9_col6, #T_34d4b_row10_col0, #T_34d4b_row10_col1, #T_34d4b_row10_col2, #T_34d4b_row10_col3, #T_34d4b_row10_col4, #T_34d4b_row10_col5, #T_34d4b_row10_col6, #T_34d4b_row11_col0, #T_34d4b_row11_col1, #T_34d4b_row11_col2, #T_34d4b_row11_col3, #T_34d4b_row11_col4, #T_34d4b_row11_col5, #T_34d4b_row11_col6, #T_34d4b_row12_col0, #T_34d4b_row12_col1, #T_34d4b_row12_col2, #T_34d4b_row12_col3, #T_34d4b_row12_col4, #T_34d4b_row12_col5, #T_34d4b_row12_col6, #T_34d4b_row13_col0, #T_34d4b_row13_col1, #T_34d4b_row13_col2, #T_34d4b_row13_col3, #T_34d4b_row13_col4, #T_34d4b_row13_col5, #T_34d4b_row13_col6, #T_34d4b_row14_col0, #T_34d4b_row14_col1, #T_34d4b_row14_col2, #T_34d4b_row14_col3, #T_34d4b_row14_col4, #T_34d4b_row14_col5, #T_34d4b_row14_col6, #T_34d4b_row15_col0, #T_34d4b_row15_col1, #T_34d4b_row15_col2, #T_34d4b_row15_col3, #T_34d4b_row15_col4, #T_34d4b_row15_col5, #T_34d4b_row15_col6, #T_34d4b_row16_col0, #T_34d4b_row16_col1, #T_34d4b_row16_col2, #T_34d4b_row16_col3, #T_34d4b_row16_col4, #T_34d4b_row16_col5, #T_34d4b_row16_col6, #T_34d4b_row17_col0, #T_34d4b_row17_col1, #T_34d4b_row17_col2, #T_34d4b_row17_col3, #T_34d4b_row17_col4, #T_34d4b_row17_col5, #T_34d4b_row17_col6 {\n",
       "  text-align: left;\n",
       "}\n",
       "#T_34d4b_row0_col1, #T_34d4b_row0_col2, #T_34d4b_row0_col3, #T_34d4b_row0_col4, #T_34d4b_row0_col5, #T_34d4b_row0_col6 {\n",
       "  text-align: left;\n",
       "  background-color: yellow;\n",
       "}\n",
       "#T_34d4b_row0_col7, #T_34d4b_row1_col7, #T_34d4b_row2_col7, #T_34d4b_row3_col7, #T_34d4b_row5_col7, #T_34d4b_row6_col7, #T_34d4b_row7_col7, #T_34d4b_row8_col7, #T_34d4b_row9_col7, #T_34d4b_row10_col7, #T_34d4b_row11_col7, #T_34d4b_row12_col7, #T_34d4b_row14_col7, #T_34d4b_row15_col7 {\n",
       "  text-align: left;\n",
       "  background-color: lightgrey;\n",
       "}\n",
       "#T_34d4b_row4_col7, #T_34d4b_row13_col7, #T_34d4b_row16_col7, #T_34d4b_row17_col7 {\n",
       "  text-align: left;\n",
       "  background-color: yellow;\n",
       "  background-color: lightgrey;\n",
       "}\n",
       "</style>\n",
       "<table id=\"T_34d4b\">\n",
       "  <thead>\n",
       "    <tr>\n",
       "      <th class=\"blank level0\" >&nbsp;</th>\n",
       "      <th id=\"T_34d4b_level0_col0\" class=\"col_heading level0 col0\" >Model</th>\n",
       "      <th id=\"T_34d4b_level0_col1\" class=\"col_heading level0 col1\" >MAE</th>\n",
       "      <th id=\"T_34d4b_level0_col2\" class=\"col_heading level0 col2\" >MSE</th>\n",
       "      <th id=\"T_34d4b_level0_col3\" class=\"col_heading level0 col3\" >RMSE</th>\n",
       "      <th id=\"T_34d4b_level0_col4\" class=\"col_heading level0 col4\" >R2</th>\n",
       "      <th id=\"T_34d4b_level0_col5\" class=\"col_heading level0 col5\" >RMSLE</th>\n",
       "      <th id=\"T_34d4b_level0_col6\" class=\"col_heading level0 col6\" >MAPE</th>\n",
       "      <th id=\"T_34d4b_level0_col7\" class=\"col_heading level0 col7\" >TT (Sec)</th>\n",
       "    </tr>\n",
       "  </thead>\n",
       "  <tbody>\n",
       "    <tr>\n",
       "      <th id=\"T_34d4b_level0_row0\" class=\"row_heading level0 row0\" >et</th>\n",
       "      <td id=\"T_34d4b_row0_col0\" class=\"data row0 col0\" >Extra Trees Regressor</td>\n",
       "      <td id=\"T_34d4b_row0_col1\" class=\"data row0 col1\" >0.0444</td>\n",
       "      <td id=\"T_34d4b_row0_col2\" class=\"data row0 col2\" >0.0154</td>\n",
       "      <td id=\"T_34d4b_row0_col3\" class=\"data row0 col3\" >0.1054</td>\n",
       "      <td id=\"T_34d4b_row0_col4\" class=\"data row0 col4\" >0.9853</td>\n",
       "      <td id=\"T_34d4b_row0_col5\" class=\"data row0 col5\" >0.0451</td>\n",
       "      <td id=\"T_34d4b_row0_col6\" class=\"data row0 col6\" >0.3794</td>\n",
       "      <td id=\"T_34d4b_row0_col7\" class=\"data row0 col7\" >0.0210</td>\n",
       "    </tr>\n",
       "    <tr>\n",
       "      <th id=\"T_34d4b_level0_row1\" class=\"row_heading level0 row1\" >rf</th>\n",
       "      <td id=\"T_34d4b_row1_col0\" class=\"data row1 col0\" >Random Forest Regressor</td>\n",
       "      <td id=\"T_34d4b_row1_col1\" class=\"data row1 col1\" >0.0776</td>\n",
       "      <td id=\"T_34d4b_row1_col2\" class=\"data row1 col2\" >0.0856</td>\n",
       "      <td id=\"T_34d4b_row1_col3\" class=\"data row1 col3\" >0.2196</td>\n",
       "      <td id=\"T_34d4b_row1_col4\" class=\"data row1 col4\" >0.9183</td>\n",
       "      <td id=\"T_34d4b_row1_col5\" class=\"data row1 col5\" >0.0768</td>\n",
       "      <td id=\"T_34d4b_row1_col6\" class=\"data row1 col6\" >0.4537</td>\n",
       "      <td id=\"T_34d4b_row1_col7\" class=\"data row1 col7\" >0.0290</td>\n",
       "    </tr>\n",
       "    <tr>\n",
       "      <th id=\"T_34d4b_level0_row2\" class=\"row_heading level0 row2\" >gbr</th>\n",
       "      <td id=\"T_34d4b_row2_col0\" class=\"data row2 col0\" >Gradient Boosting Regressor</td>\n",
       "      <td id=\"T_34d4b_row2_col1\" class=\"data row2 col1\" >0.1229</td>\n",
       "      <td id=\"T_34d4b_row2_col2\" class=\"data row2 col2\" >0.0815</td>\n",
       "      <td id=\"T_34d4b_row2_col3\" class=\"data row2 col3\" >0.2457</td>\n",
       "      <td id=\"T_34d4b_row2_col4\" class=\"data row2 col4\" >0.9133</td>\n",
       "      <td id=\"T_34d4b_row2_col5\" class=\"data row2 col5\" >0.1087</td>\n",
       "      <td id=\"T_34d4b_row2_col6\" class=\"data row2 col6\" >0.9615</td>\n",
       "      <td id=\"T_34d4b_row2_col7\" class=\"data row2 col7\" >0.0160</td>\n",
       "    </tr>\n",
       "    <tr>\n",
       "      <th id=\"T_34d4b_level0_row3\" class=\"row_heading level0 row3\" >lightgbm</th>\n",
       "      <td id=\"T_34d4b_row3_col0\" class=\"data row3 col0\" >Light Gradient Boosting Machine</td>\n",
       "      <td id=\"T_34d4b_row3_col1\" class=\"data row3 col1\" >0.1106</td>\n",
       "      <td id=\"T_34d4b_row3_col2\" class=\"data row3 col2\" >0.1099</td>\n",
       "      <td id=\"T_34d4b_row3_col3\" class=\"data row3 col3\" >0.2921</td>\n",
       "      <td id=\"T_34d4b_row3_col4\" class=\"data row3 col4\" >0.8975</td>\n",
       "      <td id=\"T_34d4b_row3_col5\" class=\"data row3 col5\" >0.1007</td>\n",
       "      <td id=\"T_34d4b_row3_col6\" class=\"data row3 col6\" >0.7146</td>\n",
       "      <td id=\"T_34d4b_row3_col7\" class=\"data row3 col7\" >0.1110</td>\n",
       "    </tr>\n",
       "    <tr>\n",
       "      <th id=\"T_34d4b_level0_row4\" class=\"row_heading level0 row4\" >dt</th>\n",
       "      <td id=\"T_34d4b_row4_col0\" class=\"data row4 col0\" >Decision Tree Regressor</td>\n",
       "      <td id=\"T_34d4b_row4_col1\" class=\"data row4 col1\" >0.0963</td>\n",
       "      <td id=\"T_34d4b_row4_col2\" class=\"data row4 col2\" >0.1424</td>\n",
       "      <td id=\"T_34d4b_row4_col3\" class=\"data row4 col3\" >0.3113</td>\n",
       "      <td id=\"T_34d4b_row4_col4\" class=\"data row4 col4\" >0.8301</td>\n",
       "      <td id=\"T_34d4b_row4_col5\" class=\"data row4 col5\" >0.1054</td>\n",
       "      <td id=\"T_34d4b_row4_col6\" class=\"data row4 col6\" >0.5288</td>\n",
       "      <td id=\"T_34d4b_row4_col7\" class=\"data row4 col7\" >0.0050</td>\n",
       "    </tr>\n",
       "    <tr>\n",
       "      <th id=\"T_34d4b_level0_row5\" class=\"row_heading level0 row5\" >ada</th>\n",
       "      <td id=\"T_34d4b_row5_col0\" class=\"data row5 col0\" >AdaBoost Regressor</td>\n",
       "      <td id=\"T_34d4b_row5_col1\" class=\"data row5 col1\" >0.3741</td>\n",
       "      <td id=\"T_34d4b_row5_col2\" class=\"data row5 col2\" >0.2601</td>\n",
       "      <td id=\"T_34d4b_row5_col3\" class=\"data row5 col3\" >0.4837</td>\n",
       "      <td id=\"T_34d4b_row5_col4\" class=\"data row5 col4\" >0.6442</td>\n",
       "      <td id=\"T_34d4b_row5_col5\" class=\"data row5 col5\" >0.2147</td>\n",
       "      <td id=\"T_34d4b_row5_col6\" class=\"data row5 col6\" >2.5735</td>\n",
       "      <td id=\"T_34d4b_row5_col7\" class=\"data row5 col7\" >0.0140</td>\n",
       "    </tr>\n",
       "    <tr>\n",
       "      <th id=\"T_34d4b_level0_row6\" class=\"row_heading level0 row6\" >br</th>\n",
       "      <td id=\"T_34d4b_row6_col0\" class=\"data row6 col0\" >Bayesian Ridge</td>\n",
       "      <td id=\"T_34d4b_row6_col1\" class=\"data row6 col1\" >0.4093</td>\n",
       "      <td id=\"T_34d4b_row6_col2\" class=\"data row6 col2\" >0.5629</td>\n",
       "      <td id=\"T_34d4b_row6_col3\" class=\"data row6 col3\" >0.7271</td>\n",
       "      <td id=\"T_34d4b_row6_col4\" class=\"data row6 col4\" >0.3295</td>\n",
       "      <td id=\"T_34d4b_row6_col5\" class=\"data row6 col5\" >0.2671</td>\n",
       "      <td id=\"T_34d4b_row6_col6\" class=\"data row6 col6\" >3.2042</td>\n",
       "      <td id=\"T_34d4b_row6_col7\" class=\"data row6 col7\" >0.0070</td>\n",
       "    </tr>\n",
       "    <tr>\n",
       "      <th id=\"T_34d4b_level0_row7\" class=\"row_heading level0 row7\" >ridge</th>\n",
       "      <td id=\"T_34d4b_row7_col0\" class=\"data row7 col0\" >Ridge Regression</td>\n",
       "      <td id=\"T_34d4b_row7_col1\" class=\"data row7 col1\" >0.4098</td>\n",
       "      <td id=\"T_34d4b_row7_col2\" class=\"data row7 col2\" >0.5630</td>\n",
       "      <td id=\"T_34d4b_row7_col3\" class=\"data row7 col3\" >0.7273</td>\n",
       "      <td id=\"T_34d4b_row7_col4\" class=\"data row7 col4\" >0.3284</td>\n",
       "      <td id=\"T_34d4b_row7_col5\" class=\"data row7 col5\" >0.2671</td>\n",
       "      <td id=\"T_34d4b_row7_col6\" class=\"data row7 col6\" >3.2143</td>\n",
       "      <td id=\"T_34d4b_row7_col7\" class=\"data row7 col7\" >0.1400</td>\n",
       "    </tr>\n",
       "    <tr>\n",
       "      <th id=\"T_34d4b_level0_row8\" class=\"row_heading level0 row8\" >lar</th>\n",
       "      <td id=\"T_34d4b_row8_col0\" class=\"data row8 col0\" >Least Angle Regression</td>\n",
       "      <td id=\"T_34d4b_row8_col1\" class=\"data row8 col1\" >0.4099</td>\n",
       "      <td id=\"T_34d4b_row8_col2\" class=\"data row8 col2\" >0.5631</td>\n",
       "      <td id=\"T_34d4b_row8_col3\" class=\"data row8 col3\" >0.7274</td>\n",
       "      <td id=\"T_34d4b_row8_col4\" class=\"data row8 col4\" >0.3282</td>\n",
       "      <td id=\"T_34d4b_row8_col5\" class=\"data row8 col5\" >0.2671</td>\n",
       "      <td id=\"T_34d4b_row8_col6\" class=\"data row8 col6\" >3.2167</td>\n",
       "      <td id=\"T_34d4b_row8_col7\" class=\"data row8 col7\" >0.0060</td>\n",
       "    </tr>\n",
       "    <tr>\n",
       "      <th id=\"T_34d4b_level0_row9\" class=\"row_heading level0 row9\" >lr</th>\n",
       "      <td id=\"T_34d4b_row9_col0\" class=\"data row9 col0\" >Linear Regression</td>\n",
       "      <td id=\"T_34d4b_row9_col1\" class=\"data row9 col1\" >0.4099</td>\n",
       "      <td id=\"T_34d4b_row9_col2\" class=\"data row9 col2\" >0.5631</td>\n",
       "      <td id=\"T_34d4b_row9_col3\" class=\"data row9 col3\" >0.7274</td>\n",
       "      <td id=\"T_34d4b_row9_col4\" class=\"data row9 col4\" >0.3282</td>\n",
       "      <td id=\"T_34d4b_row9_col5\" class=\"data row9 col5\" >0.2671</td>\n",
       "      <td id=\"T_34d4b_row9_col6\" class=\"data row9 col6\" >3.2167</td>\n",
       "      <td id=\"T_34d4b_row9_col7\" class=\"data row9 col7\" >0.2210</td>\n",
       "    </tr>\n",
       "    <tr>\n",
       "      <th id=\"T_34d4b_level0_row10\" class=\"row_heading level0 row10\" >knn</th>\n",
       "      <td id=\"T_34d4b_row10_col0\" class=\"data row10 col0\" >K Neighbors Regressor</td>\n",
       "      <td id=\"T_34d4b_row10_col1\" class=\"data row10 col1\" >0.3250</td>\n",
       "      <td id=\"T_34d4b_row10_col2\" class=\"data row10 col2\" >0.5595</td>\n",
       "      <td id=\"T_34d4b_row10_col3\" class=\"data row10 col3\" >0.7256</td>\n",
       "      <td id=\"T_34d4b_row10_col4\" class=\"data row10 col4\" >0.3108</td>\n",
       "      <td id=\"T_34d4b_row10_col5\" class=\"data row10 col5\" >0.2640</td>\n",
       "      <td id=\"T_34d4b_row10_col6\" class=\"data row10 col6\" >2.4686</td>\n",
       "      <td id=\"T_34d4b_row10_col7\" class=\"data row10 col7\" >0.0080</td>\n",
       "    </tr>\n",
       "    <tr>\n",
       "      <th id=\"T_34d4b_level0_row11\" class=\"row_heading level0 row11\" >huber</th>\n",
       "      <td id=\"T_34d4b_row11_col0\" class=\"data row11 col0\" >Huber Regressor</td>\n",
       "      <td id=\"T_34d4b_row11_col1\" class=\"data row11 col1\" >0.3149</td>\n",
       "      <td id=\"T_34d4b_row11_col2\" class=\"data row11 col2\" >0.6857</td>\n",
       "      <td id=\"T_34d4b_row11_col3\" class=\"data row11 col3\" >0.7902</td>\n",
       "      <td id=\"T_34d4b_row11_col4\" class=\"data row11 col4\" >0.2531</td>\n",
       "      <td id=\"T_34d4b_row11_col5\" class=\"data row11 col5\" >0.3127</td>\n",
       "      <td id=\"T_34d4b_row11_col6\" class=\"data row11 col6\" >1.6800</td>\n",
       "      <td id=\"T_34d4b_row11_col7\" class=\"data row11 col7\" >0.0070</td>\n",
       "    </tr>\n",
       "    <tr>\n",
       "      <th id=\"T_34d4b_level0_row12\" class=\"row_heading level0 row12\" >en</th>\n",
       "      <td id=\"T_34d4b_row12_col0\" class=\"data row12 col0\" >Elastic Net</td>\n",
       "      <td id=\"T_34d4b_row12_col1\" class=\"data row12 col1\" >0.4958</td>\n",
       "      <td id=\"T_34d4b_row12_col2\" class=\"data row12 col2\" >0.9298</td>\n",
       "      <td id=\"T_34d4b_row12_col3\" class=\"data row12 col3\" >0.9126</td>\n",
       "      <td id=\"T_34d4b_row12_col4\" class=\"data row12 col4\" >0.0219</td>\n",
       "      <td id=\"T_34d4b_row12_col5\" class=\"data row12 col5\" >0.4181</td>\n",
       "      <td id=\"T_34d4b_row12_col6\" class=\"data row12 col6\" >1.2106</td>\n",
       "      <td id=\"T_34d4b_row12_col7\" class=\"data row12 col7\" >0.0060</td>\n",
       "    </tr>\n",
       "    <tr>\n",
       "      <th id=\"T_34d4b_level0_row13\" class=\"row_heading level0 row13\" >omp</th>\n",
       "      <td id=\"T_34d4b_row13_col0\" class=\"data row13 col0\" >Orthogonal Matching Pursuit</td>\n",
       "      <td id=\"T_34d4b_row13_col1\" class=\"data row13 col1\" >0.5065</td>\n",
       "      <td id=\"T_34d4b_row13_col2\" class=\"data row13 col2\" >0.9491</td>\n",
       "      <td id=\"T_34d4b_row13_col3\" class=\"data row13 col3\" >0.9263</td>\n",
       "      <td id=\"T_34d4b_row13_col4\" class=\"data row13 col4\" >-0.0187</td>\n",
       "      <td id=\"T_34d4b_row13_col5\" class=\"data row13 col5\" >0.3857</td>\n",
       "      <td id=\"T_34d4b_row13_col6\" class=\"data row13 col6\" >1.4355</td>\n",
       "      <td id=\"T_34d4b_row13_col7\" class=\"data row13 col7\" >0.0050</td>\n",
       "    </tr>\n",
       "    <tr>\n",
       "      <th id=\"T_34d4b_level0_row14\" class=\"row_heading level0 row14\" >lasso</th>\n",
       "      <td id=\"T_34d4b_row14_col0\" class=\"data row14 col0\" >Lasso Regression</td>\n",
       "      <td id=\"T_34d4b_row14_col1\" class=\"data row14 col1\" >0.5102</td>\n",
       "      <td id=\"T_34d4b_row14_col2\" class=\"data row14 col2\" >0.9597</td>\n",
       "      <td id=\"T_34d4b_row14_col3\" class=\"data row14 col3\" >0.9302</td>\n",
       "      <td id=\"T_34d4b_row14_col4\" class=\"data row14 col4\" >-0.0222</td>\n",
       "      <td id=\"T_34d4b_row14_col5\" class=\"data row14 col5\" >0.4393</td>\n",
       "      <td id=\"T_34d4b_row14_col6\" class=\"data row14 col6\" >1.0658</td>\n",
       "      <td id=\"T_34d4b_row14_col7\" class=\"data row14 col7\" >0.1780</td>\n",
       "    </tr>\n",
       "    <tr>\n",
       "      <th id=\"T_34d4b_level0_row15\" class=\"row_heading level0 row15\" >llar</th>\n",
       "      <td id=\"T_34d4b_row15_col0\" class=\"data row15 col0\" >Lasso Least Angle Regression</td>\n",
       "      <td id=\"T_34d4b_row15_col1\" class=\"data row15 col1\" >0.5102</td>\n",
       "      <td id=\"T_34d4b_row15_col2\" class=\"data row15 col2\" >0.9597</td>\n",
       "      <td id=\"T_34d4b_row15_col3\" class=\"data row15 col3\" >0.9302</td>\n",
       "      <td id=\"T_34d4b_row15_col4\" class=\"data row15 col4\" >-0.0222</td>\n",
       "      <td id=\"T_34d4b_row15_col5\" class=\"data row15 col5\" >0.4393</td>\n",
       "      <td id=\"T_34d4b_row15_col6\" class=\"data row15 col6\" >1.0658</td>\n",
       "      <td id=\"T_34d4b_row15_col7\" class=\"data row15 col7\" >0.0060</td>\n",
       "    </tr>\n",
       "    <tr>\n",
       "      <th id=\"T_34d4b_level0_row16\" class=\"row_heading level0 row16\" >dummy</th>\n",
       "      <td id=\"T_34d4b_row16_col0\" class=\"data row16 col0\" >Dummy Regressor</td>\n",
       "      <td id=\"T_34d4b_row16_col1\" class=\"data row16 col1\" >0.5102</td>\n",
       "      <td id=\"T_34d4b_row16_col2\" class=\"data row16 col2\" >0.9597</td>\n",
       "      <td id=\"T_34d4b_row16_col3\" class=\"data row16 col3\" >0.9302</td>\n",
       "      <td id=\"T_34d4b_row16_col4\" class=\"data row16 col4\" >-0.0222</td>\n",
       "      <td id=\"T_34d4b_row16_col5\" class=\"data row16 col5\" >0.4393</td>\n",
       "      <td id=\"T_34d4b_row16_col6\" class=\"data row16 col6\" >1.0658</td>\n",
       "      <td id=\"T_34d4b_row16_col7\" class=\"data row16 col7\" >0.0050</td>\n",
       "    </tr>\n",
       "    <tr>\n",
       "      <th id=\"T_34d4b_level0_row17\" class=\"row_heading level0 row17\" >par</th>\n",
       "      <td id=\"T_34d4b_row17_col0\" class=\"data row17 col0\" >Passive Aggressive Regressor</td>\n",
       "      <td id=\"T_34d4b_row17_col1\" class=\"data row17 col1\" >0.4131</td>\n",
       "      <td id=\"T_34d4b_row17_col2\" class=\"data row17 col2\" >1.0084</td>\n",
       "      <td id=\"T_34d4b_row17_col3\" class=\"data row17 col3\" >0.9515</td>\n",
       "      <td id=\"T_34d4b_row17_col4\" class=\"data row17 col4\" >-0.0602</td>\n",
       "      <td id=\"T_34d4b_row17_col5\" class=\"data row17 col5\" >0.3343</td>\n",
       "      <td id=\"T_34d4b_row17_col6\" class=\"data row17 col6\" >1.8342</td>\n",
       "      <td id=\"T_34d4b_row17_col7\" class=\"data row17 col7\" >0.0050</td>\n",
       "    </tr>\n",
       "  </tbody>\n",
       "</table>\n"
      ],
      "text/plain": [
       "<pandas.io.formats.style.Styler at 0x20461223550>"
      ]
     },
     "metadata": {},
     "output_type": "display_data"
    },
    {
     "data": {
      "text/html": [],
      "text/plain": [
       "<IPython.core.display.HTML object>"
      ]
     },
     "metadata": {},
     "output_type": "display_data"
    }
   ],
   "source": [
    "best = compare_models()"
   ]
  },
  {
   "cell_type": "code",
   "execution_count": 49,
   "metadata": {},
   "outputs": [
    {
     "data": {
      "text/html": [
       "<style type=\"text/css\">\n",
       "#T_e741b_row8_col1 {\n",
       "  background-color: lightgreen;\n",
       "}\n",
       "</style>\n",
       "<table id=\"T_e741b\">\n",
       "  <thead>\n",
       "    <tr>\n",
       "      <th class=\"blank level0\" >&nbsp;</th>\n",
       "      <th id=\"T_e741b_level0_col0\" class=\"col_heading level0 col0\" >Description</th>\n",
       "      <th id=\"T_e741b_level0_col1\" class=\"col_heading level0 col1\" >Value</th>\n",
       "    </tr>\n",
       "  </thead>\n",
       "  <tbody>\n",
       "    <tr>\n",
       "      <th id=\"T_e741b_level0_row0\" class=\"row_heading level0 row0\" >0</th>\n",
       "      <td id=\"T_e741b_row0_col0\" class=\"data row0 col0\" >Session id</td>\n",
       "      <td id=\"T_e741b_row0_col1\" class=\"data row0 col1\" >123</td>\n",
       "    </tr>\n",
       "    <tr>\n",
       "      <th id=\"T_e741b_level0_row1\" class=\"row_heading level0 row1\" >1</th>\n",
       "      <td id=\"T_e741b_row1_col0\" class=\"data row1 col0\" >Target</td>\n",
       "      <td id=\"T_e741b_row1_col1\" class=\"data row1 col1\" >total_gdp_million</td>\n",
       "    </tr>\n",
       "    <tr>\n",
       "      <th id=\"T_e741b_level0_row2\" class=\"row_heading level0 row2\" >2</th>\n",
       "      <td id=\"T_e741b_row2_col0\" class=\"data row2 col0\" >Target type</td>\n",
       "      <td id=\"T_e741b_row2_col1\" class=\"data row2 col1\" >Regression</td>\n",
       "    </tr>\n",
       "    <tr>\n",
       "      <th id=\"T_e741b_level0_row3\" class=\"row_heading level0 row3\" >3</th>\n",
       "      <td id=\"T_e741b_row3_col0\" class=\"data row3 col0\" >Original data shape</td>\n",
       "      <td id=\"T_e741b_row3_col1\" class=\"data row3 col1\" >(1575, 5)</td>\n",
       "    </tr>\n",
       "    <tr>\n",
       "      <th id=\"T_e741b_level0_row4\" class=\"row_heading level0 row4\" >4</th>\n",
       "      <td id=\"T_e741b_row4_col0\" class=\"data row4 col0\" >Transformed data shape</td>\n",
       "      <td id=\"T_e741b_row4_col1\" class=\"data row4 col1\" >(1575, 5)</td>\n",
       "    </tr>\n",
       "    <tr>\n",
       "      <th id=\"T_e741b_level0_row5\" class=\"row_heading level0 row5\" >5</th>\n",
       "      <td id=\"T_e741b_row5_col0\" class=\"data row5 col0\" >Transformed train set shape</td>\n",
       "      <td id=\"T_e741b_row5_col1\" class=\"data row5 col1\" >(1102, 5)</td>\n",
       "    </tr>\n",
       "    <tr>\n",
       "      <th id=\"T_e741b_level0_row6\" class=\"row_heading level0 row6\" >6</th>\n",
       "      <td id=\"T_e741b_row6_col0\" class=\"data row6 col0\" >Transformed test set shape</td>\n",
       "      <td id=\"T_e741b_row6_col1\" class=\"data row6 col1\" >(473, 5)</td>\n",
       "    </tr>\n",
       "    <tr>\n",
       "      <th id=\"T_e741b_level0_row7\" class=\"row_heading level0 row7\" >7</th>\n",
       "      <td id=\"T_e741b_row7_col0\" class=\"data row7 col0\" >Numeric features</td>\n",
       "      <td id=\"T_e741b_row7_col1\" class=\"data row7 col1\" >4</td>\n",
       "    </tr>\n",
       "    <tr>\n",
       "      <th id=\"T_e741b_level0_row8\" class=\"row_heading level0 row8\" >8</th>\n",
       "      <td id=\"T_e741b_row8_col0\" class=\"data row8 col0\" >Preprocess</td>\n",
       "      <td id=\"T_e741b_row8_col1\" class=\"data row8 col1\" >True</td>\n",
       "    </tr>\n",
       "    <tr>\n",
       "      <th id=\"T_e741b_level0_row9\" class=\"row_heading level0 row9\" >9</th>\n",
       "      <td id=\"T_e741b_row9_col0\" class=\"data row9 col0\" >Imputation type</td>\n",
       "      <td id=\"T_e741b_row9_col1\" class=\"data row9 col1\" >simple</td>\n",
       "    </tr>\n",
       "    <tr>\n",
       "      <th id=\"T_e741b_level0_row10\" class=\"row_heading level0 row10\" >10</th>\n",
       "      <td id=\"T_e741b_row10_col0\" class=\"data row10 col0\" >Numeric imputation</td>\n",
       "      <td id=\"T_e741b_row10_col1\" class=\"data row10 col1\" >mean</td>\n",
       "    </tr>\n",
       "    <tr>\n",
       "      <th id=\"T_e741b_level0_row11\" class=\"row_heading level0 row11\" >11</th>\n",
       "      <td id=\"T_e741b_row11_col0\" class=\"data row11 col0\" >Categorical imputation</td>\n",
       "      <td id=\"T_e741b_row11_col1\" class=\"data row11 col1\" >mode</td>\n",
       "    </tr>\n",
       "    <tr>\n",
       "      <th id=\"T_e741b_level0_row12\" class=\"row_heading level0 row12\" >12</th>\n",
       "      <td id=\"T_e741b_row12_col0\" class=\"data row12 col0\" >Fold Generator</td>\n",
       "      <td id=\"T_e741b_row12_col1\" class=\"data row12 col1\" >KFold</td>\n",
       "    </tr>\n",
       "    <tr>\n",
       "      <th id=\"T_e741b_level0_row13\" class=\"row_heading level0 row13\" >13</th>\n",
       "      <td id=\"T_e741b_row13_col0\" class=\"data row13 col0\" >Fold Number</td>\n",
       "      <td id=\"T_e741b_row13_col1\" class=\"data row13 col1\" >10</td>\n",
       "    </tr>\n",
       "    <tr>\n",
       "      <th id=\"T_e741b_level0_row14\" class=\"row_heading level0 row14\" >14</th>\n",
       "      <td id=\"T_e741b_row14_col0\" class=\"data row14 col0\" >CPU Jobs</td>\n",
       "      <td id=\"T_e741b_row14_col1\" class=\"data row14 col1\" >-1</td>\n",
       "    </tr>\n",
       "    <tr>\n",
       "      <th id=\"T_e741b_level0_row15\" class=\"row_heading level0 row15\" >15</th>\n",
       "      <td id=\"T_e741b_row15_col0\" class=\"data row15 col0\" >Use GPU</td>\n",
       "      <td id=\"T_e741b_row15_col1\" class=\"data row15 col1\" >False</td>\n",
       "    </tr>\n",
       "    <tr>\n",
       "      <th id=\"T_e741b_level0_row16\" class=\"row_heading level0 row16\" >16</th>\n",
       "      <td id=\"T_e741b_row16_col0\" class=\"data row16 col0\" >Log Experiment</td>\n",
       "      <td id=\"T_e741b_row16_col1\" class=\"data row16 col1\" >False</td>\n",
       "    </tr>\n",
       "    <tr>\n",
       "      <th id=\"T_e741b_level0_row17\" class=\"row_heading level0 row17\" >17</th>\n",
       "      <td id=\"T_e741b_row17_col0\" class=\"data row17 col0\" >Experiment Name</td>\n",
       "      <td id=\"T_e741b_row17_col1\" class=\"data row17 col1\" >reg-default-name</td>\n",
       "    </tr>\n",
       "    <tr>\n",
       "      <th id=\"T_e741b_level0_row18\" class=\"row_heading level0 row18\" >18</th>\n",
       "      <td id=\"T_e741b_row18_col0\" class=\"data row18 col0\" >USI</td>\n",
       "      <td id=\"T_e741b_row18_col1\" class=\"data row18 col1\" >648e</td>\n",
       "    </tr>\n",
       "  </tbody>\n",
       "</table>\n"
      ],
      "text/plain": [
       "<pandas.io.formats.style.Styler at 0x20461d72cb0>"
      ]
     },
     "metadata": {},
     "output_type": "display_data"
    }
   ],
   "source": [
    "reg = setup(Data_final_2, target = 'total_gdp_million', session_id = 123,remove_multicollinearity=False)"
   ]
  },
  {
   "cell_type": "code",
   "execution_count": 50,
   "metadata": {},
   "outputs": [
    {
     "data": {
      "text/html": [],
      "text/plain": [
       "<IPython.core.display.HTML object>"
      ]
     },
     "metadata": {},
     "output_type": "display_data"
    },
    {
     "data": {
      "text/html": [
       "<style type=\"text/css\">\n",
       "#T_94c08 th {\n",
       "  text-align: left;\n",
       "}\n",
       "#T_94c08_row0_col0, #T_94c08_row1_col0, #T_94c08_row1_col1, #T_94c08_row1_col2, #T_94c08_row1_col3, #T_94c08_row1_col4, #T_94c08_row1_col5, #T_94c08_row1_col6, #T_94c08_row2_col0, #T_94c08_row2_col1, #T_94c08_row2_col2, #T_94c08_row2_col3, #T_94c08_row2_col4, #T_94c08_row2_col5, #T_94c08_row2_col6, #T_94c08_row3_col0, #T_94c08_row3_col1, #T_94c08_row3_col2, #T_94c08_row3_col3, #T_94c08_row3_col4, #T_94c08_row3_col5, #T_94c08_row3_col6, #T_94c08_row4_col0, #T_94c08_row4_col1, #T_94c08_row4_col2, #T_94c08_row4_col3, #T_94c08_row4_col4, #T_94c08_row4_col5, #T_94c08_row4_col6, #T_94c08_row5_col0, #T_94c08_row5_col1, #T_94c08_row5_col2, #T_94c08_row5_col3, #T_94c08_row5_col4, #T_94c08_row5_col5, #T_94c08_row5_col6, #T_94c08_row6_col0, #T_94c08_row6_col1, #T_94c08_row6_col2, #T_94c08_row6_col3, #T_94c08_row6_col4, #T_94c08_row6_col5, #T_94c08_row6_col6, #T_94c08_row7_col0, #T_94c08_row7_col1, #T_94c08_row7_col2, #T_94c08_row7_col3, #T_94c08_row7_col4, #T_94c08_row7_col5, #T_94c08_row7_col6, #T_94c08_row8_col0, #T_94c08_row8_col1, #T_94c08_row8_col2, #T_94c08_row8_col3, #T_94c08_row8_col4, #T_94c08_row8_col5, #T_94c08_row8_col6, #T_94c08_row9_col0, #T_94c08_row9_col1, #T_94c08_row9_col2, #T_94c08_row9_col3, #T_94c08_row9_col4, #T_94c08_row9_col5, #T_94c08_row9_col6, #T_94c08_row10_col0, #T_94c08_row10_col1, #T_94c08_row10_col2, #T_94c08_row10_col3, #T_94c08_row10_col4, #T_94c08_row10_col5, #T_94c08_row10_col6, #T_94c08_row11_col0, #T_94c08_row11_col1, #T_94c08_row11_col2, #T_94c08_row11_col3, #T_94c08_row11_col4, #T_94c08_row11_col5, #T_94c08_row11_col6, #T_94c08_row12_col0, #T_94c08_row12_col1, #T_94c08_row12_col2, #T_94c08_row12_col3, #T_94c08_row12_col4, #T_94c08_row12_col5, #T_94c08_row12_col6, #T_94c08_row13_col0, #T_94c08_row13_col1, #T_94c08_row13_col2, #T_94c08_row13_col3, #T_94c08_row13_col4, #T_94c08_row13_col5, #T_94c08_row13_col6, #T_94c08_row14_col0, #T_94c08_row14_col1, #T_94c08_row14_col2, #T_94c08_row14_col3, #T_94c08_row14_col4, #T_94c08_row14_col5, #T_94c08_row14_col6, #T_94c08_row15_col0, #T_94c08_row15_col1, #T_94c08_row15_col2, #T_94c08_row15_col3, #T_94c08_row15_col4, #T_94c08_row15_col5, #T_94c08_row15_col6, #T_94c08_row16_col0, #T_94c08_row16_col1, #T_94c08_row16_col2, #T_94c08_row16_col3, #T_94c08_row16_col4, #T_94c08_row16_col5, #T_94c08_row16_col6, #T_94c08_row17_col0, #T_94c08_row17_col1, #T_94c08_row17_col2, #T_94c08_row17_col3, #T_94c08_row17_col4, #T_94c08_row17_col5, #T_94c08_row17_col6 {\n",
       "  text-align: left;\n",
       "}\n",
       "#T_94c08_row0_col1, #T_94c08_row0_col2, #T_94c08_row0_col3, #T_94c08_row0_col4, #T_94c08_row0_col5, #T_94c08_row0_col6 {\n",
       "  text-align: left;\n",
       "  background-color: yellow;\n",
       "}\n",
       "#T_94c08_row0_col7, #T_94c08_row1_col7, #T_94c08_row2_col7, #T_94c08_row3_col7, #T_94c08_row4_col7, #T_94c08_row5_col7, #T_94c08_row6_col7, #T_94c08_row9_col7, #T_94c08_row10_col7, #T_94c08_row11_col7, #T_94c08_row12_col7, #T_94c08_row13_col7, #T_94c08_row14_col7, #T_94c08_row15_col7, #T_94c08_row16_col7, #T_94c08_row17_col7 {\n",
       "  text-align: left;\n",
       "  background-color: lightgrey;\n",
       "}\n",
       "#T_94c08_row7_col7, #T_94c08_row8_col7 {\n",
       "  text-align: left;\n",
       "  background-color: yellow;\n",
       "  background-color: lightgrey;\n",
       "}\n",
       "</style>\n",
       "<table id=\"T_94c08\">\n",
       "  <thead>\n",
       "    <tr>\n",
       "      <th class=\"blank level0\" >&nbsp;</th>\n",
       "      <th id=\"T_94c08_level0_col0\" class=\"col_heading level0 col0\" >Model</th>\n",
       "      <th id=\"T_94c08_level0_col1\" class=\"col_heading level0 col1\" >MAE</th>\n",
       "      <th id=\"T_94c08_level0_col2\" class=\"col_heading level0 col2\" >MSE</th>\n",
       "      <th id=\"T_94c08_level0_col3\" class=\"col_heading level0 col3\" >RMSE</th>\n",
       "      <th id=\"T_94c08_level0_col4\" class=\"col_heading level0 col4\" >R2</th>\n",
       "      <th id=\"T_94c08_level0_col5\" class=\"col_heading level0 col5\" >RMSLE</th>\n",
       "      <th id=\"T_94c08_level0_col6\" class=\"col_heading level0 col6\" >MAPE</th>\n",
       "      <th id=\"T_94c08_level0_col7\" class=\"col_heading level0 col7\" >TT (Sec)</th>\n",
       "    </tr>\n",
       "  </thead>\n",
       "  <tbody>\n",
       "    <tr>\n",
       "      <th id=\"T_94c08_level0_row0\" class=\"row_heading level0 row0\" >et</th>\n",
       "      <td id=\"T_94c08_row0_col0\" class=\"data row0 col0\" >Extra Trees Regressor</td>\n",
       "      <td id=\"T_94c08_row0_col1\" class=\"data row0 col1\" >0.0444</td>\n",
       "      <td id=\"T_94c08_row0_col2\" class=\"data row0 col2\" >0.0154</td>\n",
       "      <td id=\"T_94c08_row0_col3\" class=\"data row0 col3\" >0.1054</td>\n",
       "      <td id=\"T_94c08_row0_col4\" class=\"data row0 col4\" >0.9853</td>\n",
       "      <td id=\"T_94c08_row0_col5\" class=\"data row0 col5\" >0.0451</td>\n",
       "      <td id=\"T_94c08_row0_col6\" class=\"data row0 col6\" >0.3794</td>\n",
       "      <td id=\"T_94c08_row0_col7\" class=\"data row0 col7\" >0.0200</td>\n",
       "    </tr>\n",
       "    <tr>\n",
       "      <th id=\"T_94c08_level0_row1\" class=\"row_heading level0 row1\" >rf</th>\n",
       "      <td id=\"T_94c08_row1_col0\" class=\"data row1 col0\" >Random Forest Regressor</td>\n",
       "      <td id=\"T_94c08_row1_col1\" class=\"data row1 col1\" >0.0776</td>\n",
       "      <td id=\"T_94c08_row1_col2\" class=\"data row1 col2\" >0.0856</td>\n",
       "      <td id=\"T_94c08_row1_col3\" class=\"data row1 col3\" >0.2196</td>\n",
       "      <td id=\"T_94c08_row1_col4\" class=\"data row1 col4\" >0.9183</td>\n",
       "      <td id=\"T_94c08_row1_col5\" class=\"data row1 col5\" >0.0768</td>\n",
       "      <td id=\"T_94c08_row1_col6\" class=\"data row1 col6\" >0.4537</td>\n",
       "      <td id=\"T_94c08_row1_col7\" class=\"data row1 col7\" >0.0310</td>\n",
       "    </tr>\n",
       "    <tr>\n",
       "      <th id=\"T_94c08_level0_row2\" class=\"row_heading level0 row2\" >gbr</th>\n",
       "      <td id=\"T_94c08_row2_col0\" class=\"data row2 col0\" >Gradient Boosting Regressor</td>\n",
       "      <td id=\"T_94c08_row2_col1\" class=\"data row2 col1\" >0.1229</td>\n",
       "      <td id=\"T_94c08_row2_col2\" class=\"data row2 col2\" >0.0815</td>\n",
       "      <td id=\"T_94c08_row2_col3\" class=\"data row2 col3\" >0.2457</td>\n",
       "      <td id=\"T_94c08_row2_col4\" class=\"data row2 col4\" >0.9133</td>\n",
       "      <td id=\"T_94c08_row2_col5\" class=\"data row2 col5\" >0.1087</td>\n",
       "      <td id=\"T_94c08_row2_col6\" class=\"data row2 col6\" >0.9615</td>\n",
       "      <td id=\"T_94c08_row2_col7\" class=\"data row2 col7\" >0.0180</td>\n",
       "    </tr>\n",
       "    <tr>\n",
       "      <th id=\"T_94c08_level0_row3\" class=\"row_heading level0 row3\" >lightgbm</th>\n",
       "      <td id=\"T_94c08_row3_col0\" class=\"data row3 col0\" >Light Gradient Boosting Machine</td>\n",
       "      <td id=\"T_94c08_row3_col1\" class=\"data row3 col1\" >0.1106</td>\n",
       "      <td id=\"T_94c08_row3_col2\" class=\"data row3 col2\" >0.1099</td>\n",
       "      <td id=\"T_94c08_row3_col3\" class=\"data row3 col3\" >0.2921</td>\n",
       "      <td id=\"T_94c08_row3_col4\" class=\"data row3 col4\" >0.8975</td>\n",
       "      <td id=\"T_94c08_row3_col5\" class=\"data row3 col5\" >0.1007</td>\n",
       "      <td id=\"T_94c08_row3_col6\" class=\"data row3 col6\" >0.7146</td>\n",
       "      <td id=\"T_94c08_row3_col7\" class=\"data row3 col7\" >0.1150</td>\n",
       "    </tr>\n",
       "    <tr>\n",
       "      <th id=\"T_94c08_level0_row4\" class=\"row_heading level0 row4\" >dt</th>\n",
       "      <td id=\"T_94c08_row4_col0\" class=\"data row4 col0\" >Decision Tree Regressor</td>\n",
       "      <td id=\"T_94c08_row4_col1\" class=\"data row4 col1\" >0.0963</td>\n",
       "      <td id=\"T_94c08_row4_col2\" class=\"data row4 col2\" >0.1424</td>\n",
       "      <td id=\"T_94c08_row4_col3\" class=\"data row4 col3\" >0.3113</td>\n",
       "      <td id=\"T_94c08_row4_col4\" class=\"data row4 col4\" >0.8301</td>\n",
       "      <td id=\"T_94c08_row4_col5\" class=\"data row4 col5\" >0.1054</td>\n",
       "      <td id=\"T_94c08_row4_col6\" class=\"data row4 col6\" >0.5288</td>\n",
       "      <td id=\"T_94c08_row4_col7\" class=\"data row4 col7\" >0.0050</td>\n",
       "    </tr>\n",
       "    <tr>\n",
       "      <th id=\"T_94c08_level0_row5\" class=\"row_heading level0 row5\" >ada</th>\n",
       "      <td id=\"T_94c08_row5_col0\" class=\"data row5 col0\" >AdaBoost Regressor</td>\n",
       "      <td id=\"T_94c08_row5_col1\" class=\"data row5 col1\" >0.3741</td>\n",
       "      <td id=\"T_94c08_row5_col2\" class=\"data row5 col2\" >0.2601</td>\n",
       "      <td id=\"T_94c08_row5_col3\" class=\"data row5 col3\" >0.4837</td>\n",
       "      <td id=\"T_94c08_row5_col4\" class=\"data row5 col4\" >0.6442</td>\n",
       "      <td id=\"T_94c08_row5_col5\" class=\"data row5 col5\" >0.2147</td>\n",
       "      <td id=\"T_94c08_row5_col6\" class=\"data row5 col6\" >2.5735</td>\n",
       "      <td id=\"T_94c08_row5_col7\" class=\"data row5 col7\" >0.0130</td>\n",
       "    </tr>\n",
       "    <tr>\n",
       "      <th id=\"T_94c08_level0_row6\" class=\"row_heading level0 row6\" >br</th>\n",
       "      <td id=\"T_94c08_row6_col0\" class=\"data row6 col0\" >Bayesian Ridge</td>\n",
       "      <td id=\"T_94c08_row6_col1\" class=\"data row6 col1\" >0.4093</td>\n",
       "      <td id=\"T_94c08_row6_col2\" class=\"data row6 col2\" >0.5629</td>\n",
       "      <td id=\"T_94c08_row6_col3\" class=\"data row6 col3\" >0.7271</td>\n",
       "      <td id=\"T_94c08_row6_col4\" class=\"data row6 col4\" >0.3295</td>\n",
       "      <td id=\"T_94c08_row6_col5\" class=\"data row6 col5\" >0.2671</td>\n",
       "      <td id=\"T_94c08_row6_col6\" class=\"data row6 col6\" >3.2042</td>\n",
       "      <td id=\"T_94c08_row6_col7\" class=\"data row6 col7\" >0.0050</td>\n",
       "    </tr>\n",
       "    <tr>\n",
       "      <th id=\"T_94c08_level0_row7\" class=\"row_heading level0 row7\" >ridge</th>\n",
       "      <td id=\"T_94c08_row7_col0\" class=\"data row7 col0\" >Ridge Regression</td>\n",
       "      <td id=\"T_94c08_row7_col1\" class=\"data row7 col1\" >0.4098</td>\n",
       "      <td id=\"T_94c08_row7_col2\" class=\"data row7 col2\" >0.5630</td>\n",
       "      <td id=\"T_94c08_row7_col3\" class=\"data row7 col3\" >0.7273</td>\n",
       "      <td id=\"T_94c08_row7_col4\" class=\"data row7 col4\" >0.3284</td>\n",
       "      <td id=\"T_94c08_row7_col5\" class=\"data row7 col5\" >0.2671</td>\n",
       "      <td id=\"T_94c08_row7_col6\" class=\"data row7 col6\" >3.2143</td>\n",
       "      <td id=\"T_94c08_row7_col7\" class=\"data row7 col7\" >0.0040</td>\n",
       "    </tr>\n",
       "    <tr>\n",
       "      <th id=\"T_94c08_level0_row8\" class=\"row_heading level0 row8\" >lar</th>\n",
       "      <td id=\"T_94c08_row8_col0\" class=\"data row8 col0\" >Least Angle Regression</td>\n",
       "      <td id=\"T_94c08_row8_col1\" class=\"data row8 col1\" >0.4099</td>\n",
       "      <td id=\"T_94c08_row8_col2\" class=\"data row8 col2\" >0.5631</td>\n",
       "      <td id=\"T_94c08_row8_col3\" class=\"data row8 col3\" >0.7274</td>\n",
       "      <td id=\"T_94c08_row8_col4\" class=\"data row8 col4\" >0.3282</td>\n",
       "      <td id=\"T_94c08_row8_col5\" class=\"data row8 col5\" >0.2671</td>\n",
       "      <td id=\"T_94c08_row8_col6\" class=\"data row8 col6\" >3.2167</td>\n",
       "      <td id=\"T_94c08_row8_col7\" class=\"data row8 col7\" >0.0040</td>\n",
       "    </tr>\n",
       "    <tr>\n",
       "      <th id=\"T_94c08_level0_row9\" class=\"row_heading level0 row9\" >lr</th>\n",
       "      <td id=\"T_94c08_row9_col0\" class=\"data row9 col0\" >Linear Regression</td>\n",
       "      <td id=\"T_94c08_row9_col1\" class=\"data row9 col1\" >0.4099</td>\n",
       "      <td id=\"T_94c08_row9_col2\" class=\"data row9 col2\" >0.5631</td>\n",
       "      <td id=\"T_94c08_row9_col3\" class=\"data row9 col3\" >0.7274</td>\n",
       "      <td id=\"T_94c08_row9_col4\" class=\"data row9 col4\" >0.3282</td>\n",
       "      <td id=\"T_94c08_row9_col5\" class=\"data row9 col5\" >0.2671</td>\n",
       "      <td id=\"T_94c08_row9_col6\" class=\"data row9 col6\" >3.2167</td>\n",
       "      <td id=\"T_94c08_row9_col7\" class=\"data row9 col7\" >0.0060</td>\n",
       "    </tr>\n",
       "    <tr>\n",
       "      <th id=\"T_94c08_level0_row10\" class=\"row_heading level0 row10\" >knn</th>\n",
       "      <td id=\"T_94c08_row10_col0\" class=\"data row10 col0\" >K Neighbors Regressor</td>\n",
       "      <td id=\"T_94c08_row10_col1\" class=\"data row10 col1\" >0.3250</td>\n",
       "      <td id=\"T_94c08_row10_col2\" class=\"data row10 col2\" >0.5595</td>\n",
       "      <td id=\"T_94c08_row10_col3\" class=\"data row10 col3\" >0.7256</td>\n",
       "      <td id=\"T_94c08_row10_col4\" class=\"data row10 col4\" >0.3108</td>\n",
       "      <td id=\"T_94c08_row10_col5\" class=\"data row10 col5\" >0.2640</td>\n",
       "      <td id=\"T_94c08_row10_col6\" class=\"data row10 col6\" >2.4686</td>\n",
       "      <td id=\"T_94c08_row10_col7\" class=\"data row10 col7\" >0.0070</td>\n",
       "    </tr>\n",
       "    <tr>\n",
       "      <th id=\"T_94c08_level0_row11\" class=\"row_heading level0 row11\" >huber</th>\n",
       "      <td id=\"T_94c08_row11_col0\" class=\"data row11 col0\" >Huber Regressor</td>\n",
       "      <td id=\"T_94c08_row11_col1\" class=\"data row11 col1\" >0.3149</td>\n",
       "      <td id=\"T_94c08_row11_col2\" class=\"data row11 col2\" >0.6857</td>\n",
       "      <td id=\"T_94c08_row11_col3\" class=\"data row11 col3\" >0.7902</td>\n",
       "      <td id=\"T_94c08_row11_col4\" class=\"data row11 col4\" >0.2531</td>\n",
       "      <td id=\"T_94c08_row11_col5\" class=\"data row11 col5\" >0.3127</td>\n",
       "      <td id=\"T_94c08_row11_col6\" class=\"data row11 col6\" >1.6800</td>\n",
       "      <td id=\"T_94c08_row11_col7\" class=\"data row11 col7\" >0.0070</td>\n",
       "    </tr>\n",
       "    <tr>\n",
       "      <th id=\"T_94c08_level0_row12\" class=\"row_heading level0 row12\" >en</th>\n",
       "      <td id=\"T_94c08_row12_col0\" class=\"data row12 col0\" >Elastic Net</td>\n",
       "      <td id=\"T_94c08_row12_col1\" class=\"data row12 col1\" >0.4958</td>\n",
       "      <td id=\"T_94c08_row12_col2\" class=\"data row12 col2\" >0.9298</td>\n",
       "      <td id=\"T_94c08_row12_col3\" class=\"data row12 col3\" >0.9126</td>\n",
       "      <td id=\"T_94c08_row12_col4\" class=\"data row12 col4\" >0.0219</td>\n",
       "      <td id=\"T_94c08_row12_col5\" class=\"data row12 col5\" >0.4181</td>\n",
       "      <td id=\"T_94c08_row12_col6\" class=\"data row12 col6\" >1.2106</td>\n",
       "      <td id=\"T_94c08_row12_col7\" class=\"data row12 col7\" >0.0060</td>\n",
       "    </tr>\n",
       "    <tr>\n",
       "      <th id=\"T_94c08_level0_row13\" class=\"row_heading level0 row13\" >omp</th>\n",
       "      <td id=\"T_94c08_row13_col0\" class=\"data row13 col0\" >Orthogonal Matching Pursuit</td>\n",
       "      <td id=\"T_94c08_row13_col1\" class=\"data row13 col1\" >0.5065</td>\n",
       "      <td id=\"T_94c08_row13_col2\" class=\"data row13 col2\" >0.9491</td>\n",
       "      <td id=\"T_94c08_row13_col3\" class=\"data row13 col3\" >0.9263</td>\n",
       "      <td id=\"T_94c08_row13_col4\" class=\"data row13 col4\" >-0.0187</td>\n",
       "      <td id=\"T_94c08_row13_col5\" class=\"data row13 col5\" >0.3857</td>\n",
       "      <td id=\"T_94c08_row13_col6\" class=\"data row13 col6\" >1.4355</td>\n",
       "      <td id=\"T_94c08_row13_col7\" class=\"data row13 col7\" >0.0050</td>\n",
       "    </tr>\n",
       "    <tr>\n",
       "      <th id=\"T_94c08_level0_row14\" class=\"row_heading level0 row14\" >lasso</th>\n",
       "      <td id=\"T_94c08_row14_col0\" class=\"data row14 col0\" >Lasso Regression</td>\n",
       "      <td id=\"T_94c08_row14_col1\" class=\"data row14 col1\" >0.5102</td>\n",
       "      <td id=\"T_94c08_row14_col2\" class=\"data row14 col2\" >0.9597</td>\n",
       "      <td id=\"T_94c08_row14_col3\" class=\"data row14 col3\" >0.9302</td>\n",
       "      <td id=\"T_94c08_row14_col4\" class=\"data row14 col4\" >-0.0222</td>\n",
       "      <td id=\"T_94c08_row14_col5\" class=\"data row14 col5\" >0.4393</td>\n",
       "      <td id=\"T_94c08_row14_col6\" class=\"data row14 col6\" >1.0658</td>\n",
       "      <td id=\"T_94c08_row14_col7\" class=\"data row14 col7\" >0.0070</td>\n",
       "    </tr>\n",
       "    <tr>\n",
       "      <th id=\"T_94c08_level0_row15\" class=\"row_heading level0 row15\" >llar</th>\n",
       "      <td id=\"T_94c08_row15_col0\" class=\"data row15 col0\" >Lasso Least Angle Regression</td>\n",
       "      <td id=\"T_94c08_row15_col1\" class=\"data row15 col1\" >0.5102</td>\n",
       "      <td id=\"T_94c08_row15_col2\" class=\"data row15 col2\" >0.9597</td>\n",
       "      <td id=\"T_94c08_row15_col3\" class=\"data row15 col3\" >0.9302</td>\n",
       "      <td id=\"T_94c08_row15_col4\" class=\"data row15 col4\" >-0.0222</td>\n",
       "      <td id=\"T_94c08_row15_col5\" class=\"data row15 col5\" >0.4393</td>\n",
       "      <td id=\"T_94c08_row15_col6\" class=\"data row15 col6\" >1.0658</td>\n",
       "      <td id=\"T_94c08_row15_col7\" class=\"data row15 col7\" >0.0050</td>\n",
       "    </tr>\n",
       "    <tr>\n",
       "      <th id=\"T_94c08_level0_row16\" class=\"row_heading level0 row16\" >dummy</th>\n",
       "      <td id=\"T_94c08_row16_col0\" class=\"data row16 col0\" >Dummy Regressor</td>\n",
       "      <td id=\"T_94c08_row16_col1\" class=\"data row16 col1\" >0.5102</td>\n",
       "      <td id=\"T_94c08_row16_col2\" class=\"data row16 col2\" >0.9597</td>\n",
       "      <td id=\"T_94c08_row16_col3\" class=\"data row16 col3\" >0.9302</td>\n",
       "      <td id=\"T_94c08_row16_col4\" class=\"data row16 col4\" >-0.0222</td>\n",
       "      <td id=\"T_94c08_row16_col5\" class=\"data row16 col5\" >0.4393</td>\n",
       "      <td id=\"T_94c08_row16_col6\" class=\"data row16 col6\" >1.0658</td>\n",
       "      <td id=\"T_94c08_row16_col7\" class=\"data row16 col7\" >0.0060</td>\n",
       "    </tr>\n",
       "    <tr>\n",
       "      <th id=\"T_94c08_level0_row17\" class=\"row_heading level0 row17\" >par</th>\n",
       "      <td id=\"T_94c08_row17_col0\" class=\"data row17 col0\" >Passive Aggressive Regressor</td>\n",
       "      <td id=\"T_94c08_row17_col1\" class=\"data row17 col1\" >0.4131</td>\n",
       "      <td id=\"T_94c08_row17_col2\" class=\"data row17 col2\" >1.0084</td>\n",
       "      <td id=\"T_94c08_row17_col3\" class=\"data row17 col3\" >0.9515</td>\n",
       "      <td id=\"T_94c08_row17_col4\" class=\"data row17 col4\" >-0.0602</td>\n",
       "      <td id=\"T_94c08_row17_col5\" class=\"data row17 col5\" >0.3343</td>\n",
       "      <td id=\"T_94c08_row17_col6\" class=\"data row17 col6\" >1.8342</td>\n",
       "      <td id=\"T_94c08_row17_col7\" class=\"data row17 col7\" >0.0060</td>\n",
       "    </tr>\n",
       "  </tbody>\n",
       "</table>\n"
      ],
      "text/plain": [
       "<pandas.io.formats.style.Styler at 0x2045fe15690>"
      ]
     },
     "metadata": {},
     "output_type": "display_data"
    },
    {
     "data": {
      "text/html": [],
      "text/plain": [
       "<IPython.core.display.HTML object>"
      ]
     },
     "metadata": {},
     "output_type": "display_data"
    }
   ],
   "source": [
    "best = compare_models()"
   ]
  },
  {
   "cell_type": "code",
   "execution_count": 51,
   "metadata": {},
   "outputs": [
    {
     "data": {
      "application/vnd.jupyter.widget-view+json": {
       "model_id": "8e6e6afac2434b1c84fc6fc9971c2381",
       "version_major": 2,
       "version_minor": 0
      },
      "text/plain": [
       "interactive(children=(ToggleButtons(description='Plot Type:', icons=('',), options=(('Pipeline Plot', 'pipelin…"
      ]
     },
     "metadata": {},
     "output_type": "display_data"
    }
   ],
   "source": [
    "evaluate_model(best)"
   ]
  },
  {
   "cell_type": "markdown",
   "metadata": {},
   "source": [
    "### ***Data No Autocorrelation***"
   ]
  },
  {
   "cell_type": "code",
   "execution_count": 52,
   "metadata": {},
   "outputs": [
    {
     "data": {
      "text/html": [
       "<div>\n",
       "<style scoped>\n",
       "    .dataframe tbody tr th:only-of-type {\n",
       "        vertical-align: middle;\n",
       "    }\n",
       "\n",
       "    .dataframe tbody tr th {\n",
       "        vertical-align: top;\n",
       "    }\n",
       "\n",
       "    .dataframe thead th {\n",
       "        text-align: right;\n",
       "    }\n",
       "</style>\n",
       "<table border=\"1\" class=\"dataframe\">\n",
       "  <thead>\n",
       "    <tr style=\"text-align: right;\">\n",
       "      <th></th>\n",
       "      <th>total_gdp_million</th>\n",
       "      <th>Pais</th>\n",
       "      <th>Ecuador</th>\n",
       "      <th>Poblacion</th>\n",
       "      <th>Año</th>\n",
       "      <th>ECI</th>\n",
       "    </tr>\n",
       "  </thead>\n",
       "  <tbody>\n",
       "    <tr>\n",
       "      <th>0</th>\n",
       "      <td>83995.5216</td>\n",
       "      <td>Finland</td>\n",
       "      <td>0</td>\n",
       "      <td>5508214.0</td>\n",
       "      <td>2017</td>\n",
       "      <td>-0.195394</td>\n",
       "    </tr>\n",
       "    <tr>\n",
       "      <th>1</th>\n",
       "      <td>88236.8671</td>\n",
       "      <td>Finland</td>\n",
       "      <td>0</td>\n",
       "      <td>5313399.0</td>\n",
       "      <td>2008</td>\n",
       "      <td>-0.145695</td>\n",
       "    </tr>\n",
       "    <tr>\n",
       "      <th>2</th>\n",
       "      <td>100366.8911</td>\n",
       "      <td>Finland</td>\n",
       "      <td>0</td>\n",
       "      <td>5495303.0</td>\n",
       "      <td>2016</td>\n",
       "      <td>-0.166914</td>\n",
       "    </tr>\n",
       "    <tr>\n",
       "      <th>3</th>\n",
       "      <td>-21843.6854</td>\n",
       "      <td>Finland</td>\n",
       "      <td>0</td>\n",
       "      <td>5479531.0</td>\n",
       "      <td>2015</td>\n",
       "      <td>-0.086978</td>\n",
       "    </tr>\n",
       "    <tr>\n",
       "      <th>4</th>\n",
       "      <td>148843.2834</td>\n",
       "      <td>Finland</td>\n",
       "      <td>0</td>\n",
       "      <td>5461512.0</td>\n",
       "      <td>2014</td>\n",
       "      <td>-0.041529</td>\n",
       "    </tr>\n",
       "    <tr>\n",
       "      <th>...</th>\n",
       "      <td>...</td>\n",
       "      <td>...</td>\n",
       "      <td>...</td>\n",
       "      <td>...</td>\n",
       "      <td>...</td>\n",
       "      <td>...</td>\n",
       "    </tr>\n",
       "    <tr>\n",
       "      <th>820</th>\n",
       "      <td>201014.4306</td>\n",
       "      <td>Mexico</td>\n",
       "      <td>1</td>\n",
       "      <td>121519221.0</td>\n",
       "      <td>2016</td>\n",
       "      <td>0.315044</td>\n",
       "    </tr>\n",
       "    <tr>\n",
       "      <th>821</th>\n",
       "      <td>183525.9043</td>\n",
       "      <td>Mexico</td>\n",
       "      <td>1</td>\n",
       "      <td>122839258.0</td>\n",
       "      <td>2017</td>\n",
       "      <td>0.352142</td>\n",
       "    </tr>\n",
       "    <tr>\n",
       "      <th>822</th>\n",
       "      <td>-131892.8130</td>\n",
       "      <td>Mexico</td>\n",
       "      <td>1</td>\n",
       "      <td>125998302.0</td>\n",
       "      <td>2020</td>\n",
       "      <td>-0.011692</td>\n",
       "    </tr>\n",
       "    <tr>\n",
       "      <th>823</th>\n",
       "      <td>57292.7820</td>\n",
       "      <td>Mexico</td>\n",
       "      <td>1</td>\n",
       "      <td>109684489.0</td>\n",
       "      <td>2008</td>\n",
       "      <td>0.099763</td>\n",
       "    </tr>\n",
       "    <tr>\n",
       "      <th>824</th>\n",
       "      <td>-157755.9454</td>\n",
       "      <td>Mexico</td>\n",
       "      <td>1</td>\n",
       "      <td>111049428.0</td>\n",
       "      <td>2009</td>\n",
       "      <td>-0.018987</td>\n",
       "    </tr>\n",
       "  </tbody>\n",
       "</table>\n",
       "<p>825 rows × 6 columns</p>\n",
       "</div>"
      ],
      "text/plain": [
       "     total_gdp_million     Pais  Ecuador    Poblacion   Año       ECI\n",
       "0           83995.5216  Finland        0    5508214.0  2017 -0.195394\n",
       "1           88236.8671  Finland        0    5313399.0  2008 -0.145695\n",
       "2          100366.8911  Finland        0    5495303.0  2016 -0.166914\n",
       "3          -21843.6854  Finland        0    5479531.0  2015 -0.086978\n",
       "4          148843.2834  Finland        0    5461512.0  2014 -0.041529\n",
       "..                 ...      ...      ...          ...   ...       ...\n",
       "820        201014.4306   Mexico        1  121519221.0  2016  0.315044\n",
       "821        183525.9043   Mexico        1  122839258.0  2017  0.352142\n",
       "822       -131892.8130   Mexico        1  125998302.0  2020 -0.011692\n",
       "823         57292.7820   Mexico        1  109684489.0  2008  0.099763\n",
       "824       -157755.9454   Mexico        1  111049428.0  2009 -0.018987\n",
       "\n",
       "[825 rows x 6 columns]"
      ]
     },
     "execution_count": 52,
     "metadata": {},
     "output_type": "execute_result"
    }
   ],
   "source": [
    "std = StandardScaler()\n",
    "Data_no_auto"
   ]
  },
  {
   "cell_type": "code",
   "execution_count": 53,
   "metadata": {},
   "outputs": [
    {
     "data": {
      "text/html": [
       "<div>\n",
       "<style scoped>\n",
       "    .dataframe tbody tr th:only-of-type {\n",
       "        vertical-align: middle;\n",
       "    }\n",
       "\n",
       "    .dataframe tbody tr th {\n",
       "        vertical-align: top;\n",
       "    }\n",
       "\n",
       "    .dataframe thead th {\n",
       "        text-align: right;\n",
       "    }\n",
       "</style>\n",
       "<table border=\"1\" class=\"dataframe\">\n",
       "  <thead>\n",
       "    <tr style=\"text-align: right;\">\n",
       "      <th></th>\n",
       "      <th>total_gdp_million</th>\n",
       "      <th>Pais</th>\n",
       "      <th>Ecuador</th>\n",
       "      <th>Poblacion</th>\n",
       "      <th>Año</th>\n",
       "      <th>ECI</th>\n",
       "    </tr>\n",
       "  </thead>\n",
       "  <tbody>\n",
       "    <tr>\n",
       "      <th>0</th>\n",
       "      <td>0.242168</td>\n",
       "      <td>Finland</td>\n",
       "      <td>0</td>\n",
       "      <td>-0.304083</td>\n",
       "      <td>2017</td>\n",
       "      <td>-0.195394</td>\n",
       "    </tr>\n",
       "    <tr>\n",
       "      <th>1</th>\n",
       "      <td>0.246738</td>\n",
       "      <td>Finland</td>\n",
       "      <td>0</td>\n",
       "      <td>-0.305050</td>\n",
       "      <td>2008</td>\n",
       "      <td>-0.145695</td>\n",
       "    </tr>\n",
       "    <tr>\n",
       "      <th>2</th>\n",
       "      <td>0.259810</td>\n",
       "      <td>Finland</td>\n",
       "      <td>0</td>\n",
       "      <td>-0.304147</td>\n",
       "      <td>2016</td>\n",
       "      <td>-0.166914</td>\n",
       "    </tr>\n",
       "    <tr>\n",
       "      <th>3</th>\n",
       "      <td>0.128112</td>\n",
       "      <td>Finland</td>\n",
       "      <td>0</td>\n",
       "      <td>-0.304225</td>\n",
       "      <td>2015</td>\n",
       "      <td>-0.086978</td>\n",
       "    </tr>\n",
       "    <tr>\n",
       "      <th>4</th>\n",
       "      <td>0.312050</td>\n",
       "      <td>Finland</td>\n",
       "      <td>0</td>\n",
       "      <td>-0.304315</td>\n",
       "      <td>2014</td>\n",
       "      <td>-0.041529</td>\n",
       "    </tr>\n",
       "    <tr>\n",
       "      <th>...</th>\n",
       "      <td>...</td>\n",
       "      <td>...</td>\n",
       "      <td>...</td>\n",
       "      <td>...</td>\n",
       "      <td>...</td>\n",
       "      <td>...</td>\n",
       "    </tr>\n",
       "    <tr>\n",
       "      <th>820</th>\n",
       "      <td>0.368271</td>\n",
       "      <td>Mexico</td>\n",
       "      <td>1</td>\n",
       "      <td>0.271985</td>\n",
       "      <td>2016</td>\n",
       "      <td>0.315044</td>\n",
       "    </tr>\n",
       "    <tr>\n",
       "      <th>821</th>\n",
       "      <td>0.349425</td>\n",
       "      <td>Mexico</td>\n",
       "      <td>1</td>\n",
       "      <td>0.278540</td>\n",
       "      <td>2017</td>\n",
       "      <td>0.352142</td>\n",
       "    </tr>\n",
       "    <tr>\n",
       "      <th>822</th>\n",
       "      <td>0.009519</td>\n",
       "      <td>Mexico</td>\n",
       "      <td>1</td>\n",
       "      <td>0.294227</td>\n",
       "      <td>2020</td>\n",
       "      <td>-0.011692</td>\n",
       "    </tr>\n",
       "    <tr>\n",
       "      <th>823</th>\n",
       "      <td>0.213392</td>\n",
       "      <td>Mexico</td>\n",
       "      <td>1</td>\n",
       "      <td>0.213218</td>\n",
       "      <td>2008</td>\n",
       "      <td>0.099763</td>\n",
       "    </tr>\n",
       "    <tr>\n",
       "      <th>824</th>\n",
       "      <td>-0.018352</td>\n",
       "      <td>Mexico</td>\n",
       "      <td>1</td>\n",
       "      <td>0.219996</td>\n",
       "      <td>2009</td>\n",
       "      <td>-0.018987</td>\n",
       "    </tr>\n",
       "  </tbody>\n",
       "</table>\n",
       "<p>825 rows × 6 columns</p>\n",
       "</div>"
      ],
      "text/plain": [
       "     total_gdp_million     Pais  Ecuador  Poblacion   Año       ECI\n",
       "0             0.242168  Finland        0  -0.304083  2017 -0.195394\n",
       "1             0.246738  Finland        0  -0.305050  2008 -0.145695\n",
       "2             0.259810  Finland        0  -0.304147  2016 -0.166914\n",
       "3             0.128112  Finland        0  -0.304225  2015 -0.086978\n",
       "4             0.312050  Finland        0  -0.304315  2014 -0.041529\n",
       "..                 ...      ...      ...        ...   ...       ...\n",
       "820           0.368271   Mexico        1   0.271985  2016  0.315044\n",
       "821           0.349425   Mexico        1   0.278540  2017  0.352142\n",
       "822           0.009519   Mexico        1   0.294227  2020 -0.011692\n",
       "823           0.213392   Mexico        1   0.213218  2008  0.099763\n",
       "824          -0.018352   Mexico        1   0.219996  2009 -0.018987\n",
       "\n",
       "[825 rows x 6 columns]"
      ]
     },
     "execution_count": 53,
     "metadata": {},
     "output_type": "execute_result"
    }
   ],
   "source": [
    "std.fit(Data_no_auto[['total_gdp_million']])\n",
    "Data_no_auto['total_gdp_million']= std.transform(Data_no_auto[['total_gdp_million']])\n",
    "std.fit(Data_no_auto[['Poblacion']])\n",
    "Data_no_auto['Poblacion']= std.transform(Data_no_auto[['Poblacion']])\n",
    "Data_no_auto"
   ]
  },
  {
   "cell_type": "code",
   "execution_count": 54,
   "metadata": {},
   "outputs": [
    {
     "name": "stdout",
     "output_type": "stream",
     "text": [
      "(757, 6)\n",
      "(68, 6)\n"
     ]
    }
   ],
   "source": [
    "train = Data_no_auto[Data_no_auto['Año'] < 2019]\n",
    "test = Data_no_auto[Data_no_auto['Año'] >= 2019]\n",
    "print(train.shape)\n",
    "print(test.shape)"
   ]
  },
  {
   "cell_type": "code",
   "execution_count": 55,
   "metadata": {},
   "outputs": [
    {
     "data": {
      "text/html": [
       "<style type=\"text/css\">\n",
       "#T_d6d5f_row9_col1 {\n",
       "  background-color: lightgreen;\n",
       "}\n",
       "</style>\n",
       "<table id=\"T_d6d5f\">\n",
       "  <thead>\n",
       "    <tr>\n",
       "      <th class=\"blank level0\" >&nbsp;</th>\n",
       "      <th id=\"T_d6d5f_level0_col0\" class=\"col_heading level0 col0\" >Description</th>\n",
       "      <th id=\"T_d6d5f_level0_col1\" class=\"col_heading level0 col1\" >Value</th>\n",
       "    </tr>\n",
       "  </thead>\n",
       "  <tbody>\n",
       "    <tr>\n",
       "      <th id=\"T_d6d5f_level0_row0\" class=\"row_heading level0 row0\" >0</th>\n",
       "      <td id=\"T_d6d5f_row0_col0\" class=\"data row0 col0\" >Session id</td>\n",
       "      <td id=\"T_d6d5f_row0_col1\" class=\"data row0 col1\" >123</td>\n",
       "    </tr>\n",
       "    <tr>\n",
       "      <th id=\"T_d6d5f_level0_row1\" class=\"row_heading level0 row1\" >1</th>\n",
       "      <td id=\"T_d6d5f_row1_col0\" class=\"data row1 col0\" >Target</td>\n",
       "      <td id=\"T_d6d5f_row1_col1\" class=\"data row1 col1\" >total_gdp_million</td>\n",
       "    </tr>\n",
       "    <tr>\n",
       "      <th id=\"T_d6d5f_level0_row2\" class=\"row_heading level0 row2\" >2</th>\n",
       "      <td id=\"T_d6d5f_row2_col0\" class=\"data row2 col0\" >Target type</td>\n",
       "      <td id=\"T_d6d5f_row2_col1\" class=\"data row2 col1\" >Regression</td>\n",
       "    </tr>\n",
       "    <tr>\n",
       "      <th id=\"T_d6d5f_level0_row3\" class=\"row_heading level0 row3\" >3</th>\n",
       "      <td id=\"T_d6d5f_row3_col0\" class=\"data row3 col0\" >Original data shape</td>\n",
       "      <td id=\"T_d6d5f_row3_col1\" class=\"data row3 col1\" >(825, 6)</td>\n",
       "    </tr>\n",
       "    <tr>\n",
       "      <th id=\"T_d6d5f_level0_row4\" class=\"row_heading level0 row4\" >4</th>\n",
       "      <td id=\"T_d6d5f_row4_col0\" class=\"data row4 col0\" >Transformed data shape</td>\n",
       "      <td id=\"T_d6d5f_row4_col1\" class=\"data row4 col1\" >(825, 5)</td>\n",
       "    </tr>\n",
       "    <tr>\n",
       "      <th id=\"T_d6d5f_level0_row5\" class=\"row_heading level0 row5\" >5</th>\n",
       "      <td id=\"T_d6d5f_row5_col0\" class=\"data row5 col0\" >Transformed train set shape</td>\n",
       "      <td id=\"T_d6d5f_row5_col1\" class=\"data row5 col1\" >(757, 5)</td>\n",
       "    </tr>\n",
       "    <tr>\n",
       "      <th id=\"T_d6d5f_level0_row6\" class=\"row_heading level0 row6\" >6</th>\n",
       "      <td id=\"T_d6d5f_row6_col0\" class=\"data row6 col0\" >Transformed test set shape</td>\n",
       "      <td id=\"T_d6d5f_row6_col1\" class=\"data row6 col1\" >(68, 5)</td>\n",
       "    </tr>\n",
       "    <tr>\n",
       "      <th id=\"T_d6d5f_level0_row7\" class=\"row_heading level0 row7\" >7</th>\n",
       "      <td id=\"T_d6d5f_row7_col0\" class=\"data row7 col0\" >Ignore features</td>\n",
       "      <td id=\"T_d6d5f_row7_col1\" class=\"data row7 col1\" >1</td>\n",
       "    </tr>\n",
       "    <tr>\n",
       "      <th id=\"T_d6d5f_level0_row8\" class=\"row_heading level0 row8\" >8</th>\n",
       "      <td id=\"T_d6d5f_row8_col0\" class=\"data row8 col0\" >Numeric features</td>\n",
       "      <td id=\"T_d6d5f_row8_col1\" class=\"data row8 col1\" >4</td>\n",
       "    </tr>\n",
       "    <tr>\n",
       "      <th id=\"T_d6d5f_level0_row9\" class=\"row_heading level0 row9\" >9</th>\n",
       "      <td id=\"T_d6d5f_row9_col0\" class=\"data row9 col0\" >Preprocess</td>\n",
       "      <td id=\"T_d6d5f_row9_col1\" class=\"data row9 col1\" >True</td>\n",
       "    </tr>\n",
       "    <tr>\n",
       "      <th id=\"T_d6d5f_level0_row10\" class=\"row_heading level0 row10\" >10</th>\n",
       "      <td id=\"T_d6d5f_row10_col0\" class=\"data row10 col0\" >Imputation type</td>\n",
       "      <td id=\"T_d6d5f_row10_col1\" class=\"data row10 col1\" >simple</td>\n",
       "    </tr>\n",
       "    <tr>\n",
       "      <th id=\"T_d6d5f_level0_row11\" class=\"row_heading level0 row11\" >11</th>\n",
       "      <td id=\"T_d6d5f_row11_col0\" class=\"data row11 col0\" >Numeric imputation</td>\n",
       "      <td id=\"T_d6d5f_row11_col1\" class=\"data row11 col1\" >mean</td>\n",
       "    </tr>\n",
       "    <tr>\n",
       "      <th id=\"T_d6d5f_level0_row12\" class=\"row_heading level0 row12\" >12</th>\n",
       "      <td id=\"T_d6d5f_row12_col0\" class=\"data row12 col0\" >Categorical imputation</td>\n",
       "      <td id=\"T_d6d5f_row12_col1\" class=\"data row12 col1\" >mode</td>\n",
       "    </tr>\n",
       "    <tr>\n",
       "      <th id=\"T_d6d5f_level0_row13\" class=\"row_heading level0 row13\" >13</th>\n",
       "      <td id=\"T_d6d5f_row13_col0\" class=\"data row13 col0\" >Fold Generator</td>\n",
       "      <td id=\"T_d6d5f_row13_col1\" class=\"data row13 col1\" >TimeSeriesSplit</td>\n",
       "    </tr>\n",
       "    <tr>\n",
       "      <th id=\"T_d6d5f_level0_row14\" class=\"row_heading level0 row14\" >14</th>\n",
       "      <td id=\"T_d6d5f_row14_col0\" class=\"data row14 col0\" >Fold Number</td>\n",
       "      <td id=\"T_d6d5f_row14_col1\" class=\"data row14 col1\" >2</td>\n",
       "    </tr>\n",
       "    <tr>\n",
       "      <th id=\"T_d6d5f_level0_row15\" class=\"row_heading level0 row15\" >15</th>\n",
       "      <td id=\"T_d6d5f_row15_col0\" class=\"data row15 col0\" >CPU Jobs</td>\n",
       "      <td id=\"T_d6d5f_row15_col1\" class=\"data row15 col1\" >-1</td>\n",
       "    </tr>\n",
       "    <tr>\n",
       "      <th id=\"T_d6d5f_level0_row16\" class=\"row_heading level0 row16\" >16</th>\n",
       "      <td id=\"T_d6d5f_row16_col0\" class=\"data row16 col0\" >Use GPU</td>\n",
       "      <td id=\"T_d6d5f_row16_col1\" class=\"data row16 col1\" >False</td>\n",
       "    </tr>\n",
       "    <tr>\n",
       "      <th id=\"T_d6d5f_level0_row17\" class=\"row_heading level0 row17\" >17</th>\n",
       "      <td id=\"T_d6d5f_row17_col0\" class=\"data row17 col0\" >Log Experiment</td>\n",
       "      <td id=\"T_d6d5f_row17_col1\" class=\"data row17 col1\" >False</td>\n",
       "    </tr>\n",
       "    <tr>\n",
       "      <th id=\"T_d6d5f_level0_row18\" class=\"row_heading level0 row18\" >18</th>\n",
       "      <td id=\"T_d6d5f_row18_col0\" class=\"data row18 col0\" >Experiment Name</td>\n",
       "      <td id=\"T_d6d5f_row18_col1\" class=\"data row18 col1\" >reg-default-name</td>\n",
       "    </tr>\n",
       "    <tr>\n",
       "      <th id=\"T_d6d5f_level0_row19\" class=\"row_heading level0 row19\" >19</th>\n",
       "      <td id=\"T_d6d5f_row19_col0\" class=\"data row19 col0\" >USI</td>\n",
       "      <td id=\"T_d6d5f_row19_col1\" class=\"data row19 col1\" >d296</td>\n",
       "    </tr>\n",
       "  </tbody>\n",
       "</table>\n"
      ],
      "text/plain": [
       "<pandas.io.formats.style.Styler at 0x2045eedd930>"
      ]
     },
     "metadata": {},
     "output_type": "display_data"
    }
   ],
   "source": [
    "B = setup(data = train, test_data = test,target ='total_gdp_million',fold_strategy = 'timeseries',\n",
    "          ignore_features=['Pais'],fold = 2, session_id = 123,\n",
    "          data_split_shuffle=False,fold_shuffle=False)"
   ]
  },
  {
   "cell_type": "code",
   "execution_count": 56,
   "metadata": {},
   "outputs": [
    {
     "data": {
      "text/html": [],
      "text/plain": [
       "<IPython.core.display.HTML object>"
      ]
     },
     "metadata": {},
     "output_type": "display_data"
    },
    {
     "data": {
      "text/html": [
       "<style type=\"text/css\">\n",
       "#T_da9d0 th {\n",
       "  text-align: left;\n",
       "}\n",
       "#T_da9d0_row0_col0, #T_da9d0_row0_col1, #T_da9d0_row0_col2, #T_da9d0_row0_col3, #T_da9d0_row0_col5, #T_da9d0_row0_col6, #T_da9d0_row1_col0, #T_da9d0_row1_col1, #T_da9d0_row1_col2, #T_da9d0_row1_col3, #T_da9d0_row1_col5, #T_da9d0_row1_col6, #T_da9d0_row2_col0, #T_da9d0_row2_col1, #T_da9d0_row2_col2, #T_da9d0_row2_col3, #T_da9d0_row2_col4, #T_da9d0_row2_col5, #T_da9d0_row2_col6, #T_da9d0_row3_col0, #T_da9d0_row3_col1, #T_da9d0_row3_col2, #T_da9d0_row3_col3, #T_da9d0_row3_col4, #T_da9d0_row3_col5, #T_da9d0_row3_col6, #T_da9d0_row4_col0, #T_da9d0_row4_col2, #T_da9d0_row4_col3, #T_da9d0_row4_col4, #T_da9d0_row4_col5, #T_da9d0_row4_col6, #T_da9d0_row5_col0, #T_da9d0_row5_col1, #T_da9d0_row5_col4, #T_da9d0_row5_col6, #T_da9d0_row6_col0, #T_da9d0_row6_col1, #T_da9d0_row6_col2, #T_da9d0_row6_col3, #T_da9d0_row6_col4, #T_da9d0_row6_col5, #T_da9d0_row6_col6, #T_da9d0_row7_col0, #T_da9d0_row7_col1, #T_da9d0_row7_col2, #T_da9d0_row7_col3, #T_da9d0_row7_col4, #T_da9d0_row7_col5, #T_da9d0_row7_col6, #T_da9d0_row8_col0, #T_da9d0_row8_col1, #T_da9d0_row8_col2, #T_da9d0_row8_col3, #T_da9d0_row8_col4, #T_da9d0_row8_col5, #T_da9d0_row8_col6, #T_da9d0_row9_col0, #T_da9d0_row9_col1, #T_da9d0_row9_col2, #T_da9d0_row9_col3, #T_da9d0_row9_col4, #T_da9d0_row9_col5, #T_da9d0_row9_col6, #T_da9d0_row10_col0, #T_da9d0_row10_col1, #T_da9d0_row10_col2, #T_da9d0_row10_col3, #T_da9d0_row10_col4, #T_da9d0_row10_col5, #T_da9d0_row10_col6, #T_da9d0_row11_col0, #T_da9d0_row11_col1, #T_da9d0_row11_col2, #T_da9d0_row11_col3, #T_da9d0_row11_col4, #T_da9d0_row11_col5, #T_da9d0_row11_col6, #T_da9d0_row12_col0, #T_da9d0_row12_col1, #T_da9d0_row12_col2, #T_da9d0_row12_col3, #T_da9d0_row12_col4, #T_da9d0_row12_col5, #T_da9d0_row12_col6, #T_da9d0_row13_col0, #T_da9d0_row13_col1, #T_da9d0_row13_col2, #T_da9d0_row13_col3, #T_da9d0_row13_col4, #T_da9d0_row13_col5, #T_da9d0_row14_col0, #T_da9d0_row14_col1, #T_da9d0_row14_col2, #T_da9d0_row14_col3, #T_da9d0_row14_col4, #T_da9d0_row14_col5, #T_da9d0_row14_col6, #T_da9d0_row15_col0, #T_da9d0_row15_col1, #T_da9d0_row15_col2, #T_da9d0_row15_col3, #T_da9d0_row15_col4, #T_da9d0_row15_col5, #T_da9d0_row15_col6, #T_da9d0_row16_col0, #T_da9d0_row16_col1, #T_da9d0_row16_col2, #T_da9d0_row16_col3, #T_da9d0_row16_col4, #T_da9d0_row16_col5, #T_da9d0_row16_col6, #T_da9d0_row17_col0, #T_da9d0_row17_col1, #T_da9d0_row17_col2, #T_da9d0_row17_col3, #T_da9d0_row17_col4, #T_da9d0_row17_col5, #T_da9d0_row17_col6 {\n",
       "  text-align: left;\n",
       "}\n",
       "#T_da9d0_row0_col4, #T_da9d0_row1_col4, #T_da9d0_row4_col1, #T_da9d0_row5_col2, #T_da9d0_row5_col3, #T_da9d0_row5_col5, #T_da9d0_row13_col6 {\n",
       "  text-align: left;\n",
       "  background-color: yellow;\n",
       "}\n",
       "#T_da9d0_row0_col7, #T_da9d0_row1_col7, #T_da9d0_row2_col7, #T_da9d0_row3_col7, #T_da9d0_row4_col7, #T_da9d0_row5_col7, #T_da9d0_row6_col7, #T_da9d0_row7_col7, #T_da9d0_row8_col7, #T_da9d0_row9_col7, #T_da9d0_row10_col7, #T_da9d0_row12_col7, #T_da9d0_row14_col7, #T_da9d0_row15_col7, #T_da9d0_row16_col7, #T_da9d0_row17_col7 {\n",
       "  text-align: left;\n",
       "  background-color: lightgrey;\n",
       "}\n",
       "#T_da9d0_row11_col7, #T_da9d0_row13_col7 {\n",
       "  text-align: left;\n",
       "  background-color: yellow;\n",
       "  background-color: lightgrey;\n",
       "}\n",
       "</style>\n",
       "<table id=\"T_da9d0\">\n",
       "  <thead>\n",
       "    <tr>\n",
       "      <th class=\"blank level0\" >&nbsp;</th>\n",
       "      <th id=\"T_da9d0_level0_col0\" class=\"col_heading level0 col0\" >Model</th>\n",
       "      <th id=\"T_da9d0_level0_col1\" class=\"col_heading level0 col1\" >MAE</th>\n",
       "      <th id=\"T_da9d0_level0_col2\" class=\"col_heading level0 col2\" >MSE</th>\n",
       "      <th id=\"T_da9d0_level0_col3\" class=\"col_heading level0 col3\" >RMSE</th>\n",
       "      <th id=\"T_da9d0_level0_col4\" class=\"col_heading level0 col4\" >R2</th>\n",
       "      <th id=\"T_da9d0_level0_col5\" class=\"col_heading level0 col5\" >RMSLE</th>\n",
       "      <th id=\"T_da9d0_level0_col6\" class=\"col_heading level0 col6\" >MAPE</th>\n",
       "      <th id=\"T_da9d0_level0_col7\" class=\"col_heading level0 col7\" >TT (Sec)</th>\n",
       "    </tr>\n",
       "  </thead>\n",
       "  <tbody>\n",
       "    <tr>\n",
       "      <th id=\"T_da9d0_level0_row0\" class=\"row_heading level0 row0\" >lr</th>\n",
       "      <td id=\"T_da9d0_row0_col0\" class=\"data row0 col0\" >Linear Regression</td>\n",
       "      <td id=\"T_da9d0_row0_col1\" class=\"data row0 col1\" >0.3459</td>\n",
       "      <td id=\"T_da9d0_row0_col2\" class=\"data row0 col2\" >1.2873</td>\n",
       "      <td id=\"T_da9d0_row0_col3\" class=\"data row0 col3\" >0.9700</td>\n",
       "      <td id=\"T_da9d0_row0_col4\" class=\"data row0 col4\" >0.2377</td>\n",
       "      <td id=\"T_da9d0_row0_col5\" class=\"data row0 col5\" >0.2862</td>\n",
       "      <td id=\"T_da9d0_row0_col6\" class=\"data row0 col6\" >1.3504</td>\n",
       "      <td id=\"T_da9d0_row0_col7\" class=\"data row0 col7\" >0.0150</td>\n",
       "    </tr>\n",
       "    <tr>\n",
       "      <th id=\"T_da9d0_level0_row1\" class=\"row_heading level0 row1\" >lar</th>\n",
       "      <td id=\"T_da9d0_row1_col0\" class=\"data row1 col0\" >Least Angle Regression</td>\n",
       "      <td id=\"T_da9d0_row1_col1\" class=\"data row1 col1\" >0.3459</td>\n",
       "      <td id=\"T_da9d0_row1_col2\" class=\"data row1 col2\" >1.2873</td>\n",
       "      <td id=\"T_da9d0_row1_col3\" class=\"data row1 col3\" >0.9700</td>\n",
       "      <td id=\"T_da9d0_row1_col4\" class=\"data row1 col4\" >0.2377</td>\n",
       "      <td id=\"T_da9d0_row1_col5\" class=\"data row1 col5\" >0.2862</td>\n",
       "      <td id=\"T_da9d0_row1_col6\" class=\"data row1 col6\" >1.3504</td>\n",
       "      <td id=\"T_da9d0_row1_col7\" class=\"data row1 col7\" >0.0150</td>\n",
       "    </tr>\n",
       "    <tr>\n",
       "      <th id=\"T_da9d0_level0_row2\" class=\"row_heading level0 row2\" >ridge</th>\n",
       "      <td id=\"T_da9d0_row2_col0\" class=\"data row2 col0\" >Ridge Regression</td>\n",
       "      <td id=\"T_da9d0_row2_col1\" class=\"data row2 col1\" >0.3476</td>\n",
       "      <td id=\"T_da9d0_row2_col2\" class=\"data row2 col2\" >1.2881</td>\n",
       "      <td id=\"T_da9d0_row2_col3\" class=\"data row2 col3\" >0.9706</td>\n",
       "      <td id=\"T_da9d0_row2_col4\" class=\"data row2 col4\" >0.2359</td>\n",
       "      <td id=\"T_da9d0_row2_col5\" class=\"data row2 col5\" >0.2885</td>\n",
       "      <td id=\"T_da9d0_row2_col6\" class=\"data row2 col6\" >1.3557</td>\n",
       "      <td id=\"T_da9d0_row2_col7\" class=\"data row2 col7\" >0.0150</td>\n",
       "    </tr>\n",
       "    <tr>\n",
       "      <th id=\"T_da9d0_level0_row3\" class=\"row_heading level0 row3\" >knn</th>\n",
       "      <td id=\"T_da9d0_row3_col0\" class=\"data row3 col0\" >K Neighbors Regressor</td>\n",
       "      <td id=\"T_da9d0_row3_col1\" class=\"data row3 col1\" >0.3421</td>\n",
       "      <td id=\"T_da9d0_row3_col2\" class=\"data row3 col2\" >1.2134</td>\n",
       "      <td id=\"T_da9d0_row3_col3\" class=\"data row3 col3\" >0.9539</td>\n",
       "      <td id=\"T_da9d0_row3_col4\" class=\"data row3 col4\" >0.2244</td>\n",
       "      <td id=\"T_da9d0_row3_col5\" class=\"data row3 col5\" >0.2970</td>\n",
       "      <td id=\"T_da9d0_row3_col6\" class=\"data row3 col6\" >1.5204</td>\n",
       "      <td id=\"T_da9d0_row3_col7\" class=\"data row3 col7\" >0.0250</td>\n",
       "    </tr>\n",
       "    <tr>\n",
       "      <th id=\"T_da9d0_level0_row4\" class=\"row_heading level0 row4\" >et</th>\n",
       "      <td id=\"T_da9d0_row4_col0\" class=\"data row4 col0\" >Extra Trees Regressor</td>\n",
       "      <td id=\"T_da9d0_row4_col1\" class=\"data row4 col1\" >0.3288</td>\n",
       "      <td id=\"T_da9d0_row4_col2\" class=\"data row4 col2\" >1.2499</td>\n",
       "      <td id=\"T_da9d0_row4_col3\" class=\"data row4 col3\" >0.9653</td>\n",
       "      <td id=\"T_da9d0_row4_col4\" class=\"data row4 col4\" >0.2154</td>\n",
       "      <td id=\"T_da9d0_row4_col5\" class=\"data row4 col5\" >0.2941</td>\n",
       "      <td id=\"T_da9d0_row4_col6\" class=\"data row4 col6\" >1.6203</td>\n",
       "      <td id=\"T_da9d0_row4_col7\" class=\"data row4 col7\" >0.0600</td>\n",
       "    </tr>\n",
       "    <tr>\n",
       "      <th id=\"T_da9d0_level0_row5\" class=\"row_heading level0 row5\" >huber</th>\n",
       "      <td id=\"T_da9d0_row5_col0\" class=\"data row5 col0\" >Huber Regressor</td>\n",
       "      <td id=\"T_da9d0_row5_col1\" class=\"data row5 col1\" >0.3465</td>\n",
       "      <td id=\"T_da9d0_row5_col2\" class=\"data row5 col2\" >1.1820</td>\n",
       "      <td id=\"T_da9d0_row5_col3\" class=\"data row5 col3\" >0.9493</td>\n",
       "      <td id=\"T_da9d0_row5_col4\" class=\"data row5 col4\" >0.2050</td>\n",
       "      <td id=\"T_da9d0_row5_col5\" class=\"data row5 col5\" >0.2664</td>\n",
       "      <td id=\"T_da9d0_row5_col6\" class=\"data row5 col6\" >1.4086</td>\n",
       "      <td id=\"T_da9d0_row5_col7\" class=\"data row5 col7\" >0.0200</td>\n",
       "    </tr>\n",
       "    <tr>\n",
       "      <th id=\"T_da9d0_level0_row6\" class=\"row_heading level0 row6\" >br</th>\n",
       "      <td id=\"T_da9d0_row6_col0\" class=\"data row6 col0\" >Bayesian Ridge</td>\n",
       "      <td id=\"T_da9d0_row6_col1\" class=\"data row6 col1\" >0.3538</td>\n",
       "      <td id=\"T_da9d0_row6_col2\" class=\"data row6 col2\" >1.3008</td>\n",
       "      <td id=\"T_da9d0_row6_col3\" class=\"data row6 col3\" >0.9814</td>\n",
       "      <td id=\"T_da9d0_row6_col4\" class=\"data row6 col4\" >0.1997</td>\n",
       "      <td id=\"T_da9d0_row6_col5\" class=\"data row6 col5\" >0.3049</td>\n",
       "      <td id=\"T_da9d0_row6_col6\" class=\"data row6 col6\" >1.3766</td>\n",
       "      <td id=\"T_da9d0_row6_col7\" class=\"data row6 col7\" >0.0150</td>\n",
       "    </tr>\n",
       "    <tr>\n",
       "      <th id=\"T_da9d0_level0_row7\" class=\"row_heading level0 row7\" >gbr</th>\n",
       "      <td id=\"T_da9d0_row7_col0\" class=\"data row7 col0\" >Gradient Boosting Regressor</td>\n",
       "      <td id=\"T_da9d0_row7_col1\" class=\"data row7 col1\" >0.3373</td>\n",
       "      <td id=\"T_da9d0_row7_col2\" class=\"data row7 col2\" >1.3185</td>\n",
       "      <td id=\"T_da9d0_row7_col3\" class=\"data row7 col3\" >0.9917</td>\n",
       "      <td id=\"T_da9d0_row7_col4\" class=\"data row7 col4\" >0.1710</td>\n",
       "      <td id=\"T_da9d0_row7_col5\" class=\"data row7 col5\" >0.3009</td>\n",
       "      <td id=\"T_da9d0_row7_col6\" class=\"data row7 col6\" >1.7367</td>\n",
       "      <td id=\"T_da9d0_row7_col7\" class=\"data row7 col7\" >0.0400</td>\n",
       "    </tr>\n",
       "    <tr>\n",
       "      <th id=\"T_da9d0_level0_row8\" class=\"row_heading level0 row8\" >rf</th>\n",
       "      <td id=\"T_da9d0_row8_col0\" class=\"data row8 col0\" >Random Forest Regressor</td>\n",
       "      <td id=\"T_da9d0_row8_col1\" class=\"data row8 col1\" >0.3296</td>\n",
       "      <td id=\"T_da9d0_row8_col2\" class=\"data row8 col2\" >1.3526</td>\n",
       "      <td id=\"T_da9d0_row8_col3\" class=\"data row8 col3\" >1.0003</td>\n",
       "      <td id=\"T_da9d0_row8_col4\" class=\"data row8 col4\" >0.1703</td>\n",
       "      <td id=\"T_da9d0_row8_col5\" class=\"data row8 col5\" >0.3096</td>\n",
       "      <td id=\"T_da9d0_row8_col6\" class=\"data row8 col6\" >1.3127</td>\n",
       "      <td id=\"T_da9d0_row8_col7\" class=\"data row8 col7\" >0.0800</td>\n",
       "    </tr>\n",
       "    <tr>\n",
       "      <th id=\"T_da9d0_level0_row9\" class=\"row_heading level0 row9\" >ada</th>\n",
       "      <td id=\"T_da9d0_row9_col0\" class=\"data row9 col0\" >AdaBoost Regressor</td>\n",
       "      <td id=\"T_da9d0_row9_col1\" class=\"data row9 col1\" >0.3577</td>\n",
       "      <td id=\"T_da9d0_row9_col2\" class=\"data row9 col2\" >1.4341</td>\n",
       "      <td id=\"T_da9d0_row9_col3\" class=\"data row9 col3\" >1.0227</td>\n",
       "      <td id=\"T_da9d0_row9_col4\" class=\"data row9 col4\" >0.1559</td>\n",
       "      <td id=\"T_da9d0_row9_col5\" class=\"data row9 col5\" >0.3160</td>\n",
       "      <td id=\"T_da9d0_row9_col6\" class=\"data row9 col6\" >1.3822</td>\n",
       "      <td id=\"T_da9d0_row9_col7\" class=\"data row9 col7\" >0.0350</td>\n",
       "    </tr>\n",
       "    <tr>\n",
       "      <th id=\"T_da9d0_level0_row10\" class=\"row_heading level0 row10\" >lightgbm</th>\n",
       "      <td id=\"T_da9d0_row10_col0\" class=\"data row10 col0\" >Light Gradient Boosting Machine</td>\n",
       "      <td id=\"T_da9d0_row10_col1\" class=\"data row10 col1\" >0.3430</td>\n",
       "      <td id=\"T_da9d0_row10_col2\" class=\"data row10 col2\" >1.4161</td>\n",
       "      <td id=\"T_da9d0_row10_col3\" class=\"data row10 col3\" >1.0216</td>\n",
       "      <td id=\"T_da9d0_row10_col4\" class=\"data row10 col4\" >0.1407</td>\n",
       "      <td id=\"T_da9d0_row10_col5\" class=\"data row10 col5\" >0.3135</td>\n",
       "      <td id=\"T_da9d0_row10_col6\" class=\"data row10 col6\" >1.4690</td>\n",
       "      <td id=\"T_da9d0_row10_col7\" class=\"data row10 col7\" >0.1100</td>\n",
       "    </tr>\n",
       "    <tr>\n",
       "      <th id=\"T_da9d0_level0_row11\" class=\"row_heading level0 row11\" >omp</th>\n",
       "      <td id=\"T_da9d0_row11_col0\" class=\"data row11 col0\" >Orthogonal Matching Pursuit</td>\n",
       "      <td id=\"T_da9d0_row11_col1\" class=\"data row11 col1\" >0.3705</td>\n",
       "      <td id=\"T_da9d0_row11_col2\" class=\"data row11 col2\" >1.5461</td>\n",
       "      <td id=\"T_da9d0_row11_col3\" class=\"data row11 col3\" >1.0643</td>\n",
       "      <td id=\"T_da9d0_row11_col4\" class=\"data row11 col4\" >0.0781</td>\n",
       "      <td id=\"T_da9d0_row11_col5\" class=\"data row11 col5\" >0.3613</td>\n",
       "      <td id=\"T_da9d0_row11_col6\" class=\"data row11 col6\" >1.4977</td>\n",
       "      <td id=\"T_da9d0_row11_col7\" class=\"data row11 col7\" >0.0100</td>\n",
       "    </tr>\n",
       "    <tr>\n",
       "      <th id=\"T_da9d0_level0_row12\" class=\"row_heading level0 row12\" >dt</th>\n",
       "      <td id=\"T_da9d0_row12_col0\" class=\"data row12 col0\" >Decision Tree Regressor</td>\n",
       "      <td id=\"T_da9d0_row12_col1\" class=\"data row12 col1\" >0.3956</td>\n",
       "      <td id=\"T_da9d0_row12_col2\" class=\"data row12 col2\" >1.4643</td>\n",
       "      <td id=\"T_da9d0_row12_col3\" class=\"data row12 col3\" >1.0457</td>\n",
       "      <td id=\"T_da9d0_row12_col4\" class=\"data row12 col4\" >0.0762</td>\n",
       "      <td id=\"T_da9d0_row12_col5\" class=\"data row12 col5\" >0.3086</td>\n",
       "      <td id=\"T_da9d0_row12_col6\" class=\"data row12 col6\" >2.0988</td>\n",
       "      <td id=\"T_da9d0_row12_col7\" class=\"data row12 col7\" >0.0150</td>\n",
       "    </tr>\n",
       "    <tr>\n",
       "      <th id=\"T_da9d0_level0_row13\" class=\"row_heading level0 row13\" >en</th>\n",
       "      <td id=\"T_da9d0_row13_col0\" class=\"data row13 col0\" >Elastic Net</td>\n",
       "      <td id=\"T_da9d0_row13_col1\" class=\"data row13 col1\" >0.3809</td>\n",
       "      <td id=\"T_da9d0_row13_col2\" class=\"data row13 col2\" >1.5825</td>\n",
       "      <td id=\"T_da9d0_row13_col3\" class=\"data row13 col3\" >1.0844</td>\n",
       "      <td id=\"T_da9d0_row13_col4\" class=\"data row13 col4\" >0.0160</td>\n",
       "      <td id=\"T_da9d0_row13_col5\" class=\"data row13 col5\" >0.3749</td>\n",
       "      <td id=\"T_da9d0_row13_col6\" class=\"data row13 col6\" >0.9527</td>\n",
       "      <td id=\"T_da9d0_row13_col7\" class=\"data row13 col7\" >0.0100</td>\n",
       "    </tr>\n",
       "    <tr>\n",
       "      <th id=\"T_da9d0_level0_row14\" class=\"row_heading level0 row14\" >lasso</th>\n",
       "      <td id=\"T_da9d0_row14_col0\" class=\"data row14 col0\" >Lasso Regression</td>\n",
       "      <td id=\"T_da9d0_row14_col1\" class=\"data row14 col1\" >0.4033</td>\n",
       "      <td id=\"T_da9d0_row14_col2\" class=\"data row14 col2\" >1.6103</td>\n",
       "      <td id=\"T_da9d0_row14_col3\" class=\"data row14 col3\" >1.0968</td>\n",
       "      <td id=\"T_da9d0_row14_col4\" class=\"data row14 col4\" >-0.0174</td>\n",
       "      <td id=\"T_da9d0_row14_col5\" class=\"data row14 col5\" >0.3754</td>\n",
       "      <td id=\"T_da9d0_row14_col6\" class=\"data row14 col6\" >1.2729</td>\n",
       "      <td id=\"T_da9d0_row14_col7\" class=\"data row14 col7\" >0.0200</td>\n",
       "    </tr>\n",
       "    <tr>\n",
       "      <th id=\"T_da9d0_level0_row15\" class=\"row_heading level0 row15\" >llar</th>\n",
       "      <td id=\"T_da9d0_row15_col0\" class=\"data row15 col0\" >Lasso Least Angle Regression</td>\n",
       "      <td id=\"T_da9d0_row15_col1\" class=\"data row15 col1\" >0.4033</td>\n",
       "      <td id=\"T_da9d0_row15_col2\" class=\"data row15 col2\" >1.6103</td>\n",
       "      <td id=\"T_da9d0_row15_col3\" class=\"data row15 col3\" >1.0968</td>\n",
       "      <td id=\"T_da9d0_row15_col4\" class=\"data row15 col4\" >-0.0174</td>\n",
       "      <td id=\"T_da9d0_row15_col5\" class=\"data row15 col5\" >0.3754</td>\n",
       "      <td id=\"T_da9d0_row15_col6\" class=\"data row15 col6\" >1.2729</td>\n",
       "      <td id=\"T_da9d0_row15_col7\" class=\"data row15 col7\" >0.0150</td>\n",
       "    </tr>\n",
       "    <tr>\n",
       "      <th id=\"T_da9d0_level0_row16\" class=\"row_heading level0 row16\" >dummy</th>\n",
       "      <td id=\"T_da9d0_row16_col0\" class=\"data row16 col0\" >Dummy Regressor</td>\n",
       "      <td id=\"T_da9d0_row16_col1\" class=\"data row16 col1\" >0.4033</td>\n",
       "      <td id=\"T_da9d0_row16_col2\" class=\"data row16 col2\" >1.6103</td>\n",
       "      <td id=\"T_da9d0_row16_col3\" class=\"data row16 col3\" >1.0968</td>\n",
       "      <td id=\"T_da9d0_row16_col4\" class=\"data row16 col4\" >-0.0174</td>\n",
       "      <td id=\"T_da9d0_row16_col5\" class=\"data row16 col5\" >0.3754</td>\n",
       "      <td id=\"T_da9d0_row16_col6\" class=\"data row16 col6\" >1.2729</td>\n",
       "      <td id=\"T_da9d0_row16_col7\" class=\"data row16 col7\" >0.0150</td>\n",
       "    </tr>\n",
       "    <tr>\n",
       "      <th id=\"T_da9d0_level0_row17\" class=\"row_heading level0 row17\" >par</th>\n",
       "      <td id=\"T_da9d0_row17_col0\" class=\"data row17 col0\" >Passive Aggressive Regressor</td>\n",
       "      <td id=\"T_da9d0_row17_col1\" class=\"data row17 col1\" >0.4203</td>\n",
       "      <td id=\"T_da9d0_row17_col2\" class=\"data row17 col2\" >1.6008</td>\n",
       "      <td id=\"T_da9d0_row17_col3\" class=\"data row17 col3\" >1.0998</td>\n",
       "      <td id=\"T_da9d0_row17_col4\" class=\"data row17 col4\" >-0.0473</td>\n",
       "      <td id=\"T_da9d0_row17_col5\" class=\"data row17 col5\" >0.3692</td>\n",
       "      <td id=\"T_da9d0_row17_col6\" class=\"data row17 col6\" >1.4923</td>\n",
       "      <td id=\"T_da9d0_row17_col7\" class=\"data row17 col7\" >0.0150</td>\n",
       "    </tr>\n",
       "  </tbody>\n",
       "</table>\n"
      ],
      "text/plain": [
       "<pandas.io.formats.style.Styler at 0x2045ee0fee0>"
      ]
     },
     "metadata": {},
     "output_type": "display_data"
    },
    {
     "data": {
      "text/html": [],
      "text/plain": [
       "<IPython.core.display.HTML object>"
      ]
     },
     "metadata": {},
     "output_type": "display_data"
    }
   ],
   "source": [
    "best_auto = compare_models()"
   ]
  },
  {
   "cell_type": "code",
   "execution_count": 57,
   "metadata": {},
   "outputs": [
    {
     "data": {
      "application/vnd.jupyter.widget-view+json": {
       "model_id": "d5aaf79bfb734642a174237fa6dbfd42",
       "version_major": 2,
       "version_minor": 0
      },
      "text/plain": [
       "interactive(children=(ToggleButtons(description='Plot Type:', icons=('',), options=(('Pipeline Plot', 'pipelin…"
      ]
     },
     "metadata": {},
     "output_type": "display_data"
    }
   ],
   "source": [
    "evaluate_model(best_auto)"
   ]
  },
  {
   "cell_type": "markdown",
   "metadata": {},
   "source": [
    "## **PRUEBA**"
   ]
  },
  {
   "cell_type": "code",
   "execution_count": 58,
   "metadata": {},
   "outputs": [
    {
     "data": {
      "text/html": [
       "<div>\n",
       "<style scoped>\n",
       "    .dataframe tbody tr th:only-of-type {\n",
       "        vertical-align: middle;\n",
       "    }\n",
       "\n",
       "    .dataframe tbody tr th {\n",
       "        vertical-align: top;\n",
       "    }\n",
       "\n",
       "    .dataframe thead th {\n",
       "        text-align: right;\n",
       "    }\n",
       "</style>\n",
       "<table border=\"1\" class=\"dataframe\">\n",
       "  <thead>\n",
       "    <tr style=\"text-align: right;\">\n",
       "      <th></th>\n",
       "      <th>Month</th>\n",
       "      <th>#Passengers</th>\n",
       "    </tr>\n",
       "  </thead>\n",
       "  <tbody>\n",
       "    <tr>\n",
       "      <th>0</th>\n",
       "      <td>1949-01-01</td>\n",
       "      <td>112</td>\n",
       "    </tr>\n",
       "    <tr>\n",
       "      <th>1</th>\n",
       "      <td>1949-02-01</td>\n",
       "      <td>118</td>\n",
       "    </tr>\n",
       "    <tr>\n",
       "      <th>2</th>\n",
       "      <td>1949-03-01</td>\n",
       "      <td>132</td>\n",
       "    </tr>\n",
       "    <tr>\n",
       "      <th>3</th>\n",
       "      <td>1949-04-01</td>\n",
       "      <td>129</td>\n",
       "    </tr>\n",
       "    <tr>\n",
       "      <th>4</th>\n",
       "      <td>1949-05-01</td>\n",
       "      <td>121</td>\n",
       "    </tr>\n",
       "  </tbody>\n",
       "</table>\n",
       "</div>"
      ],
      "text/plain": [
       "       Month  #Passengers\n",
       "0 1949-01-01          112\n",
       "1 1949-02-01          118\n",
       "2 1949-03-01          132\n",
       "3 1949-04-01          129\n",
       "4 1949-05-01          121"
      ]
     },
     "execution_count": 58,
     "metadata": {},
     "output_type": "execute_result"
    }
   ],
   "source": [
    "data = pd.read_csv('AirPassengers.csv')\n",
    "data['Month'] = pd.to_datetime(data['Month'])\n",
    "data.head()"
   ]
  },
  {
   "cell_type": "code",
   "execution_count": 59,
   "metadata": {},
   "outputs": [
    {
     "data": {
      "text/html": [
       "<div>\n",
       "<style scoped>\n",
       "    .dataframe tbody tr th:only-of-type {\n",
       "        vertical-align: middle;\n",
       "    }\n",
       "\n",
       "    .dataframe tbody tr th {\n",
       "        vertical-align: top;\n",
       "    }\n",
       "\n",
       "    .dataframe thead th {\n",
       "        text-align: right;\n",
       "    }\n",
       "</style>\n",
       "<table border=\"1\" class=\"dataframe\">\n",
       "  <thead>\n",
       "    <tr style=\"text-align: right;\">\n",
       "      <th></th>\n",
       "      <th>Month</th>\n",
       "      <th>#Passengers</th>\n",
       "      <th>MA12</th>\n",
       "    </tr>\n",
       "  </thead>\n",
       "  <tbody>\n",
       "    <tr>\n",
       "      <th>0</th>\n",
       "      <td>1949-01-01</td>\n",
       "      <td>112</td>\n",
       "      <td>NaN</td>\n",
       "    </tr>\n",
       "    <tr>\n",
       "      <th>1</th>\n",
       "      <td>1949-02-01</td>\n",
       "      <td>118</td>\n",
       "      <td>NaN</td>\n",
       "    </tr>\n",
       "    <tr>\n",
       "      <th>2</th>\n",
       "      <td>1949-03-01</td>\n",
       "      <td>132</td>\n",
       "      <td>NaN</td>\n",
       "    </tr>\n",
       "    <tr>\n",
       "      <th>3</th>\n",
       "      <td>1949-04-01</td>\n",
       "      <td>129</td>\n",
       "      <td>NaN</td>\n",
       "    </tr>\n",
       "    <tr>\n",
       "      <th>4</th>\n",
       "      <td>1949-05-01</td>\n",
       "      <td>121</td>\n",
       "      <td>NaN</td>\n",
       "    </tr>\n",
       "    <tr>\n",
       "      <th>...</th>\n",
       "      <td>...</td>\n",
       "      <td>...</td>\n",
       "      <td>...</td>\n",
       "    </tr>\n",
       "    <tr>\n",
       "      <th>139</th>\n",
       "      <td>1960-08-01</td>\n",
       "      <td>606</td>\n",
       "      <td>463.333333</td>\n",
       "    </tr>\n",
       "    <tr>\n",
       "      <th>140</th>\n",
       "      <td>1960-09-01</td>\n",
       "      <td>508</td>\n",
       "      <td>467.083333</td>\n",
       "    </tr>\n",
       "    <tr>\n",
       "      <th>141</th>\n",
       "      <td>1960-10-01</td>\n",
       "      <td>461</td>\n",
       "      <td>471.583333</td>\n",
       "    </tr>\n",
       "    <tr>\n",
       "      <th>142</th>\n",
       "      <td>1960-11-01</td>\n",
       "      <td>390</td>\n",
       "      <td>473.916667</td>\n",
       "    </tr>\n",
       "    <tr>\n",
       "      <th>143</th>\n",
       "      <td>1960-12-01</td>\n",
       "      <td>432</td>\n",
       "      <td>476.166667</td>\n",
       "    </tr>\n",
       "  </tbody>\n",
       "</table>\n",
       "<p>144 rows × 3 columns</p>\n",
       "</div>"
      ],
      "text/plain": [
       "         Month  #Passengers        MA12\n",
       "0   1949-01-01          112         NaN\n",
       "1   1949-02-01          118         NaN\n",
       "2   1949-03-01          132         NaN\n",
       "3   1949-04-01          129         NaN\n",
       "4   1949-05-01          121         NaN\n",
       "..         ...          ...         ...\n",
       "139 1960-08-01          606  463.333333\n",
       "140 1960-09-01          508  467.083333\n",
       "141 1960-10-01          461  471.583333\n",
       "142 1960-11-01          390  473.916667\n",
       "143 1960-12-01          432  476.166667\n",
       "\n",
       "[144 rows x 3 columns]"
      ]
     },
     "execution_count": 59,
     "metadata": {},
     "output_type": "execute_result"
    }
   ],
   "source": [
    "data['MA12'] = data['#Passengers'].rolling(12).mean()\n",
    "data"
   ]
  },
  {
   "cell_type": "code",
   "execution_count": 60,
   "metadata": {},
   "outputs": [
    {
     "data": {
      "application/vnd.plotly.v1+json": {
       "config": {
        "plotlyServerURL": "https://plot.ly"
       },
       "data": [
        {
         "hovertemplate": "variable=#Passengers<br>Month=%{x}<br>value=%{y}<extra></extra>",
         "legendgroup": "#Passengers",
         "line": {
          "color": "#636efa",
          "dash": "solid"
         },
         "marker": {
          "symbol": "circle"
         },
         "mode": "lines",
         "name": "#Passengers",
         "orientation": "v",
         "showlegend": true,
         "type": "scatter",
         "x": [
          "1949-01-01T00:00:00",
          "1949-02-01T00:00:00",
          "1949-03-01T00:00:00",
          "1949-04-01T00:00:00",
          "1949-05-01T00:00:00",
          "1949-06-01T00:00:00",
          "1949-07-01T00:00:00",
          "1949-08-01T00:00:00",
          "1949-09-01T00:00:00",
          "1949-10-01T00:00:00",
          "1949-11-01T00:00:00",
          "1949-12-01T00:00:00",
          "1950-01-01T00:00:00",
          "1950-02-01T00:00:00",
          "1950-03-01T00:00:00",
          "1950-04-01T00:00:00",
          "1950-05-01T00:00:00",
          "1950-06-01T00:00:00",
          "1950-07-01T00:00:00",
          "1950-08-01T00:00:00",
          "1950-09-01T00:00:00",
          "1950-10-01T00:00:00",
          "1950-11-01T00:00:00",
          "1950-12-01T00:00:00",
          "1951-01-01T00:00:00",
          "1951-02-01T00:00:00",
          "1951-03-01T00:00:00",
          "1951-04-01T00:00:00",
          "1951-05-01T00:00:00",
          "1951-06-01T00:00:00",
          "1951-07-01T00:00:00",
          "1951-08-01T00:00:00",
          "1951-09-01T00:00:00",
          "1951-10-01T00:00:00",
          "1951-11-01T00:00:00",
          "1951-12-01T00:00:00",
          "1952-01-01T00:00:00",
          "1952-02-01T00:00:00",
          "1952-03-01T00:00:00",
          "1952-04-01T00:00:00",
          "1952-05-01T00:00:00",
          "1952-06-01T00:00:00",
          "1952-07-01T00:00:00",
          "1952-08-01T00:00:00",
          "1952-09-01T00:00:00",
          "1952-10-01T00:00:00",
          "1952-11-01T00:00:00",
          "1952-12-01T00:00:00",
          "1953-01-01T00:00:00",
          "1953-02-01T00:00:00",
          "1953-03-01T00:00:00",
          "1953-04-01T00:00:00",
          "1953-05-01T00:00:00",
          "1953-06-01T00:00:00",
          "1953-07-01T00:00:00",
          "1953-08-01T00:00:00",
          "1953-09-01T00:00:00",
          "1953-10-01T00:00:00",
          "1953-11-01T00:00:00",
          "1953-12-01T00:00:00",
          "1954-01-01T00:00:00",
          "1954-02-01T00:00:00",
          "1954-03-01T00:00:00",
          "1954-04-01T00:00:00",
          "1954-05-01T00:00:00",
          "1954-06-01T00:00:00",
          "1954-07-01T00:00:00",
          "1954-08-01T00:00:00",
          "1954-09-01T00:00:00",
          "1954-10-01T00:00:00",
          "1954-11-01T00:00:00",
          "1954-12-01T00:00:00",
          "1955-01-01T00:00:00",
          "1955-02-01T00:00:00",
          "1955-03-01T00:00:00",
          "1955-04-01T00:00:00",
          "1955-05-01T00:00:00",
          "1955-06-01T00:00:00",
          "1955-07-01T00:00:00",
          "1955-08-01T00:00:00",
          "1955-09-01T00:00:00",
          "1955-10-01T00:00:00",
          "1955-11-01T00:00:00",
          "1955-12-01T00:00:00",
          "1956-01-01T00:00:00",
          "1956-02-01T00:00:00",
          "1956-03-01T00:00:00",
          "1956-04-01T00:00:00",
          "1956-05-01T00:00:00",
          "1956-06-01T00:00:00",
          "1956-07-01T00:00:00",
          "1956-08-01T00:00:00",
          "1956-09-01T00:00:00",
          "1956-10-01T00:00:00",
          "1956-11-01T00:00:00",
          "1956-12-01T00:00:00",
          "1957-01-01T00:00:00",
          "1957-02-01T00:00:00",
          "1957-03-01T00:00:00",
          "1957-04-01T00:00:00",
          "1957-05-01T00:00:00",
          "1957-06-01T00:00:00",
          "1957-07-01T00:00:00",
          "1957-08-01T00:00:00",
          "1957-09-01T00:00:00",
          "1957-10-01T00:00:00",
          "1957-11-01T00:00:00",
          "1957-12-01T00:00:00",
          "1958-01-01T00:00:00",
          "1958-02-01T00:00:00",
          "1958-03-01T00:00:00",
          "1958-04-01T00:00:00",
          "1958-05-01T00:00:00",
          "1958-06-01T00:00:00",
          "1958-07-01T00:00:00",
          "1958-08-01T00:00:00",
          "1958-09-01T00:00:00",
          "1958-10-01T00:00:00",
          "1958-11-01T00:00:00",
          "1958-12-01T00:00:00",
          "1959-01-01T00:00:00",
          "1959-02-01T00:00:00",
          "1959-03-01T00:00:00",
          "1959-04-01T00:00:00",
          "1959-05-01T00:00:00",
          "1959-06-01T00:00:00",
          "1959-07-01T00:00:00",
          "1959-08-01T00:00:00",
          "1959-09-01T00:00:00",
          "1959-10-01T00:00:00",
          "1959-11-01T00:00:00",
          "1959-12-01T00:00:00",
          "1960-01-01T00:00:00",
          "1960-02-01T00:00:00",
          "1960-03-01T00:00:00",
          "1960-04-01T00:00:00",
          "1960-05-01T00:00:00",
          "1960-06-01T00:00:00",
          "1960-07-01T00:00:00",
          "1960-08-01T00:00:00",
          "1960-09-01T00:00:00",
          "1960-10-01T00:00:00",
          "1960-11-01T00:00:00",
          "1960-12-01T00:00:00"
         ],
         "xaxis": "x",
         "y": [
          112,
          118,
          132,
          129,
          121,
          135,
          148,
          148,
          136,
          119,
          104,
          118,
          115,
          126,
          141,
          135,
          125,
          149,
          170,
          170,
          158,
          133,
          114,
          140,
          145,
          150,
          178,
          163,
          172,
          178,
          199,
          199,
          184,
          162,
          146,
          166,
          171,
          180,
          193,
          181,
          183,
          218,
          230,
          242,
          209,
          191,
          172,
          194,
          196,
          196,
          236,
          235,
          229,
          243,
          264,
          272,
          237,
          211,
          180,
          201,
          204,
          188,
          235,
          227,
          234,
          264,
          302,
          293,
          259,
          229,
          203,
          229,
          242,
          233,
          267,
          269,
          270,
          315,
          364,
          347,
          312,
          274,
          237,
          278,
          284,
          277,
          317,
          313,
          318,
          374,
          413,
          405,
          355,
          306,
          271,
          306,
          315,
          301,
          356,
          348,
          355,
          422,
          465,
          467,
          404,
          347,
          305,
          336,
          340,
          318,
          362,
          348,
          363,
          435,
          491,
          505,
          404,
          359,
          310,
          337,
          360,
          342,
          406,
          396,
          420,
          472,
          548,
          559,
          463,
          407,
          362,
          405,
          417,
          391,
          419,
          461,
          472,
          535,
          622,
          606,
          508,
          461,
          390,
          432
         ],
         "yaxis": "y"
        },
        {
         "hovertemplate": "variable=MA12<br>Month=%{x}<br>value=%{y}<extra></extra>",
         "legendgroup": "MA12",
         "line": {
          "color": "#EF553B",
          "dash": "solid"
         },
         "marker": {
          "symbol": "circle"
         },
         "mode": "lines",
         "name": "MA12",
         "orientation": "v",
         "showlegend": true,
         "type": "scatter",
         "x": [
          "1949-01-01T00:00:00",
          "1949-02-01T00:00:00",
          "1949-03-01T00:00:00",
          "1949-04-01T00:00:00",
          "1949-05-01T00:00:00",
          "1949-06-01T00:00:00",
          "1949-07-01T00:00:00",
          "1949-08-01T00:00:00",
          "1949-09-01T00:00:00",
          "1949-10-01T00:00:00",
          "1949-11-01T00:00:00",
          "1949-12-01T00:00:00",
          "1950-01-01T00:00:00",
          "1950-02-01T00:00:00",
          "1950-03-01T00:00:00",
          "1950-04-01T00:00:00",
          "1950-05-01T00:00:00",
          "1950-06-01T00:00:00",
          "1950-07-01T00:00:00",
          "1950-08-01T00:00:00",
          "1950-09-01T00:00:00",
          "1950-10-01T00:00:00",
          "1950-11-01T00:00:00",
          "1950-12-01T00:00:00",
          "1951-01-01T00:00:00",
          "1951-02-01T00:00:00",
          "1951-03-01T00:00:00",
          "1951-04-01T00:00:00",
          "1951-05-01T00:00:00",
          "1951-06-01T00:00:00",
          "1951-07-01T00:00:00",
          "1951-08-01T00:00:00",
          "1951-09-01T00:00:00",
          "1951-10-01T00:00:00",
          "1951-11-01T00:00:00",
          "1951-12-01T00:00:00",
          "1952-01-01T00:00:00",
          "1952-02-01T00:00:00",
          "1952-03-01T00:00:00",
          "1952-04-01T00:00:00",
          "1952-05-01T00:00:00",
          "1952-06-01T00:00:00",
          "1952-07-01T00:00:00",
          "1952-08-01T00:00:00",
          "1952-09-01T00:00:00",
          "1952-10-01T00:00:00",
          "1952-11-01T00:00:00",
          "1952-12-01T00:00:00",
          "1953-01-01T00:00:00",
          "1953-02-01T00:00:00",
          "1953-03-01T00:00:00",
          "1953-04-01T00:00:00",
          "1953-05-01T00:00:00",
          "1953-06-01T00:00:00",
          "1953-07-01T00:00:00",
          "1953-08-01T00:00:00",
          "1953-09-01T00:00:00",
          "1953-10-01T00:00:00",
          "1953-11-01T00:00:00",
          "1953-12-01T00:00:00",
          "1954-01-01T00:00:00",
          "1954-02-01T00:00:00",
          "1954-03-01T00:00:00",
          "1954-04-01T00:00:00",
          "1954-05-01T00:00:00",
          "1954-06-01T00:00:00",
          "1954-07-01T00:00:00",
          "1954-08-01T00:00:00",
          "1954-09-01T00:00:00",
          "1954-10-01T00:00:00",
          "1954-11-01T00:00:00",
          "1954-12-01T00:00:00",
          "1955-01-01T00:00:00",
          "1955-02-01T00:00:00",
          "1955-03-01T00:00:00",
          "1955-04-01T00:00:00",
          "1955-05-01T00:00:00",
          "1955-06-01T00:00:00",
          "1955-07-01T00:00:00",
          "1955-08-01T00:00:00",
          "1955-09-01T00:00:00",
          "1955-10-01T00:00:00",
          "1955-11-01T00:00:00",
          "1955-12-01T00:00:00",
          "1956-01-01T00:00:00",
          "1956-02-01T00:00:00",
          "1956-03-01T00:00:00",
          "1956-04-01T00:00:00",
          "1956-05-01T00:00:00",
          "1956-06-01T00:00:00",
          "1956-07-01T00:00:00",
          "1956-08-01T00:00:00",
          "1956-09-01T00:00:00",
          "1956-10-01T00:00:00",
          "1956-11-01T00:00:00",
          "1956-12-01T00:00:00",
          "1957-01-01T00:00:00",
          "1957-02-01T00:00:00",
          "1957-03-01T00:00:00",
          "1957-04-01T00:00:00",
          "1957-05-01T00:00:00",
          "1957-06-01T00:00:00",
          "1957-07-01T00:00:00",
          "1957-08-01T00:00:00",
          "1957-09-01T00:00:00",
          "1957-10-01T00:00:00",
          "1957-11-01T00:00:00",
          "1957-12-01T00:00:00",
          "1958-01-01T00:00:00",
          "1958-02-01T00:00:00",
          "1958-03-01T00:00:00",
          "1958-04-01T00:00:00",
          "1958-05-01T00:00:00",
          "1958-06-01T00:00:00",
          "1958-07-01T00:00:00",
          "1958-08-01T00:00:00",
          "1958-09-01T00:00:00",
          "1958-10-01T00:00:00",
          "1958-11-01T00:00:00",
          "1958-12-01T00:00:00",
          "1959-01-01T00:00:00",
          "1959-02-01T00:00:00",
          "1959-03-01T00:00:00",
          "1959-04-01T00:00:00",
          "1959-05-01T00:00:00",
          "1959-06-01T00:00:00",
          "1959-07-01T00:00:00",
          "1959-08-01T00:00:00",
          "1959-09-01T00:00:00",
          "1959-10-01T00:00:00",
          "1959-11-01T00:00:00",
          "1959-12-01T00:00:00",
          "1960-01-01T00:00:00",
          "1960-02-01T00:00:00",
          "1960-03-01T00:00:00",
          "1960-04-01T00:00:00",
          "1960-05-01T00:00:00",
          "1960-06-01T00:00:00",
          "1960-07-01T00:00:00",
          "1960-08-01T00:00:00",
          "1960-09-01T00:00:00",
          "1960-10-01T00:00:00",
          "1960-11-01T00:00:00",
          "1960-12-01T00:00:00"
         ],
         "xaxis": "x",
         "y": [
          null,
          null,
          null,
          null,
          null,
          null,
          null,
          null,
          null,
          null,
          null,
          126.66666666666667,
          126.91666666666667,
          127.58333333333333,
          128.33333333333334,
          128.83333333333334,
          129.16666666666666,
          130.33333333333334,
          132.16666666666666,
          134,
          135.83333333333334,
          137,
          137.83333333333334,
          139.66666666666666,
          142.16666666666666,
          144.16666666666666,
          147.25,
          149.58333333333334,
          153.5,
          155.91666666666666,
          158.33333333333334,
          160.75,
          162.91666666666666,
          165.33333333333334,
          168,
          170.16666666666666,
          172.33333333333334,
          174.83333333333334,
          176.08333333333334,
          177.58333333333334,
          178.5,
          181.83333333333334,
          184.41666666666666,
          188,
          190.08333333333334,
          192.5,
          194.66666666666666,
          197,
          199.08333333333334,
          200.41666666666666,
          204,
          208.5,
          212.33333333333334,
          214.41666666666666,
          217.25,
          219.75,
          222.08333333333334,
          223.75,
          224.41666666666666,
          225,
          225.66666666666666,
          225,
          224.91666666666666,
          224.25,
          224.66666666666666,
          226.41666666666666,
          229.58333333333334,
          231.33333333333334,
          233.16666666666666,
          234.66666666666666,
          236.58333333333334,
          238.91666666666666,
          242.08333333333334,
          245.83333333333334,
          248.5,
          252,
          255,
          259.25,
          264.4166666666667,
          268.9166666666667,
          273.3333333333333,
          277.0833333333333,
          279.9166666666667,
          284,
          287.5,
          291.1666666666667,
          295.3333333333333,
          299,
          303,
          307.9166666666667,
          312,
          316.8333333333333,
          320.4166666666667,
          323.0833333333333,
          325.9166666666667,
          328.25,
          330.8333333333333,
          332.8333333333333,
          336.0833333333333,
          339,
          342.0833333333333,
          346.0833333333333,
          350.4166666666667,
          355.5833333333333,
          359.6666666666667,
          363.0833333333333,
          365.9166666666667,
          368.4166666666667,
          370.5,
          371.9166666666667,
          372.4166666666667,
          372.4166666666667,
          373.0833333333333,
          374.1666666666667,
          376.3333333333333,
          379.5,
          379.5,
          380.5,
          380.9166666666667,
          381,
          382.6666666666667,
          384.6666666666667,
          388.3333333333333,
          392.3333333333333,
          397.0833333333333,
          400.1666666666667,
          404.9166666666667,
          409.4166666666667,
          414.3333333333333,
          418.3333333333333,
          422.6666666666667,
          428.3333333333333,
          433.0833333333333,
          437.1666666666667,
          438.25,
          443.6666666666667,
          448,
          453.25,
          459.4166666666667,
          463.3333333333333,
          467.0833333333333,
          471.5833333333333,
          473.9166666666667,
          476.1666666666667
         ],
         "yaxis": "y"
        }
       ],
       "layout": {
        "legend": {
         "title": {
          "text": "variable"
         },
         "tracegroupgap": 0
        },
        "margin": {
         "t": 60
        },
        "template": {
         "data": {
          "bar": [
           {
            "error_x": {
             "color": "#f2f5fa"
            },
            "error_y": {
             "color": "#f2f5fa"
            },
            "marker": {
             "line": {
              "color": "rgb(17,17,17)",
              "width": 0.5
             },
             "pattern": {
              "fillmode": "overlay",
              "size": 10,
              "solidity": 0.2
             }
            },
            "type": "bar"
           }
          ],
          "barpolar": [
           {
            "marker": {
             "line": {
              "color": "rgb(17,17,17)",
              "width": 0.5
             },
             "pattern": {
              "fillmode": "overlay",
              "size": 10,
              "solidity": 0.2
             }
            },
            "type": "barpolar"
           }
          ],
          "carpet": [
           {
            "aaxis": {
             "endlinecolor": "#A2B1C6",
             "gridcolor": "#506784",
             "linecolor": "#506784",
             "minorgridcolor": "#506784",
             "startlinecolor": "#A2B1C6"
            },
            "baxis": {
             "endlinecolor": "#A2B1C6",
             "gridcolor": "#506784",
             "linecolor": "#506784",
             "minorgridcolor": "#506784",
             "startlinecolor": "#A2B1C6"
            },
            "type": "carpet"
           }
          ],
          "choropleth": [
           {
            "colorbar": {
             "outlinewidth": 0,
             "ticks": ""
            },
            "type": "choropleth"
           }
          ],
          "contour": [
           {
            "colorbar": {
             "outlinewidth": 0,
             "ticks": ""
            },
            "colorscale": [
             [
              0,
              "#0d0887"
             ],
             [
              0.1111111111111111,
              "#46039f"
             ],
             [
              0.2222222222222222,
              "#7201a8"
             ],
             [
              0.3333333333333333,
              "#9c179e"
             ],
             [
              0.4444444444444444,
              "#bd3786"
             ],
             [
              0.5555555555555556,
              "#d8576b"
             ],
             [
              0.6666666666666666,
              "#ed7953"
             ],
             [
              0.7777777777777778,
              "#fb9f3a"
             ],
             [
              0.8888888888888888,
              "#fdca26"
             ],
             [
              1,
              "#f0f921"
             ]
            ],
            "type": "contour"
           }
          ],
          "contourcarpet": [
           {
            "colorbar": {
             "outlinewidth": 0,
             "ticks": ""
            },
            "type": "contourcarpet"
           }
          ],
          "heatmap": [
           {
            "colorbar": {
             "outlinewidth": 0,
             "ticks": ""
            },
            "colorscale": [
             [
              0,
              "#0d0887"
             ],
             [
              0.1111111111111111,
              "#46039f"
             ],
             [
              0.2222222222222222,
              "#7201a8"
             ],
             [
              0.3333333333333333,
              "#9c179e"
             ],
             [
              0.4444444444444444,
              "#bd3786"
             ],
             [
              0.5555555555555556,
              "#d8576b"
             ],
             [
              0.6666666666666666,
              "#ed7953"
             ],
             [
              0.7777777777777778,
              "#fb9f3a"
             ],
             [
              0.8888888888888888,
              "#fdca26"
             ],
             [
              1,
              "#f0f921"
             ]
            ],
            "type": "heatmap"
           }
          ],
          "heatmapgl": [
           {
            "colorbar": {
             "outlinewidth": 0,
             "ticks": ""
            },
            "colorscale": [
             [
              0,
              "#0d0887"
             ],
             [
              0.1111111111111111,
              "#46039f"
             ],
             [
              0.2222222222222222,
              "#7201a8"
             ],
             [
              0.3333333333333333,
              "#9c179e"
             ],
             [
              0.4444444444444444,
              "#bd3786"
             ],
             [
              0.5555555555555556,
              "#d8576b"
             ],
             [
              0.6666666666666666,
              "#ed7953"
             ],
             [
              0.7777777777777778,
              "#fb9f3a"
             ],
             [
              0.8888888888888888,
              "#fdca26"
             ],
             [
              1,
              "#f0f921"
             ]
            ],
            "type": "heatmapgl"
           }
          ],
          "histogram": [
           {
            "marker": {
             "pattern": {
              "fillmode": "overlay",
              "size": 10,
              "solidity": 0.2
             }
            },
            "type": "histogram"
           }
          ],
          "histogram2d": [
           {
            "colorbar": {
             "outlinewidth": 0,
             "ticks": ""
            },
            "colorscale": [
             [
              0,
              "#0d0887"
             ],
             [
              0.1111111111111111,
              "#46039f"
             ],
             [
              0.2222222222222222,
              "#7201a8"
             ],
             [
              0.3333333333333333,
              "#9c179e"
             ],
             [
              0.4444444444444444,
              "#bd3786"
             ],
             [
              0.5555555555555556,
              "#d8576b"
             ],
             [
              0.6666666666666666,
              "#ed7953"
             ],
             [
              0.7777777777777778,
              "#fb9f3a"
             ],
             [
              0.8888888888888888,
              "#fdca26"
             ],
             [
              1,
              "#f0f921"
             ]
            ],
            "type": "histogram2d"
           }
          ],
          "histogram2dcontour": [
           {
            "colorbar": {
             "outlinewidth": 0,
             "ticks": ""
            },
            "colorscale": [
             [
              0,
              "#0d0887"
             ],
             [
              0.1111111111111111,
              "#46039f"
             ],
             [
              0.2222222222222222,
              "#7201a8"
             ],
             [
              0.3333333333333333,
              "#9c179e"
             ],
             [
              0.4444444444444444,
              "#bd3786"
             ],
             [
              0.5555555555555556,
              "#d8576b"
             ],
             [
              0.6666666666666666,
              "#ed7953"
             ],
             [
              0.7777777777777778,
              "#fb9f3a"
             ],
             [
              0.8888888888888888,
              "#fdca26"
             ],
             [
              1,
              "#f0f921"
             ]
            ],
            "type": "histogram2dcontour"
           }
          ],
          "mesh3d": [
           {
            "colorbar": {
             "outlinewidth": 0,
             "ticks": ""
            },
            "type": "mesh3d"
           }
          ],
          "parcoords": [
           {
            "line": {
             "colorbar": {
              "outlinewidth": 0,
              "ticks": ""
             }
            },
            "type": "parcoords"
           }
          ],
          "pie": [
           {
            "automargin": true,
            "type": "pie"
           }
          ],
          "scatter": [
           {
            "marker": {
             "line": {
              "color": "#283442"
             }
            },
            "type": "scatter"
           }
          ],
          "scatter3d": [
           {
            "line": {
             "colorbar": {
              "outlinewidth": 0,
              "ticks": ""
             }
            },
            "marker": {
             "colorbar": {
              "outlinewidth": 0,
              "ticks": ""
             }
            },
            "type": "scatter3d"
           }
          ],
          "scattercarpet": [
           {
            "marker": {
             "colorbar": {
              "outlinewidth": 0,
              "ticks": ""
             }
            },
            "type": "scattercarpet"
           }
          ],
          "scattergeo": [
           {
            "marker": {
             "colorbar": {
              "outlinewidth": 0,
              "ticks": ""
             }
            },
            "type": "scattergeo"
           }
          ],
          "scattergl": [
           {
            "marker": {
             "line": {
              "color": "#283442"
             }
            },
            "type": "scattergl"
           }
          ],
          "scattermapbox": [
           {
            "marker": {
             "colorbar": {
              "outlinewidth": 0,
              "ticks": ""
             }
            },
            "type": "scattermapbox"
           }
          ],
          "scatterpolar": [
           {
            "marker": {
             "colorbar": {
              "outlinewidth": 0,
              "ticks": ""
             }
            },
            "type": "scatterpolar"
           }
          ],
          "scatterpolargl": [
           {
            "marker": {
             "colorbar": {
              "outlinewidth": 0,
              "ticks": ""
             }
            },
            "type": "scatterpolargl"
           }
          ],
          "scatterternary": [
           {
            "marker": {
             "colorbar": {
              "outlinewidth": 0,
              "ticks": ""
             }
            },
            "type": "scatterternary"
           }
          ],
          "surface": [
           {
            "colorbar": {
             "outlinewidth": 0,
             "ticks": ""
            },
            "colorscale": [
             [
              0,
              "#0d0887"
             ],
             [
              0.1111111111111111,
              "#46039f"
             ],
             [
              0.2222222222222222,
              "#7201a8"
             ],
             [
              0.3333333333333333,
              "#9c179e"
             ],
             [
              0.4444444444444444,
              "#bd3786"
             ],
             [
              0.5555555555555556,
              "#d8576b"
             ],
             [
              0.6666666666666666,
              "#ed7953"
             ],
             [
              0.7777777777777778,
              "#fb9f3a"
             ],
             [
              0.8888888888888888,
              "#fdca26"
             ],
             [
              1,
              "#f0f921"
             ]
            ],
            "type": "surface"
           }
          ],
          "table": [
           {
            "cells": {
             "fill": {
              "color": "#506784"
             },
             "line": {
              "color": "rgb(17,17,17)"
             }
            },
            "header": {
             "fill": {
              "color": "#2a3f5f"
             },
             "line": {
              "color": "rgb(17,17,17)"
             }
            },
            "type": "table"
           }
          ]
         },
         "layout": {
          "annotationdefaults": {
           "arrowcolor": "#f2f5fa",
           "arrowhead": 0,
           "arrowwidth": 1
          },
          "autotypenumbers": "strict",
          "coloraxis": {
           "colorbar": {
            "outlinewidth": 0,
            "ticks": ""
           }
          },
          "colorscale": {
           "diverging": [
            [
             0,
             "#8e0152"
            ],
            [
             0.1,
             "#c51b7d"
            ],
            [
             0.2,
             "#de77ae"
            ],
            [
             0.3,
             "#f1b6da"
            ],
            [
             0.4,
             "#fde0ef"
            ],
            [
             0.5,
             "#f7f7f7"
            ],
            [
             0.6,
             "#e6f5d0"
            ],
            [
             0.7,
             "#b8e186"
            ],
            [
             0.8,
             "#7fbc41"
            ],
            [
             0.9,
             "#4d9221"
            ],
            [
             1,
             "#276419"
            ]
           ],
           "sequential": [
            [
             0,
             "#0d0887"
            ],
            [
             0.1111111111111111,
             "#46039f"
            ],
            [
             0.2222222222222222,
             "#7201a8"
            ],
            [
             0.3333333333333333,
             "#9c179e"
            ],
            [
             0.4444444444444444,
             "#bd3786"
            ],
            [
             0.5555555555555556,
             "#d8576b"
            ],
            [
             0.6666666666666666,
             "#ed7953"
            ],
            [
             0.7777777777777778,
             "#fb9f3a"
            ],
            [
             0.8888888888888888,
             "#fdca26"
            ],
            [
             1,
             "#f0f921"
            ]
           ],
           "sequentialminus": [
            [
             0,
             "#0d0887"
            ],
            [
             0.1111111111111111,
             "#46039f"
            ],
            [
             0.2222222222222222,
             "#7201a8"
            ],
            [
             0.3333333333333333,
             "#9c179e"
            ],
            [
             0.4444444444444444,
             "#bd3786"
            ],
            [
             0.5555555555555556,
             "#d8576b"
            ],
            [
             0.6666666666666666,
             "#ed7953"
            ],
            [
             0.7777777777777778,
             "#fb9f3a"
            ],
            [
             0.8888888888888888,
             "#fdca26"
            ],
            [
             1,
             "#f0f921"
            ]
           ]
          },
          "colorway": [
           "#636efa",
           "#EF553B",
           "#00cc96",
           "#ab63fa",
           "#FFA15A",
           "#19d3f3",
           "#FF6692",
           "#B6E880",
           "#FF97FF",
           "#FECB52"
          ],
          "font": {
           "color": "#f2f5fa"
          },
          "geo": {
           "bgcolor": "rgb(17,17,17)",
           "lakecolor": "rgb(17,17,17)",
           "landcolor": "rgb(17,17,17)",
           "showlakes": true,
           "showland": true,
           "subunitcolor": "#506784"
          },
          "hoverlabel": {
           "align": "left"
          },
          "hovermode": "closest",
          "mapbox": {
           "style": "dark"
          },
          "paper_bgcolor": "rgb(17,17,17)",
          "plot_bgcolor": "rgb(17,17,17)",
          "polar": {
           "angularaxis": {
            "gridcolor": "#506784",
            "linecolor": "#506784",
            "ticks": ""
           },
           "bgcolor": "rgb(17,17,17)",
           "radialaxis": {
            "gridcolor": "#506784",
            "linecolor": "#506784",
            "ticks": ""
           }
          },
          "scene": {
           "xaxis": {
            "backgroundcolor": "rgb(17,17,17)",
            "gridcolor": "#506784",
            "gridwidth": 2,
            "linecolor": "#506784",
            "showbackground": true,
            "ticks": "",
            "zerolinecolor": "#C8D4E3"
           },
           "yaxis": {
            "backgroundcolor": "rgb(17,17,17)",
            "gridcolor": "#506784",
            "gridwidth": 2,
            "linecolor": "#506784",
            "showbackground": true,
            "ticks": "",
            "zerolinecolor": "#C8D4E3"
           },
           "zaxis": {
            "backgroundcolor": "rgb(17,17,17)",
            "gridcolor": "#506784",
            "gridwidth": 2,
            "linecolor": "#506784",
            "showbackground": true,
            "ticks": "",
            "zerolinecolor": "#C8D4E3"
           }
          },
          "shapedefaults": {
           "line": {
            "color": "#f2f5fa"
           }
          },
          "sliderdefaults": {
           "bgcolor": "#C8D4E3",
           "bordercolor": "rgb(17,17,17)",
           "borderwidth": 1,
           "tickwidth": 0
          },
          "ternary": {
           "aaxis": {
            "gridcolor": "#506784",
            "linecolor": "#506784",
            "ticks": ""
           },
           "baxis": {
            "gridcolor": "#506784",
            "linecolor": "#506784",
            "ticks": ""
           },
           "bgcolor": "rgb(17,17,17)",
           "caxis": {
            "gridcolor": "#506784",
            "linecolor": "#506784",
            "ticks": ""
           }
          },
          "title": {
           "x": 0.05
          },
          "updatemenudefaults": {
           "bgcolor": "#506784",
           "borderwidth": 0
          },
          "xaxis": {
           "automargin": true,
           "gridcolor": "#283442",
           "linecolor": "#506784",
           "ticks": "",
           "title": {
            "standoff": 15
           },
           "zerolinecolor": "#283442",
           "zerolinewidth": 2
          },
          "yaxis": {
           "automargin": true,
           "gridcolor": "#283442",
           "linecolor": "#506784",
           "ticks": "",
           "title": {
            "standoff": 15
           },
           "zerolinecolor": "#283442",
           "zerolinewidth": 2
          }
         }
        },
        "xaxis": {
         "anchor": "y",
         "domain": [
          0,
          1
         ],
         "title": {
          "text": "Month"
         }
        },
        "yaxis": {
         "anchor": "x",
         "domain": [
          0,
          1
         ],
         "title": {
          "text": "value"
         }
        }
       }
      }
     },
     "metadata": {},
     "output_type": "display_data"
    }
   ],
   "source": [
    "import plotly.express as px\n",
    "fig = px.line(data, x=\"Month\", y=[\"#Passengers\", \"MA12\"], template = 'plotly_dark')\n",
    "fig.show()"
   ]
  },
  {
   "cell_type": "code",
   "execution_count": 61,
   "metadata": {},
   "outputs": [],
   "source": [
    "data['Mes'] = [i.month for i in data['Month']]\n",
    "data['Year'] = [i.year for i in data['Month']]"
   ]
  },
  {
   "cell_type": "code",
   "execution_count": 62,
   "metadata": {},
   "outputs": [],
   "source": [
    "data['Series'] = np.arange(1,len(data)+1)"
   ]
  },
  {
   "cell_type": "code",
   "execution_count": 63,
   "metadata": {},
   "outputs": [],
   "source": [
    "data.drop(['Month', 'MA12'], axis=1, inplace=True)\n",
    "data = data[['Series', 'Year', 'Mes', '#Passengers']]"
   ]
  },
  {
   "cell_type": "code",
   "execution_count": 64,
   "metadata": {},
   "outputs": [
    {
     "name": "stdout",
     "output_type": "stream",
     "text": [
      "El EStadistico D-Fuller es: 0.8153688792060352\n",
      "El p-valor es de: 0.9918802434376408\n"
     ]
    }
   ],
   "source": [
    "D_fuller = adfuller(data['#Passengers'],autolag='AIC')\n",
    "print(f'El EStadistico D-Fuller es: {D_fuller[0]}')\n",
    "print(f'El p-valor es de: {D_fuller[1]}')"
   ]
  },
  {
   "cell_type": "code",
   "execution_count": 65,
   "metadata": {},
   "outputs": [
    {
     "data": {
      "text/html": [
       "<div>\n",
       "<style scoped>\n",
       "    .dataframe tbody tr th:only-of-type {\n",
       "        vertical-align: middle;\n",
       "    }\n",
       "\n",
       "    .dataframe tbody tr th {\n",
       "        vertical-align: top;\n",
       "    }\n",
       "\n",
       "    .dataframe thead th {\n",
       "        text-align: right;\n",
       "    }\n",
       "</style>\n",
       "<table border=\"1\" class=\"dataframe\">\n",
       "  <thead>\n",
       "    <tr style=\"text-align: right;\">\n",
       "      <th></th>\n",
       "      <th>Series</th>\n",
       "      <th>Year</th>\n",
       "      <th>Mes</th>\n",
       "      <th>#Passengers</th>\n",
       "    </tr>\n",
       "  </thead>\n",
       "  <tbody>\n",
       "    <tr>\n",
       "      <th>0</th>\n",
       "      <td>1</td>\n",
       "      <td>1949</td>\n",
       "      <td>1</td>\n",
       "      <td>112</td>\n",
       "    </tr>\n",
       "    <tr>\n",
       "      <th>1</th>\n",
       "      <td>2</td>\n",
       "      <td>1949</td>\n",
       "      <td>2</td>\n",
       "      <td>118</td>\n",
       "    </tr>\n",
       "    <tr>\n",
       "      <th>2</th>\n",
       "      <td>3</td>\n",
       "      <td>1949</td>\n",
       "      <td>3</td>\n",
       "      <td>132</td>\n",
       "    </tr>\n",
       "    <tr>\n",
       "      <th>3</th>\n",
       "      <td>4</td>\n",
       "      <td>1949</td>\n",
       "      <td>4</td>\n",
       "      <td>129</td>\n",
       "    </tr>\n",
       "    <tr>\n",
       "      <th>4</th>\n",
       "      <td>5</td>\n",
       "      <td>1949</td>\n",
       "      <td>5</td>\n",
       "      <td>121</td>\n",
       "    </tr>\n",
       "    <tr>\n",
       "      <th>...</th>\n",
       "      <td>...</td>\n",
       "      <td>...</td>\n",
       "      <td>...</td>\n",
       "      <td>...</td>\n",
       "    </tr>\n",
       "    <tr>\n",
       "      <th>139</th>\n",
       "      <td>140</td>\n",
       "      <td>1960</td>\n",
       "      <td>8</td>\n",
       "      <td>606</td>\n",
       "    </tr>\n",
       "    <tr>\n",
       "      <th>140</th>\n",
       "      <td>141</td>\n",
       "      <td>1960</td>\n",
       "      <td>9</td>\n",
       "      <td>508</td>\n",
       "    </tr>\n",
       "    <tr>\n",
       "      <th>141</th>\n",
       "      <td>142</td>\n",
       "      <td>1960</td>\n",
       "      <td>10</td>\n",
       "      <td>461</td>\n",
       "    </tr>\n",
       "    <tr>\n",
       "      <th>142</th>\n",
       "      <td>143</td>\n",
       "      <td>1960</td>\n",
       "      <td>11</td>\n",
       "      <td>390</td>\n",
       "    </tr>\n",
       "    <tr>\n",
       "      <th>143</th>\n",
       "      <td>144</td>\n",
       "      <td>1960</td>\n",
       "      <td>12</td>\n",
       "      <td>432</td>\n",
       "    </tr>\n",
       "  </tbody>\n",
       "</table>\n",
       "<p>144 rows × 4 columns</p>\n",
       "</div>"
      ],
      "text/plain": [
       "     Series  Year  Mes  #Passengers\n",
       "0         1  1949    1          112\n",
       "1         2  1949    2          118\n",
       "2         3  1949    3          132\n",
       "3         4  1949    4          129\n",
       "4         5  1949    5          121\n",
       "..      ...   ...  ...          ...\n",
       "139     140  1960    8          606\n",
       "140     141  1960    9          508\n",
       "141     142  1960   10          461\n",
       "142     143  1960   11          390\n",
       "143     144  1960   12          432\n",
       "\n",
       "[144 rows x 4 columns]"
      ]
     },
     "execution_count": 65,
     "metadata": {},
     "output_type": "execute_result"
    }
   ],
   "source": [
    "data"
   ]
  },
  {
   "cell_type": "code",
   "execution_count": 66,
   "metadata": {},
   "outputs": [
    {
     "name": "stdout",
     "output_type": "stream",
     "text": [
      "(132, 4)\n",
      "(12, 4)\n"
     ]
    }
   ],
   "source": [
    "train = data[data['Year'] < 1960]\n",
    "test = data[data['Year'] >= 1960]\n",
    "print(train.shape)\n",
    "print(test.shape)"
   ]
  },
  {
   "cell_type": "code",
   "execution_count": 67,
   "metadata": {},
   "outputs": [
    {
     "data": {
      "text/html": [
       "<style type=\"text/css\">\n",
       "#T_59a35_row8_col1, #T_59a35_row12_col1 {\n",
       "  background-color: lightgreen;\n",
       "}\n",
       "</style>\n",
       "<table id=\"T_59a35\">\n",
       "  <thead>\n",
       "    <tr>\n",
       "      <th class=\"blank level0\" >&nbsp;</th>\n",
       "      <th id=\"T_59a35_level0_col0\" class=\"col_heading level0 col0\" >Description</th>\n",
       "      <th id=\"T_59a35_level0_col1\" class=\"col_heading level0 col1\" >Value</th>\n",
       "    </tr>\n",
       "  </thead>\n",
       "  <tbody>\n",
       "    <tr>\n",
       "      <th id=\"T_59a35_level0_row0\" class=\"row_heading level0 row0\" >0</th>\n",
       "      <td id=\"T_59a35_row0_col0\" class=\"data row0 col0\" >Session id</td>\n",
       "      <td id=\"T_59a35_row0_col1\" class=\"data row0 col1\" >123</td>\n",
       "    </tr>\n",
       "    <tr>\n",
       "      <th id=\"T_59a35_level0_row1\" class=\"row_heading level0 row1\" >1</th>\n",
       "      <td id=\"T_59a35_row1_col0\" class=\"data row1 col0\" >Target</td>\n",
       "      <td id=\"T_59a35_row1_col1\" class=\"data row1 col1\" >#Passengers</td>\n",
       "    </tr>\n",
       "    <tr>\n",
       "      <th id=\"T_59a35_level0_row2\" class=\"row_heading level0 row2\" >2</th>\n",
       "      <td id=\"T_59a35_row2_col0\" class=\"data row2 col0\" >Target type</td>\n",
       "      <td id=\"T_59a35_row2_col1\" class=\"data row2 col1\" >Regression</td>\n",
       "    </tr>\n",
       "    <tr>\n",
       "      <th id=\"T_59a35_level0_row3\" class=\"row_heading level0 row3\" >3</th>\n",
       "      <td id=\"T_59a35_row3_col0\" class=\"data row3 col0\" >Original data shape</td>\n",
       "      <td id=\"T_59a35_row3_col1\" class=\"data row3 col1\" >(144, 4)</td>\n",
       "    </tr>\n",
       "    <tr>\n",
       "      <th id=\"T_59a35_level0_row4\" class=\"row_heading level0 row4\" >4</th>\n",
       "      <td id=\"T_59a35_row4_col0\" class=\"data row4 col0\" >Transformed data shape</td>\n",
       "      <td id=\"T_59a35_row4_col1\" class=\"data row4 col1\" >(144, 4)</td>\n",
       "    </tr>\n",
       "    <tr>\n",
       "      <th id=\"T_59a35_level0_row5\" class=\"row_heading level0 row5\" >5</th>\n",
       "      <td id=\"T_59a35_row5_col0\" class=\"data row5 col0\" >Transformed train set shape</td>\n",
       "      <td id=\"T_59a35_row5_col1\" class=\"data row5 col1\" >(132, 4)</td>\n",
       "    </tr>\n",
       "    <tr>\n",
       "      <th id=\"T_59a35_level0_row6\" class=\"row_heading level0 row6\" >6</th>\n",
       "      <td id=\"T_59a35_row6_col0\" class=\"data row6 col0\" >Transformed test set shape</td>\n",
       "      <td id=\"T_59a35_row6_col1\" class=\"data row6 col1\" >(12, 4)</td>\n",
       "    </tr>\n",
       "    <tr>\n",
       "      <th id=\"T_59a35_level0_row7\" class=\"row_heading level0 row7\" >7</th>\n",
       "      <td id=\"T_59a35_row7_col0\" class=\"data row7 col0\" >Numeric features</td>\n",
       "      <td id=\"T_59a35_row7_col1\" class=\"data row7 col1\" >2</td>\n",
       "    </tr>\n",
       "    <tr>\n",
       "      <th id=\"T_59a35_level0_row8\" class=\"row_heading level0 row8\" >8</th>\n",
       "      <td id=\"T_59a35_row8_col0\" class=\"data row8 col0\" >Preprocess</td>\n",
       "      <td id=\"T_59a35_row8_col1\" class=\"data row8 col1\" >True</td>\n",
       "    </tr>\n",
       "    <tr>\n",
       "      <th id=\"T_59a35_level0_row9\" class=\"row_heading level0 row9\" >9</th>\n",
       "      <td id=\"T_59a35_row9_col0\" class=\"data row9 col0\" >Imputation type</td>\n",
       "      <td id=\"T_59a35_row9_col1\" class=\"data row9 col1\" >simple</td>\n",
       "    </tr>\n",
       "    <tr>\n",
       "      <th id=\"T_59a35_level0_row10\" class=\"row_heading level0 row10\" >10</th>\n",
       "      <td id=\"T_59a35_row10_col0\" class=\"data row10 col0\" >Numeric imputation</td>\n",
       "      <td id=\"T_59a35_row10_col1\" class=\"data row10 col1\" >mean</td>\n",
       "    </tr>\n",
       "    <tr>\n",
       "      <th id=\"T_59a35_level0_row11\" class=\"row_heading level0 row11\" >11</th>\n",
       "      <td id=\"T_59a35_row11_col0\" class=\"data row11 col0\" >Categorical imputation</td>\n",
       "      <td id=\"T_59a35_row11_col1\" class=\"data row11 col1\" >mode</td>\n",
       "    </tr>\n",
       "    <tr>\n",
       "      <th id=\"T_59a35_level0_row12\" class=\"row_heading level0 row12\" >12</th>\n",
       "      <td id=\"T_59a35_row12_col0\" class=\"data row12 col0\" >Transform target</td>\n",
       "      <td id=\"T_59a35_row12_col1\" class=\"data row12 col1\" >True</td>\n",
       "    </tr>\n",
       "    <tr>\n",
       "      <th id=\"T_59a35_level0_row13\" class=\"row_heading level0 row13\" >13</th>\n",
       "      <td id=\"T_59a35_row13_col0\" class=\"data row13 col0\" >Transform target method</td>\n",
       "      <td id=\"T_59a35_row13_col1\" class=\"data row13 col1\" >yeo-johnson</td>\n",
       "    </tr>\n",
       "    <tr>\n",
       "      <th id=\"T_59a35_level0_row14\" class=\"row_heading level0 row14\" >14</th>\n",
       "      <td id=\"T_59a35_row14_col0\" class=\"data row14 col0\" >Fold Generator</td>\n",
       "      <td id=\"T_59a35_row14_col1\" class=\"data row14 col1\" >TimeSeriesSplit</td>\n",
       "    </tr>\n",
       "    <tr>\n",
       "      <th id=\"T_59a35_level0_row15\" class=\"row_heading level0 row15\" >15</th>\n",
       "      <td id=\"T_59a35_row15_col0\" class=\"data row15 col0\" >Fold Number</td>\n",
       "      <td id=\"T_59a35_row15_col1\" class=\"data row15 col1\" >3</td>\n",
       "    </tr>\n",
       "    <tr>\n",
       "      <th id=\"T_59a35_level0_row16\" class=\"row_heading level0 row16\" >16</th>\n",
       "      <td id=\"T_59a35_row16_col0\" class=\"data row16 col0\" >CPU Jobs</td>\n",
       "      <td id=\"T_59a35_row16_col1\" class=\"data row16 col1\" >-1</td>\n",
       "    </tr>\n",
       "    <tr>\n",
       "      <th id=\"T_59a35_level0_row17\" class=\"row_heading level0 row17\" >17</th>\n",
       "      <td id=\"T_59a35_row17_col0\" class=\"data row17 col0\" >Use GPU</td>\n",
       "      <td id=\"T_59a35_row17_col1\" class=\"data row17 col1\" >False</td>\n",
       "    </tr>\n",
       "    <tr>\n",
       "      <th id=\"T_59a35_level0_row18\" class=\"row_heading level0 row18\" >18</th>\n",
       "      <td id=\"T_59a35_row18_col0\" class=\"data row18 col0\" >Log Experiment</td>\n",
       "      <td id=\"T_59a35_row18_col1\" class=\"data row18 col1\" >False</td>\n",
       "    </tr>\n",
       "    <tr>\n",
       "      <th id=\"T_59a35_level0_row19\" class=\"row_heading level0 row19\" >19</th>\n",
       "      <td id=\"T_59a35_row19_col0\" class=\"data row19 col0\" >Experiment Name</td>\n",
       "      <td id=\"T_59a35_row19_col1\" class=\"data row19 col1\" >reg-default-name</td>\n",
       "    </tr>\n",
       "    <tr>\n",
       "      <th id=\"T_59a35_level0_row20\" class=\"row_heading level0 row20\" >20</th>\n",
       "      <td id=\"T_59a35_row20_col0\" class=\"data row20 col0\" >USI</td>\n",
       "      <td id=\"T_59a35_row20_col1\" class=\"data row20 col1\" >d478</td>\n",
       "    </tr>\n",
       "  </tbody>\n",
       "</table>\n"
      ],
      "text/plain": [
       "<pandas.io.formats.style.Styler at 0x2045fbf7910>"
      ]
     },
     "metadata": {},
     "output_type": "display_data"
    }
   ],
   "source": [
    "s = setup(data = train, test_data = test, target = '#Passengers', fold_strategy = 'timeseries', \n",
    "          numeric_features = ['Year', 'Series'], fold = 3, transform_target = True, session_id = 123,\n",
    "          data_split_shuffle=False,fold_shuffle=False)"
   ]
  },
  {
   "cell_type": "code",
   "execution_count": 68,
   "metadata": {},
   "outputs": [
    {
     "data": {
      "text/html": [],
      "text/plain": [
       "<IPython.core.display.HTML object>"
      ]
     },
     "metadata": {},
     "output_type": "display_data"
    },
    {
     "data": {
      "text/html": [
       "<style type=\"text/css\">\n",
       "#T_338bc th {\n",
       "  text-align: left;\n",
       "}\n",
       "#T_338bc_row0_col0, #T_338bc_row1_col0, #T_338bc_row1_col1, #T_338bc_row1_col2, #T_338bc_row1_col3, #T_338bc_row1_col4, #T_338bc_row1_col5, #T_338bc_row1_col6, #T_338bc_row2_col0, #T_338bc_row2_col1, #T_338bc_row2_col2, #T_338bc_row2_col3, #T_338bc_row2_col4, #T_338bc_row2_col5, #T_338bc_row2_col6, #T_338bc_row3_col0, #T_338bc_row3_col1, #T_338bc_row3_col2, #T_338bc_row3_col3, #T_338bc_row3_col4, #T_338bc_row3_col5, #T_338bc_row3_col6, #T_338bc_row4_col0, #T_338bc_row4_col1, #T_338bc_row4_col2, #T_338bc_row4_col3, #T_338bc_row4_col4, #T_338bc_row4_col5, #T_338bc_row4_col6, #T_338bc_row5_col0, #T_338bc_row5_col1, #T_338bc_row5_col2, #T_338bc_row5_col3, #T_338bc_row5_col4, #T_338bc_row5_col5, #T_338bc_row5_col6, #T_338bc_row6_col0, #T_338bc_row6_col1, #T_338bc_row6_col2, #T_338bc_row6_col3, #T_338bc_row6_col4, #T_338bc_row6_col5, #T_338bc_row6_col6, #T_338bc_row7_col0, #T_338bc_row7_col1, #T_338bc_row7_col2, #T_338bc_row7_col3, #T_338bc_row7_col4, #T_338bc_row7_col5, #T_338bc_row7_col6, #T_338bc_row8_col0, #T_338bc_row8_col1, #T_338bc_row8_col2, #T_338bc_row8_col3, #T_338bc_row8_col4, #T_338bc_row8_col5, #T_338bc_row8_col6, #T_338bc_row9_col0, #T_338bc_row9_col1, #T_338bc_row9_col2, #T_338bc_row9_col3, #T_338bc_row9_col4, #T_338bc_row9_col5, #T_338bc_row9_col6, #T_338bc_row10_col0, #T_338bc_row10_col1, #T_338bc_row10_col2, #T_338bc_row10_col3, #T_338bc_row10_col4, #T_338bc_row10_col5, #T_338bc_row10_col6, #T_338bc_row11_col0, #T_338bc_row11_col1, #T_338bc_row11_col2, #T_338bc_row11_col3, #T_338bc_row11_col4, #T_338bc_row11_col5, #T_338bc_row11_col6, #T_338bc_row12_col0, #T_338bc_row12_col1, #T_338bc_row12_col2, #T_338bc_row12_col3, #T_338bc_row12_col4, #T_338bc_row12_col5, #T_338bc_row12_col6, #T_338bc_row13_col0, #T_338bc_row13_col1, #T_338bc_row13_col2, #T_338bc_row13_col3, #T_338bc_row13_col4, #T_338bc_row13_col5, #T_338bc_row13_col6, #T_338bc_row14_col0, #T_338bc_row14_col1, #T_338bc_row14_col2, #T_338bc_row14_col3, #T_338bc_row14_col4, #T_338bc_row14_col5, #T_338bc_row14_col6, #T_338bc_row15_col0, #T_338bc_row15_col1, #T_338bc_row15_col2, #T_338bc_row15_col3, #T_338bc_row15_col4, #T_338bc_row15_col5, #T_338bc_row15_col6, #T_338bc_row16_col0, #T_338bc_row16_col1, #T_338bc_row16_col2, #T_338bc_row16_col3, #T_338bc_row16_col4, #T_338bc_row16_col5, #T_338bc_row16_col6, #T_338bc_row17_col0, #T_338bc_row17_col1, #T_338bc_row17_col2, #T_338bc_row17_col3, #T_338bc_row17_col4, #T_338bc_row17_col5, #T_338bc_row17_col6 {\n",
       "  text-align: left;\n",
       "}\n",
       "#T_338bc_row0_col1, #T_338bc_row0_col2, #T_338bc_row0_col3, #T_338bc_row0_col4, #T_338bc_row0_col5, #T_338bc_row0_col6 {\n",
       "  text-align: left;\n",
       "  background-color: yellow;\n",
       "}\n",
       "#T_338bc_row0_col7, #T_338bc_row1_col7, #T_338bc_row2_col7, #T_338bc_row4_col7, #T_338bc_row5_col7, #T_338bc_row6_col7, #T_338bc_row7_col7, #T_338bc_row8_col7, #T_338bc_row9_col7, #T_338bc_row10_col7, #T_338bc_row11_col7, #T_338bc_row12_col7, #T_338bc_row13_col7, #T_338bc_row14_col7, #T_338bc_row15_col7, #T_338bc_row16_col7 {\n",
       "  text-align: left;\n",
       "  background-color: lightgrey;\n",
       "}\n",
       "#T_338bc_row3_col7, #T_338bc_row17_col7 {\n",
       "  text-align: left;\n",
       "  background-color: yellow;\n",
       "  background-color: lightgrey;\n",
       "}\n",
       "</style>\n",
       "<table id=\"T_338bc\">\n",
       "  <thead>\n",
       "    <tr>\n",
       "      <th class=\"blank level0\" >&nbsp;</th>\n",
       "      <th id=\"T_338bc_level0_col0\" class=\"col_heading level0 col0\" >Model</th>\n",
       "      <th id=\"T_338bc_level0_col1\" class=\"col_heading level0 col1\" >MAE</th>\n",
       "      <th id=\"T_338bc_level0_col2\" class=\"col_heading level0 col2\" >MSE</th>\n",
       "      <th id=\"T_338bc_level0_col3\" class=\"col_heading level0 col3\" >RMSE</th>\n",
       "      <th id=\"T_338bc_level0_col4\" class=\"col_heading level0 col4\" >R2</th>\n",
       "      <th id=\"T_338bc_level0_col5\" class=\"col_heading level0 col5\" >RMSLE</th>\n",
       "      <th id=\"T_338bc_level0_col6\" class=\"col_heading level0 col6\" >MAPE</th>\n",
       "      <th id=\"T_338bc_level0_col7\" class=\"col_heading level0 col7\" >TT (Sec)</th>\n",
       "    </tr>\n",
       "  </thead>\n",
       "  <tbody>\n",
       "    <tr>\n",
       "      <th id=\"T_338bc_level0_row0\" class=\"row_heading level0 row0\" >omp</th>\n",
       "      <td id=\"T_338bc_row0_col0\" class=\"data row0 col0\" >Orthogonal Matching Pursuit</td>\n",
       "      <td id=\"T_338bc_row0_col1\" class=\"data row0 col1\" >44.3192</td>\n",
       "      <td id=\"T_338bc_row0_col2\" class=\"data row0 col2\" >3050.6952</td>\n",
       "      <td id=\"T_338bc_row0_col3\" class=\"data row0 col3\" >53.8852</td>\n",
       "      <td id=\"T_338bc_row0_col4\" class=\"data row0 col4\" >-0.4522</td>\n",
       "      <td id=\"T_338bc_row0_col5\" class=\"data row0 col5\" >0.1714</td>\n",
       "      <td id=\"T_338bc_row0_col6\" class=\"data row0 col6\" >0.1521</td>\n",
       "      <td id=\"T_338bc_row0_col7\" class=\"data row0 col7\" >0.0133</td>\n",
       "    </tr>\n",
       "    <tr>\n",
       "      <th id=\"T_338bc_level0_row1\" class=\"row_heading level0 row1\" >br</th>\n",
       "      <td id=\"T_338bc_row1_col0\" class=\"data row1 col0\" >Bayesian Ridge</td>\n",
       "      <td id=\"T_338bc_row1_col1\" class=\"data row1 col1\" >45.5643</td>\n",
       "      <td id=\"T_338bc_row1_col2\" class=\"data row1 col2\" >3233.7133</td>\n",
       "      <td id=\"T_338bc_row1_col3\" class=\"data row1 col3\" >55.6766</td>\n",
       "      <td id=\"T_338bc_row1_col4\" class=\"data row1 col4\" >-0.6553</td>\n",
       "      <td id=\"T_338bc_row1_col5\" class=\"data row1 col5\" >0.1765</td>\n",
       "      <td id=\"T_338bc_row1_col6\" class=\"data row1 col6\" >0.1576</td>\n",
       "      <td id=\"T_338bc_row1_col7\" class=\"data row1 col7\" >0.0133</td>\n",
       "    </tr>\n",
       "    <tr>\n",
       "      <th id=\"T_338bc_level0_row2\" class=\"row_heading level0 row2\" >ridge</th>\n",
       "      <td id=\"T_338bc_row2_col0\" class=\"data row2 col0\" >Ridge Regression</td>\n",
       "      <td id=\"T_338bc_row2_col1\" class=\"data row2 col1\" >45.7835</td>\n",
       "      <td id=\"T_338bc_row2_col2\" class=\"data row2 col2\" >3257.2206</td>\n",
       "      <td id=\"T_338bc_row2_col3\" class=\"data row2 col3\" >55.8542</td>\n",
       "      <td id=\"T_338bc_row2_col4\" class=\"data row2 col4\" >-0.6687</td>\n",
       "      <td id=\"T_338bc_row2_col5\" class=\"data row2 col5\" >0.1770</td>\n",
       "      <td id=\"T_338bc_row2_col6\" class=\"data row2 col6\" >0.1585</td>\n",
       "      <td id=\"T_338bc_row2_col7\" class=\"data row2 col7\" >0.0133</td>\n",
       "    </tr>\n",
       "    <tr>\n",
       "      <th id=\"T_338bc_level0_row3\" class=\"row_heading level0 row3\" >lr</th>\n",
       "      <td id=\"T_338bc_row3_col0\" class=\"data row3 col0\" >Linear Regression</td>\n",
       "      <td id=\"T_338bc_row3_col1\" class=\"data row3 col1\" >45.7967</td>\n",
       "      <td id=\"T_338bc_row3_col2\" class=\"data row3 col2\" >3258.3784</td>\n",
       "      <td id=\"T_338bc_row3_col3\" class=\"data row3 col3\" >55.8611</td>\n",
       "      <td id=\"T_338bc_row3_col4\" class=\"data row3 col4\" >-0.6705</td>\n",
       "      <td id=\"T_338bc_row3_col5\" class=\"data row3 col5\" >0.1770</td>\n",
       "      <td id=\"T_338bc_row3_col6\" class=\"data row3 col6\" >0.1586</td>\n",
       "      <td id=\"T_338bc_row3_col7\" class=\"data row3 col7\" >0.0100</td>\n",
       "    </tr>\n",
       "    <tr>\n",
       "      <th id=\"T_338bc_level0_row4\" class=\"row_heading level0 row4\" >lar</th>\n",
       "      <td id=\"T_338bc_row4_col0\" class=\"data row4 col0\" >Least Angle Regression</td>\n",
       "      <td id=\"T_338bc_row4_col1\" class=\"data row4 col1\" >45.8053</td>\n",
       "      <td id=\"T_338bc_row4_col2\" class=\"data row4 col2\" >3260.6009</td>\n",
       "      <td id=\"T_338bc_row4_col3\" class=\"data row4 col3\" >55.8841</td>\n",
       "      <td id=\"T_338bc_row4_col4\" class=\"data row4 col4\" >-0.6721</td>\n",
       "      <td id=\"T_338bc_row4_col5\" class=\"data row4 col5\" >0.1771</td>\n",
       "      <td id=\"T_338bc_row4_col6\" class=\"data row4 col6\" >0.1586</td>\n",
       "      <td id=\"T_338bc_row4_col7\" class=\"data row4 col7\" >0.0133</td>\n",
       "    </tr>\n",
       "    <tr>\n",
       "      <th id=\"T_338bc_level0_row5\" class=\"row_heading level0 row5\" >huber</th>\n",
       "      <td id=\"T_338bc_row5_col0\" class=\"data row5 col0\" >Huber Regressor</td>\n",
       "      <td id=\"T_338bc_row5_col1\" class=\"data row5 col1\" >46.0420</td>\n",
       "      <td id=\"T_338bc_row5_col2\" class=\"data row5 col2\" >3308.9725</td>\n",
       "      <td id=\"T_338bc_row5_col3\" class=\"data row5 col3\" >56.4600</td>\n",
       "      <td id=\"T_338bc_row5_col4\" class=\"data row5 col4\" >-0.8186</td>\n",
       "      <td id=\"T_338bc_row5_col5\" class=\"data row5 col5\" >0.1802</td>\n",
       "      <td id=\"T_338bc_row5_col6\" class=\"data row5 col6\" >0.1618</td>\n",
       "      <td id=\"T_338bc_row5_col7\" class=\"data row5 col7\" >0.0167</td>\n",
       "    </tr>\n",
       "    <tr>\n",
       "      <th id=\"T_338bc_level0_row6\" class=\"row_heading level0 row6\" >lasso</th>\n",
       "      <td id=\"T_338bc_row6_col0\" class=\"data row6 col0\" >Lasso Regression</td>\n",
       "      <td id=\"T_338bc_row6_col1\" class=\"data row6 col1\" >51.7106</td>\n",
       "      <td id=\"T_338bc_row6_col2\" class=\"data row6 col2\" >3939.2790</td>\n",
       "      <td id=\"T_338bc_row6_col3\" class=\"data row6 col3\" >61.4955</td>\n",
       "      <td id=\"T_338bc_row6_col4\" class=\"data row6 col4\" >-1.4896</td>\n",
       "      <td id=\"T_338bc_row6_col5\" class=\"data row6 col5\" >0.2374</td>\n",
       "      <td id=\"T_338bc_row6_col6\" class=\"data row6 col6\" >0.1830</td>\n",
       "      <td id=\"T_338bc_row6_col7\" class=\"data row6 col7\" >0.0133</td>\n",
       "    </tr>\n",
       "    <tr>\n",
       "      <th id=\"T_338bc_level0_row7\" class=\"row_heading level0 row7\" >llar</th>\n",
       "      <td id=\"T_338bc_row7_col0\" class=\"data row7 col0\" >Lasso Least Angle Regression</td>\n",
       "      <td id=\"T_338bc_row7_col1\" class=\"data row7 col1\" >51.7106</td>\n",
       "      <td id=\"T_338bc_row7_col2\" class=\"data row7 col2\" >3939.2790</td>\n",
       "      <td id=\"T_338bc_row7_col3\" class=\"data row7 col3\" >61.4955</td>\n",
       "      <td id=\"T_338bc_row7_col4\" class=\"data row7 col4\" >-1.4896</td>\n",
       "      <td id=\"T_338bc_row7_col5\" class=\"data row7 col5\" >0.2374</td>\n",
       "      <td id=\"T_338bc_row7_col6\" class=\"data row7 col6\" >0.1830</td>\n",
       "      <td id=\"T_338bc_row7_col7\" class=\"data row7 col7\" >0.0133</td>\n",
       "    </tr>\n",
       "    <tr>\n",
       "      <th id=\"T_338bc_level0_row8\" class=\"row_heading level0 row8\" >gbr</th>\n",
       "      <td id=\"T_338bc_row8_col0\" class=\"data row8 col0\" >Gradient Boosting Regressor</td>\n",
       "      <td id=\"T_338bc_row8_col1\" class=\"data row8 col1\" >52.4896</td>\n",
       "      <td id=\"T_338bc_row8_col2\" class=\"data row8 col2\" >4355.4048</td>\n",
       "      <td id=\"T_338bc_row8_col3\" class=\"data row8 col3\" >63.7434</td>\n",
       "      <td id=\"T_338bc_row8_col4\" class=\"data row8 col4\" >-0.7220</td>\n",
       "      <td id=\"T_338bc_row8_col5\" class=\"data row8 col5\" >0.2142</td>\n",
       "      <td id=\"T_338bc_row8_col6\" class=\"data row8 col6\" >0.1618</td>\n",
       "      <td id=\"T_338bc_row8_col7\" class=\"data row8 col7\" >0.0233</td>\n",
       "    </tr>\n",
       "    <tr>\n",
       "      <th id=\"T_338bc_level0_row9\" class=\"row_heading level0 row9\" >en</th>\n",
       "      <td id=\"T_338bc_row9_col0\" class=\"data row9 col0\" >Elastic Net</td>\n",
       "      <td id=\"T_338bc_row9_col1\" class=\"data row9 col1\" >52.5924</td>\n",
       "      <td id=\"T_338bc_row9_col2\" class=\"data row9 col2\" >3937.1760</td>\n",
       "      <td id=\"T_338bc_row9_col3\" class=\"data row9 col3\" >61.2301</td>\n",
       "      <td id=\"T_338bc_row9_col4\" class=\"data row9 col4\" >-1.4778</td>\n",
       "      <td id=\"T_338bc_row9_col5\" class=\"data row9 col5\" >0.2367</td>\n",
       "      <td id=\"T_338bc_row9_col6\" class=\"data row9 col6\" >0.1870</td>\n",
       "      <td id=\"T_338bc_row9_col7\" class=\"data row9 col7\" >0.0133</td>\n",
       "    </tr>\n",
       "    <tr>\n",
       "      <th id=\"T_338bc_level0_row10\" class=\"row_heading level0 row10\" >et</th>\n",
       "      <td id=\"T_338bc_row10_col0\" class=\"data row10 col0\" >Extra Trees Regressor</td>\n",
       "      <td id=\"T_338bc_row10_col1\" class=\"data row10 col1\" >52.8906</td>\n",
       "      <td id=\"T_338bc_row10_col2\" class=\"data row10 col2\" >4660.9372</td>\n",
       "      <td id=\"T_338bc_row10_col3\" class=\"data row10 col3\" >65.7579</td>\n",
       "      <td id=\"T_338bc_row10_col4\" class=\"data row10 col4\" >-0.8155</td>\n",
       "      <td id=\"T_338bc_row10_col5\" class=\"data row10 col5\" >0.2177</td>\n",
       "      <td id=\"T_338bc_row10_col6\" class=\"data row10 col6\" >0.1626</td>\n",
       "      <td id=\"T_338bc_row10_col7\" class=\"data row10 col7\" >0.0467</td>\n",
       "    </tr>\n",
       "    <tr>\n",
       "      <th id=\"T_338bc_level0_row11\" class=\"row_heading level0 row11\" >rf</th>\n",
       "      <td id=\"T_338bc_row11_col0\" class=\"data row11 col0\" >Random Forest Regressor</td>\n",
       "      <td id=\"T_338bc_row11_col1\" class=\"data row11 col1\" >54.7045</td>\n",
       "      <td id=\"T_338bc_row11_col2\" class=\"data row11 col2\" >4795.4597</td>\n",
       "      <td id=\"T_338bc_row11_col3\" class=\"data row11 col3\" >66.2258</td>\n",
       "      <td id=\"T_338bc_row11_col4\" class=\"data row11 col4\" >-0.8494</td>\n",
       "      <td id=\"T_338bc_row11_col5\" class=\"data row11 col5\" >0.2208</td>\n",
       "      <td id=\"T_338bc_row11_col6\" class=\"data row11 col6\" >0.1676</td>\n",
       "      <td id=\"T_338bc_row11_col7\" class=\"data row11 col7\" >0.0533</td>\n",
       "    </tr>\n",
       "    <tr>\n",
       "      <th id=\"T_338bc_level0_row12\" class=\"row_heading level0 row12\" >dt</th>\n",
       "      <td id=\"T_338bc_row12_col0\" class=\"data row12 col0\" >Decision Tree Regressor</td>\n",
       "      <td id=\"T_338bc_row12_col1\" class=\"data row12 col1\" >55.1616</td>\n",
       "      <td id=\"T_338bc_row12_col2\" class=\"data row12 col2\" >4909.7071</td>\n",
       "      <td id=\"T_338bc_row12_col3\" class=\"data row12 col3\" >67.6420</td>\n",
       "      <td id=\"T_338bc_row12_col4\" class=\"data row12 col4\" >-0.9792</td>\n",
       "      <td id=\"T_338bc_row12_col5\" class=\"data row12 col5\" >0.2324</td>\n",
       "      <td id=\"T_338bc_row12_col6\" class=\"data row12 col6\" >0.1745</td>\n",
       "      <td id=\"T_338bc_row12_col7\" class=\"data row12 col7\" >0.0133</td>\n",
       "    </tr>\n",
       "    <tr>\n",
       "      <th id=\"T_338bc_level0_row13\" class=\"row_heading level0 row13\" >ada</th>\n",
       "      <td id=\"T_338bc_row13_col0\" class=\"data row13 col0\" >AdaBoost Regressor</td>\n",
       "      <td id=\"T_338bc_row13_col1\" class=\"data row13 col1\" >63.2695</td>\n",
       "      <td id=\"T_338bc_row13_col2\" class=\"data row13 col2\" >5882.1461</td>\n",
       "      <td id=\"T_338bc_row13_col3\" class=\"data row13 col3\" >74.5393</td>\n",
       "      <td id=\"T_338bc_row13_col4\" class=\"data row13 col4\" >-1.4005</td>\n",
       "      <td id=\"T_338bc_row13_col5\" class=\"data row13 col5\" >0.2608</td>\n",
       "      <td id=\"T_338bc_row13_col6\" class=\"data row13 col6\" >0.1999</td>\n",
       "      <td id=\"T_338bc_row13_col7\" class=\"data row13 col7\" >0.0333</td>\n",
       "    </tr>\n",
       "    <tr>\n",
       "      <th id=\"T_338bc_level0_row14\" class=\"row_heading level0 row14\" >knn</th>\n",
       "      <td id=\"T_338bc_row14_col0\" class=\"data row14 col0\" >K Neighbors Regressor</td>\n",
       "      <td id=\"T_338bc_row14_col1\" class=\"data row14 col1\" >63.9905</td>\n",
       "      <td id=\"T_338bc_row14_col2\" class=\"data row14 col2\" >7090.8256</td>\n",
       "      <td id=\"T_338bc_row14_col3\" class=\"data row14 col3\" >78.6650</td>\n",
       "      <td id=\"T_338bc_row14_col4\" class=\"data row14 col4\" >-1.4488</td>\n",
       "      <td id=\"T_338bc_row14_col5\" class=\"data row14 col5\" >0.2581</td>\n",
       "      <td id=\"T_338bc_row14_col6\" class=\"data row14 col6\" >0.1879</td>\n",
       "      <td id=\"T_338bc_row14_col7\" class=\"data row14 col7\" >0.0233</td>\n",
       "    </tr>\n",
       "    <tr>\n",
       "      <th id=\"T_338bc_level0_row15\" class=\"row_heading level0 row15\" >lightgbm</th>\n",
       "      <td id=\"T_338bc_row15_col0\" class=\"data row15 col0\" >Light Gradient Boosting Machine</td>\n",
       "      <td id=\"T_338bc_row15_col1\" class=\"data row15 col1\" >75.6311</td>\n",
       "      <td id=\"T_338bc_row15_col2\" class=\"data row15 col2\" >7274.8375</td>\n",
       "      <td id=\"T_338bc_row15_col3\" class=\"data row15 col3\" >85.0035</td>\n",
       "      <td id=\"T_338bc_row15_col4\" class=\"data row15 col4\" >-2.6040</td>\n",
       "      <td id=\"T_338bc_row15_col5\" class=\"data row15 col5\" >0.3238</td>\n",
       "      <td id=\"T_338bc_row15_col6\" class=\"data row15 col6\" >0.2503</td>\n",
       "      <td id=\"T_338bc_row15_col7\" class=\"data row15 col7\" >0.0333</td>\n",
       "    </tr>\n",
       "    <tr>\n",
       "      <th id=\"T_338bc_level0_row16\" class=\"row_heading level0 row16\" >dummy</th>\n",
       "      <td id=\"T_338bc_row16_col0\" class=\"data row16 col0\" >Dummy Regressor</td>\n",
       "      <td id=\"T_338bc_row16_col1\" class=\"data row16 col1\" >129.0126</td>\n",
       "      <td id=\"T_338bc_row16_col2\" class=\"data row16 col2\" >21856.8627</td>\n",
       "      <td id=\"T_338bc_row16_col3\" class=\"data row16 col3\" >138.1257</td>\n",
       "      <td id=\"T_338bc_row16_col4\" class=\"data row16 col4\" >-6.5548</td>\n",
       "      <td id=\"T_338bc_row16_col5\" class=\"data row16 col5\" >0.5446</td>\n",
       "      <td id=\"T_338bc_row16_col6\" class=\"data row16 col6\" >0.3958</td>\n",
       "      <td id=\"T_338bc_row16_col7\" class=\"data row16 col7\" >0.0167</td>\n",
       "    </tr>\n",
       "    <tr>\n",
       "      <th id=\"T_338bc_level0_row17\" class=\"row_heading level0 row17\" >par</th>\n",
       "      <td id=\"T_338bc_row17_col0\" class=\"data row17 col0\" >Passive Aggressive Regressor</td>\n",
       "      <td id=\"T_338bc_row17_col1\" class=\"data row17 col1\" >173.5759</td>\n",
       "      <td id=\"T_338bc_row17_col2\" class=\"data row17 col2\" >33683.0407</td>\n",
       "      <td id=\"T_338bc_row17_col3\" class=\"data row17 col3\" >180.7955</td>\n",
       "      <td id=\"T_338bc_row17_col4\" class=\"data row17 col4\" >-17.6483</td>\n",
       "      <td id=\"T_338bc_row17_col5\" class=\"data row17 col5\" >1.2368</td>\n",
       "      <td id=\"T_338bc_row17_col6\" class=\"data row17 col6\" >0.6075</td>\n",
       "      <td id=\"T_338bc_row17_col7\" class=\"data row17 col7\" >0.0100</td>\n",
       "    </tr>\n",
       "  </tbody>\n",
       "</table>\n"
      ],
      "text/plain": [
       "<pandas.io.formats.style.Styler at 0x20461208ca0>"
      ]
     },
     "metadata": {},
     "output_type": "display_data"
    },
    {
     "data": {
      "text/html": [],
      "text/plain": [
       "<IPython.core.display.HTML object>"
      ]
     },
     "metadata": {},
     "output_type": "display_data"
    }
   ],
   "source": [
    "best = compare_models(sort = 'MAE')"
   ]
  }
 ],
 "metadata": {
  "kernelspec": {
   "display_name": "Python 3",
   "language": "python",
   "name": "python3"
  },
  "language_info": {
   "codemirror_mode": {
    "name": "ipython",
    "version": 3
   },
   "file_extension": ".py",
   "mimetype": "text/x-python",
   "name": "python",
   "nbconvert_exporter": "python",
   "pygments_lexer": "ipython3",
   "version": "3.10.13"
  }
 },
 "nbformat": 4,
 "nbformat_minor": 2
}
