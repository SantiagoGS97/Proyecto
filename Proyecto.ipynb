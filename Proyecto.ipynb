{
 "cells": [
  {
   "cell_type": "markdown",
   "metadata": {},
   "source": [
    "### **Librerias**"
   ]
  },
  {
   "cell_type": "code",
   "execution_count": 38,
   "metadata": {},
   "outputs": [],
   "source": [
    "import pandas as pd\n",
    "import numpy as np\n",
    "pd.options.display.max_rows = 20"
   ]
  },
  {
   "cell_type": "markdown",
   "metadata": {},
   "source": [
    "## **Etapa 0: Crear Data Set**"
   ]
  },
  {
   "cell_type": "markdown",
   "metadata": {},
   "source": [
    "### PIB"
   ]
  },
  {
   "cell_type": "code",
   "execution_count": 39,
   "metadata": {},
   "outputs": [
    {
     "data": {
      "text/plain": [
       "(4410, 11)"
      ]
     },
     "execution_count": 39,
     "metadata": {},
     "output_type": "execute_result"
    }
   ],
   "source": [
    "PIB = pd.read_csv('./Datos/PIB.csv', sep=',',encoding='latin-1')\n",
    "PIB = PIB[(PIB['year']>=2000) & (PIB['year']<=2020)]\n",
    "PIB['year'] = PIB['year'].astype('int')\n",
    "PIB['key'] = [(str((PIB.iloc[i,4])).lower()+'-'+str(PIB.iloc[i,6])) for i in range(len(PIB['country_name']))]\n",
    "PIB = PIB.sort_values(by=['country_name'])\n",
    "PIB.shape"
   ]
  },
  {
   "cell_type": "markdown",
   "metadata": {},
   "source": [
    "### Complejidad Economica"
   ]
  },
  {
   "cell_type": "code",
   "execution_count": 40,
   "metadata": {},
   "outputs": [],
   "source": [
    "Data_ECI = pd.read_csv('./Datos/ECI_Data.csv',sep=',',encoding='latin-1')\n",
    "Data_ECI = Data_ECI.transpose()\n",
    "Data_ECI = Data_ECI[2:].transpose()\n",
    "Data_ECI.dropna(inplace=True)"
   ]
  },
  {
   "cell_type": "code",
   "execution_count": 41,
   "metadata": {},
   "outputs": [
    {
     "data": {
      "text/plain": [
       "(1953, 4)"
      ]
     },
     "execution_count": 41,
     "metadata": {},
     "output_type": "execute_result"
    }
   ],
   "source": [
    "complexity = []\n",
    "pais = []\n",
    "año = []\n",
    "for i in range(len(Data_ECI.iloc[:,:0])):\n",
    "    for j in range(len(Data_ECI.iloc[0,:-3])):\n",
    "        pais.append(Data_ECI.iloc[i,22])\n",
    "        año.append((Data_ECI.columns[j]))\n",
    "        complexity.append(Data_ECI.iloc[i,j])\n",
    "ECI = pd.DataFrame()\n",
    "ECI['Pais'] = pais\n",
    "ECI['ECI'] = complexity\n",
    "ECI['año'] = año\n",
    "ECI['año'] = ECI['año'].astype('int')\n",
    "ECI['key'] = [(str(ECI.iloc[i,0]).lower()+'-'+str(ECI.iloc[i,2])) for i in range(len(ECI['año']))]\n",
    "ECI = ECI.sort_values(by=['Pais'])\n",
    "ECI.shape"
   ]
  },
  {
   "cell_type": "markdown",
   "metadata": {},
   "source": [
    "### Poblacion"
   ]
  },
  {
   "cell_type": "code",
   "execution_count": 42,
   "metadata": {},
   "outputs": [],
   "source": [
    "Data_Poblacion = pd.read_csv('./Datos/Poblacion_Data.csv', sep=',',encoding='latin-1')\n",
    "Data_Poblacion.dropna(inplace=True)"
   ]
  },
  {
   "cell_type": "code",
   "execution_count": 43,
   "metadata": {},
   "outputs": [],
   "source": [
    "Poblacion = []\n",
    "pais_p = []\n",
    "año = []\n",
    "for i in range(len(Data_Poblacion.iloc[:,:0])):\n",
    "    for j in range(len(Data_Poblacion.iloc[0,4:-2])):\n",
    "        pais_p.append(Data_Poblacion.iloc[i,0])\n",
    "        año.append(int(Data_Poblacion.columns[j+4]))\n",
    "        Poblacion.append(Data_Poblacion.iloc[i,j+4])\n",
    "Population = pd.DataFrame()\n",
    "Population['Pais'] = pais_p\n",
    "Population['Poblacion'] = Poblacion\n",
    "Population['año'] = año\n",
    "Population['key'] = [(str(Population.iloc[i,0]).lower()+'-'+str(Population.iloc[i,2])) for i in range(len(Population['año']))]\n",
    "Population = Population.sort_values(by=['Pais'])"
   ]
  },
  {
   "cell_type": "markdown",
   "metadata": {},
   "source": [
    "### Region"
   ]
  },
  {
   "cell_type": "code",
   "execution_count": 44,
   "metadata": {},
   "outputs": [
    {
     "data": {
      "text/plain": [
       "(244, 4)"
      ]
     },
     "execution_count": 44,
     "metadata": {},
     "output_type": "execute_result"
    }
   ],
   "source": [
    "cordenada = pd.read_csv('./Datos/country-coord.csv', sep=',',encoding='latin-1')\n",
    "cordenada['country'] = [(str(cordenada.iloc[i,0]).lower()) for i in range(len(cordenada['Country']))]\n",
    "cordenada.shape"
   ]
  },
  {
   "cell_type": "code",
   "execution_count": 45,
   "metadata": {},
   "outputs": [
    {
     "data": {
      "text/plain": [
       "65.0"
      ]
     },
     "execution_count": 45,
     "metadata": {},
     "output_type": "execute_result"
    }
   ],
   "source": [
    "cordenada.iloc[0,2]"
   ]
  },
  {
   "cell_type": "code",
   "execution_count": 46,
   "metadata": {},
   "outputs": [],
   "source": [
    "cordenada['Ecuador'] = [1 if (cordenada.iloc[i,1]<=27 and cordenada.iloc[i,1]>=-27) else 0 for i in range(len(cordenada['country']))]"
   ]
  },
  {
   "cell_type": "markdown",
   "metadata": {},
   "source": [
    "### Union DataFrames"
   ]
  },
  {
   "cell_type": "code",
   "execution_count": 47,
   "metadata": {},
   "outputs": [
    {
     "data": {
      "text/html": [
       "<div>\n",
       "<style scoped>\n",
       "    .dataframe tbody tr th:only-of-type {\n",
       "        vertical-align: middle;\n",
       "    }\n",
       "\n",
       "    .dataframe tbody tr th {\n",
       "        vertical-align: top;\n",
       "    }\n",
       "\n",
       "    .dataframe thead th {\n",
       "        text-align: right;\n",
       "    }\n",
       "</style>\n",
       "<table border=\"1\" class=\"dataframe\">\n",
       "  <thead>\n",
       "    <tr style=\"text-align: right;\">\n",
       "      <th></th>\n",
       "      <th>Pais_x</th>\n",
       "      <th>Poblacion</th>\n",
       "      <th>total_gdp_million</th>\n",
       "      <th>ECI</th>\n",
       "      <th>año_x</th>\n",
       "      <th>Ecuador</th>\n",
       "    </tr>\n",
       "  </thead>\n",
       "  <tbody>\n",
       "    <tr>\n",
       "      <th>2</th>\n",
       "      <td>Algeria</td>\n",
       "      <td>30774621.0</td>\n",
       "      <td>54790.39275</td>\n",
       "      <td>-1.064802</td>\n",
       "      <td>2000</td>\n",
       "      <td>0</td>\n",
       "    </tr>\n",
       "    <tr>\n",
       "      <th>3</th>\n",
       "      <td>Algeria</td>\n",
       "      <td>31200985.0</td>\n",
       "      <td>54744.71281</td>\n",
       "      <td>-0.804064</td>\n",
       "      <td>2001</td>\n",
       "      <td>0</td>\n",
       "    </tr>\n",
       "    <tr>\n",
       "      <th>4</th>\n",
       "      <td>Algeria</td>\n",
       "      <td>31624696.0</td>\n",
       "      <td>56760.35587</td>\n",
       "      <td>-0.994074</td>\n",
       "      <td>2002</td>\n",
       "      <td>0</td>\n",
       "    </tr>\n",
       "    <tr>\n",
       "      <th>5</th>\n",
       "      <td>Algeria</td>\n",
       "      <td>32055883.0</td>\n",
       "      <td>67863.82841</td>\n",
       "      <td>-0.914542</td>\n",
       "      <td>2003</td>\n",
       "      <td>0</td>\n",
       "    </tr>\n",
       "    <tr>\n",
       "      <th>6</th>\n",
       "      <td>Algeria</td>\n",
       "      <td>32510186.0</td>\n",
       "      <td>85332.58119</td>\n",
       "      <td>-1.071765</td>\n",
       "      <td>2004</td>\n",
       "      <td>0</td>\n",
       "    </tr>\n",
       "    <tr>\n",
       "      <th>...</th>\n",
       "      <td>...</td>\n",
       "      <td>...</td>\n",
       "      <td>...</td>\n",
       "      <td>...</td>\n",
       "      <td>...</td>\n",
       "      <td>...</td>\n",
       "    </tr>\n",
       "    <tr>\n",
       "      <th>1557</th>\n",
       "      <td>Zimbabwe</td>\n",
       "      <td>14452704.0</td>\n",
       "      <td>20548.67807</td>\n",
       "      <td>-0.756970</td>\n",
       "      <td>2016</td>\n",
       "      <td>1</td>\n",
       "    </tr>\n",
       "    <tr>\n",
       "      <th>1556</th>\n",
       "      <td>Zimbabwe</td>\n",
       "      <td>14751101.0</td>\n",
       "      <td>17584.89094</td>\n",
       "      <td>-0.782292</td>\n",
       "      <td>2017</td>\n",
       "      <td>1</td>\n",
       "    </tr>\n",
       "    <tr>\n",
       "      <th>1555</th>\n",
       "      <td>Zimbabwe</td>\n",
       "      <td>15052184.0</td>\n",
       "      <td>34156.06992</td>\n",
       "      <td>-0.826599</td>\n",
       "      <td>2018</td>\n",
       "      <td>1</td>\n",
       "    </tr>\n",
       "    <tr>\n",
       "      <th>1567</th>\n",
       "      <td>Zimbabwe</td>\n",
       "      <td>15354608.0</td>\n",
       "      <td>21832.23493</td>\n",
       "      <td>-0.798137</td>\n",
       "      <td>2019</td>\n",
       "      <td>1</td>\n",
       "    </tr>\n",
       "    <tr>\n",
       "      <th>1574</th>\n",
       "      <td>Zimbabwe</td>\n",
       "      <td>15669666.0</td>\n",
       "      <td>21509.69841</td>\n",
       "      <td>-0.893569</td>\n",
       "      <td>2020</td>\n",
       "      <td>1</td>\n",
       "    </tr>\n",
       "  </tbody>\n",
       "</table>\n",
       "<p>1575 rows × 6 columns</p>\n",
       "</div>"
      ],
      "text/plain": [
       "        Pais_x   Poblacion  total_gdp_million       ECI  año_x  Ecuador\n",
       "2      Algeria  30774621.0        54790.39275 -1.064802   2000        0\n",
       "3      Algeria  31200985.0        54744.71281 -0.804064   2001        0\n",
       "4      Algeria  31624696.0        56760.35587 -0.994074   2002        0\n",
       "5      Algeria  32055883.0        67863.82841 -0.914542   2003        0\n",
       "6      Algeria  32510186.0        85332.58119 -1.071765   2004        0\n",
       "...        ...         ...                ...       ...    ...      ...\n",
       "1557  Zimbabwe  14452704.0        20548.67807 -0.756970   2016        1\n",
       "1556  Zimbabwe  14751101.0        17584.89094 -0.782292   2017        1\n",
       "1555  Zimbabwe  15052184.0        34156.06992 -0.826599   2018        1\n",
       "1567  Zimbabwe  15354608.0        21832.23493 -0.798137   2019        1\n",
       "1574  Zimbabwe  15669666.0        21509.69841 -0.893569   2020        1\n",
       "\n",
       "[1575 rows x 6 columns]"
      ]
     },
     "execution_count": 47,
     "metadata": {},
     "output_type": "execute_result"
    }
   ],
   "source": [
    "Data_final = PIB.merge(Population,left_on='key',right_on='key').merge(ECI,left_on='key',right_on='key')\n",
    "Data_final = Data_final[['Pais_x', 'Poblacion', 'total_gdp_million','ECI','año_x']]\n",
    "Data_final['country'] = [(str(Data_final.iloc[i,0]).lower()) for i in range(len(Data_final['Pais_x']))]\n",
    "Data_final = pd.merge(Data_final, cordenada, on ='country', how ='inner')\n",
    "Data_final = Data_final[['Pais_x', 'Poblacion', 'total_gdp_million','ECI','año_x','Ecuador']]\n",
    "Data_final.sort_values(by=['Pais_x','año_x'])"
   ]
  }
 ],
 "metadata": {
  "kernelspec": {
   "display_name": "Python 3",
   "language": "python",
   "name": "python3"
  },
  "language_info": {
   "codemirror_mode": {
    "name": "ipython",
    "version": 3
   },
   "file_extension": ".py",
   "mimetype": "text/x-python",
   "name": "python",
   "nbconvert_exporter": "python",
   "pygments_lexer": "ipython3",
   "version": "3.10.11"
  }
 },
 "nbformat": 4,
 "nbformat_minor": 2
}
