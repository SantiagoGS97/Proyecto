{
 "cells": [
  {
   "cell_type": "markdown",
   "metadata": {},
   "source": [
    "### **Librerias**"
   ]
  },
  {
   "cell_type": "code",
   "execution_count": 1,
   "metadata": {},
   "outputs": [],
   "source": [
    "import pandas as pd\n",
    "import numpy as np\n",
    "import matplotlib.pyplot as plt\n",
    "import seaborn as sns\n",
    "# from sklearn.metrics import confusion_matrix,ConfusionMatrixDisplay\n",
    "# from sklearn.linear_model import LinearRegression\n",
    "from sklearn.preprocessing import StandardScaler\n",
    "from sklearn.model_selection import train_test_split\n",
    "import pycaret\n",
    "from pmdarima import plot_acf\n",
    "pd.options.display.max_rows = 20\n",
    "import warnings\n",
    "warnings.filterwarnings('ignore')\n",
    "# Se importan las librerias necesarias para el depurado de los datos, la creacion de las graficas y analisis "
   ]
  },
  {
   "cell_type": "markdown",
   "metadata": {},
   "source": [
    "## **Etapa 0: Crear Data Set**"
   ]
  },
  {
   "cell_type": "markdown",
   "metadata": {},
   "source": [
    "### PIB"
   ]
  },
  {
   "cell_type": "code",
   "execution_count": 2,
   "metadata": {},
   "outputs": [
    {
     "data": {
      "text/plain": [
       "(4410, 11)"
      ]
     },
     "execution_count": 2,
     "metadata": {},
     "output_type": "execute_result"
    }
   ],
   "source": [
    "PIB = pd.read_csv('./Datos/PIB.csv', sep=',',encoding='latin-1')\n",
    "PIB = PIB[(PIB['year']>=2000) & (PIB['year']<=2020)]\n",
    "PIB['year'] = PIB['year'].astype('int')\n",
    "PIB['key'] = [(str((PIB.iloc[i,4])).lower()+'-'+str(PIB.iloc[i,6])) for i in range(len(PIB['country_name']))]\n",
    "PIB = PIB.sort_values(by=['country_name'])\n",
    "PIB.shape\n",
    "# Se importa el csv con los datos de PIB, debido a que es un data-set con datos del PIB de varios años se opta por acotarlos\n",
    "# a solo los ulitmos 20 años y se cambia el formato de la columna 'year' de str a int, posterios a esto se crea una llave la cual \n",
    "# toma como parametros el nombre del pais y el año para crear una llave unica para cada registro y finalmente se ordena "
   ]
  },
  {
   "cell_type": "markdown",
   "metadata": {},
   "source": [
    "### Complejidad Economica"
   ]
  },
  {
   "cell_type": "code",
   "execution_count": 3,
   "metadata": {},
   "outputs": [
    {
     "data": {
      "text/plain": [
       "(93, 24)"
      ]
     },
     "execution_count": 3,
     "metadata": {},
     "output_type": "execute_result"
    }
   ],
   "source": [
    "Data_ECI = pd.read_csv('./Datos/ECI_Data.csv',sep=',',encoding='latin-1')\n",
    "# Data_ECI = Data_ECI.transpose()\n",
    "Data_ECI = Data_ECI.iloc[:,2:]\n",
    "# Data_ECI = Data_ECI[2:].transpose()\n",
    "Data_ECI.dropna(inplace=True)\n",
    "# Se hace una transformacion del data set pues los datos del ECI van desde 1980, por lo que se hace la acotacion que \n",
    "# sea solo del 2000 al 2021, ademas se aliminan datos nulos, por lo que paises sin registro serian eliminados\n",
    "# para propositos del analisis se pasa por alto la perdida de algunos datos a cambio de tener una base de \n",
    "# datos que este completa\n",
    "Data_ECI.shape"
   ]
  },
  {
   "cell_type": "code",
   "execution_count": 4,
   "metadata": {},
   "outputs": [
    {
     "data": {
      "text/plain": [
       "(1953, 4)"
      ]
     },
     "execution_count": 4,
     "metadata": {},
     "output_type": "execute_result"
    }
   ],
   "source": [
    "complexity = []\n",
    "pais = []\n",
    "año = []\n",
    "for i in range(len(Data_ECI.iloc[:,:0])):\n",
    "    for j in range(len(Data_ECI.iloc[0,:-3])):\n",
    "        pais.append(Data_ECI.iloc[i,22])\n",
    "        año.append((Data_ECI.columns[j]))\n",
    "        complexity.append(Data_ECI.iloc[i,j])\n",
    "ECI = pd.DataFrame()\n",
    "ECI['Pais'] = pais\n",
    "ECI['ECI'] = complexity\n",
    "ECI['año'] = año\n",
    "ECI['año'] = ECI['año'].astype('int')\n",
    "ECI['key'] = [(str(ECI.iloc[i,0]).lower()+'-'+str(ECI.iloc[i,2])) for i in range(len(ECI['año']))]\n",
    "ECI = ECI.sort_values(by=['Pais'])\n",
    "ECI.shape\n",
    "# Una vez hecho la acotacion de la base de datos, se procede a transformar el data set, primero haciendo que el pais se repita 20 veces\n",
    "# en la columna pais luego en cada registro del pais se pegan los datos correspondientes al ECI y se agrega la columna de año, la cual \n",
    "# es autoincremental, este proceso se hace para pasar de registros por columnas a registros por filas. Al final se crea \n",
    "# una llave uniendo el pais y el año"
   ]
  },
  {
   "cell_type": "markdown",
   "metadata": {},
   "source": [
    "### Poblacion"
   ]
  },
  {
   "cell_type": "code",
   "execution_count": 5,
   "metadata": {},
   "outputs": [],
   "source": [
    "Data_Poblacion = pd.read_csv('./Datos/Poblacion_Data.csv', sep=',',encoding='latin-1')\n",
    "Data_Poblacion.dropna(inplace=True)\n",
    "# Se importan los datos del CSV y se eliminan aquellos registros nulos"
   ]
  },
  {
   "cell_type": "code",
   "execution_count": 6,
   "metadata": {},
   "outputs": [],
   "source": [
    "Poblacion = []\n",
    "pais_p = []\n",
    "año = []\n",
    "for i in range(len(Data_Poblacion.iloc[:,:0])):\n",
    "    for j in range(len(Data_Poblacion.iloc[0,4:-2])):\n",
    "        pais_p.append(Data_Poblacion.iloc[i,0])\n",
    "        año.append(int(Data_Poblacion.columns[j+4]))\n",
    "        Poblacion.append(Data_Poblacion.iloc[i,j+4])\n",
    "Population = pd.DataFrame()\n",
    "Population['Pais'] = pais_p\n",
    "Population['Poblacion'] = Poblacion\n",
    "Population['año'] = año\n",
    "Population['key'] = [(str(Population.iloc[i,0]).lower()+'-'+str(Population.iloc[i,2])) for i in range(len(Population['año']))]\n",
    "Population = Population.sort_values(by=['Pais'])\n",
    "# Al igual que el ECI, se realiza ma misma transformacion: repetir el pais 20 veces en la columna pais,\n",
    "# luego en cada registro del pais se pegan los datos correspondientes a la poblacion y se agrega la columna de año, la cual \n",
    "# es autoincremental. Al final se crea una llave uniendo el pais y el año"
   ]
  },
  {
   "cell_type": "markdown",
   "metadata": {},
   "source": [
    "### Region"
   ]
  },
  {
   "cell_type": "code",
   "execution_count": 7,
   "metadata": {},
   "outputs": [
    {
     "data": {
      "text/plain": [
       "Country       object\n",
       "Latitude     float64\n",
       "Longitude    float64\n",
       "country       object\n",
       "dtype: object"
      ]
     },
     "execution_count": 7,
     "metadata": {},
     "output_type": "execute_result"
    }
   ],
   "source": [
    "cordenada = pd.read_csv('./Datos/country-coord.csv', sep=',',encoding='latin-1')\n",
    "cordenada['country'] = [(str(cordenada.iloc[i,0]).lower()) for i in range(len(cordenada['Country']))]\n",
    "cordenada.dtypes\n",
    "# Se importa la data csv y se crea una nueva columna llamada \"country\", la cual simplemente\n",
    "# el el nombre de los paises pero en minusculas"
   ]
  },
  {
   "cell_type": "code",
   "execution_count": 8,
   "metadata": {},
   "outputs": [],
   "source": [
    "cordenada['Ecuador'] = [1 if cordenada.iloc[i,1]<=27 and cordenada.iloc[i,1]>=-27 else 0 for i in range(len(cordenada['country']))]\n",
    "# Se crea la columna Ecuador, por medio de un list comprehension el cual asigna valores de 1 o 0 dependiendo del valor de las latitudes de cada pais\n",
    "# tomando con 1 aquellos paises que estan dentro de la zona tropical y 0 aquellos que esten mas al norte o sur del planeta"
   ]
  },
  {
   "cell_type": "markdown",
   "metadata": {},
   "source": [
    "### Union DataFrames"
   ]
  },
  {
   "cell_type": "code",
   "execution_count": 9,
   "metadata": {},
   "outputs": [],
   "source": [
    "Data_final = PIB.merge(Population,left_on='key',right_on='key').merge(ECI,left_on='key',right_on='key')\n",
    "Data_final = Data_final[['Pais_x', 'Poblacion', 'total_gdp_million','ECI','año_x']]\n",
    "Data_final['country'] = [(str(Data_final.iloc[i,0]).lower()) for i in range(len(Data_final['Pais_x']))]\n",
    "Data_final = pd.merge(Data_final, cordenada, on ='country', how ='inner')\n",
    "Data_final = Data_final[['Pais_x', 'Poblacion', 'total_gdp_million','ECI','año_x','Ecuador']]\n",
    "Data_final.to_csv('Datos/Crecimiento_ec.csv')\n",
    "# Se unen los diferentes dataframes antes creados, con el fin de que los datos conserven su estructura y evitar que un dato de la  \n",
    "# poblacion de un pais se asigne a otro, se unen los diferentes dataframes por medio de las 'Key' la cual fue creada \n",
    "# en cada uno de los dataframes, excepto por las cordenadas. En este caso la llave era el mismo nombre del pais, por lo que \n",
    "# simplemente se hizo la union entre del df-coordenada y el df-data_final con la columna 'country' como llave para unir los df"
   ]
  },
  {
   "cell_type": "markdown",
   "metadata": {},
   "source": [
    "## **Etapa 1: Entender los Datos**"
   ]
  },
  {
   "cell_type": "code",
   "execution_count": 10,
   "metadata": {},
   "outputs": [],
   "source": [
    "Data = pd.read_csv('./Datos/Crecimiento_ec.csv')\n",
    "Data.drop('Unnamed: 0',axis=1,inplace=True)\n",
    "Data['año'] = [\"\".join([str(Data.iloc[i,4]),\"-01\"]) for i in range(len(Data.año_x))]\n",
    "# Se crea una nueva columna la cual es 'año', la que es un string que une año_x y \"01\", esto porque posteriormente se \n",
    "# transformara este string en un formato fecha"
   ]
  },
  {
   "cell_type": "code",
   "execution_count": 11,
   "metadata": {},
   "outputs": [
    {
     "name": "stdout",
     "output_type": "stream",
     "text": [
      "<class 'pandas.core.frame.DataFrame'>\n",
      "RangeIndex: 1575 entries, 0 to 1574\n",
      "Data columns (total 7 columns):\n",
      " #   Column             Non-Null Count  Dtype  \n",
      "---  ------             --------------  -----  \n",
      " 0   Pais_x             1575 non-null   object \n",
      " 1   Poblacion          1575 non-null   float64\n",
      " 2   total_gdp_million  1575 non-null   float64\n",
      " 3   ECI                1575 non-null   float64\n",
      " 4   año_x              1575 non-null   int64  \n",
      " 5   Ecuador            1575 non-null   int64  \n",
      " 6   año                1575 non-null   object \n",
      "dtypes: float64(3), int64(2), object(2)\n",
      "memory usage: 86.3+ KB\n"
     ]
    }
   ],
   "source": [
    "Data.info()\n",
    "# Se obtiene la informacion del Dataset"
   ]
  },
  {
   "cell_type": "code",
   "execution_count": 12,
   "metadata": {},
   "outputs": [],
   "source": [
    "def timeline(columna):\n",
    "    time = pd.pivot_table(Data,values=columna,columns=['año_x'],aggfunc='mean')\n",
    "    return time\n",
    "# Esta funcion se encarga de recibir una columnana del Dataset y convertirla en una pivot-tabble, en la cual se agrupan \n",
    "# a los paises y el parametro del columna promediando los valores de dicho parametro"
   ]
  },
  {
   "cell_type": "code",
   "execution_count": 13,
   "metadata": {},
   "outputs": [
    {
     "data": {
      "image/png": "[encoded data removed]",
      "text/plain": [
       "<Figure size 500x500 with 1 Axes>"
      ]
     },
     "metadata": {},
     "output_type": "display_data"
    }
   ],
   "source": [
    "fig,ax = plt.subplots(1,sharex=True,figsize=(5,5))\n",
    "ax = sns.barplot(timeline('total_gdp_million'))\n",
    "ax.set_xticklabels(ax.get_xticklabels(),rotation=90)\n",
    "plt.title('PIB en Millones de USD')\n",
    "plt.show()\n",
    "# Usando la funcion creada antes, se para como parametro el 'total_gdp_million' y a partir de ese dataframe auxiliar \n",
    "# se crea una grafica que muestra la evolucion del PIB a los largo de los años"
   ]
  },
  {
   "cell_type": "code",
   "execution_count": 14,
   "metadata": {},
   "outputs": [
    {
     "data": {
      "image/png": "[encoded data removed]",
      "text/plain": [
       "<Figure size 500x500 with 1 Axes>"
      ]
     },
     "metadata": {},
     "output_type": "display_data"
    }
   ],
   "source": [
    "fig,ax = plt.subplots(1,sharex=True,figsize=(5,5))\n",
    "ax = sns.barplot(timeline('ECI'))\n",
    "ax.set_xticklabels(ax.get_xticklabels(),rotation=90)\n",
    "plt.title('ECI')\n",
    "plt.show()\n",
    "# Usando la funcion creada antes, se para como parametro el 'ECI' y a partir de ese dataframe auxiliar \n",
    "# se crea una grafica que muestra la evolucion del ECI a los largo de los años"
   ]
  },
  {
   "cell_type": "code",
   "execution_count": 15,
   "metadata": {},
   "outputs": [
    {
     "data": {
      "image/png": "[encoded data removed]",
      "text/plain": [
       "<Figure size 500x500 with 1 Axes>"
      ]
     },
     "metadata": {},
     "output_type": "display_data"
    }
   ],
   "source": [
    "fig,ax = plt.subplots(1,sharex=True,figsize=(5, 5))\n",
    "ax = sns.barplot(timeline('Poblacion'))\n",
    "ax.set_xticklabels(ax.get_xticklabels(),rotation=90)\n",
    "plt.title('Poblacion')\n",
    "plt.show()\n",
    "# Usando la funcion creada antes, se para como parametro el 'Poblacion' y a partir de ese dataframe auxiliar \n",
    "# se crea una grafica que muestra la evolucion de la Poblacion a los largo de los años"
   ]
  },
  {
   "cell_type": "markdown",
   "metadata": {},
   "source": [
    "## **Etapa 2: Revisar problemas en Series de Tiempo**"
   ]
  },
  {
   "cell_type": "code",
   "execution_count": 16,
   "metadata": {},
   "outputs": [],
   "source": [
    "X = Data[['Poblacion', 'ECI', 'año_x', 'Ecuador']]\n",
    "Y = Data['total_gdp_million']\n",
    "# Se hace la division de los datos, X siendo las variables independtientes y Y siendo la variables \n",
    "# dependiente"
   ]
  },
  {
   "cell_type": "code",
   "execution_count": 17,
   "metadata": {},
   "outputs": [],
   "source": [
    "X_train, X_test, y_train, y_test = train_test_split(X, Y, random_state=42)\n",
    "# Se hace una division de los datos para test y para train"
   ]
  },
  {
   "cell_type": "markdown",
   "metadata": {},
   "source": [
    "### ***Revisar Multicolinealidad***"
   ]
  },
  {
   "cell_type": "code",
   "execution_count": 18,
   "metadata": {},
   "outputs": [],
   "source": [
    "from statsmodels.stats.outliers_influence import variance_inflation_factor\n",
    "variables = Data_final.drop(columns=['Pais_x'])\n",
    "vif_data = pd.DataFrame()\n",
    "vif_data[\"Variable\"] = variables.columns\n",
    "vif_data[\"VIF\"] = [variance_inflation_factor(variables.values, i) for i in range(variables.shape[1])]\n",
    "# Se empieza con una prueba de multicolineadlidad, estco con el fin de determinar si las variables sean independientes entre si.\n",
    "# Para de este modo poder garantizar que las variables elegidas aportan informacion relevante para el modelo"
   ]
  },
  {
   "cell_type": "code",
   "execution_count": 19,
   "metadata": {},
   "outputs": [
    {
     "name": "stdout",
     "output_type": "stream",
     "text": [
      "\n",
      "VIF:\n",
      "            Variable       VIF\n",
      "0          Poblacion  1.781558\n",
      "1  total_gdp_million  2.157813\n",
      "2                ECI  1.609753\n",
      "3              año_x  2.499387\n",
      "4            Ecuador  2.434782\n"
     ]
    }
   ],
   "source": [
    "print(\"\\nVIF:\")\n",
    "print(vif_data)\n",
    "# Se imprimen los datos del VIF"
   ]
  },
  {
   "cell_type": "markdown",
   "metadata": {},
   "source": [
    "Existe multicolinealidad leve entre los datos entre los datos, por lo que no necesariamente se debe eliminarla pues al ser una multicolinalidad moderada el modelo de regresion lineal puede seguir haciendo predicciones de manera correcta"
   ]
  },
  {
   "cell_type": "markdown",
   "metadata": {},
   "source": [
    "### ***Revisar Autocorrelacion***"
   ]
  },
  {
   "cell_type": "code",
   "execution_count": 20,
   "metadata": {},
   "outputs": [],
   "source": [
    "import statsmodels.api as sm\n",
    "from statsmodels.formula.api import ols\n",
    "from statsmodels.graphics import tsaplots\n",
    "from statsmodels.stats.stattools import durbin_watson\n",
    "from statsmodels.tsa.stattools import adfuller\n",
    "# Se importan las librerias para evaluar si hay autocorrelacion entre las variables\n",
    "# pues al tratarse de series de tiempo este es un problemas bastante comun en este tipo de datasets"
   ]
  },
  {
   "cell_type": "code",
   "execution_count": 21,
   "metadata": {},
   "outputs": [
    {
     "data": {
      "image/png": "[encoded data removed]",
      "text/plain": [
       "<Figure size 640x480 with 1 Axes>"
      ]
     },
     "metadata": {},
     "output_type": "display_data"
    }
   ],
   "source": [
    "X = np.array(Data_final.ECI)\n",
    "sm.tsa.acf (X)\n",
    "fig = tsaplots.plot_acf(X,lags=21)\n",
    "plt.show ()\n",
    "# Se define un X, siento este la columna con la informacion del ECI (Complejidad economica) y se grafica \n",
    "# el comportamiento de su autocorrelacion "
   ]
  },
  {
   "cell_type": "code",
   "execution_count": 22,
   "metadata": {},
   "outputs": [
    {
     "data": {
      "image/png": "[encoded data removed]",
      "text/plain": [
       "<Figure size 640x480 with 1 Axes>"
      ]
     },
     "metadata": {},
     "output_type": "display_data"
    }
   ],
   "source": [
    "X = np.array(Data_final.total_gdp_million)\n",
    "sm.tsa.acf (X)\n",
    "fig = tsaplots.plot_acf(X,lags=21)\n",
    "plt.show ()\n",
    "# Se define un X, siento este la columna con la informacion del PIB y se grafica \n",
    "# el comportamiento de su autocorrelacion "
   ]
  },
  {
   "cell_type": "code",
   "execution_count": 23,
   "metadata": {},
   "outputs": [
    {
     "data": {
      "image/png": "[encoded data removed]",
      "text/plain": [
       "<Figure size 640x480 with 1 Axes>"
      ]
     },
     "metadata": {},
     "output_type": "display_data"
    }
   ],
   "source": [
    "X = np.array(Data_final.Poblacion)\n",
    "sm.tsa.acf (X)\n",
    "fig = tsaplots.plot_acf(X,lags=21)\n",
    "plt.show ()\n",
    "# Se define un X, siento este la columna con la informacion de la poblacion y se grafica \n",
    "# el comportamiento de su autocorrelacion "
   ]
  },
  {
   "cell_type": "code",
   "execution_count": 24,
   "metadata": {},
   "outputs": [
    {
     "data": {
      "text/plain": [
       "0.28431927577944044"
      ]
     },
     "execution_count": 24,
     "metadata": {},
     "output_type": "execute_result"
    }
   ],
   "source": [
    "model_1 = ols('total_gdp_million ~ Poblacion + ECI + Ecuador', data=Data_final).fit()\n",
    "durbin_watson(model_1.resid)\n",
    "# Se hace la prueba de autocorrelacion de Durbin-Watson usando un modelos en el que el PIB depende del ECI\n",
    "# la poblacion y Ecuador (posicion geografica respecto a la zona tropical)"
   ]
  },
  {
   "cell_type": "code",
   "execution_count": 25,
   "metadata": {},
   "outputs": [
    {
     "data": {
      "text/plain": [
       "0.273151820843164"
      ]
     },
     "execution_count": 25,
     "metadata": {},
     "output_type": "execute_result"
    }
   ],
   "source": [
    "model_2 = ols('total_gdp_million ~ Poblacion + Ecuador ', data=Data_final).fit()\n",
    "durbin_watson(model_2.resid)\n",
    "# Se hace la prueba de autocorrelacion de Durbin-Watson usando un modelos en el que el PIB depende de\n",
    "# la poblacion y Ecuador (posicion geografica respecto a la zona tropical)"
   ]
  },
  {
   "cell_type": "code",
   "execution_count": 26,
   "metadata": {},
   "outputs": [
    {
     "data": {
      "text/plain": [
       "0.2823922478876901"
      ]
     },
     "execution_count": 26,
     "metadata": {},
     "output_type": "execute_result"
    }
   ],
   "source": [
    "model_3 = ols('total_gdp_million ~ ECI + Poblacion ', data=Data_final).fit()\n",
    "durbin_watson(model_3.resid)\n",
    "# Se hace la prueba de autocorrelacion de Durbin-Watson usando un modelos en el que el PIB depende del ECI\n",
    "# y la poblacion"
   ]
  },
  {
   "cell_type": "markdown",
   "metadata": {},
   "source": [
    "* En este caso se observa que los modelos muestra autocorrelacion pues se trata de Datos de panel los cuales tienen una componente temporal, en este caso la prueba de DurbiWatson para los 3 modelos arroja el valor de ***ρ*** cercado a 0 [0.28,0.27,0.28] entrando en el rango de 0<***ρ***<1 dando un DW = 2 (Durbin Watson) dando como resultado que el dataset tiene autocorrelacion positiva , lo que se refuerza al ver la grafica la cual solo en el rezago 21 tiene autocorrelacion de 0, mietras que a lo largo de la grafica siempre se observo que la autocorrelacion fue bajando pocco a poco.\n",
    "\n",
    "* El problema de que exista autocorrelacion es que el modelo al usar regresion lineal tendra problemas a la hora ajsutar el modelo pues puede generar un Coeficiente de Determinacion muy perfecto R<sup>2</sup>=1, lo que haria que existe overfitting en el modelo imposibilidanto la generalizacion de los datos.\n"
   ]
  },
  {
   "cell_type": "markdown",
   "metadata": {},
   "source": [
    "### ***Revisar Estacionariedad***"
   ]
  },
  {
   "cell_type": "code",
   "execution_count": 27,
   "metadata": {},
   "outputs": [
    {
     "data": {
      "application/vnd.plotly.v1+json": {
       "config": {
        "plotlyServerURL": "https://plot.ly"
       },
       "data": [
        {
         "hovertemplate": "variable=total_gdp_million<br>Time=%{x}<br>value=%{y}<extra></extra>",
         "legendgroup": "total_gdp_million",
         "line": {
          "color": "#636efa",
          "dash": "solid"
         },
         "marker": {
          "symbol": "circle"
         },
         "mode": "lines",
         "name": "total_gdp_million",
         "orientation": "v",
         "showlegend": true,
         "type": "scatter",
         "x": [
          "2000-01-01T00:00:00",
          "2001-01-01T00:00:00",
          "2002-01-01T00:00:00",
          "2003-01-01T00:00:00",
          "2004-01-01T00:00:00",
          "2005-01-01T00:00:00",
          "2006-01-01T00:00:00",
          "2007-01-01T00:00:00",
          "2008-01-01T00:00:00",
          "2009-01-01T00:00:00",
          "2010-01-01T00:00:00",
          "2011-01-01T00:00:00",
          "2012-01-01T00:00:00",
          "2013-01-01T00:00:00",
          "2014-01-01T00:00:00",
          "2015-01-01T00:00:00",
          "2016-01-01T00:00:00",
          "2017-01-01T00:00:00",
          "2018-01-01T00:00:00",
          "2019-01-01T00:00:00",
          "2020-01-01T00:00:00"
         ],
         "xaxis": "x",
         "y": [
          19209732.12693,
          18723853.669743,
          19359896.756855,
          22417373.372477,
          25655527.255202,
          27672677.063807,
          30026851.264877,
          34528658.414784,
          39308334.06246,
          37555869.253184,
          41646293.29776,
          47305688.73238,
          47807194.20387,
          49008877.00638,
          50066958.29542,
          46173299.43907,
          47129538.37544,
          50660526.697399996,
          54331340.40225,
          54668702.03018,
          52913960.34002
         ],
         "yaxis": "y"
        }
       ],
       "layout": {
        "legend": {
         "title": {
          "text": "variable"
         },
         "tracegroupgap": 0
        },
        "margin": {
         "t": 60
        },
        "template": {
         "data": {
          "bar": [
           {
            "error_x": {
             "color": "#f2f5fa"
            },
            "error_y": {
             "color": "#f2f5fa"
            },
            "marker": {
             "line": {
              "color": "rgb(17,17,17)",
              "width": 0.5
             },
             "pattern": {
              "fillmode": "overlay",
              "size": 10,
              "solidity": 0.2
             }
            },
            "type": "bar"
           }
          ],
          "barpolar": [
           {
            "marker": {
             "line": {
              "color": "rgb(17,17,17)",
              "width": 0.5
             },
             "pattern": {
              "fillmode": "overlay",
              "size": 10,
              "solidity": 0.2
             }
            },
            "type": "barpolar"
           }
          ],
          "carpet": [
           {
            "aaxis": {
             "endlinecolor": "#A2B1C6",
             "gridcolor": "#506784",
             "linecolor": "#506784",
             "minorgridcolor": "#506784",
             "startlinecolor": "#A2B1C6"
            },
            "baxis": {
             "endlinecolor": "#A2B1C6",
             "gridcolor": "#506784",
             "linecolor": "#506784",
             "minorgridcolor": "#506784",
             "startlinecolor": "#A2B1C6"
            },
            "type": "carpet"
           }
          ],
          "choropleth": [
           {
            "colorbar": {
             "outlinewidth": 0,
             "ticks": ""
            },
            "type": "choropleth"
           }
          ],
          "contour": [
           {
            "colorbar": {
             "outlinewidth": 0,
             "ticks": ""
            },
            "colorscale": [
             [
              0,
              "#0d0887"
             ],
             [
              0.1111111111111111,
              "#46039f"
             ],
             [
              0.2222222222222222,
              "#7201a8"
             ],
             [
              0.3333333333333333,
              "#9c179e"
             ],
             [
              0.4444444444444444,
              "#bd3786"
             ],
             [
              0.5555555555555556,
              "#d8576b"
             ],
             [
              0.6666666666666666,
              "#ed7953"
             ],
             [
              0.7777777777777778,
              "#fb9f3a"
             ],
             [
              0.8888888888888888,
              "#fdca26"
             ],
             [
              1,
              "#f0f921"
             ]
            ],
            "type": "contour"
           }
          ],
          "contourcarpet": [
           {
            "colorbar": {
             "outlinewidth": 0,
             "ticks": ""
            },
            "type": "contourcarpet"
           }
          ],
          "heatmap": [
           {
            "colorbar": {
             "outlinewidth": 0,
             "ticks": ""
            },
            "colorscale": [
             [
              0,
              "#0d0887"
             ],
             [
              0.1111111111111111,
              "#46039f"
             ],
             [
              0.2222222222222222,
              "#7201a8"
             ],
             [
              0.3333333333333333,
              "#9c179e"
             ],
             [
              0.4444444444444444,
              "#bd3786"
             ],
             [
              0.5555555555555556,
              "#d8576b"
             ],
             [
              0.6666666666666666,
              "#ed7953"
             ],
             [
              0.7777777777777778,
              "#fb9f3a"
             ],
             [
              0.8888888888888888,
              "#fdca26"
             ],
             [
              1,
              "#f0f921"
             ]
            ],
            "type": "heatmap"
           }
          ],
          "heatmapgl": [
           {
            "colorbar": {
             "outlinewidth": 0,
             "ticks": ""
            },
            "colorscale": [
             [
              0,
              "#0d0887"
             ],
             [
              0.1111111111111111,
              "#46039f"
             ],
             [
              0.2222222222222222,
              "#7201a8"
             ],
             [
              0.3333333333333333,
              "#9c179e"
             ],
             [
              0.4444444444444444,
              "#bd3786"
             ],
             [
              0.5555555555555556,
              "#d8576b"
             ],
             [
              0.6666666666666666,
              "#ed7953"
             ],
             [
              0.7777777777777778,
              "#fb9f3a"
             ],
             [
              0.8888888888888888,
              "#fdca26"
             ],
             [
              1,
              "#f0f921"
             ]
            ],
            "type": "heatmapgl"
           }
          ],
          "histogram": [
           {
            "marker": {
             "pattern": {
              "fillmode": "overlay",
              "size": 10,
              "solidity": 0.2
             }
            },
            "type": "histogram"
           }
          ],
          "histogram2d": [
           {
            "colorbar": {
             "outlinewidth": 0,
             "ticks": ""
            },
            "colorscale": [
             [
              0,
              "#0d0887"
             ],
             [
              0.1111111111111111,
              "#46039f"
             ],
             [
              0.2222222222222222,
              "#7201a8"
             ],
             [
              0.3333333333333333,
              "#9c179e"
             ],
             [
              0.4444444444444444,
              "#bd3786"
             ],
             [
              0.5555555555555556,
              "#d8576b"
             ],
             [
              0.6666666666666666,
              "#ed7953"
             ],
             [
              0.7777777777777778,
              "#fb9f3a"
             ],
             [
              0.8888888888888888,
              "#fdca26"
             ],
             [
              1,
              "#f0f921"
             ]
            ],
            "type": "histogram2d"
           }
          ],
          "histogram2dcontour": [
           {
            "colorbar": {
             "outlinewidth": 0,
             "ticks": ""
            },
            "colorscale": [
             [
              0,
              "#0d0887"
             ],
             [
              0.1111111111111111,
              "#46039f"
             ],
             [
              0.2222222222222222,
              "#7201a8"
             ],
             [
              0.3333333333333333,
              "#9c179e"
             ],
             [
              0.4444444444444444,
              "#bd3786"
             ],
             [
              0.5555555555555556,
              "#d8576b"
             ],
             [
              0.6666666666666666,
              "#ed7953"
             ],
             [
              0.7777777777777778,
              "#fb9f3a"
             ],
             [
              0.8888888888888888,
              "#fdca26"
             ],
             [
              1,
              "#f0f921"
             ]
            ],
            "type": "histogram2dcontour"
           }
          ],
          "mesh3d": [
           {
            "colorbar": {
             "outlinewidth": 0,
             "ticks": ""
            },
            "type": "mesh3d"
           }
          ],
          "parcoords": [
           {
            "line": {
             "colorbar": {
              "outlinewidth": 0,
              "ticks": ""
             }
            },
            "type": "parcoords"
           }
          ],
          "pie": [
           {
            "automargin": true,
            "type": "pie"
           }
          ],
          "scatter": [
           {
            "marker": {
             "line": {
              "color": "#283442"
             }
            },
            "type": "scatter"
           }
          ],
          "scatter3d": [
           {
            "line": {
             "colorbar": {
              "outlinewidth": 0,
              "ticks": ""
             }
            },
            "marker": {
             "colorbar": {
              "outlinewidth": 0,
              "ticks": ""
             }
            },
            "type": "scatter3d"
           }
          ],
          "scattercarpet": [
           {
            "marker": {
             "colorbar": {
              "outlinewidth": 0,
              "ticks": ""
             }
            },
            "type": "scattercarpet"
           }
          ],
          "scattergeo": [
           {
            "marker": {
             "colorbar": {
              "outlinewidth": 0,
              "ticks": ""
             }
            },
            "type": "scattergeo"
           }
          ],
          "scattergl": [
           {
            "marker": {
             "line": {
              "color": "#283442"
             }
            },
            "type": "scattergl"
           }
          ],
          "scattermapbox": [
           {
            "marker": {
             "colorbar": {
              "outlinewidth": 0,
              "ticks": ""
             }
            },
            "type": "scattermapbox"
           }
          ],
          "scatterpolar": [
           {
            "marker": {
             "colorbar": {
              "outlinewidth": 0,
              "ticks": ""
             }
            },
            "type": "scatterpolar"
           }
          ],
          "scatterpolargl": [
           {
            "marker": {
             "colorbar": {
              "outlinewidth": 0,
              "ticks": ""
             }
            },
            "type": "scatterpolargl"
           }
          ],
          "scatterternary": [
           {
            "marker": {
             "colorbar": {
              "outlinewidth": 0,
              "ticks": ""
             }
            },
            "type": "scatterternary"
           }
          ],
          "surface": [
           {
            "colorbar": {
             "outlinewidth": 0,
             "ticks": ""
            },
            "colorscale": [
             [
              0,
              "#0d0887"
             ],
             [
              0.1111111111111111,
              "#46039f"
             ],
             [
              0.2222222222222222,
              "#7201a8"
             ],
             [
              0.3333333333333333,
              "#9c179e"
             ],
             [
              0.4444444444444444,
              "#bd3786"
             ],
             [
              0.5555555555555556,
              "#d8576b"
             ],
             [
              0.6666666666666666,
              "#ed7953"
             ],
             [
              0.7777777777777778,
              "#fb9f3a"
             ],
             [
              0.8888888888888888,
              "#fdca26"
             ],
             [
              1,
              "#f0f921"
             ]
            ],
            "type": "surface"
           }
          ],
          "table": [
           {
            "cells": {
             "fill": {
              "color": "#506784"
             },
             "line": {
              "color": "rgb(17,17,17)"
             }
            },
            "header": {
             "fill": {
              "color": "#2a3f5f"
             },
             "line": {
              "color": "rgb(17,17,17)"
             }
            },
            "type": "table"
           }
          ]
         },
         "layout": {
          "annotationdefaults": {
           "arrowcolor": "#f2f5fa",
           "arrowhead": 0,
           "arrowwidth": 1
          },
          "autotypenumbers": "strict",
          "coloraxis": {
           "colorbar": {
            "outlinewidth": 0,
            "ticks": ""
           }
          },
          "colorscale": {
           "diverging": [
            [
             0,
             "#8e0152"
            ],
            [
             0.1,
             "#c51b7d"
            ],
            [
             0.2,
             "#de77ae"
            ],
            [
             0.3,
             "#f1b6da"
            ],
            [
             0.4,
             "#fde0ef"
            ],
            [
             0.5,
             "#f7f7f7"
            ],
            [
             0.6,
             "#e6f5d0"
            ],
            [
             0.7,
             "#b8e186"
            ],
            [
             0.8,
             "#7fbc41"
            ],
            [
             0.9,
             "#4d9221"
            ],
            [
             1,
             "#276419"
            ]
           ],
           "sequential": [
            [
             0,
             "#0d0887"
            ],
            [
             0.1111111111111111,
             "#46039f"
            ],
            [
             0.2222222222222222,
             "#7201a8"
            ],
            [
             0.3333333333333333,
             "#9c179e"
            ],
            [
             0.4444444444444444,
             "#bd3786"
            ],
            [
             0.5555555555555556,
             "#d8576b"
            ],
            [
             0.6666666666666666,
             "#ed7953"
            ],
            [
             0.7777777777777778,
             "#fb9f3a"
            ],
            [
             0.8888888888888888,
             "#fdca26"
            ],
            [
             1,
             "#f0f921"
            ]
           ],
           "sequentialminus": [
            [
             0,
             "#0d0887"
            ],
            [
             0.1111111111111111,
             "#46039f"
            ],
            [
             0.2222222222222222,
             "#7201a8"
            ],
            [
             0.3333333333333333,
             "#9c179e"
            ],
            [
             0.4444444444444444,
             "#bd3786"
            ],
            [
             0.5555555555555556,
             "#d8576b"
            ],
            [
             0.6666666666666666,
             "#ed7953"
            ],
            [
             0.7777777777777778,
             "#fb9f3a"
            ],
            [
             0.8888888888888888,
             "#fdca26"
            ],
            [
             1,
             "#f0f921"
            ]
           ]
          },
          "colorway": [
           "#636efa",
           "#EF553B",
           "#00cc96",
           "#ab63fa",
           "#FFA15A",
           "#19d3f3",
           "#FF6692",
           "#B6E880",
           "#FF97FF",
           "#FECB52"
          ],
          "font": {
           "color": "#f2f5fa"
          },
          "geo": {
           "bgcolor": "rgb(17,17,17)",
           "lakecolor": "rgb(17,17,17)",
           "landcolor": "rgb(17,17,17)",
           "showlakes": true,
           "showland": true,
           "subunitcolor": "#506784"
          },
          "hoverlabel": {
           "align": "left"
          },
          "hovermode": "closest",
          "mapbox": {
           "style": "dark"
          },
          "paper_bgcolor": "rgb(17,17,17)",
          "plot_bgcolor": "rgb(17,17,17)",
          "polar": {
           "angularaxis": {
            "gridcolor": "#506784",
            "linecolor": "#506784",
            "ticks": ""
           },
           "bgcolor": "rgb(17,17,17)",
           "radialaxis": {
            "gridcolor": "#506784",
            "linecolor": "#506784",
            "ticks": ""
           }
          },
          "scene": {
           "xaxis": {
            "backgroundcolor": "rgb(17,17,17)",
            "gridcolor": "#506784",
            "gridwidth": 2,
            "linecolor": "#506784",
            "showbackground": true,
            "ticks": "",
            "zerolinecolor": "#C8D4E3"
           },
           "yaxis": {
            "backgroundcolor": "rgb(17,17,17)",
            "gridcolor": "#506784",
            "gridwidth": 2,
            "linecolor": "#506784",
            "showbackground": true,
            "ticks": "",
            "zerolinecolor": "#C8D4E3"
           },
           "zaxis": {
            "backgroundcolor": "rgb(17,17,17)",
            "gridcolor": "#506784",
            "gridwidth": 2,
            "linecolor": "#506784",
            "showbackground": true,
            "ticks": "",
            "zerolinecolor": "#C8D4E3"
           }
          },
          "shapedefaults": {
           "line": {
            "color": "#f2f5fa"
           }
          },
          "sliderdefaults": {
           "bgcolor": "#C8D4E3",
           "bordercolor": "rgb(17,17,17)",
           "borderwidth": 1,
           "tickwidth": 0
          },
          "ternary": {
           "aaxis": {
            "gridcolor": "#506784",
            "linecolor": "#506784",
            "ticks": ""
           },
           "baxis": {
            "gridcolor": "#506784",
            "linecolor": "#506784",
            "ticks": ""
           },
           "bgcolor": "rgb(17,17,17)",
           "caxis": {
            "gridcolor": "#506784",
            "linecolor": "#506784",
            "ticks": ""
           }
          },
          "title": {
           "x": 0.05
          },
          "updatemenudefaults": {
           "bgcolor": "#506784",
           "borderwidth": 0
          },
          "xaxis": {
           "automargin": true,
           "gridcolor": "#283442",
           "linecolor": "#506784",
           "ticks": "",
           "title": {
            "standoff": 15
           },
           "zerolinecolor": "#283442",
           "zerolinewidth": 2
          },
          "yaxis": {
           "automargin": true,
           "gridcolor": "#283442",
           "linecolor": "#506784",
           "ticks": "",
           "title": {
            "standoff": 15
           },
           "zerolinecolor": "#283442",
           "zerolinewidth": 2
          }
         }
        },
        "xaxis": {
         "anchor": "y",
         "domain": [
          0,
          1
         ],
         "title": {
          "text": "Time"
         }
        },
        "yaxis": {
         "anchor": "x",
         "domain": [
          0,
          1
         ],
         "title": {
          "text": "value"
         }
        }
       }
      }
     },
     "metadata": {},
     "output_type": "display_data"
    }
   ],
   "source": [
    "import plotly.express as px\n",
    "Data_glob = pd.pivot_table(Data,index='año',values=['total_gdp_million','Poblacion','ECI'],aggfunc='sum').reset_index()\n",
    "Data_glob['Time'] = pd.to_datetime(Data_glob['año'])\n",
    "Data_glob = Data_glob.sort_values(by='Time')\n",
    "fig = px.line(Data_glob, x=\"Time\", y=[\"total_gdp_million\"], template = 'plotly_dark')\n",
    "fig.show()\n",
    "# Se crea una nueva variables que es Data_glob, la cual resume el comportamiento de todos los paises a lo largo de los años\n",
    "# usando una Pivot-Table, luego se crea la columna \"Time\", la cual depende de la columna año que fue creada anteriormente (es la concatenacion de año_x + \"-01\")\n",
    "# para de este modo tener una variable temporal, se ordenan los valores por la columna \"Time\" y se realiza la grafica\n",
    "# La grafica se hace con el fin de ver com es el comportamiento general de los paises a lo largo del tiempo"
   ]
  },
  {
   "cell_type": "code",
   "execution_count": 28,
   "metadata": {},
   "outputs": [
    {
     "name": "stdout",
     "output_type": "stream",
     "text": [
      "El Estadistico D-Fuller es: -1.1793378898436007\n",
      "El p-valor es de: 0.6824202844756092. No rechazo H0, por lo que la serie para el PIB tiene comportamiento NO Estacional\n"
     ]
    }
   ],
   "source": [
    "D_fuller = adfuller(Data_glob.total_gdp_million,autolag='AIC')\n",
    "print(f'El Estadistico D-Fuller es: {D_fuller[0]}')\n",
    "print(f'El p-valor es de: {D_fuller[1]}. No rechazo H0, por lo que la serie para el PIB tiene comportamiento NO Estacional')\n",
    "# Para la columna \"total_gdp_million\" se hace la prueba de estacionariedad de Dickey Fuller, esta lo que busca es \n",
    "# ver si un conjunto de datos tiene o no un comportamiento estacional, de esta forma se vuelve a confirmar \n",
    "# que existe autocorrelacion y que los datos no tienen una media constante, sino que esta cambia con el tiempo"
   ]
  },
  {
   "cell_type": "code",
   "execution_count": 29,
   "metadata": {},
   "outputs": [
    {
     "name": "stdout",
     "output_type": "stream",
     "text": [
      "El Estadistico D-Fuller es: -2.964283780870511\n",
      "El p-valor es de: 0.03836715950778153. rechazo H0, por lo que la serie para la Poblacion es Estacional\n"
     ]
    }
   ],
   "source": [
    "D_fuller = adfuller(Data_glob.Poblacion,autolag='AIC')\n",
    "print(f'El Estadistico D-Fuller es: {D_fuller[0]}')\n",
    "print(f'El p-valor es de: {D_fuller[1]}. rechazo H0, por lo que la serie para la Poblacion es Estacional')\n",
    "# Para la columna \"Poblacion\" se hace la prueba de estacionariedad de Dickey Fuller, esta lo que busca es \n",
    "# ver si un conjunto de datos tiene o no un comportamiento estacional, de esta forma se vuelve a confirmar \n",
    "# que existe autocorrelacion y que los datos no tienen una media constante, sino que esta cambia con el tiempo"
   ]
  },
  {
   "cell_type": "code",
   "execution_count": 30,
   "metadata": {},
   "outputs": [
    {
     "name": "stdout",
     "output_type": "stream",
     "text": [
      "El Estadistico D-Fuller es: -1.1553311905910721\n",
      "El p-valor es de: 0.6925101184130171. No rechazo H0, por lo que la serie tiene comportamiento NO Estacional\n"
     ]
    }
   ],
   "source": [
    "D_fuller = adfuller(Data_glob.ECI,autolag='AIC')\n",
    "print(f'El Estadistico D-Fuller es: {D_fuller[0]}')\n",
    "print(f'El p-valor es de: {D_fuller[1]}. No rechazo H0, por lo que la serie tiene comportamiento NO Estacional')\n",
    "# Para la columna \"ECI\" se hace la prueba de estacionariedad de Dickey Fuller, esta lo que busca es \n",
    "# ver si un conjunto de datos tiene o no un comportamiento estacional, de esta forma se vuelve a confirmar \n",
    "# que existe autocorrelacion y que los datos no tienen una media constante, sino que esta cambia con el tiempo"
   ]
  },
  {
   "cell_type": "markdown",
   "metadata": {},
   "source": [
    "El valor de p > 0.05 NO rechaza la hipotesis Nula, por lo que se puede decir que la serie de tiempo NO tiene un comportamiento estacional"
   ]
  },
  {
   "cell_type": "code",
   "execution_count": 31,
   "metadata": {},
   "outputs": [
    {
     "data": {
      "image/png": "[encoded data removed]",
      "text/plain": [
       "<Figure size 720x480 with 2 Axes>"
      ]
     },
     "metadata": {},
     "output_type": "display_data"
    }
   ],
   "source": [
    "plt.rcParams.update({'figure.figsize':(6,4), 'figure.dpi':120})\n",
    "fig,axes = plt.subplots(1,2)\n",
    "axes[0].plot(Data_glob.total_gdp_million);axes[0].set_title('1 AR')\n",
    "plot_acf(Data_glob.total_gdp_million,ax=axes[1],color='g')\n",
    "# Se hace un grafico que muestra el comportamiento de el \"total_gdp_million\" tanto su estacionariedad como su \n",
    "# autocorrelacion"
   ]
  },
  {
   "cell_type": "code",
   "execution_count": 32,
   "metadata": {},
   "outputs": [
    {
     "data": {
      "image/png": "[encoded data removed]",
      "text/plain": [
       "<Figure size 720x480 with 2 Axes>"
      ]
     },
     "metadata": {},
     "output_type": "display_data"
    }
   ],
   "source": [
    "plt.rcParams.update({'figure.figsize':(6,4), 'figure.dpi':120})\n",
    "fig,axes = plt.subplots(1,2)\n",
    "axes[0].plot(Data_glob.total_gdp_million.diff());axes[0].set_title('1 AR')\n",
    "plot_acf(Data_glob.total_gdp_million.diff().dropna(),ax=axes[1],color='g')\n",
    "# Se hace un grafico que muestra el comportamiento de el \"total_gdp_million\" tanto su estacionariedad como su \n",
    "# autocorrelacion, despues de una diferencia, es decir hacer 1 rezago"
   ]
  },
  {
   "cell_type": "code",
   "execution_count": 33,
   "metadata": {},
   "outputs": [
    {
     "data": {
      "image/png": "[encoded data removed]",
      "text/plain": [
       "<Figure size 720x480 with 2 Axes>"
      ]
     },
     "metadata": {},
     "output_type": "display_data"
    }
   ],
   "source": [
    "plt.rcParams.update({'figure.figsize':(6,4), 'figure.dpi':120})\n",
    "fig,axes = plt.subplots(1,2)\n",
    "axes[0].plot(Data_glob.total_gdp_million.diff().diff());axes[00].set_title('2 AR')\n",
    "plot_acf(Data_glob.total_gdp_million.diff().diff().dropna(),ax=axes[1],color='r')\n",
    "# Se hace un grafico que muestra el comportamiento de el \"total_gdp_million\" tanto su estacionariedad como su \n",
    "# autocorrelacion, despues de dos diferencia, es decir hacer 2 rezago"
   ]
  },
  {
   "cell_type": "markdown",
   "metadata": {},
   "source": [
    "### ***Eliminar Autocorrelacion y No estacionariedad***"
   ]
  },
  {
   "cell_type": "code",
   "execution_count": 34,
   "metadata": {},
   "outputs": [],
   "source": [
    "def rezagos(Data,columnas,n,pais):\n",
    "    A = pd.DataFrame()\n",
    "    for i in range(len(columnas)):\n",
    "        \n",
    "        A[columnas[i]] = (Data[Data['Pais_x']==pais])[(columnas[i])].diff(periods=n).dropna()\n",
    "    # A[columnas[1]] = (Data[Data['Pais_x']==pais])[(columnas[1])].diff(periods=n).dropna()\n",
    "        A['Pais'] = pais\n",
    "        A['Ecuador'] = Data[Data['Pais_x']==pais]['Ecuador']\n",
    "        A['Poblacion'] = Data[Data['Pais_x']==pais]['Poblacion']\n",
    "        A['Año'] = Data[Data['Pais_x']==pais]['año_x']\n",
    "    \n",
    "    return A\n",
    "# Se crea una funcion que lo que hace es transfomar la serie temporal en una sin componente de tiempo por medio de\n",
    "# aplicar rezagos, la funcion lo hace, es calcular nuevos datos transformando los datos por medio de \n",
    "# procesos autoregresivos una cantidad de periodos \"n\" la cual corresponde tambhien a la cantidad de datos\n",
    "# \"eliminados\""
   ]
  },
  {
   "cell_type": "code",
   "execution_count": 35,
   "metadata": {},
   "outputs": [
    {
     "data": {
      "application/vnd.plotly.v1+json": {
       "config": {
        "plotlyServerURL": "https://plot.ly"
       },
       "data": [
        {
         "hovertemplate": "variable=total_gdp_million<br>Time=%{x}<br>value=%{y}<extra></extra>",
         "legendgroup": "total_gdp_million",
         "line": {
          "color": "#636efa",
          "dash": "solid"
         },
         "marker": {
          "symbol": "circle"
         },
         "mode": "lines",
         "name": "total_gdp_million",
         "orientation": "v",
         "showlegend": true,
         "type": "scatter",
         "x": [
          "2000-01-01T00:00:00",
          "2001-01-01T00:00:00",
          "2002-01-01T00:00:00",
          "2003-01-01T00:00:00",
          "2004-01-01T00:00:00",
          "2005-01-01T00:00:00",
          "2006-01-01T00:00:00",
          "2007-01-01T00:00:00",
          "2008-01-01T00:00:00",
          "2009-01-01T00:00:00",
          "2010-01-01T00:00:00",
          "2011-01-01T00:00:00",
          "2012-01-01T00:00:00",
          "2013-01-01T00:00:00",
          "2014-01-01T00:00:00",
          "2015-01-01T00:00:00",
          "2016-01-01T00:00:00",
          "2017-01-01T00:00:00",
          "2018-01-01T00:00:00",
          "2019-01-01T00:00:00",
          "2020-01-01T00:00:00"
         ],
         "xaxis": "x",
         "y": [
          -11368989.616851998,
          -22947906.951682,
          -23049086.510296997,
          -21269432.524315998,
          -17758811.649462998,
          -9878646.90498,
          -13341682.45555,
          -8630937.18779,
          -12860773.455014,
          -13788254.129596002,
          4360192.46071,
          5213536.813371,
          5369813.361707,
          6947903.137912,
          1204122.801477,
          2931333.409835,
          3558790.0414789994,
          2996331.858231,
          3486026.983296001,
          1751066.3732599998,
          976222.0891559992
         ],
         "yaxis": "y"
        }
       ],
       "layout": {
        "legend": {
         "title": {
          "text": "variable"
         },
         "tracegroupgap": 0
        },
        "margin": {
         "t": 60
        },
        "template": {
         "data": {
          "bar": [
           {
            "error_x": {
             "color": "#f2f5fa"
            },
            "error_y": {
             "color": "#f2f5fa"
            },
            "marker": {
             "line": {
              "color": "rgb(17,17,17)",
              "width": 0.5
             },
             "pattern": {
              "fillmode": "overlay",
              "size": 10,
              "solidity": 0.2
             }
            },
            "type": "bar"
           }
          ],
          "barpolar": [
           {
            "marker": {
             "line": {
              "color": "rgb(17,17,17)",
              "width": 0.5
             },
             "pattern": {
              "fillmode": "overlay",
              "size": 10,
              "solidity": 0.2
             }
            },
            "type": "barpolar"
           }
          ],
          "carpet": [
           {
            "aaxis": {
             "endlinecolor": "#A2B1C6",
             "gridcolor": "#506784",
             "linecolor": "#506784",
             "minorgridcolor": "#506784",
             "startlinecolor": "#A2B1C6"
            },
            "baxis": {
             "endlinecolor": "#A2B1C6",
             "gridcolor": "#506784",
             "linecolor": "#506784",
             "minorgridcolor": "#506784",
             "startlinecolor": "#A2B1C6"
            },
            "type": "carpet"
           }
          ],
          "choropleth": [
           {
            "colorbar": {
             "outlinewidth": 0,
             "ticks": ""
            },
            "type": "choropleth"
           }
          ],
          "contour": [
           {
            "colorbar": {
             "outlinewidth": 0,
             "ticks": ""
            },
            "colorscale": [
             [
              0,
              "#0d0887"
             ],
             [
              0.1111111111111111,
              "#46039f"
             ],
             [
              0.2222222222222222,
              "#7201a8"
             ],
             [
              0.3333333333333333,
              "#9c179e"
             ],
             [
              0.4444444444444444,
              "#bd3786"
             ],
             [
              0.5555555555555556,
              "#d8576b"
             ],
             [
              0.6666666666666666,
              "#ed7953"
             ],
             [
              0.7777777777777778,
              "#fb9f3a"
             ],
             [
              0.8888888888888888,
              "#fdca26"
             ],
             [
              1,
              "#f0f921"
             ]
            ],
            "type": "contour"
           }
          ],
          "contourcarpet": [
           {
            "colorbar": {
             "outlinewidth": 0,
             "ticks": ""
            },
            "type": "contourcarpet"
           }
          ],
          "heatmap": [
           {
            "colorbar": {
             "outlinewidth": 0,
             "ticks": ""
            },
            "colorscale": [
             [
              0,
              "#0d0887"
             ],
             [
              0.1111111111111111,
              "#46039f"
             ],
             [
              0.2222222222222222,
              "#7201a8"
             ],
             [
              0.3333333333333333,
              "#9c179e"
             ],
             [
              0.4444444444444444,
              "#bd3786"
             ],
             [
              0.5555555555555556,
              "#d8576b"
             ],
             [
              0.6666666666666666,
              "#ed7953"
             ],
             [
              0.7777777777777778,
              "#fb9f3a"
             ],
             [
              0.8888888888888888,
              "#fdca26"
             ],
             [
              1,
              "#f0f921"
             ]
            ],
            "type": "heatmap"
           }
          ],
          "heatmapgl": [
           {
            "colorbar": {
             "outlinewidth": 0,
             "ticks": ""
            },
            "colorscale": [
             [
              0,
              "#0d0887"
             ],
             [
              0.1111111111111111,
              "#46039f"
             ],
             [
              0.2222222222222222,
              "#7201a8"
             ],
             [
              0.3333333333333333,
              "#9c179e"
             ],
             [
              0.4444444444444444,
              "#bd3786"
             ],
             [
              0.5555555555555556,
              "#d8576b"
             ],
             [
              0.6666666666666666,
              "#ed7953"
             ],
             [
              0.7777777777777778,
              "#fb9f3a"
             ],
             [
              0.8888888888888888,
              "#fdca26"
             ],
             [
              1,
              "#f0f921"
             ]
            ],
            "type": "heatmapgl"
           }
          ],
          "histogram": [
           {
            "marker": {
             "pattern": {
              "fillmode": "overlay",
              "size": 10,
              "solidity": 0.2
             }
            },
            "type": "histogram"
           }
          ],
          "histogram2d": [
           {
            "colorbar": {
             "outlinewidth": 0,
             "ticks": ""
            },
            "colorscale": [
             [
              0,
              "#0d0887"
             ],
             [
              0.1111111111111111,
              "#46039f"
             ],
             [
              0.2222222222222222,
              "#7201a8"
             ],
             [
              0.3333333333333333,
              "#9c179e"
             ],
             [
              0.4444444444444444,
              "#bd3786"
             ],
             [
              0.5555555555555556,
              "#d8576b"
             ],
             [
              0.6666666666666666,
              "#ed7953"
             ],
             [
              0.7777777777777778,
              "#fb9f3a"
             ],
             [
              0.8888888888888888,
              "#fdca26"
             ],
             [
              1,
              "#f0f921"
             ]
            ],
            "type": "histogram2d"
           }
          ],
          "histogram2dcontour": [
           {
            "colorbar": {
             "outlinewidth": 0,
             "ticks": ""
            },
            "colorscale": [
             [
              0,
              "#0d0887"
             ],
             [
              0.1111111111111111,
              "#46039f"
             ],
             [
              0.2222222222222222,
              "#7201a8"
             ],
             [
              0.3333333333333333,
              "#9c179e"
             ],
             [
              0.4444444444444444,
              "#bd3786"
             ],
             [
              0.5555555555555556,
              "#d8576b"
             ],
             [
              0.6666666666666666,
              "#ed7953"
             ],
             [
              0.7777777777777778,
              "#fb9f3a"
             ],
             [
              0.8888888888888888,
              "#fdca26"
             ],
             [
              1,
              "#f0f921"
             ]
            ],
            "type": "histogram2dcontour"
           }
          ],
          "mesh3d": [
           {
            "colorbar": {
             "outlinewidth": 0,
             "ticks": ""
            },
            "type": "mesh3d"
           }
          ],
          "parcoords": [
           {
            "line": {
             "colorbar": {
              "outlinewidth": 0,
              "ticks": ""
             }
            },
            "type": "parcoords"
           }
          ],
          "pie": [
           {
            "automargin": true,
            "type": "pie"
           }
          ],
          "scatter": [
           {
            "marker": {
             "line": {
              "color": "#283442"
             }
            },
            "type": "scatter"
           }
          ],
          "scatter3d": [
           {
            "line": {
             "colorbar": {
              "outlinewidth": 0,
              "ticks": ""
             }
            },
            "marker": {
             "colorbar": {
              "outlinewidth": 0,
              "ticks": ""
             }
            },
            "type": "scatter3d"
           }
          ],
          "scattercarpet": [
           {
            "marker": {
             "colorbar": {
              "outlinewidth": 0,
              "ticks": ""
             }
            },
            "type": "scattercarpet"
           }
          ],
          "scattergeo": [
           {
            "marker": {
             "colorbar": {
              "outlinewidth": 0,
              "ticks": ""
             }
            },
            "type": "scattergeo"
           }
          ],
          "scattergl": [
           {
            "marker": {
             "line": {
              "color": "#283442"
             }
            },
            "type": "scattergl"
           }
          ],
          "scattermapbox": [
           {
            "marker": {
             "colorbar": {
              "outlinewidth": 0,
              "ticks": ""
             }
            },
            "type": "scattermapbox"
           }
          ],
          "scatterpolar": [
           {
            "marker": {
             "colorbar": {
              "outlinewidth": 0,
              "ticks": ""
             }
            },
            "type": "scatterpolar"
           }
          ],
          "scatterpolargl": [
           {
            "marker": {
             "colorbar": {
              "outlinewidth": 0,
              "ticks": ""
             }
            },
            "type": "scatterpolargl"
           }
          ],
          "scatterternary": [
           {
            "marker": {
             "colorbar": {
              "outlinewidth": 0,
              "ticks": ""
             }
            },
            "type": "scatterternary"
           }
          ],
          "surface": [
           {
            "colorbar": {
             "outlinewidth": 0,
             "ticks": ""
            },
            "colorscale": [
             [
              0,
              "#0d0887"
             ],
             [
              0.1111111111111111,
              "#46039f"
             ],
             [
              0.2222222222222222,
              "#7201a8"
             ],
             [
              0.3333333333333333,
              "#9c179e"
             ],
             [
              0.4444444444444444,
              "#bd3786"
             ],
             [
              0.5555555555555556,
              "#d8576b"
             ],
             [
              0.6666666666666666,
              "#ed7953"
             ],
             [
              0.7777777777777778,
              "#fb9f3a"
             ],
             [
              0.8888888888888888,
              "#fdca26"
             ],
             [
              1,
              "#f0f921"
             ]
            ],
            "type": "surface"
           }
          ],
          "table": [
           {
            "cells": {
             "fill": {
              "color": "#506784"
             },
             "line": {
              "color": "rgb(17,17,17)"
             }
            },
            "header": {
             "fill": {
              "color": "#2a3f5f"
             },
             "line": {
              "color": "rgb(17,17,17)"
             }
            },
            "type": "table"
           }
          ]
         },
         "layout": {
          "annotationdefaults": {
           "arrowcolor": "#f2f5fa",
           "arrowhead": 0,
           "arrowwidth": 1
          },
          "autotypenumbers": "strict",
          "coloraxis": {
           "colorbar": {
            "outlinewidth": 0,
            "ticks": ""
           }
          },
          "colorscale": {
           "diverging": [
            [
             0,
             "#8e0152"
            ],
            [
             0.1,
             "#c51b7d"
            ],
            [
             0.2,
             "#de77ae"
            ],
            [
             0.3,
             "#f1b6da"
            ],
            [
             0.4,
             "#fde0ef"
            ],
            [
             0.5,
             "#f7f7f7"
            ],
            [
             0.6,
             "#e6f5d0"
            ],
            [
             0.7,
             "#b8e186"
            ],
            [
             0.8,
             "#7fbc41"
            ],
            [
             0.9,
             "#4d9221"
            ],
            [
             1,
             "#276419"
            ]
           ],
           "sequential": [
            [
             0,
             "#0d0887"
            ],
            [
             0.1111111111111111,
             "#46039f"
            ],
            [
             0.2222222222222222,
             "#7201a8"
            ],
            [
             0.3333333333333333,
             "#9c179e"
            ],
            [
             0.4444444444444444,
             "#bd3786"
            ],
            [
             0.5555555555555556,
             "#d8576b"
            ],
            [
             0.6666666666666666,
             "#ed7953"
            ],
            [
             0.7777777777777778,
             "#fb9f3a"
            ],
            [
             0.8888888888888888,
             "#fdca26"
            ],
            [
             1,
             "#f0f921"
            ]
           ],
           "sequentialminus": [
            [
             0,
             "#0d0887"
            ],
            [
             0.1111111111111111,
             "#46039f"
            ],
            [
             0.2222222222222222,
             "#7201a8"
            ],
            [
             0.3333333333333333,
             "#9c179e"
            ],
            [
             0.4444444444444444,
             "#bd3786"
            ],
            [
             0.5555555555555556,
             "#d8576b"
            ],
            [
             0.6666666666666666,
             "#ed7953"
            ],
            [
             0.7777777777777778,
             "#fb9f3a"
            ],
            [
             0.8888888888888888,
             "#fdca26"
            ],
            [
             1,
             "#f0f921"
            ]
           ]
          },
          "colorway": [
           "#636efa",
           "#EF553B",
           "#00cc96",
           "#ab63fa",
           "#FFA15A",
           "#19d3f3",
           "#FF6692",
           "#B6E880",
           "#FF97FF",
           "#FECB52"
          ],
          "font": {
           "color": "#f2f5fa"
          },
          "geo": {
           "bgcolor": "rgb(17,17,17)",
           "lakecolor": "rgb(17,17,17)",
           "landcolor": "rgb(17,17,17)",
           "showlakes": true,
           "showland": true,
           "subunitcolor": "#506784"
          },
          "hoverlabel": {
           "align": "left"
          },
          "hovermode": "closest",
          "mapbox": {
           "style": "dark"
          },
          "paper_bgcolor": "rgb(17,17,17)",
          "plot_bgcolor": "rgb(17,17,17)",
          "polar": {
           "angularaxis": {
            "gridcolor": "#506784",
            "linecolor": "#506784",
            "ticks": ""
           },
           "bgcolor": "rgb(17,17,17)",
           "radialaxis": {
            "gridcolor": "#506784",
            "linecolor": "#506784",
            "ticks": ""
           }
          },
          "scene": {
           "xaxis": {
            "backgroundcolor": "rgb(17,17,17)",
            "gridcolor": "#506784",
            "gridwidth": 2,
            "linecolor": "#506784",
            "showbackground": true,
            "ticks": "",
            "zerolinecolor": "#C8D4E3"
           },
           "yaxis": {
            "backgroundcolor": "rgb(17,17,17)",
            "gridcolor": "#506784",
            "gridwidth": 2,
            "linecolor": "#506784",
            "showbackground": true,
            "ticks": "",
            "zerolinecolor": "#C8D4E3"
           },
           "zaxis": {
            "backgroundcolor": "rgb(17,17,17)",
            "gridcolor": "#506784",
            "gridwidth": 2,
            "linecolor": "#506784",
            "showbackground": true,
            "ticks": "",
            "zerolinecolor": "#C8D4E3"
           }
          },
          "shapedefaults": {
           "line": {
            "color": "#f2f5fa"
           }
          },
          "sliderdefaults": {
           "bgcolor": "#C8D4E3",
           "bordercolor": "rgb(17,17,17)",
           "borderwidth": 1,
           "tickwidth": 0
          },
          "ternary": {
           "aaxis": {
            "gridcolor": "#506784",
            "linecolor": "#506784",
            "ticks": ""
           },
           "baxis": {
            "gridcolor": "#506784",
            "linecolor": "#506784",
            "ticks": ""
           },
           "bgcolor": "rgb(17,17,17)",
           "caxis": {
            "gridcolor": "#506784",
            "linecolor": "#506784",
            "ticks": ""
           }
          },
          "title": {
           "x": 0.05
          },
          "updatemenudefaults": {
           "bgcolor": "#506784",
           "borderwidth": 0
          },
          "xaxis": {
           "automargin": true,
           "gridcolor": "#283442",
           "linecolor": "#506784",
           "ticks": "",
           "title": {
            "standoff": 15
           },
           "zerolinecolor": "#283442",
           "zerolinewidth": 2
          },
          "yaxis": {
           "automargin": true,
           "gridcolor": "#283442",
           "linecolor": "#506784",
           "ticks": "",
           "title": {
            "standoff": 15
           },
           "zerolinecolor": "#283442",
           "zerolinewidth": 2
          }
         }
        },
        "xaxis": {
         "anchor": "y",
         "domain": [
          0,
          1
         ],
         "title": {
          "text": "Time"
         }
        },
        "yaxis": {
         "anchor": "x",
         "domain": [
          0,
          1
         ],
         "title": {
          "text": "value"
         }
        }
       }
      }
     },
     "metadata": {},
     "output_type": "display_data"
    }
   ],
   "source": [
    "n =  10\n",
    "pais_unico = list(set(Data_final['Pais_x']))\n",
    "AUX = []\n",
    "Data_no_auto = pd.DataFrame()\n",
    "for x in range(len(set(Data_final['Pais_x']))):\n",
    "    AUX.append(rezagos(Data_final,columnas = ['total_gdp_million','ECI'],n=n,pais=pais_unico[x]))\n",
    "Data_no_auto = pd.concat(AUX,ignore_index= True)\n",
    "\n",
    "data_glob = Data_no_auto.copy()\n",
    "data_glob['Año'] = [\"\".join([str(data_glob.iloc[i,4]),\"-01\"]) for i in range(len(data_glob.Año))]\n",
    "data_glob = pd.pivot_table(data_glob,index='Año',values=['total_gdp_million','Poblacion','ECI'],aggfunc='sum').reset_index()\n",
    "data_glob['Time'] = pd.to_datetime(data_glob['Año'])\n",
    "data_glob = data_glob.sort_values(by='Time')\n",
    "fig = px.line(data_glob, x=\"Time\", y=[\"total_gdp_million\"], template = 'plotly_dark')\n",
    "fig.show()\n",
    "# Se crea un nuevo data frame el cual por medio de un ciclo for hace uso de la funion rezagos, para eliminar esa componente temporal\n",
    "# en cada columna a la cual se le asigne ('total_gdp_million','ECI'), posterior a eso se crea de nuevo una columna \"Año\" la cual es la concatenacion\n",
    "# del año + \"-01\", para despues pasarla a un formato de tiempo y poder hacer la grafica de como luce \n",
    "# el comportamieto del PIB sin componentes temporales"
   ]
  },
  {
   "cell_type": "markdown",
   "metadata": {},
   "source": [
    "## **Etapa 3: Crear y Evaluar Modelos con Pycaret**"
   ]
  },
  {
   "cell_type": "code",
   "execution_count": 36,
   "metadata": {},
   "outputs": [],
   "source": [
    "from pycaret.regression import *\n",
    "from pycaret.regression import RegressionExperiment\n",
    "exp = RegressionExperiment()\n",
    "# Se importan las librearias de pycaret para realizar el proceso del analisis"
   ]
  },
  {
   "cell_type": "markdown",
   "metadata": {},
   "source": [
    "### ***Data***"
   ]
  },
  {
   "cell_type": "code",
   "execution_count": 37,
   "metadata": {},
   "outputs": [],
   "source": [
    "std = StandardScaler()\n",
    "std.fit(Data_final[['total_gdp_million']])\n",
    "Data_final['total_gdp_million']= std.transform(Data_final[['total_gdp_million']])\n",
    "std.fit(Data_final[['Poblacion']])\n",
    "Data_final['Poblacion']= std.transform(Data_final[['Poblacion']])\n",
    "Data_final_2  = Data_final.drop(columns=['Pais_x'],axis=1)\n",
    "# Se crea un nuevo DataFrame el el cual no se incluya el pais, para solo tener datos numericos para los analisis"
   ]
  },
  {
   "cell_type": "code",
   "execution_count": 38,
   "metadata": {},
   "outputs": [
    {
     "data": {
      "text/html": [
       "<style type=\"text/css\">\n",
       "</style>\n",
       "<table id=\"T_e8968\">\n",
       "  <thead>\n",
       "    <tr>\n",
       "      <th class=\"blank level0\" >&nbsp;</th>\n",
       "      <th id=\"T_e8968_level0_col0\" class=\"col_heading level0 col0\" >Description</th>\n",
       "      <th id=\"T_e8968_level0_col1\" class=\"col_heading level0 col1\" >Value</th>\n",
       "    </tr>\n",
       "  </thead>\n",
       "  <tbody>\n",
       "    <tr>\n",
       "      <th id=\"T_e8968_level0_row0\" class=\"row_heading level0 row0\" >0</th>\n",
       "      <td id=\"T_e8968_row0_col0\" class=\"data row0 col0\" >Session id</td>\n",
       "      <td id=\"T_e8968_row0_col1\" class=\"data row0 col1\" >123</td>\n",
       "    </tr>\n",
       "    <tr>\n",
       "      <th id=\"T_e8968_level0_row1\" class=\"row_heading level0 row1\" >1</th>\n",
       "      <td id=\"T_e8968_row1_col0\" class=\"data row1 col0\" >Target</td>\n",
       "      <td id=\"T_e8968_row1_col1\" class=\"data row1 col1\" >total_gdp_million</td>\n",
       "    </tr>\n",
       "    <tr>\n",
       "      <th id=\"T_e8968_level0_row2\" class=\"row_heading level0 row2\" >2</th>\n",
       "      <td id=\"T_e8968_row2_col0\" class=\"data row2 col0\" >Target type</td>\n",
       "      <td id=\"T_e8968_row2_col1\" class=\"data row2 col1\" >Regression</td>\n",
       "    </tr>\n",
       "    <tr>\n",
       "      <th id=\"T_e8968_level0_row3\" class=\"row_heading level0 row3\" >3</th>\n",
       "      <td id=\"T_e8968_row3_col0\" class=\"data row3 col0\" >Original data shape</td>\n",
       "      <td id=\"T_e8968_row3_col1\" class=\"data row3 col1\" >(1575, 5)</td>\n",
       "    </tr>\n",
       "    <tr>\n",
       "      <th id=\"T_e8968_level0_row4\" class=\"row_heading level0 row4\" >4</th>\n",
       "      <td id=\"T_e8968_row4_col0\" class=\"data row4 col0\" >Transformed data shape</td>\n",
       "      <td id=\"T_e8968_row4_col1\" class=\"data row4 col1\" >(1575, 5)</td>\n",
       "    </tr>\n",
       "    <tr>\n",
       "      <th id=\"T_e8968_level0_row5\" class=\"row_heading level0 row5\" >5</th>\n",
       "      <td id=\"T_e8968_row5_col0\" class=\"data row5 col0\" >Transformed train set shape</td>\n",
       "      <td id=\"T_e8968_row5_col1\" class=\"data row5 col1\" >(1102, 5)</td>\n",
       "    </tr>\n",
       "    <tr>\n",
       "      <th id=\"T_e8968_level0_row6\" class=\"row_heading level0 row6\" >6</th>\n",
       "      <td id=\"T_e8968_row6_col0\" class=\"data row6 col0\" >Transformed test set shape</td>\n",
       "      <td id=\"T_e8968_row6_col1\" class=\"data row6 col1\" >(473, 5)</td>\n",
       "    </tr>\n",
       "    <tr>\n",
       "      <th id=\"T_e8968_level0_row7\" class=\"row_heading level0 row7\" >7</th>\n",
       "      <td id=\"T_e8968_row7_col0\" class=\"data row7 col0\" >Numeric features</td>\n",
       "      <td id=\"T_e8968_row7_col1\" class=\"data row7 col1\" >4</td>\n",
       "    </tr>\n",
       "  </tbody>\n",
       "</table>\n"
      ],
      "text/plain": [
       "<pandas.io.formats.style.Styler at 0x16cd2ef1b70>"
      ]
     },
     "metadata": {},
     "output_type": "display_data"
    }
   ],
   "source": [
    "reg = setup(Data_final_2, target = 'total_gdp_million', session_id = 123,remove_multicollinearity=False,preprocess=False)\n",
    "# se configura la ruta de Pycaret para poder hacer una regresion lineal. Anteriormente se determino que la multicolinealidad\n",
    "# no seria un porblema para la ejecucion de los modelos, por lo que se decide realizar una regresion lineal \n",
    "# usando simplemente la data tal cual y no remover la multicolinealidad"
   ]
  },
  {
   "cell_type": "code",
   "execution_count": 39,
   "metadata": {},
   "outputs": [
    {
     "data": {
      "text/html": [],
      "text/plain": [
       "<IPython.core.display.HTML object>"
      ]
     },
     "metadata": {},
     "output_type": "display_data"
    },
    {
     "data": {
      "text/html": [
       "<style type=\"text/css\">\n",
       "#T_85a36 th {\n",
       "  text-align: left;\n",
       "}\n",
       "#T_85a36_row0_col0, #T_85a36_row1_col0, #T_85a36_row1_col1, #T_85a36_row1_col2, #T_85a36_row1_col3, #T_85a36_row1_col4, #T_85a36_row1_col5, #T_85a36_row1_col6, #T_85a36_row2_col0, #T_85a36_row2_col1, #T_85a36_row2_col2, #T_85a36_row2_col3, #T_85a36_row2_col4, #T_85a36_row2_col5, #T_85a36_row2_col6, #T_85a36_row3_col0, #T_85a36_row3_col1, #T_85a36_row3_col2, #T_85a36_row3_col3, #T_85a36_row3_col4, #T_85a36_row3_col5, #T_85a36_row3_col6, #T_85a36_row4_col0, #T_85a36_row4_col1, #T_85a36_row4_col2, #T_85a36_row4_col3, #T_85a36_row4_col4, #T_85a36_row4_col5, #T_85a36_row4_col6, #T_85a36_row5_col0, #T_85a36_row5_col1, #T_85a36_row5_col2, #T_85a36_row5_col3, #T_85a36_row5_col4, #T_85a36_row5_col5, #T_85a36_row5_col6, #T_85a36_row6_col0, #T_85a36_row6_col1, #T_85a36_row6_col2, #T_85a36_row6_col3, #T_85a36_row6_col4, #T_85a36_row6_col5, #T_85a36_row6_col6, #T_85a36_row7_col0, #T_85a36_row7_col1, #T_85a36_row7_col2, #T_85a36_row7_col3, #T_85a36_row7_col4, #T_85a36_row7_col5, #T_85a36_row7_col6, #T_85a36_row8_col0, #T_85a36_row8_col1, #T_85a36_row8_col2, #T_85a36_row8_col3, #T_85a36_row8_col4, #T_85a36_row8_col5, #T_85a36_row8_col6, #T_85a36_row9_col0, #T_85a36_row9_col1, #T_85a36_row9_col2, #T_85a36_row9_col3, #T_85a36_row9_col4, #T_85a36_row9_col5, #T_85a36_row9_col6, #T_85a36_row10_col0, #T_85a36_row10_col1, #T_85a36_row10_col2, #T_85a36_row10_col3, #T_85a36_row10_col4, #T_85a36_row10_col5, #T_85a36_row10_col6, #T_85a36_row11_col0, #T_85a36_row11_col1, #T_85a36_row11_col2, #T_85a36_row11_col3, #T_85a36_row11_col4, #T_85a36_row11_col5, #T_85a36_row11_col6, #T_85a36_row12_col0, #T_85a36_row12_col1, #T_85a36_row12_col2, #T_85a36_row12_col3, #T_85a36_row12_col4, #T_85a36_row12_col5, #T_85a36_row12_col6, #T_85a36_row13_col0, #T_85a36_row13_col1, #T_85a36_row13_col2, #T_85a36_row13_col3, #T_85a36_row13_col4, #T_85a36_row13_col5, #T_85a36_row13_col6, #T_85a36_row14_col0, #T_85a36_row14_col1, #T_85a36_row14_col2, #T_85a36_row14_col3, #T_85a36_row14_col4, #T_85a36_row14_col5, #T_85a36_row14_col6, #T_85a36_row15_col0, #T_85a36_row15_col1, #T_85a36_row15_col2, #T_85a36_row15_col3, #T_85a36_row15_col4, #T_85a36_row15_col5, #T_85a36_row15_col6, #T_85a36_row16_col0, #T_85a36_row16_col1, #T_85a36_row16_col2, #T_85a36_row16_col3, #T_85a36_row16_col4, #T_85a36_row16_col5, #T_85a36_row16_col6, #T_85a36_row17_col0, #T_85a36_row17_col1, #T_85a36_row17_col2, #T_85a36_row17_col3, #T_85a36_row17_col4, #T_85a36_row17_col5, #T_85a36_row17_col6 {\n",
       "  text-align: left;\n",
       "}\n",
       "#T_85a36_row0_col1, #T_85a36_row0_col2, #T_85a36_row0_col3, #T_85a36_row0_col4, #T_85a36_row0_col5, #T_85a36_row0_col6 {\n",
       "  text-align: left;\n",
       "  background-color: yellow;\n",
       "}\n",
       "#T_85a36_row0_col7, #T_85a36_row1_col7, #T_85a36_row2_col7, #T_85a36_row3_col7, #T_85a36_row5_col7, #T_85a36_row7_col7, #T_85a36_row8_col7, #T_85a36_row9_col7, #T_85a36_row10_col7, #T_85a36_row11_col7, #T_85a36_row14_col7, #T_85a36_row15_col7, #T_85a36_row16_col7 {\n",
       "  text-align: left;\n",
       "  background-color: lightgrey;\n",
       "}\n",
       "#T_85a36_row4_col7, #T_85a36_row6_col7, #T_85a36_row12_col7, #T_85a36_row13_col7, #T_85a36_row17_col7 {\n",
       "  text-align: left;\n",
       "  background-color: yellow;\n",
       "  background-color: lightgrey;\n",
       "}\n",
       "</style>\n",
       "<table id=\"T_85a36\">\n",
       "  <thead>\n",
       "    <tr>\n",
       "      <th class=\"blank level0\" >&nbsp;</th>\n",
       "      <th id=\"T_85a36_level0_col0\" class=\"col_heading level0 col0\" >Model</th>\n",
       "      <th id=\"T_85a36_level0_col1\" class=\"col_heading level0 col1\" >MAE</th>\n",
       "      <th id=\"T_85a36_level0_col2\" class=\"col_heading level0 col2\" >MSE</th>\n",
       "      <th id=\"T_85a36_level0_col3\" class=\"col_heading level0 col3\" >RMSE</th>\n",
       "      <th id=\"T_85a36_level0_col4\" class=\"col_heading level0 col4\" >R2</th>\n",
       "      <th id=\"T_85a36_level0_col5\" class=\"col_heading level0 col5\" >RMSLE</th>\n",
       "      <th id=\"T_85a36_level0_col6\" class=\"col_heading level0 col6\" >MAPE</th>\n",
       "      <th id=\"T_85a36_level0_col7\" class=\"col_heading level0 col7\" >TT (Sec)</th>\n",
       "    </tr>\n",
       "  </thead>\n",
       "  <tbody>\n",
       "    <tr>\n",
       "      <th id=\"T_85a36_level0_row0\" class=\"row_heading level0 row0\" >et</th>\n",
       "      <td id=\"T_85a36_row0_col0\" class=\"data row0 col0\" >Extra Trees Regressor</td>\n",
       "      <td id=\"T_85a36_row0_col1\" class=\"data row0 col1\" >0.0444</td>\n",
       "      <td id=\"T_85a36_row0_col2\" class=\"data row0 col2\" >0.0154</td>\n",
       "      <td id=\"T_85a36_row0_col3\" class=\"data row0 col3\" >0.1054</td>\n",
       "      <td id=\"T_85a36_row0_col4\" class=\"data row0 col4\" >0.9853</td>\n",
       "      <td id=\"T_85a36_row0_col5\" class=\"data row0 col5\" >0.0451</td>\n",
       "      <td id=\"T_85a36_row0_col6\" class=\"data row0 col6\" >0.3794</td>\n",
       "      <td id=\"T_85a36_row0_col7\" class=\"data row0 col7\" >0.0220</td>\n",
       "    </tr>\n",
       "    <tr>\n",
       "      <th id=\"T_85a36_level0_row1\" class=\"row_heading level0 row1\" >rf</th>\n",
       "      <td id=\"T_85a36_row1_col0\" class=\"data row1 col0\" >Random Forest Regressor</td>\n",
       "      <td id=\"T_85a36_row1_col1\" class=\"data row1 col1\" >0.0776</td>\n",
       "      <td id=\"T_85a36_row1_col2\" class=\"data row1 col2\" >0.0856</td>\n",
       "      <td id=\"T_85a36_row1_col3\" class=\"data row1 col3\" >0.2196</td>\n",
       "      <td id=\"T_85a36_row1_col4\" class=\"data row1 col4\" >0.9183</td>\n",
       "      <td id=\"T_85a36_row1_col5\" class=\"data row1 col5\" >0.0768</td>\n",
       "      <td id=\"T_85a36_row1_col6\" class=\"data row1 col6\" >0.4537</td>\n",
       "      <td id=\"T_85a36_row1_col7\" class=\"data row1 col7\" >0.0310</td>\n",
       "    </tr>\n",
       "    <tr>\n",
       "      <th id=\"T_85a36_level0_row2\" class=\"row_heading level0 row2\" >gbr</th>\n",
       "      <td id=\"T_85a36_row2_col0\" class=\"data row2 col0\" >Gradient Boosting Regressor</td>\n",
       "      <td id=\"T_85a36_row2_col1\" class=\"data row2 col1\" >0.1229</td>\n",
       "      <td id=\"T_85a36_row2_col2\" class=\"data row2 col2\" >0.0815</td>\n",
       "      <td id=\"T_85a36_row2_col3\" class=\"data row2 col3\" >0.2457</td>\n",
       "      <td id=\"T_85a36_row2_col4\" class=\"data row2 col4\" >0.9133</td>\n",
       "      <td id=\"T_85a36_row2_col5\" class=\"data row2 col5\" >0.1087</td>\n",
       "      <td id=\"T_85a36_row2_col6\" class=\"data row2 col6\" >0.9615</td>\n",
       "      <td id=\"T_85a36_row2_col7\" class=\"data row2 col7\" >0.0130</td>\n",
       "    </tr>\n",
       "    <tr>\n",
       "      <th id=\"T_85a36_level0_row3\" class=\"row_heading level0 row3\" >lightgbm</th>\n",
       "      <td id=\"T_85a36_row3_col0\" class=\"data row3 col0\" >Light Gradient Boosting Machine</td>\n",
       "      <td id=\"T_85a36_row3_col1\" class=\"data row3 col1\" >0.1106</td>\n",
       "      <td id=\"T_85a36_row3_col2\" class=\"data row3 col2\" >0.1099</td>\n",
       "      <td id=\"T_85a36_row3_col3\" class=\"data row3 col3\" >0.2921</td>\n",
       "      <td id=\"T_85a36_row3_col4\" class=\"data row3 col4\" >0.8975</td>\n",
       "      <td id=\"T_85a36_row3_col5\" class=\"data row3 col5\" >0.1007</td>\n",
       "      <td id=\"T_85a36_row3_col6\" class=\"data row3 col6\" >0.7146</td>\n",
       "      <td id=\"T_85a36_row3_col7\" class=\"data row3 col7\" >0.1140</td>\n",
       "    </tr>\n",
       "    <tr>\n",
       "      <th id=\"T_85a36_level0_row4\" class=\"row_heading level0 row4\" >dt</th>\n",
       "      <td id=\"T_85a36_row4_col0\" class=\"data row4 col0\" >Decision Tree Regressor</td>\n",
       "      <td id=\"T_85a36_row4_col1\" class=\"data row4 col1\" >0.0963</td>\n",
       "      <td id=\"T_85a36_row4_col2\" class=\"data row4 col2\" >0.1424</td>\n",
       "      <td id=\"T_85a36_row4_col3\" class=\"data row4 col3\" >0.3113</td>\n",
       "      <td id=\"T_85a36_row4_col4\" class=\"data row4 col4\" >0.8301</td>\n",
       "      <td id=\"T_85a36_row4_col5\" class=\"data row4 col5\" >0.1054</td>\n",
       "      <td id=\"T_85a36_row4_col6\" class=\"data row4 col6\" >0.5288</td>\n",
       "      <td id=\"T_85a36_row4_col7\" class=\"data row4 col7\" >0.0030</td>\n",
       "    </tr>\n",
       "    <tr>\n",
       "      <th id=\"T_85a36_level0_row5\" class=\"row_heading level0 row5\" >ada</th>\n",
       "      <td id=\"T_85a36_row5_col0\" class=\"data row5 col0\" >AdaBoost Regressor</td>\n",
       "      <td id=\"T_85a36_row5_col1\" class=\"data row5 col1\" >0.3741</td>\n",
       "      <td id=\"T_85a36_row5_col2\" class=\"data row5 col2\" >0.2601</td>\n",
       "      <td id=\"T_85a36_row5_col3\" class=\"data row5 col3\" >0.4837</td>\n",
       "      <td id=\"T_85a36_row5_col4\" class=\"data row5 col4\" >0.6442</td>\n",
       "      <td id=\"T_85a36_row5_col5\" class=\"data row5 col5\" >0.2147</td>\n",
       "      <td id=\"T_85a36_row5_col6\" class=\"data row5 col6\" >2.5735</td>\n",
       "      <td id=\"T_85a36_row5_col7\" class=\"data row5 col7\" >0.0090</td>\n",
       "    </tr>\n",
       "    <tr>\n",
       "      <th id=\"T_85a36_level0_row6\" class=\"row_heading level0 row6\" >br</th>\n",
       "      <td id=\"T_85a36_row6_col0\" class=\"data row6 col0\" >Bayesian Ridge</td>\n",
       "      <td id=\"T_85a36_row6_col1\" class=\"data row6 col1\" >0.4093</td>\n",
       "      <td id=\"T_85a36_row6_col2\" class=\"data row6 col2\" >0.5629</td>\n",
       "      <td id=\"T_85a36_row6_col3\" class=\"data row6 col3\" >0.7271</td>\n",
       "      <td id=\"T_85a36_row6_col4\" class=\"data row6 col4\" >0.3295</td>\n",
       "      <td id=\"T_85a36_row6_col5\" class=\"data row6 col5\" >0.2671</td>\n",
       "      <td id=\"T_85a36_row6_col6\" class=\"data row6 col6\" >3.2042</td>\n",
       "      <td id=\"T_85a36_row6_col7\" class=\"data row6 col7\" >0.0030</td>\n",
       "    </tr>\n",
       "    <tr>\n",
       "      <th id=\"T_85a36_level0_row7\" class=\"row_heading level0 row7\" >ridge</th>\n",
       "      <td id=\"T_85a36_row7_col0\" class=\"data row7 col0\" >Ridge Regression</td>\n",
       "      <td id=\"T_85a36_row7_col1\" class=\"data row7 col1\" >0.4098</td>\n",
       "      <td id=\"T_85a36_row7_col2\" class=\"data row7 col2\" >0.5630</td>\n",
       "      <td id=\"T_85a36_row7_col3\" class=\"data row7 col3\" >0.7273</td>\n",
       "      <td id=\"T_85a36_row7_col4\" class=\"data row7 col4\" >0.3284</td>\n",
       "      <td id=\"T_85a36_row7_col5\" class=\"data row7 col5\" >0.2671</td>\n",
       "      <td id=\"T_85a36_row7_col6\" class=\"data row7 col6\" >3.2143</td>\n",
       "      <td id=\"T_85a36_row7_col7\" class=\"data row7 col7\" >0.1610</td>\n",
       "    </tr>\n",
       "    <tr>\n",
       "      <th id=\"T_85a36_level0_row8\" class=\"row_heading level0 row8\" >lar</th>\n",
       "      <td id=\"T_85a36_row8_col0\" class=\"data row8 col0\" >Least Angle Regression</td>\n",
       "      <td id=\"T_85a36_row8_col1\" class=\"data row8 col1\" >0.4099</td>\n",
       "      <td id=\"T_85a36_row8_col2\" class=\"data row8 col2\" >0.5631</td>\n",
       "      <td id=\"T_85a36_row8_col3\" class=\"data row8 col3\" >0.7274</td>\n",
       "      <td id=\"T_85a36_row8_col4\" class=\"data row8 col4\" >0.3282</td>\n",
       "      <td id=\"T_85a36_row8_col5\" class=\"data row8 col5\" >0.2671</td>\n",
       "      <td id=\"T_85a36_row8_col6\" class=\"data row8 col6\" >3.2167</td>\n",
       "      <td id=\"T_85a36_row8_col7\" class=\"data row8 col7\" >0.0040</td>\n",
       "    </tr>\n",
       "    <tr>\n",
       "      <th id=\"T_85a36_level0_row9\" class=\"row_heading level0 row9\" >lr</th>\n",
       "      <td id=\"T_85a36_row9_col0\" class=\"data row9 col0\" >Linear Regression</td>\n",
       "      <td id=\"T_85a36_row9_col1\" class=\"data row9 col1\" >0.4099</td>\n",
       "      <td id=\"T_85a36_row9_col2\" class=\"data row9 col2\" >0.5631</td>\n",
       "      <td id=\"T_85a36_row9_col3\" class=\"data row9 col3\" >0.7274</td>\n",
       "      <td id=\"T_85a36_row9_col4\" class=\"data row9 col4\" >0.3282</td>\n",
       "      <td id=\"T_85a36_row9_col5\" class=\"data row9 col5\" >0.2671</td>\n",
       "      <td id=\"T_85a36_row9_col6\" class=\"data row9 col6\" >3.2167</td>\n",
       "      <td id=\"T_85a36_row9_col7\" class=\"data row9 col7\" >0.2240</td>\n",
       "    </tr>\n",
       "    <tr>\n",
       "      <th id=\"T_85a36_level0_row10\" class=\"row_heading level0 row10\" >knn</th>\n",
       "      <td id=\"T_85a36_row10_col0\" class=\"data row10 col0\" >K Neighbors Regressor</td>\n",
       "      <td id=\"T_85a36_row10_col1\" class=\"data row10 col1\" >0.3250</td>\n",
       "      <td id=\"T_85a36_row10_col2\" class=\"data row10 col2\" >0.5595</td>\n",
       "      <td id=\"T_85a36_row10_col3\" class=\"data row10 col3\" >0.7256</td>\n",
       "      <td id=\"T_85a36_row10_col4\" class=\"data row10 col4\" >0.3108</td>\n",
       "      <td id=\"T_85a36_row10_col5\" class=\"data row10 col5\" >0.2640</td>\n",
       "      <td id=\"T_85a36_row10_col6\" class=\"data row10 col6\" >2.4686</td>\n",
       "      <td id=\"T_85a36_row10_col7\" class=\"data row10 col7\" >0.0060</td>\n",
       "    </tr>\n",
       "    <tr>\n",
       "      <th id=\"T_85a36_level0_row11\" class=\"row_heading level0 row11\" >huber</th>\n",
       "      <td id=\"T_85a36_row11_col0\" class=\"data row11 col0\" >Huber Regressor</td>\n",
       "      <td id=\"T_85a36_row11_col1\" class=\"data row11 col1\" >0.3149</td>\n",
       "      <td id=\"T_85a36_row11_col2\" class=\"data row11 col2\" >0.6857</td>\n",
       "      <td id=\"T_85a36_row11_col3\" class=\"data row11 col3\" >0.7902</td>\n",
       "      <td id=\"T_85a36_row11_col4\" class=\"data row11 col4\" >0.2531</td>\n",
       "      <td id=\"T_85a36_row11_col5\" class=\"data row11 col5\" >0.3127</td>\n",
       "      <td id=\"T_85a36_row11_col6\" class=\"data row11 col6\" >1.6800</td>\n",
       "      <td id=\"T_85a36_row11_col7\" class=\"data row11 col7\" >0.0050</td>\n",
       "    </tr>\n",
       "    <tr>\n",
       "      <th id=\"T_85a36_level0_row12\" class=\"row_heading level0 row12\" >en</th>\n",
       "      <td id=\"T_85a36_row12_col0\" class=\"data row12 col0\" >Elastic Net</td>\n",
       "      <td id=\"T_85a36_row12_col1\" class=\"data row12 col1\" >0.4958</td>\n",
       "      <td id=\"T_85a36_row12_col2\" class=\"data row12 col2\" >0.9298</td>\n",
       "      <td id=\"T_85a36_row12_col3\" class=\"data row12 col3\" >0.9126</td>\n",
       "      <td id=\"T_85a36_row12_col4\" class=\"data row12 col4\" >0.0219</td>\n",
       "      <td id=\"T_85a36_row12_col5\" class=\"data row12 col5\" >0.4181</td>\n",
       "      <td id=\"T_85a36_row12_col6\" class=\"data row12 col6\" >1.2106</td>\n",
       "      <td id=\"T_85a36_row12_col7\" class=\"data row12 col7\" >0.0030</td>\n",
       "    </tr>\n",
       "    <tr>\n",
       "      <th id=\"T_85a36_level0_row13\" class=\"row_heading level0 row13\" >omp</th>\n",
       "      <td id=\"T_85a36_row13_col0\" class=\"data row13 col0\" >Orthogonal Matching Pursuit</td>\n",
       "      <td id=\"T_85a36_row13_col1\" class=\"data row13 col1\" >0.5065</td>\n",
       "      <td id=\"T_85a36_row13_col2\" class=\"data row13 col2\" >0.9491</td>\n",
       "      <td id=\"T_85a36_row13_col3\" class=\"data row13 col3\" >0.9263</td>\n",
       "      <td id=\"T_85a36_row13_col4\" class=\"data row13 col4\" >-0.0187</td>\n",
       "      <td id=\"T_85a36_row13_col5\" class=\"data row13 col5\" >0.3857</td>\n",
       "      <td id=\"T_85a36_row13_col6\" class=\"data row13 col6\" >1.4355</td>\n",
       "      <td id=\"T_85a36_row13_col7\" class=\"data row13 col7\" >0.0030</td>\n",
       "    </tr>\n",
       "    <tr>\n",
       "      <th id=\"T_85a36_level0_row14\" class=\"row_heading level0 row14\" >lasso</th>\n",
       "      <td id=\"T_85a36_row14_col0\" class=\"data row14 col0\" >Lasso Regression</td>\n",
       "      <td id=\"T_85a36_row14_col1\" class=\"data row14 col1\" >0.5102</td>\n",
       "      <td id=\"T_85a36_row14_col2\" class=\"data row14 col2\" >0.9597</td>\n",
       "      <td id=\"T_85a36_row14_col3\" class=\"data row14 col3\" >0.9302</td>\n",
       "      <td id=\"T_85a36_row14_col4\" class=\"data row14 col4\" >-0.0222</td>\n",
       "      <td id=\"T_85a36_row14_col5\" class=\"data row14 col5\" >0.4393</td>\n",
       "      <td id=\"T_85a36_row14_col6\" class=\"data row14 col6\" >1.0658</td>\n",
       "      <td id=\"T_85a36_row14_col7\" class=\"data row14 col7\" >0.2240</td>\n",
       "    </tr>\n",
       "    <tr>\n",
       "      <th id=\"T_85a36_level0_row15\" class=\"row_heading level0 row15\" >llar</th>\n",
       "      <td id=\"T_85a36_row15_col0\" class=\"data row15 col0\" >Lasso Least Angle Regression</td>\n",
       "      <td id=\"T_85a36_row15_col1\" class=\"data row15 col1\" >0.5102</td>\n",
       "      <td id=\"T_85a36_row15_col2\" class=\"data row15 col2\" >0.9597</td>\n",
       "      <td id=\"T_85a36_row15_col3\" class=\"data row15 col3\" >0.9302</td>\n",
       "      <td id=\"T_85a36_row15_col4\" class=\"data row15 col4\" >-0.0222</td>\n",
       "      <td id=\"T_85a36_row15_col5\" class=\"data row15 col5\" >0.4393</td>\n",
       "      <td id=\"T_85a36_row15_col6\" class=\"data row15 col6\" >1.0658</td>\n",
       "      <td id=\"T_85a36_row15_col7\" class=\"data row15 col7\" >0.0040</td>\n",
       "    </tr>\n",
       "    <tr>\n",
       "      <th id=\"T_85a36_level0_row16\" class=\"row_heading level0 row16\" >dummy</th>\n",
       "      <td id=\"T_85a36_row16_col0\" class=\"data row16 col0\" >Dummy Regressor</td>\n",
       "      <td id=\"T_85a36_row16_col1\" class=\"data row16 col1\" >0.5102</td>\n",
       "      <td id=\"T_85a36_row16_col2\" class=\"data row16 col2\" >0.9597</td>\n",
       "      <td id=\"T_85a36_row16_col3\" class=\"data row16 col3\" >0.9302</td>\n",
       "      <td id=\"T_85a36_row16_col4\" class=\"data row16 col4\" >-0.0222</td>\n",
       "      <td id=\"T_85a36_row16_col5\" class=\"data row16 col5\" >0.4393</td>\n",
       "      <td id=\"T_85a36_row16_col6\" class=\"data row16 col6\" >1.0658</td>\n",
       "      <td id=\"T_85a36_row16_col7\" class=\"data row16 col7\" >0.0040</td>\n",
       "    </tr>\n",
       "    <tr>\n",
       "      <th id=\"T_85a36_level0_row17\" class=\"row_heading level0 row17\" >par</th>\n",
       "      <td id=\"T_85a36_row17_col0\" class=\"data row17 col0\" >Passive Aggressive Regressor</td>\n",
       "      <td id=\"T_85a36_row17_col1\" class=\"data row17 col1\" >0.4131</td>\n",
       "      <td id=\"T_85a36_row17_col2\" class=\"data row17 col2\" >1.0084</td>\n",
       "      <td id=\"T_85a36_row17_col3\" class=\"data row17 col3\" >0.9515</td>\n",
       "      <td id=\"T_85a36_row17_col4\" class=\"data row17 col4\" >-0.0602</td>\n",
       "      <td id=\"T_85a36_row17_col5\" class=\"data row17 col5\" >0.3343</td>\n",
       "      <td id=\"T_85a36_row17_col6\" class=\"data row17 col6\" >1.8342</td>\n",
       "      <td id=\"T_85a36_row17_col7\" class=\"data row17 col7\" >0.0030</td>\n",
       "    </tr>\n",
       "  </tbody>\n",
       "</table>\n"
      ],
      "text/plain": [
       "<pandas.io.formats.style.Styler at 0x16cd0ad6470>"
      ]
     },
     "metadata": {},
     "output_type": "display_data"
    },
    {
     "data": {
      "text/html": [],
      "text/plain": [
       "<IPython.core.display.HTML object>"
      ]
     },
     "metadata": {},
     "output_type": "display_data"
    }
   ],
   "source": [
    "best = compare_models()\n",
    "# Se hace una comparacion de los diferentes modelos, dando como resultado que el regresor \"Extra Trees\" es el que mejor desempeño\n",
    "# da a la hora de hacer un modelo de prediccion"
   ]
  },
  {
   "cell_type": "code",
   "execution_count": 40,
   "metadata": {},
   "outputs": [
    {
     "data": {
      "application/vnd.jupyter.widget-view+json": {
       "model_id": "7ba8f5b4a9a54d0699f0b7de98130490",
       "version_major": 2,
       "version_minor": 0
      },
      "text/plain": [
       "interactive(children=(ToggleButtons(description='Plot Type:', icons=('',), options=(('Pipeline Plot', 'pipelin…"
      ]
     },
     "metadata": {},
     "output_type": "display_data"
    }
   ],
   "source": [
    "evaluate_model(best)\n",
    "# Se evalua el modelo mostando como Pycaret configura hiperparametros, calcula los residos, hace seleccion de caracteristicas etc."
   ]
  },
  {
   "cell_type": "markdown",
   "metadata": {},
   "source": [
    "### ***Data No Autocorrelation***"
   ]
  },
  {
   "cell_type": "code",
   "execution_count": 41,
   "metadata": {},
   "outputs": [],
   "source": [
    "std = StandardScaler()\n",
    "# Se importa el Scaler "
   ]
  },
  {
   "cell_type": "code",
   "execution_count": 42,
   "metadata": {},
   "outputs": [],
   "source": [
    "std.fit(Data_no_auto[['total_gdp_million']])\n",
    "Data_no_auto['total_gdp_million']= std.transform(Data_no_auto[['total_gdp_million']])\n",
    "std.fit(Data_no_auto[['Poblacion']])\n",
    "Data_no_auto['Poblacion']= std.transform(Data_no_auto[['Poblacion']])\n",
    "# Con el DataSet con sin la autocorrelacion entre datos, se hace una estandarizacion de los datos para un mejor uso de los recursos"
   ]
  },
  {
   "cell_type": "code",
   "execution_count": 43,
   "metadata": {},
   "outputs": [
    {
     "name": "stdout",
     "output_type": "stream",
     "text": [
      "(757, 6)\n",
      "(68, 6)\n"
     ]
    }
   ],
   "source": [
    "train = Data_no_auto[Data_no_auto['Año'] < 2019]\n",
    "test = Data_no_auto[Data_no_auto['Año'] >= 2019]\n",
    "print(train.shape)\n",
    "print(test.shape)\n",
    "# Se hace una division de los datos entre el entreno y el test, para ello se toma como entreno los datos que esten de 2000-2018, y para el test los datos\n",
    "# de 2019 y 2020"
   ]
  },
  {
   "cell_type": "code",
   "execution_count": 44,
   "metadata": {},
   "outputs": [
    {
     "data": {
      "text/html": [
       "<style type=\"text/css\">\n",
       "</style>\n",
       "<table id=\"T_1c3f3\">\n",
       "  <thead>\n",
       "    <tr>\n",
       "      <th class=\"blank level0\" >&nbsp;</th>\n",
       "      <th id=\"T_1c3f3_level0_col0\" class=\"col_heading level0 col0\" >Description</th>\n",
       "      <th id=\"T_1c3f3_level0_col1\" class=\"col_heading level0 col1\" >Value</th>\n",
       "    </tr>\n",
       "  </thead>\n",
       "  <tbody>\n",
       "    <tr>\n",
       "      <th id=\"T_1c3f3_level0_row0\" class=\"row_heading level0 row0\" >0</th>\n",
       "      <td id=\"T_1c3f3_row0_col0\" class=\"data row0 col0\" >Session id</td>\n",
       "      <td id=\"T_1c3f3_row0_col1\" class=\"data row0 col1\" >123</td>\n",
       "    </tr>\n",
       "    <tr>\n",
       "      <th id=\"T_1c3f3_level0_row1\" class=\"row_heading level0 row1\" >1</th>\n",
       "      <td id=\"T_1c3f3_row1_col0\" class=\"data row1 col0\" >Target</td>\n",
       "      <td id=\"T_1c3f3_row1_col1\" class=\"data row1 col1\" >total_gdp_million</td>\n",
       "    </tr>\n",
       "    <tr>\n",
       "      <th id=\"T_1c3f3_level0_row2\" class=\"row_heading level0 row2\" >2</th>\n",
       "      <td id=\"T_1c3f3_row2_col0\" class=\"data row2 col0\" >Target type</td>\n",
       "      <td id=\"T_1c3f3_row2_col1\" class=\"data row2 col1\" >Regression</td>\n",
       "    </tr>\n",
       "    <tr>\n",
       "      <th id=\"T_1c3f3_level0_row3\" class=\"row_heading level0 row3\" >3</th>\n",
       "      <td id=\"T_1c3f3_row3_col0\" class=\"data row3 col0\" >Original data shape</td>\n",
       "      <td id=\"T_1c3f3_row3_col1\" class=\"data row3 col1\" >(825, 6)</td>\n",
       "    </tr>\n",
       "    <tr>\n",
       "      <th id=\"T_1c3f3_level0_row4\" class=\"row_heading level0 row4\" >4</th>\n",
       "      <td id=\"T_1c3f3_row4_col0\" class=\"data row4 col0\" >Transformed data shape</td>\n",
       "      <td id=\"T_1c3f3_row4_col1\" class=\"data row4 col1\" >(825, 5)</td>\n",
       "    </tr>\n",
       "    <tr>\n",
       "      <th id=\"T_1c3f3_level0_row5\" class=\"row_heading level0 row5\" >5</th>\n",
       "      <td id=\"T_1c3f3_row5_col0\" class=\"data row5 col0\" >Transformed train set shape</td>\n",
       "      <td id=\"T_1c3f3_row5_col1\" class=\"data row5 col1\" >(757, 5)</td>\n",
       "    </tr>\n",
       "    <tr>\n",
       "      <th id=\"T_1c3f3_level0_row6\" class=\"row_heading level0 row6\" >6</th>\n",
       "      <td id=\"T_1c3f3_row6_col0\" class=\"data row6 col0\" >Transformed test set shape</td>\n",
       "      <td id=\"T_1c3f3_row6_col1\" class=\"data row6 col1\" >(68, 5)</td>\n",
       "    </tr>\n",
       "    <tr>\n",
       "      <th id=\"T_1c3f3_level0_row7\" class=\"row_heading level0 row7\" >7</th>\n",
       "      <td id=\"T_1c3f3_row7_col0\" class=\"data row7 col0\" >Ignore features</td>\n",
       "      <td id=\"T_1c3f3_row7_col1\" class=\"data row7 col1\" >1</td>\n",
       "    </tr>\n",
       "    <tr>\n",
       "      <th id=\"T_1c3f3_level0_row8\" class=\"row_heading level0 row8\" >8</th>\n",
       "      <td id=\"T_1c3f3_row8_col0\" class=\"data row8 col0\" >Numeric features</td>\n",
       "      <td id=\"T_1c3f3_row8_col1\" class=\"data row8 col1\" >4</td>\n",
       "    </tr>\n",
       "  </tbody>\n",
       "</table>\n"
      ],
      "text/plain": [
       "<pandas.io.formats.style.Styler at 0x16cce969420>"
      ]
     },
     "metadata": {},
     "output_type": "display_data"
    }
   ],
   "source": [
    "B = setup(data = train, test_data = test,target ='total_gdp_million',fold_strategy = 'timeseries',\n",
    "          ignore_features=['Pais'],fold = 2, session_id = 123,\n",
    "          data_split_shuffle=False,fold_shuffle=False,preprocess=False)\n",
    "# se configura la ruta de Pycaret para que realice las regresiones usando series de tiempo, para de este modo\n",
    "# tener resultados mas cercanos al comportamiento real de los datos"
   ]
  },
  {
   "cell_type": "code",
   "execution_count": 45,
   "metadata": {},
   "outputs": [
    {
     "data": {
      "text/html": [],
      "text/plain": [
       "<IPython.core.display.HTML object>"
      ]
     },
     "metadata": {},
     "output_type": "display_data"
    },
    {
     "data": {
      "text/html": [
       "<style type=\"text/css\">\n",
       "#T_cde6c th {\n",
       "  text-align: left;\n",
       "}\n",
       "#T_cde6c_row0_col0, #T_cde6c_row0_col2, #T_cde6c_row0_col3, #T_cde6c_row0_col5, #T_cde6c_row0_col6, #T_cde6c_row1_col0, #T_cde6c_row1_col1, #T_cde6c_row1_col2, #T_cde6c_row1_col3, #T_cde6c_row1_col4, #T_cde6c_row1_col5, #T_cde6c_row1_col6, #T_cde6c_row2_col0, #T_cde6c_row2_col1, #T_cde6c_row2_col2, #T_cde6c_row2_col3, #T_cde6c_row2_col4, #T_cde6c_row2_col5, #T_cde6c_row2_col6, #T_cde6c_row3_col0, #T_cde6c_row3_col1, #T_cde6c_row3_col2, #T_cde6c_row3_col4, #T_cde6c_row3_col6, #T_cde6c_row4_col0, #T_cde6c_row4_col1, #T_cde6c_row4_col2, #T_cde6c_row4_col3, #T_cde6c_row4_col4, #T_cde6c_row4_col5, #T_cde6c_row4_col6, #T_cde6c_row5_col0, #T_cde6c_row5_col1, #T_cde6c_row5_col2, #T_cde6c_row5_col3, #T_cde6c_row5_col4, #T_cde6c_row5_col5, #T_cde6c_row5_col6, #T_cde6c_row6_col0, #T_cde6c_row6_col1, #T_cde6c_row6_col2, #T_cde6c_row6_col3, #T_cde6c_row6_col4, #T_cde6c_row6_col5, #T_cde6c_row6_col6, #T_cde6c_row7_col0, #T_cde6c_row7_col1, #T_cde6c_row7_col2, #T_cde6c_row7_col3, #T_cde6c_row7_col4, #T_cde6c_row7_col5, #T_cde6c_row7_col6, #T_cde6c_row8_col0, #T_cde6c_row8_col1, #T_cde6c_row8_col2, #T_cde6c_row8_col3, #T_cde6c_row8_col4, #T_cde6c_row8_col5, #T_cde6c_row8_col6, #T_cde6c_row9_col0, #T_cde6c_row9_col1, #T_cde6c_row9_col2, #T_cde6c_row9_col3, #T_cde6c_row9_col4, #T_cde6c_row9_col5, #T_cde6c_row9_col6, #T_cde6c_row10_col0, #T_cde6c_row10_col1, #T_cde6c_row10_col2, #T_cde6c_row10_col3, #T_cde6c_row10_col4, #T_cde6c_row10_col5, #T_cde6c_row10_col6, #T_cde6c_row11_col0, #T_cde6c_row11_col1, #T_cde6c_row11_col2, #T_cde6c_row11_col3, #T_cde6c_row11_col4, #T_cde6c_row11_col5, #T_cde6c_row11_col6, #T_cde6c_row12_col0, #T_cde6c_row12_col1, #T_cde6c_row12_col2, #T_cde6c_row12_col3, #T_cde6c_row12_col4, #T_cde6c_row12_col5, #T_cde6c_row13_col0, #T_cde6c_row13_col1, #T_cde6c_row13_col2, #T_cde6c_row13_col3, #T_cde6c_row13_col4, #T_cde6c_row13_col5, #T_cde6c_row13_col6, #T_cde6c_row14_col0, #T_cde6c_row14_col1, #T_cde6c_row14_col2, #T_cde6c_row14_col3, #T_cde6c_row14_col4, #T_cde6c_row14_col5, #T_cde6c_row14_col6, #T_cde6c_row15_col0, #T_cde6c_row15_col1, #T_cde6c_row15_col3, #T_cde6c_row15_col4, #T_cde6c_row15_col5, #T_cde6c_row15_col6, #T_cde6c_row16_col0, #T_cde6c_row16_col1, #T_cde6c_row16_col3, #T_cde6c_row16_col4, #T_cde6c_row16_col5, #T_cde6c_row16_col6, #T_cde6c_row17_col0, #T_cde6c_row17_col1, #T_cde6c_row17_col2, #T_cde6c_row17_col3, #T_cde6c_row17_col4, #T_cde6c_row17_col5, #T_cde6c_row17_col6 {\n",
       "  text-align: left;\n",
       "}\n",
       "#T_cde6c_row0_col1, #T_cde6c_row0_col4, #T_cde6c_row3_col3, #T_cde6c_row3_col5, #T_cde6c_row12_col6, #T_cde6c_row15_col2, #T_cde6c_row16_col2 {\n",
       "  text-align: left;\n",
       "  background-color: yellow;\n",
       "}\n",
       "#T_cde6c_row0_col7, #T_cde6c_row1_col7, #T_cde6c_row2_col7, #T_cde6c_row3_col7, #T_cde6c_row4_col7, #T_cde6c_row5_col7, #T_cde6c_row6_col7, #T_cde6c_row7_col7, #T_cde6c_row9_col7, #T_cde6c_row10_col7, #T_cde6c_row11_col7, #T_cde6c_row16_col7, #T_cde6c_row17_col7 {\n",
       "  text-align: left;\n",
       "  background-color: lightgrey;\n",
       "}\n",
       "#T_cde6c_row8_col7, #T_cde6c_row12_col7, #T_cde6c_row13_col7, #T_cde6c_row14_col7, #T_cde6c_row15_col7 {\n",
       "  text-align: left;\n",
       "  background-color: yellow;\n",
       "  background-color: lightgrey;\n",
       "}\n",
       "</style>\n",
       "<table id=\"T_cde6c\">\n",
       "  <thead>\n",
       "    <tr>\n",
       "      <th class=\"blank level0\" >&nbsp;</th>\n",
       "      <th id=\"T_cde6c_level0_col0\" class=\"col_heading level0 col0\" >Model</th>\n",
       "      <th id=\"T_cde6c_level0_col1\" class=\"col_heading level0 col1\" >MAE</th>\n",
       "      <th id=\"T_cde6c_level0_col2\" class=\"col_heading level0 col2\" >MSE</th>\n",
       "      <th id=\"T_cde6c_level0_col3\" class=\"col_heading level0 col3\" >RMSE</th>\n",
       "      <th id=\"T_cde6c_level0_col4\" class=\"col_heading level0 col4\" >R2</th>\n",
       "      <th id=\"T_cde6c_level0_col5\" class=\"col_heading level0 col5\" >RMSLE</th>\n",
       "      <th id=\"T_cde6c_level0_col6\" class=\"col_heading level0 col6\" >MAPE</th>\n",
       "      <th id=\"T_cde6c_level0_col7\" class=\"col_heading level0 col7\" >TT (Sec)</th>\n",
       "    </tr>\n",
       "  </thead>\n",
       "  <tbody>\n",
       "    <tr>\n",
       "      <th id=\"T_cde6c_level0_row0\" class=\"row_heading level0 row0\" >et</th>\n",
       "      <td id=\"T_cde6c_row0_col0\" class=\"data row0 col0\" >Extra Trees Regressor</td>\n",
       "      <td id=\"T_cde6c_row0_col1\" class=\"data row0 col1\" >0.3049</td>\n",
       "      <td id=\"T_cde6c_row0_col2\" class=\"data row0 col2\" >1.2736</td>\n",
       "      <td id=\"T_cde6c_row0_col3\" class=\"data row0 col3\" >0.9363</td>\n",
       "      <td id=\"T_cde6c_row0_col4\" class=\"data row0 col4\" >0.2314</td>\n",
       "      <td id=\"T_cde6c_row0_col5\" class=\"data row0 col5\" >0.2699</td>\n",
       "      <td id=\"T_cde6c_row0_col6\" class=\"data row0 col6\" >1.9218</td>\n",
       "      <td id=\"T_cde6c_row0_col7\" class=\"data row0 col7\" >0.0600</td>\n",
       "    </tr>\n",
       "    <tr>\n",
       "      <th id=\"T_cde6c_level0_row1\" class=\"row_heading level0 row1\" >gbr</th>\n",
       "      <td id=\"T_cde6c_row1_col0\" class=\"data row1 col0\" >Gradient Boosting Regressor</td>\n",
       "      <td id=\"T_cde6c_row1_col1\" class=\"data row1 col1\" >0.3097</td>\n",
       "      <td id=\"T_cde6c_row1_col2\" class=\"data row1 col2\" >1.1856</td>\n",
       "      <td id=\"T_cde6c_row1_col3\" class=\"data row1 col3\" >0.9129</td>\n",
       "      <td id=\"T_cde6c_row1_col4\" class=\"data row1 col4\" >0.2313</td>\n",
       "      <td id=\"T_cde6c_row1_col5\" class=\"data row1 col5\" >0.2631</td>\n",
       "      <td id=\"T_cde6c_row1_col6\" class=\"data row1 col6\" >2.1088</td>\n",
       "      <td id=\"T_cde6c_row1_col7\" class=\"data row1 col7\" >0.0400</td>\n",
       "    </tr>\n",
       "    <tr>\n",
       "      <th id=\"T_cde6c_level0_row2\" class=\"row_heading level0 row2\" >knn</th>\n",
       "      <td id=\"T_cde6c_row2_col0\" class=\"data row2 col0\" >K Neighbors Regressor</td>\n",
       "      <td id=\"T_cde6c_row2_col1\" class=\"data row2 col1\" >0.3264</td>\n",
       "      <td id=\"T_cde6c_row2_col2\" class=\"data row2 col2\" >1.3434</td>\n",
       "      <td id=\"T_cde6c_row2_col3\" class=\"data row2 col3\" >0.9555</td>\n",
       "      <td id=\"T_cde6c_row2_col4\" class=\"data row2 col4\" >0.2229</td>\n",
       "      <td id=\"T_cde6c_row2_col5\" class=\"data row2 col5\" >0.2804</td>\n",
       "      <td id=\"T_cde6c_row2_col6\" class=\"data row2 col6\" >1.6978</td>\n",
       "      <td id=\"T_cde6c_row2_col7\" class=\"data row2 col7\" >0.0200</td>\n",
       "    </tr>\n",
       "    <tr>\n",
       "      <th id=\"T_cde6c_level0_row3\" class=\"row_heading level0 row3\" >huber</th>\n",
       "      <td id=\"T_cde6c_row3_col0\" class=\"data row3 col0\" >Huber Regressor</td>\n",
       "      <td id=\"T_cde6c_row3_col1\" class=\"data row3 col1\" >0.3216</td>\n",
       "      <td id=\"T_cde6c_row3_col2\" class=\"data row3 col2\" >1.0159</td>\n",
       "      <td id=\"T_cde6c_row3_col3\" class=\"data row3 col3\" >0.8721</td>\n",
       "      <td id=\"T_cde6c_row3_col4\" class=\"data row3 col4\" >0.1713</td>\n",
       "      <td id=\"T_cde6c_row3_col5\" class=\"data row3 col5\" >0.2179</td>\n",
       "      <td id=\"T_cde6c_row3_col6\" class=\"data row3 col6\" >1.6823</td>\n",
       "      <td id=\"T_cde6c_row3_col7\" class=\"data row3 col7\" >0.0150</td>\n",
       "    </tr>\n",
       "    <tr>\n",
       "      <th id=\"T_cde6c_level0_row4\" class=\"row_heading level0 row4\" >rf</th>\n",
       "      <td id=\"T_cde6c_row4_col0\" class=\"data row4 col0\" >Random Forest Regressor</td>\n",
       "      <td id=\"T_cde6c_row4_col1\" class=\"data row4 col1\" >0.3074</td>\n",
       "      <td id=\"T_cde6c_row4_col2\" class=\"data row4 col2\" >1.2259</td>\n",
       "      <td id=\"T_cde6c_row4_col3\" class=\"data row4 col3\" >0.9340</td>\n",
       "      <td id=\"T_cde6c_row4_col4\" class=\"data row4 col4\" >0.1701</td>\n",
       "      <td id=\"T_cde6c_row4_col5\" class=\"data row4 col5\" >0.2730</td>\n",
       "      <td id=\"T_cde6c_row4_col6\" class=\"data row4 col6\" >1.7808</td>\n",
       "      <td id=\"T_cde6c_row4_col7\" class=\"data row4 col7\" >0.0650</td>\n",
       "    </tr>\n",
       "    <tr>\n",
       "      <th id=\"T_cde6c_level0_row5\" class=\"row_heading level0 row5\" >ada</th>\n",
       "      <td id=\"T_cde6c_row5_col0\" class=\"data row5 col0\" >AdaBoost Regressor</td>\n",
       "      <td id=\"T_cde6c_row5_col1\" class=\"data row5 col1\" >0.3230</td>\n",
       "      <td id=\"T_cde6c_row5_col2\" class=\"data row5 col2\" >1.2543</td>\n",
       "      <td id=\"T_cde6c_row5_col3\" class=\"data row5 col3\" >0.9465</td>\n",
       "      <td id=\"T_cde6c_row5_col4\" class=\"data row5 col4\" >0.1396</td>\n",
       "      <td id=\"T_cde6c_row5_col5\" class=\"data row5 col5\" >0.2880</td>\n",
       "      <td id=\"T_cde6c_row5_col6\" class=\"data row5 col6\" >1.5490</td>\n",
       "      <td id=\"T_cde6c_row5_col7\" class=\"data row5 col7\" >0.0300</td>\n",
       "    </tr>\n",
       "    <tr>\n",
       "      <th id=\"T_cde6c_level0_row6\" class=\"row_heading level0 row6\" >en</th>\n",
       "      <td id=\"T_cde6c_row6_col0\" class=\"data row6 col0\" >Elastic Net</td>\n",
       "      <td id=\"T_cde6c_row6_col1\" class=\"data row6 col1\" >0.3536</td>\n",
       "      <td id=\"T_cde6c_row6_col2\" class=\"data row6 col2\" >1.5410</td>\n",
       "      <td id=\"T_cde6c_row6_col3\" class=\"data row6 col3\" >1.0193</td>\n",
       "      <td id=\"T_cde6c_row6_col4\" class=\"data row6 col4\" >0.1313</td>\n",
       "      <td id=\"T_cde6c_row6_col5\" class=\"data row6 col5\" >0.3401</td>\n",
       "      <td id=\"T_cde6c_row6_col6\" class=\"data row6 col6\" >2.0466</td>\n",
       "      <td id=\"T_cde6c_row6_col7\" class=\"data row6 col7\" >0.0100</td>\n",
       "    </tr>\n",
       "    <tr>\n",
       "      <th id=\"T_cde6c_level0_row7\" class=\"row_heading level0 row7\" >dt</th>\n",
       "      <td id=\"T_cde6c_row7_col0\" class=\"data row7 col0\" >Decision Tree Regressor</td>\n",
       "      <td id=\"T_cde6c_row7_col1\" class=\"data row7 col1\" >0.3318</td>\n",
       "      <td id=\"T_cde6c_row7_col2\" class=\"data row7 col2\" >1.1730</td>\n",
       "      <td id=\"T_cde6c_row7_col3\" class=\"data row7 col3\" >0.9306</td>\n",
       "      <td id=\"T_cde6c_row7_col4\" class=\"data row7 col4\" >0.0918</td>\n",
       "      <td id=\"T_cde6c_row7_col5\" class=\"data row7 col5\" >0.2735</td>\n",
       "      <td id=\"T_cde6c_row7_col6\" class=\"data row7 col6\" >2.2441</td>\n",
       "      <td id=\"T_cde6c_row7_col7\" class=\"data row7 col7\" >0.0150</td>\n",
       "    </tr>\n",
       "    <tr>\n",
       "      <th id=\"T_cde6c_level0_row8\" class=\"row_heading level0 row8\" >omp</th>\n",
       "      <td id=\"T_cde6c_row8_col0\" class=\"data row8 col0\" >Orthogonal Matching Pursuit</td>\n",
       "      <td id=\"T_cde6c_row8_col1\" class=\"data row8 col1\" >0.3816</td>\n",
       "      <td id=\"T_cde6c_row8_col2\" class=\"data row8 col2\" >1.5252</td>\n",
       "      <td id=\"T_cde6c_row8_col3\" class=\"data row8 col3\" >1.0236</td>\n",
       "      <td id=\"T_cde6c_row8_col4\" class=\"data row8 col4\" >0.0860</td>\n",
       "      <td id=\"T_cde6c_row8_col5\" class=\"data row8 col5\" >0.3338</td>\n",
       "      <td id=\"T_cde6c_row8_col6\" class=\"data row8 col6\" >4.0377</td>\n",
       "      <td id=\"T_cde6c_row8_col7\" class=\"data row8 col7\" >0.0050</td>\n",
       "    </tr>\n",
       "    <tr>\n",
       "      <th id=\"T_cde6c_level0_row9\" class=\"row_heading level0 row9\" >llar</th>\n",
       "      <td id=\"T_cde6c_row9_col0\" class=\"data row9 col0\" >Lasso Least Angle Regression</td>\n",
       "      <td id=\"T_cde6c_row9_col1\" class=\"data row9 col1\" >0.3899</td>\n",
       "      <td id=\"T_cde6c_row9_col2\" class=\"data row9 col2\" >1.5714</td>\n",
       "      <td id=\"T_cde6c_row9_col3\" class=\"data row9 col3\" >1.0412</td>\n",
       "      <td id=\"T_cde6c_row9_col4\" class=\"data row9 col4\" >0.0447</td>\n",
       "      <td id=\"T_cde6c_row9_col5\" class=\"data row9 col5\" >0.3534</td>\n",
       "      <td id=\"T_cde6c_row9_col6\" class=\"data row9 col6\" >2.0098</td>\n",
       "      <td id=\"T_cde6c_row9_col7\" class=\"data row9 col7\" >0.0100</td>\n",
       "    </tr>\n",
       "    <tr>\n",
       "      <th id=\"T_cde6c_level0_row10\" class=\"row_heading level0 row10\" >lasso</th>\n",
       "      <td id=\"T_cde6c_row10_col0\" class=\"data row10 col0\" >Lasso Regression</td>\n",
       "      <td id=\"T_cde6c_row10_col1\" class=\"data row10 col1\" >0.3899</td>\n",
       "      <td id=\"T_cde6c_row10_col2\" class=\"data row10 col2\" >1.5714</td>\n",
       "      <td id=\"T_cde6c_row10_col3\" class=\"data row10 col3\" >1.0412</td>\n",
       "      <td id=\"T_cde6c_row10_col4\" class=\"data row10 col4\" >0.0447</td>\n",
       "      <td id=\"T_cde6c_row10_col5\" class=\"data row10 col5\" >0.3534</td>\n",
       "      <td id=\"T_cde6c_row10_col6\" class=\"data row10 col6\" >2.0098</td>\n",
       "      <td id=\"T_cde6c_row10_col7\" class=\"data row10 col7\" >0.0150</td>\n",
       "    </tr>\n",
       "    <tr>\n",
       "      <th id=\"T_cde6c_level0_row11\" class=\"row_heading level0 row11\" >par</th>\n",
       "      <td id=\"T_cde6c_row11_col0\" class=\"data row11 col0\" >Passive Aggressive Regressor</td>\n",
       "      <td id=\"T_cde6c_row11_col1\" class=\"data row11 col1\" >0.5212</td>\n",
       "      <td id=\"T_cde6c_row11_col2\" class=\"data row11 col2\" >1.5607</td>\n",
       "      <td id=\"T_cde6c_row11_col3\" class=\"data row11 col3\" >1.0469</td>\n",
       "      <td id=\"T_cde6c_row11_col4\" class=\"data row11 col4\" >-0.0084</td>\n",
       "      <td id=\"T_cde6c_row11_col5\" class=\"data row11 col5\" >0.3270</td>\n",
       "      <td id=\"T_cde6c_row11_col6\" class=\"data row11 col6\" >2.9816</td>\n",
       "      <td id=\"T_cde6c_row11_col7\" class=\"data row11 col7\" >0.0100</td>\n",
       "    </tr>\n",
       "    <tr>\n",
       "      <th id=\"T_cde6c_level0_row12\" class=\"row_heading level0 row12\" >dummy</th>\n",
       "      <td id=\"T_cde6c_row12_col0\" class=\"data row12 col0\" >Dummy Regressor</td>\n",
       "      <td id=\"T_cde6c_row12_col1\" class=\"data row12 col1\" >0.3988</td>\n",
       "      <td id=\"T_cde6c_row12_col2\" class=\"data row12 col2\" >1.5817</td>\n",
       "      <td id=\"T_cde6c_row12_col3\" class=\"data row12 col3\" >1.0556</td>\n",
       "      <td id=\"T_cde6c_row12_col4\" class=\"data row12 col4\" >-0.0334</td>\n",
       "      <td id=\"T_cde6c_row12_col5\" class=\"data row12 col5\" >0.3597</td>\n",
       "      <td id=\"T_cde6c_row12_col6\" class=\"data row12 col6\" >1.3724</td>\n",
       "      <td id=\"T_cde6c_row12_col7\" class=\"data row12 col7\" >0.0050</td>\n",
       "    </tr>\n",
       "    <tr>\n",
       "      <th id=\"T_cde6c_level0_row13\" class=\"row_heading level0 row13\" >br</th>\n",
       "      <td id=\"T_cde6c_row13_col0\" class=\"data row13 col0\" >Bayesian Ridge</td>\n",
       "      <td id=\"T_cde6c_row13_col1\" class=\"data row13 col1\" >0.3839</td>\n",
       "      <td id=\"T_cde6c_row13_col2\" class=\"data row13 col2\" >1.0400</td>\n",
       "      <td id=\"T_cde6c_row13_col3\" class=\"data row13 col3\" >0.9076</td>\n",
       "      <td id=\"T_cde6c_row13_col4\" class=\"data row13 col4\" >-0.0586</td>\n",
       "      <td id=\"T_cde6c_row13_col5\" class=\"data row13 col5\" >0.2445</td>\n",
       "      <td id=\"T_cde6c_row13_col6\" class=\"data row13 col6\" >3.9228</td>\n",
       "      <td id=\"T_cde6c_row13_col7\" class=\"data row13 col7\" >0.0050</td>\n",
       "    </tr>\n",
       "    <tr>\n",
       "      <th id=\"T_cde6c_level0_row14\" class=\"row_heading level0 row14\" >ridge</th>\n",
       "      <td id=\"T_cde6c_row14_col0\" class=\"data row14 col0\" >Ridge Regression</td>\n",
       "      <td id=\"T_cde6c_row14_col1\" class=\"data row14 col1\" >0.3887</td>\n",
       "      <td id=\"T_cde6c_row14_col2\" class=\"data row14 col2\" >1.0272</td>\n",
       "      <td id=\"T_cde6c_row14_col3\" class=\"data row14 col3\" >0.9060</td>\n",
       "      <td id=\"T_cde6c_row14_col4\" class=\"data row14 col4\" >-0.0836</td>\n",
       "      <td id=\"T_cde6c_row14_col5\" class=\"data row14 col5\" >0.2440</td>\n",
       "      <td id=\"T_cde6c_row14_col6\" class=\"data row14 col6\" >4.0316</td>\n",
       "      <td id=\"T_cde6c_row14_col7\" class=\"data row14 col7\" >0.0050</td>\n",
       "    </tr>\n",
       "    <tr>\n",
       "      <th id=\"T_cde6c_level0_row15\" class=\"row_heading level0 row15\" >lr</th>\n",
       "      <td id=\"T_cde6c_row15_col0\" class=\"data row15 col0\" >Linear Regression</td>\n",
       "      <td id=\"T_cde6c_row15_col1\" class=\"data row15 col1\" >0.3917</td>\n",
       "      <td id=\"T_cde6c_row15_col2\" class=\"data row15 col2\" >1.0108</td>\n",
       "      <td id=\"T_cde6c_row15_col3\" class=\"data row15 col3\" >0.9012</td>\n",
       "      <td id=\"T_cde6c_row15_col4\" class=\"data row15 col4\" >-0.0908</td>\n",
       "      <td id=\"T_cde6c_row15_col5\" class=\"data row15 col5\" >0.2423</td>\n",
       "      <td id=\"T_cde6c_row15_col6\" class=\"data row15 col6\" >4.0857</td>\n",
       "      <td id=\"T_cde6c_row15_col7\" class=\"data row15 col7\" >0.0050</td>\n",
       "    </tr>\n",
       "    <tr>\n",
       "      <th id=\"T_cde6c_level0_row16\" class=\"row_heading level0 row16\" >lar</th>\n",
       "      <td id=\"T_cde6c_row16_col0\" class=\"data row16 col0\" >Least Angle Regression</td>\n",
       "      <td id=\"T_cde6c_row16_col1\" class=\"data row16 col1\" >0.3917</td>\n",
       "      <td id=\"T_cde6c_row16_col2\" class=\"data row16 col2\" >1.0108</td>\n",
       "      <td id=\"T_cde6c_row16_col3\" class=\"data row16 col3\" >0.9012</td>\n",
       "      <td id=\"T_cde6c_row16_col4\" class=\"data row16 col4\" >-0.0908</td>\n",
       "      <td id=\"T_cde6c_row16_col5\" class=\"data row16 col5\" >0.2423</td>\n",
       "      <td id=\"T_cde6c_row16_col6\" class=\"data row16 col6\" >4.0857</td>\n",
       "      <td id=\"T_cde6c_row16_col7\" class=\"data row16 col7\" >0.0100</td>\n",
       "    </tr>\n",
       "    <tr>\n",
       "      <th id=\"T_cde6c_level0_row17\" class=\"row_heading level0 row17\" >lightgbm</th>\n",
       "      <td id=\"T_cde6c_row17_col0\" class=\"data row17 col0\" >Light Gradient Boosting Machine</td>\n",
       "      <td id=\"T_cde6c_row17_col1\" class=\"data row17 col1\" >0.3807</td>\n",
       "      <td id=\"T_cde6c_row17_col2\" class=\"data row17 col2\" >1.5431</td>\n",
       "      <td id=\"T_cde6c_row17_col3\" class=\"data row17 col3\" >1.0835</td>\n",
       "      <td id=\"T_cde6c_row17_col4\" class=\"data row17 col4\" >-0.3392</td>\n",
       "      <td id=\"T_cde6c_row17_col5\" class=\"data row17 col5\" >0.3472</td>\n",
       "      <td id=\"T_cde6c_row17_col6\" class=\"data row17 col6\" >3.8163</td>\n",
       "      <td id=\"T_cde6c_row17_col7\" class=\"data row17 col7\" >0.1050</td>\n",
       "    </tr>\n",
       "  </tbody>\n",
       "</table>\n"
      ],
      "text/plain": [
       "<pandas.io.formats.style.Styler at 0x16ccea5a590>"
      ]
     },
     "metadata": {},
     "output_type": "display_data"
    },
    {
     "data": {
      "text/html": [],
      "text/plain": [
       "<IPython.core.display.HTML object>"
      ]
     },
     "metadata": {},
     "output_type": "display_data"
    }
   ],
   "source": [
    "best_auto = compare_models()\n",
    "# Se comparan los modelos y se tiene que K-Neighbors regressor es el que mejor puede llegar a predecir \n",
    "# el PIB de un pais segun las variables de entrada que este tenga"
   ]
  },
  {
   "cell_type": "code",
   "execution_count": 46,
   "metadata": {},
   "outputs": [
    {
     "data": {
      "application/vnd.jupyter.widget-view+json": {
       "model_id": "16fe0b3915f14d4690ff368f610cd905",
       "version_major": 2,
       "version_minor": 0
      },
      "text/plain": [
       "interactive(children=(ToggleButtons(description='Plot Type:', icons=('',), options=(('Pipeline Plot', 'pipelin…"
      ]
     },
     "metadata": {},
     "output_type": "display_data"
    }
   ],
   "source": [
    "evaluate_model(best_auto)\n",
    "# Se evalua el modelo mostando como Pycaret configura hiperparametros, calcula los residos, hace seleccion de caracteristicas etc."
   ]
  }
 ],
 "metadata": {
  "kernelspec": {
   "display_name": "Python 3",
   "language": "python",
   "name": "python3"
  },
  "language_info": {
   "codemirror_mode": {
    "name": "ipython",
    "version": 3
   },
   "file_extension": ".py",
   "mimetype": "text/x-python",
   "name": "python",
   "nbconvert_exporter": "python",
   "pygments_lexer": "ipython3",
   "version": "3.10.13"
  }
 },
 "nbformat": 4,
 "nbformat_minor": 2
}
